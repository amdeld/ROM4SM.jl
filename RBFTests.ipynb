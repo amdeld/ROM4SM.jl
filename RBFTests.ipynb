{
 "cells": [
  {
   "cell_type": "code",
   "execution_count": 1,
   "metadata": {},
   "outputs": [
    {
     "data": {
      "text/plain": [
       "2×9 Array{Int64,2}:\n",
       " 1  2  3  1  2  3  1  2  3\n",
       " 1  1  1  2  2  2  3  3  3"
      ]
     },
     "execution_count": 1,
     "metadata": {},
     "output_type": "execute_result"
    }
   ],
   "source": [
    "X=[1 2 3 1 2 3 1 2 3;1 1 1 2 2 2 3 3 3]"
   ]
  },
  {
   "cell_type": "code",
   "execution_count": 13,
   "metadata": {},
   "outputs": [
    {
     "data": {
      "text/plain": [
       "3"
      ]
     },
     "execution_count": 13,
     "metadata": {},
     "output_type": "execute_result"
    }
   ],
   "source": [
    "X[:,3][1]"
   ]
  },
  {
   "cell_type": "code",
   "execution_count": 2,
   "metadata": {},
   "outputs": [
    {
     "data": {
      "text/plain": [
       "f (generic function with 1 method)"
      ]
     },
     "execution_count": 2,
     "metadata": {},
     "output_type": "execute_result"
    }
   ],
   "source": [
    "f(x)=[sqrt(x[1]), x[2]^2, x[1]+x[2]]"
   ]
  },
  {
   "cell_type": "code",
   "execution_count": 3,
   "metadata": {},
   "outputs": [
    {
     "data": {
      "text/plain": [
       "3×9 Array{Float64,2}:\n",
       " 1.0  1.41421  1.73205  1.0  1.41421  1.73205  1.0  1.41421  1.73205\n",
       " 1.0  1.0      1.0      4.0  4.0      4.0      9.0  9.0      9.0\n",
       " 2.0  3.0      4.0      3.0  4.0      5.0      4.0  5.0      6.0"
      ]
     },
     "execution_count": 3,
     "metadata": {},
     "output_type": "execute_result"
    }
   ],
   "source": [
    "Y=zeros(3,9)\n",
    "for i in 1:9\n",
    "    Y[:,i]=f(X[:,i])\n",
    "end\n",
    "Y"
   ]
  },
  {
   "cell_type": "markdown",
   "metadata": {},
   "source": [
    "## Choice of two types of Radial Basis Function :\n",
    "* Linear spline (G1)\n",
    "* Cubic spline (G2)"
   ]
  },
  {
   "cell_type": "code",
   "execution_count": 16,
   "metadata": {},
   "outputs": [
    {
     "data": {
      "text/plain": [
       "9×9 Array{Float64,2}:\n",
       " 0.0      1.0      2.0      1.0      …  2.23607  2.0      2.23607  2.82843\n",
       " 1.0      0.0      1.0      1.41421     1.41421  2.23607  2.0      2.23607\n",
       " 2.0      1.0      0.0      2.23607     1.0      2.82843  2.23607  2.0\n",
       " 1.0      1.41421  2.23607  0.0         2.0      1.0      1.41421  2.23607\n",
       " 1.41421  1.0      1.41421  1.0         1.0      1.41421  1.0      1.41421\n",
       " 2.23607  1.41421  1.0      2.0      …  0.0      2.23607  1.41421  1.0\n",
       " 2.0      2.23607  2.82843  1.0         2.23607  0.0      1.0      2.0\n",
       " 2.23607  2.0      2.23607  1.41421     1.41421  1.0      0.0      1.0\n",
       " 2.82843  2.23607  2.0      2.23607     1.0      2.0      1.0      0.0"
      ]
     },
     "execution_count": 16,
     "metadata": {},
     "output_type": "execute_result"
    }
   ],
   "source": [
    "G1=zeros(9,9)\n",
    "for i in 1:9\n",
    "    for j in 1:9\n",
    "    G1[i,j]=sqrt((X[:,i][1]-X[:,j][1])^2+(X[:,i][2]-X[:,j][2])^2)\n",
    "    end\n",
    "end\n",
    "G1"
   ]
  },
  {
   "cell_type": "code",
   "execution_count": 17,
   "metadata": {},
   "outputs": [
    {
     "data": {
      "text/plain": [
       "9×9 Array{Float64,2}:\n",
       "  0.0       1.0       8.0       1.0      …   8.0      11.1803   22.6274\n",
       "  1.0       0.0       1.0       2.82843     11.1803    8.0      11.1803\n",
       "  8.0       1.0       0.0      11.1803      22.6274   11.1803    8.0\n",
       "  1.0       2.82843  11.1803    0.0          1.0       2.82843  11.1803\n",
       "  2.82843   1.0       2.82843   1.0          2.82843   1.0       2.82843\n",
       " 11.1803    2.82843   1.0       8.0      …  11.1803    2.82843   1.0\n",
       "  8.0      11.1803   22.6274    1.0          0.0       1.0       8.0\n",
       " 11.1803    8.0      11.1803    2.82843      1.0       0.0       1.0\n",
       " 22.6274   11.1803    8.0      11.1803       8.0       1.0       0.0"
      ]
     },
     "execution_count": 17,
     "metadata": {},
     "output_type": "execute_result"
    }
   ],
   "source": [
    "G2=zeros(9,9)\n",
    "for i in 1:9\n",
    "    for j in 1:9\n",
    "    G2[i,j]=sqrt((X[:,i][1]-X[:,j][1])^2+(X[:,i][2]-X[:,j][2])^2)^3\n",
    "    end\n",
    "end\n",
    "G2"
   ]
  },
  {
   "cell_type": "code",
   "execution_count": null,
   "metadata": {},
   "outputs": [],
   "source": []
  }
 ],
 "metadata": {
  "kernelspec": {
   "display_name": "Julia 1.5.0",
   "language": "julia",
   "name": "julia-1.5"
  },
  "language_info": {
   "file_extension": ".jl",
   "mimetype": "application/julia",
   "name": "julia",
   "version": "1.5.0"
  }
 },
 "nbformat": 4,
 "nbformat_minor": 4
}
