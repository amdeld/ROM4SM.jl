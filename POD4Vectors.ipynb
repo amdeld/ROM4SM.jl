{
 "cells": [
  {
   "cell_type": "markdown",
   "metadata": {},
   "source": [
    "# Discrete proper orthogonal decomposition (POD) of a set of vectors \n",
    "Inspired from Buljak, V. (2012). "
   ]
  },
  {
   "cell_type": "markdown",
   "metadata": {},
   "source": [
    "# Correlated and Uncorrelated Vectors and reduction of dimensionality in the correlated data\n",
    "<img src=\"https://raw.githubusercontent.com/amdeld/ROM4SM.jl/master/img/Vectors.png\" alt=\"Drawing\" style=\"width: 500px;\"/>\n"
   ]
  },
  {
   "cell_type": "markdown",
   "metadata": {},
   "source": [
    "# Data matrix (snapshots)\n",
    "$Y=\\left[\\begin{array}{cccc}\n",
    "| & | & | & |\\\\\n",
    "y_{1} & y_{2} & y_{3} & y_{4}\\\\\n",
    "| & | & | & |\n",
    "\\end{array}\\right]$"
   ]
  },
  {
   "cell_type": "code",
   "execution_count": 1,
   "metadata": {},
   "outputs": [
    {
     "name": "stdout",
     "output_type": "stream",
     "text": [
      "Data matrix \n",
      "Y =\n"
     ]
    },
    {
     "data": {
      "text/plain": [
       "3×4 Array{Int64,2}:\n",
       " 1  5  3  3\n",
       " 1  4  4  3\n",
       " 1  5  5  4"
      ]
     },
     "execution_count": 1,
     "metadata": {},
     "output_type": "execute_result"
    }
   ],
   "source": [
    "#= Consider a set of four 3D dimensional vectors \n",
    "collected in a matrix of dim (3x4) U=[u1 u2 u3 u4] =#\n",
    "using LinearAlgebra\n",
    "Y=[1 5 3 3;1 4 4 3;1 5 5 4]\n",
    "println(\"\\rData matrix \\nY =\\r\")\n",
    "Y"
   ]
  },
  {
   "cell_type": "markdown",
   "metadata": {},
   "source": [
    "## Galerkin Projection\n",
    "$Y= ΦA$ or $y_{i}=\\sum_{n=1}^{K} a_{ij}.\\phi_j $\n",
    "\n",
    "<img src=\"https://raw.githubusercontent.com/amdeld/ROM4SM.jl/master/img/Projection.png\" alt=\"Drawing\" style=\"width: 500px;\"/>"
   ]
  },
  {
   "cell_type": "markdown",
   "metadata": {},
   "source": [
    "# Eigen decomposition of the covariance matrix"
   ]
  },
  {
   "cell_type": "code",
   "execution_count": 2,
   "metadata": {},
   "outputs": [
    {
     "name": "stdout",
     "output_type": "stream",
     "text": [
      "Covariance matrix \n",
      "C =\n"
     ]
    },
    {
     "data": {
      "text/plain": [
       "3×3 Array{Int64,2}:\n",
       " 44  42  53\n",
       " 42  42  53\n",
       " 53  53  67"
      ]
     },
     "execution_count": 2,
     "metadata": {},
     "output_type": "execute_result"
    }
   ],
   "source": [
    "# Calculate The Covariance matrix C (Y*Y') (3x3)\n",
    "C=Y*Y'\n",
    "println(\"\\rCovariance matrix \\nC =\\r\")\n",
    "C"
   ]
  },
  {
   "cell_type": "code",
   "execution_count": 3,
   "metadata": {},
   "outputs": [
    {
     "name": "stdout",
     "output_type": "stream",
     "text": [
      "Eigenvalues vector \n",
      "λ =\n"
     ]
    },
    {
     "data": {
      "text/plain": [
       "3-element Array{Float64,1}:\n",
       "   0.04523218365917327\n",
       "   1.4593278977198334\n",
       " 151.49543991862072"
      ]
     },
     "execution_count": 3,
     "metadata": {},
     "output_type": "execute_result"
    }
   ],
   "source": [
    "# Calculate the eigenvalues λ =(λ1,λ2,λ3) of C\n",
    "F=eigen(C)\n",
    "λ=F.values\n",
    "println(\"\\rEigenvalues vector \\nλ =\\r\")\n",
    "λ"
   ]
  },
  {
   "cell_type": "code",
   "execution_count": 4,
   "metadata": {},
   "outputs": [
    {
     "name": "stdout",
     "output_type": "stream",
     "text": [
      "Eigenvectors matrix \n",
      "ϕ=\n"
     ]
    },
    {
     "data": {
      "text/plain": [
       "3×3 Array{Float64,2}:\n",
       "  0.0183021  -0.846242  -0.532484\n",
       " -0.790948    0.313528  -0.525454\n",
       "  0.61161     0.430784  -0.663595"
      ]
     },
     "execution_count": 4,
     "metadata": {},
     "output_type": "execute_result"
    }
   ],
   "source": [
    "# Calculate the eigenvectors ϕ=[ϕ1 ϕ2 ϕ3] of C\n",
    "ϕ=F.vectors\n",
    "println(\"\\rEigenvectors matrix \\nϕ=\\r\")\n",
    "ϕ"
   ]
  },
  {
   "cell_type": "markdown",
   "metadata": {},
   "source": [
    " The $\\phi$ matrix is unitary ( $\\phi\\phi^{*} = I$ )"
   ]
  },
  {
   "cell_type": "code",
   "execution_count": 5,
   "metadata": {},
   "outputs": [
    {
     "data": {
      "text/plain": [
       "3×3 Array{Float64,2}:\n",
       "  1.0          -5.55112e-17  1.66533e-16\n",
       " -5.55112e-17   1.0          0.0\n",
       "  1.66533e-16   0.0          1.0"
      ]
     },
     "execution_count": 5,
     "metadata": {},
     "output_type": "execute_result"
    }
   ],
   "source": [
    "ϕ*ϕ'"
   ]
  },
  {
   "cell_type": "code",
   "execution_count": 6,
   "metadata": {},
   "outputs": [
    {
     "name": "stdout",
     "output_type": "stream",
     "text": [
      "Amplitude matrix \n",
      "A=\n"
     ]
    },
    {
     "data": {
      "text/plain": [
       "3×4 Array{Float64,2}:\n",
       " -0.161035  -0.0142295  -0.0508336   0.128504\n",
       " -0.101931  -0.82318     0.869304    0.124992\n",
       " -1.72153   -8.08221    -7.01724    -5.8282"
      ]
     },
     "execution_count": 6,
     "metadata": {},
     "output_type": "execute_result"
    }
   ],
   "source": [
    "#Calculate the Amplitude matrix A = ϕ'*Y (3x4)\n",
    "A=ϕ'*Y\n",
    "println(\"\\rAmplitude matrix \\nA=\\r\")\n",
    "A"
   ]
  },
  {
   "cell_type": "code",
   "execution_count": 7,
   "metadata": {},
   "outputs": [
    {
     "name": "stdout",
     "output_type": "stream",
     "text": [
      "Y=ϕ*A\n"
     ]
    },
    {
     "data": {
      "text/plain": [
       "3×4 Array{Float64,2}:\n",
       " 1.0  5.0  3.0  3.0\n",
       " 1.0  4.0  4.0  3.0\n",
       " 1.0  5.0  5.0  4.0"
      ]
     },
     "execution_count": 7,
     "metadata": {},
     "output_type": "execute_result"
    }
   ],
   "source": [
    "#Check that Y=ϕ*A\n",
    "Y=ϕ*A\n",
    "println(\"\\rY=ϕ*A\\r\")\n",
    "Y"
   ]
  },
  {
   "cell_type": "markdown",
   "metadata": {},
   "source": [
    "## Reconstruction"
   ]
  },
  {
   "cell_type": "code",
   "execution_count": 8,
   "metadata": {},
   "outputs": [
    {
     "name": "stdout",
     "output_type": "stream",
     "text": [
      "Ỹ3=\n"
     ]
    },
    {
     "data": {
      "text/plain": [
       "3×4 Array{Float64,2}:\n",
       " 0.916689  4.30365  3.73657  3.10342\n",
       " 0.904587  4.24683  3.68724  3.06245\n",
       " 1.1424    5.36332  4.65661  3.86756"
      ]
     },
     "execution_count": 8,
     "metadata": {},
     "output_type": "execute_result"
    }
   ],
   "source": [
    "#Keep the last direction and amplitude      U ≈ Ỹ3=ϕ3*A3\n",
    "println(\"\\rỸ3=\\r\")\n",
    "Ỹ3=ϕ[:,3]*A[3,:]'\n",
    "Ỹ3"
   ]
  },
  {
   "cell_type": "code",
   "execution_count": null,
   "metadata": {},
   "outputs": [],
   "source": [
    "#= u1=A[3,:][1]*Φ[:,3]\n",
    "u2=A[3,:][2]*Φ[:,3]\n",
    "u3=A[3,:][3]*Φ[:,3]\n",
    "u4=A[3,:][4]*Φ[:,3]\n",
    "show(u1);\n",
    "show(u2);\n",
    "show(u3);\n",
    "show(u4) =#"
   ]
  },
  {
   "cell_type": "code",
   "execution_count": 9,
   "metadata": {},
   "outputs": [
    {
     "name": "stdout",
     "output_type": "stream",
     "text": [
      "Ỹ23=\n"
     ]
    },
    {
     "data": {
      "text/plain": [
       "3×4 Array{Float64,2}:\n",
       " 1.00295   5.00026  3.00093  2.99765\n",
       " 0.872629  3.98875  3.95979  3.10164\n",
       " 1.09849   5.0087   5.03109  3.92141"
      ]
     },
     "execution_count": 9,
     "metadata": {},
     "output_type": "execute_result"
    }
   ],
   "source": [
    "#Keep the two last directions and amplitudes Y ≈ Ỹ23=ϕ2:3*A2:3\n",
    "println(\"\\rỸ23=\\r\")\n",
    "Ỹ23=ϕ[:,2:3]*A[2:3,:]\n",
    "Ỹ23"
   ]
  },
  {
   "cell_type": "markdown",
   "metadata": {},
   "source": [
    "# Singular Value Decomposition of the snapshot-data matrix\n",
    "## Calculate the SVD of Y"
   ]
  },
  {
   "cell_type": "code",
   "execution_count": 11,
   "metadata": {},
   "outputs": [
    {
     "name": "stdout",
     "output_type": "stream",
     "text": [
      "SVD decomposition =\n"
     ]
    },
    {
     "data": {
      "text/plain": [
       "SVD{Float64,Float64,Array{Float64,2}}\n",
       "U factor:\n",
       "3×3 Array{Float64,2}:\n",
       " -0.532484  -0.846242   0.0183021\n",
       " -0.525454   0.313528  -0.790948\n",
       " -0.663595   0.430784   0.61161\n",
       "singular values:\n",
       "3-element Array{Float64,1}:\n",
       " 12.308348383053714\n",
       "  1.2080264474422024\n",
       "  0.2126785923857779\n",
       "Vt factor:\n",
       "3×4 Array{Float64,2}:\n",
       " -0.139867   -0.656645   -0.570121  -0.473516\n",
       " -0.0843778  -0.681426    0.719607   0.103468\n",
       " -0.757177   -0.0669061  -0.239016   0.604216"
      ]
     },
     "execution_count": 11,
     "metadata": {},
     "output_type": "execute_result"
    }
   ],
   "source": [
    "Z=svd(Y)\n",
    "println(\"\\rSVD decomposition =\\r\")\n",
    "Z"
   ]
  },
  {
   "cell_type": "markdown",
   "metadata": {},
   "source": [
    "## Reduction and Reconstruction"
   ]
  },
  {
   "cell_type": "code",
   "execution_count": 14,
   "metadata": {},
   "outputs": [
    {
     "name": "stdout",
     "output_type": "stream",
     "text": [
      "Ỹ1 based on the first and most energetic mode\n",
      "Ỹ1=\n"
     ]
    },
    {
     "data": {
      "text/plain": [
       "3×4 Array{Float64,2}:\n",
       " 0.916689  4.30365  3.73657  3.10342\n",
       " 0.904587  4.24683  3.68724  3.06245\n",
       " 1.1424    5.36332  4.65661  3.86756"
      ]
     },
     "execution_count": 14,
     "metadata": {},
     "output_type": "execute_result"
    }
   ],
   "source": [
    "println(\"\\rỸ1 based on the first and most energetic mode\\r\")\n",
    "Ỹ1=(Z.U[:,1]*Z.S[1])*Z.Vt[1,:]'\n",
    "println(\"\\rỸ1=\\r\")\n",
    "Ỹ1"
   ]
  },
  {
   "cell_type": "code",
   "execution_count": 15,
   "metadata": {},
   "outputs": [
    {
     "name": "stdout",
     "output_type": "stream",
     "text": [
      "Ỹ12 based on the two first and most energetic modes\n",
      "Ỹ12=\n"
     ]
    },
    {
     "data": {
      "text/plain": [
       "3×4 Array{Float64,2}:\n",
       " 1.00295   5.00026  3.00093  2.99765\n",
       " 0.872629  3.98875  3.95979  3.10164\n",
       " 1.09849   5.0087   5.03109  3.92141"
      ]
     },
     "execution_count": 15,
     "metadata": {},
     "output_type": "execute_result"
    }
   ],
   "source": [
    "println(\"\\rỸ12 based on the two first and most energetic modes\\r\")\n",
    "Ỹ12=(Z.U[:,1]*Z.S[1])*Z.Vt[1,:]'+(Z.U[:,2]*Z.S[2])*Z.Vt[2,:]'\n",
    "println(\"\\rỸ12=\\r\")\n",
    "Ỹ12"
   ]
  },
  {
   "cell_type": "code",
   "execution_count": null,
   "metadata": {},
   "outputs": [],
   "source": []
  }
 ],
 "metadata": {
  "kernelspec": {
   "display_name": "Julia 1.5.0",
   "language": "julia",
   "name": "julia-1.5"
  },
  "language_info": {
   "file_extension": ".jl",
   "mimetype": "application/julia",
   "name": "julia",
   "version": "1.5.0"
  }
 },
 "nbformat": 4,
 "nbformat_minor": 4
}
