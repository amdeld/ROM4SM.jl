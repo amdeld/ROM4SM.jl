{
 "cells": [
  {
   "cell_type": "markdown",
   "metadata": {},
   "source": [
    "inspired from Kutz, J. N., Brunton, S. L., Brunton, B. W., & Proctor, J. L. (2016). Dynamic Mode Decomposition. In Dynamic Mode Decomposition. https://doi.org/10.1137/1.9781611974508"
   ]
  },
  {
   "cell_type": "code",
   "execution_count": 1,
   "metadata": {},
   "outputs": [],
   "source": [
    "using MAT"
   ]
  },
  {
   "cell_type": "code",
   "execution_count": 11,
   "metadata": {},
   "outputs": [],
   "source": [
    "cd(\"C:\\\\Temp\\\\DATA\\\\FLUIDS\");"
   ]
  },
  {
   "cell_type": "code",
   "execution_count": 3,
   "metadata": {},
   "outputs": [
    {
     "data": {
      "text/plain": [
       "\"D:\\\\Users\\\\Administrator\\\\Desktop\\\\AD\\\\Research\\\\DDSE\\\\CODE\\\\CH02_FLUIDS\""
      ]
     },
     "execution_count": 3,
     "metadata": {},
     "output_type": "execute_result"
    }
   ],
   "source": [
    "pwd()"
   ]
  },
  {
   "cell_type": "code",
   "execution_count": 4,
   "metadata": {},
   "outputs": [
    {
     "data": {
      "text/plain": [
       "8-element Array{String,1}:\n",
       " \".DS_Store\"\n",
       " \"CCcool.mat\"\n",
       " \"README.txt\"\n",
       " \"computeDMD.m\"\n",
       " \"computePOD.m\"\n",
       " \"loadDATA.m\"\n",
       " \"loadIBPM.m\"\n",
       " \"plotCylinder.m\""
      ]
     },
     "execution_count": 4,
     "metadata": {},
     "output_type": "execute_result"
    }
   ],
   "source": [
    "readdir()"
   ]
  },
  {
   "cell_type": "code",
   "execution_count": 7,
   "metadata": {},
   "outputs": [
    {
     "ename": "LoadError",
     "evalue": "File \"..\\CYLINDER_ALL.mat\" does not exist and create was not specified",
     "output_type": "error",
     "traceback": [
      "File \"..\\CYLINDER_ALL.mat\" does not exist and create was not specified",
      "",
      "Stacktrace:",
      " [1] error(::String) at .\\error.jl:33",
      " [2] matopen(::String, ::Bool, ::Bool, ::Bool, ::Bool, ::Bool, ::Bool) at D:\\Users\\Administrator\\.julia\\packages\\MAT\\5SDtD\\src\\MAT.jl:44",
      " [3] matopen(::String, ::String; compress::Bool) at D:\\Users\\Administrator\\.julia\\packages\\MAT\\5SDtD\\src\\MAT.jl:88",
      " [4] matopen at D:\\Users\\Administrator\\.julia\\packages\\MAT\\5SDtD\\src\\MAT.jl:88 [inlined]",
      " [5] #matopen#2 at D:\\Users\\Administrator\\.julia\\packages\\MAT\\5SDtD\\src\\MAT.jl:97 [inlined]",
      " [6] matopen at D:\\Users\\Administrator\\.julia\\packages\\MAT\\5SDtD\\src\\MAT.jl:97 [inlined]",
      " [7] matread(::String) at D:\\Users\\Administrator\\.julia\\packages\\MAT\\5SDtD\\src\\MAT.jl:130",
      " [8] top-level scope at In[7]:1",
      " [9] include_string(::Function, ::Module, ::String, ::String) at .\\loading.jl:1091",
      " [10] execute_code(::String, ::String) at D:\\Users\\Administrator\\.julia\\packages\\IJulia\\rWZ9e\\src\\execute_request.jl:27",
      " [11] execute_request(::ZMQ.Socket, ::IJulia.Msg) at D:\\Users\\Administrator\\.julia\\packages\\IJulia\\rWZ9e\\src\\execute_request.jl:86",
      " [12] #invokelatest#1 at .\\essentials.jl:710 [inlined]",
      " [13] invokelatest at .\\essentials.jl:709 [inlined]",
      " [14] eventloop(::ZMQ.Socket) at D:\\Users\\Administrator\\.julia\\packages\\IJulia\\rWZ9e\\src\\eventloop.jl:8",
      " [15] (::IJulia.var\"#15#18\")() at .\\task.jl:356"
     ]
    }
   ],
   "source": [
    "matdata = matread(\"..\\\\CYLINDER_ALL.mat\")"
   ]
  },
  {
   "cell_type": "code",
   "execution_count": 6,
   "metadata": {},
   "outputs": [
    {
     "ename": "LoadError",
     "evalue": "UndefVarError: matdata not defined",
     "output_type": "error",
     "traceback": [
      "UndefVarError: matdata not defined",
      "",
      "Stacktrace:",
      " [1] top-level scope at In[6]:1",
      " [2] include_string(::Function, ::Module, ::String, ::String) at .\\loading.jl:1091",
      " [3] execute_code(::String, ::String) at D:\\Users\\Administrator\\.julia\\packages\\IJulia\\rWZ9e\\src\\execute_request.jl:27",
      " [4] execute_request(::ZMQ.Socket, ::IJulia.Msg) at D:\\Users\\Administrator\\.julia\\packages\\IJulia\\rWZ9e\\src\\execute_request.jl:86",
      " [5] #invokelatest#1 at .\\essentials.jl:710 [inlined]",
      " [6] invokelatest at .\\essentials.jl:709 [inlined]",
      " [7] eventloop(::ZMQ.Socket) at D:\\Users\\Administrator\\.julia\\packages\\IJulia\\rWZ9e\\src\\eventloop.jl:8",
      " [8] (::IJulia.var\"#15#18\")() at .\\task.jl:356"
     ]
    }
   ],
   "source": [
    "Y=matdata[\"VORTALL\"]"
   ]
  },
  {
   "cell_type": "code",
   "execution_count": null,
   "metadata": {},
   "outputs": [],
   "source": []
  }
 ],
 "metadata": {
  "kernelspec": {
   "display_name": "Julia 1.5.3",
   "language": "julia",
   "name": "julia-1.5"
  },
  "language_info": {
   "file_extension": ".jl",
   "mimetype": "application/julia",
   "name": "julia",
   "version": "1.5.3"
  }
 },
 "nbformat": 4,
 "nbformat_minor": 4
}
