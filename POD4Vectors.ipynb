{
 "cells": [
  {
   "cell_type": "markdown",
   "metadata": {},
   "source": [
    "# Discrete proper orthogonal decomposition (POD) of a set of vectors \n",
    "Inspired from Buljak, V. (2012). "
   ]
  },
  {
   "cell_type": "markdown",
   "metadata": {},
   "source": [
    "# Correlated and Uncorrelated Vectors and reduction of dimensionality in the correlated data\n",
    "<img src=\"https://raw.githubusercontent.com/amdeld/ROM4SM.jl/master/img/Vectors.png\" alt=\"Drawing\" style=\"width: 500px;\"/>\n"
   ]
  },
  {
   "cell_type": "markdown",
   "metadata": {},
   "source": [
    "# Data matrix (snapshots)\n",
    "$Y=\\left[\\begin{array}{cccc}\n",
    "| & | & | & |\\\\\n",
    "y_{1} & y_{2} & y_{3} & y_{4}\\\\\n",
    "| & | & | & |\n",
    "\\end{array}\\right]$"
   ]
  },
  {
   "cell_type": "code",
   "execution_count": 1,
   "metadata": {},
   "outputs": [
    {
     "name": "stdout",
     "output_type": "stream",
     "text": [
      "Data matrix Y =\n"
     ]
    },
    {
     "data": {
      "text/plain": [
       "3×4 Matrix{Int64}:\n",
       " 1  5  3  3\n",
       " 1  4  4  3\n",
       " 1  5  5  4"
      ]
     },
     "execution_count": 1,
     "metadata": {},
     "output_type": "execute_result"
    }
   ],
   "source": [
    "#= Consider a set of four 3D dimensional vectors \n",
    "collected in a matrix of dim (3x4) Y=[y1 y2 y3 y4] =#\n",
    "using LinearAlgebra\n",
    "println(\"Data matrix Y =\")\n",
    "Y = [1 5 3 3; 1 4 4 3; 1 5 5 4]"
   ]
  },
  {
   "cell_type": "markdown",
   "metadata": {},
   "source": [
    "## Galerkin Projection\n",
    "$Y= ΦA$ or $y_{i}=\\sum_{n=1}^{K} a_{ij}.\\phi_j $\n",
    "\n",
    "<img src=\"https://raw.githubusercontent.com/amdeld/ROM4SM.jl/master/img/Projection.png\" alt=\"Drawing\" style=\"width: 500px;\"/>"
   ]
  },
  {
   "cell_type": "markdown",
   "metadata": {},
   "source": [
    "## 1. Construction of the POD basis via the covariance matrix approach "
   ]
  },
  {
   "cell_type": "code",
   "execution_count": 2,
   "metadata": {},
   "outputs": [
    {
     "name": "stdout",
     "output_type": "stream",
     "text": [
      "Covariance matrix C =\n"
     ]
    },
    {
     "data": {
      "text/plain": [
       "3×3 Matrix{Int64}:\n",
       " 44  42  53\n",
       " 42  42  53\n",
       " 53  53  67"
      ]
     },
     "execution_count": 2,
     "metadata": {},
     "output_type": "execute_result"
    }
   ],
   "source": [
    "# Calculate The Covariance matrix C (Y*Y') (3x3)\n",
    "println(\"Covariance matrix C =\")\n",
    "C = Y * Y'"
   ]
  },
  {
   "cell_type": "code",
   "execution_count": 3,
   "metadata": {},
   "outputs": [
    {
     "name": "stdout",
     "output_type": "stream",
     "text": [
      "Eigenvalues vector λ =\n"
     ]
    },
    {
     "data": {
      "text/plain": [
       "3-element Vector{Float64}:\n",
       "   0.04523218365917327\n",
       "   1.4593278977198334\n",
       " 151.49543991862072"
      ]
     },
     "execution_count": 3,
     "metadata": {},
     "output_type": "execute_result"
    }
   ],
   "source": [
    "# Calculate the eigenvalues λ =[λ1,λ2,λ3] of C\n",
    "println(\"Eigenvalues vector λ =\")\n",
    "F = eigen(C)\n",
    "λ = F.values"
   ]
  },
  {
   "cell_type": "code",
   "execution_count": 4,
   "metadata": {},
   "outputs": [
    {
     "name": "stdout",
     "output_type": "stream",
     "text": [
      "Eigenvectors matrix Φ =\n"
     ]
    },
    {
     "data": {
      "text/plain": [
       "3×3 Matrix{Float64}:\n",
       "  0.0183021  -0.846242  -0.532484\n",
       " -0.790948    0.313528  -0.525454\n",
       "  0.61161     0.430784  -0.663595"
      ]
     },
     "execution_count": 4,
     "metadata": {},
     "output_type": "execute_result"
    }
   ],
   "source": [
    "# Calculate the eigenvectors Φ=[ϕ1 ϕ2 ϕ3] of C\n",
    "println(\"Eigenvectors matrix Φ =\")\n",
    "Φ = F.vectors\n"
   ]
  },
  {
   "cell_type": "markdown",
   "metadata": {},
   "source": [
    " The $\\Phi$ matrix is unitary ( $\\Phi\\Phi^{*} = \\Phi^{*}\\Phi = I$ )"
   ]
  },
  {
   "cell_type": "code",
   "execution_count": 5,
   "metadata": {},
   "outputs": [
    {
     "name": "stdout",
     "output_type": "stream",
     "text": [
      "Amplitude matrix A=\n"
     ]
    },
    {
     "data": {
      "text/plain": [
       "3×4 Matrix{Float64}:\n",
       " -0.161035  -0.0142295  -0.0508336   0.128504\n",
       " -0.101931  -0.82318     0.869304    0.124992\n",
       " -1.72153   -8.08221    -7.01724    -5.8282"
      ]
     },
     "execution_count": 5,
     "metadata": {},
     "output_type": "execute_result"
    }
   ],
   "source": [
    "#Calculate the amplitudes matrix A = ϕ'*Y (3x4)\n",
    "println(\"Amplitude matrix A=\")\n",
    "A = Φ' * Y"
   ]
  },
  {
   "cell_type": "markdown",
   "metadata": {},
   "source": [
    "* Reconstruction without any reduction"
   ]
  },
  {
   "cell_type": "code",
   "execution_count": 6,
   "metadata": {},
   "outputs": [
    {
     "name": "stdout",
     "output_type": "stream",
     "text": [
      "Full Reconstruction  Ỹ123 = Φ * A\n"
     ]
    },
    {
     "data": {
      "text/plain": [
       "3×4 Matrix{Float64}:\n",
       " 1.0  5.0  3.0  3.0\n",
       " 1.0  4.0  4.0  3.0\n",
       " 1.0  5.0  5.0  4.0"
      ]
     },
     "execution_count": 6,
     "metadata": {},
     "output_type": "execute_result"
    }
   ],
   "source": [
    "println(\"Full Reconstruction  Ỹ123 = Φ * A\")\n",
    "Ỹ123 = Φ * A"
   ]
  },
  {
   "cell_type": "code",
   "execution_count": 7,
   "metadata": {},
   "outputs": [
    {
     "data": {
      "text/plain": [
       "4.082240392577815e-15"
      ]
     },
     "execution_count": 7,
     "metadata": {},
     "output_type": "execute_result"
    }
   ],
   "source": [
    "norm(Y-Ỹ123)"
   ]
  },
  {
   "cell_type": "code",
   "execution_count": 8,
   "metadata": {},
   "outputs": [
    {
     "data": {
      "text/plain": [
       "true"
      ]
     },
     "execution_count": 8,
     "metadata": {},
     "output_type": "execute_result"
    }
   ],
   "source": [
    "Y ≈ Ỹ123"
   ]
  },
  {
   "cell_type": "code",
   "execution_count": 9,
   "metadata": {},
   "outputs": [
    {
     "name": "stdout",
     "output_type": "stream",
     "text": [
      "Y1 =\n"
     ]
    },
    {
     "data": {
      "text/plain": [
       "3-element Vector{Float64}:\n",
       " 0.9999999999999998\n",
       " 0.9999999999999993\n",
       " 1.0"
      ]
     },
     "execution_count": 9,
     "metadata": {},
     "output_type": "execute_result"
    }
   ],
   "source": [
    "# Y1 = Φ * A1\n",
    "println(\"Y1 =\")\n",
    "Y1 = Φ * A[:, 1]"
   ]
  },
  {
   "cell_type": "code",
   "execution_count": 10,
   "metadata": {},
   "outputs": [
    {
     "name": "stdout",
     "output_type": "stream",
     "text": [
      "Y2 =\n"
     ]
    },
    {
     "data": {
      "text/plain": [
       "3-element Vector{Float64}:\n",
       " 5.0\n",
       " 3.999999999999998\n",
       " 5.000000000000002"
      ]
     },
     "execution_count": 10,
     "metadata": {},
     "output_type": "execute_result"
    }
   ],
   "source": [
    "# Y2 = Φ * A2\n",
    "println(\"Y2 =\")\n",
    "Y2 = Φ * A[:, 2]"
   ]
  },
  {
   "cell_type": "code",
   "execution_count": 11,
   "metadata": {},
   "outputs": [
    {
     "name": "stdout",
     "output_type": "stream",
     "text": [
      "Y3 =\n"
     ]
    },
    {
     "data": {
      "text/plain": [
       "3-element Vector{Float64}:\n",
       " 3.0000000000000004\n",
       " 3.9999999999999982\n",
       " 5.000000000000001"
      ]
     },
     "execution_count": 11,
     "metadata": {},
     "output_type": "execute_result"
    }
   ],
   "source": [
    "# Y3 = Φ * A2\n",
    "println(\"Y3 =\")\n",
    "Y3 = Φ * A[:, 3]"
   ]
  },
  {
   "cell_type": "code",
   "execution_count": 12,
   "metadata": {},
   "outputs": [
    {
     "name": "stdout",
     "output_type": "stream",
     "text": [
      "Y4 =\n"
     ]
    },
    {
     "data": {
      "text/plain": [
       "3-element Vector{Float64}:\n",
       " 3.0\n",
       " 2.9999999999999982\n",
       " 4.000000000000001"
      ]
     },
     "execution_count": 12,
     "metadata": {},
     "output_type": "execute_result"
    }
   ],
   "source": [
    "# Y4 = Φ * A4\n",
    "println(\"Y4 =\")\n",
    "Y4 = Φ * A[:, 4]"
   ]
  },
  {
   "cell_type": "markdown",
   "metadata": {},
   "source": [
    "* Reconstruction based on the first most energetic mode (largest eigen value)"
   ]
  },
  {
   "cell_type": "code",
   "execution_count": 13,
   "metadata": {},
   "outputs": [
    {
     "name": "stdout",
     "output_type": "stream",
     "text": [
      "Ỹ3 =\n"
     ]
    },
    {
     "data": {
      "text/plain": [
       "3×4 Matrix{Float64}:\n",
       " 0.916689  4.30365  3.73657  3.10342\n",
       " 0.904587  4.24683  3.68724  3.06245\n",
       " 1.1424    5.36332  4.65661  3.86756"
      ]
     },
     "execution_count": 13,
     "metadata": {},
     "output_type": "execute_result"
    }
   ],
   "source": [
    "#Keep the last direction and amplitude      Y ≈ Ỹ3 = ϕ3 * A3\n",
    "println(\"Ỹ3 =\")\n",
    "Ỹ3 = Φ[:, 3] * A[3, :]'"
   ]
  },
  {
   "cell_type": "code",
   "execution_count": 14,
   "metadata": {},
   "outputs": [
    {
     "data": {
      "text/plain": [
       "1.2266051040897492"
      ]
     },
     "execution_count": 14,
     "metadata": {},
     "output_type": "execute_result"
    }
   ],
   "source": [
    "norm(Y-Ỹ3)"
   ]
  },
  {
   "cell_type": "markdown",
   "metadata": {},
   "source": [
    "* Reconstruction based on the two most energetic modes"
   ]
  },
  {
   "cell_type": "code",
   "execution_count": 15,
   "metadata": {},
   "outputs": [
    {
     "name": "stdout",
     "output_type": "stream",
     "text": [
      "Ỹ23 =\n"
     ]
    },
    {
     "data": {
      "text/plain": [
       "3×4 Matrix{Float64}:\n",
       " 1.00295   5.00026  3.00093  2.99765\n",
       " 0.872629  3.98875  3.95979  3.10164\n",
       " 1.09849   5.0087   5.03109  3.92141"
      ]
     },
     "execution_count": 15,
     "metadata": {},
     "output_type": "execute_result"
    }
   ],
   "source": [
    "#Keep the two last directions and amplitudes Y ≈ Ỹ23=ϕ2:3*A2:3\n",
    "println(\"Ỹ23 =\")\n",
    "Ỹ23 = Φ[:, 2:3] * A[2:3, :]"
   ]
  },
  {
   "cell_type": "code",
   "execution_count": 16,
   "metadata": {},
   "outputs": [
    {
     "data": {
      "text/plain": [
       "0.21267859238577755"
      ]
     },
     "execution_count": 16,
     "metadata": {},
     "output_type": "execute_result"
    }
   ],
   "source": [
    "norm(Y-Ỹ23)"
   ]
  },
  {
   "cell_type": "markdown",
   "metadata": {},
   "source": [
    "## 2. Construction of the POD basis via the Singular Value Decomposition approach"
   ]
  },
  {
   "cell_type": "markdown",
   "metadata": {},
   "source": [
    "* Calculate the SVD of Y"
   ]
  },
  {
   "cell_type": "code",
   "execution_count": 17,
   "metadata": {},
   "outputs": [
    {
     "name": "stdout",
     "output_type": "stream",
     "text": [
      "SVD decomposition Ỹ = UΣV*\n"
     ]
    },
    {
     "data": {
      "text/plain": [
       "SVD{Float64, Float64, Matrix{Float64}, Vector{Float64}}\n",
       "U factor:\n",
       "3×3 Matrix{Float64}:\n",
       " 0.532484   0.846242   0.0183021\n",
       " 0.525454  -0.313528  -0.790948\n",
       " 0.663595  -0.430784   0.61161\n",
       "singular values:\n",
       "3-element Vector{Float64}:\n",
       " 12.308348383053715\n",
       "  1.2080264474422016\n",
       "  0.21267859238577744\n",
       "Vt factor:\n",
       "3×4 Matrix{Float64}:\n",
       "  0.139867    0.656645    0.570121   0.473516\n",
       "  0.0843778   0.681426   -0.719607  -0.103468\n",
       " -0.757177   -0.0669061  -0.239016   0.604216"
      ]
     },
     "execution_count": 17,
     "metadata": {},
     "output_type": "execute_result"
    }
   ],
   "source": [
    "println(\"SVD decomposition Ỹ = UΣV*\")\n",
    "Ỹ = svd(Y)"
   ]
  },
  {
   "cell_type": "markdown",
   "metadata": {},
   "source": [
    "* Reconstruction without any reduction"
   ]
  },
  {
   "cell_type": "code",
   "execution_count": 18,
   "metadata": {},
   "outputs": [
    {
     "name": "stdout",
     "output_type": "stream",
     "text": [
      "Full Reconstruction  Ỹrec = UΣV*\n"
     ]
    },
    {
     "data": {
      "text/plain": [
       "3×4 Matrix{Float64}:\n",
       " 1.0  5.0  3.0  3.0\n",
       " 1.0  4.0  4.0  3.0\n",
       " 1.0  5.0  5.0  4.0"
      ]
     },
     "execution_count": 18,
     "metadata": {},
     "output_type": "execute_result"
    }
   ],
   "source": [
    "println(\"Full Reconstruction  Ỹrec = UΣV*\")\n",
    "Ỹrec = Ỹ.U * diagm(Ỹ.S) * Ỹ.Vt\n",
    "round.(Ỹrec; digits=2)"
   ]
  },
  {
   "cell_type": "code",
   "execution_count": 19,
   "metadata": {},
   "outputs": [
    {
     "data": {
      "text/plain": [
       "4.082240392577815e-15"
      ]
     },
     "execution_count": 19,
     "metadata": {},
     "output_type": "execute_result"
    }
   ],
   "source": [
    "norm(Y - Ỹ123)"
   ]
  },
  {
   "cell_type": "markdown",
   "metadata": {},
   "source": [
    "* Reconstruction based on the single most energetic mode"
   ]
  },
  {
   "cell_type": "code",
   "execution_count": 20,
   "metadata": {},
   "outputs": [
    {
     "name": "stdout",
     "output_type": "stream",
     "text": [
      "Ỹ1 =\n"
     ]
    },
    {
     "data": {
      "text/plain": [
       "3×4 Matrix{Float64}:\n",
       " 0.916689  4.30365  3.73657  3.10342\n",
       " 0.904587  4.24683  3.68724  3.06245\n",
       " 1.1424    5.36332  4.65661  3.86756"
      ]
     },
     "execution_count": 20,
     "metadata": {},
     "output_type": "execute_result"
    }
   ],
   "source": [
    "println(\"Ỹ1 =\")\n",
    "Ỹ1 = (Ỹ.U[:, 1] * Ỹ.S[1]) * Ỹ.Vt[1:1, :]"
   ]
  },
  {
   "cell_type": "code",
   "execution_count": 21,
   "metadata": {},
   "outputs": [
    {
     "data": {
      "text/plain": [
       "1.2266051040897488"
      ]
     },
     "execution_count": 21,
     "metadata": {},
     "output_type": "execute_result"
    }
   ],
   "source": [
    "norm(Y - Ỹ1)"
   ]
  },
  {
   "cell_type": "markdown",
   "metadata": {},
   "source": [
    "* Reconstruction based on the two most energetic modes"
   ]
  },
  {
   "cell_type": "code",
   "execution_count": 22,
   "metadata": {},
   "outputs": [
    {
     "name": "stdout",
     "output_type": "stream",
     "text": [
      "Ỹ12=\n"
     ]
    },
    {
     "data": {
      "text/plain": [
       "3×4 Matrix{Float64}:\n",
       " 1.00295   5.00026  3.00093  2.99765\n",
       " 0.872629  3.98875  3.95979  3.10164\n",
       " 1.09849   5.0087   5.03109  3.92141"
      ]
     },
     "execution_count": 22,
     "metadata": {},
     "output_type": "execute_result"
    }
   ],
   "source": [
    "println(\"Ỹ12=\")\n",
    "Ỹ12 = (Ỹ.U[:, 1] * Ỹ.S[1]) * Ỹ.Vt[1:1, :] + (Ỹ.U[:, 2] * Ỹ.S[2]) * Ỹ.Vt[2:2, :]"
   ]
  },
  {
   "cell_type": "code",
   "execution_count": 23,
   "metadata": {},
   "outputs": [
    {
     "data": {
      "text/plain": [
       "3×4 Matrix{Float64}:\n",
       " 1.00295   5.00026  3.00093  2.99765\n",
       " 0.872629  3.98875  3.95979  3.10164\n",
       " 1.09849   5.0087   5.03109  3.92141"
      ]
     },
     "execution_count": 23,
     "metadata": {},
     "output_type": "execute_result"
    }
   ],
   "source": [
    "Ỹ12 =   Ỹ.U[:,1:2] * diagm(Ỹ.S)[1:2,1:2] * Ỹ.Vt[1:2,:]"
   ]
  },
  {
   "cell_type": "code",
   "execution_count": 24,
   "metadata": {},
   "outputs": [
    {
     "data": {
      "text/plain": [
       "0.21267859238577763"
      ]
     },
     "execution_count": 24,
     "metadata": {},
     "output_type": "execute_result"
    }
   ],
   "source": [
    "norm(Y - Ỹ12)"
   ]
  },
  {
   "cell_type": "markdown",
   "metadata": {},
   "source": [
    "* Reconstruction based on the three most energetic modes ( which means here = no approximation!)"
   ]
  },
  {
   "cell_type": "code",
   "execution_count": 25,
   "metadata": {},
   "outputs": [
    {
     "name": "stdout",
     "output_type": "stream",
     "text": [
      "Ỹ123=\n"
     ]
    },
    {
     "data": {
      "text/plain": [
       "3×4 Matrix{Float64}:\n",
       " 1.0  5.0  3.0  3.0\n",
       " 1.0  4.0  4.0  3.0\n",
       " 1.0  5.0  5.0  4.0"
      ]
     },
     "execution_count": 25,
     "metadata": {},
     "output_type": "execute_result"
    }
   ],
   "source": [
    "println(\"Ỹ123=\")\n",
    "Ỹ123 = (Ỹ.U[:, 1] * Ỹ.S[1]) * Ỹ.Vt[1:1, :] + (Ỹ.U[:, 2] * Ỹ.S[2]) * Ỹ.Vt[2:2, :] + (Ỹ.U[:, 3] * Ỹ.S[3]) * Ỹ.Vt[3:3, :]"
   ]
  },
  {
   "cell_type": "code",
   "execution_count": 26,
   "metadata": {},
   "outputs": [
    {
     "data": {
      "text/plain": [
       "7.042700434902163e-15"
      ]
     },
     "execution_count": 26,
     "metadata": {},
     "output_type": "execute_result"
    }
   ],
   "source": [
    "norm(Y-Ỹ123)"
   ]
  },
  {
   "cell_type": "code",
   "execution_count": 27,
   "metadata": {},
   "outputs": [
    {
     "data": {
      "text/plain": [
       "true"
      ]
     },
     "execution_count": 27,
     "metadata": {},
     "output_type": "execute_result"
    }
   ],
   "source": [
    "Ỹrec ≈ Ỹ123"
   ]
  },
  {
   "cell_type": "markdown",
   "metadata": {},
   "source": [
    "## 3. Construction of the POD basis via the correlation matrix approach "
   ]
  },
  {
   "cell_type": "code",
   "execution_count": 28,
   "metadata": {},
   "outputs": [
    {
     "name": "stdout",
     "output_type": "stream",
     "text": [
      "Correlation matrix D =\n"
     ]
    },
    {
     "data": {
      "text/plain": [
       "4×4 Matrix{Int64}:\n",
       "  3  14  12  10\n",
       " 14  66  56  47\n",
       " 12  56  50  41\n",
       " 10  47  41  34"
      ]
     },
     "execution_count": 28,
     "metadata": {},
     "output_type": "execute_result"
    }
   ],
   "source": [
    "# Calculate The Correlation matrix D (Y'*Y) (3x3)\n",
    "println(\"Correlation matrix D =\")\n",
    "D = Y' * Y"
   ]
  },
  {
   "cell_type": "code",
   "execution_count": 29,
   "metadata": {},
   "outputs": [
    {
     "name": "stdout",
     "output_type": "stream",
     "text": [
      "Eigenvalues vector λ =\n"
     ]
    },
    {
     "data": {
      "text/plain": [
       "4-element Vector{Float64}:\n",
       "   9.947598290924116e-15\n",
       "   0.045232183659199864\n",
       "   1.4593278977198207\n",
       " 151.49543991862095"
      ]
     },
     "execution_count": 29,
     "metadata": {},
     "output_type": "execute_result"
    }
   ],
   "source": [
    "# Calculate the eigenvalues λ =[λ1,λ2,λ3] of D\n",
    "println(\"Eigenvalues vector λ =\")\n",
    "G = eigen(D)\n",
    "λ = G.values"
   ]
  },
  {
   "cell_type": "code",
   "execution_count": 30,
   "metadata": {},
   "outputs": [
    {
     "name": "stdout",
     "output_type": "stream",
     "text": [
      "POD basis matrix Φ =\n"
     ]
    },
    {
     "data": {
      "text/plain": [
       "3×4 Matrix{Float64}:\n",
       " -1.11314e-8  -0.0183021  -0.846242  -0.532484\n",
       "  2.58249e-7   0.790948    0.313528  -0.525454\n",
       " -1.91461e-7  -0.61161     0.430784  -0.663595"
      ]
     },
     "execution_count": 30,
     "metadata": {},
     "output_type": "execute_result"
    }
   ],
   "source": [
    "# Calculate the POD basis Φ=[ϕ1 ϕ2 ϕ3] of D\n",
    "println(\"POD basis matrix Φ =\")\n",
    "Φ = Y * G.vectors* diagm(G.values.^(-0.5))"
   ]
  },
  {
   "cell_type": "code",
   "execution_count": 31,
   "metadata": {},
   "outputs": [
    {
     "name": "stdout",
     "output_type": "stream",
     "text": [
      "Amplitude matrix A=\n"
     ]
    },
    {
     "data": {
      "text/plain": [
       "4×4 Matrix{Float64}:\n",
       "  5.56572e-8   2.00366e-8   4.22994e-8  -2.44892e-8\n",
       "  0.161035     0.0142295    0.0508336   -0.128504\n",
       " -0.101931    -0.82318      0.869304     0.124992\n",
       " -1.72153     -8.08221     -7.01724     -5.8282"
      ]
     },
     "execution_count": 31,
     "metadata": {},
     "output_type": "execute_result"
    }
   ],
   "source": [
    "# Calculate the amplitudes matrix A = ϕ'*Y (3x4)\n",
    "println(\"Amplitude matrix A=\")\n",
    "A = Φ' * Y"
   ]
  },
  {
   "cell_type": "code",
   "execution_count": 32,
   "metadata": {},
   "outputs": [
    {
     "name": "stdout",
     "output_type": "stream",
     "text": [
      "Full Reconstruction  Ỹrec = Φ * A\n"
     ]
    },
    {
     "data": {
      "text/plain": [
       "3×4 Matrix{Float64}:\n",
       " 1.0  5.0  3.0  3.0\n",
       " 1.0  4.0  4.0  3.0\n",
       " 1.0  5.0  5.0  4.0"
      ]
     },
     "execution_count": 32,
     "metadata": {},
     "output_type": "execute_result"
    }
   ],
   "source": [
    "println(\"Full Reconstruction  Ỹrec = Φ * A\")\n",
    "Ỹrec = Φ * A"
   ]
  }
 ],
 "metadata": {
  "kernelspec": {
   "display_name": "Julia 1.9.0-rc1",
   "language": "julia",
   "name": "julia-1.9"
  },
  "language_info": {
   "file_extension": ".jl",
   "mimetype": "application/julia",
   "name": "julia",
   "version": "1.9.0"
  }
 },
 "nbformat": 4,
 "nbformat_minor": 4
}
