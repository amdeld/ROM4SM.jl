{
 "cells": [
  {
   "cell_type": "markdown",
   "metadata": {},
   "source": [
    "# Proper Orthogonal Decomposition (POD) for Structural Mechanics\n",
    "inspired from Buljak, V. (2012). Inverse Analyses with Model Reduction Proper Orthogonal Decomposition in Structural Mechanics. Springer Berlin Heidelberg (Vol. 33). https://doi.org/10.1007/978-3-642-22703-5\n",
    "\n",
    "## Use Case : Frame made up of plane elastic trusses (11 rods et 5 unconstrained nodes with 2 degrees of freedom (10 dof)). The displacement is fixed at node 6 and node 7 fixée. The load is applied on nodes 1&2 with respectivelely a force $F1 = -5000 N$ and a force $F2 = -2000 N$ (see figure below)  "
   ]
  },
  {
   "cell_type": "markdown",
   "metadata": {},
   "source": [
    "## Frame\n",
    "\n",
    "<img src=\"https://raw.githubusercontent.com/amdeld/ROM4SM.jl/master/img/TrussStructure_LBC.png\" alt=\"Drawing\" style=\"width: 800px;\"/>\n"
   ]
  },
  {
   "cell_type": "markdown",
   "metadata": {},
   "source": [
    "## Definition of the stiffness matrix nunction for a plane elastic truss element "
   ]
  },
  {
   "cell_type": "code",
   "execution_count": 1,
   "metadata": {},
   "outputs": [
    {
     "data": {
      "text/plain": [
       "TrussElementStiffness (generic function with 1 method)"
      ]
     },
     "execution_count": 1,
     "metadata": {},
     "output_type": "execute_result"
    }
   ],
   "source": [
    "function TrussElementStiffness(coo,E,A)\n",
    "# Function that computes stiffness matrix for truss element\n",
    "# (file name trstiff.m)\n",
    "L=sqrt((coo[2,1]-coo[1,1])^2+(coo[2,2]-coo[1,2])^2)\n",
    "C=(coo[2,1]-coo[1,1])/L\n",
    "S=(coo[2,2]-coo[1,2])/L\n",
    "# Stiffness matrix\n",
    "STF=E*A/L*[C^2 S*C -C^2 -S*C;\n",
    "S*C S^2 -S*C -S^2;\n",
    "-C^2 -S*C C^2 S*C;\n",
    "-S*C -S^2 S*C S^2];\n",
    "return(STF)\n",
    "end"
   ]
  },
  {
   "cell_type": "markdown",
   "metadata": {},
   "source": [
    "## Assemble&Solve Function"
   ]
  },
  {
   "cell_type": "code",
   "execution_count": 2,
   "metadata": {},
   "outputs": [
    {
     "data": {
      "text/plain": [
       "TrussAssembleSolve (generic function with 1 method)"
      ]
     },
     "execution_count": 2,
     "metadata": {},
     "output_type": "execute_result"
    }
   ],
   "source": [
    "# Main program for truss structure\n",
    "# Coordinates - units L[mm]\n",
    "function TrussAssembleSolve(E,A)\n",
    "COO=[0 0; 2 0; 4 0 ;1 1; 3 1; -1 1; 5 1]\n",
    "COO=1000*COO\n",
    "DOF=size(COO,1)*2\n",
    "# Elements\n",
    "ELM=[1 2; 2 3; 6 4; 4 5; 5 7; 1 6; 1 4; 2 4; 2 5; 3 5; 3 7]\n",
    "# Properties (units F[N], L[mm])\n",
    "#E=125000\n",
    "#A=6\n",
    "# Assembling of stiffness matrix\n",
    "MSTF=zeros(DOF,DOF)\n",
    "X=zeros(2,2)\n",
    "for i in 1:size(ELM,1)\n",
    "X[1,:]=COO[ELM[i,1],:]\n",
    "X[2,:]=COO[ELM[i,2],:]\n",
    "STF=TrussElementStiffness(X,E,A)\n",
    "MSTF[2*ELM[i,1]-1:2*ELM[i,1],2*ELM[i,1]-\n",
    "1:2*ELM[i,1]]=MSTF[2*ELM[i,1]-1:2*ELM[i,1],2*ELM[i,1]-\n",
    "1:2*ELM[i,1]]+STF[1:2,1:2]\n",
    "MSTF[2*ELM[i,1]-1:2*ELM[i,1],2*ELM[i,2]-\n",
    "1:2*ELM[i,2]]=MSTF[2*ELM[i,1]-1:2*ELM[i,1],2*ELM[i,2]-\n",
    "1:2*ELM[i,2]]+STF[3:4,1:2]\n",
    "MSTF[2*ELM[i,2]-1:2*ELM[i,2],2*ELM[i,1]-\n",
    "1:2*ELM[i,1]]=MSTF[2*ELM[i,2]-1:2*ELM[i,2],2*ELM[i,1]-\n",
    "1:2*ELM[i,1]]+STF[1:2,3:4]\n",
    "MSTF[2*ELM[i,2]-1:2*ELM[i,2],2*ELM[i,2]-\n",
    "1:2*ELM[i,2]]=MSTF[2*ELM[i,2]-1:2*ELM[i,2],2*ELM[i,2]-\n",
    "1:2*ELM[i,2]]+STF[3:4,3:4]\n",
    "end\n",
    "# Constrains\n",
    "con=[12 13 14 15] # constrained DOF\n",
    "CDOF=size(con,2)\n",
    "# Forces\n",
    "dF=zeros(DOF,1)\n",
    "dF[2]=-5000\n",
    "dF[6]=-2000\n",
    "# Reduced stiffness matrix & force vector\n",
    "RSTF=MSTF[1:DOF-CDOF,1:DOF-CDOF]\n",
    "dFR=dF[1:DOF-CDOF]\n",
    "# Solving for displacements\n",
    "d=inv(RSTF)*dFR\n",
    "# End of main program\n",
    "return(d)\n",
    "end"
   ]
  },
  {
   "cell_type": "markdown",
   "metadata": {},
   "source": [
    "## Definition of the design of experiments function (doe)"
   ]
  },
  {
   "cell_type": "code",
   "execution_count": 3,
   "metadata": {},
   "outputs": [
    {
     "data": {
      "text/plain": [
       "doe (generic function with 1 method)"
      ]
     },
     "execution_count": 3,
     "metadata": {},
     "output_type": "execute_result"
    }
   ],
   "source": [
    "function doe()\n",
    "    Y=zeros(10,16)\n",
    "    P=zeros(2,16)\n",
    "    cnt=0\n",
    "    for E in [125000 150000 175000 200000]\n",
    "        for A in [6 8 10 12]\n",
    "            Disp = TrussAssembleSolve(E, A)\n",
    "            #show(Disp)\n",
    "            cnt += 1\n",
    "            Y[:,cnt] = Disp\n",
    "            P[:,cnt] = [E;A]\n",
    "        end\n",
    "    end\n",
    "    #show(U)\n",
    "    return (Y,P)\n",
    "end"
   ]
  },
  {
   "cell_type": "markdown",
   "metadata": {},
   "source": [
    "## Definition of the calculation function for the matrix $B$ of coefficients of interpolation "
   ]
  },
  {
   "cell_type": "code",
   "execution_count": 4,
   "metadata": {},
   "outputs": [
    {
     "data": {
      "text/plain": [
       "BlinMtx (generic function with 1 method)"
      ]
     },
     "execution_count": 4,
     "metadata": {},
     "output_type": "execute_result"
    }
   ],
   "source": [
    "function BlinMtx(A, p)\n",
    "    # Interpolation by the use of RBFs [Linear splines type]\n",
    "    # Normalization of P [0 1]\n",
    "    M = size(p, 1)\n",
    "    N = size(p, 2)\n",
    "    minP = zeros(M)\n",
    "    maxP = zeros(M)\n",
    "    x = zeros(M, N)\n",
    "    G = zeros(N, N)\n",
    "    for j = 1:M\n",
    "        minP[j] = minimum(p[j,:])\n",
    "        maxP[j] = maximum(p[j,:])\n",
    "        for i = 1:N\n",
    "            x[j,i] = (p[j,i] - minP[j]) / (maxP[j] - minP[j])\n",
    "        end\n",
    "    end\n",
    "    for i = 1:N\n",
    "        for j = 1:N\n",
    "            G[i,j] = sum((x[:,i] - x[:,j]).^2).^0.5\n",
    "        end\n",
    "    end\n",
    "    return A * inv(G)\n",
    "end"
   ]
  },
  {
   "cell_type": "markdown",
   "metadata": {},
   "source": [
    "## Definition of the calculation function for the vector $G$ of interpolation functions"
   ]
  },
  {
   "cell_type": "code",
   "execution_count": 5,
   "metadata": {},
   "outputs": [
    {
     "data": {
      "text/plain": [
       "GlinVec (generic function with 1 method)"
      ]
     },
     "execution_count": 5,
     "metadata": {},
     "output_type": "execute_result"
    }
   ],
   "source": [
    "function GlinVec(p, pX)\n",
    "    # Function that constructs G vector as function of given parameters\n",
    "    M=size(p,1)\n",
    "    N = size(p, 2); # The number of generated snapshots\n",
    "    minP = zeros(M)\n",
    "    maxP = zeros(M)\n",
    "    x = zeros(M, N)\n",
    "    G = zeros(N)\n",
    "    # Normalization of p\n",
    "    for j = 1:M\n",
    "        minP[j,1] = minimum(p[j,:])\n",
    "        maxP[j,1] = maximum(p[j,:])\n",
    "        for i = 1:N\n",
    "            x[j,i] = (p[j,i] - minP[j]) / (maxP[j] - minP[j])\n",
    "        end\n",
    "    end\n",
    "    gi(x,y) = (sum((x-y).^2).^0.5)\n",
    "    value = pX\n",
    "    for k = 1:N\n",
    "        G[k] = gi(value,x[:,k])\n",
    "    end\n",
    "    return G\n",
    "end"
   ]
  },
  {
   "cell_type": "markdown",
   "metadata": {},
   "source": [
    "## DOE execution for the snapshot  $Y$ and the parameter $P$ matrices calculation \n",
    "<img src=\"https://raw.githubusercontent.com/amdeld/ROM4SM.jl/master/img/Snapshotmatrix4FEM.png\" alt=\"Drawing\" style=\"width: 700px;\"/>\n",
    "\n",
    "$Y=\\left[\\begin{array}{cccccccccc}\n",
    "| & | & | & | & | & | & | & | & | & |\\\\\n",
    "\\vdots & \\vdots & \\vdots & \\vdots & \\vdots & \\vdots & \\vdots & \\vdots & \\vdots & \\vdots\\\\\n",
    "| & | & | & | & | & | & | & | & | & |\\\\\n",
    "y_{1} & y_{2} & y_{3} & y_{4} & y_{5} & y_{6} & y_{7} & y_{8} & y_{9} & y_{10}\\\\\n",
    "| & | & | & | & | & | & | & | & | & |\\\\\n",
    "\\vdots & \\vdots & \\vdots & \\vdots & \\vdots & \\vdots & \\vdots & \\vdots & \\vdots & \\vdots\\\\\n",
    "| & | & | & | & | & | & | & | & | & |\n",
    "\\end{array}\\right]$\n",
    "\n",
    "Range of Young modulus $E = \\{125000; 150000; 175000; 200000\\} (unit\\ MPa)$\n",
    "Range of cross section $A = \\{6; 8; 10; 12\\} (unit\\ mm)$"
   ]
  },
  {
   "cell_type": "code",
   "execution_count": 6,
   "metadata": {},
   "outputs": [
    {
     "name": "stdout",
     "output_type": "stream",
     "text": [
      "The Data - Snapshot matrix coming out from the DOE Y =\n",
      "10×16 Array{Float64,2}:\n",
      " -11.56   -8.67   -6.93   -5.78   -9.63   -7.22   -5.78   -4.81   -8.25   -6.19   -4.95   -4.13   -7.22   -5.42   -4.33   -3.61\n",
      " -28.53  -21.39  -17.12  -14.26  -23.77  -17.83  -14.26  -11.89  -20.38  -15.28  -12.23  -10.19  -17.83  -13.37  -10.7    -8.91\n",
      "  -0.89   -0.67   -0.53   -0.44   -0.74   -0.56   -0.44   -0.37   -0.63   -0.48   -0.38   -0.32   -0.56   -0.42   -0.33   -0.28\n",
      " -31.87  -23.9   -19.12  -15.93  -26.55  -19.92  -15.93  -13.28  -22.76  -17.07  -13.66  -11.38  -19.92  -14.94  -11.95   -9.96\n",
      "   7.11    5.33    4.27    3.56    5.93    4.44    3.56    2.96    5.08    3.81    3.05    2.54    4.44    3.33    2.67    2.22\n",
      " -16.54  -12.4    -9.92   -8.27  -13.78  -10.34   -8.27   -6.89  -11.81   -8.86   -7.09   -5.91  -10.34   -7.75   -6.2    -5.17\n",
      "  -2.67   -2.0    -1.6    -1.33   -2.22   -1.67   -1.33   -1.11   -1.9    -1.43   -1.14   -0.95   -1.67   -1.25   -1.0    -0.83\n",
      " -35.53  -26.65  -21.32  -17.76  -29.61  -22.21  -17.76  -14.8   -25.38  -19.03  -15.23  -12.69  -22.21  -16.65  -13.32  -11.1\n",
      "  -2.67   -2.0    -1.6    -1.33   -2.22   -1.67   -1.33   -1.11   -1.9    -1.43   -1.14   -0.95   -1.67   -1.25   -1.0    -0.83\n",
      " -28.2   -21.15  -16.92  -14.1   -23.5   -17.63  -14.1   -11.75  -20.14  -15.11  -12.09  -10.07  -17.63  -13.22  -10.58   -8.81\n",
      "\n",
      "The Parameter matrix P coming out from the DOE P =\n"
     ]
    },
    {
     "data": {
      "text/plain": [
       "2×16 Array{Float64,2}:\n",
       " 125000.0  125000.0  125000.0  125000.0  …  200000.0  200000.0  200000.0\n",
       "      6.0       8.0      10.0      12.0          8.0      10.0      12.0"
      ]
     },
     "execution_count": 6,
     "metadata": {},
     "output_type": "execute_result"
    }
   ],
   "source": [
    "# Execute The design of experiments (DOE)\n",
    "Y,P=doe()\n",
    "println(\"\\rThe Data - Snapshot matrix coming out from the DOE Y =\\r\")\n",
    "show(stdout,\"text/plain\", round.(Y;digits=2))\n",
    "println(\"\\n\\nThe Parameter matrix P coming out from the DOE P =\\r\")\n",
    "round.(P;digits=2)"
   ]
  },
  {
   "cell_type": "markdown",
   "metadata": {},
   "source": [
    "## Verification of the results for the first column ($E = 125000 MPa$ and $A = 6mm$) with the commercial finite element software MSC.Marc\n",
    "<img src=\"https://raw.githubusercontent.com/amdeld/ROM4SM.jl/master/img/TrussStructure_DisplacementX.png\" alt=\"Drawing\" style=\"width: 800px;\"/>\n",
    "<img src=\"https://raw.githubusercontent.com/amdeld/ROM4SM.jl/master/img/TrussStructure_DisplacementY.png\" alt=\"Drawing\" style=\"width: 800px;\"/>"
   ]
  },
  {
   "cell_type": "markdown",
   "metadata": {},
   "source": [
    "## POD 2 methodes are used here which give the same results (1. eigen decomposition and 2. singular value decompostion) followed by reconstruction and reduction steps"
   ]
  },
  {
   "cell_type": "code",
   "execution_count": 7,
   "metadata": {},
   "outputs": [],
   "source": [
    "using LinearAlgebra # needed for the decomposition operations"
   ]
  },
  {
   "cell_type": "markdown",
   "metadata": {},
   "source": [
    "1. Eigen decomposition"
   ]
  },
  {
   "cell_type": "code",
   "execution_count": 8,
   "metadata": {},
   "outputs": [
    {
     "name": "stdout",
     "output_type": "stream",
     "text": [
      "EigenValues vector λ =\n"
     ]
    },
    {
     "data": {
      "text/plain": [
       "10-element Array{Float64,1}:\n",
       "    -0.0\n",
       "    -0.0\n",
       "    -0.0\n",
       "    -0.0\n",
       "     0.0\n",
       "     0.0\n",
       "     0.0\n",
       "     0.0\n",
       "     0.0\n",
       " 24580.22"
      ]
     },
     "execution_count": 8,
     "metadata": {},
     "output_type": "execute_result"
    }
   ],
   "source": [
    "F=eigen(Y*Y')\n",
    "println(\"\\rEigenValues vector λ =\\r\")\n",
    "round.(F.values,digits=2)"
   ]
  },
  {
   "cell_type": "code",
   "execution_count": 9,
   "metadata": {},
   "outputs": [
    {
     "name": "stdout",
     "output_type": "stream",
     "text": [
      "EigenVectors matrix ϕ =\n"
     ]
    },
    {
     "data": {
      "text/plain": [
       "10×10 Array{Float64,2}:\n",
       " -0.81   0.45   0.22   0.03   0.06  -0.13   0.17   0.01  -0.08  -0.18\n",
       "  0.33   0.5   -0.3   -0.02  -0.04  -0.5   -0.26   0.04  -0.2   -0.43\n",
       " -0.09  -0.03  -0.02   0.13  -0.99   0.01   0.0    0.01  -0.01  -0.01\n",
       " -0.06  -0.02  -0.24  -0.14  -0.0    0.58  -0.04  -0.55  -0.23  -0.48\n",
       " -0.38  -0.31  -0.63  -0.53  -0.02  -0.2   -0.11   0.14   0.05   0.11\n",
       " -0.02  -0.52   0.31  -0.05   0.0   -0.57   0.16  -0.45  -0.12  -0.25\n",
       " -0.2   -0.22  -0.45   0.82   0.14  -0.07  -0.02  -0.02  -0.02  -0.04\n",
       " -0.02  -0.35   0.17  -0.01   0.03   0.16   0.02   0.69  -0.25  -0.54\n",
       "  0.2    0.11  -0.27  -0.05  -0.02  -0.02   0.93   0.07  -0.02  -0.04\n",
       "  0.0    0.0    0.0    0.0    0.0    0.0    0.0    0.0    0.9   -0.43"
      ]
     },
     "execution_count": 9,
     "metadata": {},
     "output_type": "execute_result"
    }
   ],
   "source": [
    "println(\"\\rEigenVectors matrix ϕ =\\r\")\n",
    "ϕ=F.vectors\n",
    "round.(ϕ;digits=2)"
   ]
  },
  {
   "cell_type": "code",
   "execution_count": 10,
   "metadata": {},
   "outputs": [
    {
     "name": "stdout",
     "output_type": "stream",
     "text": [
      "Amplitude matrix A =\n"
     ]
    },
    {
     "data": {
      "text/plain": [
       "10×16 Array{Float64,2}:\n",
       " -0.0    0.0    0.0   -0.0    0.0   …   0.0    0.0    0.0    0.0    0.0\n",
       "  0.0    0.0   -0.0    0.0    0.0      -0.0    0.0   -0.0    0.0    0.0\n",
       "  0.0   -0.0    0.0    0.0   -0.0       0.0   -0.0   -0.0   -0.0   -0.0\n",
       " -0.0   -0.0   -0.0   -0.0    0.0      -0.0   -0.0   -0.0   -0.0   -0.0\n",
       " -0.0   -0.0    0.0   -0.0   -0.0      -0.0    0.0    0.0   -0.0    0.0\n",
       "  0.0   -0.0    0.0    0.0   -0.0   …   0.0   -0.0    0.0   -0.0   -0.0\n",
       "  0.0    0.0    0.0    0.0    0.0       0.0    0.0    0.0    0.0    0.0\n",
       "  0.0    0.0    0.0    0.0    0.0       0.0    0.0    0.0    0.0    0.0\n",
       "  0.0    0.0    0.0    0.0    0.0       0.0    0.0    0.0    0.0    0.0\n",
       " 66.03  49.52  39.62  33.01  55.02     23.58  41.27  30.95  24.76  20.63"
      ]
     },
     "execution_count": 10,
     "metadata": {},
     "output_type": "execute_result"
    }
   ],
   "source": [
    "println(\"\\rAmplitude matrix A =\\r\")\n",
    "A=F.vectors'*Y\n",
    "round.(A;digits=2)"
   ]
  },
  {
   "cell_type": "code",
   "execution_count": 11,
   "metadata": {},
   "outputs": [
    {
     "name": "stdout",
     "output_type": "stream",
     "text": [
      "Reconstruction of Yrecons = ϕA\n"
     ]
    },
    {
     "data": {
      "text/plain": [
       "10×16 Array{Float64,2}:\n",
       " -11.56   -8.67   -6.93   -5.78   -9.63  …   -7.22   -5.42   -4.33   -3.61\n",
       " -28.53  -21.39  -17.12  -14.26  -23.77     -17.83  -13.37  -10.7    -8.91\n",
       "  -0.89   -0.67   -0.53   -0.44   -0.74      -0.56   -0.42   -0.33   -0.28\n",
       " -31.87  -23.9   -19.12  -15.93  -26.55     -19.92  -14.94  -11.95   -9.96\n",
       "   7.11    5.33    4.27    3.56    5.93       4.44    3.33    2.67    2.22\n",
       " -16.54  -12.4    -9.92   -8.27  -13.78  …  -10.34   -7.75   -6.2    -5.17\n",
       "  -2.67   -2.0    -1.6    -1.33   -2.22      -1.67   -1.25   -1.0    -0.83\n",
       " -35.53  -26.65  -21.32  -17.76  -29.61     -22.21  -16.65  -13.32  -11.1\n",
       "  -2.67   -2.0    -1.6    -1.33   -2.22      -1.67   -1.25   -1.0    -0.83\n",
       " -28.2   -21.15  -16.92  -14.1   -23.5      -17.63  -13.22  -10.58   -8.81"
      ]
     },
     "execution_count": 11,
     "metadata": {},
     "output_type": "execute_result"
    }
   ],
   "source": [
    "println(\"\\rReconstruction of Yrecons = ϕA\\r\")\n",
    "Yrecons=ϕ*A\n",
    "round.(Yrecons;digits=2)"
   ]
  },
  {
   "cell_type": "code",
   "execution_count": 12,
   "metadata": {},
   "outputs": [
    {
     "name": "stdout",
     "output_type": "stream",
     "text": [
      "Reduction of Yapprox = ϕ10*A10'≈ Y\n"
     ]
    },
    {
     "data": {
      "text/plain": [
       "10×16 Array{Float64,2}:\n",
       " -11.56   -8.67   -6.93   -5.78   -9.63  …   -7.22   -5.42   -4.33   -3.61\n",
       " -28.53  -21.39  -17.12  -14.26  -23.77     -17.83  -13.37  -10.7    -8.91\n",
       "  -0.89   -0.67   -0.53   -0.44   -0.74      -0.56   -0.42   -0.33   -0.28\n",
       " -31.87  -23.9   -19.12  -15.93  -26.55     -19.92  -14.94  -11.95   -9.96\n",
       "   7.11    5.33    4.27    3.56    5.93       4.44    3.33    2.67    2.22\n",
       " -16.54  -12.4    -9.92   -8.27  -13.78  …  -10.34   -7.75   -6.2    -5.17\n",
       "  -2.67   -2.0    -1.6    -1.33   -2.22      -1.67   -1.25   -1.0    -0.83\n",
       " -35.53  -26.65  -21.32  -17.76  -29.61     -22.21  -16.65  -13.32  -11.1\n",
       "  -2.67   -2.0    -1.6    -1.33   -2.22      -1.67   -1.25   -1.0    -0.83\n",
       " -28.2   -21.15  -16.92  -14.1   -23.5      -17.63  -13.22  -10.58   -8.81"
      ]
     },
     "execution_count": 12,
     "metadata": {},
     "output_type": "execute_result"
    }
   ],
   "source": [
    "println(\"\\rReduction of Yapprox = ϕ10*A10'≈ Y\\r\")\n",
    "Yapprox=ϕ[:,10]*A[10,:]'\n",
    "round.(Yapprox;digits=2)"
   ]
  },
  {
   "cell_type": "code",
   "execution_count": 13,
   "metadata": {},
   "outputs": [
    {
     "name": "stdout",
     "output_type": "stream",
     "text": [
      "y1 = \n"
     ]
    },
    {
     "data": {
      "text/plain": [
       "10-element Array{Float64,1}:\n",
       " -11.56\n",
       " -28.53\n",
       "  -0.89\n",
       " -31.87\n",
       "   7.11\n",
       " -16.54\n",
       "  -2.67\n",
       " -35.53\n",
       "  -2.67\n",
       " -28.2"
      ]
     },
     "execution_count": 13,
     "metadata": {},
     "output_type": "execute_result"
    }
   ],
   "source": [
    "y1=ϕ[:,10]*A[10,:][1]\n",
    "println(\"\\ry1 = \\r\")\n",
    "round.(y1;digits=2)"
   ]
  },
  {
   "cell_type": "code",
   "execution_count": 14,
   "metadata": {},
   "outputs": [
    {
     "name": "stdout",
     "output_type": "stream",
     "text": [
      "y2 = \n"
     ]
    },
    {
     "data": {
      "text/plain": [
       "10-element Array{Float64,1}:\n",
       "  -8.67\n",
       " -21.39\n",
       "  -0.67\n",
       " -23.9\n",
       "   5.33\n",
       " -12.4\n",
       "  -2.0\n",
       " -26.65\n",
       "  -2.0\n",
       " -21.15"
      ]
     },
     "execution_count": 14,
     "metadata": {},
     "output_type": "execute_result"
    }
   ],
   "source": [
    "y2=ϕ[:,10]*A[10,:][2]\n",
    "println(\"\\ry2 = \\r\")\n",
    "round.(y2;digits=2)"
   ]
  },
  {
   "cell_type": "markdown",
   "metadata": {},
   "source": [
    "2. SVD"
   ]
  },
  {
   "cell_type": "code",
   "execution_count": 15,
   "metadata": {},
   "outputs": [
    {
     "name": "stdout",
     "output_type": "stream",
     "text": [
      "SVD decomposition of the snaphot matrix=\n"
     ]
    },
    {
     "data": {
      "text/plain": [
       "SVD{Float64,Float64,Array{Float64,2}}\n",
       "U factor:\n",
       "10×10 Array{Float64,2}:\n",
       "  0.175013    0.0908838     0.660406   …  -0.484511   -0.216359    0.0322019\n",
       "  0.432037   -0.768103      0.179112       0.0878363   0.091867   -0.0529522\n",
       "  0.0134625  -0.0174021     0.115046       0.536019    0.332963   -0.160737\n",
       "  0.482621    0.482509      0.395497       0.206786    0.169657   -0.221492\n",
       " -0.1077     -0.208478      0.0286675     -0.469527    0.602244   -0.0302001\n",
       "  0.250492    0.028493     -0.140961   …  -0.261284    0.281913    0.179778\n",
       "  0.0403875  -0.256343      0.021577      -0.0240329  -0.591306   -0.179876\n",
       "  0.538104   -0.065883     -0.272334       0.13054    -0.0489795   0.0633951\n",
       "  0.0403875  -0.000510842   0.170825       0.197072   -0.032079    0.922278\n",
       "  0.427138    0.233049     -0.487468      -0.286839   -0.0992865   0.0325882\n",
       "singular values:\n",
       "10-element Array{Float64,1}:\n",
       " 156.78079133793835\n",
       "   2.5477088009806055e-14\n",
       "   1.3824020994007164e-14\n",
       "   9.643292276369032e-15\n",
       "   6.598096259151781e-15\n",
       "   4.106081124278751e-15\n",
       "   2.2804306090188414e-15\n",
       "   1.5239077964497504e-15\n",
       "   1.2123752141300462e-15\n",
       "   7.324580957975528e-17\n",
       "Vt factor:\n",
       "10×16 Array{Float64,2}:\n",
       " -0.421142   -0.315856    -0.252685   -0.210571   …  -0.157928    -0.131607\n",
       "  0.340651   -0.292238     0.490941    0.284964      -0.146119    -0.104795\n",
       "  0.756736    0.00219469  -0.437124   -0.0126073      0.00109735   0.00603239\n",
       " -0.0678267   0.149625     0.060185   -0.137185       0.0748127    0.225823\n",
       " -0.202526    0.400048    -0.424974    0.384184       0.200024    -0.0651159\n",
       " -0.122274   -0.0194158    0.406078    0.0841654  …  -0.00970788   0.0442262\n",
       "  0.187995   -0.244968    -0.119739   -0.300882      -0.122484    -0.00877285\n",
       "  0.156614    0.349482     0.0633101  -0.169213       0.174741    -0.074278\n",
       "  0.0647012   0.478259     0.33017    -0.282783       0.23913     -0.131422\n",
       "  0.0965524   0.145411     0.166035    0.0408304      0.0727053    0.0521011"
      ]
     },
     "execution_count": 15,
     "metadata": {},
     "output_type": "execute_result"
    }
   ],
   "source": [
    "#Calculate the SVD of the snapshot matrix\n",
    "Z=svd(Y)\n",
    "println(\"\\rSVD decomposition of the snaphot matrix=\\r\")\n",
    "Z"
   ]
  },
  {
   "cell_type": "markdown",
   "metadata": {},
   "source": [
    "* Modes"
   ]
  },
  {
   "cell_type": "code",
   "execution_count": 19,
   "metadata": {},
   "outputs": [
    {
     "name": "stdout",
     "output_type": "stream",
     "text": [
      "SVD mode U =\n"
     ]
    },
    {
     "data": {
      "text/plain": [
       "10×10 Array{Float64,2}:\n",
       "  0.18   0.09   0.66  -0.14   0.04  -0.41   0.23  -0.48  -0.22   0.03\n",
       "  0.43  -0.77   0.18  -0.09   0.09   0.32   0.24   0.09   0.09  -0.05\n",
       "  0.01  -0.02   0.12  -0.48   0.23  -0.51  -0.11   0.54   0.33  -0.16\n",
       "  0.48   0.48   0.4    0.17   0.03   0.39  -0.27   0.21   0.17  -0.22\n",
       " -0.11  -0.21   0.03   0.28   0.3   -0.11  -0.42  -0.47   0.6   -0.03\n",
       "  0.25   0.03  -0.14  -0.49  -0.67   0.03  -0.22  -0.26   0.28   0.18\n",
       "  0.04  -0.26   0.02  -0.12   0.05  -0.04  -0.73  -0.02  -0.59  -0.18\n",
       "  0.54  -0.07  -0.27   0.52  -0.21  -0.54  -0.01   0.13  -0.05   0.06\n",
       "  0.04  -0.0    0.17   0.01   0.19   0.05  -0.19   0.2   -0.03   0.92\n",
       "  0.43   0.23  -0.49  -0.32   0.56   0.06   0.1   -0.29  -0.1    0.03"
      ]
     },
     "execution_count": 19,
     "metadata": {},
     "output_type": "execute_result"
    }
   ],
   "source": [
    "println(\"\\rSVD modes \\r\")\n",
    "round.(Z.U;digits=2)"
   ]
  },
  {
   "cell_type": "markdown",
   "metadata": {},
   "source": [
    "* Mode coefficients"
   ]
  },
  {
   "cell_type": "code",
   "execution_count": 20,
   "metadata": {},
   "outputs": [
    {
     "name": "stdout",
     "output_type": "stream",
     "text": [
      "SVD modes coefficients\n"
     ]
    },
    {
     "data": {
      "text/plain": [
       "10×16 Array{Float64,2}:\n",
       " -66.03  -49.52  -39.62  -33.01  -55.02  …  -41.27  -30.95  -24.76  -20.63\n",
       "   0.0    -0.0     0.0     0.0    -0.0       -0.0     0.0    -0.0    -0.0\n",
       "   0.0     0.0    -0.0    -0.0    -0.0        0.0    -0.0     0.0     0.0\n",
       "  -0.0     0.0     0.0    -0.0    -0.0        0.0     0.0     0.0     0.0\n",
       "  -0.0     0.0    -0.0     0.0    -0.0       -0.0    -0.0     0.0    -0.0\n",
       "  -0.0    -0.0     0.0     0.0     0.0   …    0.0     0.0    -0.0     0.0\n",
       "   0.0    -0.0    -0.0    -0.0     0.0       -0.0     0.0    -0.0    -0.0\n",
       "   0.0     0.0     0.0    -0.0    -0.0       -0.0     0.0     0.0    -0.0\n",
       "   0.0     0.0     0.0    -0.0    -0.0       -0.0    -0.0     0.0    -0.0\n",
       "   0.0     0.0     0.0     0.0    -0.0        0.0    -0.0     0.0     0.0"
      ]
     },
     "execution_count": 20,
     "metadata": {},
     "output_type": "execute_result"
    }
   ],
   "source": [
    "println(\"\\rSVD modes coefficients\\r\")\n",
    "round.(diagm(Z.S)*Z.Vt;digits=2)"
   ]
  },
  {
   "cell_type": "code",
   "execution_count": 22,
   "metadata": {},
   "outputs": [
    {
     "name": "stdout",
     "output_type": "stream",
     "text": [
      "Check the reconstruction of Yrecons = UΣV* = \n"
     ]
    },
    {
     "data": {
      "text/plain": [
       "10×16 Array{Float64,2}:\n",
       " -11.56   -8.67   -6.93   -5.78   -9.63  …   -7.22   -5.42   -4.33   -3.61\n",
       " -28.53  -21.39  -17.12  -14.26  -23.77     -17.83  -13.37  -10.7    -8.91\n",
       "  -0.89   -0.67   -0.53   -0.44   -0.74      -0.56   -0.42   -0.33   -0.28\n",
       " -31.87  -23.9   -19.12  -15.93  -26.55     -19.92  -14.94  -11.95   -9.96\n",
       "   7.11    5.33    4.27    3.56    5.93       4.44    3.33    2.67    2.22\n",
       " -16.54  -12.4    -9.92   -8.27  -13.78  …  -10.34   -7.75   -6.2    -5.17\n",
       "  -2.67   -2.0    -1.6    -1.33   -2.22      -1.67   -1.25   -1.0    -0.83\n",
       " -35.53  -26.65  -21.32  -17.76  -29.61     -22.21  -16.65  -13.32  -11.1\n",
       "  -2.67   -2.0    -1.6    -1.33   -2.22      -1.67   -1.25   -1.0    -0.83\n",
       " -28.2   -21.15  -16.92  -14.1   -23.5      -17.63  -13.22  -10.58   -8.81"
      ]
     },
     "execution_count": 22,
     "metadata": {},
     "output_type": "execute_result"
    }
   ],
   "source": [
    "println(\"\\rCheck the reconstruction of Yrecons = UΣV* = \\r\")\n",
    "Yrecons=Z.U*diagm(Z.S)*Z.Vt\n",
    "round.(Yrecons;digits=2)"
   ]
  },
  {
   "cell_type": "code",
   "execution_count": 23,
   "metadata": {},
   "outputs": [
    {
     "name": "stdout",
     "output_type": "stream",
     "text": [
      "The approximation Ỹ is based on the first most energetic mode\n",
      "Ỹ = \n"
     ]
    },
    {
     "data": {
      "text/plain": [
       "10×16 Array{Float64,2}:\n",
       " -11.56   -8.67   -6.93   -5.78   -9.63  …   -7.22   -5.42   -4.33   -3.61\n",
       " -28.53  -21.39  -17.12  -14.26  -23.77     -17.83  -13.37  -10.7    -8.91\n",
       "  -0.89   -0.67   -0.53   -0.44   -0.74      -0.56   -0.42   -0.33   -0.28\n",
       " -31.87  -23.9   -19.12  -15.93  -26.55     -19.92  -14.94  -11.95   -9.96\n",
       "   7.11    5.33    4.27    3.56    5.93       4.44    3.33    2.67    2.22\n",
       " -16.54  -12.4    -9.92   -8.27  -13.78  …  -10.34   -7.75   -6.2    -5.17\n",
       "  -2.67   -2.0    -1.6    -1.33   -2.22      -1.67   -1.25   -1.0    -0.83\n",
       " -35.53  -26.65  -21.32  -17.76  -29.61     -22.21  -16.65  -13.32  -11.1\n",
       "  -2.67   -2.0    -1.6    -1.33   -2.22      -1.67   -1.25   -1.0    -0.83\n",
       " -28.2   -21.15  -16.92  -14.1   -23.5      -17.63  -13.22  -10.58   -8.81"
      ]
     },
     "execution_count": 23,
     "metadata": {},
     "output_type": "execute_result"
    }
   ],
   "source": [
    "println(\"\\rThe approximation Ỹ is based on the first most energetic mode\")\n",
    "println(\"\\rỸ = \")\n",
    "Ỹ=Z.U[:,1]*(diagm(Z.S)*Z.Vt)[1,:]'\n",
    "round.(Ỹ;digits=2)"
   ]
  },
  {
   "cell_type": "code",
   "execution_count": 24,
   "metadata": {},
   "outputs": [
    {
     "name": "stdout",
     "output_type": "stream",
     "text": [
      " y1 = \n"
     ]
    },
    {
     "data": {
      "text/plain": [
       "10-element Array{Float64,1}:\n",
       " -11.56\n",
       " -28.53\n",
       "  -0.89\n",
       " -31.87\n",
       "   7.11\n",
       " -16.54\n",
       "  -2.67\n",
       " -35.53\n",
       "  -2.67\n",
       " -28.2"
      ]
     },
     "execution_count": 24,
     "metadata": {},
     "output_type": "execute_result"
    }
   ],
   "source": [
    "y1=Z.U[:,1]*(Z.S[1]*Z.Vt[1,:][1])\n",
    "println(\"\\r y1 = \\r\")\n",
    "round.(y1;digits=2)"
   ]
  },
  {
   "cell_type": "code",
   "execution_count": 25,
   "metadata": {},
   "outputs": [
    {
     "name": "stdout",
     "output_type": "stream",
     "text": [
      "y2=\n"
     ]
    },
    {
     "data": {
      "text/plain": [
       "10-element Array{Float64,1}:\n",
       "  -8.67\n",
       " -21.39\n",
       "  -0.67\n",
       " -23.9\n",
       "   5.33\n",
       " -12.4\n",
       "  -2.0\n",
       " -26.65\n",
       "  -2.0\n",
       " -21.15"
      ]
     },
     "execution_count": 25,
     "metadata": {},
     "output_type": "execute_result"
    }
   ],
   "source": [
    "y2=Z.U[:,1]*(Z.S[1]*Z.Vt[1,:][2])\n",
    "println(\"\\ry2 = \\r\")\n",
    "round.(y2;digits=2)"
   ]
  },
  {
   "cell_type": "markdown",
   "metadata": {},
   "source": [
    "# Interpolation\n",
    "For arbitray parameters, the combined use of radial basis functions (RBF) is required"
   ]
  },
  {
   "cell_type": "markdown",
   "metadata": {},
   "source": [
    "As a reminder\n",
    "* Parameter matrix $P$"
   ]
  },
  {
   "cell_type": "code",
   "execution_count": null,
   "metadata": {},
   "outputs": [],
   "source": [
    "println(\"\\rP=\\r\")\n",
    "round.(P;digits=2)"
   ]
  },
  {
   "cell_type": "markdown",
   "metadata": {},
   "source": [
    "* Amplitude matrix $A$"
   ]
  },
  {
   "cell_type": "code",
   "execution_count": null,
   "metadata": {},
   "outputs": [],
   "source": [
    "println(\"\\rA = \\r\")\n",
    "round.(A;digits=2)"
   ]
  },
  {
   "cell_type": "markdown",
   "metadata": {},
   "source": [
    "* POD mode matrix $\\phi$"
   ]
  },
  {
   "cell_type": "code",
   "execution_count": null,
   "metadata": {},
   "outputs": [],
   "source": [
    "println(\"\\rϕ = \\r\")\n",
    "round.(ϕ;digits=2)"
   ]
  },
  {
   "cell_type": "markdown",
   "metadata": {},
   "source": [
    "* Interpolation coefficient matrix $B$"
   ]
  },
  {
   "cell_type": "code",
   "execution_count": null,
   "metadata": {},
   "outputs": [],
   "source": [
    "B=BlinMtx(A,P)\n",
    "round.(B;digits=2)"
   ]
  },
  {
   "cell_type": "markdown",
   "metadata": {},
   "source": [
    "* Calculation of the nodal displacement vector for the normalized point $Pint$ to be interpolated ($E = 135000 Mpa ; A = 11 mm^{2}$)"
   ]
  },
  {
   "cell_type": "code",
   "execution_count": null,
   "metadata": {},
   "outputs": [],
   "source": [
    "Pint=[(135-125)/(200-125);(11-6)/(12-6)]\n",
    "round.(Pint;digits=2)"
   ]
  },
  {
   "cell_type": "markdown",
   "metadata": {},
   "source": [
    "* Linear spline interpolation functions vector $g$"
   ]
  },
  {
   "cell_type": "code",
   "execution_count": null,
   "metadata": {},
   "outputs": [],
   "source": [
    "g=GlinVec(P,Pint)\n",
    "round.(g;digits=2)"
   ]
  },
  {
   "cell_type": "markdown",
   "metadata": {},
   "source": [
    "Results of the interpolated nodal displacement vector"
   ]
  },
  {
   "cell_type": "code",
   "execution_count": null,
   "metadata": {},
   "outputs": [],
   "source": [
    "ũ=ϕ*B*g\n",
    "round.(ũ;digits=2)"
   ]
  },
  {
   "cell_type": "markdown",
   "metadata": {},
   "source": [
    "to be compared to the result of the full high fidelity fem results"
   ]
  },
  {
   "cell_type": "code",
   "execution_count": null,
   "metadata": {},
   "outputs": [],
   "source": [
    "ufem=TrussAssembleSolve(135000,11)\n",
    "round.(ufem;digits=2)"
   ]
  }
 ],
 "metadata": {
  "kernelspec": {
   "display_name": "Julia 1.5.0",
   "language": "julia",
   "name": "julia-1.5"
  },
  "language_info": {
   "file_extension": ".jl",
   "mimetype": "application/julia",
   "name": "julia",
   "version": "1.5.0"
  }
 },
 "nbformat": 4,
 "nbformat_minor": 4
}
