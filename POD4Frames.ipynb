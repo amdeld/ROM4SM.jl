{
 "cells": [
  {
   "cell_type": "markdown",
   "metadata": {},
   "source": [
    "# Proper Orthogonal Decomposition (POD) for Structural Mechanics\n",
    "inspired from Buljak, V. (2012). Inverse Analyses with Model Reduction Proper Orthogonal Decomposition in Structural Mechanics. Springer Berlin Heidelberg (Vol. 33). https://doi.org/10.1007/978-3-642-22703-5\n",
    "\n",
    "## Use Case : Frame made up of plane elastic trusses (11 rods et 5 unconstrained nodes with 2 degrees of freedom (10 dof)). The displacement is fixed at node 6 and node 7 fixée. The load is applied on nodes 1&2 with respectivelely a force $F1 = -5000 N$ and a force $F2 = -2000 N$ (see figure below)  "
   ]
  },
  {
   "cell_type": "markdown",
   "metadata": {},
   "source": [
    "## Frame\n",
    "\n",
    "<img src=\"https://raw.githubusercontent.com/amdeld/ROM4SM.jl/master/img/TrussStructure_LBC.png\" alt=\"Drawing\" style=\"width: 800px;\"/>\n"
   ]
  },
  {
   "cell_type": "code",
   "execution_count": 1,
   "metadata": {},
   "outputs": [],
   "source": [
    "using LinearAlgebra, CSV, DataFrames, DelimitedFiles,Plots # needed for the decomposition operations"
   ]
  },
  {
   "cell_type": "markdown",
   "metadata": {},
   "source": [
    "## Definition of the stiffness matrix function for a plane elastic truss element "
   ]
  },
  {
   "cell_type": "code",
   "execution_count": 2,
   "metadata": {},
   "outputs": [
    {
     "data": {
      "text/plain": [
       "TrussElementStiffness (generic function with 1 method)"
      ]
     },
     "execution_count": 2,
     "metadata": {},
     "output_type": "execute_result"
    }
   ],
   "source": [
    "function TrussElementStiffness(coo,E,A)\n",
    "# Function that computes stiffness matrix for truss element\n",
    "# (file name trstiff.m)\n",
    "L=sqrt((coo[2,1]-coo[1,1])^2+(coo[2,2]-coo[1,2])^2)\n",
    "C=(coo[2,1]-coo[1,1])/L\n",
    "S=(coo[2,2]-coo[1,2])/L\n",
    "# Stiffness matrix\n",
    "STF=E*A/L*[C^2 S*C -C^2 -S*C;\n",
    "S*C S^2 -S*C -S^2;\n",
    "-C^2 -S*C C^2 S*C;\n",
    "-S*C -S^2 S*C S^2];\n",
    "return(STF)\n",
    "end"
   ]
  },
  {
   "cell_type": "markdown",
   "metadata": {},
   "source": [
    "## Assemble&Solve Function"
   ]
  },
  {
   "cell_type": "code",
   "execution_count": 3,
   "metadata": {},
   "outputs": [
    {
     "data": {
      "text/plain": [
       "TrussAssembleSolve (generic function with 1 method)"
      ]
     },
     "execution_count": 3,
     "metadata": {},
     "output_type": "execute_result"
    }
   ],
   "source": [
    "# Main program for truss structure\n",
    "# Coordinates - units L[mm]\n",
    "function TrussAssembleSolve(E,A)\n",
    "COO=[0 0; 2 0; 4 0 ;1 1; 3 1; -1 1; 5 1]\n",
    "COO=1000*COO\n",
    "DOF=size(COO,1)*2\n",
    "# Elements\n",
    "ELM=[1 2; 2 3; 6 4; 4 5; 5 7; 1 6; 1 4; 2 4; 2 5; 3 5; 3 7]\n",
    "# Properties (units F[N], L[mm])\n",
    "#E=125000\n",
    "#A=6\n",
    "# Assembling of stiffness matrix\n",
    "MSTF=zeros(DOF,DOF)\n",
    "X=zeros(2,2)\n",
    "for i in 1:size(ELM,1)\n",
    "X[1,:]=COO[ELM[i,1],:]\n",
    "X[2,:]=COO[ELM[i,2],:]\n",
    "STF=TrussElementStiffness(X,E,A)\n",
    "MSTF[2*ELM[i,1]-1:2*ELM[i,1],2*ELM[i,1]-\n",
    "1:2*ELM[i,1]]=MSTF[2*ELM[i,1]-1:2*ELM[i,1],2*ELM[i,1]-\n",
    "1:2*ELM[i,1]]+STF[1:2,1:2]\n",
    "MSTF[2*ELM[i,1]-1:2*ELM[i,1],2*ELM[i,2]-\n",
    "1:2*ELM[i,2]]=MSTF[2*ELM[i,1]-1:2*ELM[i,1],2*ELM[i,2]-\n",
    "1:2*ELM[i,2]]+STF[3:4,1:2]\n",
    "MSTF[2*ELM[i,2]-1:2*ELM[i,2],2*ELM[i,1]-\n",
    "1:2*ELM[i,1]]=MSTF[2*ELM[i,2]-1:2*ELM[i,2],2*ELM[i,1]-\n",
    "1:2*ELM[i,1]]+STF[1:2,3:4]\n",
    "MSTF[2*ELM[i,2]-1:2*ELM[i,2],2*ELM[i,2]-\n",
    "1:2*ELM[i,2]]=MSTF[2*ELM[i,2]-1:2*ELM[i,2],2*ELM[i,2]-\n",
    "1:2*ELM[i,2]]+STF[3:4,3:4]\n",
    "end\n",
    "# Constrains\n",
    "con=[12 13 14 15] # constrained DOF\n",
    "CDOF=size(con,2)\n",
    "# Forces\n",
    "dF=zeros(DOF,1)\n",
    "dF[2]=-5000\n",
    "dF[6]=-2000\n",
    "# Reduced stiffness matrix & force vector\n",
    "RSTF=MSTF[1:DOF-CDOF,1:DOF-CDOF]\n",
    "dFR=dF[1:DOF-CDOF]\n",
    "# Solving for displacements\n",
    "d=inv(RSTF)*dFR\n",
    "# End of main program\n",
    "return(d)\n",
    "end"
   ]
  },
  {
   "cell_type": "markdown",
   "metadata": {},
   "source": [
    "## Definition of the design of experiments function (doe)"
   ]
  },
  {
   "cell_type": "code",
   "execution_count": 4,
   "metadata": {},
   "outputs": [
    {
     "data": {
      "text/plain": [
       "doe (generic function with 1 method)"
      ]
     },
     "execution_count": 4,
     "metadata": {},
     "output_type": "execute_result"
    }
   ],
   "source": [
    "function doe()\n",
    "    Y=zeros(10,16)\n",
    "    P=zeros(2,16)\n",
    "    cnt=0\n",
    "    for E in [125000 150000 175000 200000]\n",
    "        for A in [6 8 10 12]\n",
    "            Disp = TrussAssembleSolve(E, A)\n",
    "            #show(Disp)\n",
    "            cnt += 1\n",
    "            Y[:,cnt] = Disp\n",
    "            P[:,cnt] = [E;A]\n",
    "        end\n",
    "    end\n",
    "    #show(U)\n",
    "    return (Y,P)\n",
    "end"
   ]
  },
  {
   "cell_type": "markdown",
   "metadata": {},
   "source": [
    "## Definition of the calculation function for the matrix $B$ of coefficients of interpolation "
   ]
  },
  {
   "cell_type": "code",
   "execution_count": 5,
   "metadata": {},
   "outputs": [
    {
     "data": {
      "text/plain": [
       "BlinMtx (generic function with 1 method)"
      ]
     },
     "execution_count": 5,
     "metadata": {},
     "output_type": "execute_result"
    }
   ],
   "source": [
    "function BlinMtx(A, p)\n",
    "    # Interpolation by the use of RBFs [Linear splines type]\n",
    "    # Normalization of P [0 1]\n",
    "    M = size(p, 1)\n",
    "    N = size(p, 2)\n",
    "    minP = zeros(M)\n",
    "    maxP = zeros(M)\n",
    "    x = zeros(M, N)\n",
    "    G = zeros(N, N)\n",
    "    for j = 1:M\n",
    "        minP[j] = minimum(p[j,:])\n",
    "        maxP[j] = maximum(p[j,:])\n",
    "        for i = 1:N\n",
    "            x[j,i] = (p[j,i] - minP[j]) / (maxP[j] - minP[j])\n",
    "        end\n",
    "    end\n",
    "    for i = 1:N\n",
    "        for j = 1:N\n",
    "            G[i,j] = sum((x[:,i] - x[:,j]).^2).^0.5\n",
    "        end\n",
    "    end\n",
    "    return A * inv(G)\n",
    "end"
   ]
  },
  {
   "cell_type": "markdown",
   "metadata": {},
   "source": [
    "## Definition of the calculation function for the vector $G$ of interpolation functions"
   ]
  },
  {
   "cell_type": "code",
   "execution_count": 6,
   "metadata": {},
   "outputs": [
    {
     "data": {
      "text/plain": [
       "GlinVec (generic function with 1 method)"
      ]
     },
     "execution_count": 6,
     "metadata": {},
     "output_type": "execute_result"
    }
   ],
   "source": [
    "function GlinVec(p, pX)\n",
    "    # Function that constructs G vector as function of given parameters\n",
    "    M=size(p,1)\n",
    "    N = size(p, 2); # The number of generated snapshots\n",
    "    minP = zeros(M)\n",
    "    maxP = zeros(M)\n",
    "    x = zeros(M, N)\n",
    "    G = zeros(N)\n",
    "    # Normalization of p\n",
    "    for j = 1:M\n",
    "        minP[j,1] = minimum(p[j,:])\n",
    "        maxP[j,1] = maximum(p[j,:])\n",
    "        for i = 1:N\n",
    "            x[j,i] = (p[j,i] - minP[j]) / (maxP[j] - minP[j])\n",
    "        end\n",
    "    end\n",
    "    gi(x,y) = (sum((x-y).^2).^0.5)\n",
    "    value = pX\n",
    "    for k = 1:N\n",
    "        G[k] = gi(value,x[:,k])\n",
    "    end\n",
    "    return G\n",
    "end"
   ]
  },
  {
   "cell_type": "markdown",
   "metadata": {},
   "source": [
    "## DOE execution for the snapshot  $Y$ and the parameter $P$ matrices calculation \n",
    "<img src=\"https://raw.githubusercontent.com/amdeld/ROM4SM.jl/master/img/Snapshotmatrix4FEM.png\" alt=\"Drawing\" style=\"width: 700px;\"/>\n",
    "\n",
    "$Y=\\left[\\begin{array}{cccccccccc}\n",
    "| & | & | & | & | & | & | & | & | & |\\\\\n",
    "\\vdots & \\vdots & \\vdots & \\vdots & \\vdots & \\vdots & \\vdots & \\vdots & \\vdots & \\vdots\\\\\n",
    "| & | & | & | & | & | & | & | & | & |\\\\\n",
    "Y_{1} & Y_{2} & Y_{3} & Y_{4} & Y_{5} & Y_{6} & Y_{7} & Y_{8} & Y_{9} & Y_{10}\\\\\n",
    "| & | & | & | & | & | & | & | & | & |\\\\\n",
    "\\vdots & \\vdots & \\vdots & \\vdots & \\vdots & \\vdots & \\vdots & \\vdots & \\vdots & \\vdots\\\\\n",
    "| & | & | & | & | & | & | & | & | & |\n",
    "\\end{array}\\right]$\n",
    "\n",
    "Range of Young modulus $E = \\{125000; 150000; 175000; 200000\\} (unit\\ MPa)$\n",
    "Range of cross section $A = \\{6; 8; 10; 12\\} (unit\\ mm)$"
   ]
  },
  {
   "cell_type": "code",
   "execution_count": 7,
   "metadata": {},
   "outputs": [
    {
     "name": "stdout",
     "output_type": "stream",
     "text": [
      "The Data - Snapshot matrix coming out from the DOE Y =\n",
      "10×16 Array{Float64,2}:\n",
      " -11.56   -8.67   -6.93   -5.78   -9.63   -7.22   -5.78   -4.81   -8.25   -6.19   -4.95   -4.13   -7.22   -5.42   -4.33   -3.61\n",
      " -28.53  -21.39  -17.12  -14.26  -23.77  -17.83  -14.26  -11.89  -20.38  -15.28  -12.23  -10.19  -17.83  -13.37  -10.7    -8.91\n",
      "  -0.89   -0.67   -0.53   -0.44   -0.74   -0.56   -0.44   -0.37   -0.63   -0.48   -0.38   -0.32   -0.56   -0.42   -0.33   -0.28\n",
      " -31.87  -23.9   -19.12  -15.93  -26.55  -19.92  -15.93  -13.28  -22.76  -17.07  -13.66  -11.38  -19.92  -14.94  -11.95   -9.96\n",
      "   7.11    5.33    4.27    3.56    5.93    4.44    3.56    2.96    5.08    3.81    3.05    2.54    4.44    3.33    2.67    2.22\n",
      " -16.54  -12.4    -9.92   -8.27  -13.78  -10.34   -8.27   -6.89  -11.81   -8.86   -7.09   -5.91  -10.34   -7.75   -6.2    -5.17\n",
      "  -2.67   -2.0    -1.6    -1.33   -2.22   -1.67   -1.33   -1.11   -1.9    -1.43   -1.14   -0.95   -1.67   -1.25   -1.0    -0.83\n",
      " -35.53  -26.65  -21.32  -17.76  -29.61  -22.21  -17.76  -14.8   -25.38  -19.03  -15.23  -12.69  -22.21  -16.65  -13.32  -11.1\n",
      "  -2.67   -2.0    -1.6    -1.33   -2.22   -1.67   -1.33   -1.11   -1.9    -1.43   -1.14   -0.95   -1.67   -1.25   -1.0    -0.83\n",
      " -28.2   -21.15  -16.92  -14.1   -23.5   -17.63  -14.1   -11.75  -20.14  -15.11  -12.09  -10.07  -17.63  -13.22  -10.58   -8.81\n",
      "\n",
      "The Parameter matrix P coming out from the DOE P =\n",
      "2×16 Array{Float64,2}:\n",
      " 125000.0  125000.0  125000.0  125000.0  150000.0  150000.0  150000.0  150000.0  175000.0  175000.0  175000.0  175000.0  200000.0  200000.0  200000.0  200000.0\n",
      "      6.0       8.0      10.0      12.0       6.0       8.0      10.0      12.0       6.0       8.0      10.0      12.0       6.0       8.0      10.0      12.0"
     ]
    }
   ],
   "source": [
    "# Execute The design of experiments (DOE)\n",
    "Y,P=doe()\n",
    "# Wriing data into csv files\n",
    "CSV.write(\"data/X.csv\",DataFrame(P'))\n",
    "CSV.write(\"data/Y.csv\",DataFrame(Y))\n",
    "println(\"\\rThe Data - Snapshot matrix coming out from the DOE Y =\\r\")\n",
    "show(stdout,\"text/plain\", round.(Y;digits=2))\n",
    "println(\"\\n\\nThe Parameter matrix P coming out from the DOE P =\\r\")\n",
    "show(stdout,\"text/plain\", round.(P;digits=0))\n"
   ]
  },
  {
   "cell_type": "markdown",
   "metadata": {},
   "source": [
    "## Verification of the results for the first column ($E = 125000 MPa$ and $A = 6mm$) with the commercial finite element software MSC.Marc\n",
    "<img src=\"https://raw.githubusercontent.com/amdeld/ROM4SM.jl/master/img/TrussStructure_DisplacementX.png\" alt=\"Drawing\" style=\"width: 800px;\"/>\n",
    "<img src=\"https://raw.githubusercontent.com/amdeld/ROM4SM.jl/master/img/TrussStructure_DisplacementY.png\" alt=\"Drawing\" style=\"width: 800px;\"/>"
   ]
  },
  {
   "cell_type": "markdown",
   "metadata": {},
   "source": [
    "## POD 2 methodes are used here which give the same results (1. eigen decomposition and 2. singular value decompostion) followed by reconstruction and reduction steps"
   ]
  },
  {
   "cell_type": "markdown",
   "metadata": {},
   "source": [
    "1. Eigen decomposition"
   ]
  },
  {
   "cell_type": "code",
   "execution_count": 8,
   "metadata": {},
   "outputs": [
    {
     "name": "stdout",
     "output_type": "stream",
     "text": [
      "EigenValues vector λ =\n"
     ]
    },
    {
     "data": {
      "text/plain": [
       "10-element Array{Float64,1}:\n",
       "    -0.0\n",
       "    -0.0\n",
       "    -0.0\n",
       "    -0.0\n",
       "     0.0\n",
       "     0.0\n",
       "     0.0\n",
       "     0.0\n",
       "     0.0\n",
       " 24580.22"
      ]
     },
     "execution_count": 8,
     "metadata": {},
     "output_type": "execute_result"
    }
   ],
   "source": [
    "F=eigen(Y*Y')\n",
    "println(\"\\rEigenValues vector λ =\\r\")\n",
    "round.(F.values,digits=2)"
   ]
  },
  {
   "cell_type": "code",
   "execution_count": 9,
   "metadata": {},
   "outputs": [
    {
     "name": "stdout",
     "output_type": "stream",
     "text": [
      "EigenVectors matrix ϕ =\n"
     ]
    },
    {
     "data": {
      "text/plain": [
       "10×10 Array{Float64,2}:\n",
       " -0.81   0.45   0.22   0.03   0.06  -0.13   0.17   0.01  -0.08  -0.18\n",
       "  0.33   0.5   -0.3   -0.02  -0.04  -0.5   -0.26   0.04  -0.2   -0.43\n",
       " -0.09  -0.03  -0.02   0.13  -0.99   0.01   0.0    0.01  -0.01  -0.01\n",
       " -0.06  -0.02  -0.24  -0.14  -0.0    0.58  -0.04  -0.55  -0.23  -0.48\n",
       " -0.38  -0.31  -0.63  -0.53  -0.02  -0.2   -0.11   0.14   0.05   0.11\n",
       " -0.02  -0.52   0.31  -0.05   0.0   -0.57   0.16  -0.45  -0.12  -0.25\n",
       " -0.2   -0.22  -0.45   0.82   0.14  -0.07  -0.02  -0.02  -0.02  -0.04\n",
       " -0.02  -0.35   0.17  -0.01   0.03   0.16   0.02   0.69  -0.25  -0.54\n",
       "  0.2    0.11  -0.27  -0.05  -0.02  -0.02   0.93   0.07  -0.02  -0.04\n",
       "  0.0    0.0    0.0    0.0    0.0    0.0    0.0    0.0    0.9   -0.43"
      ]
     },
     "execution_count": 9,
     "metadata": {},
     "output_type": "execute_result"
    }
   ],
   "source": [
    "println(\"\\rEigenVectors matrix ϕ =\\r\")\n",
    "ϕ=F.vectors\n",
    "round.(ϕ;digits=2)"
   ]
  },
  {
   "cell_type": "code",
   "execution_count": 10,
   "metadata": {},
   "outputs": [
    {
     "name": "stdout",
     "output_type": "stream",
     "text": [
      "Amplitude matrix A =\n"
     ]
    },
    {
     "data": {
      "text/plain": [
       "10×16 Array{Float64,2}:\n",
       " -0.0    0.0    0.0   -0.0    0.0   …   0.0    0.0    0.0    0.0    0.0\n",
       "  0.0    0.0   -0.0    0.0    0.0      -0.0    0.0   -0.0    0.0    0.0\n",
       "  0.0   -0.0    0.0    0.0   -0.0       0.0   -0.0   -0.0   -0.0   -0.0\n",
       " -0.0   -0.0   -0.0   -0.0    0.0      -0.0   -0.0   -0.0   -0.0   -0.0\n",
       " -0.0   -0.0    0.0   -0.0   -0.0      -0.0    0.0    0.0   -0.0    0.0\n",
       "  0.0   -0.0    0.0    0.0   -0.0   …   0.0   -0.0    0.0   -0.0   -0.0\n",
       "  0.0    0.0    0.0    0.0    0.0       0.0    0.0    0.0    0.0    0.0\n",
       "  0.0    0.0    0.0    0.0    0.0       0.0    0.0    0.0    0.0    0.0\n",
       "  0.0    0.0    0.0    0.0    0.0       0.0    0.0    0.0    0.0    0.0\n",
       " 66.03  49.52  39.62  33.01  55.02     23.58  41.27  30.95  24.76  20.63"
      ]
     },
     "execution_count": 10,
     "metadata": {},
     "output_type": "execute_result"
    }
   ],
   "source": [
    "println(\"\\rAmplitude matrix A =\\r\")\n",
    "A=F.vectors'*Y\n",
    "round.(A;digits=2)"
   ]
  },
  {
   "cell_type": "markdown",
   "metadata": {},
   "source": [
    "* Reconstruction without any reduction"
   ]
  },
  {
   "cell_type": "code",
   "execution_count": 11,
   "metadata": {},
   "outputs": [
    {
     "name": "stdout",
     "output_type": "stream",
     "text": [
      "Full Reconstruction Yrecons = ϕA\n"
     ]
    },
    {
     "data": {
      "text/plain": [
       "10×16 Array{Float64,2}:\n",
       " -11.56   -8.67   -6.93   -5.78   -9.63  …   -7.22   -5.42   -4.33   -3.61\n",
       " -28.53  -21.39  -17.12  -14.26  -23.77     -17.83  -13.37  -10.7    -8.91\n",
       "  -0.89   -0.67   -0.53   -0.44   -0.74      -0.56   -0.42   -0.33   -0.28\n",
       " -31.87  -23.9   -19.12  -15.93  -26.55     -19.92  -14.94  -11.95   -9.96\n",
       "   7.11    5.33    4.27    3.56    5.93       4.44    3.33    2.67    2.22\n",
       " -16.54  -12.4    -9.92   -8.27  -13.78  …  -10.34   -7.75   -6.2    -5.17\n",
       "  -2.67   -2.0    -1.6    -1.33   -2.22      -1.67   -1.25   -1.0    -0.83\n",
       " -35.53  -26.65  -21.32  -17.76  -29.61     -22.21  -16.65  -13.32  -11.1\n",
       "  -2.67   -2.0    -1.6    -1.33   -2.22      -1.67   -1.25   -1.0    -0.83\n",
       " -28.2   -21.15  -16.92  -14.1   -23.5      -17.63  -13.22  -10.58   -8.81"
      ]
     },
     "execution_count": 11,
     "metadata": {},
     "output_type": "execute_result"
    }
   ],
   "source": [
    "println(\"\\rFull Reconstruction Yrecons = ϕA\\r\")\n",
    "Yrecons=ϕ*A\n",
    "round.(Yrecons;digits=2)"
   ]
  },
  {
   "cell_type": "markdown",
   "metadata": {},
   "source": [
    "* Reconstruction based on the first most energetic mode reduction"
   ]
  },
  {
   "cell_type": "code",
   "execution_count": 12,
   "metadata": {},
   "outputs": [
    {
     "name": "stdout",
     "output_type": "stream",
     "text": [
      "Reconstruction (reduction based on the most energetic mode) Ỹ10 = ϕ10*A10'≈ Y\n"
     ]
    },
    {
     "data": {
      "text/plain": [
       "10×16 Array{Float64,2}:\n",
       " -11.56   -8.67   -6.93   -5.78   -9.63  …   -7.22   -5.42   -4.33   -3.61\n",
       " -28.53  -21.39  -17.12  -14.26  -23.77     -17.83  -13.37  -10.7    -8.91\n",
       "  -0.89   -0.67   -0.53   -0.44   -0.74      -0.56   -0.42   -0.33   -0.28\n",
       " -31.87  -23.9   -19.12  -15.93  -26.55     -19.92  -14.94  -11.95   -9.96\n",
       "   7.11    5.33    4.27    3.56    5.93       4.44    3.33    2.67    2.22\n",
       " -16.54  -12.4    -9.92   -8.27  -13.78  …  -10.34   -7.75   -6.2    -5.17\n",
       "  -2.67   -2.0    -1.6    -1.33   -2.22      -1.67   -1.25   -1.0    -0.83\n",
       " -35.53  -26.65  -21.32  -17.76  -29.61     -22.21  -16.65  -13.32  -11.1\n",
       "  -2.67   -2.0    -1.6    -1.33   -2.22      -1.67   -1.25   -1.0    -0.83\n",
       " -28.2   -21.15  -16.92  -14.1   -23.5      -17.63  -13.22  -10.58   -8.81"
      ]
     },
     "execution_count": 12,
     "metadata": {},
     "output_type": "execute_result"
    }
   ],
   "source": [
    "println(\"\\rReconstruction (reduction based on the most energetic mode) Ỹ10 = ϕ10*A10'≈ Y\\r\")\n",
    "Ỹ10=ϕ[:,10]*A[10,:]'\n",
    "round.(Ỹ10;digits=2)"
   ]
  },
  {
   "cell_type": "code",
   "execution_count": 13,
   "metadata": {},
   "outputs": [
    {
     "name": "stdout",
     "output_type": "stream",
     "text": [
      "Reconstruction of the first snapshot (reduction based on the most energetic mode) Y1\n",
      "Y1 = \n"
     ]
    },
    {
     "data": {
      "text/plain": [
       "10-element Array{Float64,1}:\n",
       " -11.56\n",
       " -28.53\n",
       "  -0.89\n",
       " -31.87\n",
       "   7.11\n",
       " -16.54\n",
       "  -2.67\n",
       " -35.53\n",
       "  -2.67\n",
       " -28.2"
      ]
     },
     "execution_count": 13,
     "metadata": {},
     "output_type": "execute_result"
    }
   ],
   "source": [
    "println(\"\\rReconstruction of the first snapshot (reduction based on the most energetic mode) Y1\\r\")\n",
    "Y1=ϕ[:,10]*A[10,:][1]\n",
    "println(\"\\rY1 = \\r\")\n",
    "round.(Y1;digits=2)"
   ]
  },
  {
   "cell_type": "code",
   "execution_count": 14,
   "metadata": {},
   "outputs": [
    {
     "name": "stdout",
     "output_type": "stream",
     "text": [
      "Reconstruction of the second snapshot (reduction based on a single mode) Y2\n",
      "Y2 = \n"
     ]
    },
    {
     "data": {
      "text/plain": [
       "10-element Array{Float64,1}:\n",
       "  -8.67\n",
       " -21.39\n",
       "  -0.67\n",
       " -23.9\n",
       "   5.33\n",
       " -12.4\n",
       "  -2.0\n",
       " -26.65\n",
       "  -2.0\n",
       " -21.15"
      ]
     },
     "execution_count": 14,
     "metadata": {},
     "output_type": "execute_result"
    }
   ],
   "source": [
    "println(\"\\rReconstruction of the second snapshot (reduction based on a single mode) Y2\\r\")\n",
    "Y2=ϕ[:,10]*A[10,:][2]\n",
    "println(\"\\rY2 = \\r\")\n",
    "round.(Y2;digits=2)"
   ]
  },
  {
   "cell_type": "markdown",
   "metadata": {},
   "source": [
    "2. SVD"
   ]
  },
  {
   "cell_type": "code",
   "execution_count": 15,
   "metadata": {},
   "outputs": [
    {
     "name": "stdout",
     "output_type": "stream",
     "text": [
      "SVD decomposition of the snapshot matrix\n"
     ]
    },
    {
     "data": {
      "text/plain": [
       "SVD{Float64,Float64,Array{Float64,2}}\n",
       "U factor:\n",
       "10×10 Array{Float64,2}:\n",
       "  0.175013    0.0908838     0.660406   …  -0.484511   -0.216359    0.0322019\n",
       "  0.432037   -0.768103      0.179112       0.0878363   0.091867   -0.0529522\n",
       "  0.0134625  -0.0174021     0.115046       0.536019    0.332963   -0.160737\n",
       "  0.482621    0.482509      0.395497       0.206786    0.169657   -0.221492\n",
       " -0.1077     -0.208478      0.0286675     -0.469527    0.602244   -0.0302001\n",
       "  0.250492    0.028493     -0.140961   …  -0.261284    0.281913    0.179778\n",
       "  0.0403875  -0.256343      0.021577      -0.0240329  -0.591306   -0.179876\n",
       "  0.538104   -0.065883     -0.272334       0.13054    -0.0489795   0.0633951\n",
       "  0.0403875  -0.000510842   0.170825       0.197072   -0.032079    0.922278\n",
       "  0.427138    0.233049     -0.487468      -0.286839   -0.0992865   0.0325882\n",
       "singular values:\n",
       "10-element Array{Float64,1}:\n",
       " 156.78079133793835\n",
       "   2.5477088009806055e-14\n",
       "   1.3824020994007164e-14\n",
       "   9.643292276369032e-15\n",
       "   6.598096259151781e-15\n",
       "   4.106081124278751e-15\n",
       "   2.2804306090188414e-15\n",
       "   1.5239077964497504e-15\n",
       "   1.2123752141300462e-15\n",
       "   7.324580957975528e-17\n",
       "Vt factor:\n",
       "10×16 Array{Float64,2}:\n",
       " -0.421142   -0.315856    -0.252685   -0.210571   …  -0.157928    -0.131607\n",
       "  0.340651   -0.292238     0.490941    0.284964      -0.146119    -0.104795\n",
       "  0.756736    0.00219469  -0.437124   -0.0126073      0.00109735   0.00603239\n",
       " -0.0678267   0.149625     0.060185   -0.137185       0.0748127    0.225823\n",
       " -0.202526    0.400048    -0.424974    0.384184       0.200024    -0.0651159\n",
       " -0.122274   -0.0194158    0.406078    0.0841654  …  -0.00970788   0.0442262\n",
       "  0.187995   -0.244968    -0.119739   -0.300882      -0.122484    -0.00877285\n",
       "  0.156614    0.349482     0.0633101  -0.169213       0.174741    -0.074278\n",
       "  0.0647012   0.478259     0.33017    -0.282783       0.23913     -0.131422\n",
       "  0.0965524   0.145411     0.166035    0.0408304      0.0727053    0.0521011"
      ]
     },
     "execution_count": 15,
     "metadata": {},
     "output_type": "execute_result"
    }
   ],
   "source": [
    "#Calculate the SVD of the snapshot matrix\n",
    "Z=svd(Y)\n",
    "println(\"\\rSVD decomposition of the snapshot matrix\\r\")\n",
    "Z"
   ]
  },
  {
   "cell_type": "markdown",
   "metadata": {},
   "source": [
    "* Modes"
   ]
  },
  {
   "cell_type": "code",
   "execution_count": 16,
   "metadata": {},
   "outputs": [
    {
     "name": "stdout",
     "output_type": "stream",
     "text": [
      "SVD modes\n"
     ]
    },
    {
     "data": {
      "text/plain": [
       "10×10 Array{Float64,2}:\n",
       "  0.18   0.09   0.66  -0.14   0.04  -0.41   0.23  -0.48  -0.22   0.03\n",
       "  0.43  -0.77   0.18  -0.09   0.09   0.32   0.24   0.09   0.09  -0.05\n",
       "  0.01  -0.02   0.12  -0.48   0.23  -0.51  -0.11   0.54   0.33  -0.16\n",
       "  0.48   0.48   0.4    0.17   0.03   0.39  -0.27   0.21   0.17  -0.22\n",
       " -0.11  -0.21   0.03   0.28   0.3   -0.11  -0.42  -0.47   0.6   -0.03\n",
       "  0.25   0.03  -0.14  -0.49  -0.67   0.03  -0.22  -0.26   0.28   0.18\n",
       "  0.04  -0.26   0.02  -0.12   0.05  -0.04  -0.73  -0.02  -0.59  -0.18\n",
       "  0.54  -0.07  -0.27   0.52  -0.21  -0.54  -0.01   0.13  -0.05   0.06\n",
       "  0.04  -0.0    0.17   0.01   0.19   0.05  -0.19   0.2   -0.03   0.92\n",
       "  0.43   0.23  -0.49  -0.32   0.56   0.06   0.1   -0.29  -0.1    0.03"
      ]
     },
     "execution_count": 16,
     "metadata": {},
     "output_type": "execute_result"
    }
   ],
   "source": [
    "println(\"\\rSVD modes\\r\")\n",
    "round.(Z.U;digits=2)"
   ]
  },
  {
   "cell_type": "markdown",
   "metadata": {},
   "source": [
    "* Mode coefficients"
   ]
  },
  {
   "cell_type": "code",
   "execution_count": 17,
   "metadata": {},
   "outputs": [
    {
     "name": "stdout",
     "output_type": "stream",
     "text": [
      "SVD modes coefficients\n"
     ]
    },
    {
     "data": {
      "text/plain": [
       "10×16 Array{Float64,2}:\n",
       " -66.03  -49.52  -39.62  -33.01  -55.02  …  -41.27  -30.95  -24.76  -20.63\n",
       "   0.0    -0.0     0.0     0.0    -0.0       -0.0     0.0    -0.0    -0.0\n",
       "   0.0     0.0    -0.0    -0.0    -0.0        0.0    -0.0     0.0     0.0\n",
       "  -0.0     0.0     0.0    -0.0    -0.0        0.0     0.0     0.0     0.0\n",
       "  -0.0     0.0    -0.0     0.0    -0.0       -0.0    -0.0     0.0    -0.0\n",
       "  -0.0    -0.0     0.0     0.0     0.0   …    0.0     0.0    -0.0     0.0\n",
       "   0.0    -0.0    -0.0    -0.0     0.0       -0.0     0.0    -0.0    -0.0\n",
       "   0.0     0.0     0.0    -0.0    -0.0       -0.0     0.0     0.0    -0.0\n",
       "   0.0     0.0     0.0    -0.0    -0.0       -0.0    -0.0     0.0    -0.0\n",
       "   0.0     0.0     0.0     0.0    -0.0        0.0    -0.0     0.0     0.0"
      ]
     },
     "execution_count": 17,
     "metadata": {},
     "output_type": "execute_result"
    }
   ],
   "source": [
    "println(\"\\rSVD modes coefficients\\r\")\n",
    "round.(diagm(Z.S)*Z.Vt;digits=2)"
   ]
  },
  {
   "cell_type": "markdown",
   "metadata": {},
   "source": [
    "* Reconstruction without any reduction"
   ]
  },
  {
   "cell_type": "code",
   "execution_count": 18,
   "metadata": {},
   "outputs": [
    {
     "name": "stdout",
     "output_type": "stream",
     "text": [
      "Full Reconstruction  Yrecons = UΣV*\n"
     ]
    },
    {
     "data": {
      "text/plain": [
       "10×16 Array{Float64,2}:\n",
       " -11.56   -8.67   -6.93   -5.78   -9.63  …   -7.22   -5.42   -4.33   -3.61\n",
       " -28.53  -21.39  -17.12  -14.26  -23.77     -17.83  -13.37  -10.7    -8.91\n",
       "  -0.89   -0.67   -0.53   -0.44   -0.74      -0.56   -0.42   -0.33   -0.28\n",
       " -31.87  -23.9   -19.12  -15.93  -26.55     -19.92  -14.94  -11.95   -9.96\n",
       "   7.11    5.33    4.27    3.56    5.93       4.44    3.33    2.67    2.22\n",
       " -16.54  -12.4    -9.92   -8.27  -13.78  …  -10.34   -7.75   -6.2    -5.17\n",
       "  -2.67   -2.0    -1.6    -1.33   -2.22      -1.67   -1.25   -1.0    -0.83\n",
       " -35.53  -26.65  -21.32  -17.76  -29.61     -22.21  -16.65  -13.32  -11.1\n",
       "  -2.67   -2.0    -1.6    -1.33   -2.22      -1.67   -1.25   -1.0    -0.83\n",
       " -28.2   -21.15  -16.92  -14.1   -23.5      -17.63  -13.22  -10.58   -8.81"
      ]
     },
     "execution_count": 18,
     "metadata": {},
     "output_type": "execute_result"
    }
   ],
   "source": [
    "println(\"\\rFull Reconstruction  Yrecons = UΣV*\\r\")\n",
    "Yrecons=Z.U*diagm(Z.S)*Z.Vt\n",
    "round.(Yrecons;digits=2)"
   ]
  },
  {
   "cell_type": "markdown",
   "metadata": {},
   "source": [
    "* Reconstruction based on the first most energetic mode reduction"
   ]
  },
  {
   "cell_type": "code",
   "execution_count": 19,
   "metadata": {},
   "outputs": [
    {
     "name": "stdout",
     "output_type": "stream",
     "text": [
      "Reconstruction of the data matrix Ỹ1 \n",
      "Ỹ1 = \n"
     ]
    },
    {
     "data": {
      "text/plain": [
       "10×16 Array{Float64,2}:\n",
       " -11.56   -8.67   -6.93   -5.78   -9.63  …   -7.22   -5.42   -4.33   -3.61\n",
       " -28.53  -21.39  -17.12  -14.26  -23.77     -17.83  -13.37  -10.7    -8.91\n",
       "  -0.89   -0.67   -0.53   -0.44   -0.74      -0.56   -0.42   -0.33   -0.28\n",
       " -31.87  -23.9   -19.12  -15.93  -26.55     -19.92  -14.94  -11.95   -9.96\n",
       "   7.11    5.33    4.27    3.56    5.93       4.44    3.33    2.67    2.22\n",
       " -16.54  -12.4    -9.92   -8.27  -13.78  …  -10.34   -7.75   -6.2    -5.17\n",
       "  -2.67   -2.0    -1.6    -1.33   -2.22      -1.67   -1.25   -1.0    -0.83\n",
       " -35.53  -26.65  -21.32  -17.76  -29.61     -22.21  -16.65  -13.32  -11.1\n",
       "  -2.67   -2.0    -1.6    -1.33   -2.22      -1.67   -1.25   -1.0    -0.83\n",
       " -28.2   -21.15  -16.92  -14.1   -23.5      -17.63  -13.22  -10.58   -8.81"
      ]
     },
     "execution_count": 19,
     "metadata": {},
     "output_type": "execute_result"
    }
   ],
   "source": [
    "println(\"\\rReconstruction of the data matrix Ỹ1 \")\n",
    "println(\"\\rỸ1 = \")\n",
    "Ỹ1=Z.U[:,1]*(diagm(Z.S)*Z.Vt)[1,:]'\n",
    "round.(Ỹ1;digits=2)"
   ]
  },
  {
   "cell_type": "code",
   "execution_count": 20,
   "metadata": {},
   "outputs": [
    {
     "name": "stdout",
     "output_type": "stream",
     "text": [
      "Reconstruction of the first snapshot Y1\n",
      "Y1 = \n"
     ]
    },
    {
     "data": {
      "text/plain": [
       "10-element Array{Float64,1}:\n",
       " -11.56\n",
       " -28.53\n",
       "  -0.89\n",
       " -31.87\n",
       "   7.11\n",
       " -16.54\n",
       "  -2.67\n",
       " -35.53\n",
       "  -2.67\n",
       " -28.2"
      ]
     },
     "execution_count": 20,
     "metadata": {},
     "output_type": "execute_result"
    }
   ],
   "source": [
    "println(\"\\rReconstruction of the first snapshot Y1\\r\")\n",
    "Y1=Z.U[:,1]*(Z.S[1]*Z.Vt[1,:][1])\n",
    "println(\"\\rY1 = \\r\")\n",
    "round.(Y1;digits=2)"
   ]
  },
  {
   "cell_type": "code",
   "execution_count": 21,
   "metadata": {},
   "outputs": [
    {
     "name": "stdout",
     "output_type": "stream",
     "text": [
      "Reconstruction of the second snapshot Y2\n",
      "Y2 = \n"
     ]
    },
    {
     "data": {
      "text/plain": [
       "10-element Array{Float64,1}:\n",
       "  -8.67\n",
       " -21.39\n",
       "  -0.67\n",
       " -23.9\n",
       "   5.33\n",
       " -12.4\n",
       "  -2.0\n",
       " -26.65\n",
       "  -2.0\n",
       " -21.15"
      ]
     },
     "execution_count": 21,
     "metadata": {},
     "output_type": "execute_result"
    }
   ],
   "source": [
    "println(\"\\rReconstruction of the second snapshot Y2\\r\")\n",
    "Y2=Z.U[:,1]*(Z.S[1]*Z.Vt[1,:][2])\n",
    "println(\"\\rY2 = \\r\")\n",
    "round.(Y2;digits=2)"
   ]
  },
  {
   "cell_type": "markdown",
   "metadata": {},
   "source": [
    "# Interpolation\n",
    "For arbitray parameters, the combined use of radial basis functions (RBF) is required"
   ]
  },
  {
   "cell_type": "markdown",
   "metadata": {},
   "source": [
    "As a reminder\n",
    "* Parameter matrix $P$"
   ]
  },
  {
   "cell_type": "code",
   "execution_count": 22,
   "metadata": {},
   "outputs": [
    {
     "name": "stdout",
     "output_type": "stream",
     "text": [
      "P=\n",
      "2×16 Array{Float64,2}:\n",
      " 125000.0  125000.0  125000.0  125000.0  150000.0  150000.0  150000.0  150000.0  175000.0  175000.0  175000.0  175000.0  200000.0  200000.0  200000.0  200000.0\n",
      "      6.0       8.0      10.0      12.0       6.0       8.0      10.0      12.0       6.0       8.0      10.0      12.0       6.0       8.0      10.0      12.0"
     ]
    }
   ],
   "source": [
    "println(\"\\rP=\\r\")\n",
    "show(stdout,\"text/plain\", round.(P;digits=0))"
   ]
  },
  {
   "cell_type": "markdown",
   "metadata": {},
   "source": [
    "* Amplitude matrix $A$"
   ]
  },
  {
   "cell_type": "code",
   "execution_count": 23,
   "metadata": {},
   "outputs": [
    {
     "name": "stdout",
     "output_type": "stream",
     "text": [
      "A = \n"
     ]
    },
    {
     "data": {
      "text/plain": [
       "10×16 Array{Float64,2}:\n",
       " -0.0    0.0    0.0   -0.0    0.0   …   0.0    0.0    0.0    0.0    0.0\n",
       "  0.0    0.0   -0.0    0.0    0.0      -0.0    0.0   -0.0    0.0    0.0\n",
       "  0.0   -0.0    0.0    0.0   -0.0       0.0   -0.0   -0.0   -0.0   -0.0\n",
       " -0.0   -0.0   -0.0   -0.0    0.0      -0.0   -0.0   -0.0   -0.0   -0.0\n",
       " -0.0   -0.0    0.0   -0.0   -0.0      -0.0    0.0    0.0   -0.0    0.0\n",
       "  0.0   -0.0    0.0    0.0   -0.0   …   0.0   -0.0    0.0   -0.0   -0.0\n",
       "  0.0    0.0    0.0    0.0    0.0       0.0    0.0    0.0    0.0    0.0\n",
       "  0.0    0.0    0.0    0.0    0.0       0.0    0.0    0.0    0.0    0.0\n",
       "  0.0    0.0    0.0    0.0    0.0       0.0    0.0    0.0    0.0    0.0\n",
       " 66.03  49.52  39.62  33.01  55.02     23.58  41.27  30.95  24.76  20.63"
      ]
     },
     "execution_count": 23,
     "metadata": {},
     "output_type": "execute_result"
    }
   ],
   "source": [
    "println(\"\\rA = \\r\")\n",
    "round.(A;digits=2)"
   ]
  },
  {
   "cell_type": "markdown",
   "metadata": {},
   "source": [
    "* POD mode matrix $\\phi$"
   ]
  },
  {
   "cell_type": "code",
   "execution_count": 24,
   "metadata": {},
   "outputs": [
    {
     "name": "stdout",
     "output_type": "stream",
     "text": [
      "ϕ = \n"
     ]
    },
    {
     "data": {
      "text/plain": [
       "10×10 Array{Float64,2}:\n",
       " -0.81   0.45   0.22   0.03   0.06  -0.13   0.17   0.01  -0.08  -0.18\n",
       "  0.33   0.5   -0.3   -0.02  -0.04  -0.5   -0.26   0.04  -0.2   -0.43\n",
       " -0.09  -0.03  -0.02   0.13  -0.99   0.01   0.0    0.01  -0.01  -0.01\n",
       " -0.06  -0.02  -0.24  -0.14  -0.0    0.58  -0.04  -0.55  -0.23  -0.48\n",
       " -0.38  -0.31  -0.63  -0.53  -0.02  -0.2   -0.11   0.14   0.05   0.11\n",
       " -0.02  -0.52   0.31  -0.05   0.0   -0.57   0.16  -0.45  -0.12  -0.25\n",
       " -0.2   -0.22  -0.45   0.82   0.14  -0.07  -0.02  -0.02  -0.02  -0.04\n",
       " -0.02  -0.35   0.17  -0.01   0.03   0.16   0.02   0.69  -0.25  -0.54\n",
       "  0.2    0.11  -0.27  -0.05  -0.02  -0.02   0.93   0.07  -0.02  -0.04\n",
       "  0.0    0.0    0.0    0.0    0.0    0.0    0.0    0.0    0.9   -0.43"
      ]
     },
     "execution_count": 24,
     "metadata": {},
     "output_type": "execute_result"
    }
   ],
   "source": [
    "println(\"\\rϕ = \\r\")\n",
    "round.(ϕ;digits=2)"
   ]
  },
  {
   "cell_type": "markdown",
   "metadata": {},
   "source": [
    "* Interpolation coefficient matrix $B$"
   ]
  },
  {
   "cell_type": "code",
   "execution_count": 25,
   "metadata": {},
   "outputs": [
    {
     "data": {
      "text/plain": [
       "10×16 Array{Float64,2}:\n",
       "   0.0   -0.0   -0.0    0.0   -0.0   …   0.0    0.0   -0.0    0.0   0.0\n",
       "   0.0   -0.0    0.0   -0.0   -0.0       0.0   -0.0    0.0   -0.0  -0.0\n",
       "  -0.0    0.0   -0.0    0.0    0.0      -0.0    0.0   -0.0    0.0   0.0\n",
       "   0.0   -0.0    0.0    0.0   -0.0       0.0   -0.0    0.0   -0.0  -0.0\n",
       "   0.0    0.0   -0.0    0.0    0.0       0.0   -0.0    0.0    0.0  -0.0\n",
       "  -0.0    0.0   -0.0   -0.0    0.0   …  -0.0    0.0   -0.0    0.0   0.0\n",
       "  -0.0    0.0   -0.0    0.0    0.0      -0.0    0.0   -0.0    0.0   0.0\n",
       "   0.0   -0.0    0.0    0.0   -0.0       0.0   -0.0    0.0   -0.0   0.0\n",
       "  -0.0    0.0   -0.0    0.0    0.0      -0.0    0.0   -0.0    0.0   0.0\n",
       " -12.26   6.16   1.64  16.44  -1.43      2.41  11.85   7.41   3.5  19.07"
      ]
     },
     "execution_count": 25,
     "metadata": {},
     "output_type": "execute_result"
    }
   ],
   "source": [
    "B=BlinMtx(A,P)\n",
    "round.(B;digits=2)"
   ]
  },
  {
   "cell_type": "markdown",
   "metadata": {},
   "source": [
    "* Calculation of the nodal displacement vector for the normalized point $Pint$ to be interpolated ($E = 135000 Mpa ; A = 11 mm^{2}$)"
   ]
  },
  {
   "cell_type": "code",
   "execution_count": 26,
   "metadata": {},
   "outputs": [
    {
     "data": {
      "image/svg+xml": [
       "<?xml version=\"1.0\" encoding=\"utf-8\"?>\n",
       "<svg xmlns=\"http://www.w3.org/2000/svg\" xmlns:xlink=\"http://www.w3.org/1999/xlink\" width=\"600\" height=\"400\" viewBox=\"0 0 2400 1600\">\n",
       "<defs>\n",
       "  <clipPath id=\"clip150\">\n",
       "    <rect x=\"0\" y=\"0\" width=\"2400\" height=\"1600\"/>\n",
       "  </clipPath>\n",
       "</defs>\n",
       "<path clip-path=\"url(#clip150)\" d=\"\n",
       "M0 1600 L2400 1600 L2400 0 L0 0  Z\n",
       "  \" fill=\"#ff8c00\" fill-rule=\"evenodd\" fill-opacity=\"1\"/>\n",
       "<defs>\n",
       "  <clipPath id=\"clip151\">\n",
       "    <rect x=\"480\" y=\"0\" width=\"1681\" height=\"1600\"/>\n",
       "  </clipPath>\n",
       "</defs>\n",
       "<path clip-path=\"url(#clip150)\" d=\"\n",
       "M197.852 1423.18 L2352.76 1423.18 L2352.76 123.472 L197.852 123.472  Z\n",
       "  \" fill=\"#ff8c00\" fill-rule=\"evenodd\" fill-opacity=\"1\"/>\n",
       "<defs>\n",
       "  <clipPath id=\"clip152\">\n",
       "    <rect x=\"197\" y=\"123\" width=\"2156\" height=\"1301\"/>\n",
       "  </clipPath>\n",
       "</defs>\n",
       "<polyline clip-path=\"url(#clip152)\" style=\"stroke:#000000; stroke-width:2; stroke-opacity:0.1; fill:none\" points=\"\n",
       "  197.852,1423.18 197.852,123.472 \n",
       "  \"/>\n",
       "<polyline clip-path=\"url(#clip152)\" style=\"stroke:#000000; stroke-width:2; stroke-opacity:0.1; fill:none\" points=\"\n",
       "  733.232,1423.18 733.232,123.472 \n",
       "  \"/>\n",
       "<polyline clip-path=\"url(#clip152)\" style=\"stroke:#000000; stroke-width:2; stroke-opacity:0.1; fill:none\" points=\"\n",
       "  1268.61,1423.18 1268.61,123.472 \n",
       "  \"/>\n",
       "<polyline clip-path=\"url(#clip152)\" style=\"stroke:#000000; stroke-width:2; stroke-opacity:0.1; fill:none\" points=\"\n",
       "  1803.99,1423.18 1803.99,123.472 \n",
       "  \"/>\n",
       "<polyline clip-path=\"url(#clip152)\" style=\"stroke:#000000; stroke-width:2; stroke-opacity:0.1; fill:none\" points=\"\n",
       "  2339.37,1423.18 2339.37,123.472 \n",
       "  \"/>\n",
       "<polyline clip-path=\"url(#clip150)\" style=\"stroke:#000000; stroke-width:4; stroke-opacity:1; fill:none\" points=\"\n",
       "  197.852,1423.18 2352.76,1423.18 \n",
       "  \"/>\n",
       "<polyline clip-path=\"url(#clip150)\" style=\"stroke:#000000; stroke-width:4; stroke-opacity:1; fill:none\" points=\"\n",
       "  197.852,1423.18 197.852,1407.58 \n",
       "  \"/>\n",
       "<polyline clip-path=\"url(#clip150)\" style=\"stroke:#000000; stroke-width:4; stroke-opacity:1; fill:none\" points=\"\n",
       "  733.232,1423.18 733.232,1407.58 \n",
       "  \"/>\n",
       "<polyline clip-path=\"url(#clip150)\" style=\"stroke:#000000; stroke-width:4; stroke-opacity:1; fill:none\" points=\"\n",
       "  1268.61,1423.18 1268.61,1407.58 \n",
       "  \"/>\n",
       "<polyline clip-path=\"url(#clip150)\" style=\"stroke:#000000; stroke-width:4; stroke-opacity:1; fill:none\" points=\"\n",
       "  1803.99,1423.18 1803.99,1407.58 \n",
       "  \"/>\n",
       "<polyline clip-path=\"url(#clip150)\" style=\"stroke:#000000; stroke-width:4; stroke-opacity:1; fill:none\" points=\"\n",
       "  2339.37,1423.18 2339.37,1407.58 \n",
       "  \"/>\n",
       "<path clip-path=\"url(#clip150)\" d=\"M 0 0 M162.019 1479.92 L169.658 1479.92 L169.658 1453.55 L161.348 1455.22 L161.348 1450.96 L169.612 1449.29 L174.288 1449.29 L174.288 1479.92 L181.927 1479.92 L181.927 1483.85 L162.019 1483.85 L162.019 1479.92 Z\" fill=\"#000000\" fill-rule=\"evenodd\" fill-opacity=\"1\" /><path clip-path=\"url(#clip150)\" d=\"M 0 0 M191.024 1479.92 L207.343 1479.92 L207.343 1483.85 L185.399 1483.85 L185.399 1479.92 Q188.061 1477.16 192.644 1472.53 Q197.251 1467.88 198.431 1466.54 Q200.677 1464.01 201.556 1462.28 Q202.459 1460.52 202.459 1458.83 Q202.459 1456.07 200.515 1454.34 Q198.593 1452.6 195.491 1452.6 Q193.292 1452.6 190.839 1453.37 Q188.408 1454.13 185.63 1455.68 L185.63 1450.96 Q188.454 1449.82 190.908 1449.25 Q193.362 1448.67 195.399 1448.67 Q200.769 1448.67 203.964 1451.35 Q207.158 1454.04 207.158 1458.53 Q207.158 1460.66 206.348 1462.58 Q205.561 1464.48 203.454 1467.07 Q202.876 1467.74 199.774 1470.96 Q196.672 1474.15 191.024 1479.92 Z\" fill=\"#000000\" fill-rule=\"evenodd\" fill-opacity=\"1\" /><path clip-path=\"url(#clip150)\" d=\"M 0 0 M222.413 1452.37 Q218.801 1452.37 216.973 1455.94 Q215.167 1459.48 215.167 1466.61 Q215.167 1473.71 216.973 1477.28 Q218.801 1480.82 222.413 1480.82 Q226.047 1480.82 227.852 1477.28 Q229.681 1473.71 229.681 1466.61 Q229.681 1459.48 227.852 1455.94 Q226.047 1452.37 222.413 1452.37 M222.413 1448.67 Q228.223 1448.67 231.278 1453.27 Q234.357 1457.86 234.357 1466.61 Q234.357 1475.33 231.278 1479.94 Q228.223 1484.52 222.413 1484.52 Q216.602 1484.52 213.524 1479.94 Q210.468 1475.33 210.468 1466.61 Q210.468 1457.86 213.524 1453.27 Q216.602 1448.67 222.413 1448.67 Z\" fill=\"#000000\" fill-rule=\"evenodd\" fill-opacity=\"1\" /><path clip-path=\"url(#clip150)\" d=\"M 0 0 M696.357 1479.92 L703.996 1479.92 L703.996 1453.55 L695.686 1455.22 L695.686 1450.96 L703.95 1449.29 L708.626 1449.29 L708.626 1479.92 L716.265 1479.92 L716.265 1483.85 L696.357 1483.85 L696.357 1479.92 Z\" fill=\"#000000\" fill-rule=\"evenodd\" fill-opacity=\"1\" /><path clip-path=\"url(#clip150)\" d=\"M 0 0 M734.181 1453.37 L722.376 1471.81 L734.181 1471.81 L734.181 1453.37 M732.954 1449.29 L738.834 1449.29 L738.834 1471.81 L743.765 1471.81 L743.765 1475.7 L738.834 1475.7 L738.834 1483.85 L734.181 1483.85 L734.181 1475.7 L718.58 1475.7 L718.58 1471.19 L732.954 1449.29 Z\" fill=\"#000000\" fill-rule=\"evenodd\" fill-opacity=\"1\" /><path clip-path=\"url(#clip150)\" d=\"M 0 0 M758.834 1452.37 Q755.223 1452.37 753.394 1455.94 Q751.589 1459.48 751.589 1466.61 Q751.589 1473.71 753.394 1477.28 Q755.223 1480.82 758.834 1480.82 Q762.468 1480.82 764.274 1477.28 Q766.102 1473.71 766.102 1466.61 Q766.102 1459.48 764.274 1455.94 Q762.468 1452.37 758.834 1452.37 M758.834 1448.67 Q764.644 1448.67 767.7 1453.27 Q770.778 1457.86 770.778 1466.61 Q770.778 1475.33 767.7 1479.94 Q764.644 1484.52 758.834 1484.52 Q753.024 1484.52 749.945 1479.94 Q746.89 1475.33 746.89 1466.61 Q746.89 1457.86 749.945 1453.27 Q753.024 1448.67 758.834 1448.67 Z\" fill=\"#000000\" fill-rule=\"evenodd\" fill-opacity=\"1\" /><path clip-path=\"url(#clip150)\" d=\"M 0 0 M1231.9 1479.92 L1239.54 1479.92 L1239.54 1453.55 L1231.23 1455.22 L1231.23 1450.96 L1239.49 1449.29 L1244.17 1449.29 L1244.17 1479.92 L1251.81 1479.92 L1251.81 1483.85 L1231.9 1483.85 L1231.9 1479.92 Z\" fill=\"#000000\" fill-rule=\"evenodd\" fill-opacity=\"1\" /><path clip-path=\"url(#clip150)\" d=\"M 0 0 M1267.45 1464.71 Q1264.31 1464.71 1262.45 1466.86 Q1260.63 1469.01 1260.63 1472.76 Q1260.63 1476.49 1262.45 1478.67 Q1264.31 1480.82 1267.45 1480.82 Q1270.6 1480.82 1272.43 1478.67 Q1274.28 1476.49 1274.28 1472.76 Q1274.28 1469.01 1272.43 1466.86 Q1270.6 1464.71 1267.45 1464.71 M1276.74 1450.06 L1276.74 1454.31 Q1274.98 1453.48 1273.17 1453.04 Q1271.39 1452.6 1269.63 1452.6 Q1265 1452.6 1262.55 1455.73 Q1260.12 1458.85 1259.77 1465.17 Q1261.14 1463.16 1263.2 1462.09 Q1265.26 1461 1267.73 1461 Q1272.94 1461 1275.95 1464.18 Q1278.98 1467.32 1278.98 1472.76 Q1278.98 1478.09 1275.83 1481.31 Q1272.69 1484.52 1267.45 1484.52 Q1261.46 1484.52 1258.29 1479.94 Q1255.12 1475.33 1255.12 1466.61 Q1255.12 1458.41 1259.01 1453.55 Q1262.89 1448.67 1269.45 1448.67 Q1271.2 1448.67 1272.99 1449.01 Q1274.79 1449.36 1276.74 1450.06 Z\" fill=\"#000000\" fill-rule=\"evenodd\" fill-opacity=\"1\" /><path clip-path=\"url(#clip150)\" d=\"M 0 0 M1294.05 1452.37 Q1290.44 1452.37 1288.61 1455.94 Q1286.81 1459.48 1286.81 1466.61 Q1286.81 1473.71 1288.61 1477.28 Q1290.44 1480.82 1294.05 1480.82 Q1297.69 1480.82 1299.49 1477.28 Q1301.32 1473.71 1301.32 1466.61 Q1301.32 1459.48 1299.49 1455.94 Q1297.69 1452.37 1294.05 1452.37 M1294.05 1448.67 Q1299.86 1448.67 1302.92 1453.27 Q1306 1457.86 1306 1466.61 Q1306 1475.33 1302.92 1479.94 Q1299.86 1484.52 1294.05 1484.52 Q1288.24 1484.52 1285.16 1479.94 Q1282.11 1475.33 1282.11 1466.61 Q1282.11 1457.86 1285.16 1453.27 Q1288.24 1448.67 1294.05 1448.67 Z\" fill=\"#000000\" fill-rule=\"evenodd\" fill-opacity=\"1\" /><path clip-path=\"url(#clip150)\" d=\"M 0 0 M1767.41 1479.92 L1775.05 1479.92 L1775.05 1453.55 L1766.73 1455.22 L1766.73 1450.96 L1775 1449.29 L1779.67 1449.29 L1779.67 1479.92 L1787.31 1479.92 L1787.31 1483.85 L1767.41 1483.85 L1767.41 1479.92 Z\" fill=\"#000000\" fill-rule=\"evenodd\" fill-opacity=\"1\" /><path clip-path=\"url(#clip150)\" d=\"M 0 0 M1802.38 1467.44 Q1799.05 1467.44 1797.13 1469.22 Q1795.23 1471 1795.23 1474.13 Q1795.23 1477.25 1797.13 1479.04 Q1799.05 1480.82 1802.38 1480.82 Q1805.72 1480.82 1807.64 1479.04 Q1809.56 1477.23 1809.56 1474.13 Q1809.56 1471 1807.64 1469.22 Q1805.74 1467.44 1802.38 1467.44 M1797.71 1465.45 Q1794.7 1464.71 1793.01 1462.65 Q1791.34 1460.59 1791.34 1457.63 Q1791.34 1453.48 1794.28 1451.07 Q1797.24 1448.67 1802.38 1448.67 Q1807.54 1448.67 1810.48 1451.07 Q1813.42 1453.48 1813.42 1457.63 Q1813.42 1460.59 1811.73 1462.65 Q1810.07 1464.71 1807.08 1465.45 Q1810.46 1466.24 1812.34 1468.53 Q1814.23 1470.82 1814.23 1474.13 Q1814.23 1479.15 1811.16 1481.84 Q1808.1 1484.52 1802.38 1484.52 Q1796.67 1484.52 1793.59 1481.84 Q1790.53 1479.15 1790.53 1474.13 Q1790.53 1470.82 1792.43 1468.53 Q1794.33 1466.24 1797.71 1465.45 M1795.99 1458.06 Q1795.99 1460.75 1797.66 1462.25 Q1799.35 1463.76 1802.38 1463.76 Q1805.39 1463.76 1807.08 1462.25 Q1808.79 1460.75 1808.79 1458.06 Q1808.79 1455.38 1807.08 1453.88 Q1805.39 1452.37 1802.38 1452.37 Q1799.35 1452.37 1797.66 1453.88 Q1795.99 1455.38 1795.99 1458.06 Z\" fill=\"#000000\" fill-rule=\"evenodd\" fill-opacity=\"1\" /><path clip-path=\"url(#clip150)\" d=\"M 0 0 M1829.3 1452.37 Q1825.69 1452.37 1823.86 1455.94 Q1822.06 1459.48 1822.06 1466.61 Q1822.06 1473.71 1823.86 1477.28 Q1825.69 1480.82 1829.3 1480.82 Q1832.94 1480.82 1834.74 1477.28 Q1836.57 1473.71 1836.57 1466.61 Q1836.57 1459.48 1834.74 1455.94 Q1832.94 1452.37 1829.3 1452.37 M1829.3 1448.67 Q1835.11 1448.67 1838.17 1453.27 Q1841.25 1457.86 1841.25 1466.61 Q1841.25 1475.33 1838.17 1479.94 Q1835.11 1484.52 1829.3 1484.52 Q1823.49 1484.52 1820.42 1479.94 Q1817.36 1475.33 1817.36 1466.61 Q1817.36 1457.86 1820.42 1453.27 Q1823.49 1448.67 1829.3 1448.67 Z\" fill=\"#000000\" fill-rule=\"evenodd\" fill-opacity=\"1\" /><path clip-path=\"url(#clip150)\" d=\"M 0 0 M2307.01 1479.92 L2323.33 1479.92 L2323.33 1483.85 L2301.39 1483.85 L2301.39 1479.92 Q2304.05 1477.16 2308.63 1472.53 Q2313.24 1467.88 2314.42 1466.54 Q2316.66 1464.01 2317.54 1462.28 Q2318.45 1460.52 2318.45 1458.83 Q2318.45 1456.07 2316.5 1454.34 Q2314.58 1452.6 2311.48 1452.6 Q2309.28 1452.6 2306.83 1453.37 Q2304.39 1454.13 2301.62 1455.68 L2301.62 1450.96 Q2304.44 1449.82 2306.89 1449.25 Q2309.35 1448.67 2311.39 1448.67 Q2316.76 1448.67 2319.95 1451.35 Q2323.14 1454.04 2323.14 1458.53 Q2323.14 1460.66 2322.33 1462.58 Q2321.55 1464.48 2319.44 1467.07 Q2318.86 1467.74 2315.76 1470.96 Q2312.66 1474.15 2307.01 1479.92 Z\" fill=\"#000000\" fill-rule=\"evenodd\" fill-opacity=\"1\" /><path clip-path=\"url(#clip150)\" d=\"M 0 0 M2338.4 1452.37 Q2334.79 1452.37 2332.96 1455.94 Q2331.15 1459.48 2331.15 1466.61 Q2331.15 1473.71 2332.96 1477.28 Q2334.79 1480.82 2338.4 1480.82 Q2342.03 1480.82 2343.84 1477.28 Q2345.67 1473.71 2345.67 1466.61 Q2345.67 1459.48 2343.84 1455.94 Q2342.03 1452.37 2338.4 1452.37 M2338.4 1448.67 Q2344.21 1448.67 2347.26 1453.27 Q2350.34 1457.86 2350.34 1466.61 Q2350.34 1475.33 2347.26 1479.94 Q2344.21 1484.52 2338.4 1484.52 Q2332.59 1484.52 2329.51 1479.94 Q2326.45 1475.33 2326.45 1466.61 Q2326.45 1457.86 2329.51 1453.27 Q2332.59 1448.67 2338.4 1448.67 Z\" fill=\"#000000\" fill-rule=\"evenodd\" fill-opacity=\"1\" /><path clip-path=\"url(#clip150)\" d=\"M 0 0 M2365.41 1452.37 Q2361.8 1452.37 2359.97 1455.94 Q2358.17 1459.48 2358.17 1466.61 Q2358.17 1473.71 2359.97 1477.28 Q2361.8 1480.82 2365.41 1480.82 Q2369.05 1480.82 2370.85 1477.28 Q2372.68 1473.71 2372.68 1466.61 Q2372.68 1459.48 2370.85 1455.94 Q2369.05 1452.37 2365.41 1452.37 M2365.41 1448.67 Q2371.22 1448.67 2374.28 1453.27 Q2377.36 1457.86 2377.36 1466.61 Q2377.36 1475.33 2374.28 1479.94 Q2371.22 1484.52 2365.41 1484.52 Q2359.6 1484.52 2356.52 1479.94 Q2353.47 1475.33 2353.47 1466.61 Q2353.47 1457.86 2356.52 1453.27 Q2359.6 1448.67 2365.41 1448.67 Z\" fill=\"#000000\" fill-rule=\"evenodd\" fill-opacity=\"1\" /><path clip-path=\"url(#clip150)\" d=\"M 0 0 M1027.25 1508.52 L1034.16 1508.52 L1047.33 1528.07 L1060.41 1508.52 L1067.32 1508.52 L1050.52 1533.41 L1050.52 1556.04 L1044.05 1556.04 L1044.05 1533.41 L1027.25 1508.52 Z\" fill=\"#000000\" fill-rule=\"evenodd\" fill-opacity=\"1\" /><path clip-path=\"url(#clip150)\" d=\"M 0 0 M1078.62 1524.5 Q1073.91 1524.5 1071.17 1528.19 Q1068.43 1531.85 1068.43 1538.25 Q1068.43 1544.65 1071.14 1548.34 Q1073.88 1552 1078.62 1552 Q1083.3 1552 1086.04 1548.31 Q1088.77 1544.62 1088.77 1538.25 Q1088.77 1531.92 1086.04 1528.23 Q1083.3 1524.5 1078.62 1524.5 M1078.62 1519.54 Q1086.26 1519.54 1090.62 1524.5 Q1094.98 1529.47 1094.98 1538.25 Q1094.98 1547 1090.62 1552 Q1086.26 1556.97 1078.62 1556.97 Q1070.95 1556.97 1066.59 1552 Q1062.26 1547 1062.26 1538.25 Q1062.26 1529.47 1066.59 1524.5 Q1070.95 1519.54 1078.62 1519.54 Z\" fill=\"#000000\" fill-rule=\"evenodd\" fill-opacity=\"1\" /><path clip-path=\"url(#clip150)\" d=\"M 0 0 M1100.52 1541.98 L1100.52 1520.4 L1106.37 1520.4 L1106.37 1541.75 Q1106.37 1546.81 1108.35 1549.36 Q1110.32 1551.87 1114.27 1551.87 Q1119.01 1551.87 1121.75 1548.85 Q1124.52 1545.83 1124.52 1540.61 L1124.52 1520.4 L1130.37 1520.4 L1130.37 1556.04 L1124.52 1556.04 L1124.52 1550.57 Q1122.38 1553.82 1119.55 1555.41 Q1116.75 1556.97 1113.03 1556.97 Q1106.88 1556.97 1103.7 1553.15 Q1100.52 1549.33 1100.52 1541.98 M1115.25 1519.54 L1115.25 1519.54 Z\" fill=\"#000000\" fill-rule=\"evenodd\" fill-opacity=\"1\" /><path clip-path=\"url(#clip150)\" d=\"M 0 0 M1166.15 1534.53 L1166.15 1556.04 L1160.29 1556.04 L1160.29 1534.72 Q1160.29 1529.66 1158.32 1527.14 Q1156.35 1524.63 1152.4 1524.63 Q1147.66 1524.63 1144.92 1527.65 Q1142.18 1530.68 1142.18 1535.9 L1142.18 1556.04 L1136.29 1556.04 L1136.29 1520.4 L1142.18 1520.4 L1142.18 1525.93 Q1144.28 1522.72 1147.11 1521.13 Q1149.98 1519.54 1153.7 1519.54 Q1159.85 1519.54 1163 1523.36 Q1166.15 1527.14 1166.15 1534.53 Z\" fill=\"#000000\" fill-rule=\"evenodd\" fill-opacity=\"1\" /><path clip-path=\"url(#clip150)\" d=\"M 0 0 M1195.75 1537.81 Q1195.75 1531.44 1193.11 1527.94 Q1190.5 1524.44 1185.75 1524.44 Q1181.04 1524.44 1178.4 1527.94 Q1175.79 1531.44 1175.79 1537.81 Q1175.79 1544.14 1178.4 1547.64 Q1181.04 1551.14 1185.75 1551.14 Q1190.5 1551.14 1193.11 1547.64 Q1195.75 1544.14 1195.75 1537.81 M1201.61 1551.62 Q1201.61 1560.72 1197.56 1565.15 Q1193.52 1569.6 1185.18 1569.6 Q1182.09 1569.6 1179.36 1569.13 Q1176.62 1568.68 1174.04 1567.72 L1174.04 1562.03 Q1176.62 1563.43 1179.13 1564.1 Q1181.65 1564.76 1184.26 1564.76 Q1190.02 1564.76 1192.88 1561.74 Q1195.75 1558.75 1195.75 1552.67 L1195.75 1549.77 Q1193.93 1552.92 1191.1 1554.48 Q1188.27 1556.04 1184.32 1556.04 Q1177.77 1556.04 1173.76 1551.05 Q1169.74 1546.05 1169.74 1537.81 Q1169.74 1529.53 1173.76 1524.53 Q1177.77 1519.54 1184.32 1519.54 Q1188.27 1519.54 1191.1 1521.1 Q1193.93 1522.66 1195.75 1525.81 L1195.75 1520.4 L1201.61 1520.4 L1201.61 1551.62 Z\" fill=\"#000000\" fill-rule=\"evenodd\" fill-opacity=\"1\" /><path clip-path=\"url(#clip150)\" d=\"M 0 0 M1256.22 1527.24 Q1258.42 1523.29 1261.47 1521.41 Q1264.53 1519.54 1268.67 1519.54 Q1274.24 1519.54 1277.26 1523.45 Q1280.29 1527.33 1280.29 1534.53 L1280.29 1556.04 L1274.4 1556.04 L1274.4 1534.72 Q1274.4 1529.59 1272.58 1527.11 Q1270.77 1524.63 1267.04 1524.63 Q1262.49 1524.63 1259.85 1527.65 Q1257.21 1530.68 1257.21 1535.9 L1257.21 1556.04 L1251.32 1556.04 L1251.32 1534.72 Q1251.32 1529.56 1249.51 1527.11 Q1247.69 1524.63 1243.91 1524.63 Q1239.42 1524.63 1236.78 1527.68 Q1234.13 1530.71 1234.13 1535.9 L1234.13 1556.04 L1228.25 1556.04 L1228.25 1520.4 L1234.13 1520.4 L1234.13 1525.93 Q1236.14 1522.66 1238.94 1521.1 Q1241.74 1519.54 1245.59 1519.54 Q1249.48 1519.54 1252.18 1521.51 Q1254.92 1523.48 1256.22 1527.24 Z\" fill=\"#000000\" fill-rule=\"evenodd\" fill-opacity=\"1\" /><path clip-path=\"url(#clip150)\" d=\"M 0 0 M1300.24 1524.5 Q1295.53 1524.5 1292.79 1528.19 Q1290.06 1531.85 1290.06 1538.25 Q1290.06 1544.65 1292.76 1548.34 Q1295.5 1552 1300.24 1552 Q1304.92 1552 1307.66 1548.31 Q1310.4 1544.62 1310.4 1538.25 Q1310.4 1531.92 1307.66 1528.23 Q1304.92 1524.5 1300.24 1524.5 M1300.24 1519.54 Q1307.88 1519.54 1312.24 1524.5 Q1316.6 1529.47 1316.6 1538.25 Q1316.6 1547 1312.24 1552 Q1307.88 1556.97 1300.24 1556.97 Q1292.57 1556.97 1288.21 1552 Q1283.88 1547 1283.88 1538.25 Q1283.88 1529.47 1288.21 1524.5 Q1292.57 1519.54 1300.24 1519.54 Z\" fill=\"#000000\" fill-rule=\"evenodd\" fill-opacity=\"1\" /><path clip-path=\"url(#clip150)\" d=\"M 0 0 M1346.2 1525.81 L1346.2 1506.52 L1352.06 1506.52 L1352.06 1556.04 L1346.2 1556.04 L1346.2 1550.7 Q1344.36 1553.88 1341.52 1555.44 Q1338.72 1556.97 1334.78 1556.97 Q1328.31 1556.97 1324.24 1551.81 Q1320.2 1546.65 1320.2 1538.25 Q1320.2 1529.85 1324.24 1524.69 Q1328.31 1519.54 1334.78 1519.54 Q1338.72 1519.54 1341.52 1521.1 Q1344.36 1522.62 1346.2 1525.81 M1326.25 1538.25 Q1326.25 1544.71 1328.89 1548.4 Q1331.56 1552.07 1336.21 1552.07 Q1340.86 1552.07 1343.53 1548.4 Q1346.2 1544.71 1346.2 1538.25 Q1346.2 1531.79 1343.53 1528.13 Q1340.86 1524.44 1336.21 1524.44 Q1331.56 1524.44 1328.89 1528.13 Q1326.25 1531.79 1326.25 1538.25 Z\" fill=\"#000000\" fill-rule=\"evenodd\" fill-opacity=\"1\" /><path clip-path=\"url(#clip150)\" d=\"M 0 0 M1357.6 1541.98 L1357.6 1520.4 L1363.45 1520.4 L1363.45 1541.75 Q1363.45 1546.81 1365.43 1549.36 Q1367.4 1551.87 1371.35 1551.87 Q1376.09 1551.87 1378.83 1548.85 Q1381.6 1545.83 1381.6 1540.61 L1381.6 1520.4 L1387.45 1520.4 L1387.45 1556.04 L1381.6 1556.04 L1381.6 1550.57 Q1379.46 1553.82 1376.63 1555.41 Q1373.83 1556.97 1370.11 1556.97 Q1363.96 1556.97 1360.78 1553.15 Q1357.6 1549.33 1357.6 1541.98 M1372.33 1519.54 L1372.33 1519.54 Z\" fill=\"#000000\" fill-rule=\"evenodd\" fill-opacity=\"1\" /><path clip-path=\"url(#clip150)\" d=\"M 0 0 M1393.59 1506.52 L1399.45 1506.52 L1399.45 1556.04 L1393.59 1556.04 L1393.59 1506.52 Z\" fill=\"#000000\" fill-rule=\"evenodd\" fill-opacity=\"1\" /><path clip-path=\"url(#clip150)\" d=\"M 0 0 M1404.99 1541.98 L1404.99 1520.4 L1410.85 1520.4 L1410.85 1541.75 Q1410.85 1546.81 1412.82 1549.36 Q1414.79 1551.87 1418.74 1551.87 Q1423.48 1551.87 1426.22 1548.85 Q1428.99 1545.83 1428.99 1540.61 L1428.99 1520.4 L1434.84 1520.4 L1434.84 1556.04 L1428.99 1556.04 L1428.99 1550.57 Q1426.86 1553.82 1424.02 1555.41 Q1421.22 1556.97 1417.5 1556.97 Q1411.36 1556.97 1408.17 1553.15 Q1404.99 1549.33 1404.99 1541.98 M1419.73 1519.54 L1419.73 1519.54 Z\" fill=\"#000000\" fill-rule=\"evenodd\" fill-opacity=\"1\" /><path clip-path=\"url(#clip150)\" d=\"M 0 0 M1463.71 1521.45 L1463.71 1526.98 Q1461.23 1525.71 1458.56 1525.07 Q1455.88 1524.44 1453.02 1524.44 Q1448.66 1524.44 1446.46 1525.77 Q1444.3 1527.11 1444.3 1529.79 Q1444.3 1531.82 1445.86 1533 Q1447.42 1534.15 1452.13 1535.2 L1454.13 1535.64 Q1460.37 1536.98 1462.98 1539.43 Q1465.62 1541.85 1465.62 1546.21 Q1465.62 1551.17 1461.68 1554.07 Q1457.76 1556.97 1450.89 1556.97 Q1448.02 1556.97 1444.9 1556.39 Q1441.82 1555.85 1438.38 1554.74 L1438.38 1548.69 Q1441.62 1550.38 1444.78 1551.24 Q1447.93 1552.07 1451.01 1552.07 Q1455.15 1552.07 1457.38 1550.66 Q1459.61 1549.23 1459.61 1546.65 Q1459.61 1544.27 1457.98 1542.99 Q1456.39 1541.72 1450.95 1540.54 L1448.91 1540.07 Q1443.47 1538.92 1441.05 1536.56 Q1438.63 1534.18 1438.63 1530.04 Q1438.63 1525.01 1442.2 1522.27 Q1445.76 1519.54 1452.32 1519.54 Q1455.57 1519.54 1458.43 1520.01 Q1461.29 1520.49 1463.71 1521.45 Z\" fill=\"#000000\" fill-rule=\"evenodd\" fill-opacity=\"1\" /><path clip-path=\"url(#clip150)\" d=\"M 0 0 M1492.74 1508.52 L1522.79 1508.52 L1522.79 1513.93 L1499.17 1513.93 L1499.17 1528 L1521.8 1528 L1521.8 1533.41 L1499.17 1533.41 L1499.17 1550.63 L1523.36 1550.63 L1523.36 1556.04 L1492.74 1556.04 L1492.74 1508.52 Z\" fill=\"#000000\" fill-rule=\"evenodd\" fill-opacity=\"1\" /><polyline clip-path=\"url(#clip152)\" style=\"stroke:#000000; stroke-width:2; stroke-opacity:0.1; fill:none\" points=\"\n",
       "  197.852,1260.72 2352.76,1260.72 \n",
       "  \"/>\n",
       "<polyline clip-path=\"url(#clip152)\" style=\"stroke:#000000; stroke-width:2; stroke-opacity:0.1; fill:none\" points=\"\n",
       "  197.852,935.789 2352.76,935.789 \n",
       "  \"/>\n",
       "<polyline clip-path=\"url(#clip152)\" style=\"stroke:#000000; stroke-width:2; stroke-opacity:0.1; fill:none\" points=\"\n",
       "  197.852,610.863 2352.76,610.863 \n",
       "  \"/>\n",
       "<polyline clip-path=\"url(#clip152)\" style=\"stroke:#000000; stroke-width:2; stroke-opacity:0.1; fill:none\" points=\"\n",
       "  197.852,285.936 2352.76,285.936 \n",
       "  \"/>\n",
       "<polyline clip-path=\"url(#clip150)\" style=\"stroke:#000000; stroke-width:4; stroke-opacity:1; fill:none\" points=\"\n",
       "  197.852,1423.18 197.852,123.472 \n",
       "  \"/>\n",
       "<polyline clip-path=\"url(#clip150)\" style=\"stroke:#000000; stroke-width:4; stroke-opacity:1; fill:none\" points=\"\n",
       "  197.852,1260.72 223.711,1260.72 \n",
       "  \"/>\n",
       "<polyline clip-path=\"url(#clip150)\" style=\"stroke:#000000; stroke-width:4; stroke-opacity:1; fill:none\" points=\"\n",
       "  197.852,935.789 223.711,935.789 \n",
       "  \"/>\n",
       "<polyline clip-path=\"url(#clip150)\" style=\"stroke:#000000; stroke-width:4; stroke-opacity:1; fill:none\" points=\"\n",
       "  197.852,610.863 223.711,610.863 \n",
       "  \"/>\n",
       "<polyline clip-path=\"url(#clip150)\" style=\"stroke:#000000; stroke-width:4; stroke-opacity:1; fill:none\" points=\"\n",
       "  197.852,285.936 223.711,285.936 \n",
       "  \"/>\n",
       "<path clip-path=\"url(#clip150)\" d=\"M 0 0 M150.325 1258.85 Q147.177 1258.85 145.325 1261.01 Q143.496 1263.16 143.496 1266.91 Q143.496 1270.64 145.325 1272.81 Q147.177 1274.96 150.325 1274.96 Q153.473 1274.96 155.302 1272.81 Q157.153 1270.64 157.153 1266.91 Q157.153 1263.16 155.302 1261.01 Q153.473 1258.85 150.325 1258.85 M159.607 1244.2 L159.607 1248.46 Q157.848 1247.63 156.042 1247.19 Q154.26 1246.75 152.501 1246.75 Q147.871 1246.75 145.417 1249.87 Q142.987 1253 142.64 1259.32 Q144.005 1257.3 146.066 1256.24 Q148.126 1255.15 150.603 1255.15 Q155.811 1255.15 158.82 1258.32 Q161.852 1261.47 161.852 1266.91 Q161.852 1272.23 158.704 1275.45 Q155.556 1278.67 150.325 1278.67 Q144.329 1278.67 141.158 1274.08 Q137.987 1269.48 137.987 1260.75 Q137.987 1252.56 141.876 1247.7 Q145.765 1242.81 152.316 1242.81 Q154.075 1242.81 155.857 1243.16 Q157.663 1243.51 159.607 1244.2 Z\" fill=\"#000000\" fill-rule=\"evenodd\" fill-opacity=\"1\" /><path clip-path=\"url(#clip150)\" d=\"M 0 0 M150.001 936.657 Q146.667 936.657 144.746 938.44 Q142.848 940.222 142.848 943.347 Q142.848 946.472 144.746 948.255 Q146.667 950.037 150.001 950.037 Q153.334 950.037 155.255 948.255 Q157.177 946.449 157.177 943.347 Q157.177 940.222 155.255 938.44 Q153.357 936.657 150.001 936.657 M145.325 934.667 Q142.316 933.926 140.626 931.866 Q138.959 929.806 138.959 926.843 Q138.959 922.699 141.899 920.292 Q144.862 917.884 150.001 917.884 Q155.163 917.884 158.103 920.292 Q161.042 922.699 161.042 926.843 Q161.042 929.806 159.353 931.866 Q157.686 933.926 154.7 934.667 Q158.079 935.454 159.954 937.745 Q161.852 940.037 161.852 943.347 Q161.852 948.37 158.774 951.056 Q155.718 953.741 150.001 953.741 Q144.283 953.741 141.204 951.056 Q138.149 948.37 138.149 943.347 Q138.149 940.037 140.047 937.745 Q141.945 935.454 145.325 934.667 M143.612 927.283 Q143.612 929.968 145.279 931.472 Q146.968 932.977 150.001 932.977 Q153.01 932.977 154.7 931.472 Q156.413 929.968 156.413 927.283 Q156.413 924.597 154.7 923.093 Q153.01 921.588 150.001 921.588 Q146.968 921.588 145.279 923.093 Q143.612 924.597 143.612 927.283 Z\" fill=\"#000000\" fill-rule=\"evenodd\" fill-opacity=\"1\" /><path clip-path=\"url(#clip150)\" d=\"M 0 0 M114.931 624.207 L122.57 624.207 L122.57 597.842 L114.26 599.508 L114.26 595.249 L122.524 593.583 L127.2 593.583 L127.2 624.207 L134.839 624.207 L134.839 628.143 L114.931 628.143 L114.931 624.207 Z\" fill=\"#000000\" fill-rule=\"evenodd\" fill-opacity=\"1\" /><path clip-path=\"url(#clip150)\" d=\"M 0 0 M149.908 596.661 Q146.297 596.661 144.468 600.226 Q142.663 603.768 142.663 610.897 Q142.663 618.004 144.468 621.568 Q146.297 625.11 149.908 625.11 Q153.542 625.11 155.348 621.568 Q157.177 618.004 157.177 610.897 Q157.177 603.768 155.348 600.226 Q153.542 596.661 149.908 596.661 M149.908 592.958 Q155.718 592.958 158.774 597.564 Q161.852 602.147 161.852 610.897 Q161.852 619.624 158.774 624.231 Q155.718 628.814 149.908 628.814 Q144.098 628.814 141.019 624.231 Q137.964 619.624 137.964 610.897 Q137.964 602.147 141.019 597.564 Q144.098 592.958 149.908 592.958 Z\" fill=\"#000000\" fill-rule=\"evenodd\" fill-opacity=\"1\" /><path clip-path=\"url(#clip150)\" d=\"M 0 0 M116.529 299.28 L124.168 299.28 L124.168 272.915 L115.857 274.581 L115.857 270.322 L124.121 268.656 L128.797 268.656 L128.797 299.28 L136.436 299.28 L136.436 303.216 L116.529 303.216 L116.529 299.28 Z\" fill=\"#000000\" fill-rule=\"evenodd\" fill-opacity=\"1\" /><path clip-path=\"url(#clip150)\" d=\"M 0 0 M145.533 299.28 L161.852 299.28 L161.852 303.216 L139.908 303.216 L139.908 299.28 Q142.57 296.526 147.153 291.896 Q151.76 287.243 152.941 285.901 Q155.186 283.378 156.065 281.642 Q156.968 279.882 156.968 278.193 Q156.968 275.438 155.024 273.702 Q153.103 271.966 150.001 271.966 Q147.802 271.966 145.348 272.73 Q142.917 273.494 140.14 275.044 L140.14 270.322 Q142.964 269.188 145.417 268.609 Q147.871 268.031 149.908 268.031 Q155.278 268.031 158.473 270.716 Q161.667 273.401 161.667 277.892 Q161.667 280.021 160.857 281.943 Q160.07 283.841 157.964 286.433 Q157.385 287.105 154.283 290.322 Q151.181 293.517 145.533 299.28 Z\" fill=\"#000000\" fill-rule=\"evenodd\" fill-opacity=\"1\" /><path clip-path=\"url(#clip150)\" d=\"M 0 0 M44.1444 962.181 L50.9239 962.181 Q47.9002 965.427 46.4043 969.119 Q44.9083 972.779 44.9083 976.917 Q44.9083 985.065 49.9054 989.394 Q54.8707 993.723 64.2919 993.723 Q73.6813 993.723 78.6784 989.394 Q83.6436 985.065 83.6436 976.917 Q83.6436 972.779 82.1477 969.119 Q80.6518 965.427 77.6281 962.181 L84.3439 962.181 Q86.6355 965.554 87.7814 969.342 Q88.9272 973.098 88.9272 977.299 Q88.9272 988.089 82.3387 994.296 Q75.7183 1000.5 64.2919 1000.5 Q52.8336 1000.5 46.2451 994.296 Q39.6248 988.089 39.6248 977.299 Q39.6248 973.034 40.7706 969.278 Q41.8846 965.491 44.1444 962.181 Z\" fill=\"#000000\" fill-rule=\"evenodd\" fill-opacity=\"1\" /><path clip-path=\"url(#clip150)\" d=\"M 0 0 M57.8307 935.381 Q57.2578 936.368 57.0032 937.545 Q56.7167 938.691 56.7167 940.092 Q56.7167 945.057 59.9632 947.73 Q63.1779 950.372 69.2253 950.372 L88.0042 950.372 L88.0042 956.26 L52.3562 956.26 L52.3562 950.372 L57.8944 950.372 Q54.6479 948.526 53.0883 945.566 Q51.4968 942.606 51.4968 938.373 Q51.4968 937.768 51.5923 937.036 Q51.656 936.304 51.8151 935.413 L57.8307 935.381 Z\" fill=\"#000000\" fill-rule=\"evenodd\" fill-opacity=\"1\" /><path clip-path=\"url(#clip150)\" d=\"M 0 0 M56.4621 916.857 Q56.4621 921.567 60.1542 924.305 Q63.8145 927.042 70.212 927.042 Q76.6095 927.042 80.3017 924.336 Q83.9619 921.599 83.9619 916.857 Q83.9619 912.178 80.2698 909.441 Q76.5777 906.703 70.212 906.703 Q63.8781 906.703 60.186 909.441 Q56.4621 912.178 56.4621 916.857 M51.4968 916.857 Q51.4968 909.218 56.4621 904.857 Q61.4273 900.497 70.212 900.497 Q78.9649 900.497 83.9619 904.857 Q88.9272 909.218 88.9272 916.857 Q88.9272 924.527 83.9619 928.888 Q78.9649 933.217 70.212 933.217 Q61.4273 933.217 56.4621 928.888 Q51.4968 924.527 51.4968 916.857 Z\" fill=\"#000000\" fill-rule=\"evenodd\" fill-opacity=\"1\" /><path clip-path=\"url(#clip150)\" d=\"M 0 0 M53.4065 871.628 L58.9447 871.628 Q57.6716 874.111 57.035 876.785 Q56.3984 879.458 56.3984 882.323 Q56.3984 886.683 57.7352 888.879 Q59.072 891.044 61.7456 891.044 Q63.7826 891.044 64.9603 889.484 Q66.1061 887.925 67.1565 883.214 L67.6021 881.209 Q68.9389 874.97 71.3897 872.36 Q73.8086 869.719 78.1691 869.719 Q83.1344 869.719 86.0308 873.665 Q88.9272 877.58 88.9272 884.455 Q88.9272 887.32 88.3543 890.439 Q87.8132 893.526 86.6992 896.964 L80.6518 896.964 Q82.3387 893.717 83.198 890.566 Q84.0256 887.415 84.0256 884.328 Q84.0256 880.19 82.6251 877.962 Q81.1929 875.734 78.6147 875.734 Q76.2276 875.734 74.9545 877.358 Q73.6813 878.949 72.5037 884.392 L72.0262 886.429 Q70.8804 891.871 68.5251 894.29 Q66.138 896.709 62.0002 896.709 Q56.9713 896.709 54.2341 893.144 Q51.4968 889.58 51.4968 883.023 Q51.4968 879.777 51.9743 876.912 Q52.4517 874.047 53.4065 871.628 Z\" fill=\"#000000\" fill-rule=\"evenodd\" fill-opacity=\"1\" /><path clip-path=\"url(#clip150)\" d=\"M 0 0 M53.4065 840.85 L58.9447 840.85 Q57.6716 843.333 57.035 846.006 Q56.3984 848.68 56.3984 851.545 Q56.3984 855.905 57.7352 858.101 Q59.072 860.266 61.7456 860.266 Q63.7826 860.266 64.9603 858.706 Q66.1061 857.146 67.1565 852.436 L67.6021 850.431 Q68.9389 844.192 71.3897 841.582 Q73.8086 838.941 78.1691 838.941 Q83.1344 838.941 86.0308 842.887 Q88.9272 846.802 88.9272 853.677 Q88.9272 856.542 88.3543 859.661 Q87.8132 862.748 86.6992 866.186 L80.6518 866.186 Q82.3387 862.939 83.198 859.788 Q84.0256 856.637 84.0256 853.55 Q84.0256 849.412 82.6251 847.184 Q81.1929 844.956 78.6147 844.956 Q76.2276 844.956 74.9545 846.579 Q73.6813 848.171 72.5037 853.613 L72.0262 855.65 Q70.8804 861.093 68.5251 863.512 Q66.138 865.931 62.0002 865.931 Q56.9713 865.931 54.2341 862.366 Q51.4968 858.802 51.4968 852.245 Q51.4968 848.998 51.9743 846.134 Q52.4517 843.269 53.4065 840.85 Z\" fill=\"#000000\" fill-rule=\"evenodd\" fill-opacity=\"1\" /><path clip-path=\"url(#clip150)\" d=\"M 0 0 M53.4065 789.352 L58.9447 789.352 Q57.6716 791.834 57.035 794.508 Q56.3984 797.181 56.3984 800.046 Q56.3984 804.407 57.7352 806.603 Q59.072 808.767 61.7456 808.767 Q63.7826 808.767 64.9603 807.207 Q66.1061 805.648 67.1565 800.937 L67.6021 798.932 Q68.9389 792.694 71.3897 790.084 Q73.8086 787.442 78.1691 787.442 Q83.1344 787.442 86.0308 791.389 Q88.9272 795.304 88.9272 802.179 Q88.9272 805.043 88.3543 808.162 Q87.8132 811.25 86.6992 814.687 L80.6518 814.687 Q82.3387 811.441 83.198 808.29 Q84.0256 805.139 84.0256 802.051 Q84.0256 797.914 82.6251 795.686 Q81.1929 793.458 78.6147 793.458 Q76.2276 793.458 74.9545 795.081 Q73.6813 796.672 72.5037 802.115 L72.0262 804.152 Q70.8804 809.595 68.5251 812.014 Q66.138 814.433 62.0002 814.433 Q56.9713 814.433 54.2341 810.868 Q51.4968 807.303 51.4968 800.746 Q51.4968 797.5 51.9743 794.635 Q52.4517 791.771 53.4065 789.352 Z\" fill=\"#000000\" fill-rule=\"evenodd\" fill-opacity=\"1\" /><path clip-path=\"url(#clip150)\" d=\"M 0 0 M68.7161 750.807 L71.5806 750.807 L71.5806 777.734 Q77.6281 777.352 80.8109 774.106 Q83.9619 770.827 83.9619 765.003 Q83.9619 761.629 83.1344 758.478 Q82.3069 755.295 80.6518 752.176 L86.1899 752.176 Q87.5267 755.327 88.227 758.637 Q88.9272 761.947 88.9272 765.353 Q88.9272 773.883 83.9619 778.88 Q78.9967 783.845 70.5303 783.845 Q61.7774 783.845 56.6531 779.135 Q51.4968 774.392 51.4968 766.371 Q51.4968 759.178 56.1438 755.009 Q60.7589 750.807 68.7161 750.807 M66.9973 756.664 Q62.1912 756.727 59.3266 759.369 Q56.4621 761.979 56.4621 766.308 Q56.4621 771.209 59.2312 774.169 Q62.0002 777.098 67.0292 777.543 L66.9973 756.664 Z\" fill=\"#000000\" fill-rule=\"evenodd\" fill-opacity=\"1\" /><path clip-path=\"url(#clip150)\" d=\"M 0 0 M53.7248 719.011 L59.1993 719.011 Q57.8307 721.493 57.1623 724.008 Q56.4621 726.49 56.4621 729.037 Q56.4621 734.734 60.0905 737.885 Q63.6872 741.036 70.212 741.036 Q76.7369 741.036 80.3653 737.885 Q83.9619 734.734 83.9619 729.037 Q83.9619 726.49 83.2935 724.008 Q82.5933 721.493 81.2247 719.011 L86.6355 719.011 Q87.7814 721.461 88.3543 724.103 Q88.9272 726.713 88.9272 729.673 Q88.9272 737.726 83.8664 742.468 Q78.8057 747.211 70.212 747.211 Q61.491 747.211 56.4939 742.436 Q51.4968 737.63 51.4968 729.291 Q51.4968 726.586 52.0697 724.008 Q52.6108 721.43 53.7248 719.011 Z\" fill=\"#000000\" fill-rule=\"evenodd\" fill-opacity=\"1\" /><path clip-path=\"url(#clip150)\" d=\"M 0 0 M42.2347 707.075 L52.3562 707.075 L52.3562 695.012 L56.9077 695.012 L56.9077 707.075 L76.2594 707.075 Q80.6199 707.075 81.8613 705.897 Q83.1026 704.688 83.1026 701.027 L83.1026 695.012 L88.0042 695.012 L88.0042 701.027 Q88.0042 707.807 85.4897 710.385 Q82.9434 712.963 76.2594 712.963 L56.9077 712.963 L56.9077 717.26 L52.3562 717.26 L52.3562 712.963 L42.2347 712.963 L42.2347 707.075 Z\" fill=\"#000000\" fill-rule=\"evenodd\" fill-opacity=\"1\" /><path clip-path=\"url(#clip150)\" d=\"M 0 0 M52.3562 688.869 L52.3562 683.013 L88.0042 683.013 L88.0042 688.869 L52.3562 688.869 M38.479 688.869 L38.479 683.013 L45.895 683.013 L45.895 688.869 L38.479 688.869 Z\" fill=\"#000000\" fill-rule=\"evenodd\" fill-opacity=\"1\" /><path clip-path=\"url(#clip150)\" d=\"M 0 0 M56.4621 663.056 Q56.4621 667.767 60.1542 670.504 Q63.8145 673.241 70.212 673.241 Q76.6095 673.241 80.3017 670.536 Q83.9619 667.798 83.9619 663.056 Q83.9619 658.377 80.2698 655.64 Q76.5777 652.903 70.212 652.903 Q63.8781 652.903 60.186 655.64 Q56.4621 658.377 56.4621 663.056 M51.4968 663.056 Q51.4968 655.417 56.4621 651.057 Q61.4273 646.696 70.212 646.696 Q78.9649 646.696 83.9619 651.057 Q88.9272 655.417 88.9272 663.056 Q88.9272 670.727 83.9619 675.087 Q78.9649 679.416 70.212 679.416 Q61.4273 679.416 56.4621 675.087 Q51.4968 670.727 51.4968 663.056 Z\" fill=\"#000000\" fill-rule=\"evenodd\" fill-opacity=\"1\" /><path clip-path=\"url(#clip150)\" d=\"M 0 0 M66.4881 610.921 L88.0042 610.921 L88.0042 616.777 L66.679 616.777 Q61.6183 616.777 59.1038 618.751 Q56.5894 620.724 56.5894 624.671 Q56.5894 629.413 59.6131 632.151 Q62.6368 634.888 67.8567 634.888 L88.0042 634.888 L88.0042 640.776 L52.3562 640.776 L52.3562 634.888 L57.8944 634.888 Q54.6797 632.787 53.0883 629.954 Q51.4968 627.09 51.4968 623.366 Q51.4968 617.223 55.3163 614.072 Q59.1038 610.921 66.4881 610.921 Z\" fill=\"#000000\" fill-rule=\"evenodd\" fill-opacity=\"1\" /><path clip-path=\"url(#clip150)\" d=\"M 0 0 M46.818 567.921 L70.4666 576.642 L70.4666 559.168 L46.818 567.921 M40.4842 571.549 L40.4842 564.26 L88.0042 546.15 L88.0042 552.834 L75.8138 557.163 L75.8138 578.583 L88.0042 582.912 L88.0042 589.691 L40.4842 571.549 Z\" fill=\"#000000\" fill-rule=\"evenodd\" fill-opacity=\"1\" /><path clip-path=\"url(#clip150)\" d=\"M 0 0 M860.694 18.8205 L860.694 65.8515 L870.578 65.8515 Q883.096 65.8515 888.888 60.1802 Q894.722 54.509 894.722 42.2752 Q894.722 30.1225 888.888 24.4918 Q883.096 18.8205 870.578 18.8205 L860.694 18.8205 M852.511 12.096 L869.323 12.096 Q886.904 12.096 895.127 19.4281 Q903.35 26.7198 903.35 42.2752 Q903.35 57.9117 895.086 65.2439 Q886.822 72.576 869.323 72.576 L852.511 72.576 L852.511 12.096 Z\" fill=\"#000000\" fill-rule=\"evenodd\" fill-opacity=\"1\" /><path clip-path=\"url(#clip150)\" d=\"M 0 0 M949.976 48.0275 L949.976 51.6733 L915.705 51.6733 Q916.192 59.3701 920.323 63.421 Q924.496 67.4314 931.909 67.4314 Q936.203 67.4314 940.213 66.3781 Q944.264 65.3249 948.234 63.2184 L948.234 70.267 Q944.224 71.9684 940.011 72.8596 Q935.798 73.7508 931.463 73.7508 Q920.607 73.7508 914.247 67.4314 Q907.928 61.1119 907.928 50.3365 Q907.928 39.1965 913.923 32.6746 Q919.959 26.1121 930.167 26.1121 Q939.322 26.1121 944.629 32.0264 Q949.976 37.9003 949.976 48.0275 M942.522 45.84 Q942.441 39.7232 939.079 36.0774 Q935.757 32.4315 930.248 32.4315 Q924.01 32.4315 920.242 35.9558 Q916.516 39.4801 915.948 45.8805 L942.522 45.84 Z\" fill=\"#000000\" fill-rule=\"evenodd\" fill-opacity=\"1\" /><path clip-path=\"url(#clip150)\" d=\"M 0 0 M986.718 28.5427 L986.718 35.5912 Q983.558 33.9709 980.155 33.1607 Q976.753 32.3505 973.107 32.3505 Q967.557 32.3505 964.762 34.0519 Q962.007 35.7533 962.007 39.156 Q962.007 41.7486 963.992 43.2475 Q965.977 44.7058 971.972 46.0426 L974.525 46.6097 Q982.464 48.3111 985.786 51.4303 Q989.148 54.509 989.148 60.0587 Q989.148 66.3781 984.125 70.0644 Q979.143 73.7508 970.393 73.7508 Q966.747 73.7508 962.777 73.0216 Q958.848 72.3329 954.473 70.9151 L954.473 63.2184 Q958.605 65.3654 962.615 66.4591 Q966.625 67.5124 970.555 67.5124 Q975.821 67.5124 978.656 65.73 Q981.492 63.9071 981.492 60.6258 Q981.492 57.5877 979.426 55.9673 Q977.401 54.3469 970.474 52.8481 L967.881 52.2405 Q960.954 50.7821 957.875 47.7845 Q954.797 44.7463 954.797 39.4801 Q954.797 33.0797 959.334 29.5959 Q963.871 26.1121 972.216 26.1121 Q976.347 26.1121 979.993 26.7198 Q983.639 27.3274 986.718 28.5427 Z\" fill=\"#000000\" fill-rule=\"evenodd\" fill-opacity=\"1\" /><path clip-path=\"url(#clip150)\" d=\"M 0 0 M996.967 27.2059 L1004.42 27.2059 L1004.42 72.576 L996.967 72.576 L996.967 27.2059 M996.967 9.54393 L1004.42 9.54393 L1004.42 18.9825 L996.967 18.9825 L996.967 9.54393 Z\" fill=\"#000000\" fill-rule=\"evenodd\" fill-opacity=\"1\" /><path clip-path=\"url(#clip150)\" d=\"M 0 0 M1042.09 49.3643 Q1042.09 41.2625 1038.73 36.8065 Q1035.41 32.3505 1029.37 32.3505 Q1023.38 32.3505 1020.02 36.8065 Q1016.69 41.2625 1016.69 49.3643 Q1016.69 57.4256 1020.02 61.8816 Q1023.38 66.3376 1029.37 66.3376 Q1035.41 66.3376 1038.73 61.8816 Q1042.09 57.4256 1042.09 49.3643 M1049.55 66.9452 Q1049.55 78.5308 1044.4 84.1616 Q1039.26 89.8329 1028.64 89.8329 Q1024.72 89.8329 1021.23 89.2252 Q1017.75 88.6581 1014.47 87.4428 L1014.47 80.1917 Q1017.75 81.9741 1020.95 82.8248 Q1024.15 83.6755 1027.47 83.6755 Q1034.8 83.6755 1038.45 79.8271 Q1042.09 76.0193 1042.09 68.282 L1042.09 64.5957 Q1039.78 68.6061 1036.18 70.5911 Q1032.57 72.576 1027.55 72.576 Q1019.21 72.576 1014.1 66.2161 Q1009 59.8562 1009 49.3643 Q1009 38.832 1014.1 32.472 Q1019.21 26.1121 1027.55 26.1121 Q1032.57 26.1121 1036.18 28.0971 Q1039.78 30.082 1042.09 34.0924 L1042.09 27.2059 L1049.55 27.2059 L1049.55 66.9452 Z\" fill=\"#000000\" fill-rule=\"evenodd\" fill-opacity=\"1\" /><path clip-path=\"url(#clip150)\" d=\"M 0 0 M1095.08 45.1919 L1095.08 72.576 L1087.63 72.576 L1087.63 45.4349 Q1087.63 38.994 1085.11 35.7938 Q1082.6 32.5936 1077.58 32.5936 Q1071.54 32.5936 1068.06 36.4419 Q1064.58 40.2903 1064.58 46.9338 L1064.58 72.576 L1057.08 72.576 L1057.08 27.2059 L1064.58 27.2059 L1064.58 34.2544 Q1067.25 30.163 1070.86 28.1376 Q1074.5 26.1121 1079.24 26.1121 Q1087.06 26.1121 1091.07 30.9732 Q1095.08 35.7938 1095.08 45.1919 Z\" fill=\"#000000\" fill-rule=\"evenodd\" fill-opacity=\"1\" /><path clip-path=\"url(#clip150)\" d=\"M 0 0 M1146.85 32.4315 Q1140.85 32.4315 1137.37 37.1306 Q1133.89 41.7891 1133.89 49.9314 Q1133.89 58.0738 1137.33 62.7728 Q1140.81 67.4314 1146.85 67.4314 Q1152.8 67.4314 1156.29 62.7323 Q1159.77 58.0333 1159.77 49.9314 Q1159.77 41.8701 1156.29 37.1711 Q1152.8 32.4315 1146.85 32.4315 M1146.85 26.1121 Q1156.57 26.1121 1162.12 32.4315 Q1167.67 38.7509 1167.67 49.9314 Q1167.67 61.0714 1162.12 67.4314 Q1156.57 73.7508 1146.85 73.7508 Q1137.09 73.7508 1131.54 67.4314 Q1126.03 61.0714 1126.03 49.9314 Q1126.03 38.7509 1131.54 32.4315 Q1137.09 26.1121 1146.85 26.1121 Z\" fill=\"#000000\" fill-rule=\"evenodd\" fill-opacity=\"1\" /><path clip-path=\"url(#clip150)\" d=\"M 0 0 M1198.46 9.54393 L1198.46 15.7418 L1191.33 15.7418 Q1187.32 15.7418 1185.74 17.3622 Q1184.2 18.9825 1184.2 23.1955 L1184.2 27.2059 L1196.47 27.2059 L1196.47 32.9987 L1184.2 32.9987 L1184.2 72.576 L1176.71 72.576 L1176.71 32.9987 L1169.58 32.9987 L1169.58 27.2059 L1176.71 27.2059 L1176.71 24.0462 Q1176.71 16.471 1180.23 13.0277 Q1183.75 9.54393 1191.41 9.54393 L1198.46 9.54393 Z\" fill=\"#000000\" fill-rule=\"evenodd\" fill-opacity=\"1\" /><path clip-path=\"url(#clip150)\" d=\"M 0 0 M1232.97 12.096 L1271.21 12.096 L1271.21 18.9825 L1241.16 18.9825 L1241.16 36.8875 L1269.96 36.8875 L1269.96 43.7741 L1241.16 43.7741 L1241.16 65.6895 L1271.94 65.6895 L1271.94 72.576 L1232.97 72.576 L1232.97 12.096 Z\" fill=\"#000000\" fill-rule=\"evenodd\" fill-opacity=\"1\" /><path clip-path=\"url(#clip150)\" d=\"M 0 0 M1317.47 27.2059 L1301.07 49.2833 L1318.32 72.576 L1309.53 72.576 L1296.33 54.752 L1283.12 72.576 L1274.33 72.576 L1291.95 48.8377 L1275.83 27.2059 L1284.62 27.2059 L1296.65 43.369 L1308.68 27.2059 L1317.47 27.2059 Z\" fill=\"#000000\" fill-rule=\"evenodd\" fill-opacity=\"1\" /><path clip-path=\"url(#clip150)\" d=\"M 0 0 M1333.35 65.7705 L1333.35 89.8329 L1325.86 89.8329 L1325.86 27.2059 L1333.35 27.2059 L1333.35 34.0924 Q1335.7 30.0415 1339.27 28.0971 Q1342.87 26.1121 1347.86 26.1121 Q1356.12 26.1121 1361.26 32.6746 Q1366.45 39.2371 1366.45 49.9314 Q1366.45 60.6258 1361.26 67.1883 Q1356.12 73.7508 1347.86 73.7508 Q1342.87 73.7508 1339.27 71.8063 Q1335.7 69.8214 1333.35 65.7705 M1358.71 49.9314 Q1358.71 41.7081 1355.31 37.0496 Q1351.95 32.3505 1346.03 32.3505 Q1340.12 32.3505 1336.72 37.0496 Q1333.35 41.7081 1333.35 49.9314 Q1333.35 58.1548 1336.72 62.8538 Q1340.12 67.5124 1346.03 67.5124 Q1351.95 67.5124 1355.31 62.8538 Q1358.71 58.1548 1358.71 49.9314 Z\" fill=\"#000000\" fill-rule=\"evenodd\" fill-opacity=\"1\" /><path clip-path=\"url(#clip150)\" d=\"M 0 0 M1413.08 48.0275 L1413.08 51.6733 L1378.8 51.6733 Q1379.29 59.3701 1383.42 63.421 Q1387.6 67.4314 1395.01 67.4314 Q1399.3 67.4314 1403.31 66.3781 Q1407.36 65.3249 1411.33 63.2184 L1411.33 70.267 Q1407.32 71.9684 1403.11 72.8596 Q1398.9 73.7508 1394.56 73.7508 Q1383.71 73.7508 1377.35 67.4314 Q1371.03 61.1119 1371.03 50.3365 Q1371.03 39.1965 1377.02 32.6746 Q1383.06 26.1121 1393.27 26.1121 Q1402.42 26.1121 1407.73 32.0264 Q1413.08 37.9003 1413.08 48.0275 M1405.62 45.84 Q1405.54 39.7232 1402.18 36.0774 Q1398.86 32.4315 1393.35 32.4315 Q1387.11 32.4315 1383.34 35.9558 Q1379.61 39.4801 1379.05 45.8805 L1405.62 45.84 Z\" fill=\"#000000\" fill-rule=\"evenodd\" fill-opacity=\"1\" /><path clip-path=\"url(#clip150)\" d=\"M 0 0 M1447.18 34.1734 Q1445.93 33.4443 1444.43 33.1202 Q1442.97 32.7556 1441.19 32.7556 Q1434.87 32.7556 1431.47 36.8875 Q1428.1 40.9789 1428.1 48.6757 L1428.1 72.576 L1420.61 72.576 L1420.61 27.2059 L1428.1 27.2059 L1428.1 34.2544 Q1430.45 30.1225 1434.22 28.1376 Q1437.99 26.1121 1443.38 26.1121 Q1444.15 26.1121 1445.08 26.2337 Q1446.01 26.3147 1447.14 26.5172 L1447.18 34.1734 Z\" fill=\"#000000\" fill-rule=\"evenodd\" fill-opacity=\"1\" /><path clip-path=\"url(#clip150)\" d=\"M 0 0 M1455 27.2059 L1462.46 27.2059 L1462.46 72.576 L1455 72.576 L1455 27.2059 M1455 9.54393 L1462.46 9.54393 L1462.46 18.9825 L1455 18.9825 L1455 9.54393 Z\" fill=\"#000000\" fill-rule=\"evenodd\" fill-opacity=\"1\" /><path clip-path=\"url(#clip150)\" d=\"M 0 0 M1505.6 35.9153 Q1508.39 30.8922 1512.28 28.5022 Q1516.17 26.1121 1521.44 26.1121 Q1528.53 26.1121 1532.37 31.0947 Q1536.22 36.0368 1536.22 45.1919 L1536.22 72.576 L1528.73 72.576 L1528.73 45.4349 Q1528.73 38.913 1526.42 35.7533 Q1524.11 32.5936 1519.37 32.5936 Q1513.58 32.5936 1510.22 36.4419 Q1506.85 40.2903 1506.85 46.9338 L1506.85 72.576 L1499.36 72.576 L1499.36 45.4349 Q1499.36 38.8725 1497.05 35.7533 Q1494.74 32.5936 1489.92 32.5936 Q1484.21 32.5936 1480.85 36.4824 Q1477.48 40.3308 1477.48 46.9338 L1477.48 72.576 L1469.99 72.576 L1469.99 27.2059 L1477.48 27.2059 L1477.48 34.2544 Q1480.04 30.082 1483.6 28.0971 Q1487.17 26.1121 1492.07 26.1121 Q1497.01 26.1121 1500.45 28.6237 Q1503.94 31.1352 1505.6 35.9153 Z\" fill=\"#000000\" fill-rule=\"evenodd\" fill-opacity=\"1\" /><path clip-path=\"url(#clip150)\" d=\"M 0 0 M1582.85 48.0275 L1582.85 51.6733 L1548.58 51.6733 Q1549.06 59.3701 1553.2 63.421 Q1557.37 67.4314 1564.78 67.4314 Q1569.08 67.4314 1573.09 66.3781 Q1577.14 65.3249 1581.11 63.2184 L1581.11 70.267 Q1577.1 71.9684 1572.88 72.8596 Q1568.67 73.7508 1564.34 73.7508 Q1553.48 73.7508 1547.12 67.4314 Q1540.8 61.1119 1540.8 50.3365 Q1540.8 39.1965 1546.8 32.6746 Q1552.83 26.1121 1563.04 26.1121 Q1572.19 26.1121 1577.5 32.0264 Q1582.85 37.9003 1582.85 48.0275 M1575.4 45.84 Q1575.31 39.7232 1571.95 36.0774 Q1568.63 32.4315 1563.12 32.4315 Q1556.88 32.4315 1553.12 35.9558 Q1549.39 39.4801 1548.82 45.8805 L1575.4 45.84 Z\" fill=\"#000000\" fill-rule=\"evenodd\" fill-opacity=\"1\" /><path clip-path=\"url(#clip150)\" d=\"M 0 0 M1628.38 45.1919 L1628.38 72.576 L1620.93 72.576 L1620.93 45.4349 Q1620.93 38.994 1618.42 35.7938 Q1615.9 32.5936 1610.88 32.5936 Q1604.85 32.5936 1601.36 36.4419 Q1597.88 40.2903 1597.88 46.9338 L1597.88 72.576 L1590.38 72.576 L1590.38 27.2059 L1597.88 27.2059 L1597.88 34.2544 Q1600.55 30.163 1604.16 28.1376 Q1607.8 26.1121 1612.54 26.1121 Q1620.36 26.1121 1624.37 30.9732 Q1628.38 35.7938 1628.38 45.1919 Z\" fill=\"#000000\" fill-rule=\"evenodd\" fill-opacity=\"1\" /><path clip-path=\"url(#clip150)\" d=\"M 0 0 M1643.57 14.324 L1643.57 27.2059 L1658.92 27.2059 L1658.92 32.9987 L1643.57 32.9987 L1643.57 57.6282 Q1643.57 63.1779 1645.07 64.7578 Q1646.61 66.3376 1651.27 66.3376 L1658.92 66.3376 L1658.92 72.576 L1651.27 72.576 Q1642.64 72.576 1639.36 69.3758 Q1636.08 66.1351 1636.08 57.6282 L1636.08 32.9987 L1630.61 32.9987 L1630.61 27.2059 L1636.08 27.2059 L1636.08 14.324 L1643.57 14.324 Z\" fill=\"#000000\" fill-rule=\"evenodd\" fill-opacity=\"1\" /><path clip-path=\"url(#clip150)\" d=\"M 0 0 M1695.67 28.5427 L1695.67 35.5912 Q1692.51 33.9709 1689.1 33.1607 Q1685.7 32.3505 1682.06 32.3505 Q1676.51 32.3505 1673.71 34.0519 Q1670.96 35.7533 1670.96 39.156 Q1670.96 41.7486 1672.94 43.2475 Q1674.93 44.7058 1680.92 46.0426 L1683.47 46.6097 Q1691.41 48.3111 1694.73 51.4303 Q1698.1 54.509 1698.1 60.0587 Q1698.1 66.3781 1693.07 70.0644 Q1688.09 73.7508 1679.34 73.7508 Q1675.7 73.7508 1671.73 73.0216 Q1667.8 72.3329 1663.42 70.9151 L1663.42 63.2184 Q1667.55 65.3654 1671.56 66.4591 Q1675.57 67.5124 1679.5 67.5124 Q1684.77 67.5124 1687.61 65.73 Q1690.44 63.9071 1690.44 60.6258 Q1690.44 57.5877 1688.37 55.9673 Q1686.35 54.3469 1679.42 52.8481 L1676.83 52.2405 Q1669.9 50.7821 1666.82 47.7845 Q1663.75 44.7463 1663.75 39.4801 Q1663.75 33.0797 1668.28 29.5959 Q1672.82 26.1121 1681.16 26.1121 Q1685.3 26.1121 1688.94 26.7198 Q1692.59 27.3274 1695.67 28.5427 Z\" fill=\"#000000\" fill-rule=\"evenodd\" fill-opacity=\"1\" /><circle clip-path=\"url(#clip152)\" cx=\"331.697\" cy=\"1260.72\" r=\"14\" fill=\"#0000ff\" fill-rule=\"evenodd\" fill-opacity=\"1\" stroke=\"#000000\" stroke-opacity=\"1\" stroke-width=\"3.2\"/>\n",
       "<circle clip-path=\"url(#clip152)\" cx=\"331.697\" cy=\"935.789\" r=\"14\" fill=\"#0000ff\" fill-rule=\"evenodd\" fill-opacity=\"1\" stroke=\"#000000\" stroke-opacity=\"1\" stroke-width=\"3.2\"/>\n",
       "<circle clip-path=\"url(#clip152)\" cx=\"331.697\" cy=\"610.863\" r=\"14\" fill=\"#0000ff\" fill-rule=\"evenodd\" fill-opacity=\"1\" stroke=\"#000000\" stroke-opacity=\"1\" stroke-width=\"3.2\"/>\n",
       "<circle clip-path=\"url(#clip152)\" cx=\"331.697\" cy=\"285.936\" r=\"14\" fill=\"#0000ff\" fill-rule=\"evenodd\" fill-opacity=\"1\" stroke=\"#000000\" stroke-opacity=\"1\" stroke-width=\"3.2\"/>\n",
       "<circle clip-path=\"url(#clip152)\" cx=\"1000.92\" cy=\"1260.72\" r=\"14\" fill=\"#0000ff\" fill-rule=\"evenodd\" fill-opacity=\"1\" stroke=\"#000000\" stroke-opacity=\"1\" stroke-width=\"3.2\"/>\n",
       "<circle clip-path=\"url(#clip152)\" cx=\"1000.92\" cy=\"935.789\" r=\"14\" fill=\"#0000ff\" fill-rule=\"evenodd\" fill-opacity=\"1\" stroke=\"#000000\" stroke-opacity=\"1\" stroke-width=\"3.2\"/>\n",
       "<circle clip-path=\"url(#clip152)\" cx=\"1000.92\" cy=\"610.863\" r=\"14\" fill=\"#0000ff\" fill-rule=\"evenodd\" fill-opacity=\"1\" stroke=\"#000000\" stroke-opacity=\"1\" stroke-width=\"3.2\"/>\n",
       "<circle clip-path=\"url(#clip152)\" cx=\"1000.92\" cy=\"285.936\" r=\"14\" fill=\"#0000ff\" fill-rule=\"evenodd\" fill-opacity=\"1\" stroke=\"#000000\" stroke-opacity=\"1\" stroke-width=\"3.2\"/>\n",
       "<circle clip-path=\"url(#clip152)\" cx=\"1670.15\" cy=\"1260.72\" r=\"14\" fill=\"#0000ff\" fill-rule=\"evenodd\" fill-opacity=\"1\" stroke=\"#000000\" stroke-opacity=\"1\" stroke-width=\"3.2\"/>\n",
       "<circle clip-path=\"url(#clip152)\" cx=\"1670.15\" cy=\"935.789\" r=\"14\" fill=\"#0000ff\" fill-rule=\"evenodd\" fill-opacity=\"1\" stroke=\"#000000\" stroke-opacity=\"1\" stroke-width=\"3.2\"/>\n",
       "<circle clip-path=\"url(#clip152)\" cx=\"1670.15\" cy=\"610.863\" r=\"14\" fill=\"#0000ff\" fill-rule=\"evenodd\" fill-opacity=\"1\" stroke=\"#000000\" stroke-opacity=\"1\" stroke-width=\"3.2\"/>\n",
       "<circle clip-path=\"url(#clip152)\" cx=\"1670.15\" cy=\"285.936\" r=\"14\" fill=\"#0000ff\" fill-rule=\"evenodd\" fill-opacity=\"1\" stroke=\"#000000\" stroke-opacity=\"1\" stroke-width=\"3.2\"/>\n",
       "<circle clip-path=\"url(#clip152)\" cx=\"2339.37\" cy=\"1260.72\" r=\"14\" fill=\"#0000ff\" fill-rule=\"evenodd\" fill-opacity=\"1\" stroke=\"#000000\" stroke-opacity=\"1\" stroke-width=\"3.2\"/>\n",
       "<circle clip-path=\"url(#clip152)\" cx=\"2339.37\" cy=\"935.789\" r=\"14\" fill=\"#0000ff\" fill-rule=\"evenodd\" fill-opacity=\"1\" stroke=\"#000000\" stroke-opacity=\"1\" stroke-width=\"3.2\"/>\n",
       "<circle clip-path=\"url(#clip152)\" cx=\"2339.37\" cy=\"610.863\" r=\"14\" fill=\"#0000ff\" fill-rule=\"evenodd\" fill-opacity=\"1\" stroke=\"#000000\" stroke-opacity=\"1\" stroke-width=\"3.2\"/>\n",
       "<circle clip-path=\"url(#clip152)\" cx=\"2339.37\" cy=\"285.936\" r=\"14\" fill=\"#0000ff\" fill-rule=\"evenodd\" fill-opacity=\"1\" stroke=\"#000000\" stroke-opacity=\"1\" stroke-width=\"3.2\"/>\n",
       "<path clip-path=\"url(#clip152)\" d=\"M583.387 432.399 L583.387 464.399 L615.387 464.399 L615.387 432.399 L583.387 432.399 Z\" fill=\"#e26f46\" fill-rule=\"evenodd\" fill-opacity=\"1\" stroke=\"#000000\" stroke-opacity=\"1\" stroke-width=\"3.2\"/>\n",
       "</svg>\n"
      ]
     },
     "metadata": {},
     "output_type": "display_data"
    }
   ],
   "source": [
    "p=scatter(zeros(1),zeros(1),c=:blue, leg=false,xformatter=x->string(Int(x/1e3)), xlims=(120000,200500),ylims=(5,13),bg=:darkorange);\n",
    "for i in 1:16\n",
    "scatter!([P[:,i][1]],[P[:,i][2]],c=:blue, leg=false);\n",
    "end\n",
    "scatter!([135000.],[11.], shape=:square, title=\"Design of Experiments\", xlabel=\"Young modulus E\",ylabel=\"Cross section A\");\n",
    "savefig(\"img/doe.png\");\n",
    "display(p)"
   ]
  },
  {
   "cell_type": "code",
   "execution_count": 27,
   "metadata": {},
   "outputs": [],
   "source": [
    "Pint=[(135-125)/(200-125);(11-6)/(12-6)]\n",
    "round.(Pint;digits=2);"
   ]
  },
  {
   "cell_type": "markdown",
   "metadata": {},
   "source": [
    "* Linear spline interpolation functions vector $g$"
   ]
  },
  {
   "cell_type": "code",
   "execution_count": 28,
   "metadata": {},
   "outputs": [
    {
     "data": {
      "text/plain": [
       "16-element Array{Float64,1}:\n",
       " 0.84\n",
       " 0.52\n",
       " 0.21\n",
       " 0.21\n",
       " 0.86\n",
       " 0.54\n",
       " 0.26\n",
       " 0.26\n",
       " 0.99\n",
       " 0.73\n",
       " 0.56\n",
       " 0.56\n",
       " 1.2\n",
       " 1.0\n",
       " 0.88\n",
       " 0.88"
      ]
     },
     "execution_count": 28,
     "metadata": {},
     "output_type": "execute_result"
    }
   ],
   "source": [
    "g=GlinVec(P,Pint)\n",
    "round.(g;digits=2)"
   ]
  },
  {
   "cell_type": "markdown",
   "metadata": {},
   "source": [
    "Results of the interpolated nodal displacement vector"
   ]
  },
  {
   "cell_type": "code",
   "execution_count": 29,
   "metadata": {},
   "outputs": [
    {
     "data": {
      "text/plain": [
       "10-element Array{Float64,1}:\n",
       "  -5.71\n",
       " -14.09\n",
       "  -0.44\n",
       " -15.74\n",
       "   3.51\n",
       "  -8.17\n",
       "  -1.32\n",
       " -17.55\n",
       "  -1.32\n",
       " -13.93"
      ]
     },
     "execution_count": 29,
     "metadata": {},
     "output_type": "execute_result"
    }
   ],
   "source": [
    "ũ=ϕ*B*g\n",
    "round.(ũ;digits=2)"
   ]
  },
  {
   "cell_type": "markdown",
   "metadata": {},
   "source": [
    "to be compared to the result of the full high fidelity fem results"
   ]
  },
  {
   "cell_type": "code",
   "execution_count": 30,
   "metadata": {},
   "outputs": [
    {
     "data": {
      "text/plain": [
       "10-element Array{Float64,1}:\n",
       "  -5.84\n",
       " -14.41\n",
       "  -0.45\n",
       " -16.09\n",
       "   3.59\n",
       "  -8.35\n",
       "  -1.35\n",
       " -17.94\n",
       "  -1.35\n",
       " -14.24"
      ]
     },
     "execution_count": 30,
     "metadata": {},
     "output_type": "execute_result"
    }
   ],
   "source": [
    "ufem=TrussAssembleSolve(135000,11)\n",
    "round.(ufem;digits=2)"
   ]
  },
  {
   "cell_type": "code",
   "execution_count": 31,
   "metadata": {},
   "outputs": [],
   "source": [
    "writedlm(\"data/uinter.txt\",ũ,',')\n",
    "writedlm(\"data/ufem.txt\",ufem,',')"
   ]
  },
  {
   "cell_type": "code",
   "execution_count": 32,
   "metadata": {},
   "outputs": [
    {
     "data": {
      "image/svg+xml": [
       "<?xml version=\"1.0\" encoding=\"utf-8\"?>\n",
       "<svg xmlns=\"http://www.w3.org/2000/svg\" xmlns:xlink=\"http://www.w3.org/1999/xlink\" width=\"600\" height=\"400\" viewBox=\"0 0 2400 1600\">\n",
       "<defs>\n",
       "  <clipPath id=\"clip250\">\n",
       "    <rect x=\"0\" y=\"0\" width=\"2400\" height=\"1600\"/>\n",
       "  </clipPath>\n",
       "</defs>\n",
       "<path clip-path=\"url(#clip250)\" d=\"\n",
       "M0 1600 L2400 1600 L2400 0 L0 0  Z\n",
       "  \" fill=\"#ff8c00\" fill-rule=\"evenodd\" fill-opacity=\"1\"/>\n",
       "<defs>\n",
       "  <clipPath id=\"clip251\">\n",
       "    <rect x=\"480\" y=\"0\" width=\"1681\" height=\"1600\"/>\n",
       "  </clipPath>\n",
       "</defs>\n",
       "<path clip-path=\"url(#clip250)\" d=\"\n",
       "M170.047 1486.45 L2352.76 1486.45 L2352.76 47.2441 L170.047 47.2441  Z\n",
       "  \" fill=\"#ff8c00\" fill-rule=\"evenodd\" fill-opacity=\"1\"/>\n",
       "<defs>\n",
       "  <clipPath id=\"clip252\">\n",
       "    <rect x=\"170\" y=\"47\" width=\"2184\" height=\"1440\"/>\n",
       "  </clipPath>\n",
       "</defs>\n",
       "<polyline clip-path=\"url(#clip252)\" style=\"stroke:#000000; stroke-width:2; stroke-opacity:0.1; fill:none\" points=\"\n",
       "  412.57,1486.45 412.57,47.2441 \n",
       "  \"/>\n",
       "<polyline clip-path=\"url(#clip252)\" style=\"stroke:#000000; stroke-width:2; stroke-opacity:0.1; fill:none\" points=\"\n",
       "  897.617,1486.45 897.617,47.2441 \n",
       "  \"/>\n",
       "<polyline clip-path=\"url(#clip252)\" style=\"stroke:#000000; stroke-width:2; stroke-opacity:0.1; fill:none\" points=\"\n",
       "  1382.66,1486.45 1382.66,47.2441 \n",
       "  \"/>\n",
       "<polyline clip-path=\"url(#clip252)\" style=\"stroke:#000000; stroke-width:2; stroke-opacity:0.1; fill:none\" points=\"\n",
       "  1867.71,1486.45 1867.71,47.2441 \n",
       "  \"/>\n",
       "<polyline clip-path=\"url(#clip252)\" style=\"stroke:#000000; stroke-width:2; stroke-opacity:0.1; fill:none\" points=\"\n",
       "  2352.76,1486.45 2352.76,47.2441 \n",
       "  \"/>\n",
       "<polyline clip-path=\"url(#clip250)\" style=\"stroke:#000000; stroke-width:4; stroke-opacity:1; fill:none\" points=\"\n",
       "  170.047,1486.45 2352.76,1486.45 \n",
       "  \"/>\n",
       "<polyline clip-path=\"url(#clip250)\" style=\"stroke:#000000; stroke-width:4; stroke-opacity:1; fill:none\" points=\"\n",
       "  412.57,1486.45 412.57,1469.18 \n",
       "  \"/>\n",
       "<polyline clip-path=\"url(#clip250)\" style=\"stroke:#000000; stroke-width:4; stroke-opacity:1; fill:none\" points=\"\n",
       "  897.617,1486.45 897.617,1469.18 \n",
       "  \"/>\n",
       "<polyline clip-path=\"url(#clip250)\" style=\"stroke:#000000; stroke-width:4; stroke-opacity:1; fill:none\" points=\"\n",
       "  1382.66,1486.45 1382.66,1469.18 \n",
       "  \"/>\n",
       "<polyline clip-path=\"url(#clip250)\" style=\"stroke:#000000; stroke-width:4; stroke-opacity:1; fill:none\" points=\"\n",
       "  1867.71,1486.45 1867.71,1469.18 \n",
       "  \"/>\n",
       "<polyline clip-path=\"url(#clip250)\" style=\"stroke:#000000; stroke-width:4; stroke-opacity:1; fill:none\" points=\"\n",
       "  2352.76,1486.45 2352.76,1469.18 \n",
       "  \"/>\n",
       "<path clip-path=\"url(#clip250)\" d=\"M 0 0 M407.223 1543.18 L423.543 1543.18 L423.543 1547.12 L401.598 1547.12 L401.598 1543.18 Q404.26 1540.43 408.844 1535.8 Q413.45 1531.15 414.631 1529.81 Q416.876 1527.28 417.756 1525.55 Q418.658 1523.79 418.658 1522.1 Q418.658 1519.34 416.714 1517.61 Q414.793 1515.87 411.691 1515.87 Q409.492 1515.87 407.038 1516.63 Q404.608 1517.4 401.83 1518.95 L401.83 1514.23 Q404.654 1513.09 407.107 1512.51 Q409.561 1511.93 411.598 1511.93 Q416.969 1511.93 420.163 1514.62 Q423.357 1517.31 423.357 1521.8 Q423.357 1523.93 422.547 1525.85 Q421.76 1527.74 419.654 1530.34 Q419.075 1531.01 415.973 1534.23 Q412.871 1537.42 407.223 1543.18 Z\" fill=\"#000000\" fill-rule=\"evenodd\" fill-opacity=\"1\" /><path clip-path=\"url(#clip250)\" d=\"M 0 0 M900.626 1516.63 L888.821 1535.08 L900.626 1535.08 L900.626 1516.63 M899.399 1512.56 L905.279 1512.56 L905.279 1535.08 L910.209 1535.08 L910.209 1538.97 L905.279 1538.97 L905.279 1547.12 L900.626 1547.12 L900.626 1538.97 L885.024 1538.97 L885.024 1534.46 L899.399 1512.56 Z\" fill=\"#000000\" fill-rule=\"evenodd\" fill-opacity=\"1\" /><path clip-path=\"url(#clip250)\" d=\"M 0 0 M1383.07 1527.98 Q1379.92 1527.98 1378.07 1530.13 Q1376.24 1532.28 1376.24 1536.03 Q1376.24 1539.76 1378.07 1541.93 Q1379.92 1544.09 1383.07 1544.09 Q1386.22 1544.09 1388.05 1541.93 Q1389.9 1539.76 1389.9 1536.03 Q1389.9 1532.28 1388.05 1530.13 Q1386.22 1527.98 1383.07 1527.98 M1392.35 1513.32 L1392.35 1517.58 Q1390.59 1516.75 1388.79 1516.31 Q1387 1515.87 1385.24 1515.87 Q1380.61 1515.87 1378.16 1519 Q1375.73 1522.12 1375.38 1528.44 Q1376.75 1526.43 1378.81 1525.36 Q1380.87 1524.27 1383.35 1524.27 Q1388.55 1524.27 1391.56 1527.44 Q1394.6 1530.59 1394.6 1536.03 Q1394.6 1541.36 1391.45 1544.57 Q1388.3 1547.79 1383.07 1547.79 Q1377.07 1547.79 1373.9 1543.21 Q1370.73 1538.6 1370.73 1529.87 Q1370.73 1521.68 1374.62 1516.82 Q1378.51 1511.93 1385.06 1511.93 Q1386.82 1511.93 1388.6 1512.28 Q1390.41 1512.63 1392.35 1513.32 Z\" fill=\"#000000\" fill-rule=\"evenodd\" fill-opacity=\"1\" /><path clip-path=\"url(#clip250)\" d=\"M 0 0 M1867.71 1530.71 Q1864.38 1530.71 1862.45 1532.49 Q1860.56 1534.27 1860.56 1537.4 Q1860.56 1540.52 1862.45 1542.31 Q1864.38 1544.09 1867.71 1544.09 Q1871.04 1544.09 1872.96 1542.31 Q1874.89 1540.5 1874.89 1537.4 Q1874.89 1534.27 1872.96 1532.49 Q1871.07 1530.71 1867.71 1530.71 M1863.03 1528.72 Q1860.02 1527.98 1858.33 1525.92 Q1856.67 1523.86 1856.67 1520.89 Q1856.67 1516.75 1859.61 1514.34 Q1862.57 1511.93 1867.71 1511.93 Q1872.87 1511.93 1875.81 1514.34 Q1878.75 1516.75 1878.75 1520.89 Q1878.75 1523.86 1877.06 1525.92 Q1875.39 1527.98 1872.41 1528.72 Q1875.79 1529.5 1877.66 1531.8 Q1879.56 1534.09 1879.56 1537.4 Q1879.56 1542.42 1876.48 1545.11 Q1873.43 1547.79 1867.71 1547.79 Q1861.99 1547.79 1858.91 1545.11 Q1855.86 1542.42 1855.86 1537.4 Q1855.86 1534.09 1857.76 1531.8 Q1859.65 1529.5 1863.03 1528.72 M1861.32 1521.33 Q1861.32 1524.02 1862.99 1525.52 Q1864.68 1527.03 1867.71 1527.03 Q1870.72 1527.03 1872.41 1525.52 Q1874.12 1524.02 1874.12 1521.33 Q1874.12 1518.65 1872.41 1517.14 Q1870.72 1515.64 1867.71 1515.64 Q1864.68 1515.64 1862.99 1517.14 Q1861.32 1518.65 1861.32 1521.33 Z\" fill=\"#000000\" fill-rule=\"evenodd\" fill-opacity=\"1\" /><path clip-path=\"url(#clip250)\" d=\"M 0 0 M2329.63 1543.18 L2337.27 1543.18 L2337.27 1516.82 L2328.96 1518.49 L2328.96 1514.23 L2337.22 1512.56 L2341.9 1512.56 L2341.9 1543.18 L2349.54 1543.18 L2349.54 1547.12 L2329.63 1547.12 L2329.63 1543.18 Z\" fill=\"#000000\" fill-rule=\"evenodd\" fill-opacity=\"1\" /><path clip-path=\"url(#clip250)\" d=\"M 0 0 M2364.61 1515.64 Q2361 1515.64 2359.17 1519.2 Q2357.36 1522.75 2357.36 1529.87 Q2357.36 1536.98 2359.17 1540.55 Q2361 1544.09 2364.61 1544.09 Q2368.24 1544.09 2370.05 1540.55 Q2371.88 1536.98 2371.88 1529.87 Q2371.88 1522.75 2370.05 1519.2 Q2368.24 1515.64 2364.61 1515.64 M2364.61 1511.93 Q2370.42 1511.93 2373.47 1516.54 Q2376.55 1521.12 2376.55 1529.87 Q2376.55 1538.6 2373.47 1543.21 Q2370.42 1547.79 2364.61 1547.79 Q2358.8 1547.79 2355.72 1543.21 Q2352.66 1538.6 2352.66 1529.87 Q2352.66 1521.12 2355.72 1516.54 Q2358.8 1511.93 2364.61 1511.93 Z\" fill=\"#000000\" fill-rule=\"evenodd\" fill-opacity=\"1\" /><polyline clip-path=\"url(#clip252)\" style=\"stroke:#000000; stroke-width:2; stroke-opacity:0.1; fill:none\" points=\"\n",
       "  170.047,1269.65 2352.76,1269.65 \n",
       "  \"/>\n",
       "<polyline clip-path=\"url(#clip252)\" style=\"stroke:#000000; stroke-width:2; stroke-opacity:0.1; fill:none\" points=\"\n",
       "  170.047,951.236 2352.76,951.236 \n",
       "  \"/>\n",
       "<polyline clip-path=\"url(#clip252)\" style=\"stroke:#000000; stroke-width:2; stroke-opacity:0.1; fill:none\" points=\"\n",
       "  170.047,632.82 2352.76,632.82 \n",
       "  \"/>\n",
       "<polyline clip-path=\"url(#clip252)\" style=\"stroke:#000000; stroke-width:2; stroke-opacity:0.1; fill:none\" points=\"\n",
       "  170.047,314.405 2352.76,314.405 \n",
       "  \"/>\n",
       "<polyline clip-path=\"url(#clip250)\" style=\"stroke:#000000; stroke-width:4; stroke-opacity:1; fill:none\" points=\"\n",
       "  170.047,1486.45 170.047,47.2441 \n",
       "  \"/>\n",
       "<polyline clip-path=\"url(#clip250)\" style=\"stroke:#000000; stroke-width:4; stroke-opacity:1; fill:none\" points=\"\n",
       "  170.047,1269.65 196.24,1269.65 \n",
       "  \"/>\n",
       "<polyline clip-path=\"url(#clip250)\" style=\"stroke:#000000; stroke-width:4; stroke-opacity:1; fill:none\" points=\"\n",
       "  170.047,951.236 196.24,951.236 \n",
       "  \"/>\n",
       "<polyline clip-path=\"url(#clip250)\" style=\"stroke:#000000; stroke-width:4; stroke-opacity:1; fill:none\" points=\"\n",
       "  170.047,632.82 196.24,632.82 \n",
       "  \"/>\n",
       "<polyline clip-path=\"url(#clip250)\" style=\"stroke:#000000; stroke-width:4; stroke-opacity:1; fill:none\" points=\"\n",
       "  170.047,314.405 196.24,314.405 \n",
       "  \"/>\n",
       "<path clip-path=\"url(#clip250)\" d=\"M 0 0 M50.9921 1270.1 L80.6679 1270.1 L80.6679 1274.04 L50.9921 1274.04 L50.9921 1270.1 Z\" fill=\"#000000\" fill-rule=\"evenodd\" fill-opacity=\"1\" /><path clip-path=\"url(#clip250)\" d=\"M 0 0 M99.9039 1268.3 Q103.26 1269.01 105.135 1271.28 Q107.033 1273.55 107.033 1276.89 Q107.033 1282 103.515 1284.8 Q99.9965 1287.6 93.515 1287.6 Q91.3391 1287.6 89.0243 1287.16 Q86.7327 1286.75 84.279 1285.89 L84.279 1281.38 Q86.2234 1282.51 88.5382 1283.09 Q90.853 1283.67 93.3762 1283.67 Q97.7743 1283.67 100.066 1281.93 Q102.381 1280.2 102.381 1276.89 Q102.381 1273.83 100.228 1272.12 Q98.0984 1270.38 94.2789 1270.38 L90.2512 1270.38 L90.2512 1266.54 L94.4641 1266.54 Q97.9132 1266.54 99.7419 1265.17 Q101.571 1263.78 101.571 1261.19 Q101.571 1258.53 99.6724 1257.12 Q97.7974 1255.68 94.2789 1255.68 Q92.3576 1255.68 90.1586 1256.1 Q87.9595 1256.51 85.3206 1257.39 L85.3206 1253.23 Q87.9827 1252.49 90.2975 1252.12 Q92.6354 1251.75 94.6956 1251.75 Q100.02 1251.75 103.121 1254.18 Q106.223 1256.58 106.223 1260.7 Q106.223 1263.58 104.58 1265.57 Q102.936 1267.53 99.9039 1268.3 Z\" fill=\"#000000\" fill-rule=\"evenodd\" fill-opacity=\"1\" /><path clip-path=\"url(#clip250)\" d=\"M 0 0 M122.103 1255.45 Q118.492 1255.45 116.663 1259.01 Q114.858 1262.56 114.858 1269.69 Q114.858 1276.79 116.663 1280.36 Q118.492 1283.9 122.103 1283.9 Q125.737 1283.9 127.543 1280.36 Q129.371 1276.79 129.371 1269.69 Q129.371 1262.56 127.543 1259.01 Q125.737 1255.45 122.103 1255.45 M122.103 1251.75 Q127.913 1251.75 130.969 1256.35 Q134.047 1260.94 134.047 1269.69 Q134.047 1278.41 130.969 1283.02 Q127.913 1287.6 122.103 1287.6 Q116.293 1287.6 113.214 1283.02 Q110.158 1278.41 110.158 1269.69 Q110.158 1260.94 113.214 1256.35 Q116.293 1251.75 122.103 1251.75 Z\" fill=\"#000000\" fill-rule=\"evenodd\" fill-opacity=\"1\" /><path clip-path=\"url(#clip250)\" d=\"M 0 0 M51.9412 951.687 L81.617 951.687 L81.617 955.622 L51.9412 955.622 L51.9412 951.687 Z\" fill=\"#000000\" fill-rule=\"evenodd\" fill-opacity=\"1\" /><path clip-path=\"url(#clip250)\" d=\"M 0 0 M90.7141 964.581 L107.033 964.581 L107.033 968.516 L85.0892 968.516 L85.0892 964.581 Q87.7512 961.826 92.3345 957.197 Q96.941 952.544 98.1215 951.201 Q100.367 948.678 101.246 946.942 Q102.149 945.183 102.149 943.493 Q102.149 940.738 100.205 939.002 Q98.2835 937.266 95.1817 937.266 Q92.9826 937.266 90.529 938.03 Q88.0984 938.794 85.3206 940.345 L85.3206 935.623 Q88.1447 934.488 90.5984 933.91 Q93.0521 933.331 95.0891 933.331 Q100.459 933.331 103.654 936.016 Q106.848 938.701 106.848 943.192 Q106.848 945.322 106.038 947.243 Q105.251 949.141 103.145 951.734 Q102.566 952.405 99.4641 955.622 Q96.3623 958.817 90.7141 964.581 Z\" fill=\"#000000\" fill-rule=\"evenodd\" fill-opacity=\"1\" /><path clip-path=\"url(#clip250)\" d=\"M 0 0 M122.103 937.035 Q118.492 937.035 116.663 940.599 Q114.858 944.141 114.858 951.271 Q114.858 958.377 116.663 961.942 Q118.492 965.484 122.103 965.484 Q125.737 965.484 127.543 961.942 Q129.371 958.377 129.371 951.271 Q129.371 944.141 127.543 940.599 Q125.737 937.035 122.103 937.035 M122.103 933.331 Q127.913 933.331 130.969 937.937 Q134.047 942.521 134.047 951.271 Q134.047 959.997 130.969 964.604 Q127.913 969.187 122.103 969.187 Q116.293 969.187 113.214 964.604 Q110.158 959.997 110.158 951.271 Q110.158 942.521 113.214 937.937 Q116.293 933.331 122.103 933.331 Z\" fill=\"#000000\" fill-rule=\"evenodd\" fill-opacity=\"1\" /><path clip-path=\"url(#clip250)\" d=\"M 0 0 M51.5708 633.272 L81.2466 633.272 L81.2466 637.207 L51.5708 637.207 L51.5708 633.272 Z\" fill=\"#000000\" fill-rule=\"evenodd\" fill-opacity=\"1\" /><path clip-path=\"url(#clip250)\" d=\"M 0 0 M87.1262 646.165 L94.765 646.165 L94.765 619.8 L86.4549 621.466 L86.4549 617.207 L94.7187 615.54 L99.3946 615.54 L99.3946 646.165 L107.033 646.165 L107.033 650.1 L87.1262 650.1 L87.1262 646.165 Z\" fill=\"#000000\" fill-rule=\"evenodd\" fill-opacity=\"1\" /><path clip-path=\"url(#clip250)\" d=\"M 0 0 M122.103 618.619 Q118.492 618.619 116.663 622.184 Q114.858 625.726 114.858 632.855 Q114.858 639.962 116.663 643.526 Q118.492 647.068 122.103 647.068 Q125.737 647.068 127.543 643.526 Q129.371 639.962 129.371 632.855 Q129.371 625.726 127.543 622.184 Q125.737 618.619 122.103 618.619 M122.103 614.915 Q127.913 614.915 130.969 619.522 Q134.047 624.105 134.047 632.855 Q134.047 641.582 130.969 646.188 Q127.913 650.772 122.103 650.772 Q116.293 650.772 113.214 646.188 Q110.158 641.582 110.158 632.855 Q110.158 624.105 113.214 619.522 Q116.293 614.915 122.103 614.915 Z\" fill=\"#000000\" fill-rule=\"evenodd\" fill-opacity=\"1\" /><path clip-path=\"url(#clip250)\" d=\"M 0 0 M122.103 300.204 Q118.492 300.204 116.663 303.769 Q114.858 307.31 114.858 314.44 Q114.858 321.546 116.663 325.111 Q118.492 328.653 122.103 328.653 Q125.737 328.653 127.543 325.111 Q129.371 321.546 129.371 314.44 Q129.371 307.31 127.543 303.769 Q125.737 300.204 122.103 300.204 M122.103 296.5 Q127.913 296.5 130.969 301.107 Q134.047 305.69 134.047 314.44 Q134.047 323.167 130.969 327.773 Q127.913 332.356 122.103 332.356 Q116.293 332.356 113.214 327.773 Q110.158 323.167 110.158 314.44 Q110.158 305.69 113.214 301.107 Q116.293 296.5 122.103 296.5 Z\" fill=\"#000000\" fill-rule=\"evenodd\" fill-opacity=\"1\" /><polyline clip-path=\"url(#clip252)\" style=\"stroke:#009af9; stroke-width:4; stroke-opacity:1; fill:none\" points=\"\n",
       "  170.047,682.352 412.57,1222.72 655.094,342.709 897.617,1329.07 1140.14,87.9763 1382.66,841.039 1625.19,399.316 1867.71,1445.72 2110.23,399.316 2352.76,1212.42 \n",
       "  \n",
       "  \"/>\n",
       "<polyline clip-path=\"url(#clip252)\" style=\"stroke:#e26f46; stroke-width:4; stroke-opacity:1; fill:none\" points=\"\n",
       "  170.047,590.365 412.57,995.642 655.094,335.633 897.617,1075.4 1140.14,144.583 1382.66,709.38 1625.19,378.088 1867.71,1162.89 2110.23,378.088 2352.76,987.916 \n",
       "  \n",
       "  \"/>\n",
       "<polyline clip-path=\"url(#clip252)\" style=\"stroke:#3da44d; stroke-width:4; stroke-opacity:1; fill:none\" points=\"\n",
       "  170.047,535.173 412.57,859.394 655.094,331.387 897.617,923.203 1140.14,178.548 1382.66,630.385 1625.19,365.352 1867.71,993.191 2110.23,365.352 2352.76,853.214 \n",
       "  \n",
       "  \"/>\n",
       "<polyline clip-path=\"url(#clip252)\" style=\"stroke:#c271d2; stroke-width:4; stroke-opacity:1; fill:none\" points=\"\n",
       "  170.047,498.378 412.57,768.563 655.094,328.557 897.617,821.736 1140.14,201.191 1382.66,577.722 1625.19,356.86 1867.71,880.06 2110.23,356.86 2352.76,763.412 \n",
       "  \n",
       "  \"/>\n",
       "<polyline clip-path=\"url(#clip252)\" style=\"stroke:#ac8d18; stroke-width:4; stroke-opacity:1; fill:none\" points=\"\n",
       "  170.047,621.027 412.57,1071.33 655.094,337.991 897.617,1159.96 1140.14,125.714 1382.66,753.266 1625.19,385.164 1867.71,1257.16 2110.23,385.164 2352.76,1062.75 \n",
       "  \n",
       "  \"/>\n",
       "<polyline clip-path=\"url(#clip252)\" style=\"stroke:#00a9ad; stroke-width:4; stroke-opacity:1; fill:none\" points=\"\n",
       "  170.047,544.372 412.57,882.102 655.094,332.095 897.617,948.569 1140.14,172.887 1382.66,643.551 1625.19,367.474 1867.71,1021.47 2110.23,367.474 2352.76,875.664 \n",
       "  \n",
       "  \"/>\n",
       "<polyline clip-path=\"url(#clip252)\" style=\"stroke:#ed5d92; stroke-width:4; stroke-opacity:1; fill:none\" points=\"\n",
       "  170.047,498.378 412.57,768.563 655.094,328.557 897.617,821.736 1140.14,201.191 1382.66,577.722 1625.19,356.86 1867.71,880.06 2110.23,356.86 2352.76,763.412 \n",
       "  \n",
       "  \"/>\n",
       "<polyline clip-path=\"url(#clip252)\" style=\"stroke:#c68125; stroke-width:4; stroke-opacity:1; fill:none\" points=\"\n",
       "  170.047,467.716 412.57,692.87 655.094,326.198 897.617,737.181 1140.14,220.06 1382.66,533.836 1625.19,349.785 1867.71,785.784 2110.23,349.785 2352.76,688.578 \n",
       "  \n",
       "  \"/>\n",
       "<polyline clip-path=\"url(#clip252)\" style=\"stroke:#00a98d; stroke-width:4; stroke-opacity:1; fill:none\" points=\"\n",
       "  170.047,577.224 412.57,963.202 655.094,334.622 897.617,1039.16 1140.14,152.67 1382.66,690.572 1625.19,375.056 1867.71,1122.48 2110.23,375.056 2352.76,955.844 \n",
       "  \n",
       "  \"/>\n",
       "<polyline clip-path=\"url(#clip252)\" style=\"stroke:#8e971d; stroke-width:4; stroke-opacity:1; fill:none\" points=\"\n",
       "  170.047,511.519 412.57,801.003 655.094,329.568 897.617,857.974 1140.14,193.104 1382.66,596.53 1625.19,359.893 1867.71,920.464 2110.23,359.893 2352.76,795.484 \n",
       "  \n",
       "  \"/>\n",
       "<polyline clip-path=\"url(#clip252)\" style=\"stroke:#00a8cb; stroke-width:4; stroke-opacity:1; fill:none\" points=\"\n",
       "  170.047,472.097 412.57,703.683 655.094,326.535 897.617,749.26 1140.14,217.364 1382.66,540.105 1625.19,350.795 1867.71,799.252 2110.23,350.795 2352.76,699.268 \n",
       "  \n",
       "  \"/>\n",
       "<polyline clip-path=\"url(#clip252)\" style=\"stroke:#9b7fe8; stroke-width:4; stroke-opacity:1; fill:none\" points=\"\n",
       "  170.047,445.815 412.57,638.804 655.094,324.513 897.617,676.784 1140.14,233.538 1382.66,502.489 1625.19,344.73 1867.71,718.445 2110.23,344.73 2352.76,635.124 \n",
       "  \n",
       "  \"/>\n",
       "<polyline clip-path=\"url(#clip252)\" style=\"stroke:#608cf6; stroke-width:4; stroke-opacity:1; fill:none\" points=\"\n",
       "  170.047,544.372 412.57,882.102 655.094,332.095 897.617,948.569 1140.14,172.887 1382.66,643.551 1625.19,367.474 1867.71,1021.47 2110.23,367.474 2352.76,875.664 \n",
       "  \n",
       "  \"/>\n",
       "<polyline clip-path=\"url(#clip252)\" style=\"stroke:#f05f73; stroke-width:4; stroke-opacity:1; fill:none\" points=\"\n",
       "  170.047,486.88 412.57,740.178 655.094,327.672 897.617,790.028 1140.14,208.267 1382.66,561.265 1625.19,354.207 1867.71,844.707 2110.23,354.207 2352.76,735.349 \n",
       "  \n",
       "  \"/>\n",
       "<polyline clip-path=\"url(#clip252)\" style=\"stroke:#dd64b5; stroke-width:4; stroke-opacity:1; fill:none\" points=\"\n",
       "  170.047,452.385 412.57,655.023 655.094,325.019 897.617,694.903 1140.14,229.494 1382.66,511.893 1625.19,346.247 1867.71,738.647 2110.23,346.247 2352.76,651.16 \n",
       "  \n",
       "  \"/>\n",
       "<polyline clip-path=\"url(#clip252)\" style=\"stroke:#6b9e32; stroke-width:4; stroke-opacity:1; fill:none\" points=\"\n",
       "  170.047,429.388 412.57,598.254 655.094,323.25 897.617,631.487 1140.14,243.646 1382.66,478.978 1625.19,340.94 1867.71,667.94 2110.23,340.94 2352.76,595.035 \n",
       "  \n",
       "  \"/>\n",
       "<polyline clip-path=\"url(#clip252)\" style=\"stroke:#009af9; stroke-width:4; stroke-opacity:1; fill:none\" points=\"\n",
       "  170.047,496.111 412.57,762.966 655.094,328.382 897.617,815.484 1140.14,202.586 1382.66,574.477 1625.19,356.337 1867.71,873.089 2110.23,356.337 2352.76,757.879 \n",
       "  \n",
       "  \"/>\n",
       "<path clip-path=\"url(#clip252)\" d=\"M154.047 480.111 L154.047 512.111 L186.047 512.111 L186.047 480.111 L154.047 480.111 Z\" fill=\"#009af9\" fill-rule=\"evenodd\" fill-opacity=\"1\" stroke=\"#000000\" stroke-opacity=\"1\" stroke-width=\"3.2\"/>\n",
       "<path clip-path=\"url(#clip252)\" d=\"M396.57 746.966 L396.57 778.966 L428.57 778.966 L428.57 746.966 L396.57 746.966 Z\" fill=\"#009af9\" fill-rule=\"evenodd\" fill-opacity=\"1\" stroke=\"#000000\" stroke-opacity=\"1\" stroke-width=\"3.2\"/>\n",
       "<path clip-path=\"url(#clip252)\" d=\"M639.094 312.382 L639.094 344.382 L671.094 344.382 L671.094 312.382 L639.094 312.382 Z\" fill=\"#009af9\" fill-rule=\"evenodd\" fill-opacity=\"1\" stroke=\"#000000\" stroke-opacity=\"1\" stroke-width=\"3.2\"/>\n",
       "<path clip-path=\"url(#clip252)\" d=\"M881.617 799.484 L881.617 831.484 L913.617 831.484 L913.617 799.484 L881.617 799.484 Z\" fill=\"#009af9\" fill-rule=\"evenodd\" fill-opacity=\"1\" stroke=\"#000000\" stroke-opacity=\"1\" stroke-width=\"3.2\"/>\n",
       "<path clip-path=\"url(#clip252)\" d=\"M1124.14 186.586 L1124.14 218.586 L1156.14 218.586 L1156.14 186.586 L1124.14 186.586 Z\" fill=\"#009af9\" fill-rule=\"evenodd\" fill-opacity=\"1\" stroke=\"#000000\" stroke-opacity=\"1\" stroke-width=\"3.2\"/>\n",
       "<path clip-path=\"url(#clip252)\" d=\"M1366.66 558.477 L1366.66 590.477 L1398.66 590.477 L1398.66 558.477 L1366.66 558.477 Z\" fill=\"#009af9\" fill-rule=\"evenodd\" fill-opacity=\"1\" stroke=\"#000000\" stroke-opacity=\"1\" stroke-width=\"3.2\"/>\n",
       "<path clip-path=\"url(#clip252)\" d=\"M1609.19 340.337 L1609.19 372.337 L1641.19 372.337 L1641.19 340.337 L1609.19 340.337 Z\" fill=\"#009af9\" fill-rule=\"evenodd\" fill-opacity=\"1\" stroke=\"#000000\" stroke-opacity=\"1\" stroke-width=\"3.2\"/>\n",
       "<path clip-path=\"url(#clip252)\" d=\"M1851.71 857.089 L1851.71 889.089 L1883.71 889.089 L1883.71 857.089 L1851.71 857.089 Z\" fill=\"#009af9\" fill-rule=\"evenodd\" fill-opacity=\"1\" stroke=\"#000000\" stroke-opacity=\"1\" stroke-width=\"3.2\"/>\n",
       "<path clip-path=\"url(#clip252)\" d=\"M2094.23 340.337 L2094.23 372.337 L2126.23 372.337 L2126.23 340.337 L2094.23 340.337 Z\" fill=\"#009af9\" fill-rule=\"evenodd\" fill-opacity=\"1\" stroke=\"#000000\" stroke-opacity=\"1\" stroke-width=\"3.2\"/>\n",
       "<path clip-path=\"url(#clip252)\" d=\"M2336.76 741.879 L2336.76 773.879 L2368.76 773.879 L2368.76 741.879 L2336.76 741.879 Z\" fill=\"#009af9\" fill-rule=\"evenodd\" fill-opacity=\"1\" stroke=\"#000000\" stroke-opacity=\"1\" stroke-width=\"3.2\"/>\n",
       "<circle clip-path=\"url(#clip252)\" cx=\"170.047\" cy=\"500.237\" r=\"14\" fill=\"#e26f46\" fill-rule=\"evenodd\" fill-opacity=\"1\" stroke=\"#000000\" stroke-opacity=\"1\" stroke-width=\"3.2\"/>\n",
       "<circle clip-path=\"url(#clip252)\" cx=\"412.57\" cy=\"773.15\" r=\"14\" fill=\"#e26f46\" fill-rule=\"evenodd\" fill-opacity=\"1\" stroke=\"#000000\" stroke-opacity=\"1\" stroke-width=\"3.2\"/>\n",
       "<circle clip-path=\"url(#clip252)\" cx=\"655.094\" cy=\"328.7\" r=\"14\" fill=\"#e26f46\" fill-rule=\"evenodd\" fill-opacity=\"1\" stroke=\"#000000\" stroke-opacity=\"1\" stroke-width=\"3.2\"/>\n",
       "<circle clip-path=\"url(#clip252)\" cx=\"897.617\" cy=\"826.861\" r=\"14\" fill=\"#e26f46\" fill-rule=\"evenodd\" fill-opacity=\"1\" stroke=\"#000000\" stroke-opacity=\"1\" stroke-width=\"3.2\"/>\n",
       "<circle clip-path=\"url(#clip252)\" cx=\"1140.14\" cy=\"200.047\" r=\"14\" fill=\"#e26f46\" fill-rule=\"evenodd\" fill-opacity=\"1\" stroke=\"#000000\" stroke-opacity=\"1\" stroke-width=\"3.2\"/>\n",
       "<circle clip-path=\"url(#clip252)\" cx=\"1382.66\" cy=\"580.382\" r=\"14\" fill=\"#e26f46\" fill-rule=\"evenodd\" fill-opacity=\"1\" stroke=\"#000000\" stroke-opacity=\"1\" stroke-width=\"3.2\"/>\n",
       "<circle clip-path=\"url(#clip252)\" cx=\"1625.19\" cy=\"357.289\" r=\"14\" fill=\"#e26f46\" fill-rule=\"evenodd\" fill-opacity=\"1\" stroke=\"#000000\" stroke-opacity=\"1\" stroke-width=\"3.2\"/>\n",
       "<circle clip-path=\"url(#clip252)\" cx=\"1867.71\" cy=\"885.774\" r=\"14\" fill=\"#e26f46\" fill-rule=\"evenodd\" fill-opacity=\"1\" stroke=\"#000000\" stroke-opacity=\"1\" stroke-width=\"3.2\"/>\n",
       "<circle clip-path=\"url(#clip252)\" cx=\"2110.23\" cy=\"357.289\" r=\"14\" fill=\"#e26f46\" fill-rule=\"evenodd\" fill-opacity=\"1\" stroke=\"#000000\" stroke-opacity=\"1\" stroke-width=\"3.2\"/>\n",
       "<circle clip-path=\"url(#clip252)\" cx=\"2352.76\" cy=\"767.948\" r=\"14\" fill=\"#e26f46\" fill-rule=\"evenodd\" fill-opacity=\"1\" stroke=\"#000000\" stroke-opacity=\"1\" stroke-width=\"3.2\"/>\n",
       "</svg>\n"
      ]
     },
     "metadata": {},
     "output_type": "display_data"
    }
   ],
   "source": [
    "p=plot(Y, xlims=(1,10),legend=false,show=true)\n",
    "p=plot!(ũ,shape =:square,xlims=(1,10),legend=false)\n",
    "scatter!(ufem,bg=:darkorange)\n",
    "display(p)\n",
    "savefig(\"img/interpolation.png\")"
   ]
  },
  {
   "cell_type": "code",
   "execution_count": null,
   "metadata": {},
   "outputs": [],
   "source": []
  }
 ],
 "metadata": {
  "kernelspec": {
   "display_name": "Julia 1.5.2",
   "language": "julia",
   "name": "julia-1.5"
  },
  "language_info": {
   "file_extension": ".jl",
   "mimetype": "application/julia",
   "name": "julia",
   "version": "1.5.2"
  }
 },
 "nbformat": 4,
 "nbformat_minor": 4
}
