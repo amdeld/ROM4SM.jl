{
 "cells": [
  {
   "cell_type": "code",
   "execution_count": 1,
   "metadata": {},
   "outputs": [
    {
     "name": "stderr",
     "output_type": "stream",
     "text": [
      "┌ Info: Precompiling MAT [23992714-dd62-5051-b70f-ba57cb901cac]\n",
      "└ @ Base loading.jl:1278\n"
     ]
    }
   ],
   "source": [
    "using MAT"
   ]
  },
  {
   "cell_type": "code",
   "execution_count": 8,
   "metadata": {},
   "outputs": [],
   "source": [
    "cd(\"D:\\\\Users\\\\Administrator\\\\Desktop\\\\AD\\\\Research\\\\DDSE\\\\CODE\\\\CH02_FLUIDS\");"
   ]
  },
  {
   "cell_type": "code",
   "execution_count": 9,
   "metadata": {},
   "outputs": [
    {
     "data": {
      "text/plain": [
       "\"D:\\\\Users\\\\Administrator\\\\Desktop\\\\AD\\\\Research\\\\DDSE\\\\CODE\\\\CH02_FLUIDS\""
      ]
     },
     "execution_count": 9,
     "metadata": {},
     "output_type": "execute_result"
    }
   ],
   "source": [
    "pwd()"
   ]
  },
  {
   "cell_type": "code",
   "execution_count": 11,
   "metadata": {},
   "outputs": [
    {
     "data": {
      "text/plain": [
       "8-element Array{String,1}:\n",
       " \".DS_Store\"\n",
       " \"CCcool.mat\"\n",
       " \"README.txt\"\n",
       " \"computeDMD.m\"\n",
       " \"computePOD.m\"\n",
       " \"loadDATA.m\"\n",
       " \"loadIBPM.m\"\n",
       " \"plotCylinder.m\""
      ]
     },
     "execution_count": 11,
     "metadata": {},
     "output_type": "execute_result"
    }
   ],
   "source": [
    "readdir()"
   ]
  },
  {
   "cell_type": "code",
   "execution_count": 18,
   "metadata": {},
   "outputs": [
    {
     "data": {
      "text/plain": [
       "Dict{String,Any} with 10 entries:\n",
       "  \"n\"         => 449.0\n",
       "  \"nx\"        => 199.0\n",
       "  \"m\"         => 199.0\n",
       "  \"UEXTRA\"    => [1.01268; 1.01211; … ; 0.899783; 0.90235]\n",
       "  \"ny\"        => 449.0\n",
       "  \"VEXTRA\"    => [-0.115357; -0.116494; … ; 0.156785; 0.153308]\n",
       "  \"VORTALL\"   => [-9.37978e-15 -8.81369e-15 … -9.41491e-15 -9.30876e-15; -9.306…\n",
       "  \"UALL\"      => [1.01243 1.01092 … 1.01606 1.01434; 1.01186 1.01034 … 1.01553 …\n",
       "  \"VALL\"      => [-0.11537 -0.115353 … -0.114821 -0.115171; -0.116503 -0.116465…\n",
       "  \"VORTEXTRA\" => [-8.3202e-15; -8.40734e-15; … ; -0.0316823; -0.0451625]"
      ]
     },
     "execution_count": 18,
     "metadata": {},
     "output_type": "execute_result"
    }
   ],
   "source": [
    "matdata = matread(\"..\\\\DATA\\\\FLUIDS\\\\CYLINDER_ALL.mat\")"
   ]
  },
  {
   "cell_type": "code",
   "execution_count": 20,
   "metadata": {},
   "outputs": [
    {
     "data": {
      "text/plain": [
       "89351×151 Array{Float64,2}:\n",
       " -9.37978e-15  -8.81369e-15  -8.98807e-15  …  -9.41491e-15  -9.30876e-15\n",
       " -9.30657e-15  -8.89068e-15  -8.94398e-15     -9.56562e-15  -9.35889e-15\n",
       " -9.42567e-15  -8.94825e-15  -9.03783e-15     -9.53402e-15  -9.57157e-15\n",
       " -9.57959e-15  -9.05351e-15  -9.2128e-15      -9.69805e-15  -9.73142e-15\n",
       " -9.69828e-15  -9.14165e-15  -9.44906e-15     -9.73998e-15  -9.83227e-15\n",
       " -9.87617e-15  -9.36489e-15  -9.66449e-15  …  -9.83069e-15  -9.95173e-15\n",
       " -1.01362e-14  -9.54897e-15  -9.77338e-15     -9.92928e-15  -1.01062e-14\n",
       " -1.01996e-14  -9.61967e-15  -1.0021e-14      -1.00161e-14  -1.02688e-14\n",
       " -1.02105e-14  -1.00158e-14  -1.02248e-14     -1.0251e-14   -1.06375e-14\n",
       " -1.02604e-14  -1.0253e-14   -1.04281e-14     -1.06053e-14  -1.08154e-14\n",
       " -1.0534e-14   -1.04743e-14  -1.0811e-14   …  -1.06298e-14  -1.10028e-14\n",
       " -1.06827e-14  -1.04316e-14  -1.11066e-14     -1.07253e-14  -1.12029e-14\n",
       " -1.12405e-14  -1.05765e-14  -1.13993e-14     -1.07825e-14  -1.10238e-14\n",
       "  ⋮                                        ⋱                 ⋮\n",
       "  0.0985096     0.104177      0.0908542        0.036636      0.0733556\n",
       "  0.0887509     0.0919107     0.0767297    …   0.02949       0.0656703\n",
       "  0.0779353     0.0789392     0.0624745        0.0210794     0.0567586\n",
       "  0.0661146     0.0653849     0.0482752        0.0114017     0.046623\n",
       "  0.0534427     0.0514275     0.0342776        0.000523834   0.0353636\n",
       "  0.0400508     0.0372527     0.0206989       -0.0114677     0.0230673\n",
       "  0.0261294     0.0230436     0.00765377   …  -0.0244352     0.00989464\n",
       "  0.0118844     0.00903342   -0.00463268      -0.038193     -0.00397664\n",
       " -0.00247906   -0.00461406   -0.0160904       -0.0525433    -0.0183412\n",
       " -0.0167006    -0.0176447    -0.0265121       -0.0672113    -0.0329421\n",
       " -0.0305893    -0.0299358    -0.0358798       -0.0819676    -0.0475584\n",
       " -0.0438674    -0.0412466    -0.0440273    …  -0.096491     -0.0618917"
      ]
     },
     "execution_count": 20,
     "metadata": {},
     "output_type": "execute_result"
    }
   ],
   "source": [
    "Y=matdata[\"VORTALL\"]"
   ]
  },
  {
   "cell_type": "code",
   "execution_count": null,
   "metadata": {},
   "outputs": [],
   "source": []
  }
 ],
 "metadata": {
  "kernelspec": {
   "display_name": "Julia 1.5.0",
   "language": "julia",
   "name": "julia-1.5"
  },
  "language_info": {
   "file_extension": ".jl",
   "mimetype": "application/julia",
   "name": "julia",
   "version": "1.5.0"
  }
 },
 "nbformat": 4,
 "nbformat_minor": 4
}
