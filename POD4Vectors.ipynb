{
 "cells": [
  {
   "cell_type": "markdown",
   "metadata": {},
   "source": [
    "# Discrete proper orthogonal decomposition (POD) of a set of vectors \n",
    "Inspired from Buljak, V. (2012). "
   ]
  },
  {
   "cell_type": "markdown",
   "metadata": {},
   "source": [
    "# Correlated and Uncorrelated Vectors and reduction of dimensionality in the correlated data\n",
    "<img src=\"https://raw.githubusercontent.com/amdeld/ROM4SM.jl/master/img/Vectors.png\" alt=\"Drawing\" style=\"width: 500px;\"/>\n"
   ]
  },
  {
   "cell_type": "markdown",
   "metadata": {},
   "source": [
    "# Data matrix (snapshots)\n",
    "$Y=\\left[\\begin{array}{cccc}\n",
    "| & | & | & |\\\\\n",
    "Y_{1} & Y_{2} & Y_{3} & Y_{4}\\\\\n",
    "| & | & | & |\n",
    "\\end{array}\\right]$"
   ]
  },
  {
   "cell_type": "code",
   "execution_count": 1,
   "metadata": {},
   "outputs": [
    {
     "name": "stdout",
     "output_type": "stream",
     "text": [
      "\rData matrix Y =\r\n"
     ]
    },
    {
     "data": {
      "text/plain": [
       "3×4 Matrix{Int64}:\n",
       " 1  5  3  3\n",
       " 1  4  4  3\n",
       " 1  5  5  4"
      ]
     },
     "metadata": {},
     "output_type": "display_data"
    }
   ],
   "source": [
    "#= Consider a set of four 3D dimensional vectors \n",
    "collected in a matrix of dim (3x4) Y=[y1 y2 y3 y4] =#\n",
    "using LinearAlgebra\n",
    "println(\"\\rData matrix Y =\\r\")\n",
    "Y = [1 5 3 3; 1 4 4 3; 1 5 5 4]"
   ]
  },
  {
   "cell_type": "markdown",
   "metadata": {},
   "source": [
    "## Galerkin Projection\n",
    "$Y= ΦA$ or $y_{i}=\\sum_{n=1}^{K} a_{ij}.\\phi_j $\n",
    "\n",
    "<img src=\"https://raw.githubusercontent.com/amdeld/ROM4SM.jl/master/img/Projection.png\" alt=\"Drawing\" style=\"width: 500px;\"/>"
   ]
  },
  {
   "cell_type": "markdown",
   "metadata": {},
   "source": [
    "1. Eigen decomposition of the covariance matrix"
   ]
  },
  {
   "cell_type": "code",
   "execution_count": 2,
   "metadata": {},
   "outputs": [
    {
     "name": "stdout",
     "output_type": "stream",
     "text": [
      "\rCovariance matrix C =\r"
     ]
    },
    {
     "name": "stdout",
     "output_type": "stream",
     "text": [
      "\n"
     ]
    },
    {
     "data": {
      "text/plain": [
       "3×3 Matrix{Int64}:\n",
       " 44  42  53\n",
       " 42  42  53\n",
       " 53  53  67"
      ]
     },
     "metadata": {},
     "output_type": "display_data"
    }
   ],
   "source": [
    "# Calculate The Covariance matrix C (Y*Y') (3x3)\n",
    "println(\"\\rCovariance matrix C =\\r\")\n",
    "C = Y * Y'"
   ]
  },
  {
   "cell_type": "code",
   "execution_count": 3,
   "metadata": {},
   "outputs": [
    {
     "name": "stdout",
     "output_type": "stream",
     "text": [
      "\rEigenvalues vector λ =\r\n"
     ]
    },
    {
     "data": {
      "text/plain": [
       "3-element Vector{Float64}:\n",
       "   0.04523218365917327\n",
       "   1.4593278977198334\n",
       " 151.49543991862072"
      ]
     },
     "metadata": {},
     "output_type": "display_data"
    }
   ],
   "source": [
    "# Calculate the eigenvalues λ =[λ1,λ2,λ3] of C\n",
    "println(\"\\rEigenvalues vector λ =\\r\")\n",
    "F = eigen(C)\n",
    "λ = F.values"
   ]
  },
  {
   "cell_type": "code",
   "execution_count": 4,
   "metadata": {},
   "outputs": [
    {
     "name": "stdout",
     "output_type": "stream",
     "text": [
      "\rEigenvectors matrix Φ = \r\n"
     ]
    },
    {
     "data": {
      "text/plain": [
       "3×3 Matrix{Float64}:\n",
       "  0.0183021  -0.846242  -0.532484\n",
       " -0.790948    0.313528  -0.525454\n",
       "  0.61161     0.430784  -0.663595"
      ]
     },
     "metadata": {},
     "output_type": "display_data"
    }
   ],
   "source": [
    "# Calculate the eigenvectors ϕ=[ϕ1 ϕ2 ϕ3] of C\n",
    "println(\"\\rEigenvectors matrix Φ = \\r\")\n",
    "Φ = F.vectors\n"
   ]
  },
  {
   "cell_type": "markdown",
   "metadata": {},
   "source": [
    " The $\\phi$ matrix is unitary ( $\\phi\\phi^{*} = \\phi^{*}\\phi = I$ )"
   ]
  },
  {
   "cell_type": "code",
   "execution_count": 5,
   "metadata": {},
   "outputs": [
    {
     "name": "stdout",
     "output_type": "stream",
     "text": [
      "\rAmplitude matrix A=\r\n"
     ]
    },
    {
     "data": {
      "text/plain": [
       "3×4 Matrix{Float64}:\n",
       " -0.161035  -0.0142295  -0.0508336   0.128504\n",
       " -0.101931  -0.82318     0.869304    0.124992\n",
       " -1.72153   -8.08221    -7.01724    -5.8282"
      ]
     },
     "metadata": {},
     "output_type": "display_data"
    }
   ],
   "source": [
    "#Calculate the amplitudes matrix A = ϕ'*Y (3x4)\n",
    "println(\"\\rAmplitude matrix A=\\r\")\n",
    "A = Φ' * Y"
   ]
  },
  {
   "cell_type": "markdown",
   "metadata": {},
   "source": [
    "* Reconstruction without any reduction"
   ]
  },
  {
   "cell_type": "code",
   "execution_count": 6,
   "metadata": {},
   "outputs": [
    {
     "name": "stdout",
     "output_type": "stream",
     "text": [
      "\rFull Reconstruction  Yrecons = Φ * A\r\n"
     ]
    },
    {
     "data": {
      "text/plain": [
       "3×4 Matrix{Float64}:\n",
       " 1.0  5.0  3.0  3.0\n",
       " 1.0  4.0  4.0  3.0\n",
       " 1.0  5.0  5.0  4.0"
      ]
     },
     "metadata": {},
     "output_type": "display_data"
    }
   ],
   "source": [
    "println(\"\\rFull Reconstruction  Yrecons = Φ * A\\r\")\n",
    "Y = Φ * A"
   ]
  },
  {
   "cell_type": "code",
   "execution_count": 7,
   "metadata": {},
   "outputs": [
    {
     "data": {
      "text/plain": [
       "3-element Vector{Float64}:\n",
       " 0.9999999999999998\n",
       " 0.9999999999999994\n",
       " 1.0000000000000002"
      ]
     },
     "metadata": {},
     "output_type": "display_data"
    }
   ],
   "source": [
    "# Y1 = Φ * A1\n",
    "Y1 = Φ * A[:, 1]"
   ]
  },
  {
   "cell_type": "code",
   "execution_count": 8,
   "metadata": {},
   "outputs": [
    {
     "data": {
      "text/plain": [
       "3-element Vector{Float64}:\n",
       " 5.0\n",
       " 3.9999999999999982\n",
       " 5.000000000000002"
      ]
     },
     "metadata": {},
     "output_type": "display_data"
    }
   ],
   "source": [
    "# Y2 = Φ * A2\n",
    "Y2 = Φ * A[:, 2]"
   ]
  },
  {
   "cell_type": "code",
   "execution_count": 9,
   "metadata": {},
   "outputs": [
    {
     "data": {
      "text/plain": [
       "3-element Vector{Float64}:\n",
       " 3.0\n",
       " 3.9999999999999982\n",
       " 5.000000000000001"
      ]
     },
     "metadata": {},
     "output_type": "display_data"
    }
   ],
   "source": [
    "# Y3 = Φ * A2\n",
    "Y3 = Φ * A[:, 3]"
   ]
  },
  {
   "cell_type": "code",
   "execution_count": 10,
   "metadata": {},
   "outputs": [
    {
     "data": {
      "text/plain": [
       "3-element Vector{Float64}:\n",
       " 2.9999999999999996\n",
       " 2.9999999999999987\n",
       " 4.000000000000001"
      ]
     },
     "metadata": {},
     "output_type": "display_data"
    }
   ],
   "source": [
    "# Y4 = Φ * A4\n",
    "Y4 = Φ * A[:, 4]"
   ]
  },
  {
   "cell_type": "markdown",
   "metadata": {},
   "source": [
    "* Reconstruction based on the first most energetic mode reduction"
   ]
  },
  {
   "cell_type": "code",
   "execution_count": 11,
   "metadata": {},
   "outputs": [
    {
     "name": "stdout",
     "output_type": "stream",
     "text": [
      "\rỸ3 =\r"
     ]
    },
    {
     "name": "stdout",
     "output_type": "stream",
     "text": [
      "\n"
     ]
    },
    {
     "data": {
      "text/plain": [
       "3×4 Matrix{Float64}:\n",
       " 0.916689  4.30365  3.73657  3.10342\n",
       " 0.904587  4.24683  3.68724  3.06245\n",
       " 1.1424    5.36332  4.65661  3.86756"
      ]
     },
     "metadata": {},
     "output_type": "display_data"
    }
   ],
   "source": [
    "#Keep the last direction and amplitude      Y ≈ Ỹ3 = ϕ3 * A3\n",
    "println(\"\\rỸ3 =\\r\")\n",
    "Ỹ3 = Φ[:, 3] * A[3, :]'"
   ]
  },
  {
   "cell_type": "markdown",
   "metadata": {},
   "source": [
    "* Reconstruction based on a two most energetic modes reduction"
   ]
  },
  {
   "cell_type": "code",
   "execution_count": 19,
   "metadata": {},
   "outputs": [
    {
     "name": "stdout",
     "output_type": "stream",
     "text": [
      "\rỸ23 =\r\n"
     ]
    },
    {
     "data": {
      "text/plain": [
       "3×4 Matrix{Float64}:\n",
       " 1.00295   5.00026  3.00093  2.99765\n",
       " 0.872629  3.98875  3.95979  3.10164\n",
       " 1.09849   5.0087   5.03109  3.92141"
      ]
     },
     "metadata": {},
     "output_type": "display_data"
    }
   ],
   "source": [
    "#Keep the two last directions and amplitudes Y ≈ Ỹ23=ϕ2:3*A2:3\n",
    "println(\"\\rỸ23 =\\r\")\n",
    "Ỹ23 = Φ[:, 2:3] * A[2:3, :]"
   ]
  },
  {
   "cell_type": "markdown",
   "metadata": {},
   "source": [
    "# 2. Singular Value Decomposition of the snapshot-data matrix"
   ]
  },
  {
   "cell_type": "markdown",
   "metadata": {},
   "source": [
    "* Calculate the SVD of Y"
   ]
  },
  {
   "cell_type": "code",
   "execution_count": 20,
   "metadata": {},
   "outputs": [
    {
     "name": "stdout",
     "output_type": "stream",
     "text": [
      "\rSVD decomposition =\r\n"
     ]
    },
    {
     "data": {
      "text/plain": [
       "SVD{Float64, Float64, Matrix{Float64}, Vector{Float64}}\n",
       "U factor:\n",
       "3×3 Matrix{Float64}:\n",
       " -0.532484  -0.846242   0.0183021\n",
       " -0.525454   0.313528  -0.790948\n",
       " -0.663595   0.430784   0.61161\n",
       "singular values:\n",
       "3-element Vector{Float64}:\n",
       " 12.308348383053714\n",
       "  1.2080264474422024\n",
       "  0.21267859238577774\n",
       "Vt factor:\n",
       "3×4 Matrix{Float64}:\n",
       " -0.139867   -0.656645   -0.570121  -0.473516\n",
       " -0.0843778  -0.681426    0.719607   0.103468\n",
       " -0.757177   -0.0669061  -0.239016   0.604216"
      ]
     },
     "metadata": {},
     "output_type": "display_data"
    }
   ],
   "source": [
    "println(\"\\rSVD decomposition =\\r\")\n",
    "Z = svd(Y)"
   ]
  },
  {
   "cell_type": "markdown",
   "metadata": {},
   "source": [
    "* Reconstruction without any reduction"
   ]
  },
  {
   "cell_type": "code",
   "execution_count": 14,
   "metadata": {},
   "outputs": [
    {
     "name": "stdout",
     "output_type": "stream",
     "text": [
      "\rFull Reconstruction  Yrecons = UΣV* \r"
     ]
    },
    {
     "name": "stdout",
     "output_type": "stream",
     "text": [
      "\n"
     ]
    },
    {
     "data": {
      "text/plain": [
       "3×4 Matrix{Float64}:\n",
       " 1.0  5.0  3.0  3.0\n",
       " 1.0  4.0  4.0  3.0\n",
       " 1.0  5.0  5.0  4.0"
      ]
     },
     "metadata": {},
     "output_type": "display_data"
    }
   ],
   "source": [
    "println(\"\\rFull Reconstruction  Yrecons = UΣV* \\r\")\n",
    "Yrecons = Z.U * diagm(Z.S) * Z.Vt\n",
    "round.(Yrecons; digits=2)"
   ]
  },
  {
   "cell_type": "markdown",
   "metadata": {},
   "source": [
    "* Reconstruction based on a single most energetic mode reduction"
   ]
  },
  {
   "cell_type": "code",
   "execution_count": 21,
   "metadata": {},
   "outputs": [
    {
     "name": "stdout",
     "output_type": "stream",
     "text": [
      "\rỸ1=\r\n"
     ]
    },
    {
     "data": {
      "text/plain": [
       "3×4 Matrix{Float64}:\n",
       " 0.916689  4.30365  3.73657  3.10342\n",
       " 0.904587  4.24683  3.68724  3.06245\n",
       " 1.1424    5.36332  4.65661  3.86756"
      ]
     },
     "metadata": {},
     "output_type": "display_data"
    }
   ],
   "source": [
    "println(\"\\rỸ1=\\r\")\n",
    "Ỹ1 = (Z.U[:, 1] * Z.S[1]) * Z.Vt[1, :]'"
   ]
  },
  {
   "cell_type": "markdown",
   "metadata": {},
   "source": [
    "* Reconstruction based on a two most energetic modes reduction"
   ]
  },
  {
   "cell_type": "code",
   "execution_count": 22,
   "metadata": {},
   "outputs": [
    {
     "name": "stdout",
     "output_type": "stream",
     "text": [
      "\rỸ12=\r\n"
     ]
    },
    {
     "data": {
      "text/plain": [
       "3×4 Matrix{Float64}:\n",
       " 1.00295   5.00026  3.00093  2.99765\n",
       " 0.872629  3.98875  3.95979  3.10164\n",
       " 1.09849   5.0087   5.03109  3.92141"
      ]
     },
     "metadata": {},
     "output_type": "display_data"
    }
   ],
   "source": [
    "println(\"\\rỸ12=\\r\")\n",
    "Ỹ12 = (Z.U[:, 1] * Z.S[1]) * Z.Vt[1, :]' + (Z.U[:, 2] * Z.S[2]) * Z.Vt[2, :]'"
   ]
  },
  {
   "cell_type": "markdown",
   "metadata": {},
   "source": [
    "* Reconstruction based on a three most energetic modes reduction ( which means here = no reduction!;)"
   ]
  },
  {
   "cell_type": "code",
   "execution_count": 17,
   "metadata": {},
   "outputs": [
    {
     "name": "stdout",
     "output_type": "stream",
     "text": [
      "\rỸ123=\r\n"
     ]
    },
    {
     "data": {
      "text/plain": [
       "3×4 Matrix{Float64}:\n",
       " 1.0  5.0  3.0  3.0\n",
       " 1.0  4.0  4.0  3.0\n",
       " 1.0  5.0  5.0  4.0"
      ]
     },
     "metadata": {},
     "output_type": "display_data"
    }
   ],
   "source": [
    "println(\"\\rỸ123=\\r\")\n",
    "Ỹ123 = (Z.U[:, 1] * Z.S[1]) * Z.Vt[1, :]' + (Z.U[:, 2] * Z.S[2]) * Z.Vt[2, :]' + (Z.U[:, 3] * Z.S[3]) * Z.Vt[3, :]'"
   ]
  }
 ],
 "metadata": {
  "kernelspec": {
   "display_name": "Julia 1.8.2",
   "language": "julia",
   "name": "julia-1.8"
  },
  "language_info": {
   "file_extension": ".jl",
   "mimetype": "application/julia",
   "name": "julia",
   "version": "1.8.2"
  }
 },
 "nbformat": 4,
 "nbformat_minor": 4
}
