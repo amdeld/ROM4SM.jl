{
 "cells": [
  {
   "cell_type": "markdown",
   "metadata": {},
   "source": [
    "## Example of the Dynamic Mode Decomposition (DMD) of a 1D single wave \n",
    "Test Function : \n",
    "$$\n",
    "f(x,t)=f_{1}(x,t)+f_{2}(x,t)=sech(x+3)\\exp(i2.3t)+2sech(x)\\tanh(x)\\exp(i2.8t)\n",
    "$$"
   ]
  },
  {
   "cell_type": "code",
   "execution_count": 11,
   "metadata": {},
   "outputs": [
    {
     "name": "stderr",
     "output_type": "stream",
     "text": [
      "┌ Info: Precompiling Plots [91a5bcdd-55d7-5caf-9e0b-520d859cae80]\n",
      "└ @ Base loading.jl:1278\n"
     ]
    }
   ],
   "source": [
    "using LinearAlgebra, Plots;gr();default(size=(300,200))"
   ]
  },
  {
   "cell_type": "code",
   "execution_count": null,
   "metadata": {},
   "outputs": [],
   "source": [
    "# Define the dataset Y\n",
    "Nx = 400\n",
    "x = range(-10,10,length=Nx) #  spatial coordinate (dx = 0.01)\n",
    "\n",
    "Nt = 201\n",
    "t = range(0,4π,length=Nt) # time coordinate (dt = 0.01)\n",
    "dt=.01;"
   ]
  },
  {
   "cell_type": "code",
   "execution_count": null,
   "metadata": {},
   "outputs": [],
   "source": [
    "#  Building the two dimensional continous function f(x,t)\n",
    "f_1(x,t)=sech(x+3)*exp(im*2.3*t)\n",
    "f_2(x,t)=2*sech(x)*tanh(x)exp(im*2.8*t)\n",
    "f(x,t)=f_1(x,t)+f_2(x,t)"
   ]
  },
  {
   "cell_type": "code",
   "execution_count": null,
   "metadata": {},
   "outputs": [],
   "source": [
    "anim=Animation()\n",
    "anim = @animate for tt in t\n",
    "    plot( x, real(f_1.(x,tt)),title=\"f_1 for two seconds\",xlim=(-10,10),ylim=(-1.,1.),leg=false,xlabel=\"x\",ylabel=\"f_1(x,t)\")\n",
    "end\n",
    "gif(anim, \"img/DMD2_f_1_fps15.gif\", fps = 15)"
   ]
  },
  {
   "cell_type": "code",
   "execution_count": null,
   "metadata": {},
   "outputs": [],
   "source": [
    "anim=Animation()\n",
    "anim = @animate for tt in t\n",
    "    plot( x, real(f_2.(x,tt)),xlim=(-10,10),ylim=(-1,1),title=\"f_2 for two seconds\",leg=false,xlabel=\"x\",ylabel=\"f_2(x,t)\")\n",
    "end\n",
    "gif(anim, \"img/DMD2_f_2_fps15.gif\", fps = 15)"
   ]
  },
  {
   "cell_type": "code",
   "execution_count": null,
   "metadata": {},
   "outputs": [],
   "source": [
    "anim=Animation()\n",
    "anim = @animate for tt in t\n",
    "    plot( x, real(f.(x,tt)),xlim=(-10,10),ylim=(-2,2),title=\"f for two seconds\",leg=false,xlabel=\"x\",ylabel=\"f(x,t)\")\n",
    "end\n",
    "gif(anim, \"img/DMD2_f_fps15.gif\", fps = 15)"
   ]
  },
  {
   "cell_type": "code",
   "execution_count": null,
   "metadata": {},
   "outputs": [],
   "source": [
    "# 2D Contour Plot of the data matrix Y\n",
    "contour(x,t,f,levels=20)\n",
    "xlabel!(\"x\")\n",
    "ylabel!(\"t\")\n",
    "title!(\"Contour Plot\")"
   ]
  },
  {
   "cell_type": "code",
   "execution_count": null,
   "metadata": {},
   "outputs": [],
   "source": [
    "# 3D Surface Plot of the dataset\n",
    "#my_cg = cgrad([:blue, :yellow])\n",
    "surface(x,t,f, xaxis=\"x\", yaxis=\"t\",zaxis=\"Y\", title=\"Surface Plot\")"
   ]
  },
  {
   "cell_type": "code",
   "execution_count": null,
   "metadata": {},
   "outputs": [],
   "source": [
    "#  Building the discrete spatio-temporal series Y \n",
    "#Build of the spatio-temporal x vs t data matrix Y\n",
    "Y = Complex.(zeros(Nx,Nt))\n",
    "j=1\n",
    "for tt in t\n",
    "    Y[:,j] = real(f.(x,tt))  \n",
    "    j+=1                                           \n",
    "end\n",
    "println(\"\\rThe Data Matrix Y = \\r\")\n",
    "Y"
   ]
  },
  {
   "cell_type": "code",
   "execution_count": null,
   "metadata": {},
   "outputs": [],
   "source": [
    "# another way to create the data matrix Y (like the matlab meshgrid function )\n",
    "X = repeat(reshape(x, :, 1), 1,length(t))"
   ]
  },
  {
   "cell_type": "code",
   "execution_count": null,
   "metadata": {},
   "outputs": [],
   "source": [
    "T = repeat(reshape(t,1,:),  length(x),1)"
   ]
  },
  {
   "cell_type": "code",
   "execution_count": null,
   "metadata": {},
   "outputs": [],
   "source": [
    "YY = map(f, X, T)"
   ]
  },
  {
   "cell_type": "code",
   "execution_count": null,
   "metadata": {},
   "outputs": [],
   "source": [
    "# 2D Contour Plot of the data matrix Y\n",
    "contour(X[:,1],T[1,:],real(YY)',levels=20)\n",
    "xlabel!(\"x\")\n",
    "ylabel!(\"t\")\n",
    "title!(\"Contour Plot\")"
   ]
  },
  {
   "cell_type": "code",
   "execution_count": null,
   "metadata": {},
   "outputs": [],
   "source": [
    "surface(X[:,1],T[1,:],real(YY)', xaxis=\"x\", yaxis=\"t\",zaxis=\"YY\", title=\"Surface Plot\")"
   ]
  },
  {
   "cell_type": "code",
   "execution_count": null,
   "metadata": {},
   "outputs": [],
   "source": [
    "#= Interactive Plot \n",
    "using PlotlyJS\n",
    "trace=PlotlyJS.surface(x=x,y=t,z=real(Y), xlabel=\"x\",colorscale=\"Viridis\")\n",
    "layout=PlotlyJS.Layout(title=\"Interactive Plot\")\n",
    "PlotlyJS.plot(trace,layout) =#"
   ]
  },
  {
   "cell_type": "code",
   "execution_count": null,
   "metadata": {},
   "outputs": [],
   "source": [
    "# Data decomposition with the singular value decomposition \n",
    "# U matrix (spatial Correlations); Σ matrix (weighting of projections), Vt (time dynamics)\n",
    "Y1 = Y[:,1:end - 1]"
   ]
  },
  {
   "cell_type": "code",
   "execution_count": null,
   "metadata": {},
   "outputs": [],
   "source": [
    "Y2 = Y[:,2:end]"
   ]
  },
  {
   "cell_type": "code",
   "execution_count": null,
   "metadata": {},
   "outputs": [],
   "source": [
    "U, Σ, V=svd(Y1)"
   ]
  },
  {
   "cell_type": "code",
   "execution_count": null,
   "metadata": {},
   "outputs": [],
   "source": [
    "#= plot of the singular values (see the  two most dominants features due to the two ranks dataset \n",
    "(the two bumps with their temporal dynamics) The very good decay shows the existence of a low rank subspace =#\n",
    "plot(Σ, yaxis=:log, xlim=(0,10),shape =:circle)"
   ]
  },
  {
   "cell_type": "code",
   "execution_count": null,
   "metadata": {},
   "outputs": [],
   "source": [
    "# Plot of the POD modes (Uj ; j={1,2}). Due to the very differents spatial scales, the POD modes extracted have a physical meanng \n",
    "plot(x,U[:,1])\n",
    "plot!(x,U[:,2])\n",
    "xlabel!(\"x\")\n",
    "ylabel!(\"u1(x), u2(x)\")\n",
    "title!(\"POD modes\") # Spatial modes "
   ]
  },
  {
   "cell_type": "code",
   "execution_count": null,
   "metadata": {},
   "outputs": [],
   "source": [
    "#plot of the Mode coefficents (σjVtj ; j={1,2]})\n",
    "plot(0:0.01:1.99,Σ[1]*V[:,1],xlim=(0, 1))\n",
    "plot!(0:0.01:1.99,Σ[2]*V[:,2],xlim=(0, 1))\n",
    "xlabel!(\"t\");ylabel!(\"a1(t), a2(t)\");title!(\"Mode coefficients\") # Temporal modes"
   ]
  },
  {
   "cell_type": "code",
   "execution_count": null,
   "metadata": {},
   "outputs": [],
   "source": [
    "# SVD and rank-2 truncation\n",
    "r = 2\n",
    "Uᵣ = U[:,1:r]\n",
    "Σᵣ = Diagonal(Σ[1:r])\n",
    "Vᵣ = V[:,1:r];"
   ]
  },
  {
   "cell_type": "code",
   "execution_count": null,
   "metadata": {},
   "outputs": [],
   "source": [
    "# Build Ã and DMD Modes\n",
    "Ã = Uᵣ' * Y2 * Vᵣ / Σᵣ\n",
    "Λ, W = eigen(Ã, sortby=nothing)\n",
    "Φ = Y2 * Vᵣ / Σᵣ * W"
   ]
  },
  {
   "cell_type": "code",
   "execution_count": null,
   "metadata": {},
   "outputs": [],
   "source": [
    "# DMD Spectra\n",
    "omega = log.(Λ)/dt"
   ]
  },
  {
   "cell_type": "code",
   "execution_count": null,
   "metadata": {},
   "outputs": [],
   "source": [
    "# DMD mode amplitude\n",
    "y₁=Y1[:,1]\n",
    "b=Φ\\y₁"
   ]
  },
  {
   "cell_type": "code",
   "execution_count": null,
   "metadata": {},
   "outputs": [],
   "source": [
    "for i in 1:length(t)\n",
    "    print(t[i])\n",
    "end "
   ]
  },
  {
   "cell_type": "code",
   "execution_count": null,
   "metadata": {},
   "outputs": [],
   "source": [
    "times_dynamics=zeros(r,length(t))"
   ]
  },
  {
   "cell_type": "code",
   "execution_count": null,
   "metadata": {},
   "outputs": [],
   "source": [
    "for i in 1:length(t)\n",
    "    time_dynamics[:,i] = b.*t[i]\n",
    "end    "
   ]
  },
  {
   "cell_type": "code",
   "execution_count": null,
   "metadata": {},
   "outputs": [],
   "source": [
    "x₂=Φ*Diagonal(Λ)*b"
   ]
  },
  {
   "cell_type": "markdown",
   "metadata": {},
   "source": [
    "## Reduction and Reconstruction with feature extraction (two building blocks with their own dynamics are shown to exist)"
   ]
  },
  {
   "cell_type": "code",
   "execution_count": null,
   "metadata": {},
   "outputs": [],
   "source": [
    "Φ[:,1]*Λ[1]*V[:,1]'"
   ]
  },
  {
   "cell_type": "code",
   "execution_count": null,
   "metadata": {},
   "outputs": [],
   "source": [
    "#Animation of the POD1 mode over the first second\n",
    "Y_DMD1=real(Φ[:,1]*Λ[1]*V[:,1]')\n",
    "anim=Animation()\n",
    "j=1\n",
    "anim = @animate for tt in range(0.01,1,length=100)\n",
    "    plot( x, Y_DMD1[:,j],leg=false,xlim=(-2,2),ylim=(-0.02,0.02),title=\"DMD1 mode\",xlabel=\"x\",ylabel=\"Y_DMD1\")\n",
    "    j+=1\n",
    "end\n",
    "gif(anim, \"img/DMD_Y_DMD1_fps15.gif\", fps = 15)"
   ]
  },
  {
   "cell_type": "code",
   "execution_count": null,
   "metadata": {},
   "outputs": [],
   "source": [
    "#Animation of the POD2 mode over the first second\n",
    "Y_DMD2=real(Φ[:,2]*Λ[2]*V[:,2]')\n",
    "anim=Animation()\n",
    "j=1\n",
    "anim = @animate for tt in range(0.01,1,length=100)\n",
    "    plot( x, Y_DMD2[:,j],leg=false,xlim=(-2,2),ylim=(-0.02,0.02),title=\"DMD2 mode\",xlabel=\"x\",ylabel=\"Y_DMD2\")\n",
    "    j+=1\n",
    "end\n",
    "gif(anim, \"img/DMD_Y_DMD2_fps15.gif\", fps = 15)"
   ]
  },
  {
   "cell_type": "code",
   "execution_count": null,
   "metadata": {},
   "outputs": [],
   "source": [
    "#Animation of Yrecons = Y_POD1+YPOD2 over the firt second\n",
    "Yrecons=Y_DMD1+Y_DMD2\n",
    "anim=Animation()\n",
    "j=1\n",
    "anim = @animate for tt in range(0.01,1,length=100)\n",
    "    plot( x, Yrecons[:,j],xlim=(-2,2),leg=false,ylim=(-0.02,0.02),title=\"Reconstruction of Y based \\n on the first two modes\",xlabel=\"x\",ylabel=\"Yrecons\")\n",
    "    j+=1\n",
    "end\n",
    "gif(anim, \"img/DMD_Yrecons_fps15.gif\", fps = 15)"
   ]
  },
  {
   "cell_type": "code",
   "execution_count": null,
   "metadata": {},
   "outputs": [],
   "source": [
    "plot(x,t,Yrecons',st=:surface,xaxis=\"x\", yaxis=\"t\",zaxis=\"Yrecons\")\n",
    "title!(\"Reconstruction first two modes\")"
   ]
  },
  {
   "cell_type": "markdown",
   "metadata": {},
   "source": [
    "## Same test function but with different parameters in order to mix alltogether the different scales"
   ]
  },
  {
   "cell_type": "code",
   "execution_count": null,
   "metadata": {},
   "outputs": [],
   "source": [
    "A1 = 1.25\n",
    "x1 = 0.25\n",
    "σ1 = 0.4\n",
    "f1 = 2.\n",
    "\n",
    "A2 = 1.5\n",
    "x2 = -0.25\n",
    "σ2 = 0.2\n",
    "f2 = 3.\n",
    "\n",
    "#gaussian processes\n",
    "yn1(x) = A1*exp(-((x-x1).^2)/(2*σ1^2))\n",
    "yn2(x) = A2*exp(-((x-x2).^2)/(2*σ2^2));"
   ]
  },
  {
   "cell_type": "code",
   "execution_count": null,
   "metadata": {},
   "outputs": [],
   "source": [
    "plot(x,yn1)\n",
    "plot!(x,yn2,xlabel=\"x\",ylabel=\"yn1,yn2\")"
   ]
  },
  {
   "cell_type": "code",
   "execution_count": null,
   "metadata": {},
   "outputs": [],
   "source": [
    "plot(t,sin.(2*π*f1*t))\n",
    "plot!(t,sin.(2*π*f2*t),xlabel=\"t\",ylabel=\"sin\",xlim=(0,1),ylim=(-1,1))"
   ]
  },
  {
   "cell_type": "code",
   "execution_count": null,
   "metadata": {},
   "outputs": [],
   "source": [
    "#  Building the two dimensional continous function f(x,t)\n",
    "fn_1(x,t)=A1*exp(-((x-x1)^2)/(2*σ1^2))*sin(2*π*f1*t)\n",
    "fn_2(x,t)=A2*exp(-((x-x2)^2)/(2*σ2^2))*sin(2*π*f2*t)\n",
    "fn(x,t)=f_1(x,t)+f_2(x,t)"
   ]
  },
  {
   "cell_type": "code",
   "execution_count": null,
   "metadata": {},
   "outputs": [],
   "source": [
    "anim=Animation()\n",
    "anim = @animate for tt in range(0,1,length=100)\n",
    "    plot( x, fn_1.(x,tt),xlim=(-2,2),title=\"fn_1 for one second\",leg=false,ylim=(-2.,2.),xlabel=\"x\",ylabel=\"f_1(x,t)\")\n",
    "end\n",
    "gif(anim, \"img/anim_fn_1_fps15.gif\", fps = 15)"
   ]
  },
  {
   "cell_type": "code",
   "execution_count": null,
   "metadata": {},
   "outputs": [],
   "source": [
    "anim=Animation()\n",
    "anim = @animate for tt in range(0,1,length=100)\n",
    "    plot( x, fn_2.(x,tt),xlim=(-2,2),title=\"fn_2 for one second\",leg=false,ylim=(-2.,2.),xlabel=\"x\",ylabel=\"f_2(x,t)\")\n",
    "end\n",
    "gif(anim, \"img/anim_fn_2_fps15.gif\", fps = 15)"
   ]
  },
  {
   "cell_type": "code",
   "execution_count": null,
   "metadata": {},
   "outputs": [],
   "source": [
    "anim=Animation()\n",
    "anim = @animate for tt in range(0,1,length=100)\n",
    "    plot( x, f.(x,tt),xlim=(-2,2),title=\"fn for one second\",leg=false,ylim=(-2.,2.),xlabel=\"x\",ylabel=\"f(x,t)\")\n",
    "end\n",
    "gif(anim, \"img/anim_fn_fps15.gif\", fps = 15)"
   ]
  },
  {
   "cell_type": "code",
   "execution_count": null,
   "metadata": {},
   "outputs": [],
   "source": [
    "YN = zeros(Nx,Nt)\n",
    "j=1\n",
    "for tt in t\n",
    "    YN[:,j] = yn1.(x)*sin(2*π*f1*tt) + yn2.(x)*sin(2*π*f2*tt) # gaussian processes \n",
    "    j+=1                                           # with their temporal dynamics\n",
    "end"
   ]
  },
  {
   "cell_type": "code",
   "execution_count": null,
   "metadata": {},
   "outputs": [],
   "source": [
    "# Data decomposition with the singular value decomposition \n",
    "# U matrix (spatial Correlations); σ matrix (weighting of projections), Vt (time dynamics) \n",
    "Z=svd(YN)\n",
    "#= plot of the singular values (see the  two most dominants features due to the two ranks dataset \n",
    "(the two bumps with their temporal dynamics). Again The very good decay shows the existence of a low rank subspace=#\n",
    "plot(Z.S, yaxis=:log, xlim=(0,10),shape =:circle)"
   ]
  },
  {
   "cell_type": "code",
   "execution_count": null,
   "metadata": {},
   "outputs": [],
   "source": [
    "#= Plot of the POD modes (Uj ; j={1,2})The POD modes are not so physical, \n",
    "a kind of blending of the bumps occurs due to the greedy nature of the SVD algorithm =#\n",
    "plot(x,Z.U[:,1])\n",
    "plot!(x,Z.U[:,2])\n",
    "xlabel!(\"x\")\n",
    "ylabel!(\"u1(x), u2(x)\")\n",
    "title!(\"POD modes\")"
   ]
  },
  {
   "cell_type": "code",
   "execution_count": null,
   "metadata": {},
   "outputs": [],
   "source": [
    "#plot of the Mode coefficents (σjVtj ; j={1,2]})\n",
    "plot(t,Z.S[1]*Z.Vt[1,:],xlim=(0, 1))\n",
    "plot!(t,Z.S[2]*Z.Vt[2,:],xlim=(0, 1))\n",
    "xlabel!(\"Time\");ylabel!(\"a1(t), a2(t)\");title!(\"Mode coefficients\")"
   ]
  },
  {
   "cell_type": "markdown",
   "metadata": {},
   "source": [
    "## Features Extraction (less good results no?)"
   ]
  },
  {
   "cell_type": "code",
   "execution_count": null,
   "metadata": {},
   "outputs": [],
   "source": [
    "#Animation of the POD1 mode over the first second\n",
    "YN_POD1=Z.U[:,1]*Z.S[1]*Z.Vt[1,:]'\n",
    "anim=Animation()\n",
    "j=1\n",
    "anim = @animate for tt in range(0.01,1,length=100)\n",
    "    plot( x, YN_POD1[:,j],leg=false,xlim=(-2,2),ylim=(-2.,2.),title=\"POD1 mode\",xlabel=\"x\",ylabel=\"Y_POD1\")\n",
    "    j+=1\n",
    "end\n",
    "gif(anim, \"img/anim_YN_POD1_fps15.gif\", fps = 15)"
   ]
  },
  {
   "cell_type": "code",
   "execution_count": null,
   "metadata": {},
   "outputs": [],
   "source": [
    "#Animation of the POD2 mode over the first second\n",
    "YN_POD2=Z.U[:,2]*Z.S[2]*Z.Vt[2,:]'\n",
    "anim=Animation()\n",
    "j=1\n",
    "anim = @animate for tt in range(0.01,1,length=100)\n",
    "    plot( x, YN_POD2[:,j],leg=false,xlim=(-2,2),ylim=(-2.,2.),title=\"POD2 mode\",xlabel=\"x\",ylabel=\"Y_POD2\")\n",
    "    j+=1\n",
    "end\n",
    "gif(anim, \"img/anim_YN_POD2_fps15.gif\", fps = 15)"
   ]
  },
  {
   "cell_type": "code",
   "execution_count": null,
   "metadata": {},
   "outputs": [],
   "source": [
    "#Animation of Yrecons = Y_POD1+YPOD2 over the firt second\n",
    "YNrecons=YN_POD1+YN_POD2\n",
    "anim=Animation()\n",
    "j=1\n",
    "anim = @animate for tt in range(0.01,1,length=100)\n",
    "    plot( x, YNrecons[:,j],xlim=(-2,2),leg=false,ylim=(-2.,2.),title=\"Reconstruction of Y based \\n on the first two modes\",xlabel=\"Space x\",ylabel=\"Yrecons\")\n",
    "    j+=1\n",
    "end\n",
    "gif(anim, \"img/anim_YNrecons_fps15.gif\", fps = 15)"
   ]
  },
  {
   "cell_type": "markdown",
   "metadata": {},
   "source": [
    "## What about  the dynamic mode decomposition (DMD) or robust DMD (rDMD) data-driven methods or even POD-Galerkin method coupled with the discrete empirical interpolation method (DEIM) for non linear reduction  "
   ]
  },
  {
   "cell_type": "code",
   "execution_count": null,
   "metadata": {},
   "outputs": [],
   "source": []
  }
 ],
 "metadata": {
  "@webio": {
   "lastCommId": "714c2acf-c65f-4fa8-b2a0-57111e9483f3",
   "lastKernelId": "56226873-be80-4290-88cb-a52e9136083f"
  },
  "kernelspec": {
   "display_name": "Julia 1.5.3",
   "language": "julia",
   "name": "julia-1.5"
  },
  "language_info": {
   "file_extension": ".jl",
   "mimetype": "application/julia",
   "name": "julia",
   "version": "1.5.3"
  }
 },
 "nbformat": 4,
 "nbformat_minor": 4
}
