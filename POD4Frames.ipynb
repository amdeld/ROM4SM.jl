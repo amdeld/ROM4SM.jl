{
 "cells": [
  {
   "cell_type": "markdown",
   "metadata": {},
   "source": [
    "# Proper Orthogonal Decomposition (POD) for Structural Mechanics\n",
    "inspired from Buljak, V. (2012). Inverse Analyses with Model Reduction Proper Orthogonal Decomposition in Structural Mechanics. Springer Berlin Heidelberg (Vol. 33). https://doi.org/10.1007/978-3-642-22703-5\n",
    "\n",
    "## Use Case : Frame made up of plane elastic trusses (11 rods et 5 unconstrained nodes with 2 degrees of freedom (10 dof)). The displacement is fixed at node 6 and node 7. The load is applied on nodes 1&2 with respectivelely a force $F1 = -5000 N$ and a force $F2 = -2000 N$ (see figure below made thanks to MSC.Marc from https://mscsoftware.com)  "
   ]
  },
  {
   "cell_type": "markdown",
   "metadata": {},
   "source": [
    "## Frame\n",
    "\n",
    "<img src=\"https://raw.githubusercontent.com/amdeld/ROM4SM.jl/master/img/TrussStructure_LBC.png\" alt=\"Drawing\" style=\"width: 800px;\"/>\n"
   ]
  },
  {
   "cell_type": "code",
   "execution_count": 1,
   "metadata": {},
   "outputs": [],
   "source": [
    "using LinearAlgebra, CSV, DataFrames, DelimitedFiles,Plots # needed for the decomposition operations"
   ]
  },
  {
   "cell_type": "markdown",
   "metadata": {},
   "source": [
    "## Definition of the stiffness matrix function for a plane elastic truss element "
   ]
  },
  {
   "cell_type": "code",
   "execution_count": 2,
   "metadata": {},
   "outputs": [
    {
     "data": {
      "text/plain": [
       "TrussElementStiffness (generic function with 1 method)"
      ]
     },
     "execution_count": 2,
     "metadata": {},
     "output_type": "execute_result"
    }
   ],
   "source": [
    "function TrussElementStiffness(coo,E,A)\n",
    "# Function that computes stiffness matrix for truss element\n",
    "# (file name trstiff.m)\n",
    "L=sqrt((coo[2,1]-coo[1,1])^2+(coo[2,2]-coo[1,2])^2)\n",
    "C=(coo[2,1]-coo[1,1])/L\n",
    "S=(coo[2,2]-coo[1,2])/L\n",
    "# Stiffness matrix\n",
    "STF=E*A/L*[C^2 S*C -C^2 -S*C;\n",
    "S*C S^2 -S*C -S^2;\n",
    "-C^2 -S*C C^2 S*C;\n",
    "-S*C -S^2 S*C S^2];\n",
    "return(STF)\n",
    "end"
   ]
  },
  {
   "cell_type": "markdown",
   "metadata": {},
   "source": [
    "## Assemble&Solve Function"
   ]
  },
  {
   "cell_type": "code",
   "execution_count": 3,
   "metadata": {},
   "outputs": [
    {
     "data": {
      "text/plain": [
       "TrussAssembleSolve (generic function with 1 method)"
      ]
     },
     "execution_count": 3,
     "metadata": {},
     "output_type": "execute_result"
    }
   ],
   "source": [
    "# Main program for truss structure\n",
    "# Coordinates - units L[mm]\n",
    "function TrussAssembleSolve(E,A)\n",
    "COO=[0 0; 2 0; 4 0 ;1 1; 3 1; -1 1; 5 1]\n",
    "COO=1000*COO\n",
    "DOF=size(COO,1)*2\n",
    "# Elements\n",
    "ELM=[1 2; 2 3; 6 4; 4 5; 5 7; 1 6; 1 4; 2 4; 2 5; 3 5; 3 7]\n",
    "# Properties (units F[N], L[mm])\n",
    "#E=125000\n",
    "#A=6\n",
    "# Assembling of stiffness matrix\n",
    "MSTF=zeros(DOF,DOF)\n",
    "X=zeros(2,2)\n",
    "for i in 1:size(ELM,1)\n",
    "X[1,:]=COO[ELM[i,1],:]\n",
    "X[2,:]=COO[ELM[i,2],:]\n",
    "STF=TrussElementStiffness(X,E,A)\n",
    "MSTF[2*ELM[i,1]-1:2*ELM[i,1],2*ELM[i,1]-\n",
    "1:2*ELM[i,1]]=MSTF[2*ELM[i,1]-1:2*ELM[i,1],2*ELM[i,1]-\n",
    "1:2*ELM[i,1]]+STF[1:2,1:2]\n",
    "MSTF[2*ELM[i,1]-1:2*ELM[i,1],2*ELM[i,2]-\n",
    "1:2*ELM[i,2]]=MSTF[2*ELM[i,1]-1:2*ELM[i,1],2*ELM[i,2]-\n",
    "1:2*ELM[i,2]]+STF[3:4,1:2]\n",
    "MSTF[2*ELM[i,2]-1:2*ELM[i,2],2*ELM[i,1]-\n",
    "1:2*ELM[i,1]]=MSTF[2*ELM[i,2]-1:2*ELM[i,2],2*ELM[i,1]-\n",
    "1:2*ELM[i,1]]+STF[1:2,3:4]\n",
    "MSTF[2*ELM[i,2]-1:2*ELM[i,2],2*ELM[i,2]-\n",
    "1:2*ELM[i,2]]=MSTF[2*ELM[i,2]-1:2*ELM[i,2],2*ELM[i,2]-\n",
    "1:2*ELM[i,2]]+STF[3:4,3:4]\n",
    "end\n",
    "# Constrains\n",
    "con=[12 13 14 15] # constrained DOF\n",
    "CDOF=size(con,2)\n",
    "# Forces\n",
    "dF=zeros(DOF,1)\n",
    "dF[2]=-5000\n",
    "dF[6]=-2000\n",
    "# Reduced stiffness matrix & force vector\n",
    "RSTF=MSTF[1:DOF-CDOF,1:DOF-CDOF]\n",
    "dFR=dF[1:DOF-CDOF]\n",
    "# Solving for displacements\n",
    "d=inv(RSTF)*dFR\n",
    "# End of main program\n",
    "return(d)\n",
    "end"
   ]
  },
  {
   "cell_type": "markdown",
   "metadata": {},
   "source": [
    "## Definition of the design of experiments function (doe)"
   ]
  },
  {
   "cell_type": "code",
   "execution_count": 4,
   "metadata": {},
   "outputs": [
    {
     "data": {
      "text/plain": [
       "doe (generic function with 1 method)"
      ]
     },
     "execution_count": 4,
     "metadata": {},
     "output_type": "execute_result"
    }
   ],
   "source": [
    "function doe()\n",
    "    Y=zeros(10,16)\n",
    "    P=zeros(2,16)\n",
    "    cnt=0\n",
    "    for E in [125000 150000 175000 200000]\n",
    "        for A in [6 8 10 12]\n",
    "            Disp = TrussAssembleSolve(E, A)\n",
    "            #show(Disp)\n",
    "            cnt += 1\n",
    "            Y[:,cnt] = Disp\n",
    "            P[:,cnt] = [E;A]\n",
    "        end\n",
    "    end\n",
    "    #show(U)\n",
    "    return (Y,P)\n",
    "end"
   ]
  },
  {
   "cell_type": "markdown",
   "metadata": {},
   "source": [
    "## Definition of the calculation function for the matrix $B$ of coefficients of interpolation "
   ]
  },
  {
   "cell_type": "code",
   "execution_count": 5,
   "metadata": {},
   "outputs": [
    {
     "data": {
      "text/plain": [
       "BlinMtx (generic function with 1 method)"
      ]
     },
     "execution_count": 5,
     "metadata": {},
     "output_type": "execute_result"
    }
   ],
   "source": [
    "function BlinMtx(A, p)\n",
    "    # Interpolation by the use of RBFs [Linear splines type]\n",
    "    # Normalization of P [0 1]\n",
    "    M = size(p, 1)\n",
    "    N = size(p, 2)\n",
    "    minP = zeros(M)\n",
    "    maxP = zeros(M)\n",
    "    x = zeros(M, N)\n",
    "    G = zeros(N, N)\n",
    "    for j = 1:M\n",
    "        minP[j] = minimum(p[j,:])\n",
    "        maxP[j] = maximum(p[j,:])\n",
    "        for i = 1:N\n",
    "            x[j,i] = (p[j,i] - minP[j]) / (maxP[j] - minP[j])\n",
    "        end\n",
    "    end\n",
    "    for i = 1:N\n",
    "        for j = 1:N\n",
    "            G[i,j] = sum((x[:,i] - x[:,j]).^2).^0.5\n",
    "        end\n",
    "    end\n",
    "    return A * inv(G)\n",
    "end"
   ]
  },
  {
   "cell_type": "markdown",
   "metadata": {},
   "source": [
    "## Definition of the calculation function for the vector $G$ of interpolation functions"
   ]
  },
  {
   "cell_type": "code",
   "execution_count": 6,
   "metadata": {},
   "outputs": [
    {
     "data": {
      "text/plain": [
       "GlinVec (generic function with 1 method)"
      ]
     },
     "execution_count": 6,
     "metadata": {},
     "output_type": "execute_result"
    }
   ],
   "source": [
    "function GlinVec(p, pX)\n",
    "    # Function that constructs G vector as function of given parameters\n",
    "    M=size(p,1)\n",
    "    N = size(p, 2); # The number of generated snapshots\n",
    "    minP = zeros(M)\n",
    "    maxP = zeros(M)\n",
    "    x = zeros(M, N)\n",
    "    G = zeros(N)\n",
    "    # Normalization of p\n",
    "    for j = 1:M\n",
    "        minP[j,1] = minimum(p[j,:])\n",
    "        maxP[j,1] = maximum(p[j,:])\n",
    "        for i = 1:N\n",
    "            x[j,i] = (p[j,i] - minP[j]) / (maxP[j] - minP[j])\n",
    "        end\n",
    "    end\n",
    "    gi(x,y) = (sum((x-y).^2).^0.5)\n",
    "    value = pX\n",
    "    for k = 1:N\n",
    "        G[k] = gi(value,x[:,k])\n",
    "    end\n",
    "    return G\n",
    "end"
   ]
  },
  {
   "cell_type": "markdown",
   "metadata": {},
   "source": [
    "## DOE execution for the snapshot  $Y$ and the parameter $P$ matrices calculation \n",
    "<img src=\"https://raw.githubusercontent.com/amdeld/ROM4SM.jl/master/img/Snapshotmatrix4FEM.png\" alt=\"Drawing\" style=\"width: 700px;\"/>\n",
    "\n",
    "$Y=\\left[\\begin{array}{cccccccccc}\n",
    "| & | & | & | & | & | & | & | & | & |\\\\\n",
    "\\vdots & \\vdots & \\vdots & \\vdots & \\vdots & \\vdots & \\vdots & \\vdots & \\vdots & \\vdots\\\\\n",
    "| & | & | & | & | & | & | & | & | & |\\\\\n",
    "Y_{1} & Y_{2} & Y_{3} & Y_{4} & Y_{5} & Y_{6} & Y_{7} & Y_{8} & Y_{9} & Y_{10}\\\\\n",
    "| & | & | & | & | & | & | & | & | & |\\\\\n",
    "\\vdots & \\vdots & \\vdots & \\vdots & \\vdots & \\vdots & \\vdots & \\vdots & \\vdots & \\vdots\\\\\n",
    "| & | & | & | & | & | & | & | & | & |\n",
    "\\end{array}\\right]$\n",
    "\n",
    "Range of Young modulus $E = \\{125000; 150000; 175000; 200000\\} (unit\\ MPa)$\n",
    "Range of cross section $A = \\{6; 8; 10; 12\\} (unit\\ mm)$"
   ]
  },
  {
   "cell_type": "code",
   "execution_count": 7,
   "metadata": {},
   "outputs": [
    {
     "name": "stdout",
     "output_type": "stream",
     "text": [
      "The Data - Snapshot matrix coming out from the DOE Y =\n",
      "10×16 Array{Float64,2}:\n",
      " -11.56   -8.67   -6.93   -5.78   -9.63   -7.22   -5.78   -4.81   -8.25   -6.19   -4.95   -4.13   -7.22   -5.42   -4.33   -3.61\n",
      " -28.53  -21.39  -17.12  -14.26  -23.77  -17.83  -14.26  -11.89  -20.38  -15.28  -12.23  -10.19  -17.83  -13.37  -10.7    -8.91\n",
      "  -0.89   -0.67   -0.53   -0.44   -0.74   -0.56   -0.44   -0.37   -0.63   -0.48   -0.38   -0.32   -0.56   -0.42   -0.33   -0.28\n",
      " -31.87  -23.9   -19.12  -15.93  -26.55  -19.92  -15.93  -13.28  -22.76  -17.07  -13.66  -11.38  -19.92  -14.94  -11.95   -9.96\n",
      "   7.11    5.33    4.27    3.56    5.93    4.44    3.56    2.96    5.08    3.81    3.05    2.54    4.44    3.33    2.67    2.22\n",
      " -16.54  -12.4    -9.92   -8.27  -13.78  -10.34   -8.27   -6.89  -11.81   -8.86   -7.09   -5.91  -10.34   -7.75   -6.2    -5.17\n",
      "  -2.67   -2.0    -1.6    -1.33   -2.22   -1.67   -1.33   -1.11   -1.9    -1.43   -1.14   -0.95   -1.67   -1.25   -1.0    -0.83\n",
      " -35.53  -26.65  -21.32  -17.76  -29.61  -22.21  -17.76  -14.8   -25.38  -19.03  -15.23  -12.69  -22.21  -16.65  -13.32  -11.1\n",
      "  -2.67   -2.0    -1.6    -1.33   -2.22   -1.67   -1.33   -1.11   -1.9    -1.43   -1.14   -0.95   -1.67   -1.25   -1.0    -0.83\n",
      " -28.2   -21.15  -16.92  -14.1   -23.5   -17.63  -14.1   -11.75  -20.14  -15.11  -12.09  -10.07  -17.63  -13.22  -10.58   -8.81\n",
      "\n",
      "The Parameter matrix P coming out from the DOE P =\n",
      "2×16 Array{Float64,2}:\n",
      " 125000.0  125000.0  125000.0  125000.0  150000.0  150000.0  150000.0  150000.0  175000.0  175000.0  175000.0  175000.0  200000.0  200000.0  200000.0  200000.0\n",
      "      6.0       8.0      10.0      12.0       6.0       8.0      10.0      12.0       6.0       8.0      10.0      12.0       6.0       8.0      10.0      12.0"
     ]
    }
   ],
   "source": [
    "# Execute The design of experiments (DOE)\n",
    "Y,P=doe()\n",
    "# Wriing data into csv files\n",
    "CSV.write(\"data/X.csv\",DataFrame(P'))\n",
    "CSV.write(\"data/Y.csv\",DataFrame(Y))\n",
    "println(\"\\rThe Data - Snapshot matrix coming out from the DOE Y =\\r\")\n",
    "show(stdout,\"text/plain\", round.(Y;digits=2))\n",
    "println(\"\\n\\nThe Parameter matrix P coming out from the DOE P =\\r\")\n",
    "show(stdout,\"text/plain\", round.(P;digits=0))\n"
   ]
  },
  {
   "cell_type": "markdown",
   "metadata": {},
   "source": [
    "## Verification of the results for the first column ($E = 125000 MPa$ and $A = 6mm$) with the commercial finite element software MSC.Marc\n",
    "<img src=\"https://raw.githubusercontent.com/amdeld/ROM4SM.jl/master/img/TrussStructure_DisplacementX.png\" alt=\"Drawing\" style=\"width: 800px;\"/>\n",
    "<img src=\"https://raw.githubusercontent.com/amdeld/ROM4SM.jl/master/img/TrussStructure_DisplacementY.png\" alt=\"Drawing\" style=\"width: 800px;\"/>"
   ]
  },
  {
   "cell_type": "markdown",
   "metadata": {},
   "source": [
    "## POD 2 methodes are used here which give the same results (1. eigen decomposition and 2. singular value decompostion) followed by reconstruction and reduction steps"
   ]
  },
  {
   "cell_type": "markdown",
   "metadata": {},
   "source": [
    "1. Eigen decomposition"
   ]
  },
  {
   "cell_type": "code",
   "execution_count": 8,
   "metadata": {},
   "outputs": [
    {
     "name": "stdout",
     "output_type": "stream",
     "text": [
      "EigenValues vector λ =\n"
     ]
    },
    {
     "data": {
      "text/plain": [
       "10-element Array{Float64,1}:\n",
       "    -0.0\n",
       "    -0.0\n",
       "    -0.0\n",
       "    -0.0\n",
       "     0.0\n",
       "     0.0\n",
       "     0.0\n",
       "     0.0\n",
       "     0.0\n",
       " 24580.22"
      ]
     },
     "execution_count": 8,
     "metadata": {},
     "output_type": "execute_result"
    }
   ],
   "source": [
    "F=eigen(Y*Y')\n",
    "println(\"\\rEigenValues vector λ =\\r\")\n",
    "round.(F.values,digits=2)"
   ]
  },
  {
   "cell_type": "code",
   "execution_count": 9,
   "metadata": {},
   "outputs": [
    {
     "name": "stdout",
     "output_type": "stream",
     "text": [
      "EigenVectors matrix ϕ =\n"
     ]
    },
    {
     "data": {
      "text/plain": [
       "10×10 Array{Float64,2}:\n",
       " -0.81   0.45   0.22   0.03   0.06  -0.13   0.17   0.01  -0.08  -0.18\n",
       "  0.33   0.5   -0.3   -0.02  -0.04  -0.5   -0.26   0.04  -0.2   -0.43\n",
       " -0.09  -0.03  -0.02   0.13  -0.99   0.01   0.0    0.01  -0.01  -0.01\n",
       " -0.06  -0.02  -0.24  -0.14  -0.0    0.58  -0.04  -0.55  -0.23  -0.48\n",
       " -0.38  -0.31  -0.63  -0.53  -0.02  -0.2   -0.11   0.14   0.05   0.11\n",
       " -0.02  -0.52   0.31  -0.05   0.0   -0.57   0.16  -0.45  -0.12  -0.25\n",
       " -0.2   -0.22  -0.45   0.82   0.14  -0.07  -0.02  -0.02  -0.02  -0.04\n",
       " -0.02  -0.35   0.17  -0.01   0.03   0.16   0.02   0.69  -0.25  -0.54\n",
       "  0.2    0.11  -0.27  -0.05  -0.02  -0.02   0.93   0.07  -0.02  -0.04\n",
       "  0.0    0.0    0.0    0.0    0.0    0.0    0.0    0.0    0.9   -0.43"
      ]
     },
     "execution_count": 9,
     "metadata": {},
     "output_type": "execute_result"
    }
   ],
   "source": [
    "println(\"\\rEigenVectors matrix ϕ =\\r\")\n",
    "ϕ=F.vectors\n",
    "round.(ϕ;digits=2)"
   ]
  },
  {
   "cell_type": "code",
   "execution_count": 10,
   "metadata": {},
   "outputs": [
    {
     "name": "stdout",
     "output_type": "stream",
     "text": [
      "Amplitude matrix A =\n"
     ]
    },
    {
     "data": {
      "text/plain": [
       "10×16 Array{Float64,2}:\n",
       " -0.0    0.0    0.0   -0.0    0.0   …   0.0    0.0    0.0    0.0    0.0\n",
       "  0.0    0.0   -0.0    0.0    0.0      -0.0    0.0   -0.0    0.0    0.0\n",
       "  0.0   -0.0    0.0    0.0   -0.0       0.0   -0.0   -0.0   -0.0   -0.0\n",
       " -0.0   -0.0   -0.0   -0.0    0.0      -0.0   -0.0   -0.0   -0.0   -0.0\n",
       " -0.0   -0.0    0.0   -0.0   -0.0      -0.0    0.0    0.0   -0.0    0.0\n",
       "  0.0   -0.0    0.0    0.0   -0.0   …   0.0   -0.0    0.0   -0.0   -0.0\n",
       "  0.0    0.0    0.0    0.0    0.0       0.0    0.0    0.0    0.0    0.0\n",
       "  0.0    0.0    0.0    0.0    0.0       0.0    0.0    0.0    0.0    0.0\n",
       "  0.0    0.0    0.0    0.0    0.0       0.0    0.0    0.0    0.0    0.0\n",
       " 66.03  49.52  39.62  33.01  55.02     23.58  41.27  30.95  24.76  20.63"
      ]
     },
     "execution_count": 10,
     "metadata": {},
     "output_type": "execute_result"
    }
   ],
   "source": [
    "println(\"\\rAmplitude matrix A =\\r\")\n",
    "A=F.vectors'*Y\n",
    "round.(A;digits=2)"
   ]
  },
  {
   "cell_type": "markdown",
   "metadata": {},
   "source": [
    "* Reconstruction without any reduction"
   ]
  },
  {
   "cell_type": "code",
   "execution_count": 11,
   "metadata": {},
   "outputs": [
    {
     "name": "stdout",
     "output_type": "stream",
     "text": [
      "Full Reconstruction Yrecons = ϕA\n"
     ]
    },
    {
     "data": {
      "text/plain": [
       "10×16 Array{Float64,2}:\n",
       " -11.56   -8.67   -6.93   -5.78   -9.63  …   -7.22   -5.42   -4.33   -3.61\n",
       " -28.53  -21.39  -17.12  -14.26  -23.77     -17.83  -13.37  -10.7    -8.91\n",
       "  -0.89   -0.67   -0.53   -0.44   -0.74      -0.56   -0.42   -0.33   -0.28\n",
       " -31.87  -23.9   -19.12  -15.93  -26.55     -19.92  -14.94  -11.95   -9.96\n",
       "   7.11    5.33    4.27    3.56    5.93       4.44    3.33    2.67    2.22\n",
       " -16.54  -12.4    -9.92   -8.27  -13.78  …  -10.34   -7.75   -6.2    -5.17\n",
       "  -2.67   -2.0    -1.6    -1.33   -2.22      -1.67   -1.25   -1.0    -0.83\n",
       " -35.53  -26.65  -21.32  -17.76  -29.61     -22.21  -16.65  -13.32  -11.1\n",
       "  -2.67   -2.0    -1.6    -1.33   -2.22      -1.67   -1.25   -1.0    -0.83\n",
       " -28.2   -21.15  -16.92  -14.1   -23.5      -17.63  -13.22  -10.58   -8.81"
      ]
     },
     "execution_count": 11,
     "metadata": {},
     "output_type": "execute_result"
    }
   ],
   "source": [
    "println(\"\\rFull Reconstruction Yrecons = ϕA\\r\")\n",
    "Yrecons=ϕ*A\n",
    "round.(Yrecons;digits=2)"
   ]
  },
  {
   "cell_type": "markdown",
   "metadata": {},
   "source": [
    "* Reconstruction based on the first most energetic mode reduction"
   ]
  },
  {
   "cell_type": "code",
   "execution_count": 12,
   "metadata": {},
   "outputs": [
    {
     "name": "stdout",
     "output_type": "stream",
     "text": [
      "Reconstruction (reduction based on the most energetic mode) Ỹ10 = ϕ10*A10'≈ Y\n"
     ]
    },
    {
     "data": {
      "text/plain": [
       "10×16 Array{Float64,2}:\n",
       " -11.56   -8.67   -6.93   -5.78   -9.63  …   -7.22   -5.42   -4.33   -3.61\n",
       " -28.53  -21.39  -17.12  -14.26  -23.77     -17.83  -13.37  -10.7    -8.91\n",
       "  -0.89   -0.67   -0.53   -0.44   -0.74      -0.56   -0.42   -0.33   -0.28\n",
       " -31.87  -23.9   -19.12  -15.93  -26.55     -19.92  -14.94  -11.95   -9.96\n",
       "   7.11    5.33    4.27    3.56    5.93       4.44    3.33    2.67    2.22\n",
       " -16.54  -12.4    -9.92   -8.27  -13.78  …  -10.34   -7.75   -6.2    -5.17\n",
       "  -2.67   -2.0    -1.6    -1.33   -2.22      -1.67   -1.25   -1.0    -0.83\n",
       " -35.53  -26.65  -21.32  -17.76  -29.61     -22.21  -16.65  -13.32  -11.1\n",
       "  -2.67   -2.0    -1.6    -1.33   -2.22      -1.67   -1.25   -1.0    -0.83\n",
       " -28.2   -21.15  -16.92  -14.1   -23.5      -17.63  -13.22  -10.58   -8.81"
      ]
     },
     "execution_count": 12,
     "metadata": {},
     "output_type": "execute_result"
    }
   ],
   "source": [
    "println(\"\\rReconstruction (reduction based on the most energetic mode) Ỹ10 = ϕ10*A10'≈ Y\\r\")\n",
    "Ỹ10=ϕ[:,10]*A[10,:]'\n",
    "round.(Ỹ10;digits=2)"
   ]
  },
  {
   "cell_type": "code",
   "execution_count": 13,
   "metadata": {},
   "outputs": [
    {
     "name": "stdout",
     "output_type": "stream",
     "text": [
      "Reconstruction of the first snapshot (reduction based on the most energetic mode) Y1\n",
      "Y1 = \n"
     ]
    },
    {
     "data": {
      "text/plain": [
       "10-element Array{Float64,1}:\n",
       " -11.56\n",
       " -28.53\n",
       "  -0.89\n",
       " -31.87\n",
       "   7.11\n",
       " -16.54\n",
       "  -2.67\n",
       " -35.53\n",
       "  -2.67\n",
       " -28.2"
      ]
     },
     "execution_count": 13,
     "metadata": {},
     "output_type": "execute_result"
    }
   ],
   "source": [
    "println(\"\\rReconstruction of the first snapshot (reduction based on the most energetic mode) Y1\\r\")\n",
    "Y1=ϕ[:,10]*A[10,:][1]\n",
    "println(\"\\rY1 = \\r\")\n",
    "round.(Y1;digits=2)"
   ]
  },
  {
   "cell_type": "code",
   "execution_count": 14,
   "metadata": {},
   "outputs": [
    {
     "name": "stdout",
     "output_type": "stream",
     "text": [
      "Reconstruction of the second snapshot (reduction based on a single mode) Y2\n",
      "Y2 = \n"
     ]
    },
    {
     "data": {
      "text/plain": [
       "10-element Array{Float64,1}:\n",
       "  -8.67\n",
       " -21.39\n",
       "  -0.67\n",
       " -23.9\n",
       "   5.33\n",
       " -12.4\n",
       "  -2.0\n",
       " -26.65\n",
       "  -2.0\n",
       " -21.15"
      ]
     },
     "execution_count": 14,
     "metadata": {},
     "output_type": "execute_result"
    }
   ],
   "source": [
    "println(\"\\rReconstruction of the second snapshot (reduction based on a single mode) Y2\\r\")\n",
    "Y2=ϕ[:,10]*A[10,:][2]\n",
    "println(\"\\rY2 = \\r\")\n",
    "round.(Y2;digits=2)"
   ]
  },
  {
   "cell_type": "markdown",
   "metadata": {},
   "source": [
    "2. SVD"
   ]
  },
  {
   "cell_type": "code",
   "execution_count": 15,
   "metadata": {},
   "outputs": [
    {
     "name": "stdout",
     "output_type": "stream",
     "text": [
      "SVD decomposition of the snapshot matrix\n"
     ]
    },
    {
     "data": {
      "text/plain": [
       "SVD{Float64,Float64,Array{Float64,2}}\n",
       "U factor:\n",
       "10×10 Array{Float64,2}:\n",
       "  0.175013    0.0908838     0.660406   …  -0.484511   -0.216359    0.0322019\n",
       "  0.432037   -0.768103      0.179112       0.0878363   0.091867   -0.0529522\n",
       "  0.0134625  -0.0174021     0.115046       0.536019    0.332963   -0.160737\n",
       "  0.482621    0.482509      0.395497       0.206786    0.169657   -0.221492\n",
       " -0.1077     -0.208478      0.0286675     -0.469527    0.602244   -0.0302001\n",
       "  0.250492    0.028493     -0.140961   …  -0.261284    0.281913    0.179778\n",
       "  0.0403875  -0.256343      0.021577      -0.0240329  -0.591306   -0.179876\n",
       "  0.538104   -0.065883     -0.272334       0.13054    -0.0489795   0.0633951\n",
       "  0.0403875  -0.000510842   0.170825       0.197072   -0.032079    0.922278\n",
       "  0.427138    0.233049     -0.487468      -0.286839   -0.0992865   0.0325882\n",
       "singular values:\n",
       "10-element Array{Float64,1}:\n",
       " 156.78079133793835\n",
       "   2.5477088009806055e-14\n",
       "   1.3824020994007164e-14\n",
       "   9.643292276369032e-15\n",
       "   6.598096259151781e-15\n",
       "   4.106081124278751e-15\n",
       "   2.2804306090188414e-15\n",
       "   1.5239077964497504e-15\n",
       "   1.2123752141300462e-15\n",
       "   7.324580957975528e-17\n",
       "Vt factor:\n",
       "10×16 Array{Float64,2}:\n",
       " -0.421142   -0.315856    -0.252685   -0.210571   …  -0.157928    -0.131607\n",
       "  0.340651   -0.292238     0.490941    0.284964      -0.146119    -0.104795\n",
       "  0.756736    0.00219469  -0.437124   -0.0126073      0.00109735   0.00603239\n",
       " -0.0678267   0.149625     0.060185   -0.137185       0.0748127    0.225823\n",
       " -0.202526    0.400048    -0.424974    0.384184       0.200024    -0.0651159\n",
       " -0.122274   -0.0194158    0.406078    0.0841654  …  -0.00970788   0.0442262\n",
       "  0.187995   -0.244968    -0.119739   -0.300882      -0.122484    -0.00877285\n",
       "  0.156614    0.349482     0.0633101  -0.169213       0.174741    -0.074278\n",
       "  0.0647012   0.478259     0.33017    -0.282783       0.23913     -0.131422\n",
       "  0.0965524   0.145411     0.166035    0.0408304      0.0727053    0.0521011"
      ]
     },
     "execution_count": 15,
     "metadata": {},
     "output_type": "execute_result"
    }
   ],
   "source": [
    "#Calculate the SVD of the snapshot matrix\n",
    "Z=svd(Y)\n",
    "println(\"\\rSVD decomposition of the snapshot matrix\\r\")\n",
    "Z"
   ]
  },
  {
   "cell_type": "markdown",
   "metadata": {},
   "source": [
    "* Modes"
   ]
  },
  {
   "cell_type": "code",
   "execution_count": 16,
   "metadata": {},
   "outputs": [
    {
     "name": "stdout",
     "output_type": "stream",
     "text": [
      "SVD modes\n"
     ]
    },
    {
     "data": {
      "text/plain": [
       "10×10 Array{Float64,2}:\n",
       "  0.18   0.09   0.66  -0.14   0.04  -0.41   0.23  -0.48  -0.22   0.03\n",
       "  0.43  -0.77   0.18  -0.09   0.09   0.32   0.24   0.09   0.09  -0.05\n",
       "  0.01  -0.02   0.12  -0.48   0.23  -0.51  -0.11   0.54   0.33  -0.16\n",
       "  0.48   0.48   0.4    0.17   0.03   0.39  -0.27   0.21   0.17  -0.22\n",
       " -0.11  -0.21   0.03   0.28   0.3   -0.11  -0.42  -0.47   0.6   -0.03\n",
       "  0.25   0.03  -0.14  -0.49  -0.67   0.03  -0.22  -0.26   0.28   0.18\n",
       "  0.04  -0.26   0.02  -0.12   0.05  -0.04  -0.73  -0.02  -0.59  -0.18\n",
       "  0.54  -0.07  -0.27   0.52  -0.21  -0.54  -0.01   0.13  -0.05   0.06\n",
       "  0.04  -0.0    0.17   0.01   0.19   0.05  -0.19   0.2   -0.03   0.92\n",
       "  0.43   0.23  -0.49  -0.32   0.56   0.06   0.1   -0.29  -0.1    0.03"
      ]
     },
     "execution_count": 16,
     "metadata": {},
     "output_type": "execute_result"
    }
   ],
   "source": [
    "println(\"\\rSVD modes\\r\")\n",
    "round.(Z.U;digits=2)"
   ]
  },
  {
   "cell_type": "markdown",
   "metadata": {},
   "source": [
    "* Mode coefficients"
   ]
  },
  {
   "cell_type": "code",
   "execution_count": 17,
   "metadata": {},
   "outputs": [
    {
     "name": "stdout",
     "output_type": "stream",
     "text": [
      "SVD modes coefficients\n"
     ]
    },
    {
     "data": {
      "text/plain": [
       "10×16 Array{Float64,2}:\n",
       " -66.03  -49.52  -39.62  -33.01  -55.02  …  -41.27  -30.95  -24.76  -20.63\n",
       "   0.0    -0.0     0.0     0.0    -0.0       -0.0     0.0    -0.0    -0.0\n",
       "   0.0     0.0    -0.0    -0.0    -0.0        0.0    -0.0     0.0     0.0\n",
       "  -0.0     0.0     0.0    -0.0    -0.0        0.0     0.0     0.0     0.0\n",
       "  -0.0     0.0    -0.0     0.0    -0.0       -0.0    -0.0     0.0    -0.0\n",
       "  -0.0    -0.0     0.0     0.0     0.0   …    0.0     0.0    -0.0     0.0\n",
       "   0.0    -0.0    -0.0    -0.0     0.0       -0.0     0.0    -0.0    -0.0\n",
       "   0.0     0.0     0.0    -0.0    -0.0       -0.0     0.0     0.0    -0.0\n",
       "   0.0     0.0     0.0    -0.0    -0.0       -0.0    -0.0     0.0    -0.0\n",
       "   0.0     0.0     0.0     0.0    -0.0        0.0    -0.0     0.0     0.0"
      ]
     },
     "execution_count": 17,
     "metadata": {},
     "output_type": "execute_result"
    }
   ],
   "source": [
    "println(\"\\rSVD modes coefficients\\r\")\n",
    "round.(diagm(Z.S)*Z.Vt;digits=2)"
   ]
  },
  {
   "cell_type": "markdown",
   "metadata": {},
   "source": [
    "* Reconstruction without any reduction"
   ]
  },
  {
   "cell_type": "code",
   "execution_count": 18,
   "metadata": {},
   "outputs": [
    {
     "name": "stdout",
     "output_type": "stream",
     "text": [
      "Full Reconstruction  Yrecons = UΣV*\n"
     ]
    },
    {
     "data": {
      "text/plain": [
       "10×16 Array{Float64,2}:\n",
       " -11.56   -8.67   -6.93   -5.78   -9.63  …   -7.22   -5.42   -4.33   -3.61\n",
       " -28.53  -21.39  -17.12  -14.26  -23.77     -17.83  -13.37  -10.7    -8.91\n",
       "  -0.89   -0.67   -0.53   -0.44   -0.74      -0.56   -0.42   -0.33   -0.28\n",
       " -31.87  -23.9   -19.12  -15.93  -26.55     -19.92  -14.94  -11.95   -9.96\n",
       "   7.11    5.33    4.27    3.56    5.93       4.44    3.33    2.67    2.22\n",
       " -16.54  -12.4    -9.92   -8.27  -13.78  …  -10.34   -7.75   -6.2    -5.17\n",
       "  -2.67   -2.0    -1.6    -1.33   -2.22      -1.67   -1.25   -1.0    -0.83\n",
       " -35.53  -26.65  -21.32  -17.76  -29.61     -22.21  -16.65  -13.32  -11.1\n",
       "  -2.67   -2.0    -1.6    -1.33   -2.22      -1.67   -1.25   -1.0    -0.83\n",
       " -28.2   -21.15  -16.92  -14.1   -23.5      -17.63  -13.22  -10.58   -8.81"
      ]
     },
     "execution_count": 18,
     "metadata": {},
     "output_type": "execute_result"
    }
   ],
   "source": [
    "println(\"\\rFull Reconstruction  Yrecons = UΣV*\\r\")\n",
    "Yrecons=Z.U*diagm(Z.S)*Z.Vt\n",
    "round.(Yrecons;digits=2)"
   ]
  },
  {
   "cell_type": "markdown",
   "metadata": {},
   "source": [
    "* Reconstruction based on the first most energetic mode reduction"
   ]
  },
  {
   "cell_type": "code",
   "execution_count": 20,
   "metadata": {},
   "outputs": [
    {
     "name": "stdout",
     "output_type": "stream",
     "text": [
      "Reconstruction of the data matrix Ỹ1 \n",
      "Ỹ1 = \n"
     ]
    },
    {
     "data": {
      "text/plain": [
       "10×16 Array{Float64,2}:\n",
       " -11.56   -8.67   -6.93   -5.78   -9.63  …   -7.22   -5.42   -4.33   -3.61\n",
       " -28.53  -21.39  -17.12  -14.26  -23.77     -17.83  -13.37  -10.7    -8.91\n",
       "  -0.89   -0.67   -0.53   -0.44   -0.74      -0.56   -0.42   -0.33   -0.28\n",
       " -31.87  -23.9   -19.12  -15.93  -26.55     -19.92  -14.94  -11.95   -9.96\n",
       "   7.11    5.33    4.27    3.56    5.93       4.44    3.33    2.67    2.22\n",
       " -16.54  -12.4    -9.92   -8.27  -13.78  …  -10.34   -7.75   -6.2    -5.17\n",
       "  -2.67   -2.0    -1.6    -1.33   -2.22      -1.67   -1.25   -1.0    -0.83\n",
       " -35.53  -26.65  -21.32  -17.76  -29.61     -22.21  -16.65  -13.32  -11.1\n",
       "  -2.67   -2.0    -1.6    -1.33   -2.22      -1.67   -1.25   -1.0    -0.83\n",
       " -28.2   -21.15  -16.92  -14.1   -23.5      -17.63  -13.22  -10.58   -8.81"
      ]
     },
     "execution_count": 20,
     "metadata": {},
     "output_type": "execute_result"
    }
   ],
   "source": [
    "println(\"\\rReconstruction of the data matrix Ỹ1 \")\n",
    "println(\"\\rỸ1 = \")\n",
    "Ỹ1=Z.U[:,1]*(diagm(Z.S)*Z.Vt)[1,:]'\n",
    "round.(Ỹ1;digits=2)"
   ]
  },
  {
   "cell_type": "code",
   "execution_count": 21,
   "metadata": {},
   "outputs": [
    {
     "name": "stdout",
     "output_type": "stream",
     "text": [
      "Reconstruction of the first snapshot Y1\n",
      "Y1 = \n"
     ]
    },
    {
     "data": {
      "text/plain": [
       "10-element Array{Float64,1}:\n",
       " -11.56\n",
       " -28.53\n",
       "  -0.89\n",
       " -31.87\n",
       "   7.11\n",
       " -16.54\n",
       "  -2.67\n",
       " -35.53\n",
       "  -2.67\n",
       " -28.2"
      ]
     },
     "execution_count": 21,
     "metadata": {},
     "output_type": "execute_result"
    }
   ],
   "source": [
    "println(\"\\rReconstruction of the first snapshot Y1\\r\")\n",
    "Y1=Z.U[:,1]*(Z.S[1]*Z.Vt[1,:][1])\n",
    "println(\"\\rY1 = \\r\")\n",
    "round.(Y1;digits=2)"
   ]
  },
  {
   "cell_type": "code",
   "execution_count": 22,
   "metadata": {},
   "outputs": [
    {
     "name": "stdout",
     "output_type": "stream",
     "text": [
      "Reconstruction of the second snapshot Y2\n",
      "Y2 = \n"
     ]
    },
    {
     "data": {
      "text/plain": [
       "10-element Array{Float64,1}:\n",
       "  -8.67\n",
       " -21.39\n",
       "  -0.67\n",
       " -23.9\n",
       "   5.33\n",
       " -12.4\n",
       "  -2.0\n",
       " -26.65\n",
       "  -2.0\n",
       " -21.15"
      ]
     },
     "execution_count": 22,
     "metadata": {},
     "output_type": "execute_result"
    }
   ],
   "source": [
    "println(\"\\rReconstruction of the second snapshot Y2\\r\")\n",
    "Y2=Z.U[:,1]*(Z.S[1]*Z.Vt[1,:][2])\n",
    "println(\"\\rY2 = \\r\")\n",
    "round.(Y2;digits=2)"
   ]
  },
  {
   "cell_type": "markdown",
   "metadata": {},
   "source": [
    "# Interpolation\n",
    "For arbitray parameters, the combined use of radial basis functions (RBF) is required"
   ]
  },
  {
   "cell_type": "markdown",
   "metadata": {},
   "source": [
    "As a reminder\n",
    "* Parameter matrix $P$"
   ]
  },
  {
   "cell_type": "code",
   "execution_count": 23,
   "metadata": {},
   "outputs": [
    {
     "name": "stdout",
     "output_type": "stream",
     "text": [
      "P=\n",
      "2×16 Array{Float64,2}:\n",
      " 125000.0  125000.0  125000.0  125000.0  150000.0  150000.0  150000.0  150000.0  175000.0  175000.0  175000.0  175000.0  200000.0  200000.0  200000.0  200000.0\n",
      "      6.0       8.0      10.0      12.0       6.0       8.0      10.0      12.0       6.0       8.0      10.0      12.0       6.0       8.0      10.0      12.0"
     ]
    }
   ],
   "source": [
    "println(\"\\rP=\\r\")\n",
    "show(stdout,\"text/plain\", round.(P;digits=0))"
   ]
  },
  {
   "cell_type": "markdown",
   "metadata": {},
   "source": [
    "* Amplitude matrix $A$"
   ]
  },
  {
   "cell_type": "code",
   "execution_count": 24,
   "metadata": {},
   "outputs": [
    {
     "name": "stdout",
     "output_type": "stream",
     "text": [
      "A = \n"
     ]
    },
    {
     "data": {
      "text/plain": [
       "10×16 Array{Float64,2}:\n",
       " -0.0    0.0    0.0   -0.0    0.0   …   0.0    0.0    0.0    0.0    0.0\n",
       "  0.0    0.0   -0.0    0.0    0.0      -0.0    0.0   -0.0    0.0    0.0\n",
       "  0.0   -0.0    0.0    0.0   -0.0       0.0   -0.0   -0.0   -0.0   -0.0\n",
       " -0.0   -0.0   -0.0   -0.0    0.0      -0.0   -0.0   -0.0   -0.0   -0.0\n",
       " -0.0   -0.0    0.0   -0.0   -0.0      -0.0    0.0    0.0   -0.0    0.0\n",
       "  0.0   -0.0    0.0    0.0   -0.0   …   0.0   -0.0    0.0   -0.0   -0.0\n",
       "  0.0    0.0    0.0    0.0    0.0       0.0    0.0    0.0    0.0    0.0\n",
       "  0.0    0.0    0.0    0.0    0.0       0.0    0.0    0.0    0.0    0.0\n",
       "  0.0    0.0    0.0    0.0    0.0       0.0    0.0    0.0    0.0    0.0\n",
       " 66.03  49.52  39.62  33.01  55.02     23.58  41.27  30.95  24.76  20.63"
      ]
     },
     "execution_count": 24,
     "metadata": {},
     "output_type": "execute_result"
    }
   ],
   "source": [
    "println(\"\\rA = \\r\")\n",
    "round.(A;digits=2)"
   ]
  },
  {
   "cell_type": "markdown",
   "metadata": {},
   "source": [
    "* POD mode matrix $\\phi$"
   ]
  },
  {
   "cell_type": "code",
   "execution_count": 25,
   "metadata": {},
   "outputs": [
    {
     "name": "stdout",
     "output_type": "stream",
     "text": [
      "ϕ = \n"
     ]
    },
    {
     "data": {
      "text/plain": [
       "10×10 Array{Float64,2}:\n",
       " -0.81   0.45   0.22   0.03   0.06  -0.13   0.17   0.01  -0.08  -0.18\n",
       "  0.33   0.5   -0.3   -0.02  -0.04  -0.5   -0.26   0.04  -0.2   -0.43\n",
       " -0.09  -0.03  -0.02   0.13  -0.99   0.01   0.0    0.01  -0.01  -0.01\n",
       " -0.06  -0.02  -0.24  -0.14  -0.0    0.58  -0.04  -0.55  -0.23  -0.48\n",
       " -0.38  -0.31  -0.63  -0.53  -0.02  -0.2   -0.11   0.14   0.05   0.11\n",
       " -0.02  -0.52   0.31  -0.05   0.0   -0.57   0.16  -0.45  -0.12  -0.25\n",
       " -0.2   -0.22  -0.45   0.82   0.14  -0.07  -0.02  -0.02  -0.02  -0.04\n",
       " -0.02  -0.35   0.17  -0.01   0.03   0.16   0.02   0.69  -0.25  -0.54\n",
       "  0.2    0.11  -0.27  -0.05  -0.02  -0.02   0.93   0.07  -0.02  -0.04\n",
       "  0.0    0.0    0.0    0.0    0.0    0.0    0.0    0.0    0.9   -0.43"
      ]
     },
     "execution_count": 25,
     "metadata": {},
     "output_type": "execute_result"
    }
   ],
   "source": [
    "println(\"\\rϕ = \\r\")\n",
    "round.(ϕ;digits=2)"
   ]
  },
  {
   "cell_type": "markdown",
   "metadata": {},
   "source": [
    "* Interpolation coefficient matrix $B$"
   ]
  },
  {
   "cell_type": "code",
   "execution_count": 26,
   "metadata": {},
   "outputs": [
    {
     "data": {
      "text/plain": [
       "10×16 Array{Float64,2}:\n",
       "   0.0   -0.0   -0.0    0.0   -0.0   …   0.0    0.0   -0.0    0.0   0.0\n",
       "   0.0   -0.0    0.0   -0.0   -0.0       0.0   -0.0    0.0   -0.0  -0.0\n",
       "  -0.0    0.0   -0.0    0.0    0.0      -0.0    0.0   -0.0    0.0   0.0\n",
       "   0.0   -0.0    0.0    0.0   -0.0       0.0   -0.0    0.0   -0.0  -0.0\n",
       "   0.0    0.0   -0.0    0.0    0.0       0.0   -0.0    0.0    0.0  -0.0\n",
       "  -0.0    0.0   -0.0   -0.0    0.0   …  -0.0    0.0   -0.0    0.0   0.0\n",
       "  -0.0    0.0   -0.0    0.0    0.0      -0.0    0.0   -0.0    0.0   0.0\n",
       "   0.0   -0.0    0.0    0.0   -0.0       0.0   -0.0    0.0   -0.0   0.0\n",
       "  -0.0    0.0   -0.0    0.0    0.0      -0.0    0.0   -0.0    0.0   0.0\n",
       " -12.26   6.16   1.64  16.44  -1.43      2.41  11.85   7.41   3.5  19.07"
      ]
     },
     "execution_count": 26,
     "metadata": {},
     "output_type": "execute_result"
    }
   ],
   "source": [
    "B=BlinMtx(A,P)\n",
    "round.(B;digits=2)"
   ]
  },
  {
   "cell_type": "markdown",
   "metadata": {},
   "source": [
    "* Calculation of the nodal displacement vector for the normalized point $Pint$ to be interpolated ($E = 135000 Mpa ; A = 11 mm^{2}$)"
   ]
  },
  {
   "cell_type": "code",
   "execution_count": 27,
   "metadata": {},
   "outputs": [
    {
     "data": {
      "image/svg+xml": [
       "<?xml version=\"1.0\" encoding=\"utf-8\"?>\n",
       "<svg xmlns=\"http://www.w3.org/2000/svg\" xmlns:xlink=\"http://www.w3.org/1999/xlink\" width=\"600\" height=\"400\" viewBox=\"0 0 2400 1600\">\n",
       "<defs>\n",
       "  <clipPath id=\"clip7500\">\n",
       "    <rect x=\"0\" y=\"0\" width=\"2400\" height=\"1600\"/>\n",
       "  </clipPath>\n",
       "</defs>\n",
       "<path clip-path=\"url(#clip7500)\" d=\"\n",
       "M0 1600 L2400 1600 L2400 0 L0 0  Z\n",
       "  \" fill=\"#ff8c00\" fill-rule=\"evenodd\" fill-opacity=\"1\"/>\n",
       "<defs>\n",
       "  <clipPath id=\"clip7501\">\n",
       "    <rect x=\"480\" y=\"0\" width=\"1681\" height=\"1600\"/>\n",
       "  </clipPath>\n",
       "</defs>\n",
       "<path clip-path=\"url(#clip7500)\" d=\"\n",
       "M197.852 1423.18 L2352.76 1423.18 L2352.76 123.472 L197.852 123.472  Z\n",
       "  \" fill=\"#ff8c00\" fill-rule=\"evenodd\" fill-opacity=\"1\"/>\n",
       "<defs>\n",
       "  <clipPath id=\"clip7502\">\n",
       "    <rect x=\"197\" y=\"123\" width=\"2156\" height=\"1301\"/>\n",
       "  </clipPath>\n",
       "</defs>\n",
       "<polyline clip-path=\"url(#clip7502)\" style=\"stroke:#000000; stroke-width:2; stroke-opacity:0.1; fill:none\" points=\"\n",
       "  197.852,1423.18 197.852,123.472 \n",
       "  \"/>\n",
       "<polyline clip-path=\"url(#clip7502)\" style=\"stroke:#000000; stroke-width:2; stroke-opacity:0.1; fill:none\" points=\"\n",
       "  733.232,1423.18 733.232,123.472 \n",
       "  \"/>\n",
       "<polyline clip-path=\"url(#clip7502)\" style=\"stroke:#000000; stroke-width:2; stroke-opacity:0.1; fill:none\" points=\"\n",
       "  1268.61,1423.18 1268.61,123.472 \n",
       "  \"/>\n",
       "<polyline clip-path=\"url(#clip7502)\" style=\"stroke:#000000; stroke-width:2; stroke-opacity:0.1; fill:none\" points=\"\n",
       "  1803.99,1423.18 1803.99,123.472 \n",
       "  \"/>\n",
       "<polyline clip-path=\"url(#clip7502)\" style=\"stroke:#000000; stroke-width:2; stroke-opacity:0.1; fill:none\" points=\"\n",
       "  2339.37,1423.18 2339.37,123.472 \n",
       "  \"/>\n",
       "<polyline clip-path=\"url(#clip7502)\" style=\"stroke:#000000; stroke-width:2; stroke-opacity:0.1; fill:none\" points=\"\n",
       "  197.852,1260.72 2352.76,1260.72 \n",
       "  \"/>\n",
       "<polyline clip-path=\"url(#clip7502)\" style=\"stroke:#000000; stroke-width:2; stroke-opacity:0.1; fill:none\" points=\"\n",
       "  197.852,935.789 2352.76,935.789 \n",
       "  \"/>\n",
       "<polyline clip-path=\"url(#clip7502)\" style=\"stroke:#000000; stroke-width:2; stroke-opacity:0.1; fill:none\" points=\"\n",
       "  197.852,610.863 2352.76,610.863 \n",
       "  \"/>\n",
       "<polyline clip-path=\"url(#clip7502)\" style=\"stroke:#000000; stroke-width:2; stroke-opacity:0.1; fill:none\" points=\"\n",
       "  197.852,285.936 2352.76,285.936 \n",
       "  \"/>\n",
       "<polyline clip-path=\"url(#clip7500)\" style=\"stroke:#000000; stroke-width:4; stroke-opacity:1; fill:none\" points=\"\n",
       "  197.852,1423.18 2352.76,1423.18 \n",
       "  \"/>\n",
       "<polyline clip-path=\"url(#clip7500)\" style=\"stroke:#000000; stroke-width:4; stroke-opacity:1; fill:none\" points=\"\n",
       "  197.852,1423.18 197.852,123.472 \n",
       "  \"/>\n",
       "<polyline clip-path=\"url(#clip7500)\" style=\"stroke:#000000; stroke-width:4; stroke-opacity:1; fill:none\" points=\"\n",
       "  197.852,1423.18 197.852,1407.58 \n",
       "  \"/>\n",
       "<polyline clip-path=\"url(#clip7500)\" style=\"stroke:#000000; stroke-width:4; stroke-opacity:1; fill:none\" points=\"\n",
       "  733.232,1423.18 733.232,1407.58 \n",
       "  \"/>\n",
       "<polyline clip-path=\"url(#clip7500)\" style=\"stroke:#000000; stroke-width:4; stroke-opacity:1; fill:none\" points=\"\n",
       "  1268.61,1423.18 1268.61,1407.58 \n",
       "  \"/>\n",
       "<polyline clip-path=\"url(#clip7500)\" style=\"stroke:#000000; stroke-width:4; stroke-opacity:1; fill:none\" points=\"\n",
       "  1803.99,1423.18 1803.99,1407.58 \n",
       "  \"/>\n",
       "<polyline clip-path=\"url(#clip7500)\" style=\"stroke:#000000; stroke-width:4; stroke-opacity:1; fill:none\" points=\"\n",
       "  2339.37,1423.18 2339.37,1407.58 \n",
       "  \"/>\n",
       "<polyline clip-path=\"url(#clip7500)\" style=\"stroke:#000000; stroke-width:4; stroke-opacity:1; fill:none\" points=\"\n",
       "  197.852,1260.72 223.711,1260.72 \n",
       "  \"/>\n",
       "<polyline clip-path=\"url(#clip7500)\" style=\"stroke:#000000; stroke-width:4; stroke-opacity:1; fill:none\" points=\"\n",
       "  197.852,935.789 223.711,935.789 \n",
       "  \"/>\n",
       "<polyline clip-path=\"url(#clip7500)\" style=\"stroke:#000000; stroke-width:4; stroke-opacity:1; fill:none\" points=\"\n",
       "  197.852,610.863 223.711,610.863 \n",
       "  \"/>\n",
       "<polyline clip-path=\"url(#clip7500)\" style=\"stroke:#000000; stroke-width:4; stroke-opacity:1; fill:none\" points=\"\n",
       "  197.852,285.936 223.711,285.936 \n",
       "  \"/>\n",
       "<path clip-path=\"url(#clip7500)\" d=\"M 0 0 M162.019 1472.72 L169.658 1472.72 L169.658 1446.35 L161.348 1448.02 L161.348 1443.76 L169.612 1442.09 L174.288 1442.09 L174.288 1472.72 L181.927 1472.72 L181.927 1476.65 L162.019 1476.65 L162.019 1472.72 Z\" fill=\"#000000\" fill-rule=\"evenodd\" fill-opacity=\"1\" /><path clip-path=\"url(#clip7500)\" d=\"M 0 0 M191.024 1472.72 L207.343 1472.72 L207.343 1476.65 L185.399 1476.65 L185.399 1472.72 Q188.061 1469.96 192.644 1465.33 Q197.251 1460.68 198.431 1459.34 Q200.677 1456.81 201.556 1455.08 Q202.459 1453.32 202.459 1451.63 Q202.459 1448.87 200.515 1447.14 Q198.593 1445.4 195.491 1445.4 Q193.292 1445.4 190.839 1446.17 Q188.408 1446.93 185.63 1448.48 L185.63 1443.76 Q188.454 1442.62 190.908 1442.05 Q193.362 1441.47 195.399 1441.47 Q200.769 1441.47 203.964 1444.15 Q207.158 1446.84 207.158 1451.33 Q207.158 1453.46 206.348 1455.38 Q205.561 1457.28 203.454 1459.87 Q202.876 1460.54 199.774 1463.76 Q196.672 1466.95 191.024 1472.72 Z\" fill=\"#000000\" fill-rule=\"evenodd\" fill-opacity=\"1\" /><path clip-path=\"url(#clip7500)\" d=\"M 0 0 M222.413 1445.17 Q218.801 1445.17 216.973 1448.74 Q215.167 1452.28 215.167 1459.41 Q215.167 1466.51 216.973 1470.08 Q218.801 1473.62 222.413 1473.62 Q226.047 1473.62 227.852 1470.08 Q229.681 1466.51 229.681 1459.41 Q229.681 1452.28 227.852 1448.74 Q226.047 1445.17 222.413 1445.17 M222.413 1441.47 Q228.223 1441.47 231.278 1446.07 Q234.357 1450.66 234.357 1459.41 Q234.357 1468.13 231.278 1472.74 Q228.223 1477.32 222.413 1477.32 Q216.602 1477.32 213.524 1472.74 Q210.468 1468.13 210.468 1459.41 Q210.468 1450.66 213.524 1446.07 Q216.602 1441.47 222.413 1441.47 Z\" fill=\"#000000\" fill-rule=\"evenodd\" fill-opacity=\"1\" /><path clip-path=\"url(#clip7500)\" d=\"M 0 0 M696.357 1472.72 L703.996 1472.72 L703.996 1446.35 L695.686 1448.02 L695.686 1443.76 L703.95 1442.09 L708.626 1442.09 L708.626 1472.72 L716.265 1472.72 L716.265 1476.65 L696.357 1476.65 L696.357 1472.72 Z\" fill=\"#000000\" fill-rule=\"evenodd\" fill-opacity=\"1\" /><path clip-path=\"url(#clip7500)\" d=\"M 0 0 M734.181 1446.17 L722.376 1464.61 L734.181 1464.61 L734.181 1446.17 M732.954 1442.09 L738.834 1442.09 L738.834 1464.61 L743.765 1464.61 L743.765 1468.5 L738.834 1468.5 L738.834 1476.65 L734.181 1476.65 L734.181 1468.5 L718.58 1468.5 L718.58 1463.99 L732.954 1442.09 Z\" fill=\"#000000\" fill-rule=\"evenodd\" fill-opacity=\"1\" /><path clip-path=\"url(#clip7500)\" d=\"M 0 0 M758.834 1445.17 Q755.223 1445.17 753.394 1448.74 Q751.589 1452.28 751.589 1459.41 Q751.589 1466.51 753.394 1470.08 Q755.223 1473.62 758.834 1473.62 Q762.468 1473.62 764.274 1470.08 Q766.102 1466.51 766.102 1459.41 Q766.102 1452.28 764.274 1448.74 Q762.468 1445.17 758.834 1445.17 M758.834 1441.47 Q764.644 1441.47 767.7 1446.07 Q770.778 1450.66 770.778 1459.41 Q770.778 1468.13 767.7 1472.74 Q764.644 1477.32 758.834 1477.32 Q753.024 1477.32 749.945 1472.74 Q746.89 1468.13 746.89 1459.41 Q746.89 1450.66 749.945 1446.07 Q753.024 1441.47 758.834 1441.47 Z\" fill=\"#000000\" fill-rule=\"evenodd\" fill-opacity=\"1\" /><path clip-path=\"url(#clip7500)\" d=\"M 0 0 M1231.9 1472.72 L1239.54 1472.72 L1239.54 1446.35 L1231.23 1448.02 L1231.23 1443.76 L1239.49 1442.09 L1244.17 1442.09 L1244.17 1472.72 L1251.81 1472.72 L1251.81 1476.65 L1231.9 1476.65 L1231.9 1472.72 Z\" fill=\"#000000\" fill-rule=\"evenodd\" fill-opacity=\"1\" /><path clip-path=\"url(#clip7500)\" d=\"M 0 0 M1267.45 1457.51 Q1264.31 1457.51 1262.45 1459.66 Q1260.63 1461.81 1260.63 1465.56 Q1260.63 1469.29 1262.45 1471.47 Q1264.31 1473.62 1267.45 1473.62 Q1270.6 1473.62 1272.43 1471.47 Q1274.28 1469.29 1274.28 1465.56 Q1274.28 1461.81 1272.43 1459.66 Q1270.6 1457.51 1267.45 1457.51 M1276.74 1442.86 L1276.74 1447.11 Q1274.98 1446.28 1273.17 1445.84 Q1271.39 1445.4 1269.63 1445.4 Q1265 1445.4 1262.55 1448.53 Q1260.12 1451.65 1259.77 1457.97 Q1261.14 1455.96 1263.2 1454.89 Q1265.26 1453.8 1267.73 1453.8 Q1272.94 1453.8 1275.95 1456.98 Q1278.98 1460.12 1278.98 1465.56 Q1278.98 1470.89 1275.83 1474.11 Q1272.69 1477.32 1267.45 1477.32 Q1261.46 1477.32 1258.29 1472.74 Q1255.12 1468.13 1255.12 1459.41 Q1255.12 1451.21 1259.01 1446.35 Q1262.89 1441.47 1269.45 1441.47 Q1271.2 1441.47 1272.99 1441.81 Q1274.79 1442.16 1276.74 1442.86 Z\" fill=\"#000000\" fill-rule=\"evenodd\" fill-opacity=\"1\" /><path clip-path=\"url(#clip7500)\" d=\"M 0 0 M1294.05 1445.17 Q1290.44 1445.17 1288.61 1448.74 Q1286.81 1452.28 1286.81 1459.41 Q1286.81 1466.51 1288.61 1470.08 Q1290.44 1473.62 1294.05 1473.62 Q1297.69 1473.62 1299.49 1470.08 Q1301.32 1466.51 1301.32 1459.41 Q1301.32 1452.28 1299.49 1448.74 Q1297.69 1445.17 1294.05 1445.17 M1294.05 1441.47 Q1299.86 1441.47 1302.92 1446.07 Q1306 1450.66 1306 1459.41 Q1306 1468.13 1302.92 1472.74 Q1299.86 1477.32 1294.05 1477.32 Q1288.24 1477.32 1285.16 1472.74 Q1282.11 1468.13 1282.11 1459.41 Q1282.11 1450.66 1285.16 1446.07 Q1288.24 1441.47 1294.05 1441.47 Z\" fill=\"#000000\" fill-rule=\"evenodd\" fill-opacity=\"1\" /><path clip-path=\"url(#clip7500)\" d=\"M 0 0 M1767.41 1472.72 L1775.05 1472.72 L1775.05 1446.35 L1766.73 1448.02 L1766.73 1443.76 L1775 1442.09 L1779.67 1442.09 L1779.67 1472.72 L1787.31 1472.72 L1787.31 1476.65 L1767.41 1476.65 L1767.41 1472.72 Z\" fill=\"#000000\" fill-rule=\"evenodd\" fill-opacity=\"1\" /><path clip-path=\"url(#clip7500)\" d=\"M 0 0 M1802.38 1460.24 Q1799.05 1460.24 1797.13 1462.02 Q1795.23 1463.8 1795.23 1466.93 Q1795.23 1470.05 1797.13 1471.84 Q1799.05 1473.62 1802.38 1473.62 Q1805.72 1473.62 1807.64 1471.84 Q1809.56 1470.03 1809.56 1466.93 Q1809.56 1463.8 1807.64 1462.02 Q1805.74 1460.24 1802.38 1460.24 M1797.71 1458.25 Q1794.7 1457.51 1793.01 1455.45 Q1791.34 1453.39 1791.34 1450.43 Q1791.34 1446.28 1794.28 1443.87 Q1797.24 1441.47 1802.38 1441.47 Q1807.54 1441.47 1810.48 1443.87 Q1813.42 1446.28 1813.42 1450.43 Q1813.42 1453.39 1811.73 1455.45 Q1810.07 1457.51 1807.08 1458.25 Q1810.46 1459.04 1812.34 1461.33 Q1814.23 1463.62 1814.23 1466.93 Q1814.23 1471.95 1811.16 1474.64 Q1808.1 1477.32 1802.38 1477.32 Q1796.67 1477.32 1793.59 1474.64 Q1790.53 1471.95 1790.53 1466.93 Q1790.53 1463.62 1792.43 1461.33 Q1794.33 1459.04 1797.71 1458.25 M1795.99 1450.86 Q1795.99 1453.55 1797.66 1455.05 Q1799.35 1456.56 1802.38 1456.56 Q1805.39 1456.56 1807.08 1455.05 Q1808.79 1453.55 1808.79 1450.86 Q1808.79 1448.18 1807.08 1446.68 Q1805.39 1445.17 1802.38 1445.17 Q1799.35 1445.17 1797.66 1446.68 Q1795.99 1448.18 1795.99 1450.86 Z\" fill=\"#000000\" fill-rule=\"evenodd\" fill-opacity=\"1\" /><path clip-path=\"url(#clip7500)\" d=\"M 0 0 M1829.3 1445.17 Q1825.69 1445.17 1823.86 1448.74 Q1822.06 1452.28 1822.06 1459.41 Q1822.06 1466.51 1823.86 1470.08 Q1825.69 1473.62 1829.3 1473.62 Q1832.94 1473.62 1834.74 1470.08 Q1836.57 1466.51 1836.57 1459.41 Q1836.57 1452.28 1834.74 1448.74 Q1832.94 1445.17 1829.3 1445.17 M1829.3 1441.47 Q1835.11 1441.47 1838.17 1446.07 Q1841.25 1450.66 1841.25 1459.41 Q1841.25 1468.13 1838.17 1472.74 Q1835.11 1477.32 1829.3 1477.32 Q1823.49 1477.32 1820.42 1472.74 Q1817.36 1468.13 1817.36 1459.41 Q1817.36 1450.66 1820.42 1446.07 Q1823.49 1441.47 1829.3 1441.47 Z\" fill=\"#000000\" fill-rule=\"evenodd\" fill-opacity=\"1\" /><path clip-path=\"url(#clip7500)\" d=\"M 0 0 M2307.01 1472.72 L2323.33 1472.72 L2323.33 1476.65 L2301.39 1476.65 L2301.39 1472.72 Q2304.05 1469.96 2308.63 1465.33 Q2313.24 1460.68 2314.42 1459.34 Q2316.66 1456.81 2317.54 1455.08 Q2318.45 1453.32 2318.45 1451.63 Q2318.45 1448.87 2316.5 1447.14 Q2314.58 1445.4 2311.48 1445.4 Q2309.28 1445.4 2306.83 1446.17 Q2304.39 1446.93 2301.62 1448.48 L2301.62 1443.76 Q2304.44 1442.62 2306.89 1442.05 Q2309.35 1441.47 2311.39 1441.47 Q2316.76 1441.47 2319.95 1444.15 Q2323.14 1446.84 2323.14 1451.33 Q2323.14 1453.46 2322.33 1455.38 Q2321.55 1457.28 2319.44 1459.87 Q2318.86 1460.54 2315.76 1463.76 Q2312.66 1466.95 2307.01 1472.72 Z\" fill=\"#000000\" fill-rule=\"evenodd\" fill-opacity=\"1\" /><path clip-path=\"url(#clip7500)\" d=\"M 0 0 M2338.4 1445.17 Q2334.79 1445.17 2332.96 1448.74 Q2331.15 1452.28 2331.15 1459.41 Q2331.15 1466.51 2332.96 1470.08 Q2334.79 1473.62 2338.4 1473.62 Q2342.03 1473.62 2343.84 1470.08 Q2345.67 1466.51 2345.67 1459.41 Q2345.67 1452.28 2343.84 1448.74 Q2342.03 1445.17 2338.4 1445.17 M2338.4 1441.47 Q2344.21 1441.47 2347.26 1446.07 Q2350.34 1450.66 2350.34 1459.41 Q2350.34 1468.13 2347.26 1472.74 Q2344.21 1477.32 2338.4 1477.32 Q2332.59 1477.32 2329.51 1472.74 Q2326.45 1468.13 2326.45 1459.41 Q2326.45 1450.66 2329.51 1446.07 Q2332.59 1441.47 2338.4 1441.47 Z\" fill=\"#000000\" fill-rule=\"evenodd\" fill-opacity=\"1\" /><path clip-path=\"url(#clip7500)\" d=\"M 0 0 M2365.41 1445.17 Q2361.8 1445.17 2359.97 1448.74 Q2358.17 1452.28 2358.17 1459.41 Q2358.17 1466.51 2359.97 1470.08 Q2361.8 1473.62 2365.41 1473.62 Q2369.05 1473.62 2370.85 1470.08 Q2372.68 1466.51 2372.68 1459.41 Q2372.68 1452.28 2370.85 1448.74 Q2369.05 1445.17 2365.41 1445.17 M2365.41 1441.47 Q2371.22 1441.47 2374.28 1446.07 Q2377.36 1450.66 2377.36 1459.41 Q2377.36 1468.13 2374.28 1472.74 Q2371.22 1477.32 2365.41 1477.32 Q2359.6 1477.32 2356.52 1472.74 Q2353.47 1468.13 2353.47 1459.41 Q2353.47 1450.66 2356.52 1446.07 Q2359.6 1441.47 2365.41 1441.47 Z\" fill=\"#000000\" fill-rule=\"evenodd\" fill-opacity=\"1\" /><path clip-path=\"url(#clip7500)\" d=\"M 0 0 M162.325 1258.85 Q159.177 1258.85 157.325 1261.01 Q155.496 1263.16 155.496 1266.91 Q155.496 1270.64 157.325 1272.81 Q159.177 1274.96 162.325 1274.96 Q165.473 1274.96 167.302 1272.81 Q169.153 1270.64 169.153 1266.91 Q169.153 1263.16 167.302 1261.01 Q165.473 1258.85 162.325 1258.85 M171.607 1244.2 L171.607 1248.46 Q169.848 1247.63 168.042 1247.19 Q166.26 1246.75 164.501 1246.75 Q159.871 1246.75 157.417 1249.87 Q154.987 1253 154.64 1259.32 Q156.005 1257.3 158.066 1256.24 Q160.126 1255.15 162.603 1255.15 Q167.811 1255.15 170.82 1258.32 Q173.852 1261.47 173.852 1266.91 Q173.852 1272.23 170.704 1275.45 Q167.556 1278.67 162.325 1278.67 Q156.329 1278.67 153.158 1274.08 Q149.987 1269.48 149.987 1260.75 Q149.987 1252.56 153.876 1247.7 Q157.765 1242.81 164.316 1242.81 Q166.075 1242.81 167.857 1243.16 Q169.663 1243.51 171.607 1244.2 Z\" fill=\"#000000\" fill-rule=\"evenodd\" fill-opacity=\"1\" /><path clip-path=\"url(#clip7500)\" d=\"M 0 0 M162.001 936.657 Q158.667 936.657 156.746 938.44 Q154.848 940.222 154.848 943.347 Q154.848 946.472 156.746 948.255 Q158.667 950.037 162.001 950.037 Q165.334 950.037 167.255 948.255 Q169.177 946.449 169.177 943.347 Q169.177 940.222 167.255 938.44 Q165.357 936.657 162.001 936.657 M157.325 934.667 Q154.316 933.926 152.626 931.866 Q150.959 929.806 150.959 926.843 Q150.959 922.699 153.899 920.292 Q156.862 917.884 162.001 917.884 Q167.163 917.884 170.103 920.292 Q173.042 922.699 173.042 926.843 Q173.042 929.806 171.353 931.866 Q169.686 933.926 166.7 934.667 Q170.079 935.454 171.954 937.745 Q173.852 940.037 173.852 943.347 Q173.852 948.37 170.774 951.056 Q167.718 953.741 162.001 953.741 Q156.283 953.741 153.204 951.056 Q150.149 948.37 150.149 943.347 Q150.149 940.037 152.047 937.745 Q153.945 935.454 157.325 934.667 M155.612 927.283 Q155.612 929.968 157.279 931.472 Q158.968 932.977 162.001 932.977 Q165.01 932.977 166.7 931.472 Q168.413 929.968 168.413 927.283 Q168.413 924.597 166.7 923.093 Q165.01 921.588 162.001 921.588 Q158.968 921.588 157.279 923.093 Q155.612 924.597 155.612 927.283 Z\" fill=\"#000000\" fill-rule=\"evenodd\" fill-opacity=\"1\" /><path clip-path=\"url(#clip7500)\" d=\"M 0 0 M126.931 624.207 L134.57 624.207 L134.57 597.842 L126.26 599.508 L126.26 595.249 L134.524 593.583 L139.2 593.583 L139.2 624.207 L146.839 624.207 L146.839 628.143 L126.931 628.143 L126.931 624.207 Z\" fill=\"#000000\" fill-rule=\"evenodd\" fill-opacity=\"1\" /><path clip-path=\"url(#clip7500)\" d=\"M 0 0 M161.908 596.661 Q158.297 596.661 156.468 600.226 Q154.663 603.768 154.663 610.897 Q154.663 618.004 156.468 621.568 Q158.297 625.11 161.908 625.11 Q165.542 625.11 167.348 621.568 Q169.177 618.004 169.177 610.897 Q169.177 603.768 167.348 600.226 Q165.542 596.661 161.908 596.661 M161.908 592.958 Q167.718 592.958 170.774 597.564 Q173.852 602.147 173.852 610.897 Q173.852 619.624 170.774 624.231 Q167.718 628.814 161.908 628.814 Q156.098 628.814 153.019 624.231 Q149.964 619.624 149.964 610.897 Q149.964 602.147 153.019 597.564 Q156.098 592.958 161.908 592.958 Z\" fill=\"#000000\" fill-rule=\"evenodd\" fill-opacity=\"1\" /><path clip-path=\"url(#clip7500)\" d=\"M 0 0 M128.529 299.28 L136.168 299.28 L136.168 272.915 L127.857 274.581 L127.857 270.322 L136.121 268.656 L140.797 268.656 L140.797 299.28 L148.436 299.28 L148.436 303.216 L128.529 303.216 L128.529 299.28 Z\" fill=\"#000000\" fill-rule=\"evenodd\" fill-opacity=\"1\" /><path clip-path=\"url(#clip7500)\" d=\"M 0 0 M157.533 299.28 L173.852 299.28 L173.852 303.216 L151.908 303.216 L151.908 299.28 Q154.57 296.526 159.153 291.896 Q163.76 287.243 164.941 285.901 Q167.186 283.378 168.065 281.642 Q168.968 279.882 168.968 278.193 Q168.968 275.438 167.024 273.702 Q165.103 271.966 162.001 271.966 Q159.802 271.966 157.348 272.73 Q154.917 273.494 152.14 275.044 L152.14 270.322 Q154.964 269.188 157.417 268.609 Q159.871 268.031 161.908 268.031 Q167.278 268.031 170.473 270.716 Q173.667 273.401 173.667 277.892 Q173.667 280.021 172.857 281.943 Q172.07 283.841 169.964 286.433 Q169.385 287.105 166.283 290.322 Q163.181 293.517 157.533 299.28 Z\" fill=\"#000000\" fill-rule=\"evenodd\" fill-opacity=\"1\" /><path clip-path=\"url(#clip7500)\" d=\"M 0 0 M860.694 18.8205 L860.694 65.8515 L870.578 65.8515 Q883.096 65.8515 888.888 60.1802 Q894.722 54.509 894.722 42.2752 Q894.722 30.1225 888.888 24.4918 Q883.096 18.8205 870.578 18.8205 L860.694 18.8205 M852.511 12.096 L869.323 12.096 Q886.904 12.096 895.127 19.4281 Q903.35 26.7198 903.35 42.2752 Q903.35 57.9117 895.086 65.2439 Q886.822 72.576 869.323 72.576 L852.511 72.576 L852.511 12.096 Z\" fill=\"#000000\" fill-rule=\"evenodd\" fill-opacity=\"1\" /><path clip-path=\"url(#clip7500)\" d=\"M 0 0 M949.976 48.0275 L949.976 51.6733 L915.705 51.6733 Q916.192 59.3701 920.323 63.421 Q924.496 67.4314 931.909 67.4314 Q936.203 67.4314 940.213 66.3781 Q944.264 65.3249 948.234 63.2184 L948.234 70.267 Q944.224 71.9684 940.011 72.8596 Q935.798 73.7508 931.463 73.7508 Q920.607 73.7508 914.247 67.4314 Q907.928 61.1119 907.928 50.3365 Q907.928 39.1965 913.923 32.6746 Q919.959 26.1121 930.167 26.1121 Q939.322 26.1121 944.629 32.0264 Q949.976 37.9003 949.976 48.0275 M942.522 45.84 Q942.441 39.7232 939.079 36.0774 Q935.757 32.4315 930.248 32.4315 Q924.01 32.4315 920.242 35.9558 Q916.516 39.4801 915.948 45.8805 L942.522 45.84 Z\" fill=\"#000000\" fill-rule=\"evenodd\" fill-opacity=\"1\" /><path clip-path=\"url(#clip7500)\" d=\"M 0 0 M986.718 28.5427 L986.718 35.5912 Q983.558 33.9709 980.155 33.1607 Q976.753 32.3505 973.107 32.3505 Q967.557 32.3505 964.762 34.0519 Q962.007 35.7533 962.007 39.156 Q962.007 41.7486 963.992 43.2475 Q965.977 44.7058 971.972 46.0426 L974.525 46.6097 Q982.464 48.3111 985.786 51.4303 Q989.148 54.509 989.148 60.0587 Q989.148 66.3781 984.125 70.0644 Q979.143 73.7508 970.393 73.7508 Q966.747 73.7508 962.777 73.0216 Q958.848 72.3329 954.473 70.9151 L954.473 63.2184 Q958.605 65.3654 962.615 66.4591 Q966.625 67.5124 970.555 67.5124 Q975.821 67.5124 978.656 65.73 Q981.492 63.9071 981.492 60.6258 Q981.492 57.5877 979.426 55.9673 Q977.401 54.3469 970.474 52.8481 L967.881 52.2405 Q960.954 50.7821 957.875 47.7845 Q954.797 44.7463 954.797 39.4801 Q954.797 33.0797 959.334 29.5959 Q963.871 26.1121 972.216 26.1121 Q976.347 26.1121 979.993 26.7198 Q983.639 27.3274 986.718 28.5427 Z\" fill=\"#000000\" fill-rule=\"evenodd\" fill-opacity=\"1\" /><path clip-path=\"url(#clip7500)\" d=\"M 0 0 M996.967 27.2059 L1004.42 27.2059 L1004.42 72.576 L996.967 72.576 L996.967 27.2059 M996.967 9.54393 L1004.42 9.54393 L1004.42 18.9825 L996.967 18.9825 L996.967 9.54393 Z\" fill=\"#000000\" fill-rule=\"evenodd\" fill-opacity=\"1\" /><path clip-path=\"url(#clip7500)\" d=\"M 0 0 M1042.09 49.3643 Q1042.09 41.2625 1038.73 36.8065 Q1035.41 32.3505 1029.37 32.3505 Q1023.38 32.3505 1020.02 36.8065 Q1016.69 41.2625 1016.69 49.3643 Q1016.69 57.4256 1020.02 61.8816 Q1023.38 66.3376 1029.37 66.3376 Q1035.41 66.3376 1038.73 61.8816 Q1042.09 57.4256 1042.09 49.3643 M1049.55 66.9452 Q1049.55 78.5308 1044.4 84.1616 Q1039.26 89.8329 1028.64 89.8329 Q1024.72 89.8329 1021.23 89.2252 Q1017.75 88.6581 1014.47 87.4428 L1014.47 80.1917 Q1017.75 81.9741 1020.95 82.8248 Q1024.15 83.6755 1027.47 83.6755 Q1034.8 83.6755 1038.45 79.8271 Q1042.09 76.0193 1042.09 68.282 L1042.09 64.5957 Q1039.78 68.6061 1036.18 70.5911 Q1032.57 72.576 1027.55 72.576 Q1019.21 72.576 1014.1 66.2161 Q1009 59.8562 1009 49.3643 Q1009 38.832 1014.1 32.472 Q1019.21 26.1121 1027.55 26.1121 Q1032.57 26.1121 1036.18 28.0971 Q1039.78 30.082 1042.09 34.0924 L1042.09 27.2059 L1049.55 27.2059 L1049.55 66.9452 Z\" fill=\"#000000\" fill-rule=\"evenodd\" fill-opacity=\"1\" /><path clip-path=\"url(#clip7500)\" d=\"M 0 0 M1095.08 45.1919 L1095.08 72.576 L1087.63 72.576 L1087.63 45.4349 Q1087.63 38.994 1085.11 35.7938 Q1082.6 32.5936 1077.58 32.5936 Q1071.54 32.5936 1068.06 36.4419 Q1064.58 40.2903 1064.58 46.9338 L1064.58 72.576 L1057.08 72.576 L1057.08 27.2059 L1064.58 27.2059 L1064.58 34.2544 Q1067.25 30.163 1070.86 28.1376 Q1074.5 26.1121 1079.24 26.1121 Q1087.06 26.1121 1091.07 30.9732 Q1095.08 35.7938 1095.08 45.1919 Z\" fill=\"#000000\" fill-rule=\"evenodd\" fill-opacity=\"1\" /><path clip-path=\"url(#clip7500)\" d=\"M 0 0 M1146.85 32.4315 Q1140.85 32.4315 1137.37 37.1306 Q1133.89 41.7891 1133.89 49.9314 Q1133.89 58.0738 1137.33 62.7728 Q1140.81 67.4314 1146.85 67.4314 Q1152.8 67.4314 1156.29 62.7323 Q1159.77 58.0333 1159.77 49.9314 Q1159.77 41.8701 1156.29 37.1711 Q1152.8 32.4315 1146.85 32.4315 M1146.85 26.1121 Q1156.57 26.1121 1162.12 32.4315 Q1167.67 38.7509 1167.67 49.9314 Q1167.67 61.0714 1162.12 67.4314 Q1156.57 73.7508 1146.85 73.7508 Q1137.09 73.7508 1131.54 67.4314 Q1126.03 61.0714 1126.03 49.9314 Q1126.03 38.7509 1131.54 32.4315 Q1137.09 26.1121 1146.85 26.1121 Z\" fill=\"#000000\" fill-rule=\"evenodd\" fill-opacity=\"1\" /><path clip-path=\"url(#clip7500)\" d=\"M 0 0 M1198.46 9.54393 L1198.46 15.7418 L1191.33 15.7418 Q1187.32 15.7418 1185.74 17.3622 Q1184.2 18.9825 1184.2 23.1955 L1184.2 27.2059 L1196.47 27.2059 L1196.47 32.9987 L1184.2 32.9987 L1184.2 72.576 L1176.71 72.576 L1176.71 32.9987 L1169.58 32.9987 L1169.58 27.2059 L1176.71 27.2059 L1176.71 24.0462 Q1176.71 16.471 1180.23 13.0277 Q1183.75 9.54393 1191.41 9.54393 L1198.46 9.54393 Z\" fill=\"#000000\" fill-rule=\"evenodd\" fill-opacity=\"1\" /><path clip-path=\"url(#clip7500)\" d=\"M 0 0 M1232.97 12.096 L1271.21 12.096 L1271.21 18.9825 L1241.16 18.9825 L1241.16 36.8875 L1269.96 36.8875 L1269.96 43.7741 L1241.16 43.7741 L1241.16 65.6895 L1271.94 65.6895 L1271.94 72.576 L1232.97 72.576 L1232.97 12.096 Z\" fill=\"#000000\" fill-rule=\"evenodd\" fill-opacity=\"1\" /><path clip-path=\"url(#clip7500)\" d=\"M 0 0 M1317.47 27.2059 L1301.07 49.2833 L1318.32 72.576 L1309.53 72.576 L1296.33 54.752 L1283.12 72.576 L1274.33 72.576 L1291.95 48.8377 L1275.83 27.2059 L1284.62 27.2059 L1296.65 43.369 L1308.68 27.2059 L1317.47 27.2059 Z\" fill=\"#000000\" fill-rule=\"evenodd\" fill-opacity=\"1\" /><path clip-path=\"url(#clip7500)\" d=\"M 0 0 M1333.35 65.7705 L1333.35 89.8329 L1325.86 89.8329 L1325.86 27.2059 L1333.35 27.2059 L1333.35 34.0924 Q1335.7 30.0415 1339.27 28.0971 Q1342.87 26.1121 1347.86 26.1121 Q1356.12 26.1121 1361.26 32.6746 Q1366.45 39.2371 1366.45 49.9314 Q1366.45 60.6258 1361.26 67.1883 Q1356.12 73.7508 1347.86 73.7508 Q1342.87 73.7508 1339.27 71.8063 Q1335.7 69.8214 1333.35 65.7705 M1358.71 49.9314 Q1358.71 41.7081 1355.31 37.0496 Q1351.95 32.3505 1346.03 32.3505 Q1340.12 32.3505 1336.72 37.0496 Q1333.35 41.7081 1333.35 49.9314 Q1333.35 58.1548 1336.72 62.8538 Q1340.12 67.5124 1346.03 67.5124 Q1351.95 67.5124 1355.31 62.8538 Q1358.71 58.1548 1358.71 49.9314 Z\" fill=\"#000000\" fill-rule=\"evenodd\" fill-opacity=\"1\" /><path clip-path=\"url(#clip7500)\" d=\"M 0 0 M1413.08 48.0275 L1413.08 51.6733 L1378.8 51.6733 Q1379.29 59.3701 1383.42 63.421 Q1387.6 67.4314 1395.01 67.4314 Q1399.3 67.4314 1403.31 66.3781 Q1407.36 65.3249 1411.33 63.2184 L1411.33 70.267 Q1407.32 71.9684 1403.11 72.8596 Q1398.9 73.7508 1394.56 73.7508 Q1383.71 73.7508 1377.35 67.4314 Q1371.03 61.1119 1371.03 50.3365 Q1371.03 39.1965 1377.02 32.6746 Q1383.06 26.1121 1393.27 26.1121 Q1402.42 26.1121 1407.73 32.0264 Q1413.08 37.9003 1413.08 48.0275 M1405.62 45.84 Q1405.54 39.7232 1402.18 36.0774 Q1398.86 32.4315 1393.35 32.4315 Q1387.11 32.4315 1383.34 35.9558 Q1379.61 39.4801 1379.05 45.8805 L1405.62 45.84 Z\" fill=\"#000000\" fill-rule=\"evenodd\" fill-opacity=\"1\" /><path clip-path=\"url(#clip7500)\" d=\"M 0 0 M1447.18 34.1734 Q1445.93 33.4443 1444.43 33.1202 Q1442.97 32.7556 1441.19 32.7556 Q1434.87 32.7556 1431.47 36.8875 Q1428.1 40.9789 1428.1 48.6757 L1428.1 72.576 L1420.61 72.576 L1420.61 27.2059 L1428.1 27.2059 L1428.1 34.2544 Q1430.45 30.1225 1434.22 28.1376 Q1437.99 26.1121 1443.38 26.1121 Q1444.15 26.1121 1445.08 26.2337 Q1446.01 26.3147 1447.14 26.5172 L1447.18 34.1734 Z\" fill=\"#000000\" fill-rule=\"evenodd\" fill-opacity=\"1\" /><path clip-path=\"url(#clip7500)\" d=\"M 0 0 M1455 27.2059 L1462.46 27.2059 L1462.46 72.576 L1455 72.576 L1455 27.2059 M1455 9.54393 L1462.46 9.54393 L1462.46 18.9825 L1455 18.9825 L1455 9.54393 Z\" fill=\"#000000\" fill-rule=\"evenodd\" fill-opacity=\"1\" /><path clip-path=\"url(#clip7500)\" d=\"M 0 0 M1505.6 35.9153 Q1508.39 30.8922 1512.28 28.5022 Q1516.17 26.1121 1521.44 26.1121 Q1528.53 26.1121 1532.37 31.0947 Q1536.22 36.0368 1536.22 45.1919 L1536.22 72.576 L1528.73 72.576 L1528.73 45.4349 Q1528.73 38.913 1526.42 35.7533 Q1524.11 32.5936 1519.37 32.5936 Q1513.58 32.5936 1510.22 36.4419 Q1506.85 40.2903 1506.85 46.9338 L1506.85 72.576 L1499.36 72.576 L1499.36 45.4349 Q1499.36 38.8725 1497.05 35.7533 Q1494.74 32.5936 1489.92 32.5936 Q1484.21 32.5936 1480.85 36.4824 Q1477.48 40.3308 1477.48 46.9338 L1477.48 72.576 L1469.99 72.576 L1469.99 27.2059 L1477.48 27.2059 L1477.48 34.2544 Q1480.04 30.082 1483.6 28.0971 Q1487.17 26.1121 1492.07 26.1121 Q1497.01 26.1121 1500.45 28.6237 Q1503.94 31.1352 1505.6 35.9153 Z\" fill=\"#000000\" fill-rule=\"evenodd\" fill-opacity=\"1\" /><path clip-path=\"url(#clip7500)\" d=\"M 0 0 M1582.85 48.0275 L1582.85 51.6733 L1548.58 51.6733 Q1549.06 59.3701 1553.2 63.421 Q1557.37 67.4314 1564.78 67.4314 Q1569.08 67.4314 1573.09 66.3781 Q1577.14 65.3249 1581.11 63.2184 L1581.11 70.267 Q1577.1 71.9684 1572.88 72.8596 Q1568.67 73.7508 1564.34 73.7508 Q1553.48 73.7508 1547.12 67.4314 Q1540.8 61.1119 1540.8 50.3365 Q1540.8 39.1965 1546.8 32.6746 Q1552.83 26.1121 1563.04 26.1121 Q1572.19 26.1121 1577.5 32.0264 Q1582.85 37.9003 1582.85 48.0275 M1575.4 45.84 Q1575.31 39.7232 1571.95 36.0774 Q1568.63 32.4315 1563.12 32.4315 Q1556.88 32.4315 1553.12 35.9558 Q1549.39 39.4801 1548.82 45.8805 L1575.4 45.84 Z\" fill=\"#000000\" fill-rule=\"evenodd\" fill-opacity=\"1\" /><path clip-path=\"url(#clip7500)\" d=\"M 0 0 M1628.38 45.1919 L1628.38 72.576 L1620.93 72.576 L1620.93 45.4349 Q1620.93 38.994 1618.42 35.7938 Q1615.9 32.5936 1610.88 32.5936 Q1604.85 32.5936 1601.36 36.4419 Q1597.88 40.2903 1597.88 46.9338 L1597.88 72.576 L1590.38 72.576 L1590.38 27.2059 L1597.88 27.2059 L1597.88 34.2544 Q1600.55 30.163 1604.16 28.1376 Q1607.8 26.1121 1612.54 26.1121 Q1620.36 26.1121 1624.37 30.9732 Q1628.38 35.7938 1628.38 45.1919 Z\" fill=\"#000000\" fill-rule=\"evenodd\" fill-opacity=\"1\" /><path clip-path=\"url(#clip7500)\" d=\"M 0 0 M1643.57 14.324 L1643.57 27.2059 L1658.92 27.2059 L1658.92 32.9987 L1643.57 32.9987 L1643.57 57.6282 Q1643.57 63.1779 1645.07 64.7578 Q1646.61 66.3376 1651.27 66.3376 L1658.92 66.3376 L1658.92 72.576 L1651.27 72.576 Q1642.64 72.576 1639.36 69.3758 Q1636.08 66.1351 1636.08 57.6282 L1636.08 32.9987 L1630.61 32.9987 L1630.61 27.2059 L1636.08 27.2059 L1636.08 14.324 L1643.57 14.324 Z\" fill=\"#000000\" fill-rule=\"evenodd\" fill-opacity=\"1\" /><path clip-path=\"url(#clip7500)\" d=\"M 0 0 M1695.67 28.5427 L1695.67 35.5912 Q1692.51 33.9709 1689.1 33.1607 Q1685.7 32.3505 1682.06 32.3505 Q1676.51 32.3505 1673.71 34.0519 Q1670.96 35.7533 1670.96 39.156 Q1670.96 41.7486 1672.94 43.2475 Q1674.93 44.7058 1680.92 46.0426 L1683.47 46.6097 Q1691.41 48.3111 1694.73 51.4303 Q1698.1 54.509 1698.1 60.0587 Q1698.1 66.3781 1693.07 70.0644 Q1688.09 73.7508 1679.34 73.7508 Q1675.7 73.7508 1671.73 73.0216 Q1667.8 72.3329 1663.42 70.9151 L1663.42 63.2184 Q1667.55 65.3654 1671.56 66.4591 Q1675.57 67.5124 1679.5 67.5124 Q1684.77 67.5124 1687.61 65.73 Q1690.44 63.9071 1690.44 60.6258 Q1690.44 57.5877 1688.37 55.9673 Q1686.35 54.3469 1679.42 52.8481 L1676.83 52.2405 Q1669.9 50.7821 1666.82 47.7845 Q1663.75 44.7463 1663.75 39.4801 Q1663.75 33.0797 1668.28 29.5959 Q1672.82 26.1121 1681.16 26.1121 Q1685.3 26.1121 1688.94 26.7198 Q1692.59 27.3274 1695.67 28.5427 Z\" fill=\"#000000\" fill-rule=\"evenodd\" fill-opacity=\"1\" /><path clip-path=\"url(#clip7500)\" d=\"M 0 0 M1027.25 1508.52 L1034.16 1508.52 L1047.33 1528.07 L1060.41 1508.52 L1067.32 1508.52 L1050.52 1533.41 L1050.52 1556.04 L1044.05 1556.04 L1044.05 1533.41 L1027.25 1508.52 Z\" fill=\"#000000\" fill-rule=\"evenodd\" fill-opacity=\"1\" /><path clip-path=\"url(#clip7500)\" d=\"M 0 0 M1078.62 1524.5 Q1073.91 1524.5 1071.17 1528.19 Q1068.43 1531.85 1068.43 1538.25 Q1068.43 1544.65 1071.14 1548.34 Q1073.88 1552 1078.62 1552 Q1083.3 1552 1086.04 1548.31 Q1088.77 1544.62 1088.77 1538.25 Q1088.77 1531.92 1086.04 1528.23 Q1083.3 1524.5 1078.62 1524.5 M1078.62 1519.54 Q1086.26 1519.54 1090.62 1524.5 Q1094.98 1529.47 1094.98 1538.25 Q1094.98 1547 1090.62 1552 Q1086.26 1556.97 1078.62 1556.97 Q1070.95 1556.97 1066.59 1552 Q1062.26 1547 1062.26 1538.25 Q1062.26 1529.47 1066.59 1524.5 Q1070.95 1519.54 1078.62 1519.54 Z\" fill=\"#000000\" fill-rule=\"evenodd\" fill-opacity=\"1\" /><path clip-path=\"url(#clip7500)\" d=\"M 0 0 M1100.52 1541.98 L1100.52 1520.4 L1106.37 1520.4 L1106.37 1541.75 Q1106.37 1546.81 1108.35 1549.36 Q1110.32 1551.87 1114.27 1551.87 Q1119.01 1551.87 1121.75 1548.85 Q1124.52 1545.83 1124.52 1540.61 L1124.52 1520.4 L1130.37 1520.4 L1130.37 1556.04 L1124.52 1556.04 L1124.52 1550.57 Q1122.38 1553.82 1119.55 1555.41 Q1116.75 1556.97 1113.03 1556.97 Q1106.88 1556.97 1103.7 1553.15 Q1100.52 1549.33 1100.52 1541.98 M1115.25 1519.54 L1115.25 1519.54 Z\" fill=\"#000000\" fill-rule=\"evenodd\" fill-opacity=\"1\" /><path clip-path=\"url(#clip7500)\" d=\"M 0 0 M1166.15 1534.53 L1166.15 1556.04 L1160.29 1556.04 L1160.29 1534.72 Q1160.29 1529.66 1158.32 1527.14 Q1156.35 1524.63 1152.4 1524.63 Q1147.66 1524.63 1144.92 1527.65 Q1142.18 1530.68 1142.18 1535.9 L1142.18 1556.04 L1136.29 1556.04 L1136.29 1520.4 L1142.18 1520.4 L1142.18 1525.93 Q1144.28 1522.72 1147.11 1521.13 Q1149.98 1519.54 1153.7 1519.54 Q1159.85 1519.54 1163 1523.36 Q1166.15 1527.14 1166.15 1534.53 Z\" fill=\"#000000\" fill-rule=\"evenodd\" fill-opacity=\"1\" /><path clip-path=\"url(#clip7500)\" d=\"M 0 0 M1195.75 1537.81 Q1195.75 1531.44 1193.11 1527.94 Q1190.5 1524.44 1185.75 1524.44 Q1181.04 1524.44 1178.4 1527.94 Q1175.79 1531.44 1175.79 1537.81 Q1175.79 1544.14 1178.4 1547.64 Q1181.04 1551.14 1185.75 1551.14 Q1190.5 1551.14 1193.11 1547.64 Q1195.75 1544.14 1195.75 1537.81 M1201.61 1551.62 Q1201.61 1560.72 1197.56 1565.15 Q1193.52 1569.6 1185.18 1569.6 Q1182.09 1569.6 1179.36 1569.13 Q1176.62 1568.68 1174.04 1567.72 L1174.04 1562.03 Q1176.62 1563.43 1179.13 1564.1 Q1181.65 1564.76 1184.26 1564.76 Q1190.02 1564.76 1192.88 1561.74 Q1195.75 1558.75 1195.75 1552.67 L1195.75 1549.77 Q1193.93 1552.92 1191.1 1554.48 Q1188.27 1556.04 1184.32 1556.04 Q1177.77 1556.04 1173.76 1551.05 Q1169.74 1546.05 1169.74 1537.81 Q1169.74 1529.53 1173.76 1524.53 Q1177.77 1519.54 1184.32 1519.54 Q1188.27 1519.54 1191.1 1521.1 Q1193.93 1522.66 1195.75 1525.81 L1195.75 1520.4 L1201.61 1520.4 L1201.61 1551.62 Z\" fill=\"#000000\" fill-rule=\"evenodd\" fill-opacity=\"1\" /><path clip-path=\"url(#clip7500)\" d=\"M 0 0 M1256.22 1527.24 Q1258.42 1523.29 1261.47 1521.41 Q1264.53 1519.54 1268.67 1519.54 Q1274.24 1519.54 1277.26 1523.45 Q1280.29 1527.33 1280.29 1534.53 L1280.29 1556.04 L1274.4 1556.04 L1274.4 1534.72 Q1274.4 1529.59 1272.58 1527.11 Q1270.77 1524.63 1267.04 1524.63 Q1262.49 1524.63 1259.85 1527.65 Q1257.21 1530.68 1257.21 1535.9 L1257.21 1556.04 L1251.32 1556.04 L1251.32 1534.72 Q1251.32 1529.56 1249.51 1527.11 Q1247.69 1524.63 1243.91 1524.63 Q1239.42 1524.63 1236.78 1527.68 Q1234.13 1530.71 1234.13 1535.9 L1234.13 1556.04 L1228.25 1556.04 L1228.25 1520.4 L1234.13 1520.4 L1234.13 1525.93 Q1236.14 1522.66 1238.94 1521.1 Q1241.74 1519.54 1245.59 1519.54 Q1249.48 1519.54 1252.18 1521.51 Q1254.92 1523.48 1256.22 1527.24 Z\" fill=\"#000000\" fill-rule=\"evenodd\" fill-opacity=\"1\" /><path clip-path=\"url(#clip7500)\" d=\"M 0 0 M1300.24 1524.5 Q1295.53 1524.5 1292.79 1528.19 Q1290.06 1531.85 1290.06 1538.25 Q1290.06 1544.65 1292.76 1548.34 Q1295.5 1552 1300.24 1552 Q1304.92 1552 1307.66 1548.31 Q1310.4 1544.62 1310.4 1538.25 Q1310.4 1531.92 1307.66 1528.23 Q1304.92 1524.5 1300.24 1524.5 M1300.24 1519.54 Q1307.88 1519.54 1312.24 1524.5 Q1316.6 1529.47 1316.6 1538.25 Q1316.6 1547 1312.24 1552 Q1307.88 1556.97 1300.24 1556.97 Q1292.57 1556.97 1288.21 1552 Q1283.88 1547 1283.88 1538.25 Q1283.88 1529.47 1288.21 1524.5 Q1292.57 1519.54 1300.24 1519.54 Z\" fill=\"#000000\" fill-rule=\"evenodd\" fill-opacity=\"1\" /><path clip-path=\"url(#clip7500)\" d=\"M 0 0 M1346.2 1525.81 L1346.2 1506.52 L1352.06 1506.52 L1352.06 1556.04 L1346.2 1556.04 L1346.2 1550.7 Q1344.36 1553.88 1341.52 1555.44 Q1338.72 1556.97 1334.78 1556.97 Q1328.31 1556.97 1324.24 1551.81 Q1320.2 1546.65 1320.2 1538.25 Q1320.2 1529.85 1324.24 1524.69 Q1328.31 1519.54 1334.78 1519.54 Q1338.72 1519.54 1341.52 1521.1 Q1344.36 1522.62 1346.2 1525.81 M1326.25 1538.25 Q1326.25 1544.71 1328.89 1548.4 Q1331.56 1552.07 1336.21 1552.07 Q1340.86 1552.07 1343.53 1548.4 Q1346.2 1544.71 1346.2 1538.25 Q1346.2 1531.79 1343.53 1528.13 Q1340.86 1524.44 1336.21 1524.44 Q1331.56 1524.44 1328.89 1528.13 Q1326.25 1531.79 1326.25 1538.25 Z\" fill=\"#000000\" fill-rule=\"evenodd\" fill-opacity=\"1\" /><path clip-path=\"url(#clip7500)\" d=\"M 0 0 M1357.6 1541.98 L1357.6 1520.4 L1363.45 1520.4 L1363.45 1541.75 Q1363.45 1546.81 1365.43 1549.36 Q1367.4 1551.87 1371.35 1551.87 Q1376.09 1551.87 1378.83 1548.85 Q1381.6 1545.83 1381.6 1540.61 L1381.6 1520.4 L1387.45 1520.4 L1387.45 1556.04 L1381.6 1556.04 L1381.6 1550.57 Q1379.46 1553.82 1376.63 1555.41 Q1373.83 1556.97 1370.11 1556.97 Q1363.96 1556.97 1360.78 1553.15 Q1357.6 1549.33 1357.6 1541.98 M1372.33 1519.54 L1372.33 1519.54 Z\" fill=\"#000000\" fill-rule=\"evenodd\" fill-opacity=\"1\" /><path clip-path=\"url(#clip7500)\" d=\"M 0 0 M1393.59 1506.52 L1399.45 1506.52 L1399.45 1556.04 L1393.59 1556.04 L1393.59 1506.52 Z\" fill=\"#000000\" fill-rule=\"evenodd\" fill-opacity=\"1\" /><path clip-path=\"url(#clip7500)\" d=\"M 0 0 M1404.99 1541.98 L1404.99 1520.4 L1410.85 1520.4 L1410.85 1541.75 Q1410.85 1546.81 1412.82 1549.36 Q1414.79 1551.87 1418.74 1551.87 Q1423.48 1551.87 1426.22 1548.85 Q1428.99 1545.83 1428.99 1540.61 L1428.99 1520.4 L1434.84 1520.4 L1434.84 1556.04 L1428.99 1556.04 L1428.99 1550.57 Q1426.86 1553.82 1424.02 1555.41 Q1421.22 1556.97 1417.5 1556.97 Q1411.36 1556.97 1408.17 1553.15 Q1404.99 1549.33 1404.99 1541.98 M1419.73 1519.54 L1419.73 1519.54 Z\" fill=\"#000000\" fill-rule=\"evenodd\" fill-opacity=\"1\" /><path clip-path=\"url(#clip7500)\" d=\"M 0 0 M1463.71 1521.45 L1463.71 1526.98 Q1461.23 1525.71 1458.56 1525.07 Q1455.88 1524.44 1453.02 1524.44 Q1448.66 1524.44 1446.46 1525.77 Q1444.3 1527.11 1444.3 1529.79 Q1444.3 1531.82 1445.86 1533 Q1447.42 1534.15 1452.13 1535.2 L1454.13 1535.64 Q1460.37 1536.98 1462.98 1539.43 Q1465.62 1541.85 1465.62 1546.21 Q1465.62 1551.17 1461.68 1554.07 Q1457.76 1556.97 1450.89 1556.97 Q1448.02 1556.97 1444.9 1556.39 Q1441.82 1555.85 1438.38 1554.74 L1438.38 1548.69 Q1441.62 1550.38 1444.78 1551.24 Q1447.93 1552.07 1451.01 1552.07 Q1455.15 1552.07 1457.38 1550.66 Q1459.61 1549.23 1459.61 1546.65 Q1459.61 1544.27 1457.98 1542.99 Q1456.39 1541.72 1450.95 1540.54 L1448.91 1540.07 Q1443.47 1538.92 1441.05 1536.56 Q1438.63 1534.18 1438.63 1530.04 Q1438.63 1525.01 1442.2 1522.27 Q1445.76 1519.54 1452.32 1519.54 Q1455.57 1519.54 1458.43 1520.01 Q1461.29 1520.49 1463.71 1521.45 Z\" fill=\"#000000\" fill-rule=\"evenodd\" fill-opacity=\"1\" /><path clip-path=\"url(#clip7500)\" d=\"M 0 0 M1492.74 1508.52 L1522.79 1508.52 L1522.79 1513.93 L1499.17 1513.93 L1499.17 1528 L1521.8 1528 L1521.8 1533.41 L1499.17 1533.41 L1499.17 1550.63 L1523.36 1550.63 L1523.36 1556.04 L1492.74 1556.04 L1492.74 1508.52 Z\" fill=\"#000000\" fill-rule=\"evenodd\" fill-opacity=\"1\" /><path clip-path=\"url(#clip7500)\" d=\"M 0 0 M44.1444 962.181 L50.9239 962.181 Q47.9002 965.427 46.4043 969.119 Q44.9083 972.779 44.9083 976.917 Q44.9083 985.065 49.9054 989.394 Q54.8707 993.723 64.2919 993.723 Q73.6813 993.723 78.6784 989.394 Q83.6436 985.065 83.6436 976.917 Q83.6436 972.779 82.1477 969.119 Q80.6518 965.427 77.6281 962.181 L84.3439 962.181 Q86.6355 965.554 87.7814 969.342 Q88.9272 973.098 88.9272 977.299 Q88.9272 988.089 82.3387 994.296 Q75.7183 1000.5 64.2919 1000.5 Q52.8336 1000.5 46.2451 994.296 Q39.6248 988.089 39.6248 977.299 Q39.6248 973.034 40.7706 969.278 Q41.8846 965.491 44.1444 962.181 Z\" fill=\"#000000\" fill-rule=\"evenodd\" fill-opacity=\"1\" /><path clip-path=\"url(#clip7500)\" d=\"M 0 0 M57.8307 935.381 Q57.2578 936.368 57.0032 937.545 Q56.7167 938.691 56.7167 940.092 Q56.7167 945.057 59.9632 947.73 Q63.1779 950.372 69.2253 950.372 L88.0042 950.372 L88.0042 956.26 L52.3562 956.26 L52.3562 950.372 L57.8944 950.372 Q54.6479 948.526 53.0883 945.566 Q51.4968 942.606 51.4968 938.373 Q51.4968 937.768 51.5923 937.036 Q51.656 936.304 51.8151 935.413 L57.8307 935.381 Z\" fill=\"#000000\" fill-rule=\"evenodd\" fill-opacity=\"1\" /><path clip-path=\"url(#clip7500)\" d=\"M 0 0 M56.4621 916.857 Q56.4621 921.567 60.1542 924.305 Q63.8145 927.042 70.212 927.042 Q76.6095 927.042 80.3017 924.336 Q83.9619 921.599 83.9619 916.857 Q83.9619 912.178 80.2698 909.441 Q76.5777 906.703 70.212 906.703 Q63.8781 906.703 60.186 909.441 Q56.4621 912.178 56.4621 916.857 M51.4968 916.857 Q51.4968 909.218 56.4621 904.857 Q61.4273 900.497 70.212 900.497 Q78.9649 900.497 83.9619 904.857 Q88.9272 909.218 88.9272 916.857 Q88.9272 924.527 83.9619 928.888 Q78.9649 933.217 70.212 933.217 Q61.4273 933.217 56.4621 928.888 Q51.4968 924.527 51.4968 916.857 Z\" fill=\"#000000\" fill-rule=\"evenodd\" fill-opacity=\"1\" /><path clip-path=\"url(#clip7500)\" d=\"M 0 0 M53.4065 871.628 L58.9447 871.628 Q57.6716 874.111 57.035 876.785 Q56.3984 879.458 56.3984 882.323 Q56.3984 886.683 57.7352 888.879 Q59.072 891.044 61.7456 891.044 Q63.7826 891.044 64.9603 889.484 Q66.1061 887.925 67.1565 883.214 L67.6021 881.209 Q68.9389 874.97 71.3897 872.36 Q73.8086 869.719 78.1691 869.719 Q83.1344 869.719 86.0308 873.665 Q88.9272 877.58 88.9272 884.455 Q88.9272 887.32 88.3543 890.439 Q87.8132 893.526 86.6992 896.964 L80.6518 896.964 Q82.3387 893.717 83.198 890.566 Q84.0256 887.415 84.0256 884.328 Q84.0256 880.19 82.6251 877.962 Q81.1929 875.734 78.6147 875.734 Q76.2276 875.734 74.9545 877.358 Q73.6813 878.949 72.5037 884.392 L72.0262 886.429 Q70.8804 891.871 68.5251 894.29 Q66.138 896.709 62.0002 896.709 Q56.9713 896.709 54.2341 893.144 Q51.4968 889.58 51.4968 883.023 Q51.4968 879.777 51.9743 876.912 Q52.4517 874.047 53.4065 871.628 Z\" fill=\"#000000\" fill-rule=\"evenodd\" fill-opacity=\"1\" /><path clip-path=\"url(#clip7500)\" d=\"M 0 0 M53.4065 840.85 L58.9447 840.85 Q57.6716 843.333 57.035 846.006 Q56.3984 848.68 56.3984 851.545 Q56.3984 855.905 57.7352 858.101 Q59.072 860.266 61.7456 860.266 Q63.7826 860.266 64.9603 858.706 Q66.1061 857.146 67.1565 852.436 L67.6021 850.431 Q68.9389 844.192 71.3897 841.582 Q73.8086 838.941 78.1691 838.941 Q83.1344 838.941 86.0308 842.887 Q88.9272 846.802 88.9272 853.677 Q88.9272 856.542 88.3543 859.661 Q87.8132 862.748 86.6992 866.186 L80.6518 866.186 Q82.3387 862.939 83.198 859.788 Q84.0256 856.637 84.0256 853.55 Q84.0256 849.412 82.6251 847.184 Q81.1929 844.956 78.6147 844.956 Q76.2276 844.956 74.9545 846.579 Q73.6813 848.171 72.5037 853.613 L72.0262 855.65 Q70.8804 861.093 68.5251 863.512 Q66.138 865.931 62.0002 865.931 Q56.9713 865.931 54.2341 862.366 Q51.4968 858.802 51.4968 852.245 Q51.4968 848.998 51.9743 846.134 Q52.4517 843.269 53.4065 840.85 Z\" fill=\"#000000\" fill-rule=\"evenodd\" fill-opacity=\"1\" /><path clip-path=\"url(#clip7500)\" d=\"M 0 0 M53.4065 789.352 L58.9447 789.352 Q57.6716 791.834 57.035 794.508 Q56.3984 797.181 56.3984 800.046 Q56.3984 804.407 57.7352 806.603 Q59.072 808.767 61.7456 808.767 Q63.7826 808.767 64.9603 807.207 Q66.1061 805.648 67.1565 800.937 L67.6021 798.932 Q68.9389 792.694 71.3897 790.084 Q73.8086 787.442 78.1691 787.442 Q83.1344 787.442 86.0308 791.389 Q88.9272 795.304 88.9272 802.179 Q88.9272 805.043 88.3543 808.162 Q87.8132 811.25 86.6992 814.687 L80.6518 814.687 Q82.3387 811.441 83.198 808.29 Q84.0256 805.139 84.0256 802.051 Q84.0256 797.914 82.6251 795.686 Q81.1929 793.458 78.6147 793.458 Q76.2276 793.458 74.9545 795.081 Q73.6813 796.672 72.5037 802.115 L72.0262 804.152 Q70.8804 809.595 68.5251 812.014 Q66.138 814.433 62.0002 814.433 Q56.9713 814.433 54.2341 810.868 Q51.4968 807.303 51.4968 800.746 Q51.4968 797.5 51.9743 794.635 Q52.4517 791.771 53.4065 789.352 Z\" fill=\"#000000\" fill-rule=\"evenodd\" fill-opacity=\"1\" /><path clip-path=\"url(#clip7500)\" d=\"M 0 0 M68.7161 750.807 L71.5806 750.807 L71.5806 777.734 Q77.6281 777.352 80.8109 774.106 Q83.9619 770.827 83.9619 765.003 Q83.9619 761.629 83.1344 758.478 Q82.3069 755.295 80.6518 752.176 L86.1899 752.176 Q87.5267 755.327 88.227 758.637 Q88.9272 761.947 88.9272 765.353 Q88.9272 773.883 83.9619 778.88 Q78.9967 783.845 70.5303 783.845 Q61.7774 783.845 56.6531 779.135 Q51.4968 774.392 51.4968 766.371 Q51.4968 759.178 56.1438 755.009 Q60.7589 750.807 68.7161 750.807 M66.9973 756.664 Q62.1912 756.727 59.3266 759.369 Q56.4621 761.979 56.4621 766.308 Q56.4621 771.209 59.2312 774.169 Q62.0002 777.098 67.0292 777.543 L66.9973 756.664 Z\" fill=\"#000000\" fill-rule=\"evenodd\" fill-opacity=\"1\" /><path clip-path=\"url(#clip7500)\" d=\"M 0 0 M53.7248 719.011 L59.1993 719.011 Q57.8307 721.493 57.1623 724.008 Q56.4621 726.49 56.4621 729.037 Q56.4621 734.734 60.0905 737.885 Q63.6872 741.036 70.212 741.036 Q76.7369 741.036 80.3653 737.885 Q83.9619 734.734 83.9619 729.037 Q83.9619 726.49 83.2935 724.008 Q82.5933 721.493 81.2247 719.011 L86.6355 719.011 Q87.7814 721.461 88.3543 724.103 Q88.9272 726.713 88.9272 729.673 Q88.9272 737.726 83.8664 742.468 Q78.8057 747.211 70.212 747.211 Q61.491 747.211 56.4939 742.436 Q51.4968 737.63 51.4968 729.291 Q51.4968 726.586 52.0697 724.008 Q52.6108 721.43 53.7248 719.011 Z\" fill=\"#000000\" fill-rule=\"evenodd\" fill-opacity=\"1\" /><path clip-path=\"url(#clip7500)\" d=\"M 0 0 M42.2347 707.075 L52.3562 707.075 L52.3562 695.012 L56.9077 695.012 L56.9077 707.075 L76.2594 707.075 Q80.6199 707.075 81.8613 705.897 Q83.1026 704.688 83.1026 701.027 L83.1026 695.012 L88.0042 695.012 L88.0042 701.027 Q88.0042 707.807 85.4897 710.385 Q82.9434 712.963 76.2594 712.963 L56.9077 712.963 L56.9077 717.26 L52.3562 717.26 L52.3562 712.963 L42.2347 712.963 L42.2347 707.075 Z\" fill=\"#000000\" fill-rule=\"evenodd\" fill-opacity=\"1\" /><path clip-path=\"url(#clip7500)\" d=\"M 0 0 M52.3562 688.869 L52.3562 683.013 L88.0042 683.013 L88.0042 688.869 L52.3562 688.869 M38.479 688.869 L38.479 683.013 L45.895 683.013 L45.895 688.869 L38.479 688.869 Z\" fill=\"#000000\" fill-rule=\"evenodd\" fill-opacity=\"1\" /><path clip-path=\"url(#clip7500)\" d=\"M 0 0 M56.4621 663.056 Q56.4621 667.767 60.1542 670.504 Q63.8145 673.241 70.212 673.241 Q76.6095 673.241 80.3017 670.536 Q83.9619 667.798 83.9619 663.056 Q83.9619 658.377 80.2698 655.64 Q76.5777 652.903 70.212 652.903 Q63.8781 652.903 60.186 655.64 Q56.4621 658.377 56.4621 663.056 M51.4968 663.056 Q51.4968 655.417 56.4621 651.057 Q61.4273 646.696 70.212 646.696 Q78.9649 646.696 83.9619 651.057 Q88.9272 655.417 88.9272 663.056 Q88.9272 670.727 83.9619 675.087 Q78.9649 679.416 70.212 679.416 Q61.4273 679.416 56.4621 675.087 Q51.4968 670.727 51.4968 663.056 Z\" fill=\"#000000\" fill-rule=\"evenodd\" fill-opacity=\"1\" /><path clip-path=\"url(#clip7500)\" d=\"M 0 0 M66.4881 610.921 L88.0042 610.921 L88.0042 616.777 L66.679 616.777 Q61.6183 616.777 59.1038 618.751 Q56.5894 620.724 56.5894 624.671 Q56.5894 629.413 59.6131 632.151 Q62.6368 634.888 67.8567 634.888 L88.0042 634.888 L88.0042 640.776 L52.3562 640.776 L52.3562 634.888 L57.8944 634.888 Q54.6797 632.787 53.0883 629.954 Q51.4968 627.09 51.4968 623.366 Q51.4968 617.223 55.3163 614.072 Q59.1038 610.921 66.4881 610.921 Z\" fill=\"#000000\" fill-rule=\"evenodd\" fill-opacity=\"1\" /><path clip-path=\"url(#clip7500)\" d=\"M 0 0 M46.818 567.921 L70.4666 576.642 L70.4666 559.168 L46.818 567.921 M40.4842 571.549 L40.4842 564.26 L88.0042 546.15 L88.0042 552.834 L75.8138 557.163 L75.8138 578.583 L88.0042 582.912 L88.0042 589.691 L40.4842 571.549 Z\" fill=\"#000000\" fill-rule=\"evenodd\" fill-opacity=\"1\" /><circle clip-path=\"url(#clip7502)\" cx=\"331.697\" cy=\"1260.72\" r=\"14\" fill=\"#0000ff\" fill-rule=\"evenodd\" fill-opacity=\"1\" stroke=\"#000000\" stroke-opacity=\"1\" stroke-width=\"3.2\"/>\n",
       "<circle clip-path=\"url(#clip7502)\" cx=\"331.697\" cy=\"935.789\" r=\"14\" fill=\"#0000ff\" fill-rule=\"evenodd\" fill-opacity=\"1\" stroke=\"#000000\" stroke-opacity=\"1\" stroke-width=\"3.2\"/>\n",
       "<circle clip-path=\"url(#clip7502)\" cx=\"331.697\" cy=\"610.863\" r=\"14\" fill=\"#0000ff\" fill-rule=\"evenodd\" fill-opacity=\"1\" stroke=\"#000000\" stroke-opacity=\"1\" stroke-width=\"3.2\"/>\n",
       "<circle clip-path=\"url(#clip7502)\" cx=\"331.697\" cy=\"285.936\" r=\"14\" fill=\"#0000ff\" fill-rule=\"evenodd\" fill-opacity=\"1\" stroke=\"#000000\" stroke-opacity=\"1\" stroke-width=\"3.2\"/>\n",
       "<circle clip-path=\"url(#clip7502)\" cx=\"1000.92\" cy=\"1260.72\" r=\"14\" fill=\"#0000ff\" fill-rule=\"evenodd\" fill-opacity=\"1\" stroke=\"#000000\" stroke-opacity=\"1\" stroke-width=\"3.2\"/>\n",
       "<circle clip-path=\"url(#clip7502)\" cx=\"1000.92\" cy=\"935.789\" r=\"14\" fill=\"#0000ff\" fill-rule=\"evenodd\" fill-opacity=\"1\" stroke=\"#000000\" stroke-opacity=\"1\" stroke-width=\"3.2\"/>\n",
       "<circle clip-path=\"url(#clip7502)\" cx=\"1000.92\" cy=\"610.863\" r=\"14\" fill=\"#0000ff\" fill-rule=\"evenodd\" fill-opacity=\"1\" stroke=\"#000000\" stroke-opacity=\"1\" stroke-width=\"3.2\"/>\n",
       "<circle clip-path=\"url(#clip7502)\" cx=\"1000.92\" cy=\"285.936\" r=\"14\" fill=\"#0000ff\" fill-rule=\"evenodd\" fill-opacity=\"1\" stroke=\"#000000\" stroke-opacity=\"1\" stroke-width=\"3.2\"/>\n",
       "<circle clip-path=\"url(#clip7502)\" cx=\"1670.15\" cy=\"1260.72\" r=\"14\" fill=\"#0000ff\" fill-rule=\"evenodd\" fill-opacity=\"1\" stroke=\"#000000\" stroke-opacity=\"1\" stroke-width=\"3.2\"/>\n",
       "<circle clip-path=\"url(#clip7502)\" cx=\"1670.15\" cy=\"935.789\" r=\"14\" fill=\"#0000ff\" fill-rule=\"evenodd\" fill-opacity=\"1\" stroke=\"#000000\" stroke-opacity=\"1\" stroke-width=\"3.2\"/>\n",
       "<circle clip-path=\"url(#clip7502)\" cx=\"1670.15\" cy=\"610.863\" r=\"14\" fill=\"#0000ff\" fill-rule=\"evenodd\" fill-opacity=\"1\" stroke=\"#000000\" stroke-opacity=\"1\" stroke-width=\"3.2\"/>\n",
       "<circle clip-path=\"url(#clip7502)\" cx=\"1670.15\" cy=\"285.936\" r=\"14\" fill=\"#0000ff\" fill-rule=\"evenodd\" fill-opacity=\"1\" stroke=\"#000000\" stroke-opacity=\"1\" stroke-width=\"3.2\"/>\n",
       "<circle clip-path=\"url(#clip7502)\" cx=\"2339.37\" cy=\"1260.72\" r=\"14\" fill=\"#0000ff\" fill-rule=\"evenodd\" fill-opacity=\"1\" stroke=\"#000000\" stroke-opacity=\"1\" stroke-width=\"3.2\"/>\n",
       "<circle clip-path=\"url(#clip7502)\" cx=\"2339.37\" cy=\"935.789\" r=\"14\" fill=\"#0000ff\" fill-rule=\"evenodd\" fill-opacity=\"1\" stroke=\"#000000\" stroke-opacity=\"1\" stroke-width=\"3.2\"/>\n",
       "<circle clip-path=\"url(#clip7502)\" cx=\"2339.37\" cy=\"610.863\" r=\"14\" fill=\"#0000ff\" fill-rule=\"evenodd\" fill-opacity=\"1\" stroke=\"#000000\" stroke-opacity=\"1\" stroke-width=\"3.2\"/>\n",
       "<circle clip-path=\"url(#clip7502)\" cx=\"2339.37\" cy=\"285.936\" r=\"14\" fill=\"#0000ff\" fill-rule=\"evenodd\" fill-opacity=\"1\" stroke=\"#000000\" stroke-opacity=\"1\" stroke-width=\"3.2\"/>\n",
       "<path clip-path=\"url(#clip7502)\" d=\"M583.387 432.399 L583.387 464.399 L615.387 464.399 L615.387 432.399 L583.387 432.399 Z\" fill=\"#638e8f\" fill-rule=\"evenodd\" fill-opacity=\"1\" stroke=\"#000000\" stroke-opacity=\"1\" stroke-width=\"3.2\"/>\n",
       "</svg>\n"
      ]
     },
     "metadata": {},
     "output_type": "display_data"
    }
   ],
   "source": [
    "p=scatter(zeros(1),zeros(1),c=:blue, leg=false,xformatter=x->string(Int(x/1e3)), xlims=(120000,200500),ylims=(5,13),bg=:darkorange);\n",
    "for i in 1:16\n",
    "scatter!([P[:,i][1]],[P[:,i][2]],c=:blue, leg=false);\n",
    "end\n",
    "scatter!([135000.],[11.], shape=:square, title=\"Design of Experiments\", xlabel=\"Young modulus E\",ylabel=\"Cross section A\");\n",
    "savefig(\"img/doe.png\");\n",
    "display(p)"
   ]
  },
  {
   "cell_type": "code",
   "execution_count": 28,
   "metadata": {},
   "outputs": [],
   "source": [
    "Pint=[(135-125)/(200-125);(11-6)/(12-6)]\n",
    "round.(Pint;digits=2);"
   ]
  },
  {
   "cell_type": "markdown",
   "metadata": {},
   "source": [
    "* Linear spline interpolation functions vector $g$"
   ]
  },
  {
   "cell_type": "code",
   "execution_count": 29,
   "metadata": {},
   "outputs": [
    {
     "data": {
      "text/plain": [
       "16-element Array{Float64,1}:\n",
       " 0.84\n",
       " 0.52\n",
       " 0.21\n",
       " 0.21\n",
       " 0.86\n",
       " 0.54\n",
       " 0.26\n",
       " 0.26\n",
       " 0.99\n",
       " 0.73\n",
       " 0.56\n",
       " 0.56\n",
       " 1.2\n",
       " 1.0\n",
       " 0.88\n",
       " 0.88"
      ]
     },
     "execution_count": 29,
     "metadata": {},
     "output_type": "execute_result"
    }
   ],
   "source": [
    "g=GlinVec(P,Pint)\n",
    "round.(g;digits=2)"
   ]
  },
  {
   "cell_type": "markdown",
   "metadata": {},
   "source": [
    "Results of the interpolated nodal displacement vector"
   ]
  },
  {
   "cell_type": "code",
   "execution_count": 30,
   "metadata": {},
   "outputs": [
    {
     "data": {
      "text/plain": [
       "10-element Array{Float64,1}:\n",
       "  -5.71\n",
       " -14.09\n",
       "  -0.44\n",
       " -15.74\n",
       "   3.51\n",
       "  -8.17\n",
       "  -1.32\n",
       " -17.55\n",
       "  -1.32\n",
       " -13.93"
      ]
     },
     "execution_count": 30,
     "metadata": {},
     "output_type": "execute_result"
    }
   ],
   "source": [
    "ũ=ϕ*B*g\n",
    "round.(ũ;digits=2)"
   ]
  },
  {
   "cell_type": "markdown",
   "metadata": {},
   "source": [
    "to be compared to the result of the full high fidelity fem results"
   ]
  },
  {
   "cell_type": "code",
   "execution_count": 31,
   "metadata": {},
   "outputs": [
    {
     "data": {
      "text/plain": [
       "10-element Array{Float64,1}:\n",
       "  -5.84\n",
       " -14.41\n",
       "  -0.45\n",
       " -16.09\n",
       "   3.59\n",
       "  -8.35\n",
       "  -1.35\n",
       " -17.94\n",
       "  -1.35\n",
       " -14.24"
      ]
     },
     "execution_count": 31,
     "metadata": {},
     "output_type": "execute_result"
    }
   ],
   "source": [
    "ufem=TrussAssembleSolve(135000,11)\n",
    "round.(ufem;digits=2)"
   ]
  },
  {
   "cell_type": "code",
   "execution_count": 32,
   "metadata": {},
   "outputs": [],
   "source": [
    "writedlm(\"data/uinter.txt\",ũ,',')\n",
    "writedlm(\"data/ufem.txt\",ufem,',')"
   ]
  },
  {
   "cell_type": "code",
   "execution_count": 33,
   "metadata": {},
   "outputs": [
    {
     "data": {
      "image/svg+xml": [
       "<?xml version=\"1.0\" encoding=\"utf-8\"?>\n",
       "<svg xmlns=\"http://www.w3.org/2000/svg\" xmlns:xlink=\"http://www.w3.org/1999/xlink\" width=\"600\" height=\"400\" viewBox=\"0 0 2400 1600\">\n",
       "<defs>\n",
       "  <clipPath id=\"clip8500\">\n",
       "    <rect x=\"0\" y=\"0\" width=\"2400\" height=\"1600\"/>\n",
       "  </clipPath>\n",
       "</defs>\n",
       "<path clip-path=\"url(#clip8500)\" d=\"\n",
       "M0 1600 L2400 1600 L2400 0 L0 0  Z\n",
       "  \" fill=\"#ff8c00\" fill-rule=\"evenodd\" fill-opacity=\"1\"/>\n",
       "<defs>\n",
       "  <clipPath id=\"clip8501\">\n",
       "    <rect x=\"480\" y=\"0\" width=\"1681\" height=\"1600\"/>\n",
       "  </clipPath>\n",
       "</defs>\n",
       "<path clip-path=\"url(#clip8500)\" d=\"\n",
       "M152.848 1486.45 L2352.76 1486.45 L2352.76 47.2441 L152.848 47.2441  Z\n",
       "  \" fill=\"#ff8c00\" fill-rule=\"evenodd\" fill-opacity=\"1\"/>\n",
       "<defs>\n",
       "  <clipPath id=\"clip8502\">\n",
       "    <rect x=\"152\" y=\"47\" width=\"2201\" height=\"1440\"/>\n",
       "  </clipPath>\n",
       "</defs>\n",
       "<polyline clip-path=\"url(#clip8502)\" style=\"stroke:#000000; stroke-width:2; stroke-opacity:0.1; fill:none\" points=\"\n",
       "  397.282,1486.45 397.282,47.2441 \n",
       "  \"/>\n",
       "<polyline clip-path=\"url(#clip8502)\" style=\"stroke:#000000; stroke-width:2; stroke-opacity:0.1; fill:none\" points=\"\n",
       "  886.151,1486.45 886.151,47.2441 \n",
       "  \"/>\n",
       "<polyline clip-path=\"url(#clip8502)\" style=\"stroke:#000000; stroke-width:2; stroke-opacity:0.1; fill:none\" points=\"\n",
       "  1375.02,1486.45 1375.02,47.2441 \n",
       "  \"/>\n",
       "<polyline clip-path=\"url(#clip8502)\" style=\"stroke:#000000; stroke-width:2; stroke-opacity:0.1; fill:none\" points=\"\n",
       "  1863.89,1486.45 1863.89,47.2441 \n",
       "  \"/>\n",
       "<polyline clip-path=\"url(#clip8502)\" style=\"stroke:#000000; stroke-width:2; stroke-opacity:0.1; fill:none\" points=\"\n",
       "  2352.76,1486.45 2352.76,47.2441 \n",
       "  \"/>\n",
       "<polyline clip-path=\"url(#clip8502)\" style=\"stroke:#000000; stroke-width:2; stroke-opacity:0.1; fill:none\" points=\"\n",
       "  152.848,1269.65 2352.76,1269.65 \n",
       "  \"/>\n",
       "<polyline clip-path=\"url(#clip8502)\" style=\"stroke:#000000; stroke-width:2; stroke-opacity:0.1; fill:none\" points=\"\n",
       "  152.848,951.236 2352.76,951.236 \n",
       "  \"/>\n",
       "<polyline clip-path=\"url(#clip8502)\" style=\"stroke:#000000; stroke-width:2; stroke-opacity:0.1; fill:none\" points=\"\n",
       "  152.848,632.82 2352.76,632.82 \n",
       "  \"/>\n",
       "<polyline clip-path=\"url(#clip8502)\" style=\"stroke:#000000; stroke-width:2; stroke-opacity:0.1; fill:none\" points=\"\n",
       "  152.848,314.405 2352.76,314.405 \n",
       "  \"/>\n",
       "<polyline clip-path=\"url(#clip8500)\" style=\"stroke:#000000; stroke-width:4; stroke-opacity:1; fill:none\" points=\"\n",
       "  152.848,1486.45 2352.76,1486.45 \n",
       "  \"/>\n",
       "<polyline clip-path=\"url(#clip8500)\" style=\"stroke:#000000; stroke-width:4; stroke-opacity:1; fill:none\" points=\"\n",
       "  152.848,1486.45 152.848,47.2441 \n",
       "  \"/>\n",
       "<polyline clip-path=\"url(#clip8500)\" style=\"stroke:#000000; stroke-width:4; stroke-opacity:1; fill:none\" points=\"\n",
       "  397.282,1486.45 397.282,1469.18 \n",
       "  \"/>\n",
       "<polyline clip-path=\"url(#clip8500)\" style=\"stroke:#000000; stroke-width:4; stroke-opacity:1; fill:none\" points=\"\n",
       "  886.151,1486.45 886.151,1469.18 \n",
       "  \"/>\n",
       "<polyline clip-path=\"url(#clip8500)\" style=\"stroke:#000000; stroke-width:4; stroke-opacity:1; fill:none\" points=\"\n",
       "  1375.02,1486.45 1375.02,1469.18 \n",
       "  \"/>\n",
       "<polyline clip-path=\"url(#clip8500)\" style=\"stroke:#000000; stroke-width:4; stroke-opacity:1; fill:none\" points=\"\n",
       "  1863.89,1486.45 1863.89,1469.18 \n",
       "  \"/>\n",
       "<polyline clip-path=\"url(#clip8500)\" style=\"stroke:#000000; stroke-width:4; stroke-opacity:1; fill:none\" points=\"\n",
       "  2352.76,1486.45 2352.76,1469.18 \n",
       "  \"/>\n",
       "<polyline clip-path=\"url(#clip8500)\" style=\"stroke:#000000; stroke-width:4; stroke-opacity:1; fill:none\" points=\"\n",
       "  152.848,1269.65 179.247,1269.65 \n",
       "  \"/>\n",
       "<polyline clip-path=\"url(#clip8500)\" style=\"stroke:#000000; stroke-width:4; stroke-opacity:1; fill:none\" points=\"\n",
       "  152.848,951.236 179.247,951.236 \n",
       "  \"/>\n",
       "<polyline clip-path=\"url(#clip8500)\" style=\"stroke:#000000; stroke-width:4; stroke-opacity:1; fill:none\" points=\"\n",
       "  152.848,632.82 179.247,632.82 \n",
       "  \"/>\n",
       "<polyline clip-path=\"url(#clip8500)\" style=\"stroke:#000000; stroke-width:4; stroke-opacity:1; fill:none\" points=\"\n",
       "  152.848,314.405 179.247,314.405 \n",
       "  \"/>\n",
       "<path clip-path=\"url(#clip8500)\" d=\"M 0 0 M391.935 1535.98 L408.255 1535.98 L408.255 1539.92 L386.31 1539.92 L386.31 1535.98 Q388.972 1533.23 393.556 1528.6 Q398.162 1523.95 399.343 1522.61 Q401.588 1520.08 402.468 1518.35 Q403.37 1516.59 403.37 1514.9 Q403.37 1512.14 401.426 1510.41 Q399.505 1508.67 396.403 1508.67 Q394.204 1508.67 391.75 1509.43 Q389.32 1510.2 386.542 1511.75 L386.542 1507.03 Q389.366 1505.89 391.82 1505.31 Q394.273 1504.73 396.31 1504.73 Q401.681 1504.73 404.875 1507.42 Q408.069 1510.11 408.069 1514.6 Q408.069 1516.73 407.259 1518.65 Q406.472 1520.54 404.366 1523.14 Q403.787 1523.81 400.685 1527.03 Q397.583 1530.22 391.935 1535.98 Z\" fill=\"#000000\" fill-rule=\"evenodd\" fill-opacity=\"1\" /><path clip-path=\"url(#clip8500)\" d=\"M 0 0 M889.16 1509.43 L877.355 1527.88 L889.16 1527.88 L889.16 1509.43 M887.933 1505.36 L893.813 1505.36 L893.813 1527.88 L898.743 1527.88 L898.743 1531.77 L893.813 1531.77 L893.813 1539.92 L889.16 1539.92 L889.16 1531.77 L873.558 1531.77 L873.558 1527.26 L887.933 1505.36 Z\" fill=\"#000000\" fill-rule=\"evenodd\" fill-opacity=\"1\" /><path clip-path=\"url(#clip8500)\" d=\"M 0 0 M1375.42 1520.78 Q1372.28 1520.78 1370.42 1522.93 Q1368.6 1525.08 1368.6 1528.83 Q1368.6 1532.56 1370.42 1534.73 Q1372.28 1536.89 1375.42 1536.89 Q1378.57 1536.89 1380.4 1534.73 Q1382.25 1532.56 1382.25 1528.83 Q1382.25 1525.08 1380.4 1522.93 Q1378.57 1520.78 1375.42 1520.78 M1384.71 1506.12 L1384.71 1510.38 Q1382.95 1509.55 1381.14 1509.11 Q1379.36 1508.67 1377.6 1508.67 Q1372.97 1508.67 1370.52 1511.8 Q1368.09 1514.92 1367.74 1521.24 Q1369.1 1519.23 1371.17 1518.16 Q1373.23 1517.07 1375.7 1517.07 Q1380.91 1517.07 1383.92 1520.24 Q1386.95 1523.39 1386.95 1528.83 Q1386.95 1534.16 1383.8 1537.37 Q1380.66 1540.59 1375.42 1540.59 Q1369.43 1540.59 1366.26 1536.01 Q1363.09 1531.4 1363.09 1522.67 Q1363.09 1514.48 1366.98 1509.62 Q1370.86 1504.73 1377.41 1504.73 Q1379.17 1504.73 1380.96 1505.08 Q1382.76 1505.43 1384.71 1506.12 Z\" fill=\"#000000\" fill-rule=\"evenodd\" fill-opacity=\"1\" /><path clip-path=\"url(#clip8500)\" d=\"M 0 0 M1863.89 1523.51 Q1860.55 1523.51 1858.63 1525.29 Q1856.73 1527.07 1856.73 1530.2 Q1856.73 1533.32 1858.63 1535.11 Q1860.55 1536.89 1863.89 1536.89 Q1867.22 1536.89 1869.14 1535.11 Q1871.06 1533.3 1871.06 1530.2 Q1871.06 1527.07 1869.14 1525.29 Q1867.24 1523.51 1863.89 1523.51 M1859.21 1521.52 Q1856.2 1520.78 1854.51 1518.72 Q1852.85 1516.66 1852.85 1513.69 Q1852.85 1509.55 1855.79 1507.14 Q1858.75 1504.73 1863.89 1504.73 Q1869.05 1504.73 1871.99 1507.14 Q1874.93 1509.55 1874.93 1513.69 Q1874.93 1516.66 1873.24 1518.72 Q1871.57 1520.78 1868.59 1521.52 Q1871.97 1522.3 1873.84 1524.6 Q1875.74 1526.89 1875.74 1530.2 Q1875.74 1535.22 1872.66 1537.91 Q1869.61 1540.59 1863.89 1540.59 Q1858.17 1540.59 1855.09 1537.91 Q1852.04 1535.22 1852.04 1530.2 Q1852.04 1526.89 1853.93 1524.6 Q1855.83 1522.3 1859.21 1521.52 M1857.5 1514.13 Q1857.5 1516.82 1859.17 1518.32 Q1860.86 1519.83 1863.89 1519.83 Q1866.9 1519.83 1868.59 1518.32 Q1870.3 1516.82 1870.3 1514.13 Q1870.3 1511.45 1868.59 1509.94 Q1866.9 1508.44 1863.89 1508.44 Q1860.86 1508.44 1859.17 1509.94 Q1857.5 1511.45 1857.5 1514.13 Z\" fill=\"#000000\" fill-rule=\"evenodd\" fill-opacity=\"1\" /><path clip-path=\"url(#clip8500)\" d=\"M 0 0 M2329.63 1535.98 L2337.27 1535.98 L2337.27 1509.62 L2328.96 1511.29 L2328.96 1507.03 L2337.22 1505.36 L2341.9 1505.36 L2341.9 1535.98 L2349.54 1535.98 L2349.54 1539.92 L2329.63 1539.92 L2329.63 1535.98 Z\" fill=\"#000000\" fill-rule=\"evenodd\" fill-opacity=\"1\" /><path clip-path=\"url(#clip8500)\" d=\"M 0 0 M2364.61 1508.44 Q2361 1508.44 2359.17 1512 Q2357.36 1515.55 2357.36 1522.67 Q2357.36 1529.78 2359.17 1533.35 Q2361 1536.89 2364.61 1536.89 Q2368.24 1536.89 2370.05 1533.35 Q2371.88 1529.78 2371.88 1522.67 Q2371.88 1515.55 2370.05 1512 Q2368.24 1508.44 2364.61 1508.44 M2364.61 1504.73 Q2370.42 1504.73 2373.47 1509.34 Q2376.55 1513.92 2376.55 1522.67 Q2376.55 1531.4 2373.47 1536.01 Q2370.42 1540.59 2364.61 1540.59 Q2358.8 1540.59 2355.72 1536.01 Q2352.66 1531.4 2352.66 1522.67 Q2352.66 1513.92 2355.72 1509.34 Q2358.8 1504.73 2364.61 1504.73 Z\" fill=\"#000000\" fill-rule=\"evenodd\" fill-opacity=\"1\" /><path clip-path=\"url(#clip8500)\" d=\"M 0 0 M62.9921 1272.05 L75.4689 1272.05 L75.4689 1275.84 L62.9921 1275.84 L62.9921 1272.05 Z\" fill=\"#000000\" fill-rule=\"evenodd\" fill-opacity=\"1\" /><path clip-path=\"url(#clip8500)\" d=\"M 0 0 M94.7049 1268.3 Q98.0614 1269.01 99.9364 1271.28 Q101.835 1273.55 101.835 1276.89 Q101.835 1282 98.316 1284.8 Q94.7975 1287.6 88.3161 1287.6 Q86.1402 1287.6 83.8253 1287.16 Q81.5337 1286.75 79.08 1285.89 L79.08 1281.38 Q81.0244 1282.51 83.3392 1283.09 Q85.654 1283.67 88.1772 1283.67 Q92.5753 1283.67 94.867 1281.93 Q97.1818 1280.2 97.1818 1276.89 Q97.1818 1273.83 95.029 1272.12 Q92.8994 1270.38 89.0799 1270.38 L85.0522 1270.38 L85.0522 1266.54 L89.2651 1266.54 Q92.7142 1266.54 94.5429 1265.17 Q96.3716 1263.78 96.3716 1261.19 Q96.3716 1258.53 94.4734 1257.12 Q92.5984 1255.68 89.0799 1255.68 Q87.1587 1255.68 84.9596 1256.1 Q82.7605 1256.51 80.1217 1257.39 L80.1217 1253.23 Q82.7837 1252.49 85.0985 1252.12 Q87.4364 1251.75 89.4966 1251.75 Q94.8207 1251.75 97.9225 1254.18 Q101.024 1256.58 101.024 1260.7 Q101.024 1263.58 99.3808 1265.57 Q97.7373 1267.53 94.7049 1268.3 Z\" fill=\"#000000\" fill-rule=\"evenodd\" fill-opacity=\"1\" /><path clip-path=\"url(#clip8500)\" d=\"M 0 0 M116.904 1255.45 Q113.293 1255.45 111.464 1259.01 Q109.659 1262.56 109.659 1269.69 Q109.659 1276.79 111.464 1280.36 Q113.293 1283.9 116.904 1283.9 Q120.538 1283.9 122.344 1280.36 Q124.172 1276.79 124.172 1269.69 Q124.172 1262.56 122.344 1259.01 Q120.538 1255.45 116.904 1255.45 M116.904 1251.75 Q122.714 1251.75 125.77 1256.35 Q128.848 1260.94 128.848 1269.69 Q128.848 1278.41 125.77 1283.02 Q122.714 1287.6 116.904 1287.6 Q111.094 1287.6 108.015 1283.02 Q104.959 1278.41 104.959 1269.69 Q104.959 1260.94 108.015 1256.35 Q111.094 1251.75 116.904 1251.75 Z\" fill=\"#000000\" fill-rule=\"evenodd\" fill-opacity=\"1\" /><path clip-path=\"url(#clip8500)\" d=\"M 0 0 M63.9412 953.632 L76.418 953.632 L76.418 957.428 L63.9412 957.428 L63.9412 953.632 Z\" fill=\"#000000\" fill-rule=\"evenodd\" fill-opacity=\"1\" /><path clip-path=\"url(#clip8500)\" d=\"M 0 0 M85.5152 964.581 L101.835 964.581 L101.835 968.516 L79.8902 968.516 L79.8902 964.581 Q82.5522 961.826 87.1355 957.197 Q91.742 952.544 92.9225 951.201 Q95.1679 948.678 96.0475 946.942 Q96.9503 945.183 96.9503 943.493 Q96.9503 940.738 95.0058 939.002 Q93.0846 937.266 89.9827 937.266 Q87.7837 937.266 85.33 938.03 Q82.8994 938.794 80.1217 940.345 L80.1217 935.623 Q82.9457 934.488 85.3994 933.91 Q87.8531 933.331 89.8901 933.331 Q95.2605 933.331 98.4549 936.016 Q101.649 938.701 101.649 943.192 Q101.649 945.322 100.839 947.243 Q100.052 949.141 97.9456 951.734 Q97.3669 952.405 94.2651 955.622 Q91.1633 958.817 85.5152 964.581 Z\" fill=\"#000000\" fill-rule=\"evenodd\" fill-opacity=\"1\" /><path clip-path=\"url(#clip8500)\" d=\"M 0 0 M116.904 937.035 Q113.293 937.035 111.464 940.599 Q109.659 944.141 109.659 951.271 Q109.659 958.377 111.464 961.942 Q113.293 965.484 116.904 965.484 Q120.538 965.484 122.344 961.942 Q124.172 958.377 124.172 951.271 Q124.172 944.141 122.344 940.599 Q120.538 937.035 116.904 937.035 M116.904 933.331 Q122.714 933.331 125.77 937.937 Q128.848 942.521 128.848 951.271 Q128.848 959.997 125.77 964.604 Q122.714 969.187 116.904 969.187 Q111.094 969.187 108.015 964.604 Q104.959 959.997 104.959 951.271 Q104.959 942.521 108.015 937.937 Q111.094 933.331 116.904 933.331 Z\" fill=\"#000000\" fill-rule=\"evenodd\" fill-opacity=\"1\" /><path clip-path=\"url(#clip8500)\" d=\"M 0 0 M63.5708 635.216 L76.0476 635.216 L76.0476 639.013 L63.5708 639.013 L63.5708 635.216 Z\" fill=\"#000000\" fill-rule=\"evenodd\" fill-opacity=\"1\" /><path clip-path=\"url(#clip8500)\" d=\"M 0 0 M81.9272 646.165 L89.5661 646.165 L89.5661 619.8 L81.2559 621.466 L81.2559 617.207 L89.5198 615.54 L94.1957 615.54 L94.1957 646.165 L101.835 646.165 L101.835 650.1 L81.9272 650.1 L81.9272 646.165 Z\" fill=\"#000000\" fill-rule=\"evenodd\" fill-opacity=\"1\" /><path clip-path=\"url(#clip8500)\" d=\"M 0 0 M116.904 618.619 Q113.293 618.619 111.464 622.184 Q109.659 625.726 109.659 632.855 Q109.659 639.962 111.464 643.526 Q113.293 647.068 116.904 647.068 Q120.538 647.068 122.344 643.526 Q124.172 639.962 124.172 632.855 Q124.172 625.726 122.344 622.184 Q120.538 618.619 116.904 618.619 M116.904 614.915 Q122.714 614.915 125.77 619.522 Q128.848 624.105 128.848 632.855 Q128.848 641.582 125.77 646.188 Q122.714 650.772 116.904 650.772 Q111.094 650.772 108.015 646.188 Q104.959 641.582 104.959 632.855 Q104.959 624.105 108.015 619.522 Q111.094 614.915 116.904 614.915 Z\" fill=\"#000000\" fill-rule=\"evenodd\" fill-opacity=\"1\" /><path clip-path=\"url(#clip8500)\" d=\"M 0 0 M116.904 300.204 Q113.293 300.204 111.464 303.769 Q109.659 307.31 109.659 314.44 Q109.659 321.546 111.464 325.111 Q113.293 328.653 116.904 328.653 Q120.538 328.653 122.344 325.111 Q124.172 321.546 124.172 314.44 Q124.172 307.31 122.344 303.769 Q120.538 300.204 116.904 300.204 M116.904 296.5 Q122.714 296.5 125.77 301.107 Q128.848 305.69 128.848 314.44 Q128.848 323.167 125.77 327.773 Q122.714 332.356 116.904 332.356 Q111.094 332.356 108.015 327.773 Q104.959 323.167 104.959 314.44 Q104.959 305.69 108.015 301.107 Q111.094 296.5 116.904 296.5 Z\" fill=\"#000000\" fill-rule=\"evenodd\" fill-opacity=\"1\" /><polyline clip-path=\"url(#clip8502)\" style=\"stroke:#009af9; stroke-width:4; stroke-opacity:1; fill:none\" points=\"\n",
       "  152.848,682.352 397.282,1222.72 641.717,342.709 886.151,1329.07 1130.58,87.9763 1375.02,841.039 1619.45,399.316 1863.89,1445.72 2108.32,399.316 2352.76,1212.42 \n",
       "  \n",
       "  \"/>\n",
       "<polyline clip-path=\"url(#clip8502)\" style=\"stroke:#e26f46; stroke-width:4; stroke-opacity:1; fill:none\" points=\"\n",
       "  152.848,590.365 397.282,995.642 641.717,335.633 886.151,1075.4 1130.58,144.583 1375.02,709.38 1619.45,378.088 1863.89,1162.89 2108.32,378.088 2352.76,987.916 \n",
       "  \n",
       "  \"/>\n",
       "<polyline clip-path=\"url(#clip8502)\" style=\"stroke:#3da44d; stroke-width:4; stroke-opacity:1; fill:none\" points=\"\n",
       "  152.848,535.173 397.282,859.394 641.717,331.387 886.151,923.203 1130.58,178.548 1375.02,630.385 1619.45,365.352 1863.89,993.191 2108.32,365.352 2352.76,853.214 \n",
       "  \n",
       "  \"/>\n",
       "<polyline clip-path=\"url(#clip8502)\" style=\"stroke:#c271d2; stroke-width:4; stroke-opacity:1; fill:none\" points=\"\n",
       "  152.848,498.378 397.282,768.563 641.717,328.557 886.151,821.736 1130.58,201.191 1375.02,577.722 1619.45,356.86 1863.89,880.06 2108.32,356.86 2352.76,763.412 \n",
       "  \n",
       "  \"/>\n",
       "<polyline clip-path=\"url(#clip8502)\" style=\"stroke:#ac8d18; stroke-width:4; stroke-opacity:1; fill:none\" points=\"\n",
       "  152.848,621.027 397.282,1071.33 641.717,337.991 886.151,1159.96 1130.58,125.714 1375.02,753.266 1619.45,385.164 1863.89,1257.16 2108.32,385.164 2352.76,1062.75 \n",
       "  \n",
       "  \"/>\n",
       "<polyline clip-path=\"url(#clip8502)\" style=\"stroke:#00a9ad; stroke-width:4; stroke-opacity:1; fill:none\" points=\"\n",
       "  152.848,544.372 397.282,882.102 641.717,332.095 886.151,948.569 1130.58,172.887 1375.02,643.551 1619.45,367.474 1863.89,1021.47 2108.32,367.474 2352.76,875.664 \n",
       "  \n",
       "  \"/>\n",
       "<polyline clip-path=\"url(#clip8502)\" style=\"stroke:#ed5d92; stroke-width:4; stroke-opacity:1; fill:none\" points=\"\n",
       "  152.848,498.378 397.282,768.563 641.717,328.557 886.151,821.736 1130.58,201.191 1375.02,577.722 1619.45,356.86 1863.89,880.06 2108.32,356.86 2352.76,763.412 \n",
       "  \n",
       "  \"/>\n",
       "<polyline clip-path=\"url(#clip8502)\" style=\"stroke:#c68125; stroke-width:4; stroke-opacity:1; fill:none\" points=\"\n",
       "  152.848,467.716 397.282,692.87 641.717,326.198 886.151,737.181 1130.58,220.06 1375.02,533.836 1619.45,349.785 1863.89,785.784 2108.32,349.785 2352.76,688.578 \n",
       "  \n",
       "  \"/>\n",
       "<polyline clip-path=\"url(#clip8502)\" style=\"stroke:#00a98d; stroke-width:4; stroke-opacity:1; fill:none\" points=\"\n",
       "  152.848,577.224 397.282,963.202 641.717,334.622 886.151,1039.16 1130.58,152.67 1375.02,690.572 1619.45,375.056 1863.89,1122.48 2108.32,375.056 2352.76,955.844 \n",
       "  \n",
       "  \"/>\n",
       "<polyline clip-path=\"url(#clip8502)\" style=\"stroke:#8e971d; stroke-width:4; stroke-opacity:1; fill:none\" points=\"\n",
       "  152.848,511.519 397.282,801.003 641.717,329.568 886.151,857.974 1130.58,193.104 1375.02,596.53 1619.45,359.893 1863.89,920.464 2108.32,359.893 2352.76,795.484 \n",
       "  \n",
       "  \"/>\n",
       "<polyline clip-path=\"url(#clip8502)\" style=\"stroke:#00a8cb; stroke-width:4; stroke-opacity:1; fill:none\" points=\"\n",
       "  152.848,472.097 397.282,703.683 641.717,326.535 886.151,749.26 1130.58,217.364 1375.02,540.105 1619.45,350.795 1863.89,799.252 2108.32,350.795 2352.76,699.268 \n",
       "  \n",
       "  \"/>\n",
       "<polyline clip-path=\"url(#clip8502)\" style=\"stroke:#9b7fe8; stroke-width:4; stroke-opacity:1; fill:none\" points=\"\n",
       "  152.848,445.815 397.282,638.804 641.717,324.513 886.151,676.784 1130.58,233.538 1375.02,502.489 1619.45,344.73 1863.89,718.445 2108.32,344.73 2352.76,635.124 \n",
       "  \n",
       "  \"/>\n",
       "<polyline clip-path=\"url(#clip8502)\" style=\"stroke:#608cf6; stroke-width:4; stroke-opacity:1; fill:none\" points=\"\n",
       "  152.848,544.372 397.282,882.102 641.717,332.095 886.151,948.569 1130.58,172.887 1375.02,643.551 1619.45,367.474 1863.89,1021.47 2108.32,367.474 2352.76,875.664 \n",
       "  \n",
       "  \"/>\n",
       "<polyline clip-path=\"url(#clip8502)\" style=\"stroke:#f05f73; stroke-width:4; stroke-opacity:1; fill:none\" points=\"\n",
       "  152.848,486.88 397.282,740.178 641.717,327.672 886.151,790.028 1130.58,208.267 1375.02,561.265 1619.45,354.207 1863.89,844.707 2108.32,354.207 2352.76,735.349 \n",
       "  \n",
       "  \"/>\n",
       "<polyline clip-path=\"url(#clip8502)\" style=\"stroke:#dd64b5; stroke-width:4; stroke-opacity:1; fill:none\" points=\"\n",
       "  152.848,452.385 397.282,655.023 641.717,325.019 886.151,694.903 1130.58,229.494 1375.02,511.893 1619.45,346.247 1863.89,738.647 2108.32,346.247 2352.76,651.16 \n",
       "  \n",
       "  \"/>\n",
       "<polyline clip-path=\"url(#clip8502)\" style=\"stroke:#6b9e32; stroke-width:4; stroke-opacity:1; fill:none\" points=\"\n",
       "  152.848,429.388 397.282,598.254 641.717,323.25 886.151,631.487 1130.58,243.646 1375.02,478.978 1619.45,340.94 1863.89,667.94 2108.32,340.94 2352.76,595.035 \n",
       "  \n",
       "  \"/>\n",
       "<polyline clip-path=\"url(#clip8502)\" style=\"stroke:#718c69; stroke-width:4; stroke-opacity:1; fill:none\" points=\"\n",
       "  152.848,496.111 397.282,762.966 641.717,328.382 886.151,815.484 1130.58,202.586 1375.02,574.477 1619.45,356.337 1863.89,873.089 2108.32,356.337 2352.76,757.879 \n",
       "  \n",
       "  \"/>\n",
       "<path clip-path=\"url(#clip8502)\" d=\"M136.848 480.111 L136.848 512.111 L168.848 512.111 L168.848 480.111 L136.848 480.111 Z\" fill=\"#718c69\" fill-rule=\"evenodd\" fill-opacity=\"1\" stroke=\"#000000\" stroke-opacity=\"1\" stroke-width=\"3.2\"/>\n",
       "<path clip-path=\"url(#clip8502)\" d=\"M381.282 746.966 L381.282 778.966 L413.282 778.966 L413.282 746.966 L381.282 746.966 Z\" fill=\"#718c69\" fill-rule=\"evenodd\" fill-opacity=\"1\" stroke=\"#000000\" stroke-opacity=\"1\" stroke-width=\"3.2\"/>\n",
       "<path clip-path=\"url(#clip8502)\" d=\"M625.717 312.382 L625.717 344.382 L657.717 344.382 L657.717 312.382 L625.717 312.382 Z\" fill=\"#718c69\" fill-rule=\"evenodd\" fill-opacity=\"1\" stroke=\"#000000\" stroke-opacity=\"1\" stroke-width=\"3.2\"/>\n",
       "<path clip-path=\"url(#clip8502)\" d=\"M870.151 799.484 L870.151 831.484 L902.151 831.484 L902.151 799.484 L870.151 799.484 Z\" fill=\"#718c69\" fill-rule=\"evenodd\" fill-opacity=\"1\" stroke=\"#000000\" stroke-opacity=\"1\" stroke-width=\"3.2\"/>\n",
       "<path clip-path=\"url(#clip8502)\" d=\"M1114.58 186.586 L1114.58 218.586 L1146.58 218.586 L1146.58 186.586 L1114.58 186.586 Z\" fill=\"#718c69\" fill-rule=\"evenodd\" fill-opacity=\"1\" stroke=\"#000000\" stroke-opacity=\"1\" stroke-width=\"3.2\"/>\n",
       "<path clip-path=\"url(#clip8502)\" d=\"M1359.02 558.477 L1359.02 590.477 L1391.02 590.477 L1391.02 558.477 L1359.02 558.477 Z\" fill=\"#718c69\" fill-rule=\"evenodd\" fill-opacity=\"1\" stroke=\"#000000\" stroke-opacity=\"1\" stroke-width=\"3.2\"/>\n",
       "<path clip-path=\"url(#clip8502)\" d=\"M1603.45 340.337 L1603.45 372.337 L1635.45 372.337 L1635.45 340.337 L1603.45 340.337 Z\" fill=\"#718c69\" fill-rule=\"evenodd\" fill-opacity=\"1\" stroke=\"#000000\" stroke-opacity=\"1\" stroke-width=\"3.2\"/>\n",
       "<path clip-path=\"url(#clip8502)\" d=\"M1847.89 857.089 L1847.89 889.089 L1879.89 889.089 L1879.89 857.089 L1847.89 857.089 Z\" fill=\"#718c69\" fill-rule=\"evenodd\" fill-opacity=\"1\" stroke=\"#000000\" stroke-opacity=\"1\" stroke-width=\"3.2\"/>\n",
       "<path clip-path=\"url(#clip8502)\" d=\"M2092.32 340.337 L2092.32 372.337 L2124.32 372.337 L2124.32 340.337 L2092.32 340.337 Z\" fill=\"#718c69\" fill-rule=\"evenodd\" fill-opacity=\"1\" stroke=\"#000000\" stroke-opacity=\"1\" stroke-width=\"3.2\"/>\n",
       "<path clip-path=\"url(#clip8502)\" d=\"M2336.76 741.879 L2336.76 773.879 L2368.76 773.879 L2368.76 741.879 L2336.76 741.879 Z\" fill=\"#718c69\" fill-rule=\"evenodd\" fill-opacity=\"1\" stroke=\"#000000\" stroke-opacity=\"1\" stroke-width=\"3.2\"/>\n",
       "<circle clip-path=\"url(#clip8502)\" cx=\"152.848\" cy=\"500.237\" r=\"14\" fill=\"#47988b\" fill-rule=\"evenodd\" fill-opacity=\"1\" stroke=\"#000000\" stroke-opacity=\"1\" stroke-width=\"3.2\"/>\n",
       "<circle clip-path=\"url(#clip8502)\" cx=\"397.282\" cy=\"773.15\" r=\"14\" fill=\"#47988b\" fill-rule=\"evenodd\" fill-opacity=\"1\" stroke=\"#000000\" stroke-opacity=\"1\" stroke-width=\"3.2\"/>\n",
       "<circle clip-path=\"url(#clip8502)\" cx=\"641.717\" cy=\"328.7\" r=\"14\" fill=\"#47988b\" fill-rule=\"evenodd\" fill-opacity=\"1\" stroke=\"#000000\" stroke-opacity=\"1\" stroke-width=\"3.2\"/>\n",
       "<circle clip-path=\"url(#clip8502)\" cx=\"886.151\" cy=\"826.861\" r=\"14\" fill=\"#47988b\" fill-rule=\"evenodd\" fill-opacity=\"1\" stroke=\"#000000\" stroke-opacity=\"1\" stroke-width=\"3.2\"/>\n",
       "<circle clip-path=\"url(#clip8502)\" cx=\"1130.58\" cy=\"200.047\" r=\"14\" fill=\"#47988b\" fill-rule=\"evenodd\" fill-opacity=\"1\" stroke=\"#000000\" stroke-opacity=\"1\" stroke-width=\"3.2\"/>\n",
       "<circle clip-path=\"url(#clip8502)\" cx=\"1375.02\" cy=\"580.382\" r=\"14\" fill=\"#47988b\" fill-rule=\"evenodd\" fill-opacity=\"1\" stroke=\"#000000\" stroke-opacity=\"1\" stroke-width=\"3.2\"/>\n",
       "<circle clip-path=\"url(#clip8502)\" cx=\"1619.45\" cy=\"357.289\" r=\"14\" fill=\"#47988b\" fill-rule=\"evenodd\" fill-opacity=\"1\" stroke=\"#000000\" stroke-opacity=\"1\" stroke-width=\"3.2\"/>\n",
       "<circle clip-path=\"url(#clip8502)\" cx=\"1863.89\" cy=\"885.774\" r=\"14\" fill=\"#47988b\" fill-rule=\"evenodd\" fill-opacity=\"1\" stroke=\"#000000\" stroke-opacity=\"1\" stroke-width=\"3.2\"/>\n",
       "<circle clip-path=\"url(#clip8502)\" cx=\"2108.32\" cy=\"357.289\" r=\"14\" fill=\"#47988b\" fill-rule=\"evenodd\" fill-opacity=\"1\" stroke=\"#000000\" stroke-opacity=\"1\" stroke-width=\"3.2\"/>\n",
       "<circle clip-path=\"url(#clip8502)\" cx=\"2352.76\" cy=\"767.948\" r=\"14\" fill=\"#47988b\" fill-rule=\"evenodd\" fill-opacity=\"1\" stroke=\"#000000\" stroke-opacity=\"1\" stroke-width=\"3.2\"/>\n",
       "</svg>\n"
      ]
     },
     "metadata": {},
     "output_type": "display_data"
    }
   ],
   "source": [
    "p=plot(Y, xlims=(1,10),legend=false,show=true)\n",
    "p=plot!(ũ,shape =:square,xlims=(1,10),legend=false)\n",
    "scatter!(ufem,bg=:darkorange)\n",
    "display(p)\n",
    "savefig(\"img/interpolation.png\")"
   ]
  },
  {
   "cell_type": "code",
   "execution_count": null,
   "metadata": {},
   "outputs": [],
   "source": []
  }
 ],
 "metadata": {
  "kernelspec": {
   "display_name": "Julia 1.5.0",
   "language": "julia",
   "name": "julia-1.5"
  },
  "language_info": {
   "file_extension": ".jl",
   "mimetype": "application/julia",
   "name": "julia",
   "version": "1.5.0"
  }
 },
 "nbformat": 4,
 "nbformat_minor": 4
}
