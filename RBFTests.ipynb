{
 "cells": [
  {
   "cell_type": "markdown",
   "metadata": {},
   "source": [
    "# Radial Basis Function"
   ]
  },
  {
   "cell_type": "code",
   "execution_count": 1,
   "metadata": {},
   "outputs": [
    {
     "data": {
      "text/plain": [
       "2×9 Array{Int64,2}:\n",
       " 1  2  3  1  2  3  1  2  3\n",
       " 1  1  1  2  2  2  3  3  3"
      ]
     },
     "execution_count": 1,
     "metadata": {},
     "output_type": "execute_result"
    }
   ],
   "source": [
    "X=[1 2 3 1 2 3 1 2 3;1 1 1 2 2 2 3 3 3]"
   ]
  },
  {
   "cell_type": "code",
   "execution_count": 2,
   "metadata": {},
   "outputs": [
    {
     "data": {
      "text/plain": [
       "2×3 Array{Float64,2}:\n",
       " 1.5  1.1  2.5\n",
       " 1.5  1.2  2.5"
      ]
     },
     "execution_count": 2,
     "metadata": {},
     "output_type": "execute_result"
    }
   ],
   "source": [
    " Xint=[1.5 1.1 2.5;1.5 1.2 2.5]"
   ]
  },
  {
   "cell_type": "code",
   "execution_count": 3,
   "metadata": {},
   "outputs": [
    {
     "data": {
      "text/plain": [
       "f (generic function with 1 method)"
      ]
     },
     "execution_count": 3,
     "metadata": {},
     "output_type": "execute_result"
    }
   ],
   "source": [
    "f(x)=[sqrt(x[1]), x[2]^2, x[1]+x[2]]"
   ]
  },
  {
   "cell_type": "code",
   "execution_count": 4,
   "metadata": {},
   "outputs": [
    {
     "data": {
      "text/plain": [
       "3×9 Array{Float64,2}:\n",
       " 1.0  1.41421  1.73205  1.0  1.41421  1.73205  1.0  1.41421  1.73205\n",
       " 1.0  1.0      1.0      4.0  4.0      4.0      9.0  9.0      9.0\n",
       " 2.0  3.0      4.0      3.0  4.0      5.0      4.0  5.0      6.0"
      ]
     },
     "execution_count": 4,
     "metadata": {},
     "output_type": "execute_result"
    }
   ],
   "source": [
    "Y=zeros(3,9)\n",
    "for i in 1:9\n",
    "    Y[:,i]=f(X[:,i])\n",
    "end\n",
    "Y"
   ]
  },
  {
   "cell_type": "markdown",
   "metadata": {},
   "source": [
    "## Choice of two types of Radial Basis Function :\n",
    "* Linear spline (G1)\n",
    "* Cubic spline (G2)"
   ]
  },
  {
   "cell_type": "markdown",
   "metadata": {},
   "source": [
    "RBF : Linear Spline"
   ]
  },
  {
   "cell_type": "code",
   "execution_count": 5,
   "metadata": {},
   "outputs": [
    {
     "data": {
      "text/plain": [
       "9×9 Array{Float64,2}:\n",
       " 0.0      1.0      2.0      1.0      …  2.23607  2.0      2.23607  2.82843\n",
       " 1.0      0.0      1.0      1.41421     1.41421  2.23607  2.0      2.23607\n",
       " 2.0      1.0      0.0      2.23607     1.0      2.82843  2.23607  2.0\n",
       " 1.0      1.41421  2.23607  0.0         2.0      1.0      1.41421  2.23607\n",
       " 1.41421  1.0      1.41421  1.0         1.0      1.41421  1.0      1.41421\n",
       " 2.23607  1.41421  1.0      2.0      …  0.0      2.23607  1.41421  1.0\n",
       " 2.0      2.23607  2.82843  1.0         2.23607  0.0      1.0      2.0\n",
       " 2.23607  2.0      2.23607  1.41421     1.41421  1.0      0.0      1.0\n",
       " 2.82843  2.23607  2.0      2.23607     1.0      2.0      1.0      0.0"
      ]
     },
     "execution_count": 5,
     "metadata": {},
     "output_type": "execute_result"
    }
   ],
   "source": [
    "G1=zeros(9,9)\n",
    "for i in 1:9\n",
    "    for j in 1:9\n",
    "    G1[i,j]=sqrt((X[:,i][1]-X[:,j][1])^2+(X[:,i][2]-X[:,j][2])^2)\n",
    "    end\n",
    "end\n",
    "G1"
   ]
  },
  {
   "cell_type": "code",
   "execution_count": 6,
   "metadata": {},
   "outputs": [
    {
     "data": {
      "text/plain": [
       "9×9 Array{Float64,2}:\n",
       "  0.0       1.0       8.0       1.0      …   8.0      11.1803   22.6274\n",
       "  1.0       0.0       1.0       2.82843     11.1803    8.0      11.1803\n",
       "  8.0       1.0       0.0      11.1803      22.6274   11.1803    8.0\n",
       "  1.0       2.82843  11.1803    0.0          1.0       2.82843  11.1803\n",
       "  2.82843   1.0       2.82843   1.0          2.82843   1.0       2.82843\n",
       " 11.1803    2.82843   1.0       8.0      …  11.1803    2.82843   1.0\n",
       "  8.0      11.1803   22.6274    1.0          0.0       1.0       8.0\n",
       " 11.1803    8.0      11.1803    2.82843      1.0       0.0       1.0\n",
       " 22.6274   11.1803    8.0      11.1803       8.0       1.0       0.0"
      ]
     },
     "execution_count": 6,
     "metadata": {},
     "output_type": "execute_result"
    }
   ],
   "source": [
    "G2=zeros(9,9)\n",
    "for i in 1:9\n",
    "    for j in 1:9\n",
    "    G2[i,j]=sqrt((X[:,i][1]-X[:,j][1])^2+(X[:,i][2]-X[:,j][2])^2)^3\n",
    "    end\n",
    "end\n",
    "G2"
   ]
  },
  {
   "cell_type": "code",
   "execution_count": 7,
   "metadata": {},
   "outputs": [
    {
     "data": {
      "text/plain": [
       "3×9 Array{Float64,2}:\n",
       " 0.367804  -0.0436572  0.152806  …   0.367804  -0.0436572   0.152806\n",
       " 1.72823    0.161643   1.72823      -0.621314  -0.934163   -0.621314\n",
       " 1.30171    0.126765   0.714327      0.714327  -0.147186    0.126941"
      ]
     },
     "execution_count": 7,
     "metadata": {},
     "output_type": "execute_result"
    }
   ],
   "source": [
    "A1=Y*(inv(G1'))'"
   ]
  },
  {
   "cell_type": "code",
   "execution_count": 8,
   "metadata": {},
   "outputs": [
    {
     "data": {
      "text/plain": [
       "3×9 Array{Float64,2}:\n",
       " 0.27631   -0.331726  0.215527  -0.383887  …  0.27631   -0.331726  0.215527\n",
       " 0.980982  -0.967142  0.980982  -1.04863      0.316732  -0.276571  0.316732\n",
       " 0.856022  -1.03782   0.68996   -1.03782      0.68996   -0.865181  0.523898"
      ]
     },
     "execution_count": 8,
     "metadata": {},
     "output_type": "execute_result"
    }
   ],
   "source": [
    "A2=Y*(inv(G2'))'"
   ]
  },
  {
   "cell_type": "markdown",
   "metadata": {},
   "source": [
    "Calculate the RBF interpolated value of the fonction for Xint"
   ]
  },
  {
   "cell_type": "code",
   "execution_count": 9,
   "metadata": {},
   "outputs": [
    {
     "data": {
      "text/plain": [
       "9×3 Array{Float64,2}:\n",
       " 0.0  0.0  0.0\n",
       " 0.0  0.0  0.0\n",
       " 0.0  0.0  0.0\n",
       " 0.0  0.0  0.0\n",
       " 0.0  0.0  0.0\n",
       " 0.0  0.0  0.0\n",
       " 0.0  0.0  0.0\n",
       " 0.0  0.0  0.0\n",
       " 0.0  0.0  0.0"
      ]
     },
     "execution_count": 9,
     "metadata": {},
     "output_type": "execute_result"
    }
   ],
   "source": [
    "g=zeros(9,3)"
   ]
  },
  {
   "cell_type": "code",
   "execution_count": 10,
   "metadata": {},
   "outputs": [
    {
     "data": {
      "text/plain": [
       "9×3 Array{Float64,2}:\n",
       " 0.707107  0.921954  1.58114\n",
       " 0.707107  0.921954  1.58114\n",
       " 0.707107  0.921954  1.58114\n",
       " 0.707107  0.921954  1.58114\n",
       " 0.707107  0.921954  1.58114\n",
       " 0.707107  0.921954  1.58114\n",
       " 0.707107  0.921954  1.58114\n",
       " 0.707107  0.921954  1.58114\n",
       " 0.707107  0.921954  1.58114"
      ]
     },
     "execution_count": 10,
     "metadata": {},
     "output_type": "execute_result"
    }
   ],
   "source": [
    "#Wrong\n",
    "for j in 1:3\n",
    "    for i=1:9\n",
    "    g[i,j]=sqrt((Xint[:,j][1]-X[:,j][1])^2+(Xint[:,j][2]-X[:,j][2])^2)\n",
    "end\n",
    "end\n",
    "g"
   ]
  },
  {
   "cell_type": "code",
   "execution_count": 11,
   "metadata": {},
   "outputs": [
    {
     "data": {
      "text/plain": [
       "9-element Array{Float64,1}:\n",
       " 0.7071067811865476\n",
       " 0.7071067811865476\n",
       " 1.5811388300841898\n",
       " 0.7071067811865476\n",
       " 0.7071067811865476\n",
       " 1.5811388300841898\n",
       " 1.5811388300841898\n",
       " 1.5811388300841898\n",
       " 2.1213203435596424"
      ]
     },
     "execution_count": 11,
     "metadata": {},
     "output_type": "execute_result"
    }
   ],
   "source": [
    "#Node 1 (1.5,1.5)\n",
    "g₁¹=zeros(9)\n",
    "for i in 1:9\n",
    "g₁¹[i]=sqrt((1.5-X[:,i][1])^2+(1.5-X[:,i][2])^2)\n",
    "end\n",
    "g₁¹"
   ]
  },
  {
   "cell_type": "code",
   "execution_count": 12,
   "metadata": {},
   "outputs": [
    {
     "data": {
      "text/plain": [
       "9-element Array{Float64,1}:\n",
       " 0.22360679774997896\n",
       " 0.9219544457292886\n",
       " 1.91049731745428\n",
       " 0.806225774829855\n",
       " 1.2041594578792296\n",
       " 2.0615528128088303\n",
       " 1.8027756377319948\n",
       " 2.0124611797498106\n",
       " 2.6172504656604803"
      ]
     },
     "execution_count": 12,
     "metadata": {},
     "output_type": "execute_result"
    }
   ],
   "source": [
    "#Node 2 (1.1,1.1)\n",
    "g₁²=zeros(9)\n",
    "for i in 1:9\n",
    "g₁²[i]=sqrt((1.1-X[:,i][1])^2+(1.2-X[:,i][2])^2)\n",
    "end\n",
    "g₁²"
   ]
  },
  {
   "cell_type": "code",
   "execution_count": 13,
   "metadata": {},
   "outputs": [
    {
     "data": {
      "text/plain": [
       "9-element Array{Float64,1}:\n",
       " 2.1213203435596424\n",
       " 1.5811388300841898\n",
       " 1.5811388300841898\n",
       " 1.5811388300841898\n",
       " 0.7071067811865476\n",
       " 0.7071067811865476\n",
       " 1.5811388300841898\n",
       " 0.7071067811865476\n",
       " 0.7071067811865476"
      ]
     },
     "execution_count": 13,
     "metadata": {},
     "output_type": "execute_result"
    }
   ],
   "source": [
    "#Node 3 (2.5,2.5)\n",
    "g₁³=zeros(9)\n",
    "for i in 1:9\n",
    "g₁³[i]=sqrt((2.5-X[:,i][1])^2+(2.5-X[:,i][2])^2)\n",
    "end\n",
    "g₁³"
   ]
  },
  {
   "cell_type": "code",
   "execution_count": 14,
   "metadata": {},
   "outputs": [
    {
     "data": {
      "text/plain": [
       "3-element Array{Float64,1}:\n",
       " 1.1383038504969272\n",
       " 2.0769803445205515\n",
       " 2.756639112959866"
      ]
     },
     "execution_count": 14,
     "metadata": {},
     "output_type": "execute_result"
    }
   ],
   "source": [
    "f₁¹=A1*g₁¹"
   ]
  },
  {
   "cell_type": "code",
   "execution_count": 15,
   "metadata": {},
   "outputs": [
    {
     "data": {
      "text/plain": [
       "3-element Array{Float64,1}:\n",
       " 1.0177206443731004\n",
       " 1.4070346853046354\n",
       " 2.204142798417519"
      ]
     },
     "execution_count": 15,
     "metadata": {},
     "output_type": "execute_result"
    }
   ],
   "source": [
    "f₁²=A1*g₁²"
   ]
  },
  {
   "cell_type": "code",
   "execution_count": 16,
   "metadata": {},
   "outputs": [
    {
     "data": {
      "text/plain": [
       "3-element Array{Float64,1}:\n",
       " 1.5299989984668718\n",
       " 6.357504525848945\n",
       " 4.896901203624062"
      ]
     },
     "execution_count": 16,
     "metadata": {},
     "output_type": "execute_result"
    }
   ],
   "source": [
    "f₁³=A1*g₁³"
   ]
  },
  {
   "cell_type": "markdown",
   "metadata": {},
   "source": [
    "RBF : Cubic Spline"
   ]
  },
  {
   "cell_type": "code",
   "execution_count": 17,
   "metadata": {},
   "outputs": [
    {
     "data": {
      "text/plain": [
       "9-element Array{Float64,1}:\n",
       " 0.35355339059327384\n",
       " 0.35355339059327384\n",
       " 3.952847075210475\n",
       " 0.35355339059327384\n",
       " 0.35355339059327384\n",
       " 3.952847075210475\n",
       " 3.952847075210475\n",
       " 3.952847075210475\n",
       " 9.545941546018389"
      ]
     },
     "execution_count": 17,
     "metadata": {},
     "output_type": "execute_result"
    }
   ],
   "source": [
    "#Node 1 (1.5,1.5)\n",
    "g₂¹=zeros(9)\n",
    "for i in 1:9\n",
    "g₂¹[i]=sqrt((1.5-X[:,i][1])^2+(1.5-X[:,i][2])^2)^3\n",
    "end\n",
    "g₂¹"
   ]
  },
  {
   "cell_type": "code",
   "execution_count": 18,
   "metadata": {},
   "outputs": [
    {
     "data": {
      "text/plain": [
       "9-element Array{Float64,1}:\n",
       "  0.011180339887498947\n",
       "  0.7836612788698952\n",
       "  6.973315208708123\n",
       "  0.5240467536394059\n",
       "  1.7460312139248833\n",
       "  8.761599454437528\n",
       "  5.859020822628984\n",
       "  8.150467777986734\n",
       " 17.928165689774293"
      ]
     },
     "execution_count": 18,
     "metadata": {},
     "output_type": "execute_result"
    }
   ],
   "source": [
    "#Node 2 (1.1,1.1)\n",
    "g₂²=zeros(9)\n",
    "for i in 1:9\n",
    "g₂²[i]=sqrt((1.1-X[:,i][1])^2+(1.2-X[:,i][2])^2)^3\n",
    "end\n",
    "g₂²"
   ]
  },
  {
   "cell_type": "code",
   "execution_count": 20,
   "metadata": {},
   "outputs": [
    {
     "data": {
      "text/plain": [
       "9-element Array{Float64,1}:\n",
       " 9.545941546018389\n",
       " 3.952847075210475\n",
       " 3.952847075210475\n",
       " 3.952847075210475\n",
       " 0.35355339059327384\n",
       " 0.35355339059327384\n",
       " 3.952847075210475\n",
       " 0.35355339059327384\n",
       " 0.35355339059327384"
      ]
     },
     "execution_count": 20,
     "metadata": {},
     "output_type": "execute_result"
    }
   ],
   "source": [
    "#Node 3 (2.5,2.5)\n",
    "g₂³=zeros(9)\n",
    "for i in 1:9\n",
    "g₂³[i]=sqrt((2.5-X[:,i][1])^2+(2.5-X[:,i][2])^2)^3\n",
    "end\n",
    "g₂³"
   ]
  },
  {
   "cell_type": "code",
   "execution_count": 21,
   "metadata": {},
   "outputs": [
    {
     "data": {
      "text/plain": [
       "3-element Array{Float64,1}:\n",
       " 1.2921213776313563\n",
       " 2.5844223787819507\n",
       " 3.250638435276149"
      ]
     },
     "execution_count": 21,
     "metadata": {},
     "output_type": "execute_result"
    }
   ],
   "source": [
    "f₂¹=A2*g₂¹"
   ]
  },
  {
   "cell_type": "code",
   "execution_count": 22,
   "metadata": {},
   "outputs": [
    {
     "data": {
      "text/plain": [
       "3-element Array{Float64,1}:\n",
       " 1.1367423567256028\n",
       " 1.811487244689955\n",
       " 2.5925893416474697"
      ]
     },
     "execution_count": 22,
     "metadata": {},
     "output_type": "execute_result"
    }
   ],
   "source": [
    "f₂²=A2*g₂²"
   ]
  },
  {
   "cell_type": "code",
   "execution_count": 23,
   "metadata": {},
   "outputs": [
    {
     "data": {
      "text/plain": [
       "3-element Array{Float64,1}:\n",
       " 1.6234173643382157\n",
       " 6.204892250889179\n",
       " 5.0608733713297624"
      ]
     },
     "execution_count": 23,
     "metadata": {},
     "output_type": "execute_result"
    }
   ],
   "source": [
    "f₂³=A2*g₂³"
   ]
  },
  {
   "cell_type": "code",
   "execution_count": null,
   "metadata": {},
   "outputs": [],
   "source": []
  }
 ],
 "metadata": {
  "kernelspec": {
   "display_name": "Julia 1.5.0",
   "language": "julia",
   "name": "julia-1.5"
  },
  "language_info": {
   "file_extension": ".jl",
   "mimetype": "application/julia",
   "name": "julia",
   "version": "1.5.0"
  }
 },
 "nbformat": 4,
 "nbformat_minor": 4
}
