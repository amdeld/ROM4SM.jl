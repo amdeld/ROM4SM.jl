{
 "cells": [
  {
   "cell_type": "markdown",
   "metadata": {},
   "source": [
    "# Discrete proper orthogonal decomposition (POD) of a set of vectors \n",
    "Inspired from Buljak, V. (2012). "
   ]
  },
  {
   "cell_type": "markdown",
   "metadata": {},
   "source": [
    "# Correlated and Uncorrelated Vectors and reduction of dimensionality in the correlated data\n",
    "<img src=\"https://raw.githubusercontent.com/amdeld/ROM4SM.jl/master/img/Vectors.png\" alt=\"Drawing\" style=\"width: 500px;\"/>\n"
   ]
  },
  {
   "cell_type": "markdown",
   "metadata": {},
   "source": [
    "# Data matrix (snapshots)\n",
    "$Y=\\left[\\begin{array}{cccc}\n",
    "| & | & | & |\\\\\n",
    "Y_{1} & Y_{2} & Y_{3} & Y_{4}\\\\\n",
    "| & | & | & |\n",
    "\\end{array}\\right]$"
   ]
  },
  {
   "cell_type": "code",
   "execution_count": 1,
   "metadata": {},
   "outputs": [
    {
     "name": "stdout",
     "output_type": "stream",
     "text": [
      "Data matrix Y =\n"
     ]
    }
   ],
   "source": [
    "#= Consider a set of four 3D dimensional vectors \n",
    "collected in a matrix of dim (3x4) Y=[y1 y2 y3 y4] =#\n",
    "using LinearAlgebra\n",
    "println(\"Data matrix Y =\")\n",
    "Y = [1 5 3 3; 1 4 4 3; 1 5 5 4]"
   ]
  },
  {
   "cell_type": "markdown",
   "metadata": {},
   "source": [
    "## Galerkin Projection\n",
    "$Y= ΦA$ or $y_{i}=\\sum_{n=1}^{K} a_{ij}.\\phi_j $\n",
    "\n",
    "<img src=\"https://raw.githubusercontent.com/amdeld/ROM4SM.jl/master/img/Projection.png\" alt=\"Drawing\" style=\"width: 500px;\"/>"
   ]
  },
  {
   "cell_type": "markdown",
   "metadata": {},
   "source": [
    "1. Eigen decomposition of the covariance matrix"
   ]
  },
  {
   "cell_type": "code",
   "execution_count": null,
   "metadata": {},
   "outputs": [],
   "source": [
    "# Calculate The Covariance matrix C (Y*Y') (3x3)\n",
    "println(\"Covariance matrix C =\")\n",
    "C = Y * Y'"
   ]
  },
  {
   "cell_type": "code",
   "execution_count": null,
   "metadata": {},
   "outputs": [],
   "source": [
    "# Calculate the eigenvalues λ =[λ1,λ2,λ3] of C\n",
    "println(\"Eigenvalues vector λ =\")\n",
    "F = eigen(C)\n",
    "λ = F.values"
   ]
  },
  {
   "cell_type": "code",
   "execution_count": null,
   "metadata": {},
   "outputs": [],
   "source": [
    "# Calculate the eigenvectors ϕ=[ϕ1 ϕ2 ϕ3] of C\n",
    "println(\"Eigenvectors matrix Φ = \")\n",
    "Φ = F.vectors\n"
   ]
  },
  {
   "cell_type": "markdown",
   "metadata": {},
   "source": [
    " The $\\phi$ matrix is unitary ( $\\phi\\phi^{*} = \\phi^{*}\\phi = I$ )"
   ]
  },
  {
   "cell_type": "code",
   "execution_count": null,
   "metadata": {},
   "outputs": [],
   "source": [
    "#Calculate the amplitudes matrix A = ϕ'*Y (3x4)\n",
    "println(\"Amplitude matrix A=\")\n",
    "A = Φ' * Y"
   ]
  },
  {
   "cell_type": "markdown",
   "metadata": {},
   "source": [
    "* Reconstruction without any reduction"
   ]
  },
  {
   "cell_type": "code",
   "execution_count": null,
   "metadata": {},
   "outputs": [],
   "source": [
    "println(\"Full Reconstruction  Ỹ123 = Φ * A\")\n",
    "Ỹ123 = Φ * A"
   ]
  },
  {
   "cell_type": "code",
   "execution_count": null,
   "metadata": {},
   "outputs": [],
   "source": [
    "norm(Y-Ỹ123)"
   ]
  },
  {
   "cell_type": "code",
   "execution_count": null,
   "metadata": {},
   "outputs": [],
   "source": [
    "Y ≈ Ỹ123"
   ]
  },
  {
   "cell_type": "code",
   "execution_count": null,
   "metadata": {},
   "outputs": [],
   "source": [
    "# Y1 = Φ * A1\n",
    "println(\"Y1 =\")\n",
    "Y1 = Φ * A[:, 1]"
   ]
  },
  {
   "cell_type": "code",
   "execution_count": null,
   "metadata": {},
   "outputs": [],
   "source": [
    "# Y2 = Φ * A2\n",
    "println(\"Y2 =\")\n",
    "Y2 = Φ * A[:, 2]"
   ]
  },
  {
   "cell_type": "code",
   "execution_count": null,
   "metadata": {},
   "outputs": [],
   "source": [
    "# Y3 = Φ * A2\n",
    "println(\"Y3 =\")\n",
    "Y3 = Φ * A[:, 3]"
   ]
  },
  {
   "cell_type": "code",
   "execution_count": null,
   "metadata": {},
   "outputs": [],
   "source": [
    "# Y4 = Φ * A4\n",
    "println(\"Y4 =\")\n",
    "Y4 = Φ * A[:, 4]"
   ]
  },
  {
   "cell_type": "markdown",
   "metadata": {},
   "source": [
    "* Reconstruction based on the first most energetic mode (largest eigen value)"
   ]
  },
  {
   "cell_type": "code",
   "execution_count": null,
   "metadata": {},
   "outputs": [],
   "source": [
    "#Keep the last direction and amplitude      Y ≈ Ỹ3 = ϕ3 * A3\n",
    "println(\"Ỹ3 =\")\n",
    "Ỹ3 = Φ[:, 3] * A[3, :]'"
   ]
  },
  {
   "cell_type": "code",
   "execution_count": null,
   "metadata": {},
   "outputs": [],
   "source": [
    "norm(Y-Ỹ3)"
   ]
  },
  {
   "cell_type": "markdown",
   "metadata": {},
   "source": [
    "* Reconstruction based on the two most energetic modes"
   ]
  },
  {
   "cell_type": "code",
   "execution_count": null,
   "metadata": {},
   "outputs": [],
   "source": [
    "#Keep the two last directions and amplitudes Y ≈ Ỹ23=ϕ2:3*A2:3\n",
    "println(\"Ỹ23 =\")\n",
    "Ỹ23 = Φ[:, 2:3] * A[2:3, :]"
   ]
  },
  {
   "cell_type": "code",
   "execution_count": null,
   "metadata": {},
   "outputs": [],
   "source": [
    "norm(Y-Ỹ23)"
   ]
  },
  {
   "cell_type": "markdown",
   "metadata": {},
   "source": [
    "# 2. Singular Value Decomposition of the snapshot-data matrix"
   ]
  },
  {
   "cell_type": "markdown",
   "metadata": {},
   "source": [
    "* Calculate the SVD of Y"
   ]
  },
  {
   "cell_type": "code",
   "execution_count": null,
   "metadata": {},
   "outputs": [],
   "source": [
    "println(\"SVD decomposition Ỹ = UΣV*\")\n",
    "Ỹ = svd(Y)"
   ]
  },
  {
   "cell_type": "markdown",
   "metadata": {},
   "source": [
    "* Reconstruction without any reduction"
   ]
  },
  {
   "cell_type": "code",
   "execution_count": null,
   "metadata": {},
   "outputs": [],
   "source": [
    "println(\"Full Reconstruction  Ỹrec = UΣV*\")\n",
    "Ỹrec = Ỹ.U * diagm(Ỹ.S) * Ỹ.Vt\n",
    "round.(Ỹ123; digits=2)"
   ]
  },
  {
   "cell_type": "code",
   "execution_count": null,
   "metadata": {},
   "outputs": [],
   "source": [
    "norm(Y - Ỹ123)"
   ]
  },
  {
   "cell_type": "markdown",
   "metadata": {},
   "source": [
    "* Reconstruction based on the single most energetic mode"
   ]
  },
  {
   "cell_type": "code",
   "execution_count": null,
   "metadata": {},
   "outputs": [],
   "source": [
    "println(\"Ỹ1=\")\n",
    "Ỹ1 = (Ỹ.U[:, 1] * Ỹ.S[1]) * Ỹ.Vt[1, :]'"
   ]
  },
  {
   "cell_type": "code",
   "execution_count": null,
   "metadata": {},
   "outputs": [],
   "source": [
    "norm(Y - Ỹ1)"
   ]
  },
  {
   "cell_type": "markdown",
   "metadata": {},
   "source": [
    "* Reconstruction based on the two most energetic modes"
   ]
  },
  {
   "cell_type": "code",
   "execution_count": null,
   "metadata": {},
   "outputs": [],
   "source": [
    "println(\"Ỹ12=\")\n",
    "Ỹ12 = (Ỹ.U[:, 1] * Ỹ.S[1]) * Ỹ.Vt[1, :]' + (Ỹ.U[:, 2] * Ỹ.S[2]) * Ỹ.Vt[2, :]'"
   ]
  },
  {
   "cell_type": "code",
   "execution_count": null,
   "metadata": {},
   "outputs": [],
   "source": [
    "Ỹ12 =   Ỹ.U[:,1:2] * diagm(Ỹ.S)[1:2,1:2] * Ỹ.Vt[1:2,:]"
   ]
  },
  {
   "cell_type": "code",
   "execution_count": null,
   "metadata": {},
   "outputs": [],
   "source": [
    "norm(Y - Ỹ12)"
   ]
  },
  {
   "cell_type": "markdown",
   "metadata": {},
   "source": [
    "* Reconstruction based on the three most energetic modes ( which means here = no approximation!)"
   ]
  },
  {
   "cell_type": "code",
   "execution_count": null,
   "metadata": {},
   "outputs": [],
   "source": [
    "println(\"Ỹ123=\")\n",
    "Ỹ123 = (Ỹ.U[:, 1] * Ỹ.S[1]) * Ỹ.Vt[1, :]' + (Ỹ.U[:, 2] * Ỹ.S[2]) * Ỹ.Vt[2, :]' + (Ỹ.U[:, 3] * Ỹ.S[3]) * Ỹ.Vt[3, :]'"
   ]
  },
  {
   "cell_type": "code",
   "execution_count": null,
   "metadata": {},
   "outputs": [],
   "source": [
    "norm(Y-Ỹ123)"
   ]
  },
  {
   "cell_type": "code",
   "execution_count": null,
   "metadata": {},
   "outputs": [],
   "source": [
    "Ỹrec ≈ Ỹ123"
   ]
  }
 ],
 "metadata": {
  "kernelspec": {
   "display_name": "Julia 1.8.2",
   "language": "julia",
   "name": "julia-1.8"
  },
  "language_info": {
   "file_extension": ".jl",
   "mimetype": "application/julia",
   "name": "julia",
   "version": "1.8.2"
  }
 },
 "nbformat": 4,
 "nbformat_minor": 4
}
