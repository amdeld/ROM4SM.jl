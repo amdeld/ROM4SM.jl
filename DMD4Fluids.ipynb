{
 "cells": [
  {
   "cell_type": "code",
   "execution_count": 1,
   "metadata": {},
   "outputs": [
    {
     "name": "stderr",
     "output_type": "stream",
     "text": [
      "┌ Info: Precompiling MAT [23992714-dd62-5051-b70f-ba57cb901cac]\n",
      "└ @ Base loading.jl:1278\n"
     ]
    }
   ],
   "source": [
    "using MAT"
   ]
  },
  {
   "cell_type": "code",
   "execution_count": 8,
   "metadata": {},
   "outputs": [],
   "source": [
    "cd(\"D:\\\\Users\\\\Administrator\\\\Desktop\\\\AD\\\\Research\\\\DDSE\\\\CODE\\\\CH02_FLUIDS\");"
   ]
  },
  {
   "cell_type": "code",
   "execution_count": 9,
   "metadata": {},
   "outputs": [
    {
     "data": {
      "text/plain": [
       "\"D:\\\\Users\\\\Administrator\\\\Desktop\\\\AD\\\\Research\\\\DDSE\\\\CODE\\\\CH02_FLUIDS\""
      ]
     },
     "execution_count": 9,
     "metadata": {},
     "output_type": "execute_result"
    }
   ],
   "source": [
    "pwd()"
   ]
  },
  {
   "cell_type": "code",
   "execution_count": 11,
   "metadata": {},
   "outputs": [
    {
     "data": {
      "text/plain": [
       "8-element Array{String,1}:\n",
       " \".DS_Store\"\n",
       " \"CCcool.mat\"\n",
       " \"README.txt\"\n",
       " \"computeDMD.m\"\n",
       " \"computePOD.m\"\n",
       " \"loadDATA.m\"\n",
       " \"loadIBPM.m\"\n",
       " \"plotCylinder.m\""
      ]
     },
     "execution_count": 11,
     "metadata": {},
     "output_type": "execute_result"
    }
   ],
   "source": [
    "readdir()"
   ]
  },
  {
   "cell_type": "code",
   "execution_count": 18,
   "metadata": {},
   "outputs": [
    {
     "data": {
      "text/plain": [
       "Dict{String,Any} with 10 entries:\n",
       "  \"n\"         => 449.0\n",
       "  \"nx\"        => 199.0\n",
       "  \"m\"         => 199.0\n",
       "  \"UEXTRA\"    => [1.01268; 1.01211; … ; 0.899783; 0.90235]\n",
       "  \"ny\"        => 449.0\n",
       "  \"VEXTRA\"    => [-0.115357; -0.116494; … ; 0.156785; 0.153308]\n",
       "  \"VORTALL\"   => [-9.37978e-15 -8.81369e-15 … -9.41491e-15 -9.30876e-15; -9.306…\n",
       "  \"UALL\"      => [1.01243 1.01092 … 1.01606 1.01434; 1.01186 1.01034 … 1.01553 …\n",
       "  \"VALL\"      => [-0.11537 -0.115353 … -0.114821 -0.115171; -0.116503 -0.116465…\n",
       "  \"VORTEXTRA\" => [-8.3202e-15; -8.40734e-15; … ; -0.0316823; -0.0451625]"
      ]
     },
     "execution_count": 18,
     "metadata": {},
     "output_type": "execute_result"
    }
   ],
   "source": [
    "matdata = matread(\"..\\\\DATA\\\\FLUIDS\\\\CYLINDER_ALL.mat\")"
   ]
  },
  {
   "cell_type": "code",
   "execution_count": 25,
   "metadata": {},
   "outputs": [],
   "source": [
    "Y=matdata[\"VORTALL\"];X=Y[:,1:end-1];X2=Y[:,2:end];"
   ]
  },
  {
   "cell_type": "code",
   "execution_count": null,
   "metadata": {},
   "outputs": [],
   "source": []
  }
 ],
 "metadata": {
  "kernelspec": {
   "display_name": "Julia 1.5.0",
   "language": "julia",
   "name": "julia-1.5"
  },
  "language_info": {
   "file_extension": ".jl",
   "mimetype": "application/julia",
   "name": "julia",
   "version": "1.5.0"
  }
 },
 "nbformat": 4,
 "nbformat_minor": 4
}
