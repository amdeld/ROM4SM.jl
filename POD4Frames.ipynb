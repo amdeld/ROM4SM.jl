{
 "cells": [
  {
   "cell_type": "markdown",
   "metadata": {},
   "source": [
    "# Proper Orthogonal Decomposition (POD) for Structural Mechanics\n",
    "inspired from Buljak, V. (2012). Inverse Analyses with Model Reduction Proper Orthogonal Decomposition in Structural Mechanics. Springer Berlin Heidelberg (Vol. 33). https://doi.org/10.1007/978-3-642-22703-5\n",
    "\n",
    "## Use Case : Frame made up of plane elastic trusses (11 rods et 5 unconstrained nodes with 2 degrees of freedom (10 dof)). The displacement is fixed at node 6 and node 7. The load is applied on nodes 1&2 with respectivelely a force $F1 = -5000 N$ and a force $F2 = -2000 N$ (see figure below made thanks to MSC.Marc from https://mscsoftware.com)  "
   ]
  },
  {
   "cell_type": "markdown",
   "metadata": {},
   "source": [
    "## Frame\n",
    "\n",
    "<img src=\"https://raw.githubusercontent.com/amdeld/ROM4SM.jl/master/img/TrussStructure_LBC.png\" alt=\"Drawing\" style=\"width: 800px;\"/>\n"
   ]
  },
  {
   "cell_type": "code",
   "execution_count": 1,
   "metadata": {},
   "outputs": [],
   "source": [
    "using Pkg;Pkg.instantiate()"
   ]
  },
  {
   "cell_type": "code",
   "execution_count": 2,
   "metadata": {},
   "outputs": [],
   "source": [
    "using LinearAlgebra, CSV, DataFrames, DelimitedFiles,Plots # needed for the decomposition operations"
   ]
  },
  {
   "cell_type": "markdown",
   "metadata": {},
   "source": [
    "## Definition of the stiffness matrix function for a plane elastic truss element "
   ]
  },
  {
   "cell_type": "code",
   "execution_count": 3,
   "metadata": {},
   "outputs": [
    {
     "data": {
      "text/plain": [
       "TrussElementStiffness (generic function with 1 method)"
      ]
     },
     "execution_count": 3,
     "metadata": {},
     "output_type": "execute_result"
    }
   ],
   "source": [
    "function TrussElementStiffness(coo,E,A)\n",
    "# Function that computes stiffness matrix for truss element\n",
    "# (file name trstiff.m)\n",
    "L=sqrt((coo[2,1]-coo[1,1])^2+(coo[2,2]-coo[1,2])^2)\n",
    "C=(coo[2,1]-coo[1,1])/L\n",
    "S=(coo[2,2]-coo[1,2])/L\n",
    "# Stiffness matrix\n",
    "STF=E*A/L*[C^2 S*C -C^2 -S*C;\n",
    "S*C S^2 -S*C -S^2;\n",
    "-C^2 -S*C C^2 S*C;\n",
    "-S*C -S^2 S*C S^2];\n",
    "return(STF)\n",
    "end"
   ]
  },
  {
   "cell_type": "markdown",
   "metadata": {},
   "source": [
    "## Assemble&Solve Function"
   ]
  },
  {
   "cell_type": "code",
   "execution_count": 4,
   "metadata": {},
   "outputs": [
    {
     "data": {
      "text/plain": [
       "TrussAssembleSolve (generic function with 1 method)"
      ]
     },
     "execution_count": 4,
     "metadata": {},
     "output_type": "execute_result"
    }
   ],
   "source": [
    "# Main program for truss structure\n",
    "# Coordinates - units L[mm]\n",
    "function TrussAssembleSolve(E,A)\n",
    "COO=[0 0; 2 0; 4 0 ;1 1; 3 1; -1 1; 5 1]\n",
    "COO=1000*COO\n",
    "DOF=size(COO,1)*2\n",
    "# Elements\n",
    "ELM=[1 2; 2 3; 6 4; 4 5; 5 7; 1 6; 1 4; 2 4; 2 5; 3 5; 3 7]\n",
    "# Properties (units F[N], L[mm])\n",
    "#E=125000\n",
    "#A=6\n",
    "# Assembling of stiffness matrix\n",
    "MSTF=zeros(DOF,DOF)\n",
    "X=zeros(2,2)\n",
    "for i in 1:size(ELM,1)\n",
    "X[1,:]=COO[ELM[i,1],:]\n",
    "X[2,:]=COO[ELM[i,2],:]\n",
    "STF=TrussElementStiffness(X,E,A)\n",
    "MSTF[2*ELM[i,1]-1:2*ELM[i,1],2*ELM[i,1]-\n",
    "1:2*ELM[i,1]]=MSTF[2*ELM[i,1]-1:2*ELM[i,1],2*ELM[i,1]-\n",
    "1:2*ELM[i,1]]+STF[1:2,1:2]\n",
    "MSTF[2*ELM[i,1]-1:2*ELM[i,1],2*ELM[i,2]-\n",
    "1:2*ELM[i,2]]=MSTF[2*ELM[i,1]-1:2*ELM[i,1],2*ELM[i,2]-\n",
    "1:2*ELM[i,2]]+STF[3:4,1:2]\n",
    "MSTF[2*ELM[i,2]-1:2*ELM[i,2],2*ELM[i,1]-\n",
    "1:2*ELM[i,1]]=MSTF[2*ELM[i,2]-1:2*ELM[i,2],2*ELM[i,1]-\n",
    "1:2*ELM[i,1]]+STF[1:2,3:4]\n",
    "MSTF[2*ELM[i,2]-1:2*ELM[i,2],2*ELM[i,2]-\n",
    "1:2*ELM[i,2]]=MSTF[2*ELM[i,2]-1:2*ELM[i,2],2*ELM[i,2]-\n",
    "1:2*ELM[i,2]]+STF[3:4,3:4]\n",
    "end\n",
    "# Constrains\n",
    "con=[12 13 14 15] # constrained DOF\n",
    "CDOF=size(con,2)\n",
    "# Forces\n",
    "dF=zeros(DOF,1)\n",
    "dF[2]=-5000\n",
    "dF[6]=-2000\n",
    "# Reduced stiffness matrix & force vector\n",
    "RSTF=MSTF[1:DOF-CDOF,1:DOF-CDOF]\n",
    "dFR=dF[1:DOF-CDOF]\n",
    "# Solving for displacements\n",
    "d=inv(RSTF)*dFR\n",
    "# End of main program\n",
    "return(d)\n",
    "end"
   ]
  },
  {
   "cell_type": "markdown",
   "metadata": {},
   "source": [
    "## Definition of the design of experiments function (doe)"
   ]
  },
  {
   "cell_type": "code",
   "execution_count": 5,
   "metadata": {},
   "outputs": [
    {
     "data": {
      "text/plain": [
       "doe (generic function with 1 method)"
      ]
     },
     "execution_count": 5,
     "metadata": {},
     "output_type": "execute_result"
    }
   ],
   "source": [
    "function doe()\n",
    "    Y=zeros(10,16)\n",
    "    P=zeros(2,16)\n",
    "    cnt=0\n",
    "    for E in [125000 150000 175000 200000]\n",
    "        for A in [6 8 10 12]\n",
    "            Disp = TrussAssembleSolve(E, A)\n",
    "            #show(Disp)\n",
    "            cnt += 1\n",
    "            Y[:,cnt] = Disp\n",
    "            P[:,cnt] = [E;A]\n",
    "        end\n",
    "    end\n",
    "    #show(U)\n",
    "    return (Y,P)\n",
    "end"
   ]
  },
  {
   "cell_type": "markdown",
   "metadata": {},
   "source": [
    "## Definition of the calculation function for the matrix $B$ of coefficients of interpolation "
   ]
  },
  {
   "cell_type": "code",
   "execution_count": 6,
   "metadata": {},
   "outputs": [
    {
     "data": {
      "text/plain": [
       "BlinMtx (generic function with 1 method)"
      ]
     },
     "execution_count": 6,
     "metadata": {},
     "output_type": "execute_result"
    }
   ],
   "source": [
    "function BlinMtx(A, p)\n",
    "    # Interpolation by the use of RBFs [Linear splines type]\n",
    "    # Normalization of P [0 1]\n",
    "    M = size(p, 1)\n",
    "    N = size(p, 2)\n",
    "    minP = zeros(M)\n",
    "    maxP = zeros(M)\n",
    "    x = zeros(M, N)\n",
    "    G = zeros(N, N)\n",
    "    for j = 1:M\n",
    "        minP[j] = minimum(p[j,:])\n",
    "        maxP[j] = maximum(p[j,:])\n",
    "        for i = 1:N\n",
    "            x[j,i] = (p[j,i] - minP[j]) / (maxP[j] - minP[j])\n",
    "        end\n",
    "    end\n",
    "    for i = 1:N\n",
    "        for j = 1:N\n",
    "            G[i,j] = sum((x[:,i] - x[:,j]).^2).^0.5\n",
    "        end\n",
    "    end\n",
    "    return A * inv(G)\n",
    "end"
   ]
  },
  {
   "cell_type": "markdown",
   "metadata": {},
   "source": [
    "## Definition of the calculation function for the vector $G$ of interpolation functions"
   ]
  },
  {
   "cell_type": "code",
   "execution_count": 7,
   "metadata": {},
   "outputs": [
    {
     "data": {
      "text/plain": [
       "GlinVec (generic function with 1 method)"
      ]
     },
     "execution_count": 7,
     "metadata": {},
     "output_type": "execute_result"
    }
   ],
   "source": [
    "function GlinVec(p, pX)\n",
    "    # Function that constructs G vector as function of given parameters\n",
    "    M=size(p,1)\n",
    "    N = size(p, 2); # The number of generated snapshots\n",
    "    minP = zeros(M)\n",
    "    maxP = zeros(M)\n",
    "    x = zeros(M, N)\n",
    "    G = zeros(N)\n",
    "    # Normalization of p\n",
    "    for j = 1:M\n",
    "        minP[j,1] = minimum(p[j,:])\n",
    "        maxP[j,1] = maximum(p[j,:])\n",
    "        for i = 1:N\n",
    "            x[j,i] = (p[j,i] - minP[j]) / (maxP[j] - minP[j])\n",
    "        end\n",
    "    end\n",
    "    gi(x,y) = (sum((x-y).^2).^0.5)\n",
    "    value = pX\n",
    "    for k = 1:N\n",
    "        G[k] = gi(value,x[:,k])\n",
    "    end\n",
    "    return G\n",
    "end"
   ]
  },
  {
   "cell_type": "markdown",
   "metadata": {},
   "source": [
    "## DOE execution for the snapshot  $Y$ and the parameter $P$ matrices calculation \n",
    "<img src=\"https://raw.githubusercontent.com/amdeld/ROM4SM.jl/master/img/Snapshotmatrix4FEM.png\" alt=\"Drawing\" style=\"width: 700px;\"/>\n",
    "\n",
    "$Y=\\left[\\begin{array}{cccccccccc}\n",
    "| & | & | & | & | & | & | & | & | & |\\\\\n",
    "\\vdots & \\vdots & \\vdots & \\vdots & \\vdots & \\vdots & \\vdots & \\vdots & \\vdots & \\vdots\\\\\n",
    "| & | & | & | & | & | & | & | & | & |\\\\\n",
    "Y_{1} & Y_{2} & Y_{3} & Y_{4} & Y_{5} & Y_{6} & Y_{7} & Y_{8} & Y_{9} & Y_{10}\\\\\n",
    "| & | & | & | & | & | & | & | & | & |\\\\\n",
    "\\vdots & \\vdots & \\vdots & \\vdots & \\vdots & \\vdots & \\vdots & \\vdots & \\vdots & \\vdots\\\\\n",
    "| & | & | & | & | & | & | & | & | & |\n",
    "\\end{array}\\right]$\n",
    "\n",
    "Range of Young modulus $E = \\{125000; 150000; 175000; 200000\\} (unit\\ MPa)$\n",
    "Range of cross section $A = \\{6; 8; 10; 12\\} (unit\\ mm)$"
   ]
  },
  {
   "cell_type": "code",
   "execution_count": 8,
   "metadata": {},
   "outputs": [
    {
     "name": "stdout",
     "output_type": "stream",
     "text": [
      "The Data - Snapshot matrix coming out from the DOE Y =\n",
      "10×16 Matrix{Float64}:\n",
      " -11.56   -8.67   -6.93   -5.78   -9.63   -7.22   -5.78   -4.81   -8.25   -6.19   -4.95   -4.13   -7.22   -5.42   -4.33   -3.61\n",
      " -28.53  -21.39  -17.12  -14.26  -23.77  -17.83  -14.26  -11.89  -20.38  -15.28  -12.23  -10.19  -17.83  -13.37  -10.7    -8.91\n",
      "  -0.89   -0.67   -0.53   -0.44   -0.74   -0.56   -0.44   -0.37   -0.63   -0.48   -0.38   -0.32   -0.56   -0.42   -0.33   -0.28\n",
      " -31.87  -23.9   -19.12  -15.93  -26.55  -19.92  -15.93  -13.28  -22.76  -17.07  -13.66  -11.38  -19.92  -14.94  -11.95   -9.96\n",
      "   7.11    5.33    4.27    3.56    5.93    4.44    3.56    2.96    5.08    3.81    3.05    2.54    4.44    3.33    2.67    2.22\n",
      " -16.54  -12.4    -9.92   -8.27  -13.78  -10.34   -8.27   -6.89  -11.81   -8.86   -7.09   -5.91  -10.34   -7.75   -6.2    -5.17\n",
      "  -2.67   -2.0    -1.6    -1.33   -2.22   -1.67   -1.33   -1.11   -1.9    -1.43   -1.14   -0.95   -1.67   -1.25   -1.0    -0.83\n",
      " -35.53  -26.65  -21.32  -17.76  -29.61  -22.21  -17.76  -14.8   -25.38  -19.03  -15.23  -12.69  -22.21  -16.65  -13.32  -11.1\n",
      "  -2.67   -2.0    -1.6    -1.33   -2.22   -1.67   -1.33   -1.11   -1.9    -1.43   -1.14   -0.95   -1.67   -1.25   -1.0    -0.83\n",
      " -28.2   -21.15  -16.92  -14.1   -23.5   -17.63  -14.1   -11.75  -20.14  -15.11  -12.09  -10.07  -17.63  -13.22  -10.58   -8.81\n",
      "\n",
      "The Parameter matrix P coming out from the DOE P =\n",
      "2×16 Matrix{Float64}:\n",
      " 125000.0  125000.0  125000.0  125000.0  150000.0  150000.0  150000.0  150000.0  175000.0  175000.0  175000.0  175000.0  200000.0  200000.0  200000.0  200000.0\n",
      "      6.0       8.0      10.0      12.0       6.0       8.0      10.0      12.0       6.0       8.0      10.0      12.0       6.0       8.0      10.0      12.0"
     ]
    }
   ],
   "source": [
    "# Execute The design of experiments (DOE)\n",
    "Y,P=doe()\n",
    "# Wriing data into csv files\n",
    "CSV.write(\"data/X.csv\",DataFrame(P'))\n",
    "CSV.write(\"data/Y.csv\",DataFrame(Y))\n",
    "println(\"\\rThe Data - Snapshot matrix coming out from the DOE Y =\\r\")\n",
    "show(stdout,\"text/plain\", round.(Y;digits=2))\n",
    "println(\"\\n\\nThe Parameter matrix P coming out from the DOE P =\\r\")\n",
    "show(stdout,\"text/plain\", round.(P;digits=0))\n"
   ]
  },
  {
   "cell_type": "markdown",
   "metadata": {},
   "source": [
    "## Verification of the results for the first column ($E = 125000 MPa$ and $A = 6mm$) with the commercial finite element software MSC.Marc\n",
    "<img src=\"https://raw.githubusercontent.com/amdeld/ROM4SM.jl/master/img/TrussStructure_DisplacementX.png\" alt=\"Drawing\" style=\"width: 800px;\"/>\n",
    "<img src=\"https://raw.githubusercontent.com/amdeld/ROM4SM.jl/master/img/TrussStructure_DisplacementY.png\" alt=\"Drawing\" style=\"width: 800px;\"/>"
   ]
  },
  {
   "cell_type": "markdown",
   "metadata": {},
   "source": [
    "## POD 2 methodes are used here which give the same results (1. eigen decomposition and 2. singular value decompostion) followed by reconstruction and reduction steps"
   ]
  },
  {
   "cell_type": "markdown",
   "metadata": {},
   "source": [
    "1. Eigen decomposition"
   ]
  },
  {
   "cell_type": "code",
   "execution_count": 9,
   "metadata": {},
   "outputs": [
    {
     "data": {
      "text/plain": [
       "10×10 Matrix{Float64}:\n",
       "  752.878    1858.56    57.9137  …   2314.84    173.741    1837.48\n",
       " 1858.56     4588.05   142.966       5714.44    428.898    4536.02\n",
       "   57.9137    142.966    4.4549       178.065    13.3647    141.345\n",
       " 2076.16     5125.23   159.705       6383.49    479.114    5067.1\n",
       " -463.31    -1143.73   -35.6392     -1424.52   -106.918   -1130.76\n",
       " 1077.58     2660.11    82.8905  …   3313.18    248.672    2629.94\n",
       "  173.741     428.898   13.3647       534.194    40.0941    424.034\n",
       " 2314.84     5714.44   178.065       7117.35    534.194    5649.63\n",
       "  173.741     428.898   13.3647       534.194    40.0941    424.034\n",
       " 1837.48     4536.02   141.345       5649.63    424.034    4484.57"
      ]
     },
     "execution_count": 9,
     "metadata": {},
     "output_type": "execute_result"
    }
   ],
   "source": [
    "Y*Y'"
   ]
  },
  {
   "cell_type": "code",
   "execution_count": 10,
   "metadata": {},
   "outputs": [
    {
     "name": "stdout",
     "output_type": "stream",
     "text": [
      "EigenValues vector λ =\n"
     ]
    },
    {
     "data": {
      "text/plain": [
       "10-element Vector{Float64}:\n",
       "    -0.0\n",
       "    -0.0\n",
       "    -0.0\n",
       "    -0.0\n",
       "     0.0\n",
       "     0.0\n",
       "     0.0\n",
       "     0.0\n",
       "     0.0\n",
       " 24580.22"
      ]
     },
     "execution_count": 10,
     "metadata": {},
     "output_type": "execute_result"
    }
   ],
   "source": [
    "F=eigen(Y*Y')\n",
    "println(\"\\rEigenValues vector λ =\\r\")\n",
    "round.(F.values,digits=2)"
   ]
  },
  {
   "cell_type": "code",
   "execution_count": 11,
   "metadata": {},
   "outputs": [
    {
     "name": "stdout",
     "output_type": "stream",
     "text": [
      "EigenVectors matrix ϕ =\n"
     ]
    },
    {
     "data": {
      "text/plain": [
       "10×10 Matrix{Float64}:\n",
       "  0.44  -0.02   0.44   0.05   0.01  -0.18   0.71  -0.19  -0.08  -0.18\n",
       " -0.55   0.2   -0.2    0.0   -0.12   0.36   0.34  -0.36  -0.2   -0.43\n",
       "  0.02  -0.0    0.01  -0.91  -0.38  -0.14   0.02  -0.02  -0.01  -0.01\n",
       "  0.02  -0.1   -0.47  -0.04   0.3   -0.55   0.07   0.3   -0.23  -0.48\n",
       "  0.07   0.53  -0.02  -0.14   0.46  -0.28  -0.21  -0.59   0.05   0.11\n",
       "  0.42  -0.52  -0.21   0.04  -0.11   0.18  -0.32  -0.54  -0.12  -0.25\n",
       "  0.01   0.29  -0.05   0.37  -0.72  -0.47  -0.14  -0.13  -0.02  -0.04\n",
       "  0.05   0.23   0.57  -0.03   0.04   0.13  -0.45   0.2   -0.25  -0.54\n",
       "  0.57   0.51  -0.42  -0.02  -0.1    0.41   0.08   0.24  -0.02  -0.04\n",
       "  0.0    0.0    0.0    0.0    0.0    0.0    0.0    0.0    0.9   -0.43"
      ]
     },
     "execution_count": 11,
     "metadata": {},
     "output_type": "execute_result"
    }
   ],
   "source": [
    "println(\"\\rEigenVectors matrix ϕ =\\r\")\n",
    "ϕ=F.vectors\n",
    "round.(ϕ;digits=2)"
   ]
  },
  {
   "cell_type": "code",
   "execution_count": 12,
   "metadata": {},
   "outputs": [
    {
     "name": "stdout",
     "output_type": "stream",
     "text": [
      "Amplitude matrix A =\n"
     ]
    },
    {
     "data": {
      "text/plain": [
       "10×16 Matrix{Float64}:\n",
       "  0.0    0.0    0.0    0.0    0.0   …   0.0    0.0    0.0    0.0    0.0\n",
       " -0.0    0.0   -0.0   -0.0   -0.0      -0.0    0.0   -0.0    0.0    0.0\n",
       " -0.0   -0.0   -0.0   -0.0   -0.0      -0.0   -0.0   -0.0   -0.0   -0.0\n",
       " -0.0   -0.0    0.0   -0.0    0.0      -0.0    0.0    0.0   -0.0    0.0\n",
       "  0.0   -0.0    0.0    0.0   -0.0      -0.0   -0.0   -0.0   -0.0   -0.0\n",
       " -0.0    0.0   -0.0   -0.0    0.0   …   0.0    0.0    0.0    0.0    0.0\n",
       "  0.0    0.0   -0.0    0.0    0.0      -0.0    0.0   -0.0    0.0    0.0\n",
       "  0.0   -0.0    0.0    0.0   -0.0      -0.0   -0.0   -0.0   -0.0   -0.0\n",
       "  0.0    0.0    0.0    0.0    0.0       0.0    0.0    0.0    0.0    0.0\n",
       " 66.03  49.52  39.62  33.01  55.02     23.58  41.27  30.95  24.76  20.63"
      ]
     },
     "execution_count": 12,
     "metadata": {},
     "output_type": "execute_result"
    }
   ],
   "source": [
    "println(\"\\rAmplitude matrix A =\\r\")\n",
    "A=F.vectors'*Y\n",
    "round.(A;digits=2)"
   ]
  },
  {
   "cell_type": "markdown",
   "metadata": {},
   "source": [
    "* Reconstruction without any reduction"
   ]
  },
  {
   "cell_type": "code",
   "execution_count": 13,
   "metadata": {},
   "outputs": [
    {
     "name": "stdout",
     "output_type": "stream",
     "text": [
      "Full Reconstruction Yrecons = ϕA\n"
     ]
    },
    {
     "data": {
      "text/plain": [
       "10×16 Matrix{Float64}:\n",
       " -11.56   -8.67   -6.93   -5.78   -9.63  …   -7.22   -5.42   -4.33   -3.61\n",
       " -28.53  -21.39  -17.12  -14.26  -23.77     -17.83  -13.37  -10.7    -8.91\n",
       "  -0.89   -0.67   -0.53   -0.44   -0.74      -0.56   -0.42   -0.33   -0.28\n",
       " -31.87  -23.9   -19.12  -15.93  -26.55     -19.92  -14.94  -11.95   -9.96\n",
       "   7.11    5.33    4.27    3.56    5.93       4.44    3.33    2.67    2.22\n",
       " -16.54  -12.4    -9.92   -8.27  -13.78  …  -10.34   -7.75   -6.2    -5.17\n",
       "  -2.67   -2.0    -1.6    -1.33   -2.22      -1.67   -1.25   -1.0    -0.83\n",
       " -35.53  -26.65  -21.32  -17.76  -29.61     -22.21  -16.65  -13.32  -11.1\n",
       "  -2.67   -2.0    -1.6    -1.33   -2.22      -1.67   -1.25   -1.0    -0.83\n",
       " -28.2   -21.15  -16.92  -14.1   -23.5      -17.63  -13.22  -10.58   -8.81"
      ]
     },
     "execution_count": 13,
     "metadata": {},
     "output_type": "execute_result"
    }
   ],
   "source": [
    "println(\"\\rFull Reconstruction Yrecons = ϕA\\r\")\n",
    "Yrecons=ϕ*A\n",
    "round.(Yrecons;digits=2)"
   ]
  },
  {
   "cell_type": "markdown",
   "metadata": {},
   "source": [
    "* Reconstruction based on the first most energetic mode reduction"
   ]
  },
  {
   "cell_type": "code",
   "execution_count": 14,
   "metadata": {},
   "outputs": [
    {
     "name": "stdout",
     "output_type": "stream",
     "text": [
      "Reconstruction (reduction based on the most energetic mode) Ỹ10 = ϕ10*A10'≈ Y\n"
     ]
    },
    {
     "data": {
      "text/plain": [
       "10×16 Matrix{Float64}:\n",
       " -11.56   -8.67   -6.93   -5.78   -9.63  …   -7.22   -5.42   -4.33   -3.61\n",
       " -28.53  -21.39  -17.12  -14.26  -23.77     -17.83  -13.37  -10.7    -8.91\n",
       "  -0.89   -0.67   -0.53   -0.44   -0.74      -0.56   -0.42   -0.33   -0.28\n",
       " -31.87  -23.9   -19.12  -15.93  -26.55     -19.92  -14.94  -11.95   -9.96\n",
       "   7.11    5.33    4.27    3.56    5.93       4.44    3.33    2.67    2.22\n",
       " -16.54  -12.4    -9.92   -8.27  -13.78  …  -10.34   -7.75   -6.2    -5.17\n",
       "  -2.67   -2.0    -1.6    -1.33   -2.22      -1.67   -1.25   -1.0    -0.83\n",
       " -35.53  -26.65  -21.32  -17.76  -29.61     -22.21  -16.65  -13.32  -11.1\n",
       "  -2.67   -2.0    -1.6    -1.33   -2.22      -1.67   -1.25   -1.0    -0.83\n",
       " -28.2   -21.15  -16.92  -14.1   -23.5      -17.63  -13.22  -10.58   -8.81"
      ]
     },
     "execution_count": 14,
     "metadata": {},
     "output_type": "execute_result"
    }
   ],
   "source": [
    "println(\"\\rReconstruction (reduction based on the most energetic mode) Ỹ10 = ϕ10*A10'≈ Y\\r\")\n",
    "Ỹ10=ϕ[:,10]*A[10,:]'\n",
    "round.(Ỹ10;digits=2)"
   ]
  },
  {
   "cell_type": "code",
   "execution_count": 15,
   "metadata": {},
   "outputs": [
    {
     "name": "stdout",
     "output_type": "stream",
     "text": [
      "Reconstruction of the first snapshot (reduction based on the most energetic mode) Y1\n",
      "Y1 = \n"
     ]
    },
    {
     "data": {
      "text/plain": [
       "10-element Vector{Float64}:\n",
       " -11.56\n",
       " -28.53\n",
       "  -0.89\n",
       " -31.87\n",
       "   7.11\n",
       " -16.54\n",
       "  -2.67\n",
       " -35.53\n",
       "  -2.67\n",
       " -28.2"
      ]
     },
     "execution_count": 15,
     "metadata": {},
     "output_type": "execute_result"
    }
   ],
   "source": [
    "println(\"\\rReconstruction of the first snapshot (reduction based on the most energetic mode) Y1\\r\")\n",
    "Y1=ϕ[:,10]*A[10,:][1]\n",
    "println(\"\\rY1 = \\r\")\n",
    "round.(Y1;digits=2)"
   ]
  },
  {
   "cell_type": "code",
   "execution_count": 16,
   "metadata": {},
   "outputs": [
    {
     "name": "stdout",
     "output_type": "stream",
     "text": [
      "Reconstruction of the second snapshot (reduction based on a single mode) Y2\n",
      "Y2 = \n"
     ]
    },
    {
     "data": {
      "text/plain": [
       "10-element Vector{Float64}:\n",
       "  -8.67\n",
       " -21.39\n",
       "  -0.67\n",
       " -23.9\n",
       "   5.33\n",
       " -12.4\n",
       "  -2.0\n",
       " -26.65\n",
       "  -2.0\n",
       " -21.15"
      ]
     },
     "execution_count": 16,
     "metadata": {},
     "output_type": "execute_result"
    }
   ],
   "source": [
    "println(\"\\rReconstruction of the second snapshot (reduction based on a single mode) Y2\\r\")\n",
    "Y2=ϕ[:,10]*A[10,:][2]\n",
    "println(\"\\rY2 = \\r\")\n",
    "round.(Y2;digits=2)"
   ]
  },
  {
   "cell_type": "markdown",
   "metadata": {},
   "source": [
    "2. SVD"
   ]
  },
  {
   "cell_type": "code",
   "execution_count": 17,
   "metadata": {},
   "outputs": [
    {
     "name": "stdout",
     "output_type": "stream",
     "text": [
      "SVD decomposition of the snapshot matrix\n"
     ]
    },
    {
     "data": {
      "text/plain": [
       "SVD{Float64, Float64, Matrix{Float64}}\n",
       "U factor:\n",
       "10×10 Matrix{Float64}:\n",
       "  0.175013    0.0908838     0.660406   …  -0.484511   -0.216359    0.0322019\n",
       "  0.432037   -0.768103      0.179112       0.0878363   0.091867   -0.0529522\n",
       "  0.0134625  -0.0174021     0.115046       0.536019    0.332963   -0.160737\n",
       "  0.482621    0.482509      0.395497       0.206786    0.169657   -0.221492\n",
       " -0.1077     -0.208478      0.0286675     -0.469527    0.602244   -0.0302001\n",
       "  0.250492    0.028493     -0.140961   …  -0.261284    0.281913    0.179778\n",
       "  0.0403875  -0.256343      0.021577      -0.0240329  -0.591306   -0.179876\n",
       "  0.538104   -0.065883     -0.272334       0.13054    -0.0489795   0.0633951\n",
       "  0.0403875  -0.000510842   0.170825       0.197072   -0.032079    0.922278\n",
       "  0.427138    0.233049     -0.487468      -0.286839   -0.0992865   0.0325882\n",
       "singular values:\n",
       "10-element Vector{Float64}:\n",
       " 156.78079133793835\n",
       "   2.5477088009806068e-14\n",
       "   1.382402099400716e-14\n",
       "   9.643292276369037e-15\n",
       "   6.598096259151781e-15\n",
       "   4.106081124278751e-15\n",
       "   2.2804306090188434e-15\n",
       "   1.5239077964497516e-15\n",
       "   1.212375214130048e-15\n",
       "   7.324580957975522e-17\n",
       "Vt factor:\n",
       "10×16 Matrix{Float64}:\n",
       " -0.421142   -0.315856    -0.252685   -0.210571   …  -0.157928    -0.131607\n",
       "  0.340651   -0.292238     0.490941    0.284964      -0.146119    -0.104795\n",
       "  0.756736    0.00219469  -0.437124   -0.0126073      0.00109735   0.00603239\n",
       " -0.0678267   0.149625     0.060185   -0.137185       0.0748127    0.225823\n",
       " -0.202526    0.400048    -0.424974    0.384184       0.200024    -0.0651159\n",
       " -0.122274   -0.0194158    0.406078    0.0841654  …  -0.00970788   0.0442262\n",
       "  0.187995   -0.244968    -0.119739   -0.300882      -0.122484    -0.00877285\n",
       "  0.156614    0.349482     0.0633101  -0.169213       0.174741    -0.074278\n",
       "  0.0647012   0.478259     0.33017    -0.282783       0.23913     -0.131422\n",
       "  0.0965524   0.145411     0.166035    0.0408304      0.0727053    0.0521011"
      ]
     },
     "execution_count": 17,
     "metadata": {},
     "output_type": "execute_result"
    }
   ],
   "source": [
    "#Calculate the SVD of the snapshot matrix\n",
    "Z=svd(Y)\n",
    "println(\"\\rSVD decomposition of the snapshot matrix\\r\")\n",
    "Z"
   ]
  },
  {
   "cell_type": "markdown",
   "metadata": {},
   "source": [
    "* Modes"
   ]
  },
  {
   "cell_type": "code",
   "execution_count": 18,
   "metadata": {},
   "outputs": [
    {
     "name": "stdout",
     "output_type": "stream",
     "text": [
      "SVD modes\n"
     ]
    },
    {
     "data": {
      "text/plain": [
       "10×10 Matrix{Float64}:\n",
       "  0.18   0.09   0.66  -0.14   0.04  -0.41   0.23  -0.48  -0.22   0.03\n",
       "  0.43  -0.77   0.18  -0.09   0.09   0.32   0.24   0.09   0.09  -0.05\n",
       "  0.01  -0.02   0.12  -0.48   0.23  -0.51  -0.11   0.54   0.33  -0.16\n",
       "  0.48   0.48   0.4    0.17   0.03   0.39  -0.27   0.21   0.17  -0.22\n",
       " -0.11  -0.21   0.03   0.28   0.3   -0.11  -0.42  -0.47   0.6   -0.03\n",
       "  0.25   0.03  -0.14  -0.49  -0.67   0.03  -0.22  -0.26   0.28   0.18\n",
       "  0.04  -0.26   0.02  -0.12   0.05  -0.04  -0.73  -0.02  -0.59  -0.18\n",
       "  0.54  -0.07  -0.27   0.52  -0.21  -0.54  -0.01   0.13  -0.05   0.06\n",
       "  0.04  -0.0    0.17   0.01   0.19   0.05  -0.19   0.2   -0.03   0.92\n",
       "  0.43   0.23  -0.49  -0.32   0.56   0.06   0.1   -0.29  -0.1    0.03"
      ]
     },
     "execution_count": 18,
     "metadata": {},
     "output_type": "execute_result"
    }
   ],
   "source": [
    "println(\"\\rSVD modes\\r\")\n",
    "round.(Z.U;digits=2)"
   ]
  },
  {
   "cell_type": "markdown",
   "metadata": {},
   "source": [
    "* Mode coefficients"
   ]
  },
  {
   "cell_type": "code",
   "execution_count": 19,
   "metadata": {},
   "outputs": [
    {
     "name": "stdout",
     "output_type": "stream",
     "text": [
      "SVD modes coefficients\n"
     ]
    },
    {
     "data": {
      "text/plain": [
       "10×16 Matrix{Float64}:\n",
       " -66.03  -49.52  -39.62  -33.01  -55.02  …  -41.27  -30.95  -24.76  -20.63\n",
       "   0.0    -0.0     0.0     0.0    -0.0       -0.0     0.0    -0.0    -0.0\n",
       "   0.0     0.0    -0.0    -0.0    -0.0        0.0    -0.0     0.0     0.0\n",
       "  -0.0     0.0     0.0    -0.0    -0.0        0.0     0.0     0.0     0.0\n",
       "  -0.0     0.0    -0.0     0.0    -0.0       -0.0    -0.0     0.0    -0.0\n",
       "  -0.0    -0.0     0.0     0.0     0.0   …    0.0     0.0    -0.0     0.0\n",
       "   0.0    -0.0    -0.0    -0.0     0.0       -0.0     0.0    -0.0    -0.0\n",
       "   0.0     0.0     0.0    -0.0    -0.0       -0.0     0.0     0.0    -0.0\n",
       "   0.0     0.0     0.0    -0.0    -0.0       -0.0    -0.0     0.0    -0.0\n",
       "   0.0     0.0     0.0     0.0    -0.0        0.0    -0.0     0.0     0.0"
      ]
     },
     "execution_count": 19,
     "metadata": {},
     "output_type": "execute_result"
    }
   ],
   "source": [
    "println(\"\\rSVD modes coefficients\\r\")\n",
    "round.(diagm(Z.S)*Z.Vt;digits=2)"
   ]
  },
  {
   "cell_type": "markdown",
   "metadata": {},
   "source": [
    "* Reconstruction without any reduction"
   ]
  },
  {
   "cell_type": "code",
   "execution_count": 20,
   "metadata": {},
   "outputs": [
    {
     "name": "stdout",
     "output_type": "stream",
     "text": [
      "Full Reconstruction  Yrecons = UΣV*\n"
     ]
    },
    {
     "data": {
      "text/plain": [
       "10×16 Matrix{Float64}:\n",
       " -11.56   -8.67   -6.93   -5.78   -9.63  …   -7.22   -5.42   -4.33   -3.61\n",
       " -28.53  -21.39  -17.12  -14.26  -23.77     -17.83  -13.37  -10.7    -8.91\n",
       "  -0.89   -0.67   -0.53   -0.44   -0.74      -0.56   -0.42   -0.33   -0.28\n",
       " -31.87  -23.9   -19.12  -15.93  -26.55     -19.92  -14.94  -11.95   -9.96\n",
       "   7.11    5.33    4.27    3.56    5.93       4.44    3.33    2.67    2.22\n",
       " -16.54  -12.4    -9.92   -8.27  -13.78  …  -10.34   -7.75   -6.2    -5.17\n",
       "  -2.67   -2.0    -1.6    -1.33   -2.22      -1.67   -1.25   -1.0    -0.83\n",
       " -35.53  -26.65  -21.32  -17.76  -29.61     -22.21  -16.65  -13.32  -11.1\n",
       "  -2.67   -2.0    -1.6    -1.33   -2.22      -1.67   -1.25   -1.0    -0.83\n",
       " -28.2   -21.15  -16.92  -14.1   -23.5      -17.63  -13.22  -10.58   -8.81"
      ]
     },
     "execution_count": 20,
     "metadata": {},
     "output_type": "execute_result"
    }
   ],
   "source": [
    "println(\"\\rFull Reconstruction  Yrecons = UΣV*\\r\")\n",
    "Yrecons=Z.U*diagm(Z.S)*Z.Vt\n",
    "round.(Yrecons;digits=2)"
   ]
  },
  {
   "cell_type": "markdown",
   "metadata": {},
   "source": [
    "* Reconstruction based on the first most energetic mode reduction"
   ]
  },
  {
   "cell_type": "code",
   "execution_count": 21,
   "metadata": {},
   "outputs": [
    {
     "name": "stdout",
     "output_type": "stream",
     "text": [
      "Reconstruction of the data matrix Ỹ1 \n",
      "Ỹ1 = \n"
     ]
    },
    {
     "data": {
      "text/plain": [
       "10×16 Matrix{Float64}:\n",
       " -11.56   -8.67   -6.93   -5.78   -9.63  …   -7.22   -5.42   -4.33   -3.61\n",
       " -28.53  -21.39  -17.12  -14.26  -23.77     -17.83  -13.37  -10.7    -8.91\n",
       "  -0.89   -0.67   -0.53   -0.44   -0.74      -0.56   -0.42   -0.33   -0.28\n",
       " -31.87  -23.9   -19.12  -15.93  -26.55     -19.92  -14.94  -11.95   -9.96\n",
       "   7.11    5.33    4.27    3.56    5.93       4.44    3.33    2.67    2.22\n",
       " -16.54  -12.4    -9.92   -8.27  -13.78  …  -10.34   -7.75   -6.2    -5.17\n",
       "  -2.67   -2.0    -1.6    -1.33   -2.22      -1.67   -1.25   -1.0    -0.83\n",
       " -35.53  -26.65  -21.32  -17.76  -29.61     -22.21  -16.65  -13.32  -11.1\n",
       "  -2.67   -2.0    -1.6    -1.33   -2.22      -1.67   -1.25   -1.0    -0.83\n",
       " -28.2   -21.15  -16.92  -14.1   -23.5      -17.63  -13.22  -10.58   -8.81"
      ]
     },
     "execution_count": 21,
     "metadata": {},
     "output_type": "execute_result"
    }
   ],
   "source": [
    "println(\"\\rReconstruction of the data matrix Ỹ1 \")\n",
    "println(\"\\rỸ1 = \")\n",
    "Ỹ1=Z.U[:,1]*(diagm(Z.S)*Z.Vt)[1,:]'\n",
    "round.(Ỹ1;digits=2)"
   ]
  },
  {
   "cell_type": "code",
   "execution_count": 22,
   "metadata": {},
   "outputs": [
    {
     "name": "stdout",
     "output_type": "stream",
     "text": [
      "Reconstruction of the first snapshot Y1\n",
      "Y1 = \n"
     ]
    },
    {
     "data": {
      "text/plain": [
       "10-element Vector{Float64}:\n",
       " -11.56\n",
       " -28.53\n",
       "  -0.89\n",
       " -31.87\n",
       "   7.11\n",
       " -16.54\n",
       "  -2.67\n",
       " -35.53\n",
       "  -2.67\n",
       " -28.2"
      ]
     },
     "execution_count": 22,
     "metadata": {},
     "output_type": "execute_result"
    }
   ],
   "source": [
    "println(\"\\rReconstruction of the first snapshot Y1\\r\")\n",
    "Y1=Z.U[:,1]*(Z.S[1]*Z.Vt[1,:][1])\n",
    "println(\"\\rY1 = \\r\")\n",
    "round.(Y1;digits=2)"
   ]
  },
  {
   "cell_type": "code",
   "execution_count": 23,
   "metadata": {},
   "outputs": [
    {
     "name": "stdout",
     "output_type": "stream",
     "text": [
      "Reconstruction of the second snapshot Y2\n",
      "Y2 = \n"
     ]
    },
    {
     "data": {
      "text/plain": [
       "10-element Vector{Float64}:\n",
       "  -8.67\n",
       " -21.39\n",
       "  -0.67\n",
       " -23.9\n",
       "   5.33\n",
       " -12.4\n",
       "  -2.0\n",
       " -26.65\n",
       "  -2.0\n",
       " -21.15"
      ]
     },
     "execution_count": 23,
     "metadata": {},
     "output_type": "execute_result"
    }
   ],
   "source": [
    "println(\"\\rReconstruction of the second snapshot Y2\\r\")\n",
    "Y2=Z.U[:,1]*(Z.S[1]*Z.Vt[1,:][2])\n",
    "println(\"\\rY2 = \\r\")\n",
    "round.(Y2;digits=2)"
   ]
  },
  {
   "cell_type": "markdown",
   "metadata": {},
   "source": [
    "# Interpolation\n",
    "For arbitray parameters, the combined use of radial basis functions (RBF) is required"
   ]
  },
  {
   "cell_type": "markdown",
   "metadata": {},
   "source": [
    "As a reminder\n",
    "* Parameter matrix $P$"
   ]
  },
  {
   "cell_type": "code",
   "execution_count": 24,
   "metadata": {},
   "outputs": [
    {
     "name": "stdout",
     "output_type": "stream",
     "text": [
      "P=\n",
      "2×16 Matrix{Float64}:\n",
      " 125000.0  125000.0  125000.0  125000.0  150000.0  150000.0  150000.0  150000.0  175000.0  175000.0  175000.0  175000.0  200000.0  200000.0  200000.0  200000.0\n",
      "      6.0       8.0      10.0      12.0       6.0       8.0      10.0      12.0       6.0       8.0      10.0      12.0       6.0       8.0      10.0      12.0"
     ]
    }
   ],
   "source": [
    "println(\"\\rP=\\r\")\n",
    "show(stdout,\"text/plain\", round.(P;digits=0))"
   ]
  },
  {
   "cell_type": "markdown",
   "metadata": {},
   "source": [
    "* Amplitude matrix $A$"
   ]
  },
  {
   "cell_type": "code",
   "execution_count": 25,
   "metadata": {},
   "outputs": [
    {
     "name": "stdout",
     "output_type": "stream",
     "text": [
      "A = \n"
     ]
    },
    {
     "data": {
      "text/plain": [
       "10×16 Matrix{Float64}:\n",
       "  0.0    0.0    0.0    0.0    0.0   …   0.0    0.0    0.0    0.0    0.0\n",
       " -0.0    0.0   -0.0   -0.0   -0.0      -0.0    0.0   -0.0    0.0    0.0\n",
       " -0.0   -0.0   -0.0   -0.0   -0.0      -0.0   -0.0   -0.0   -0.0   -0.0\n",
       " -0.0   -0.0    0.0   -0.0    0.0      -0.0    0.0    0.0   -0.0    0.0\n",
       "  0.0   -0.0    0.0    0.0   -0.0      -0.0   -0.0   -0.0   -0.0   -0.0\n",
       " -0.0    0.0   -0.0   -0.0    0.0   …   0.0    0.0    0.0    0.0    0.0\n",
       "  0.0    0.0   -0.0    0.0    0.0      -0.0    0.0   -0.0    0.0    0.0\n",
       "  0.0   -0.0    0.0    0.0   -0.0      -0.0   -0.0   -0.0   -0.0   -0.0\n",
       "  0.0    0.0    0.0    0.0    0.0       0.0    0.0    0.0    0.0    0.0\n",
       " 66.03  49.52  39.62  33.01  55.02     23.58  41.27  30.95  24.76  20.63"
      ]
     },
     "execution_count": 25,
     "metadata": {},
     "output_type": "execute_result"
    }
   ],
   "source": [
    "println(\"\\rA = \\r\")\n",
    "round.(A;digits=2)"
   ]
  },
  {
   "cell_type": "markdown",
   "metadata": {},
   "source": [
    "* POD mode matrix $\\phi$"
   ]
  },
  {
   "cell_type": "code",
   "execution_count": 26,
   "metadata": {},
   "outputs": [
    {
     "name": "stdout",
     "output_type": "stream",
     "text": [
      "ϕ = \n"
     ]
    },
    {
     "data": {
      "text/plain": [
       "10×10 Matrix{Float64}:\n",
       "  0.44  -0.02   0.44   0.05   0.01  -0.18   0.71  -0.19  -0.08  -0.18\n",
       " -0.55   0.2   -0.2    0.0   -0.12   0.36   0.34  -0.36  -0.2   -0.43\n",
       "  0.02  -0.0    0.01  -0.91  -0.38  -0.14   0.02  -0.02  -0.01  -0.01\n",
       "  0.02  -0.1   -0.47  -0.04   0.3   -0.55   0.07   0.3   -0.23  -0.48\n",
       "  0.07   0.53  -0.02  -0.14   0.46  -0.28  -0.21  -0.59   0.05   0.11\n",
       "  0.42  -0.52  -0.21   0.04  -0.11   0.18  -0.32  -0.54  -0.12  -0.25\n",
       "  0.01   0.29  -0.05   0.37  -0.72  -0.47  -0.14  -0.13  -0.02  -0.04\n",
       "  0.05   0.23   0.57  -0.03   0.04   0.13  -0.45   0.2   -0.25  -0.54\n",
       "  0.57   0.51  -0.42  -0.02  -0.1    0.41   0.08   0.24  -0.02  -0.04\n",
       "  0.0    0.0    0.0    0.0    0.0    0.0    0.0    0.0    0.9   -0.43"
      ]
     },
     "execution_count": 26,
     "metadata": {},
     "output_type": "execute_result"
    }
   ],
   "source": [
    "println(\"\\rϕ = \\r\")\n",
    "round.(ϕ;digits=2)"
   ]
  },
  {
   "cell_type": "markdown",
   "metadata": {},
   "source": [
    "* Interpolation coefficient matrix $B$"
   ]
  },
  {
   "cell_type": "code",
   "execution_count": 27,
   "metadata": {},
   "outputs": [
    {
     "data": {
      "text/plain": [
       "10×16 Matrix{Float64}:\n",
       "  -0.0    0.0   -0.0   -0.0    0.0   …  -0.0    0.0   -0.0    0.0   0.0\n",
       "   0.0   -0.0    0.0   -0.0   -0.0       0.0   -0.0    0.0   -0.0  -0.0\n",
       "   0.0   -0.0    0.0   -0.0    0.0       0.0   -0.0    0.0   -0.0  -0.0\n",
       "   0.0    0.0   -0.0    0.0   -0.0       0.0   -0.0    0.0    0.0  -0.0\n",
       "  -0.0    0.0   -0.0   -0.0    0.0      -0.0   -0.0   -0.0    0.0  -0.0\n",
       "   0.0   -0.0    0.0    0.0   -0.0   …   0.0   -0.0    0.0   -0.0  -0.0\n",
       "   0.0   -0.0    0.0   -0.0   -0.0       0.0   -0.0    0.0   -0.0  -0.0\n",
       "  -0.0    0.0   -0.0   -0.0    0.0      -0.0    0.0   -0.0    0.0   0.0\n",
       "  -0.0    0.0   -0.0    0.0    0.0      -0.0    0.0   -0.0    0.0   0.0\n",
       " -12.26   6.16   1.64  16.44  -1.43      2.41  11.85   7.41   3.5  19.07"
      ]
     },
     "execution_count": 27,
     "metadata": {},
     "output_type": "execute_result"
    }
   ],
   "source": [
    "B=BlinMtx(A,P)\n",
    "round.(B;digits=2)"
   ]
  },
  {
   "cell_type": "markdown",
   "metadata": {},
   "source": [
    "* Calculation of the nodal displacement vector for the normalized point $Pint$ to be interpolated ($E = 135000 Mpa ; A = 11 mm^{2}$)"
   ]
  },
  {
   "cell_type": "code",
   "execution_count": 28,
   "metadata": {},
   "outputs": [
    {
     "data": {
      "image/svg+xml": [
       "<?xml version=\"1.0\" encoding=\"utf-8\"?>\n",
       "<svg xmlns=\"http://www.w3.org/2000/svg\" xmlns:xlink=\"http://www.w3.org/1999/xlink\" width=\"600\" height=\"400\" viewBox=\"0 0 2400 1600\">\n",
       "<defs>\n",
       "  <clipPath id=\"clip730\">\n",
       "    <rect x=\"0\" y=\"0\" width=\"2400\" height=\"1600\"/>\n",
       "  </clipPath>\n",
       "</defs>\n",
       "<path clip-path=\"url(#clip730)\" d=\"\n",
       "M0 1600 L2400 1600 L2400 0 L0 0  Z\n",
       "  \" fill=\"#ff8c00\" fill-rule=\"evenodd\" fill-opacity=\"1\"/>\n",
       "<defs>\n",
       "  <clipPath id=\"clip731\">\n",
       "    <rect x=\"480\" y=\"0\" width=\"1681\" height=\"1600\"/>\n",
       "  </clipPath>\n",
       "</defs>\n",
       "<path clip-path=\"url(#clip730)\" d=\"\n",
       "M202.227 1423.18 L2352.76 1423.18 L2352.76 123.472 L202.227 123.472  Z\n",
       "  \" fill=\"#ff8c00\" fill-rule=\"evenodd\" fill-opacity=\"1\"/>\n",
       "<defs>\n",
       "  <clipPath id=\"clip732\">\n",
       "    <rect x=\"202\" y=\"123\" width=\"2152\" height=\"1301\"/>\n",
       "  </clipPath>\n",
       "</defs>\n",
       "<polyline clip-path=\"url(#clip732)\" style=\"stroke:#000000; stroke-width:2; stroke-opacity:0.1; fill:none\" points=\"\n",
       "  202.227,1423.18 202.227,123.472 \n",
       "  \"/>\n",
       "<polyline clip-path=\"url(#clip732)\" style=\"stroke:#000000; stroke-width:2; stroke-opacity:0.1; fill:none\" points=\"\n",
       "  736.52,1423.18 736.52,123.472 \n",
       "  \"/>\n",
       "<polyline clip-path=\"url(#clip732)\" style=\"stroke:#000000; stroke-width:2; stroke-opacity:0.1; fill:none\" points=\"\n",
       "  1270.81,1423.18 1270.81,123.472 \n",
       "  \"/>\n",
       "<polyline clip-path=\"url(#clip732)\" style=\"stroke:#000000; stroke-width:2; stroke-opacity:0.1; fill:none\" points=\"\n",
       "  1805.11,1423.18 1805.11,123.472 \n",
       "  \"/>\n",
       "<polyline clip-path=\"url(#clip732)\" style=\"stroke:#000000; stroke-width:2; stroke-opacity:0.1; fill:none\" points=\"\n",
       "  2339.4,1423.18 2339.4,123.472 \n",
       "  \"/>\n",
       "<polyline clip-path=\"url(#clip730)\" style=\"stroke:#000000; stroke-width:4; stroke-opacity:1; fill:none\" points=\"\n",
       "  202.227,1423.18 2352.76,1423.18 \n",
       "  \"/>\n",
       "<polyline clip-path=\"url(#clip730)\" style=\"stroke:#000000; stroke-width:4; stroke-opacity:1; fill:none\" points=\"\n",
       "  202.227,1423.18 202.227,1407.58 \n",
       "  \"/>\n",
       "<polyline clip-path=\"url(#clip730)\" style=\"stroke:#000000; stroke-width:4; stroke-opacity:1; fill:none\" points=\"\n",
       "  736.52,1423.18 736.52,1407.58 \n",
       "  \"/>\n",
       "<polyline clip-path=\"url(#clip730)\" style=\"stroke:#000000; stroke-width:4; stroke-opacity:1; fill:none\" points=\"\n",
       "  1270.81,1423.18 1270.81,1407.58 \n",
       "  \"/>\n",
       "<polyline clip-path=\"url(#clip730)\" style=\"stroke:#000000; stroke-width:4; stroke-opacity:1; fill:none\" points=\"\n",
       "  1805.11,1423.18 1805.11,1407.58 \n",
       "  \"/>\n",
       "<polyline clip-path=\"url(#clip730)\" style=\"stroke:#000000; stroke-width:4; stroke-opacity:1; fill:none\" points=\"\n",
       "  2339.4,1423.18 2339.4,1407.58 \n",
       "  \"/>\n",
       "<path clip-path=\"url(#clip730)\" d=\"M 0 0 M161.834 1479.92 L169.473 1479.92 L169.473 1453.55 L161.163 1455.22 L161.163 1450.96 L169.427 1449.29 L174.103 1449.29 L174.103 1479.92 L181.741 1479.92 L181.741 1483.85 L161.834 1483.85 L161.834 1479.92 Z\" fill=\"#000000\" fill-rule=\"evenodd\" fill-opacity=\"1\" /><path clip-path=\"url(#clip730)\" d=\"M 0 0 M195.214 1479.92 L211.533 1479.92 L211.533 1483.85 L189.589 1483.85 L189.589 1479.92 Q192.251 1477.16 196.834 1472.53 Q201.44 1467.88 202.621 1466.54 Q204.866 1464.01 205.746 1462.28 Q206.649 1460.52 206.649 1458.83 Q206.649 1456.07 204.704 1454.34 Q202.783 1452.6 199.681 1452.6 Q197.482 1452.6 195.028 1453.37 Q192.598 1454.13 189.82 1455.68 L189.82 1450.96 Q192.644 1449.82 195.098 1449.25 Q197.552 1448.67 199.589 1448.67 Q204.959 1448.67 208.153 1451.35 Q211.348 1454.04 211.348 1458.53 Q211.348 1460.66 210.538 1462.58 Q209.751 1464.48 207.644 1467.07 Q207.065 1467.74 203.964 1470.96 Q200.862 1474.15 195.214 1479.92 Z\" fill=\"#000000\" fill-rule=\"evenodd\" fill-opacity=\"1\" /><path clip-path=\"url(#clip730)\" d=\"M 0 0 M231.348 1452.37 Q227.737 1452.37 225.908 1455.94 Q224.102 1459.48 224.102 1466.61 Q224.102 1473.71 225.908 1477.28 Q227.737 1480.82 231.348 1480.82 Q234.982 1480.82 236.787 1477.28 Q238.616 1473.71 238.616 1466.61 Q238.616 1459.48 236.787 1455.94 Q234.982 1452.37 231.348 1452.37 M231.348 1448.67 Q237.158 1448.67 240.213 1453.27 Q243.292 1457.86 243.292 1466.61 Q243.292 1475.33 240.213 1479.94 Q237.158 1484.52 231.348 1484.52 Q225.538 1484.52 222.459 1479.94 Q219.403 1475.33 219.403 1466.61 Q219.403 1457.86 222.459 1453.27 Q225.538 1448.67 231.348 1448.67 Z\" fill=\"#000000\" fill-rule=\"evenodd\" fill-opacity=\"1\" /><path clip-path=\"url(#clip730)\" d=\"M 0 0 M696.127 1479.92 L703.766 1479.92 L703.766 1453.55 L695.456 1455.22 L695.456 1450.96 L703.72 1449.29 L708.395 1449.29 L708.395 1479.92 L716.034 1479.92 L716.034 1483.85 L696.127 1483.85 L696.127 1479.92 Z\" fill=\"#000000\" fill-rule=\"evenodd\" fill-opacity=\"1\" /><path clip-path=\"url(#clip730)\" d=\"M 0 0 M738.326 1453.37 L726.52 1471.81 L738.326 1471.81 L738.326 1453.37 M737.099 1449.29 L742.979 1449.29 L742.979 1471.81 L747.909 1471.81 L747.909 1475.7 L742.979 1475.7 L742.979 1483.85 L738.326 1483.85 L738.326 1475.7 L722.724 1475.7 L722.724 1471.19 L737.099 1449.29 Z\" fill=\"#000000\" fill-rule=\"evenodd\" fill-opacity=\"1\" /><path clip-path=\"url(#clip730)\" d=\"M 0 0 M765.64 1452.37 Q762.029 1452.37 760.201 1455.94 Q758.395 1459.48 758.395 1466.61 Q758.395 1473.71 760.201 1477.28 Q762.029 1480.82 765.64 1480.82 Q769.275 1480.82 771.08 1477.28 Q772.909 1473.71 772.909 1466.61 Q772.909 1459.48 771.08 1455.94 Q769.275 1452.37 765.64 1452.37 M765.64 1448.67 Q771.451 1448.67 774.506 1453.27 Q777.585 1457.86 777.585 1466.61 Q777.585 1475.33 774.506 1479.94 Q771.451 1484.52 765.64 1484.52 Q759.83 1484.52 756.752 1479.94 Q753.696 1475.33 753.696 1466.61 Q753.696 1457.86 756.752 1453.27 Q759.83 1448.67 765.64 1448.67 Z\" fill=\"#000000\" fill-rule=\"evenodd\" fill-opacity=\"1\" /><path clip-path=\"url(#clip730)\" d=\"M 0 0 M1230.42 1479.92 L1238.06 1479.92 L1238.06 1453.55 L1229.75 1455.22 L1229.75 1450.96 L1238.01 1449.29 L1242.69 1449.29 L1242.69 1479.92 L1250.33 1479.92 L1250.33 1483.85 L1230.42 1483.85 L1230.42 1479.92 Z\" fill=\"#000000\" fill-rule=\"evenodd\" fill-opacity=\"1\" /><path clip-path=\"url(#clip730)\" d=\"M 0 0 M1270.35 1464.71 Q1267.2 1464.71 1265.35 1466.86 Q1263.52 1469.01 1263.52 1472.76 Q1263.52 1476.49 1265.35 1478.67 Q1267.2 1480.82 1270.35 1480.82 Q1273.5 1480.82 1275.33 1478.67 Q1277.18 1476.49 1277.18 1472.76 Q1277.18 1469.01 1275.33 1466.86 Q1273.5 1464.71 1270.35 1464.71 M1279.63 1450.06 L1279.63 1454.31 Q1277.87 1453.48 1276.07 1453.04 Q1274.29 1452.6 1272.53 1452.6 Q1267.9 1452.6 1265.44 1455.73 Q1263.01 1458.85 1262.66 1465.17 Q1264.03 1463.16 1266.09 1462.09 Q1268.15 1461 1270.63 1461 Q1275.84 1461 1278.85 1464.18 Q1281.88 1467.32 1281.88 1472.76 Q1281.88 1478.09 1278.73 1481.31 Q1275.58 1484.52 1270.35 1484.52 Q1264.35 1484.52 1261.18 1479.94 Q1258.01 1475.33 1258.01 1466.61 Q1258.01 1458.41 1261.9 1453.55 Q1265.79 1448.67 1272.34 1448.67 Q1274.1 1448.67 1275.88 1449.01 Q1277.69 1449.36 1279.63 1450.06 Z\" fill=\"#000000\" fill-rule=\"evenodd\" fill-opacity=\"1\" /><path clip-path=\"url(#clip730)\" d=\"M 0 0 M1299.93 1452.37 Q1296.32 1452.37 1294.49 1455.94 Q1292.69 1459.48 1292.69 1466.61 Q1292.69 1473.71 1294.49 1477.28 Q1296.32 1480.82 1299.93 1480.82 Q1303.57 1480.82 1305.37 1477.28 Q1307.2 1473.71 1307.2 1466.61 Q1307.2 1459.48 1305.37 1455.94 Q1303.57 1452.37 1299.93 1452.37 M1299.93 1448.67 Q1305.74 1448.67 1308.8 1453.27 Q1311.88 1457.86 1311.88 1466.61 Q1311.88 1475.33 1308.8 1479.94 Q1305.74 1484.52 1299.93 1484.52 Q1294.12 1484.52 1291.04 1479.94 Q1287.99 1475.33 1287.99 1466.61 Q1287.99 1457.86 1291.04 1453.27 Q1294.12 1448.67 1299.93 1448.67 Z\" fill=\"#000000\" fill-rule=\"evenodd\" fill-opacity=\"1\" /><path clip-path=\"url(#clip730)\" d=\"M 0 0 M1764.71 1479.92 L1772.35 1479.92 L1772.35 1453.55 L1764.04 1455.22 L1764.04 1450.96 L1772.31 1449.29 L1776.98 1449.29 L1776.98 1479.92 L1784.62 1479.92 L1784.62 1483.85 L1764.71 1483.85 L1764.71 1479.92 Z\" fill=\"#000000\" fill-rule=\"evenodd\" fill-opacity=\"1\" /><path clip-path=\"url(#clip730)\" d=\"M 0 0 M1804.06 1467.44 Q1800.73 1467.44 1798.81 1469.22 Q1796.91 1471 1796.91 1474.13 Q1796.91 1477.25 1798.81 1479.04 Q1800.73 1480.82 1804.06 1480.82 Q1807.4 1480.82 1809.32 1479.04 Q1811.24 1477.23 1811.24 1474.13 Q1811.24 1471 1809.32 1469.22 Q1807.42 1467.44 1804.06 1467.44 M1799.39 1465.45 Q1796.38 1464.71 1794.69 1462.65 Q1793.02 1460.59 1793.02 1457.63 Q1793.02 1453.48 1795.96 1451.07 Q1798.93 1448.67 1804.06 1448.67 Q1809.23 1448.67 1812.17 1451.07 Q1815.11 1453.48 1815.11 1457.63 Q1815.11 1460.59 1813.42 1462.65 Q1811.75 1464.71 1808.76 1465.45 Q1812.14 1466.24 1814.02 1468.53 Q1815.92 1470.82 1815.92 1474.13 Q1815.92 1479.15 1812.84 1481.84 Q1809.78 1484.52 1804.06 1484.52 Q1798.35 1484.52 1795.27 1481.84 Q1792.21 1479.15 1792.21 1474.13 Q1792.21 1470.82 1794.11 1468.53 Q1796.01 1466.24 1799.39 1465.45 M1797.68 1458.06 Q1797.68 1460.75 1799.34 1462.25 Q1801.03 1463.76 1804.06 1463.76 Q1807.07 1463.76 1808.76 1462.25 Q1810.48 1460.75 1810.48 1458.06 Q1810.48 1455.38 1808.76 1453.88 Q1807.07 1452.37 1804.06 1452.37 Q1801.03 1452.37 1799.34 1453.88 Q1797.68 1455.38 1797.68 1458.06 Z\" fill=\"#000000\" fill-rule=\"evenodd\" fill-opacity=\"1\" /><path clip-path=\"url(#clip730)\" d=\"M 0 0 M1834.23 1452.37 Q1830.61 1452.37 1828.79 1455.94 Q1826.98 1459.48 1826.98 1466.61 Q1826.98 1473.71 1828.79 1477.28 Q1830.61 1480.82 1834.23 1480.82 Q1837.86 1480.82 1839.67 1477.28 Q1841.49 1473.71 1841.49 1466.61 Q1841.49 1459.48 1839.67 1455.94 Q1837.86 1452.37 1834.23 1452.37 M1834.23 1448.67 Q1840.04 1448.67 1843.09 1453.27 Q1846.17 1457.86 1846.17 1466.61 Q1846.17 1475.33 1843.09 1479.94 Q1840.04 1484.52 1834.23 1484.52 Q1828.42 1484.52 1825.34 1479.94 Q1822.28 1475.33 1822.28 1466.61 Q1822.28 1457.86 1825.34 1453.27 Q1828.42 1448.67 1834.23 1448.67 Z\" fill=\"#000000\" fill-rule=\"evenodd\" fill-opacity=\"1\" /><path clip-path=\"url(#clip730)\" d=\"M 0 0 M2303.09 1479.92 L2319.41 1479.92 L2319.41 1483.85 L2297.47 1483.85 L2297.47 1479.92 Q2300.13 1477.16 2304.71 1472.53 Q2309.32 1467.88 2310.5 1466.54 Q2312.74 1464.01 2313.62 1462.28 Q2314.53 1460.52 2314.53 1458.83 Q2314.53 1456.07 2312.58 1454.34 Q2310.66 1452.6 2307.56 1452.6 Q2305.36 1452.6 2302.91 1453.37 Q2300.48 1454.13 2297.7 1455.68 L2297.7 1450.96 Q2300.52 1449.82 2302.98 1449.25 Q2305.43 1448.67 2307.47 1448.67 Q2312.84 1448.67 2316.03 1451.35 Q2319.23 1454.04 2319.23 1458.53 Q2319.23 1460.66 2318.41 1462.58 Q2317.63 1464.48 2315.52 1467.07 Q2314.94 1467.74 2311.84 1470.96 Q2308.74 1474.15 2303.09 1479.92 Z\" fill=\"#000000\" fill-rule=\"evenodd\" fill-opacity=\"1\" /><path clip-path=\"url(#clip730)\" d=\"M 0 0 M2339.22 1452.37 Q2335.61 1452.37 2333.79 1455.94 Q2331.98 1459.48 2331.98 1466.61 Q2331.98 1473.71 2333.79 1477.28 Q2335.61 1480.82 2339.22 1480.82 Q2342.86 1480.82 2344.66 1477.28 Q2346.49 1473.71 2346.49 1466.61 Q2346.49 1459.48 2344.66 1455.94 Q2342.86 1452.37 2339.22 1452.37 M2339.22 1448.67 Q2345.04 1448.67 2348.09 1453.27 Q2351.17 1457.86 2351.17 1466.61 Q2351.17 1475.33 2348.09 1479.94 Q2345.04 1484.52 2339.22 1484.52 Q2333.41 1484.52 2330.34 1479.94 Q2327.28 1475.33 2327.28 1466.61 Q2327.28 1457.86 2330.34 1453.27 Q2333.41 1448.67 2339.22 1448.67 Z\" fill=\"#000000\" fill-rule=\"evenodd\" fill-opacity=\"1\" /><path clip-path=\"url(#clip730)\" d=\"M 0 0 M2369.39 1452.37 Q2365.78 1452.37 2363.95 1455.94 Q2362.14 1459.48 2362.14 1466.61 Q2362.14 1473.71 2363.95 1477.28 Q2365.78 1480.82 2369.39 1480.82 Q2373.02 1480.82 2374.83 1477.28 Q2376.66 1473.71 2376.66 1466.61 Q2376.66 1459.48 2374.83 1455.94 Q2373.02 1452.37 2369.39 1452.37 M2369.39 1448.67 Q2375.2 1448.67 2378.25 1453.27 Q2381.33 1457.86 2381.33 1466.61 Q2381.33 1475.33 2378.25 1479.94 Q2375.2 1484.52 2369.39 1484.52 Q2363.58 1484.52 2360.5 1479.94 Q2357.44 1475.33 2357.44 1466.61 Q2357.44 1457.86 2360.5 1453.27 Q2363.58 1448.67 2369.39 1448.67 Z\" fill=\"#000000\" fill-rule=\"evenodd\" fill-opacity=\"1\" /><path clip-path=\"url(#clip730)\" d=\"M 0 0 M1000.95 1520.52 L1007.86 1520.52 L1021.03 1540.07 L1034.11 1520.52 L1041.02 1520.52 L1024.22 1545.41 L1024.22 1568.04 L1017.75 1568.04 L1017.75 1545.41 L1000.95 1520.52 Z\" fill=\"#000000\" fill-rule=\"evenodd\" fill-opacity=\"1\" /><path clip-path=\"url(#clip730)\" d=\"M 0 0 M1052.19 1536.5 Q1047.48 1536.5 1044.75 1540.19 Q1042.01 1543.85 1042.01 1550.25 Q1042.01 1556.65 1044.71 1560.34 Q1047.45 1564 1052.19 1564 Q1056.87 1564 1059.61 1560.31 Q1062.35 1556.62 1062.35 1550.25 Q1062.35 1543.92 1059.61 1540.23 Q1056.87 1536.5 1052.19 1536.5 M1052.19 1531.54 Q1059.83 1531.54 1064.19 1536.5 Q1068.55 1541.47 1068.55 1550.25 Q1068.55 1559 1064.19 1564 Q1059.83 1568.97 1052.19 1568.97 Q1044.52 1568.97 1040.16 1564 Q1035.83 1559 1035.83 1550.25 Q1035.83 1541.47 1040.16 1536.5 Q1044.52 1531.54 1052.19 1531.54 Z\" fill=\"#000000\" fill-rule=\"evenodd\" fill-opacity=\"1\" /><path clip-path=\"url(#clip730)\" d=\"M 0 0 M1077.66 1553.98 L1077.66 1532.4 L1083.51 1532.4 L1083.51 1553.75 Q1083.51 1558.81 1085.49 1561.36 Q1087.46 1563.87 1091.41 1563.87 Q1096.15 1563.87 1098.89 1560.85 Q1101.65 1557.83 1101.65 1552.61 L1101.65 1532.4 L1107.51 1532.4 L1107.51 1568.04 L1101.65 1568.04 L1101.65 1562.57 Q1099.52 1565.82 1096.69 1567.41 Q1093.89 1568.97 1090.16 1568.97 Q1084.02 1568.97 1080.84 1565.15 Q1077.66 1561.33 1077.66 1553.98 M1092.39 1531.54 L1092.39 1531.54 Z\" fill=\"#000000\" fill-rule=\"evenodd\" fill-opacity=\"1\" /><path clip-path=\"url(#clip730)\" d=\"M 0 0 M1149.21 1546.53 L1149.21 1568.04 L1143.35 1568.04 L1143.35 1546.72 Q1143.35 1541.66 1141.38 1539.14 Q1139.4 1536.63 1135.46 1536.63 Q1130.71 1536.63 1127.98 1539.65 Q1125.24 1542.68 1125.24 1547.9 L1125.24 1568.04 L1119.35 1568.04 L1119.35 1532.4 L1125.24 1532.4 L1125.24 1537.93 Q1127.34 1534.72 1130.17 1533.13 Q1133.04 1531.54 1136.76 1531.54 Q1142.9 1531.54 1146.06 1535.36 Q1149.21 1539.14 1149.21 1546.53 Z\" fill=\"#000000\" fill-rule=\"evenodd\" fill-opacity=\"1\" /><path clip-path=\"url(#clip730)\" d=\"M 0 0 M1184.35 1549.81 Q1184.35 1543.44 1181.7 1539.94 Q1179.09 1536.44 1174.35 1536.44 Q1169.64 1536.44 1167 1539.94 Q1164.39 1543.44 1164.39 1549.81 Q1164.39 1556.14 1167 1559.64 Q1169.64 1563.14 1174.35 1563.14 Q1179.09 1563.14 1181.7 1559.64 Q1184.35 1556.14 1184.35 1549.81 M1190.2 1563.62 Q1190.2 1572.72 1186.16 1577.15 Q1182.12 1581.6 1173.78 1581.6 Q1170.69 1581.6 1167.95 1581.13 Q1165.22 1580.68 1162.64 1579.72 L1162.64 1574.03 Q1165.22 1575.43 1167.73 1576.1 Q1170.25 1576.76 1172.86 1576.76 Q1178.62 1576.76 1181.48 1573.74 Q1184.35 1570.75 1184.35 1564.67 L1184.35 1561.77 Q1182.53 1564.92 1179.7 1566.48 Q1176.87 1568.04 1172.92 1568.04 Q1166.36 1568.04 1162.35 1563.05 Q1158.34 1558.05 1158.34 1549.81 Q1158.34 1541.53 1162.35 1536.53 Q1166.36 1531.54 1172.92 1531.54 Q1176.87 1531.54 1179.7 1533.1 Q1182.53 1534.66 1184.35 1537.81 L1184.35 1532.4 L1190.2 1532.4 L1190.2 1563.62 Z\" fill=\"#000000\" fill-rule=\"evenodd\" fill-opacity=\"1\" /><path clip-path=\"url(#clip730)\" d=\"M 0 0 M1250.74 1539.24 Q1252.94 1535.29 1255.99 1533.41 Q1259.05 1531.54 1263.18 1531.54 Q1268.75 1531.54 1271.78 1535.45 Q1274.8 1539.33 1274.8 1546.53 L1274.8 1568.04 L1268.91 1568.04 L1268.91 1546.72 Q1268.91 1541.59 1267.1 1539.11 Q1265.29 1536.63 1261.56 1536.63 Q1257.01 1536.63 1254.37 1539.65 Q1251.73 1542.68 1251.73 1547.9 L1251.73 1568.04 L1245.84 1568.04 L1245.84 1546.72 Q1245.84 1541.56 1244.02 1539.11 Q1242.21 1536.63 1238.42 1536.63 Q1233.93 1536.63 1231.29 1539.68 Q1228.65 1542.71 1228.65 1547.9 L1228.65 1568.04 L1222.76 1568.04 L1222.76 1532.4 L1228.65 1532.4 L1228.65 1537.93 Q1230.66 1534.66 1233.46 1533.1 Q1236.26 1531.54 1240.11 1531.54 Q1243.99 1531.54 1246.7 1533.51 Q1249.43 1535.48 1250.74 1539.24 Z\" fill=\"#000000\" fill-rule=\"evenodd\" fill-opacity=\"1\" /><path clip-path=\"url(#clip730)\" d=\"M 0 0 M1300.3 1536.5 Q1295.59 1536.5 1292.85 1540.19 Q1290.11 1543.85 1290.11 1550.25 Q1290.11 1556.65 1292.82 1560.34 Q1295.55 1564 1300.3 1564 Q1304.98 1564 1307.71 1560.31 Q1310.45 1556.62 1310.45 1550.25 Q1310.45 1543.92 1307.71 1540.23 Q1304.98 1536.5 1300.3 1536.5 M1300.3 1531.54 Q1307.94 1531.54 1312.3 1536.5 Q1316.66 1541.47 1316.66 1550.25 Q1316.66 1559 1312.3 1564 Q1307.94 1568.97 1300.3 1568.97 Q1292.63 1568.97 1288.27 1564 Q1283.94 1559 1283.94 1550.25 Q1283.94 1541.47 1288.27 1536.5 Q1292.63 1531.54 1300.3 1531.54 Z\" fill=\"#000000\" fill-rule=\"evenodd\" fill-opacity=\"1\" /><path clip-path=\"url(#clip730)\" d=\"M 0 0 M1349.82 1537.81 L1349.82 1518.52 L1355.68 1518.52 L1355.68 1568.04 L1349.82 1568.04 L1349.82 1562.7 Q1347.98 1565.88 1345.14 1567.44 Q1342.34 1568.97 1338.4 1568.97 Q1331.93 1568.97 1327.86 1563.81 Q1323.82 1558.65 1323.82 1550.25 Q1323.82 1541.85 1327.86 1536.69 Q1331.93 1531.54 1338.4 1531.54 Q1342.34 1531.54 1345.14 1533.1 Q1347.98 1534.62 1349.82 1537.81 M1329.87 1550.25 Q1329.87 1556.71 1332.51 1560.4 Q1335.18 1564.07 1339.83 1564.07 Q1344.47 1564.07 1347.15 1560.4 Q1349.82 1556.71 1349.82 1550.25 Q1349.82 1543.79 1347.15 1540.13 Q1344.47 1536.44 1339.83 1536.44 Q1335.18 1536.44 1332.51 1540.13 Q1329.87 1543.79 1329.87 1550.25 Z\" fill=\"#000000\" fill-rule=\"evenodd\" fill-opacity=\"1\" /><path clip-path=\"url(#clip730)\" d=\"M 0 0 M1367.14 1553.98 L1367.14 1532.4 L1372.99 1532.4 L1372.99 1553.75 Q1372.99 1558.81 1374.97 1561.36 Q1376.94 1563.87 1380.89 1563.87 Q1385.63 1563.87 1388.37 1560.85 Q1391.14 1557.83 1391.14 1552.61 L1391.14 1532.4 L1396.99 1532.4 L1396.99 1568.04 L1391.14 1568.04 L1391.14 1562.57 Q1389 1565.82 1386.17 1567.41 Q1383.37 1568.97 1379.65 1568.97 Q1373.5 1568.97 1370.32 1565.15 Q1367.14 1561.33 1367.14 1553.98 M1381.87 1531.54 L1381.87 1531.54 Z\" fill=\"#000000\" fill-rule=\"evenodd\" fill-opacity=\"1\" /><path clip-path=\"url(#clip730)\" d=\"M 0 0 M1409.05 1518.52 L1414.91 1518.52 L1414.91 1568.04 L1409.05 1568.04 L1409.05 1518.52 Z\" fill=\"#000000\" fill-rule=\"evenodd\" fill-opacity=\"1\" /><path clip-path=\"url(#clip730)\" d=\"M 0 0 M1426.56 1553.98 L1426.56 1532.4 L1432.42 1532.4 L1432.42 1553.75 Q1432.42 1558.81 1434.39 1561.36 Q1436.36 1563.87 1440.31 1563.87 Q1445.05 1563.87 1447.79 1560.85 Q1450.56 1557.83 1450.56 1552.61 L1450.56 1532.4 L1456.42 1532.4 L1456.42 1568.04 L1450.56 1568.04 L1450.56 1562.57 Q1448.43 1565.82 1445.59 1567.41 Q1442.79 1568.97 1439.07 1568.97 Q1432.93 1568.97 1429.74 1565.15 Q1426.56 1561.33 1426.56 1553.98 M1441.3 1531.54 L1441.3 1531.54 Z\" fill=\"#000000\" fill-rule=\"evenodd\" fill-opacity=\"1\" /><path clip-path=\"url(#clip730)\" d=\"M 0 0 M1491.2 1533.45 L1491.2 1538.98 Q1488.72 1537.71 1486.05 1537.07 Q1483.37 1536.44 1480.51 1536.44 Q1476.15 1536.44 1473.95 1537.77 Q1471.79 1539.11 1471.79 1541.79 Q1471.79 1543.82 1473.35 1545 Q1474.91 1546.15 1479.62 1547.2 L1481.62 1547.64 Q1487.86 1548.98 1490.47 1551.43 Q1493.11 1553.85 1493.11 1558.21 Q1493.11 1563.17 1489.17 1566.07 Q1485.25 1568.97 1478.38 1568.97 Q1475.51 1568.97 1472.39 1568.39 Q1469.31 1567.85 1465.87 1566.74 L1465.87 1560.69 Q1469.12 1562.38 1472.27 1563.24 Q1475.42 1564.07 1478.5 1564.07 Q1482.64 1564.07 1484.87 1562.66 Q1487.1 1561.23 1487.1 1558.65 Q1487.1 1556.27 1485.48 1554.99 Q1483.88 1553.72 1478.44 1552.54 L1476.4 1552.07 Q1470.96 1550.92 1468.54 1548.56 Q1466.12 1546.18 1466.12 1542.04 Q1466.12 1537.01 1469.69 1534.27 Q1473.25 1531.54 1479.81 1531.54 Q1483.06 1531.54 1485.92 1532.01 Q1488.79 1532.49 1491.2 1533.45 Z\" fill=\"#000000\" fill-rule=\"evenodd\" fill-opacity=\"1\" /><path clip-path=\"url(#clip730)\" d=\"M 0 0 M1523.41 1520.52 L1553.46 1520.52 L1553.46 1525.93 L1529.84 1525.93 L1529.84 1540 L1552.47 1540 L1552.47 1545.41 L1529.84 1545.41 L1529.84 1562.63 L1554.03 1562.63 L1554.03 1568.04 L1523.41 1568.04 L1523.41 1520.52 Z\" fill=\"#000000\" fill-rule=\"evenodd\" fill-opacity=\"1\" /><polyline clip-path=\"url(#clip732)\" style=\"stroke:#000000; stroke-width:2; stroke-opacity:0.1; fill:none\" points=\"\n",
       "  202.227,1260.72 2352.76,1260.72 \n",
       "  \"/>\n",
       "<polyline clip-path=\"url(#clip732)\" style=\"stroke:#000000; stroke-width:2; stroke-opacity:0.1; fill:none\" points=\"\n",
       "  202.227,935.789 2352.76,935.789 \n",
       "  \"/>\n",
       "<polyline clip-path=\"url(#clip732)\" style=\"stroke:#000000; stroke-width:2; stroke-opacity:0.1; fill:none\" points=\"\n",
       "  202.227,610.863 2352.76,610.863 \n",
       "  \"/>\n",
       "<polyline clip-path=\"url(#clip732)\" style=\"stroke:#000000; stroke-width:2; stroke-opacity:0.1; fill:none\" points=\"\n",
       "  202.227,285.936 2352.76,285.936 \n",
       "  \"/>\n",
       "<polyline clip-path=\"url(#clip730)\" style=\"stroke:#000000; stroke-width:4; stroke-opacity:1; fill:none\" points=\"\n",
       "  202.227,1423.18 202.227,123.472 \n",
       "  \"/>\n",
       "<polyline clip-path=\"url(#clip730)\" style=\"stroke:#000000; stroke-width:4; stroke-opacity:1; fill:none\" points=\"\n",
       "  202.227,1260.72 228.034,1260.72 \n",
       "  \"/>\n",
       "<polyline clip-path=\"url(#clip730)\" style=\"stroke:#000000; stroke-width:4; stroke-opacity:1; fill:none\" points=\"\n",
       "  202.227,935.789 228.034,935.789 \n",
       "  \"/>\n",
       "<polyline clip-path=\"url(#clip730)\" style=\"stroke:#000000; stroke-width:4; stroke-opacity:1; fill:none\" points=\"\n",
       "  202.227,610.863 228.034,610.863 \n",
       "  \"/>\n",
       "<polyline clip-path=\"url(#clip730)\" style=\"stroke:#000000; stroke-width:4; stroke-opacity:1; fill:none\" points=\"\n",
       "  202.227,285.936 228.034,285.936 \n",
       "  \"/>\n",
       "<path clip-path=\"url(#clip730)\" d=\"M 0 0 M154.7 1258.85 Q151.552 1258.85 149.7 1261.01 Q147.871 1263.16 147.871 1266.91 Q147.871 1270.64 149.7 1272.81 Q151.552 1274.96 154.7 1274.96 Q157.848 1274.96 159.677 1272.81 Q161.528 1270.64 161.528 1266.91 Q161.528 1263.16 159.677 1261.01 Q157.848 1258.85 154.7 1258.85 M163.982 1244.2 L163.982 1248.46 Q162.223 1247.63 160.417 1247.19 Q158.635 1246.75 156.876 1246.75 Q152.246 1246.75 149.792 1249.87 Q147.362 1253 147.015 1259.32 Q148.38 1257.3 150.441 1256.24 Q152.501 1255.15 154.978 1255.15 Q160.186 1255.15 163.195 1258.32 Q166.227 1261.47 166.227 1266.91 Q166.227 1272.23 163.079 1275.45 Q159.931 1278.67 154.7 1278.67 Q148.704 1278.67 145.533 1274.08 Q142.362 1269.48 142.362 1260.75 Q142.362 1252.56 146.251 1247.7 Q150.14 1242.81 156.69 1242.81 Q158.45 1242.81 160.232 1243.16 Q162.038 1243.51 163.982 1244.2 Z\" fill=\"#000000\" fill-rule=\"evenodd\" fill-opacity=\"1\" /><path clip-path=\"url(#clip730)\" d=\"M 0 0 M154.376 936.657 Q151.042 936.657 149.121 938.44 Q147.223 940.222 147.223 943.347 Q147.223 946.472 149.121 948.255 Q151.042 950.037 154.376 950.037 Q157.709 950.037 159.63 948.255 Q161.552 946.449 161.552 943.347 Q161.552 940.222 159.63 938.44 Q157.732 936.657 154.376 936.657 M149.7 934.667 Q146.691 933.926 145.001 931.866 Q143.334 929.806 143.334 926.843 Q143.334 922.699 146.274 920.292 Q149.237 917.884 154.376 917.884 Q159.538 917.884 162.477 920.292 Q165.417 922.699 165.417 926.843 Q165.417 929.806 163.727 931.866 Q162.061 933.926 159.075 934.667 Q162.454 935.454 164.329 937.745 Q166.227 940.037 166.227 943.347 Q166.227 948.37 163.149 951.056 Q160.093 953.741 154.376 953.741 Q148.658 953.741 145.579 951.056 Q142.524 948.37 142.524 943.347 Q142.524 940.037 144.422 937.745 Q146.32 935.454 149.7 934.667 M147.987 927.283 Q147.987 929.968 149.653 931.472 Q151.343 932.977 154.376 932.977 Q157.385 932.977 159.075 931.472 Q160.788 929.968 160.788 927.283 Q160.788 924.597 159.075 923.093 Q157.385 921.588 154.376 921.588 Q151.343 921.588 149.653 923.093 Q147.987 924.597 147.987 927.283 Z\" fill=\"#000000\" fill-rule=\"evenodd\" fill-opacity=\"1\" /><path clip-path=\"url(#clip730)\" d=\"M 0 0 M114.931 624.207 L122.57 624.207 L122.57 597.842 L114.26 599.508 L114.26 595.249 L122.524 593.583 L127.2 593.583 L127.2 624.207 L134.839 624.207 L134.839 628.143 L114.931 628.143 L114.931 624.207 Z\" fill=\"#000000\" fill-rule=\"evenodd\" fill-opacity=\"1\" /><path clip-path=\"url(#clip730)\" d=\"M 0 0 M154.283 596.661 Q150.672 596.661 148.843 600.226 Q147.038 603.768 147.038 610.897 Q147.038 618.004 148.843 621.568 Q150.672 625.11 154.283 625.11 Q157.917 625.11 159.723 621.568 Q161.552 618.004 161.552 610.897 Q161.552 603.768 159.723 600.226 Q157.917 596.661 154.283 596.661 M154.283 592.958 Q160.093 592.958 163.149 597.564 Q166.227 602.147 166.227 610.897 Q166.227 619.624 163.149 624.231 Q160.093 628.814 154.283 628.814 Q148.473 628.814 145.394 624.231 Q142.339 619.624 142.339 610.897 Q142.339 602.147 145.394 597.564 Q148.473 592.958 154.283 592.958 Z\" fill=\"#000000\" fill-rule=\"evenodd\" fill-opacity=\"1\" /><path clip-path=\"url(#clip730)\" d=\"M 0 0 M116.529 299.28 L124.168 299.28 L124.168 272.915 L115.857 274.581 L115.857 270.322 L124.121 268.656 L128.797 268.656 L128.797 299.28 L136.436 299.28 L136.436 303.216 L116.529 303.216 L116.529 299.28 Z\" fill=\"#000000\" fill-rule=\"evenodd\" fill-opacity=\"1\" /><path clip-path=\"url(#clip730)\" d=\"M 0 0 M149.908 299.28 L166.227 299.28 L166.227 303.216 L144.283 303.216 L144.283 299.28 Q146.945 296.526 151.528 291.896 Q156.135 287.243 157.315 285.901 Q159.561 283.378 160.44 281.642 Q161.343 279.882 161.343 278.193 Q161.343 275.438 159.399 273.702 Q157.478 271.966 154.376 271.966 Q152.177 271.966 149.723 272.73 Q147.292 273.494 144.515 275.044 L144.515 270.322 Q147.339 269.188 149.792 268.609 Q152.246 268.031 154.283 268.031 Q159.653 268.031 162.848 270.716 Q166.042 273.401 166.042 277.892 Q166.042 280.021 165.232 281.943 Q164.445 283.841 162.339 286.433 Q161.76 287.105 158.658 290.322 Q155.556 293.517 149.908 299.28 Z\" fill=\"#000000\" fill-rule=\"evenodd\" fill-opacity=\"1\" /><path clip-path=\"url(#clip730)\" d=\"M 0 0 M20.1444 982.646 L26.9239 982.646 Q23.9002 985.893 22.4043 989.585 Q20.9083 993.245 20.9083 997.383 Q20.9083 1005.53 25.9054 1009.86 Q30.8707 1014.19 40.2919 1014.19 Q49.6813 1014.19 54.6784 1009.86 Q59.6436 1005.53 59.6436 997.383 Q59.6436 993.245 58.1477 989.585 Q56.6518 985.893 53.6281 982.646 L60.3439 982.646 Q62.6355 986.02 63.7814 989.808 Q64.9272 993.564 64.9272 997.765 Q64.9272 1008.55 58.3387 1014.76 Q51.7183 1020.97 40.2919 1020.97 Q28.8336 1020.97 22.2451 1014.76 Q15.6248 1008.55 15.6248 997.765 Q15.6248 993.5 16.7706 989.744 Q17.8846 985.956 20.1444 982.646 Z\" fill=\"#000000\" fill-rule=\"evenodd\" fill-opacity=\"1\" /><path clip-path=\"url(#clip730)\" d=\"M 0 0 M33.8307 952.314 Q33.2578 953.3 33.0032 954.478 Q32.7167 955.624 32.7167 957.024 Q32.7167 961.99 35.9632 964.663 Q39.1779 967.305 45.2253 967.305 L64.0042 967.305 L64.0042 973.193 L28.3562 973.193 L28.3562 967.305 L33.8944 967.305 Q30.6479 965.459 29.0883 962.499 Q27.4968 959.539 27.4968 955.306 Q27.4968 954.701 27.5923 953.969 Q27.656 953.237 27.8151 952.346 L33.8307 952.314 Z\" fill=\"#000000\" fill-rule=\"evenodd\" fill-opacity=\"1\" /><path clip-path=\"url(#clip730)\" d=\"M 0 0 M32.4621 933.79 Q32.4621 938.5 36.1542 941.237 Q39.8145 943.975 46.212 943.975 Q52.6095 943.975 56.3017 941.269 Q59.9619 938.532 59.9619 933.79 Q59.9619 929.111 56.2698 926.373 Q52.5777 923.636 46.212 923.636 Q39.8781 923.636 36.186 926.373 Q32.4621 929.111 32.4621 933.79 M27.4968 933.79 Q27.4968 926.151 32.4621 921.79 Q37.4273 917.43 46.212 917.43 Q54.9649 917.43 59.9619 921.79 Q64.9272 926.151 64.9272 933.79 Q64.9272 941.46 59.9619 945.821 Q54.9649 950.149 46.212 950.149 Q37.4273 950.149 32.4621 945.821 Q27.4968 941.46 27.4968 933.79 Z\" fill=\"#000000\" fill-rule=\"evenodd\" fill-opacity=\"1\" /><path clip-path=\"url(#clip730)\" d=\"M 0 0 M29.4065 884.996 L34.9447 884.996 Q33.6716 887.479 33.035 890.153 Q32.3984 892.826 32.3984 895.691 Q32.3984 900.051 33.7352 902.247 Q35.072 904.412 37.7456 904.412 Q39.7826 904.412 40.9603 902.852 Q42.1061 901.293 43.1565 896.582 L43.6021 894.577 Q44.9389 888.338 47.3897 885.728 Q49.8086 883.087 54.1691 883.087 Q59.1344 883.087 62.0308 887.033 Q64.9272 890.948 64.9272 897.823 Q64.9272 900.688 64.3543 903.807 Q63.8132 906.894 62.6992 910.332 L56.6518 910.332 Q58.3387 907.085 59.198 903.934 Q60.0256 900.783 60.0256 897.696 Q60.0256 893.558 58.6251 891.33 Q57.1929 889.102 54.6147 889.102 Q52.2276 889.102 50.9545 890.726 Q49.6813 892.317 48.5037 897.76 L48.0262 899.797 Q46.8804 905.239 44.5251 907.658 Q42.138 910.077 38.0002 910.077 Q32.9713 910.077 30.2341 906.512 Q27.4968 902.948 27.4968 896.391 Q27.4968 893.144 27.9743 890.28 Q28.4517 887.415 29.4065 884.996 Z\" fill=\"#000000\" fill-rule=\"evenodd\" fill-opacity=\"1\" /><path clip-path=\"url(#clip730)\" d=\"M 0 0 M29.4065 851.035 L34.9447 851.035 Q33.6716 853.518 33.035 856.192 Q32.3984 858.865 32.3984 861.73 Q32.3984 866.09 33.7352 868.286 Q35.072 870.451 37.7456 870.451 Q39.7826 870.451 40.9603 868.891 Q42.1061 867.332 43.1565 862.621 L43.6021 860.616 Q44.9389 854.377 47.3897 851.767 Q49.8086 849.126 54.1691 849.126 Q59.1344 849.126 62.0308 853.072 Q64.9272 856.987 64.9272 863.862 Q64.9272 866.727 64.3543 869.846 Q63.8132 872.933 62.6992 876.371 L56.6518 876.371 Q58.3387 873.124 59.198 869.973 Q60.0256 866.822 60.0256 863.735 Q60.0256 859.597 58.6251 857.369 Q57.1929 855.141 54.6147 855.141 Q52.2276 855.141 50.9545 856.764 Q49.6813 858.356 48.5037 863.799 L48.0262 865.836 Q46.8804 871.278 44.5251 873.697 Q42.138 876.116 38.0002 876.116 Q32.9713 876.116 30.2341 872.551 Q27.4968 868.987 27.4968 862.43 Q27.4968 859.183 27.9743 856.319 Q28.4517 853.454 29.4065 851.035 Z\" fill=\"#000000\" fill-rule=\"evenodd\" fill-opacity=\"1\" /><path clip-path=\"url(#clip730)\" d=\"M 0 0 M29.4065 796.354 L34.9447 796.354 Q33.6716 798.837 33.035 801.51 Q32.3984 804.184 32.3984 807.048 Q32.3984 811.409 33.7352 813.605 Q35.072 815.769 37.7456 815.769 Q39.7826 815.769 40.9603 814.21 Q42.1061 812.65 43.1565 807.94 L43.6021 805.934 Q44.9389 799.696 47.3897 797.086 Q49.8086 794.444 54.1691 794.444 Q59.1344 794.444 62.0308 798.391 Q64.9272 802.306 64.9272 809.181 Q64.9272 812.045 64.3543 815.165 Q63.8132 818.252 62.6992 821.689 L56.6518 821.689 Q58.3387 818.443 59.198 815.292 Q60.0256 812.141 60.0256 809.054 Q60.0256 804.916 58.6251 802.688 Q57.1929 800.46 54.6147 800.46 Q52.2276 800.46 50.9545 802.083 Q49.6813 803.674 48.5037 809.117 L48.0262 811.154 Q46.8804 816.597 44.5251 819.016 Q42.138 821.435 38.0002 821.435 Q32.9713 821.435 30.2341 817.87 Q27.4968 814.305 27.4968 807.749 Q27.4968 804.502 27.9743 801.637 Q28.4517 798.773 29.4065 796.354 Z\" fill=\"#000000\" fill-rule=\"evenodd\" fill-opacity=\"1\" /><path clip-path=\"url(#clip730)\" d=\"M 0 0 M44.7161 754.627 L47.5806 754.627 L47.5806 781.554 Q53.6281 781.172 56.8109 777.925 Q59.9619 774.647 59.9619 768.822 Q59.9619 765.448 59.1344 762.297 Q58.3069 759.115 56.6518 755.995 L62.1899 755.995 Q63.5267 759.146 64.227 762.457 Q64.9272 765.767 64.9272 769.172 Q64.9272 777.702 59.9619 782.699 Q54.9967 787.665 46.5303 787.665 Q37.7774 787.665 32.6531 782.954 Q27.4968 778.212 27.4968 770.191 Q27.4968 762.998 32.1438 758.828 Q36.7589 754.627 44.7161 754.627 M42.9973 760.483 Q38.1912 760.547 35.3266 763.189 Q32.4621 765.799 32.4621 770.127 Q32.4621 775.029 35.2312 777.989 Q38.0002 780.917 43.0292 781.363 L42.9973 760.483 Z\" fill=\"#000000\" fill-rule=\"evenodd\" fill-opacity=\"1\" /><path clip-path=\"url(#clip730)\" d=\"M 0 0 M29.7248 719.361 L35.1993 719.361 Q33.8307 721.843 33.1623 724.358 Q32.4621 726.84 32.4621 729.387 Q32.4621 735.084 36.0905 738.235 Q39.6872 741.386 46.212 741.386 Q52.7369 741.386 56.3653 738.235 Q59.9619 735.084 59.9619 729.387 Q59.9619 726.84 59.2935 724.358 Q58.5933 721.843 57.2247 719.361 L62.6355 719.361 Q63.7814 721.812 64.3543 724.453 Q64.9272 727.063 64.9272 730.023 Q64.9272 738.076 59.8664 742.818 Q54.8057 747.561 46.212 747.561 Q37.491 747.561 32.4939 742.787 Q27.4968 737.98 27.4968 729.641 Q27.4968 726.936 28.0697 724.358 Q28.6108 721.78 29.7248 719.361 Z\" fill=\"#000000\" fill-rule=\"evenodd\" fill-opacity=\"1\" /><path clip-path=\"url(#clip730)\" d=\"M 0 0 M18.2347 703.383 L28.3562 703.383 L28.3562 691.32 L32.9077 691.32 L32.9077 703.383 L52.2594 703.383 Q56.6199 703.383 57.8613 702.205 Q59.1026 700.996 59.1026 697.335 L59.1026 691.32 L64.0042 691.32 L64.0042 697.335 Q64.0042 704.115 61.4897 706.693 Q58.9434 709.271 52.2594 709.271 L32.9077 709.271 L32.9077 713.568 L28.3562 713.568 L28.3562 709.271 L18.2347 709.271 L18.2347 703.383 Z\" fill=\"#000000\" fill-rule=\"evenodd\" fill-opacity=\"1\" /><path clip-path=\"url(#clip730)\" d=\"M 0 0 M28.3562 683.617 L28.3562 677.761 L64.0042 677.761 L64.0042 683.617 L28.3562 683.617 M14.479 683.617 L14.479 677.761 L21.895 677.761 L21.895 683.617 L14.479 683.617 Z\" fill=\"#000000\" fill-rule=\"evenodd\" fill-opacity=\"1\" /><path clip-path=\"url(#clip730)\" d=\"M 0 0 M32.4621 651.693 Q32.4621 656.404 36.1542 659.141 Q39.8145 661.878 46.212 661.878 Q52.6095 661.878 56.3017 659.173 Q59.9619 656.436 59.9619 651.693 Q59.9619 647.014 56.2698 644.277 Q52.5777 641.54 46.212 641.54 Q39.8781 641.54 36.186 644.277 Q32.4621 647.014 32.4621 651.693 M27.4968 651.693 Q27.4968 644.054 32.4621 639.694 Q37.4273 635.333 46.212 635.333 Q54.9649 635.333 59.9619 639.694 Q64.9272 644.054 64.9272 651.693 Q64.9272 659.364 59.9619 663.724 Q54.9649 668.053 46.212 668.053 Q37.4273 668.053 32.4621 663.724 Q27.4968 659.364 27.4968 651.693 Z\" fill=\"#000000\" fill-rule=\"evenodd\" fill-opacity=\"1\" /><path clip-path=\"url(#clip730)\" d=\"M 0 0 M42.4881 595.993 L64.0042 595.993 L64.0042 601.85 L42.679 601.85 Q37.6183 601.85 35.1038 603.823 Q32.5894 605.796 32.5894 609.743 Q32.5894 614.486 35.6131 617.223 Q38.6368 619.96 43.8567 619.96 L64.0042 619.96 L64.0042 625.848 L28.3562 625.848 L28.3562 619.96 L33.8944 619.96 Q30.6797 617.86 29.0883 615.027 Q27.4968 612.162 27.4968 608.438 Q27.4968 602.295 31.3163 599.144 Q35.1038 595.993 42.4881 595.993 Z\" fill=\"#000000\" fill-rule=\"evenodd\" fill-opacity=\"1\" /><path clip-path=\"url(#clip730)\" d=\"M 0 0 M22.818 547.455 L46.4666 556.176 L46.4666 538.702 L22.818 547.455 M16.4842 551.083 L16.4842 543.795 L64.0042 525.684 L64.0042 532.368 L51.8138 536.697 L51.8138 558.117 L64.0042 562.446 L64.0042 569.226 L16.4842 551.083 Z\" fill=\"#000000\" fill-rule=\"evenodd\" fill-opacity=\"1\" /><path clip-path=\"url(#clip730)\" d=\"M 0 0 M820.914 18.8205 L820.914 65.8515 L830.798 65.8515 Q843.316 65.8515 849.109 60.1802 Q854.942 54.509 854.942 42.2752 Q854.942 30.1225 849.109 24.4918 Q843.316 18.8205 830.798 18.8205 L820.914 18.8205 M812.731 12.096 L829.543 12.096 Q847.124 12.096 855.347 19.4281 Q863.57 26.7198 863.57 42.2752 Q863.57 57.9117 855.306 65.2439 Q847.043 72.576 829.543 72.576 L812.731 72.576 L812.731 12.096 Z\" fill=\"#000000\" fill-rule=\"evenodd\" fill-opacity=\"1\" /><path clip-path=\"url(#clip730)\" d=\"M 0 0 M915.098 48.0275 L915.098 51.6733 L880.827 51.6733 Q881.313 59.3701 885.445 63.421 Q889.618 67.4314 897.031 67.4314 Q901.325 67.4314 905.335 66.3781 Q909.386 65.3249 913.356 63.2184 L913.356 70.267 Q909.346 71.9684 905.133 72.8596 Q900.92 73.7508 896.585 73.7508 Q885.729 73.7508 879.369 67.4314 Q873.049 61.1119 873.049 50.3365 Q873.049 39.1965 879.045 32.6746 Q885.081 26.1121 895.289 26.1121 Q904.444 26.1121 909.751 32.0264 Q915.098 37.9003 915.098 48.0275 M907.644 45.84 Q907.563 39.7232 904.201 36.0774 Q900.879 32.4315 895.37 32.4315 Q889.132 32.4315 885.364 35.9558 Q881.637 39.4801 881.07 45.8805 L907.644 45.84 Z\" fill=\"#000000\" fill-rule=\"evenodd\" fill-opacity=\"1\" /><path clip-path=\"url(#clip730)\" d=\"M 0 0 M956.255 28.5427 L956.255 35.5912 Q953.095 33.9709 949.693 33.1607 Q946.29 32.3505 942.644 32.3505 Q937.094 32.3505 934.299 34.0519 Q931.544 35.7533 931.544 39.156 Q931.544 41.7486 933.529 43.2475 Q935.514 44.7058 941.51 46.0426 L944.062 46.6097 Q952.002 48.3111 955.323 51.4303 Q958.686 54.509 958.686 60.0587 Q958.686 66.3781 953.662 70.0644 Q948.68 73.7508 939.93 73.7508 Q936.284 73.7508 932.314 73.0216 Q928.385 72.3329 924.01 70.9151 L924.01 63.2184 Q928.142 65.3654 932.152 66.4591 Q936.162 67.5124 940.092 67.5124 Q945.358 67.5124 948.194 65.73 Q951.029 63.9071 951.029 60.6258 Q951.029 57.5877 948.963 55.9673 Q946.938 54.3469 940.011 52.8481 L937.418 52.2405 Q930.491 50.7821 927.413 47.7845 Q924.334 44.7463 924.334 39.4801 Q924.334 33.0797 928.871 29.5959 Q933.408 26.1121 941.753 26.1121 Q945.885 26.1121 949.53 26.7198 Q953.176 27.3274 956.255 28.5427 Z\" fill=\"#000000\" fill-rule=\"evenodd\" fill-opacity=\"1\" /><path clip-path=\"url(#clip730)\" d=\"M 0 0 M970.555 27.2059 L978.008 27.2059 L978.008 72.576 L970.555 72.576 L970.555 27.2059 M970.555 9.54393 L978.008 9.54393 L978.008 18.9825 L970.555 18.9825 L970.555 9.54393 Z\" fill=\"#000000\" fill-rule=\"evenodd\" fill-opacity=\"1\" /><path clip-path=\"url(#clip730)\" d=\"M 0 0 M1023.46 49.3643 Q1023.46 41.2625 1020.1 36.8065 Q1016.78 32.3505 1010.74 32.3505 Q1004.74 32.3505 1001.38 36.8065 Q998.06 41.2625 998.06 49.3643 Q998.06 57.4256 1001.38 61.8816 Q1004.74 66.3376 1010.74 66.3376 Q1016.78 66.3376 1020.1 61.8816 Q1023.46 57.4256 1023.46 49.3643 M1030.91 66.9452 Q1030.91 78.5308 1025.77 84.1616 Q1020.62 89.8329 1010.01 89.8329 Q1006.08 89.8329 1002.6 89.2252 Q999.114 88.6581 995.832 87.4428 L995.832 80.1917 Q999.114 81.9741 1002.31 82.8248 Q1005.51 83.6755 1008.84 83.6755 Q1016.17 83.6755 1019.81 79.8271 Q1023.46 76.0193 1023.46 68.282 L1023.46 64.5957 Q1021.15 68.6061 1017.55 70.5911 Q1013.94 72.576 1008.92 72.576 Q1000.57 72.576 995.468 66.2161 Q990.364 59.8562 990.364 49.3643 Q990.364 38.832 995.468 32.472 Q1000.57 26.1121 1008.92 26.1121 Q1013.94 26.1121 1017.55 28.0971 Q1021.15 30.082 1023.46 34.0924 L1023.46 27.2059 L1030.91 27.2059 L1030.91 66.9452 Z\" fill=\"#000000\" fill-rule=\"evenodd\" fill-opacity=\"1\" /><path clip-path=\"url(#clip730)\" d=\"M 0 0 M1083.98 45.1919 L1083.98 72.576 L1076.53 72.576 L1076.53 45.4349 Q1076.53 38.994 1074.01 35.7938 Q1071.5 32.5936 1066.48 32.5936 Q1060.44 32.5936 1056.96 36.4419 Q1053.48 40.2903 1053.48 46.9338 L1053.48 72.576 L1045.98 72.576 L1045.98 27.2059 L1053.48 27.2059 L1053.48 34.2544 Q1056.15 30.163 1059.76 28.1376 Q1063.4 26.1121 1068.14 26.1121 Q1075.96 26.1121 1079.97 30.9732 Q1083.98 35.7938 1083.98 45.1919 Z\" fill=\"#000000\" fill-rule=\"evenodd\" fill-opacity=\"1\" /><path clip-path=\"url(#clip730)\" d=\"M 0 0 M1142.8 32.4315 Q1136.8 32.4315 1133.32 37.1306 Q1129.84 41.7891 1129.84 49.9314 Q1129.84 58.0738 1133.28 62.7728 Q1136.76 67.4314 1142.8 67.4314 Q1148.75 67.4314 1152.24 62.7323 Q1155.72 58.0333 1155.72 49.9314 Q1155.72 41.8701 1152.24 37.1711 Q1148.75 32.4315 1142.8 32.4315 M1142.8 26.1121 Q1152.52 26.1121 1158.07 32.4315 Q1163.62 38.7509 1163.62 49.9314 Q1163.62 61.0714 1158.07 67.4314 Q1152.52 73.7508 1142.8 73.7508 Q1133.04 73.7508 1127.49 67.4314 Q1121.98 61.0714 1121.98 49.9314 Q1121.98 38.7509 1127.49 32.4315 Q1133.04 26.1121 1142.8 26.1121 Z\" fill=\"#000000\" fill-rule=\"evenodd\" fill-opacity=\"1\" /><path clip-path=\"url(#clip730)\" d=\"M 0 0 M1198.94 9.54393 L1198.94 15.7418 L1191.82 15.7418 Q1187.8 15.7418 1186.22 17.3622 Q1184.69 18.9825 1184.69 23.1955 L1184.69 27.2059 L1196.96 27.2059 L1196.96 32.9987 L1184.69 32.9987 L1184.69 72.576 L1177.19 72.576 L1177.19 32.9987 L1170.06 32.9987 L1170.06 27.2059 L1177.19 27.2059 L1177.19 24.0462 Q1177.19 16.471 1180.72 13.0277 Q1184.24 9.54393 1191.9 9.54393 L1198.94 9.54393 Z\" fill=\"#000000\" fill-rule=\"evenodd\" fill-opacity=\"1\" /><path clip-path=\"url(#clip730)\" d=\"M 0 0 M1231.88 12.096 L1270.12 12.096 L1270.12 18.9825 L1240.06 18.9825 L1240.06 36.8875 L1268.86 36.8875 L1268.86 43.7741 L1240.06 43.7741 L1240.06 65.6895 L1270.85 65.6895 L1270.85 72.576 L1231.88 72.576 L1231.88 12.096 Z\" fill=\"#000000\" fill-rule=\"evenodd\" fill-opacity=\"1\" /><path clip-path=\"url(#clip730)\" d=\"M 0 0 M1321.69 27.2059 L1305.28 49.2833 L1322.54 72.576 L1313.75 72.576 L1300.54 54.752 L1287.34 72.576 L1278.54 72.576 L1296.17 48.8377 L1280.04 27.2059 L1288.83 27.2059 L1300.87 43.369 L1312.9 27.2059 L1321.69 27.2059 Z\" fill=\"#000000\" fill-rule=\"evenodd\" fill-opacity=\"1\" /><path clip-path=\"url(#clip730)\" d=\"M 0 0 M1340.28 65.7705 L1340.28 89.8329 L1332.79 89.8329 L1332.79 27.2059 L1340.28 27.2059 L1340.28 34.0924 Q1342.63 30.0415 1346.2 28.0971 Q1349.8 26.1121 1354.78 26.1121 Q1363.05 26.1121 1368.19 32.6746 Q1373.38 39.2371 1373.38 49.9314 Q1373.38 60.6258 1368.19 67.1883 Q1363.05 73.7508 1354.78 73.7508 Q1349.8 73.7508 1346.2 71.8063 Q1342.63 69.8214 1340.28 65.7705 M1365.64 49.9314 Q1365.64 41.7081 1362.24 37.0496 Q1358.87 32.3505 1352.96 32.3505 Q1347.05 32.3505 1343.64 37.0496 Q1340.28 41.7081 1340.28 49.9314 Q1340.28 58.1548 1343.64 62.8538 Q1347.05 67.5124 1352.96 67.5124 Q1358.87 67.5124 1362.24 62.8538 Q1365.64 58.1548 1365.64 49.9314 Z\" fill=\"#000000\" fill-rule=\"evenodd\" fill-opacity=\"1\" /><path clip-path=\"url(#clip730)\" d=\"M 0 0 M1424.54 48.0275 L1424.54 51.6733 L1390.27 51.6733 Q1390.75 59.3701 1394.89 63.421 Q1399.06 67.4314 1406.47 67.4314 Q1410.77 67.4314 1414.78 66.3781 Q1418.83 65.3249 1422.8 63.2184 L1422.8 70.267 Q1418.79 71.9684 1414.57 72.8596 Q1410.36 73.7508 1406.03 73.7508 Q1395.17 73.7508 1388.81 67.4314 Q1382.49 61.1119 1382.49 50.3365 Q1382.49 39.1965 1388.49 32.6746 Q1394.52 26.1121 1404.73 26.1121 Q1413.89 26.1121 1419.19 32.0264 Q1424.54 37.9003 1424.54 48.0275 M1417.09 45.84 Q1417 39.7232 1413.64 36.0774 Q1410.32 32.4315 1404.81 32.4315 Q1398.57 32.4315 1394.81 35.9558 Q1391.08 39.4801 1390.51 45.8805 L1417.09 45.84 Z\" fill=\"#000000\" fill-rule=\"evenodd\" fill-opacity=\"1\" /><path clip-path=\"url(#clip730)\" d=\"M 0 0 M1463.06 34.1734 Q1461.81 33.4443 1460.31 33.1202 Q1458.85 32.7556 1457.07 32.7556 Q1450.75 32.7556 1447.35 36.8875 Q1443.98 40.9789 1443.98 48.6757 L1443.98 72.576 L1436.49 72.576 L1436.49 27.2059 L1443.98 27.2059 L1443.98 34.2544 Q1446.33 30.1225 1450.1 28.1376 Q1453.87 26.1121 1459.26 26.1121 Q1460.03 26.1121 1460.96 26.2337 Q1461.89 26.3147 1463.02 26.5172 L1463.06 34.1734 Z\" fill=\"#000000\" fill-rule=\"evenodd\" fill-opacity=\"1\" /><path clip-path=\"url(#clip730)\" d=\"M 0 0 M1470.88 27.2059 L1478.34 27.2059 L1478.34 72.576 L1470.88 72.576 L1470.88 27.2059 M1470.88 9.54393 L1478.34 9.54393 L1478.34 18.9825 L1470.88 18.9825 L1470.88 9.54393 Z\" fill=\"#000000\" fill-rule=\"evenodd\" fill-opacity=\"1\" /><path clip-path=\"url(#clip730)\" d=\"M 0 0 M1529.26 35.9153 Q1532.05 30.8922 1535.94 28.5022 Q1539.83 26.1121 1545.09 26.1121 Q1552.18 26.1121 1556.03 31.0947 Q1559.88 36.0368 1559.88 45.1919 L1559.88 72.576 L1552.39 72.576 L1552.39 45.4349 Q1552.39 38.913 1550.08 35.7533 Q1547.77 32.5936 1543.03 32.5936 Q1537.24 32.5936 1533.87 36.4419 Q1530.51 40.2903 1530.51 46.9338 L1530.51 72.576 L1523.02 72.576 L1523.02 45.4349 Q1523.02 38.8725 1520.71 35.7533 Q1518.4 32.5936 1513.58 32.5936 Q1507.87 32.5936 1504.5 36.4824 Q1501.14 40.3308 1501.14 46.9338 L1501.14 72.576 L1493.65 72.576 L1493.65 27.2059 L1501.14 27.2059 L1501.14 34.2544 Q1503.69 30.082 1507.26 28.0971 Q1510.82 26.1121 1515.73 26.1121 Q1520.67 26.1121 1524.11 28.6237 Q1527.59 31.1352 1529.26 35.9153 Z\" fill=\"#000000\" fill-rule=\"evenodd\" fill-opacity=\"1\" /><path clip-path=\"url(#clip730)\" d=\"M 0 0 M1613.55 48.0275 L1613.55 51.6733 L1579.28 51.6733 Q1579.77 59.3701 1583.9 63.421 Q1588.07 67.4314 1595.49 67.4314 Q1599.78 67.4314 1603.79 66.3781 Q1607.84 65.3249 1611.81 63.2184 L1611.81 70.267 Q1607.8 71.9684 1603.59 72.8596 Q1599.38 73.7508 1595.04 73.7508 Q1584.19 73.7508 1577.83 67.4314 Q1571.51 61.1119 1571.51 50.3365 Q1571.51 39.1965 1577.5 32.6746 Q1583.54 26.1121 1593.75 26.1121 Q1602.9 26.1121 1608.21 32.0264 Q1613.55 37.9003 1613.55 48.0275 M1606.1 45.84 Q1606.02 39.7232 1602.66 36.0774 Q1599.34 32.4315 1593.83 32.4315 Q1587.59 32.4315 1583.82 35.9558 Q1580.09 39.4801 1579.53 45.8805 L1606.1 45.84 Z\" fill=\"#000000\" fill-rule=\"evenodd\" fill-opacity=\"1\" /><path clip-path=\"url(#clip730)\" d=\"M 0 0 M1663.5 45.1919 L1663.5 72.576 L1656.05 72.576 L1656.05 45.4349 Q1656.05 38.994 1653.54 35.7938 Q1651.03 32.5936 1646 32.5936 Q1639.97 32.5936 1636.48 36.4419 Q1633 40.2903 1633 46.9338 L1633 72.576 L1625.5 72.576 L1625.5 27.2059 L1633 27.2059 L1633 34.2544 Q1635.67 30.163 1639.28 28.1376 Q1642.92 26.1121 1647.66 26.1121 Q1655.48 26.1121 1659.49 30.9732 Q1663.5 35.7938 1663.5 45.1919 Z\" fill=\"#000000\" fill-rule=\"evenodd\" fill-opacity=\"1\" /><path clip-path=\"url(#clip730)\" d=\"M 0 0 M1685.74 14.324 L1685.74 27.2059 L1701.09 27.2059 L1701.09 32.9987 L1685.74 32.9987 L1685.74 57.6282 Q1685.74 63.1779 1687.24 64.7578 Q1688.78 66.3376 1693.44 66.3376 L1701.09 66.3376 L1701.09 72.576 L1693.44 72.576 Q1684.81 72.576 1681.53 69.3758 Q1678.25 66.1351 1678.25 57.6282 L1678.25 32.9987 L1672.78 32.9987 L1672.78 27.2059 L1678.25 27.2059 L1678.25 14.324 L1685.74 14.324 Z\" fill=\"#000000\" fill-rule=\"evenodd\" fill-opacity=\"1\" /><path clip-path=\"url(#clip730)\" d=\"M 0 0 M1739.82 28.5427 L1739.82 35.5912 Q1736.66 33.9709 1733.26 33.1607 Q1729.86 32.3505 1726.21 32.3505 Q1720.66 32.3505 1717.87 34.0519 Q1715.11 35.7533 1715.11 39.156 Q1715.11 41.7486 1717.1 43.2475 Q1719.08 44.7058 1725.08 46.0426 L1727.63 46.6097 Q1735.57 48.3111 1738.89 51.4303 Q1742.25 54.509 1742.25 60.0587 Q1742.25 66.3781 1737.23 70.0644 Q1732.25 73.7508 1723.5 73.7508 Q1719.85 73.7508 1715.88 73.0216 Q1711.95 72.3329 1707.58 70.9151 L1707.58 63.2184 Q1711.71 65.3654 1715.72 66.4591 Q1719.73 67.5124 1723.66 67.5124 Q1728.92 67.5124 1731.76 65.73 Q1734.6 63.9071 1734.6 60.6258 Q1734.6 57.5877 1732.53 55.9673 Q1730.5 54.3469 1723.58 52.8481 L1720.98 52.2405 Q1714.06 50.7821 1710.98 47.7845 Q1707.9 44.7463 1707.9 39.4801 Q1707.9 33.0797 1712.44 29.5959 Q1716.97 26.1121 1725.32 26.1121 Q1729.45 26.1121 1733.1 26.7198 Q1736.74 27.3274 1739.82 28.5427 Z\" fill=\"#000000\" fill-rule=\"evenodd\" fill-opacity=\"1\" /><circle clip-path=\"url(#clip732)\" cx=\"335.801\" cy=\"1260.72\" r=\"14\" fill=\"#0000ff\" fill-rule=\"evenodd\" fill-opacity=\"1\" stroke=\"#000000\" stroke-opacity=\"1\" stroke-width=\"3.2\"/>\n",
       "<circle clip-path=\"url(#clip732)\" cx=\"335.801\" cy=\"935.789\" r=\"14\" fill=\"#0000ff\" fill-rule=\"evenodd\" fill-opacity=\"1\" stroke=\"#000000\" stroke-opacity=\"1\" stroke-width=\"3.2\"/>\n",
       "<circle clip-path=\"url(#clip732)\" cx=\"335.801\" cy=\"610.863\" r=\"14\" fill=\"#0000ff\" fill-rule=\"evenodd\" fill-opacity=\"1\" stroke=\"#000000\" stroke-opacity=\"1\" stroke-width=\"3.2\"/>\n",
       "<circle clip-path=\"url(#clip732)\" cx=\"335.801\" cy=\"285.936\" r=\"14\" fill=\"#0000ff\" fill-rule=\"evenodd\" fill-opacity=\"1\" stroke=\"#000000\" stroke-opacity=\"1\" stroke-width=\"3.2\"/>\n",
       "<circle clip-path=\"url(#clip732)\" cx=\"1003.67\" cy=\"1260.72\" r=\"14\" fill=\"#0000ff\" fill-rule=\"evenodd\" fill-opacity=\"1\" stroke=\"#000000\" stroke-opacity=\"1\" stroke-width=\"3.2\"/>\n",
       "<circle clip-path=\"url(#clip732)\" cx=\"1003.67\" cy=\"935.789\" r=\"14\" fill=\"#0000ff\" fill-rule=\"evenodd\" fill-opacity=\"1\" stroke=\"#000000\" stroke-opacity=\"1\" stroke-width=\"3.2\"/>\n",
       "<circle clip-path=\"url(#clip732)\" cx=\"1003.67\" cy=\"610.863\" r=\"14\" fill=\"#0000ff\" fill-rule=\"evenodd\" fill-opacity=\"1\" stroke=\"#000000\" stroke-opacity=\"1\" stroke-width=\"3.2\"/>\n",
       "<circle clip-path=\"url(#clip732)\" cx=\"1003.67\" cy=\"285.936\" r=\"14\" fill=\"#0000ff\" fill-rule=\"evenodd\" fill-opacity=\"1\" stroke=\"#000000\" stroke-opacity=\"1\" stroke-width=\"3.2\"/>\n",
       "<circle clip-path=\"url(#clip732)\" cx=\"1671.53\" cy=\"1260.72\" r=\"14\" fill=\"#0000ff\" fill-rule=\"evenodd\" fill-opacity=\"1\" stroke=\"#000000\" stroke-opacity=\"1\" stroke-width=\"3.2\"/>\n",
       "<circle clip-path=\"url(#clip732)\" cx=\"1671.53\" cy=\"935.789\" r=\"14\" fill=\"#0000ff\" fill-rule=\"evenodd\" fill-opacity=\"1\" stroke=\"#000000\" stroke-opacity=\"1\" stroke-width=\"3.2\"/>\n",
       "<circle clip-path=\"url(#clip732)\" cx=\"1671.53\" cy=\"610.863\" r=\"14\" fill=\"#0000ff\" fill-rule=\"evenodd\" fill-opacity=\"1\" stroke=\"#000000\" stroke-opacity=\"1\" stroke-width=\"3.2\"/>\n",
       "<circle clip-path=\"url(#clip732)\" cx=\"1671.53\" cy=\"285.936\" r=\"14\" fill=\"#0000ff\" fill-rule=\"evenodd\" fill-opacity=\"1\" stroke=\"#000000\" stroke-opacity=\"1\" stroke-width=\"3.2\"/>\n",
       "<circle clip-path=\"url(#clip732)\" cx=\"2339.4\" cy=\"1260.72\" r=\"14\" fill=\"#0000ff\" fill-rule=\"evenodd\" fill-opacity=\"1\" stroke=\"#000000\" stroke-opacity=\"1\" stroke-width=\"3.2\"/>\n",
       "<circle clip-path=\"url(#clip732)\" cx=\"2339.4\" cy=\"935.789\" r=\"14\" fill=\"#0000ff\" fill-rule=\"evenodd\" fill-opacity=\"1\" stroke=\"#000000\" stroke-opacity=\"1\" stroke-width=\"3.2\"/>\n",
       "<circle clip-path=\"url(#clip732)\" cx=\"2339.4\" cy=\"610.863\" r=\"14\" fill=\"#0000ff\" fill-rule=\"evenodd\" fill-opacity=\"1\" stroke=\"#000000\" stroke-opacity=\"1\" stroke-width=\"3.2\"/>\n",
       "<circle clip-path=\"url(#clip732)\" cx=\"2339.4\" cy=\"285.936\" r=\"14\" fill=\"#0000ff\" fill-rule=\"evenodd\" fill-opacity=\"1\" stroke=\"#000000\" stroke-opacity=\"1\" stroke-width=\"3.2\"/>\n",
       "<path clip-path=\"url(#clip732)\" d=\"M586.947 432.399 L586.947 464.399 L618.947 464.399 L618.947 432.399 L586.947 432.399 Z\" fill=\"#e26f46\" fill-rule=\"evenodd\" fill-opacity=\"1\" stroke=\"#000000\" stroke-opacity=\"1\" stroke-width=\"3.2\"/>\n",
       "</svg>\n"
      ]
     },
     "metadata": {},
     "output_type": "display_data"
    }
   ],
   "source": [
    "p=scatter(zeros(1),zeros(1),c=:blue, leg=false,xformatter=x->string(Int(x/1e3)), xlims=(120000,200500),ylims=(5,13),bg=:darkorange);\n",
    "for i in 1:16\n",
    "scatter!([P[:,i][1]],[P[:,i][2]],c=:blue, leg=false);\n",
    "end\n",
    "scatter!([135000.],[11.], shape=:square, title=\"Design of Experiments\", xlabel=\"Young modulus E\",ylabel=\"Cross section A\");\n",
    "savefig(\"img/doe.png\");\n",
    "display(p)"
   ]
  },
  {
   "cell_type": "code",
   "execution_count": 29,
   "metadata": {},
   "outputs": [],
   "source": [
    "Pint=[(135-125)/(200-125);(11-6)/(12-6)]\n",
    "round.(Pint;digits=2);"
   ]
  },
  {
   "cell_type": "markdown",
   "metadata": {},
   "source": [
    "* Linear spline interpolation functions vector $g$"
   ]
  },
  {
   "cell_type": "code",
   "execution_count": 30,
   "metadata": {},
   "outputs": [
    {
     "data": {
      "text/plain": [
       "16-element Vector{Float64}:\n",
       " 0.84\n",
       " 0.52\n",
       " 0.21\n",
       " 0.21\n",
       " 0.86\n",
       " 0.54\n",
       " 0.26\n",
       " 0.26\n",
       " 0.99\n",
       " 0.73\n",
       " 0.56\n",
       " 0.56\n",
       " 1.2\n",
       " 1.0\n",
       " 0.88\n",
       " 0.88"
      ]
     },
     "execution_count": 30,
     "metadata": {},
     "output_type": "execute_result"
    }
   ],
   "source": [
    "g=GlinVec(P,Pint)\n",
    "round.(g;digits=2)"
   ]
  },
  {
   "cell_type": "markdown",
   "metadata": {},
   "source": [
    "Results of the interpolated nodal displacement vector"
   ]
  },
  {
   "cell_type": "code",
   "execution_count": 31,
   "metadata": {},
   "outputs": [
    {
     "data": {
      "text/plain": [
       "10-element Vector{Float64}:\n",
       "  -5.71\n",
       " -14.09\n",
       "  -0.44\n",
       " -15.74\n",
       "   3.51\n",
       "  -8.17\n",
       "  -1.32\n",
       " -17.55\n",
       "  -1.32\n",
       " -13.93"
      ]
     },
     "execution_count": 31,
     "metadata": {},
     "output_type": "execute_result"
    }
   ],
   "source": [
    "ũ=ϕ*B*g\n",
    "round.(ũ;digits=2)"
   ]
  },
  {
   "cell_type": "markdown",
   "metadata": {},
   "source": [
    "to be compared to the result of the full high fidelity fem results"
   ]
  },
  {
   "cell_type": "code",
   "execution_count": 32,
   "metadata": {},
   "outputs": [
    {
     "data": {
      "text/plain": [
       "10-element Vector{Float64}:\n",
       "  -5.84\n",
       " -14.41\n",
       "  -0.45\n",
       " -16.09\n",
       "   3.59\n",
       "  -8.35\n",
       "  -1.35\n",
       " -17.94\n",
       "  -1.35\n",
       " -14.24"
      ]
     },
     "execution_count": 32,
     "metadata": {},
     "output_type": "execute_result"
    }
   ],
   "source": [
    "ufem=TrussAssembleSolve(135000,11)\n",
    "round.(ufem;digits=2)"
   ]
  },
  {
   "cell_type": "code",
   "execution_count": 33,
   "metadata": {},
   "outputs": [],
   "source": [
    "writedlm(\"data/uinter.txt\",ũ,',')\n",
    "writedlm(\"data/ufem.txt\",ufem,',')"
   ]
  },
  {
   "cell_type": "code",
   "execution_count": 34,
   "metadata": {},
   "outputs": [
    {
     "data": {
      "image/svg+xml": [
       "<?xml version=\"1.0\" encoding=\"utf-8\"?>\n",
       "<svg xmlns=\"http://www.w3.org/2000/svg\" xmlns:xlink=\"http://www.w3.org/1999/xlink\" width=\"600\" height=\"400\" viewBox=\"0 0 2400 1600\">\n",
       "<defs>\n",
       "  <clipPath id=\"clip830\">\n",
       "    <rect x=\"0\" y=\"0\" width=\"2400\" height=\"1600\"/>\n",
       "  </clipPath>\n",
       "</defs>\n",
       "<path clip-path=\"url(#clip830)\" d=\"\n",
       "M0 1600 L2400 1600 L2400 0 L0 0  Z\n",
       "  \" fill=\"#ff8c00\" fill-rule=\"evenodd\" fill-opacity=\"1\"/>\n",
       "<defs>\n",
       "  <clipPath id=\"clip831\">\n",
       "    <rect x=\"480\" y=\"0\" width=\"1681\" height=\"1600\"/>\n",
       "  </clipPath>\n",
       "</defs>\n",
       "<path clip-path=\"url(#clip830)\" d=\"\n",
       "M178.867 1486.45 L2352.76 1486.45 L2352.76 47.2441 L178.867 47.2441  Z\n",
       "  \" fill=\"#ff8c00\" fill-rule=\"evenodd\" fill-opacity=\"1\"/>\n",
       "<defs>\n",
       "  <clipPath id=\"clip832\">\n",
       "    <rect x=\"178\" y=\"47\" width=\"2175\" height=\"1440\"/>\n",
       "  </clipPath>\n",
       "</defs>\n",
       "<polyline clip-path=\"url(#clip832)\" style=\"stroke:#000000; stroke-width:2; stroke-opacity:0.1; fill:none\" points=\"\n",
       "  420.41,1486.45 420.41,47.2441 \n",
       "  \"/>\n",
       "<polyline clip-path=\"url(#clip832)\" style=\"stroke:#000000; stroke-width:2; stroke-opacity:0.1; fill:none\" points=\"\n",
       "  903.496,1486.45 903.496,47.2441 \n",
       "  \"/>\n",
       "<polyline clip-path=\"url(#clip832)\" style=\"stroke:#000000; stroke-width:2; stroke-opacity:0.1; fill:none\" points=\"\n",
       "  1386.58,1486.45 1386.58,47.2441 \n",
       "  \"/>\n",
       "<polyline clip-path=\"url(#clip832)\" style=\"stroke:#000000; stroke-width:2; stroke-opacity:0.1; fill:none\" points=\"\n",
       "  1869.67,1486.45 1869.67,47.2441 \n",
       "  \"/>\n",
       "<polyline clip-path=\"url(#clip832)\" style=\"stroke:#000000; stroke-width:2; stroke-opacity:0.1; fill:none\" points=\"\n",
       "  2352.76,1486.45 2352.76,47.2441 \n",
       "  \"/>\n",
       "<polyline clip-path=\"url(#clip830)\" style=\"stroke:#000000; stroke-width:4; stroke-opacity:1; fill:none\" points=\"\n",
       "  178.867,1486.45 2352.76,1486.45 \n",
       "  \"/>\n",
       "<polyline clip-path=\"url(#clip830)\" style=\"stroke:#000000; stroke-width:4; stroke-opacity:1; fill:none\" points=\"\n",
       "  420.41,1486.45 420.41,1469.18 \n",
       "  \"/>\n",
       "<polyline clip-path=\"url(#clip830)\" style=\"stroke:#000000; stroke-width:4; stroke-opacity:1; fill:none\" points=\"\n",
       "  903.496,1486.45 903.496,1469.18 \n",
       "  \"/>\n",
       "<polyline clip-path=\"url(#clip830)\" style=\"stroke:#000000; stroke-width:4; stroke-opacity:1; fill:none\" points=\"\n",
       "  1386.58,1486.45 1386.58,1469.18 \n",
       "  \"/>\n",
       "<polyline clip-path=\"url(#clip830)\" style=\"stroke:#000000; stroke-width:4; stroke-opacity:1; fill:none\" points=\"\n",
       "  1869.67,1486.45 1869.67,1469.18 \n",
       "  \"/>\n",
       "<polyline clip-path=\"url(#clip830)\" style=\"stroke:#000000; stroke-width:4; stroke-opacity:1; fill:none\" points=\"\n",
       "  2352.76,1486.45 2352.76,1469.18 \n",
       "  \"/>\n",
       "<path clip-path=\"url(#clip830)\" d=\"M 0 0 M415.063 1543.18 L431.382 1543.18 L431.382 1547.12 L409.438 1547.12 L409.438 1543.18 Q412.1 1540.43 416.683 1535.8 Q421.29 1531.15 422.47 1529.81 Q424.715 1527.28 425.595 1525.55 Q426.498 1523.79 426.498 1522.1 Q426.498 1519.34 424.553 1517.61 Q422.632 1515.87 419.53 1515.87 Q417.331 1515.87 414.878 1516.63 Q412.447 1517.4 409.669 1518.95 L409.669 1514.23 Q412.493 1513.09 414.947 1512.51 Q417.401 1511.93 419.438 1511.93 Q424.808 1511.93 428.002 1514.62 Q431.197 1517.31 431.197 1521.8 Q431.197 1523.93 430.387 1525.85 Q429.6 1527.74 427.493 1530.34 Q426.914 1531.01 423.813 1534.23 Q420.711 1537.42 415.063 1543.18 Z\" fill=\"#000000\" fill-rule=\"evenodd\" fill-opacity=\"1\" /><path clip-path=\"url(#clip830)\" d=\"M 0 0 M906.506 1516.63 L894.7 1535.08 L906.506 1535.08 L906.506 1516.63 M905.279 1512.56 L911.158 1512.56 L911.158 1535.08 L916.089 1535.08 L916.089 1538.97 L911.158 1538.97 L911.158 1547.12 L906.506 1547.12 L906.506 1538.97 L890.904 1538.97 L890.904 1534.46 L905.279 1512.56 Z\" fill=\"#000000\" fill-rule=\"evenodd\" fill-opacity=\"1\" /><path clip-path=\"url(#clip830)\" d=\"M 0 0 M1386.99 1527.98 Q1383.84 1527.98 1381.99 1530.13 Q1380.16 1532.28 1380.16 1536.03 Q1380.16 1539.76 1381.99 1541.93 Q1383.84 1544.09 1386.99 1544.09 Q1390.14 1544.09 1391.96 1541.93 Q1393.82 1539.76 1393.82 1536.03 Q1393.82 1532.28 1391.96 1530.13 Q1390.14 1527.98 1386.99 1527.98 M1396.27 1513.32 L1396.27 1517.58 Q1394.51 1516.75 1392.71 1516.31 Q1390.92 1515.87 1389.16 1515.87 Q1384.53 1515.87 1382.08 1519 Q1379.65 1522.12 1379.3 1528.44 Q1380.67 1526.43 1382.73 1525.36 Q1384.79 1524.27 1387.27 1524.27 Q1392.47 1524.27 1395.48 1527.44 Q1398.52 1530.59 1398.52 1536.03 Q1398.52 1541.36 1395.37 1544.57 Q1392.22 1547.79 1386.99 1547.79 Q1380.99 1547.79 1377.82 1543.21 Q1374.65 1538.6 1374.65 1529.87 Q1374.65 1521.68 1378.54 1516.82 Q1382.43 1511.93 1388.98 1511.93 Q1390.74 1511.93 1392.52 1512.28 Q1394.33 1512.63 1396.27 1513.32 Z\" fill=\"#000000\" fill-rule=\"evenodd\" fill-opacity=\"1\" /><path clip-path=\"url(#clip830)\" d=\"M 0 0 M1869.67 1530.71 Q1866.34 1530.71 1864.41 1532.49 Q1862.52 1534.27 1862.52 1537.4 Q1862.52 1540.52 1864.41 1542.31 Q1866.34 1544.09 1869.67 1544.09 Q1873 1544.09 1874.92 1542.31 Q1876.85 1540.5 1876.85 1537.4 Q1876.85 1534.27 1874.92 1532.49 Q1873.03 1530.71 1869.67 1530.71 M1864.99 1528.72 Q1861.98 1527.98 1860.29 1525.92 Q1858.63 1523.86 1858.63 1520.89 Q1858.63 1516.75 1861.57 1514.34 Q1864.53 1511.93 1869.67 1511.93 Q1874.83 1511.93 1877.77 1514.34 Q1880.71 1516.75 1880.71 1520.89 Q1880.71 1523.86 1879.02 1525.92 Q1877.35 1527.98 1874.37 1528.72 Q1877.75 1529.5 1879.62 1531.8 Q1881.52 1534.09 1881.52 1537.4 Q1881.52 1542.42 1878.44 1545.11 Q1875.39 1547.79 1869.67 1547.79 Q1863.95 1547.79 1860.87 1545.11 Q1857.82 1542.42 1857.82 1537.4 Q1857.82 1534.09 1859.72 1531.8 Q1861.61 1529.5 1864.99 1528.72 M1863.28 1521.33 Q1863.28 1524.02 1864.95 1525.52 Q1866.64 1527.03 1869.67 1527.03 Q1872.68 1527.03 1874.37 1525.52 Q1876.08 1524.02 1876.08 1521.33 Q1876.08 1518.65 1874.37 1517.14 Q1872.68 1515.64 1869.67 1515.64 Q1866.64 1515.64 1864.95 1517.14 Q1863.28 1518.65 1863.28 1521.33 Z\" fill=\"#000000\" fill-rule=\"evenodd\" fill-opacity=\"1\" /><path clip-path=\"url(#clip830)\" d=\"M 0 0 M2327.44 1543.18 L2335.08 1543.18 L2335.08 1516.82 L2326.77 1518.49 L2326.77 1514.23 L2335.04 1512.56 L2339.71 1512.56 L2339.71 1543.18 L2347.35 1543.18 L2347.35 1547.12 L2327.44 1547.12 L2327.44 1543.18 Z\" fill=\"#000000\" fill-rule=\"evenodd\" fill-opacity=\"1\" /><path clip-path=\"url(#clip830)\" d=\"M 0 0 M2366.8 1515.64 Q2363.18 1515.64 2361.36 1519.2 Q2359.55 1522.75 2359.55 1529.87 Q2359.55 1536.98 2361.36 1540.55 Q2363.18 1544.09 2366.8 1544.09 Q2370.43 1544.09 2372.23 1540.55 Q2374.06 1536.98 2374.06 1529.87 Q2374.06 1522.75 2372.23 1519.2 Q2370.43 1515.64 2366.8 1515.64 M2366.8 1511.93 Q2372.61 1511.93 2375.66 1516.54 Q2378.74 1521.12 2378.74 1529.87 Q2378.74 1538.6 2375.66 1543.21 Q2372.61 1547.79 2366.8 1547.79 Q2360.99 1547.79 2357.91 1543.21 Q2354.85 1538.6 2354.85 1529.87 Q2354.85 1521.12 2357.91 1516.54 Q2360.99 1511.93 2366.8 1511.93 Z\" fill=\"#000000\" fill-rule=\"evenodd\" fill-opacity=\"1\" /><polyline clip-path=\"url(#clip832)\" style=\"stroke:#000000; stroke-width:2; stroke-opacity:0.1; fill:none\" points=\"\n",
       "  178.867,1269.65 2352.76,1269.65 \n",
       "  \"/>\n",
       "<polyline clip-path=\"url(#clip832)\" style=\"stroke:#000000; stroke-width:2; stroke-opacity:0.1; fill:none\" points=\"\n",
       "  178.867,951.236 2352.76,951.236 \n",
       "  \"/>\n",
       "<polyline clip-path=\"url(#clip832)\" style=\"stroke:#000000; stroke-width:2; stroke-opacity:0.1; fill:none\" points=\"\n",
       "  178.867,632.82 2352.76,632.82 \n",
       "  \"/>\n",
       "<polyline clip-path=\"url(#clip832)\" style=\"stroke:#000000; stroke-width:2; stroke-opacity:0.1; fill:none\" points=\"\n",
       "  178.867,314.405 2352.76,314.405 \n",
       "  \"/>\n",
       "<polyline clip-path=\"url(#clip830)\" style=\"stroke:#000000; stroke-width:4; stroke-opacity:1; fill:none\" points=\"\n",
       "  178.867,1486.45 178.867,47.2441 \n",
       "  \"/>\n",
       "<polyline clip-path=\"url(#clip830)\" style=\"stroke:#000000; stroke-width:4; stroke-opacity:1; fill:none\" points=\"\n",
       "  178.867,1269.65 204.953,1269.65 \n",
       "  \"/>\n",
       "<polyline clip-path=\"url(#clip830)\" style=\"stroke:#000000; stroke-width:4; stroke-opacity:1; fill:none\" points=\"\n",
       "  178.867,951.236 204.953,951.236 \n",
       "  \"/>\n",
       "<polyline clip-path=\"url(#clip830)\" style=\"stroke:#000000; stroke-width:4; stroke-opacity:1; fill:none\" points=\"\n",
       "  178.867,632.82 204.953,632.82 \n",
       "  \"/>\n",
       "<polyline clip-path=\"url(#clip830)\" style=\"stroke:#000000; stroke-width:4; stroke-opacity:1; fill:none\" points=\"\n",
       "  178.867,314.405 204.953,314.405 \n",
       "  \"/>\n",
       "<path clip-path=\"url(#clip830)\" d=\"M 0 0 M50.9921 1270.1 L80.6679 1270.1 L80.6679 1274.04 L50.9921 1274.04 L50.9921 1270.1 Z\" fill=\"#000000\" fill-rule=\"evenodd\" fill-opacity=\"1\" /><path clip-path=\"url(#clip830)\" d=\"M 0 0 M104.927 1268.3 Q108.283 1269.01 110.158 1271.28 Q112.057 1273.55 112.057 1276.89 Q112.057 1282 108.538 1284.8 Q105.02 1287.6 98.5382 1287.6 Q96.3623 1287.6 94.0475 1287.16 Q91.7558 1286.75 89.3021 1285.89 L89.3021 1281.38 Q91.2465 1282.51 93.5613 1283.09 Q95.8761 1283.67 98.3993 1283.67 Q102.797 1283.67 105.089 1281.93 Q107.404 1280.2 107.404 1276.89 Q107.404 1273.83 105.251 1272.12 Q103.121 1270.38 99.3021 1270.38 L95.2743 1270.38 L95.2743 1266.54 L99.4872 1266.54 Q102.936 1266.54 104.765 1265.17 Q106.594 1263.78 106.594 1261.19 Q106.594 1258.53 104.696 1257.12 Q102.821 1255.68 99.3021 1255.68 Q97.3808 1255.68 95.1817 1256.1 Q92.9826 1256.51 90.3438 1257.39 L90.3438 1253.23 Q93.0058 1252.49 95.3206 1252.12 Q97.6585 1251.75 99.7187 1251.75 Q105.043 1251.75 108.145 1254.18 Q111.246 1256.58 111.246 1260.7 Q111.246 1263.58 109.603 1265.57 Q107.959 1267.53 104.927 1268.3 Z\" fill=\"#000000\" fill-rule=\"evenodd\" fill-opacity=\"1\" /><path clip-path=\"url(#clip830)\" d=\"M 0 0 M130.922 1255.45 Q127.311 1255.45 125.482 1259.01 Q123.677 1262.56 123.677 1269.69 Q123.677 1276.79 125.482 1280.36 Q127.311 1283.9 130.922 1283.9 Q134.556 1283.9 136.362 1280.36 Q138.191 1276.79 138.191 1269.69 Q138.191 1262.56 136.362 1259.01 Q134.556 1255.45 130.922 1255.45 M130.922 1251.75 Q136.732 1251.75 139.788 1256.35 Q142.867 1260.94 142.867 1269.69 Q142.867 1278.41 139.788 1283.02 Q136.732 1287.6 130.922 1287.6 Q125.112 1287.6 122.033 1283.02 Q118.978 1278.41 118.978 1269.69 Q118.978 1260.94 122.033 1256.35 Q125.112 1251.75 130.922 1251.75 Z\" fill=\"#000000\" fill-rule=\"evenodd\" fill-opacity=\"1\" /><path clip-path=\"url(#clip830)\" d=\"M 0 0 M50.9921 951.687 L80.6679 951.687 L80.6679 955.622 L50.9921 955.622 L50.9921 951.687 Z\" fill=\"#000000\" fill-rule=\"evenodd\" fill-opacity=\"1\" /><path clip-path=\"url(#clip830)\" d=\"M 0 0 M94.7882 964.581 L111.108 964.581 L111.108 968.516 L89.1632 968.516 L89.1632 964.581 Q91.8252 961.826 96.4085 957.197 Q101.015 952.544 102.196 951.201 Q104.441 948.678 105.321 946.942 Q106.223 945.183 106.223 943.493 Q106.223 940.738 104.279 939.002 Q102.358 937.266 99.2558 937.266 Q97.0567 937.266 94.603 938.03 Q92.1725 938.794 89.3947 940.345 L89.3947 935.623 Q92.2188 934.488 94.6724 933.91 Q97.1261 933.331 99.1632 933.331 Q104.534 933.331 107.728 936.016 Q110.922 938.701 110.922 943.192 Q110.922 945.322 110.112 947.243 Q109.325 949.141 107.219 951.734 Q106.64 952.405 103.538 955.622 Q100.436 958.817 94.7882 964.581 Z\" fill=\"#000000\" fill-rule=\"evenodd\" fill-opacity=\"1\" /><path clip-path=\"url(#clip830)\" d=\"M 0 0 M130.922 937.035 Q127.311 937.035 125.482 940.599 Q123.677 944.141 123.677 951.271 Q123.677 958.377 125.482 961.942 Q127.311 965.484 130.922 965.484 Q134.556 965.484 136.362 961.942 Q138.191 958.377 138.191 951.271 Q138.191 944.141 136.362 940.599 Q134.556 937.035 130.922 937.035 M130.922 933.331 Q136.732 933.331 139.788 937.937 Q142.867 942.521 142.867 951.271 Q142.867 959.997 139.788 964.604 Q136.732 969.187 130.922 969.187 Q125.112 969.187 122.033 964.604 Q118.978 959.997 118.978 951.271 Q118.978 942.521 122.033 937.937 Q125.112 933.331 130.922 933.331 Z\" fill=\"#000000\" fill-rule=\"evenodd\" fill-opacity=\"1\" /><path clip-path=\"url(#clip830)\" d=\"M 0 0 M50.9921 633.272 L80.6679 633.272 L80.6679 637.207 L50.9921 637.207 L50.9921 633.272 Z\" fill=\"#000000\" fill-rule=\"evenodd\" fill-opacity=\"1\" /><path clip-path=\"url(#clip830)\" d=\"M 0 0 M91.5706 646.165 L99.2095 646.165 L99.2095 619.8 L90.8993 621.466 L90.8993 617.207 L99.1632 615.54 L103.839 615.54 L103.839 646.165 L111.478 646.165 L111.478 650.1 L91.5706 650.1 L91.5706 646.165 Z\" fill=\"#000000\" fill-rule=\"evenodd\" fill-opacity=\"1\" /><path clip-path=\"url(#clip830)\" d=\"M 0 0 M130.922 618.619 Q127.311 618.619 125.482 622.184 Q123.677 625.726 123.677 632.855 Q123.677 639.962 125.482 643.526 Q127.311 647.068 130.922 647.068 Q134.556 647.068 136.362 643.526 Q138.191 639.962 138.191 632.855 Q138.191 625.726 136.362 622.184 Q134.556 618.619 130.922 618.619 M130.922 614.915 Q136.732 614.915 139.788 619.522 Q142.867 624.105 142.867 632.855 Q142.867 641.582 139.788 646.188 Q136.732 650.772 130.922 650.772 Q125.112 650.772 122.033 646.188 Q118.978 641.582 118.978 632.855 Q118.978 624.105 122.033 619.522 Q125.112 614.915 130.922 614.915 Z\" fill=\"#000000\" fill-rule=\"evenodd\" fill-opacity=\"1\" /><path clip-path=\"url(#clip830)\" d=\"M 0 0 M130.922 300.204 Q127.311 300.204 125.482 303.769 Q123.677 307.31 123.677 314.44 Q123.677 321.546 125.482 325.111 Q127.311 328.653 130.922 328.653 Q134.556 328.653 136.362 325.111 Q138.191 321.546 138.191 314.44 Q138.191 307.31 136.362 303.769 Q134.556 300.204 130.922 300.204 M130.922 296.5 Q136.732 296.5 139.788 301.107 Q142.867 305.69 142.867 314.44 Q142.867 323.167 139.788 327.773 Q136.732 332.356 130.922 332.356 Q125.112 332.356 122.033 327.773 Q118.978 323.167 118.978 314.44 Q118.978 305.69 122.033 301.107 Q125.112 296.5 130.922 296.5 Z\" fill=\"#000000\" fill-rule=\"evenodd\" fill-opacity=\"1\" /><polyline clip-path=\"url(#clip832)\" style=\"stroke:#009af9; stroke-width:4; stroke-opacity:1; fill:none\" points=\"\n",
       "  178.867,682.352 420.41,1222.72 661.953,342.709 903.496,1329.07 1145.04,87.9763 1386.58,841.039 1628.13,399.316 1869.67,1445.72 2111.21,399.316 2352.76,1212.42 \n",
       "  \n",
       "  \"/>\n",
       "<polyline clip-path=\"url(#clip832)\" style=\"stroke:#e26f46; stroke-width:4; stroke-opacity:1; fill:none\" points=\"\n",
       "  178.867,590.365 420.41,995.642 661.953,335.633 903.496,1075.4 1145.04,144.583 1386.58,709.38 1628.13,378.088 1869.67,1162.89 2111.21,378.088 2352.76,987.916 \n",
       "  \n",
       "  \"/>\n",
       "<polyline clip-path=\"url(#clip832)\" style=\"stroke:#3da44d; stroke-width:4; stroke-opacity:1; fill:none\" points=\"\n",
       "  178.867,535.173 420.41,859.394 661.953,331.387 903.496,923.203 1145.04,178.548 1386.58,630.385 1628.13,365.352 1869.67,993.191 2111.21,365.352 2352.76,853.214 \n",
       "  \n",
       "  \"/>\n",
       "<polyline clip-path=\"url(#clip832)\" style=\"stroke:#c271d2; stroke-width:4; stroke-opacity:1; fill:none\" points=\"\n",
       "  178.867,498.378 420.41,768.563 661.953,328.557 903.496,821.736 1145.04,201.191 1386.58,577.722 1628.13,356.86 1869.67,880.06 2111.21,356.86 2352.76,763.412 \n",
       "  \n",
       "  \"/>\n",
       "<polyline clip-path=\"url(#clip832)\" style=\"stroke:#ac8d18; stroke-width:4; stroke-opacity:1; fill:none\" points=\"\n",
       "  178.867,621.027 420.41,1071.33 661.953,337.991 903.496,1159.96 1145.04,125.714 1386.58,753.266 1628.13,385.164 1869.67,1257.16 2111.21,385.164 2352.76,1062.75 \n",
       "  \n",
       "  \"/>\n",
       "<polyline clip-path=\"url(#clip832)\" style=\"stroke:#00a9ad; stroke-width:4; stroke-opacity:1; fill:none\" points=\"\n",
       "  178.867,544.372 420.41,882.102 661.953,332.095 903.496,948.569 1145.04,172.887 1386.58,643.551 1628.13,367.474 1869.67,1021.47 2111.21,367.474 2352.76,875.664 \n",
       "  \n",
       "  \"/>\n",
       "<polyline clip-path=\"url(#clip832)\" style=\"stroke:#ed5d92; stroke-width:4; stroke-opacity:1; fill:none\" points=\"\n",
       "  178.867,498.378 420.41,768.563 661.953,328.557 903.496,821.736 1145.04,201.191 1386.58,577.722 1628.13,356.86 1869.67,880.06 2111.21,356.86 2352.76,763.412 \n",
       "  \n",
       "  \"/>\n",
       "<polyline clip-path=\"url(#clip832)\" style=\"stroke:#c68125; stroke-width:4; stroke-opacity:1; fill:none\" points=\"\n",
       "  178.867,467.716 420.41,692.87 661.953,326.198 903.496,737.181 1145.04,220.06 1386.58,533.836 1628.13,349.785 1869.67,785.784 2111.21,349.785 2352.76,688.578 \n",
       "  \n",
       "  \"/>\n",
       "<polyline clip-path=\"url(#clip832)\" style=\"stroke:#00a98d; stroke-width:4; stroke-opacity:1; fill:none\" points=\"\n",
       "  178.867,577.224 420.41,963.202 661.953,334.622 903.496,1039.16 1145.04,152.67 1386.58,690.572 1628.13,375.056 1869.67,1122.48 2111.21,375.056 2352.76,955.844 \n",
       "  \n",
       "  \"/>\n",
       "<polyline clip-path=\"url(#clip832)\" style=\"stroke:#8e971d; stroke-width:4; stroke-opacity:1; fill:none\" points=\"\n",
       "  178.867,511.519 420.41,801.003 661.953,329.568 903.496,857.974 1145.04,193.104 1386.58,596.53 1628.13,359.893 1869.67,920.464 2111.21,359.893 2352.76,795.484 \n",
       "  \n",
       "  \"/>\n",
       "<polyline clip-path=\"url(#clip832)\" style=\"stroke:#00a8cb; stroke-width:4; stroke-opacity:1; fill:none\" points=\"\n",
       "  178.867,472.097 420.41,703.683 661.953,326.535 903.496,749.26 1145.04,217.364 1386.58,540.105 1628.13,350.795 1869.67,799.252 2111.21,350.795 2352.76,699.268 \n",
       "  \n",
       "  \"/>\n",
       "<polyline clip-path=\"url(#clip832)\" style=\"stroke:#9b7fe8; stroke-width:4; stroke-opacity:1; fill:none\" points=\"\n",
       "  178.867,445.815 420.41,638.804 661.953,324.513 903.496,676.784 1145.04,233.538 1386.58,502.489 1628.13,344.73 1869.67,718.445 2111.21,344.73 2352.76,635.124 \n",
       "  \n",
       "  \"/>\n",
       "<polyline clip-path=\"url(#clip832)\" style=\"stroke:#608cf6; stroke-width:4; stroke-opacity:1; fill:none\" points=\"\n",
       "  178.867,544.372 420.41,882.102 661.953,332.095 903.496,948.569 1145.04,172.887 1386.58,643.551 1628.13,367.474 1869.67,1021.47 2111.21,367.474 2352.76,875.664 \n",
       "  \n",
       "  \"/>\n",
       "<polyline clip-path=\"url(#clip832)\" style=\"stroke:#f05f73; stroke-width:4; stroke-opacity:1; fill:none\" points=\"\n",
       "  178.867,486.88 420.41,740.178 661.953,327.672 903.496,790.028 1145.04,208.267 1386.58,561.265 1628.13,354.207 1869.67,844.707 2111.21,354.207 2352.76,735.349 \n",
       "  \n",
       "  \"/>\n",
       "<polyline clip-path=\"url(#clip832)\" style=\"stroke:#dd64b5; stroke-width:4; stroke-opacity:1; fill:none\" points=\"\n",
       "  178.867,452.385 420.41,655.023 661.953,325.019 903.496,694.903 1145.04,229.494 1386.58,511.893 1628.13,346.247 1869.67,738.647 2111.21,346.247 2352.76,651.16 \n",
       "  \n",
       "  \"/>\n",
       "<polyline clip-path=\"url(#clip832)\" style=\"stroke:#6b9e32; stroke-width:4; stroke-opacity:1; fill:none\" points=\"\n",
       "  178.867,429.388 420.41,598.254 661.953,323.25 903.496,631.487 1145.04,243.646 1386.58,478.978 1628.13,340.94 1869.67,667.94 2111.21,340.94 2352.76,595.035 \n",
       "  \n",
       "  \"/>\n",
       "<polyline clip-path=\"url(#clip832)\" style=\"stroke:#009af9; stroke-width:4; stroke-opacity:1; fill:none\" points=\"\n",
       "  178.867,496.111 420.41,762.966 661.953,328.382 903.496,815.484 1145.04,202.586 1386.58,574.477 1628.13,356.337 1869.67,873.089 2111.21,356.337 2352.76,757.879 \n",
       "  \n",
       "  \"/>\n",
       "<path clip-path=\"url(#clip832)\" d=\"M162.867 480.111 L162.867 512.111 L194.867 512.111 L194.867 480.111 L162.867 480.111 Z\" fill=\"#009af9\" fill-rule=\"evenodd\" fill-opacity=\"1\" stroke=\"#000000\" stroke-opacity=\"1\" stroke-width=\"3.2\"/>\n",
       "<path clip-path=\"url(#clip832)\" d=\"M404.41 746.966 L404.41 778.966 L436.41 778.966 L436.41 746.966 L404.41 746.966 Z\" fill=\"#009af9\" fill-rule=\"evenodd\" fill-opacity=\"1\" stroke=\"#000000\" stroke-opacity=\"1\" stroke-width=\"3.2\"/>\n",
       "<path clip-path=\"url(#clip832)\" d=\"M645.953 312.382 L645.953 344.382 L677.953 344.382 L677.953 312.382 L645.953 312.382 Z\" fill=\"#009af9\" fill-rule=\"evenodd\" fill-opacity=\"1\" stroke=\"#000000\" stroke-opacity=\"1\" stroke-width=\"3.2\"/>\n",
       "<path clip-path=\"url(#clip832)\" d=\"M887.496 799.484 L887.496 831.484 L919.496 831.484 L919.496 799.484 L887.496 799.484 Z\" fill=\"#009af9\" fill-rule=\"evenodd\" fill-opacity=\"1\" stroke=\"#000000\" stroke-opacity=\"1\" stroke-width=\"3.2\"/>\n",
       "<path clip-path=\"url(#clip832)\" d=\"M1129.04 186.586 L1129.04 218.586 L1161.04 218.586 L1161.04 186.586 L1129.04 186.586 Z\" fill=\"#009af9\" fill-rule=\"evenodd\" fill-opacity=\"1\" stroke=\"#000000\" stroke-opacity=\"1\" stroke-width=\"3.2\"/>\n",
       "<path clip-path=\"url(#clip832)\" d=\"M1370.58 558.477 L1370.58 590.477 L1402.58 590.477 L1402.58 558.477 L1370.58 558.477 Z\" fill=\"#009af9\" fill-rule=\"evenodd\" fill-opacity=\"1\" stroke=\"#000000\" stroke-opacity=\"1\" stroke-width=\"3.2\"/>\n",
       "<path clip-path=\"url(#clip832)\" d=\"M1612.13 340.337 L1612.13 372.337 L1644.13 372.337 L1644.13 340.337 L1612.13 340.337 Z\" fill=\"#009af9\" fill-rule=\"evenodd\" fill-opacity=\"1\" stroke=\"#000000\" stroke-opacity=\"1\" stroke-width=\"3.2\"/>\n",
       "<path clip-path=\"url(#clip832)\" d=\"M1853.67 857.089 L1853.67 889.089 L1885.67 889.089 L1885.67 857.089 L1853.67 857.089 Z\" fill=\"#009af9\" fill-rule=\"evenodd\" fill-opacity=\"1\" stroke=\"#000000\" stroke-opacity=\"1\" stroke-width=\"3.2\"/>\n",
       "<path clip-path=\"url(#clip832)\" d=\"M2095.21 340.337 L2095.21 372.337 L2127.21 372.337 L2127.21 340.337 L2095.21 340.337 Z\" fill=\"#009af9\" fill-rule=\"evenodd\" fill-opacity=\"1\" stroke=\"#000000\" stroke-opacity=\"1\" stroke-width=\"3.2\"/>\n",
       "<path clip-path=\"url(#clip832)\" d=\"M2336.76 741.879 L2336.76 773.879 L2368.76 773.879 L2368.76 741.879 L2336.76 741.879 Z\" fill=\"#009af9\" fill-rule=\"evenodd\" fill-opacity=\"1\" stroke=\"#000000\" stroke-opacity=\"1\" stroke-width=\"3.2\"/>\n",
       "<circle clip-path=\"url(#clip832)\" cx=\"178.867\" cy=\"500.237\" r=\"14\" fill=\"#e26f46\" fill-rule=\"evenodd\" fill-opacity=\"1\" stroke=\"#000000\" stroke-opacity=\"1\" stroke-width=\"3.2\"/>\n",
       "<circle clip-path=\"url(#clip832)\" cx=\"420.41\" cy=\"773.15\" r=\"14\" fill=\"#e26f46\" fill-rule=\"evenodd\" fill-opacity=\"1\" stroke=\"#000000\" stroke-opacity=\"1\" stroke-width=\"3.2\"/>\n",
       "<circle clip-path=\"url(#clip832)\" cx=\"661.953\" cy=\"328.7\" r=\"14\" fill=\"#e26f46\" fill-rule=\"evenodd\" fill-opacity=\"1\" stroke=\"#000000\" stroke-opacity=\"1\" stroke-width=\"3.2\"/>\n",
       "<circle clip-path=\"url(#clip832)\" cx=\"903.496\" cy=\"826.861\" r=\"14\" fill=\"#e26f46\" fill-rule=\"evenodd\" fill-opacity=\"1\" stroke=\"#000000\" stroke-opacity=\"1\" stroke-width=\"3.2\"/>\n",
       "<circle clip-path=\"url(#clip832)\" cx=\"1145.04\" cy=\"200.047\" r=\"14\" fill=\"#e26f46\" fill-rule=\"evenodd\" fill-opacity=\"1\" stroke=\"#000000\" stroke-opacity=\"1\" stroke-width=\"3.2\"/>\n",
       "<circle clip-path=\"url(#clip832)\" cx=\"1386.58\" cy=\"580.382\" r=\"14\" fill=\"#e26f46\" fill-rule=\"evenodd\" fill-opacity=\"1\" stroke=\"#000000\" stroke-opacity=\"1\" stroke-width=\"3.2\"/>\n",
       "<circle clip-path=\"url(#clip832)\" cx=\"1628.13\" cy=\"357.289\" r=\"14\" fill=\"#e26f46\" fill-rule=\"evenodd\" fill-opacity=\"1\" stroke=\"#000000\" stroke-opacity=\"1\" stroke-width=\"3.2\"/>\n",
       "<circle clip-path=\"url(#clip832)\" cx=\"1869.67\" cy=\"885.774\" r=\"14\" fill=\"#e26f46\" fill-rule=\"evenodd\" fill-opacity=\"1\" stroke=\"#000000\" stroke-opacity=\"1\" stroke-width=\"3.2\"/>\n",
       "<circle clip-path=\"url(#clip832)\" cx=\"2111.21\" cy=\"357.289\" r=\"14\" fill=\"#e26f46\" fill-rule=\"evenodd\" fill-opacity=\"1\" stroke=\"#000000\" stroke-opacity=\"1\" stroke-width=\"3.2\"/>\n",
       "<circle clip-path=\"url(#clip832)\" cx=\"2352.76\" cy=\"767.948\" r=\"14\" fill=\"#e26f46\" fill-rule=\"evenodd\" fill-opacity=\"1\" stroke=\"#000000\" stroke-opacity=\"1\" stroke-width=\"3.2\"/>\n",
       "</svg>\n"
      ]
     },
     "metadata": {},
     "output_type": "display_data"
    }
   ],
   "source": [
    "p=plot(Y, xlims=(1,10),legend=false,show=true)\n",
    "p=plot!(ũ,shape =:square,xlims=(1,10),legend=false)\n",
    "scatter!(ufem,bg=:darkorange)\n",
    "display(p)\n",
    "savefig(\"img/interpolation.png\")"
   ]
  },
  {
   "cell_type": "code",
   "execution_count": null,
   "metadata": {},
   "outputs": [],
   "source": []
  }
 ],
 "metadata": {
  "kernelspec": {
   "display_name": "Julia 1.6.1",
   "language": "julia",
   "name": "julia-1.6"
  },
  "language_info": {
   "file_extension": ".jl",
   "mimetype": "application/julia",
   "name": "julia",
   "version": "1.6.1"
  }
 },
 "nbformat": 4,
 "nbformat_minor": 4
}
