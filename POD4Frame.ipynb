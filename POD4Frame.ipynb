{
 "cells": [
  {
   "cell_type": "code",
   "execution_count": null,
   "metadata": {},
   "outputs": [],
   "source": [
    "pwd() # cd(\"G:\\\\My Drive\\\\_MOPJ\\\\Julia\\\\ROM4SM\\\\\")"
   ]
  },
  {
   "cell_type": "code",
   "execution_count": null,
   "metadata": {},
   "outputs": [],
   "source": [
    "readdir()"
   ]
  },
  {
   "cell_type": "markdown",
   "metadata": {},
   "source": [
    "# Proper Orthogonal Decomposition (POD) for Structural Mechanics\n",
    "Use Case : Frame made up of plane elastic truss (11 rods et 5 unconstrained nodes with 2 degrees of freedom (10 dof)). The displacement is fixed at node 6 and node 7 fixée. The load is applied on nodes 1&2 with respectivelely a force of -5000N and a force of -2000N (see figure below)  "
   ]
  },
  {
   "cell_type": "markdown",
   "metadata": {},
   "source": [
    "# Frame\n",
    "\n",
    "<img src=\"https://raw.githubusercontent.com/amdeld/ROM4SM.jl/master/img/TrussStructure_LBC.png\" alt=\"Drawing\" style=\"width: 700px;\"/>\n"
   ]
  },
  {
   "cell_type": "markdown",
   "metadata": {},
   "source": [
    "## Stiffness Matrix Function for a plane elastic truss element "
   ]
  },
  {
   "cell_type": "code",
   "execution_count": 1,
   "metadata": {},
   "outputs": [
    {
     "data": {
      "text/plain": [
       "trstiff (generic function with 1 method)"
      ]
     },
     "execution_count": 1,
     "metadata": {},
     "output_type": "execute_result"
    }
   ],
   "source": [
    "function trstiff(coo,E,A)\n",
    "# Function that computes stiffness matrix for truss element\n",
    "# (file name trstiff.m)\n",
    "L=sqrt((coo[2,1]-coo[1,1])^2+(coo[2,2]-coo[1,2])^2)\n",
    "C=(coo[2,1]-coo[1,1])/L\n",
    "S=(coo[2,2]-coo[1,2])/L\n",
    "# Stiffness matrix\n",
    "STF=E*A/L*[C^2 S*C -C^2 -S*C;\n",
    "S*C S^2 -S*C -S^2;\n",
    "-C^2 -S*C C^2 S*C;\n",
    "-S*C -S^2 S*C S^2];\n",
    "return(STF)\n",
    "end"
   ]
  },
  {
   "cell_type": "markdown",
   "metadata": {},
   "source": [
    "## Assembly Function"
   ]
  },
  {
   "cell_type": "code",
   "execution_count": 2,
   "metadata": {},
   "outputs": [
    {
     "data": {
      "text/plain": [
       "truss_str (generic function with 1 method)"
      ]
     },
     "execution_count": 2,
     "metadata": {},
     "output_type": "execute_result"
    }
   ],
   "source": [
    "# Main program for truss structure\n",
    "# Coordinates - units L[mm]\n",
    "function truss_str(E,A)\n",
    "COO=[0 0; 2 0; 4 0 ;1 1; 3 1; -1 1; 5 1]\n",
    "COO=1000*COO\n",
    "DOF=size(COO,1)*2\n",
    "# Elements\n",
    "ELM=[1 2; 2 3; 6 4; 4 5; 5 7; 1 6; 1 4; 2 4; 2 5; 3 5; 3 7]\n",
    "# Properties (units F[N], L[mm])\n",
    "#E=125000\n",
    "#A=6\n",
    "# Assembling of stiffness matrix\n",
    "MSTF=zeros(DOF,DOF)\n",
    "X=zeros(2,2)\n",
    "for i in 1:size(ELM,1)\n",
    "X[1,:]=COO[ELM[i,1],:]\n",
    "X[2,:]=COO[ELM[i,2],:]\n",
    "STF=trstiff(X,E,A)\n",
    "MSTF[2*ELM[i,1]-1:2*ELM[i,1],2*ELM[i,1]-\n",
    "1:2*ELM[i,1]]=MSTF[2*ELM[i,1]-1:2*ELM[i,1],2*ELM[i,1]-\n",
    "1:2*ELM[i,1]]+STF[1:2,1:2]\n",
    "MSTF[2*ELM[i,1]-1:2*ELM[i,1],2*ELM[i,2]-\n",
    "1:2*ELM[i,2]]=MSTF[2*ELM[i,1]-1:2*ELM[i,1],2*ELM[i,2]-\n",
    "1:2*ELM[i,2]]+STF[3:4,1:2]\n",
    "MSTF[2*ELM[i,2]-1:2*ELM[i,2],2*ELM[i,1]-\n",
    "1:2*ELM[i,1]]=MSTF[2*ELM[i,2]-1:2*ELM[i,2],2*ELM[i,1]-\n",
    "1:2*ELM[i,1]]+STF[1:2,3:4]\n",
    "MSTF[2*ELM[i,2]-1:2*ELM[i,2],2*ELM[i,2]-\n",
    "1:2*ELM[i,2]]=MSTF[2*ELM[i,2]-1:2*ELM[i,2],2*ELM[i,2]-\n",
    "1:2*ELM[i,2]]+STF[3:4,3:4]\n",
    "end\n",
    "# Constrains\n",
    "con=[12 13 14 15] # constrained DOF\n",
    "CDOF=size(con,2)\n",
    "# Forces\n",
    "dF=zeros(DOF,1)\n",
    "dF[2]=-5000\n",
    "dF[6]=-2000\n",
    "# Reduced stiffness matrix & force vector\n",
    "RSTF=MSTF[1:DOF-CDOF,1:DOF-CDOF]\n",
    "dFR=dF[1:DOF-CDOF]\n",
    "# Solving for displacements\n",
    "d=inv(RSTF)*dFR\n",
    "# End of main program\n",
    "return(d)\n",
    "end"
   ]
  },
  {
   "cell_type": "markdown",
   "metadata": {},
   "source": [
    "## Design Of Experiments function (doe)"
   ]
  },
  {
   "cell_type": "code",
   "execution_count": 3,
   "metadata": {},
   "outputs": [
    {
     "data": {
      "text/plain": [
       "doe (generic function with 1 method)"
      ]
     },
     "execution_count": 3,
     "metadata": {},
     "output_type": "execute_result"
    }
   ],
   "source": [
    "function doe()\n",
    "    cnt = 1\n",
    "    U=zeros(10)\n",
    "    for E in [125000 150000 175000 200000]\n",
    "        for A in [6 8 10 12]\n",
    "            Disp = truss_str(E, A)\n",
    "            #show(Disp)\n",
    "            if cnt > 1\n",
    "                U = [U Disp]\n",
    "            else\n",
    "                U = Disp\n",
    "            end\n",
    "            cnt += 1\n",
    "        end\n",
    "    end\n",
    "    #show(U)\n",
    "    return (U)\n",
    "end"
   ]
  },
  {
   "cell_type": "markdown",
   "metadata": {},
   "source": [
    "## DOE execution for the snaphot matrix creation\n",
    "<img src=\"https://raw.githubusercontent.com/amdeld/ROM4SM.jl/master/img/snaphotmatrix4FEM.png\" alt=\"Drawing\" style=\"width: 700px;\"/>\n",
    "\n",
    "$Y=\\left[\\begin{array}{cccccccccc}\n",
    "| & | & | & | & | & | & | & | & | & |\\\\\n",
    "\\vdots & \\vdots & \\vdots & \\vdots & \\vdots & \\vdots & \\vdots & \\vdots & \\vdots & \\vdots\\\\\n",
    "| & | & | & | & | & | & | & | & | & |\\\\\n",
    "y_{1} & y_{2} & y_{3} & y_{4} & y_{5} & y_{6} & y_{7} & y_{8} & y_{9} & y_{10}\\\\\n",
    "| & | & | & | & | & | & | & | & | & |\\\\\n",
    "\\vdots & \\vdots & \\vdots & \\vdots & \\vdots & \\vdots & \\vdots & \\vdots & \\vdots & \\vdots\\\\\n",
    "| & | & | & | & | & | & | & | & | & |\n",
    "\\end{array}\\right]$\n",
    "\n",
    "Range of Young modulus E = {125000; 150000; 175000; 200000} (unit MPa)\n",
    "Range of cross section A = {6; 8; 10; 12} (unit mm)"
   ]
  },
  {
   "cell_type": "code",
   "execution_count": 4,
   "metadata": {},
   "outputs": [
    {
     "name": "stdout",
     "output_type": "stream",
     "text": [
      "The Data - Snaphot matrix Y coming out from the DOE\n",
      "10×16 Array{Float64,2}:\n",
      " -11.56   -8.67   -6.93   -5.78   -9.63   -7.22   -5.78   -4.81   -8.25   -6.19   -4.95   -4.13   -7.22   -5.42   -4.33   -3.61\n",
      " -28.53  -21.39  -17.12  -14.26  -23.77  -17.83  -14.26  -11.89  -20.38  -15.28  -12.23  -10.19  -17.83  -13.37  -10.7    -8.91\n",
      "  -0.89   -0.67   -0.53   -0.44   -0.74   -0.56   -0.44   -0.37   -0.63   -0.48   -0.38   -0.32   -0.56   -0.42   -0.33   -0.28\n",
      " -31.87  -23.9   -19.12  -15.93  -26.55  -19.92  -15.93  -13.28  -22.76  -17.07  -13.66  -11.38  -19.92  -14.94  -11.95   -9.96\n",
      "   7.11    5.33    4.27    3.56    5.93    4.44    3.56    2.96    5.08    3.81    3.05    2.54    4.44    3.33    2.67    2.22\n",
      " -16.54  -12.4    -9.92   -8.27  -13.78  -10.34   -8.27   -6.89  -11.81   -8.86   -7.09   -5.91  -10.34   -7.75   -6.2    -5.17\n",
      "  -2.67   -2.0    -1.6    -1.33   -2.22   -1.67   -1.33   -1.11   -1.9    -1.43   -1.14   -0.95   -1.67   -1.25   -1.0    -0.83\n",
      " -35.53  -26.65  -21.32  -17.76  -29.61  -22.21  -17.76  -14.8   -25.38  -19.03  -15.23  -12.69  -22.21  -16.65  -13.32  -11.1\n",
      "  -2.67   -2.0    -1.6    -1.33   -2.22   -1.67   -1.33   -1.11   -1.9    -1.43   -1.14   -0.95   -1.67   -1.25   -1.0    -0.83\n",
      " -28.2   -21.15  -16.92  -14.1   -23.5   -17.63  -14.1   -11.75  -20.14  -15.11  -12.09  -10.07  -17.63  -13.22  -10.58   -8.81"
     ]
    }
   ],
   "source": [
    "# Execute The design of experiments (DOE)\n",
    "Y=doe()\n",
    "println(\"\\rThe Data - Snaphot matrix Y coming out from the DOE\\r\")\n",
    "show(stdout,\"text/plain\", round.(Y;digits=2))"
   ]
  },
  {
   "cell_type": "markdown",
   "metadata": {},
   "source": [
    "## Verification of the results for the first column (E=125000 and A=6mm) with the commercial Finite element software MSC.Marc\n",
    "<img src=\"https://raw.githubusercontent.com/amdeld/ROM4SM.jl/master/img/TrussStructure_DisplacementX.png\" alt=\"Drawing\" style=\"width: 700px;\"/>\n",
    "<img src=\"https://raw.githubusercontent.com/amdeld/ROM4SM.jl/master/img/TrussStructure_DisplacementY.png\" alt=\"Drawing\" style=\"width: 700px;\"/>"
   ]
  },
  {
   "cell_type": "markdown",
   "metadata": {},
   "source": [
    "## POD 2 methodes are used here which should give the same results (Eigen decomposition and Singular Value Decompostion) followed by reconstruction and reduction steps"
   ]
  },
  {
   "cell_type": "code",
   "execution_count": 5,
   "metadata": {},
   "outputs": [],
   "source": [
    "using LinearAlgebra\n",
    "# Chargement du paquet LinearAlgebra pour les opérations d'algèbre linéaire"
   ]
  },
  {
   "cell_type": "code",
   "execution_count": 6,
   "metadata": {},
   "outputs": [
    {
     "name": "stdout",
     "output_type": "stream",
     "text": [
      "EigenValues vector λ\n"
     ]
    },
    {
     "data": {
      "text/plain": [
       "10-element Array{Float64,1}:\n",
       "    -2.2135126648768165e-12\n",
       "    -1.1048887716527176e-12\n",
       "    -4.3125039855839144e-13\n",
       "    -1.10895170442201e-13\n",
       "    -1.816827865912878e-14\n",
       "    -9.806735284196114e-15\n",
       "     1.5177084586265563e-15\n",
       "     1.853963908321237e-12\n",
       "     2.1827872842550278e-11\n",
       " 24580.216532550152"
      ]
     },
     "execution_count": 6,
     "metadata": {},
     "output_type": "execute_result"
    }
   ],
   "source": [
    "F=eigen(Y*Y')\n",
    "println(\"\\rEigenValues vector λ\\r\")\n",
    "F.values"
   ]
  },
  {
   "cell_type": "code",
   "execution_count": 7,
   "metadata": {},
   "outputs": [
    {
     "name": "stdout",
     "output_type": "stream",
     "text": [
      "EigenVectors matrix ϕ\n",
      "10×10 Array{Float64,2}:\n",
      "  0.18   0.12   0.07  -0.78  -0.29  -0.47   0.06   0.05  -0.08  -0.18\n",
      " -0.28   0.26   0.32  -0.04  -0.03   0.22  -0.03  -0.68  -0.2   -0.43\n",
      "  0.01   0.0   -0.02  -0.06   0.07  -0.05  -0.99   0.02  -0.01  -0.01\n",
      "  0.57  -0.07  -0.54   0.24  -0.05  -0.05   0.0   -0.17  -0.23  -0.48\n",
      "  0.24   0.19  -0.19  -0.46   0.08   0.79   0.0    0.09   0.05   0.11\n",
      " -0.36  -0.82  -0.15  -0.27   0.1    0.13   0.02   0.01  -0.12  -0.25\n",
      "  0.09   0.11   0.02  -0.16   0.94  -0.23   0.09  -0.06  -0.02  -0.04\n",
      " -0.19   0.25   0.18   0.12   0.05   0.12   0.01   0.7   -0.25  -0.54\n",
      "  0.58  -0.37   0.71   0.07   0.02   0.13  -0.02   0.03  -0.02  -0.04\n",
      "  0.0    0.0    0.0    0.0    0.0    0.0    0.0    0.0    0.9   -0.43"
     ]
    }
   ],
   "source": [
    "println(\"\\rEigenVectors matrix ϕ\\r\")\n",
    "ϕ=F.vectors\n",
    "show(stdout,\"text/plain\", round.(ϕ;digits=2))"
   ]
  },
  {
   "cell_type": "code",
   "execution_count": 8,
   "metadata": {},
   "outputs": [
    {
     "name": "stdout",
     "output_type": "stream",
     "text": [
      "Amplitude matrix A\n",
      "10×16 Array{Float64,2}:\n",
      "  0.0   -0.0   -0.0    0.0   -0.0   -0.0    0.0   -0.0   -0.0   -0.0    0.0  -0.0   -0.0   -0.0   -0.0   -0.0\n",
      " -0.0    0.0   -0.0   -0.0   -0.0    0.0   -0.0   -0.0   -0.0   -0.0   -0.0  -0.0    0.0   -0.0    0.0    0.0\n",
      "  0.0    0.0    0.0    0.0    0.0    0.0    0.0    0.0    0.0    0.0   -0.0   0.0    0.0    0.0    0.0    0.0\n",
      " -0.0   -0.0    0.0   -0.0   -0.0   -0.0   -0.0   -0.0   -0.0   -0.0    0.0  -0.0   -0.0   -0.0   -0.0   -0.0\n",
      " -0.0    0.0   -0.0   -0.0    0.0    0.0   -0.0    0.0    0.0    0.0   -0.0   0.0    0.0    0.0    0.0    0.0\n",
      " -0.0    0.0   -0.0   -0.0   -0.0    0.0   -0.0   -0.0   -0.0   -0.0   -0.0  -0.0    0.0   -0.0    0.0    0.0\n",
      " -0.0   -0.0    0.0   -0.0   -0.0    0.0   -0.0   -0.0   -0.0   -0.0    0.0  -0.0    0.0   -0.0   -0.0    0.0\n",
      "  0.0    0.0    0.0    0.0   -0.0    0.0    0.0   -0.0    0.0    0.0    0.0   0.0    0.0    0.0    0.0    0.0\n",
      "  0.0    0.0    0.0    0.0    0.0    0.0    0.0    0.0    0.0    0.0    0.0   0.0    0.0    0.0    0.0    0.0\n",
      " 66.03  49.52  39.62  33.01  55.02  41.27  33.01  27.51  47.16  35.37  28.3  23.58  41.27  30.95  24.76  20.63"
     ]
    }
   ],
   "source": [
    "println(\"\\rAmplitude matrix A\\r\")\n",
    "A=F.vectors'*Y\n",
    "show(stdout,\"text/plain\", round.(A;digits=2))"
   ]
  },
  {
   "cell_type": "code",
   "execution_count": 9,
   "metadata": {},
   "outputs": [
    {
     "name": "stdout",
     "output_type": "stream",
     "text": [
      "Reconstruction of Yrecons=ϕA\n",
      "10×16 Array{Float64,2}:\n",
      " -11.56   -8.67   -6.93   -5.78   -9.63   -7.22   -5.78   -4.81   -8.25   -6.19   -4.95   -4.13   -7.22   -5.42   -4.33   -3.61\n",
      " -28.53  -21.39  -17.12  -14.26  -23.77  -17.83  -14.26  -11.89  -20.38  -15.28  -12.23  -10.19  -17.83  -13.37  -10.7    -8.91\n",
      "  -0.89   -0.67   -0.53   -0.44   -0.74   -0.56   -0.44   -0.37   -0.63   -0.48   -0.38   -0.32   -0.56   -0.42   -0.33   -0.28\n",
      " -31.87  -23.9   -19.12  -15.93  -26.55  -19.92  -15.93  -13.28  -22.76  -17.07  -13.66  -11.38  -19.92  -14.94  -11.95   -9.96\n",
      "   7.11    5.33    4.27    3.56    5.93    4.44    3.56    2.96    5.08    3.81    3.05    2.54    4.44    3.33    2.67    2.22\n",
      " -16.54  -12.4    -9.92   -8.27  -13.78  -10.34   -8.27   -6.89  -11.81   -8.86   -7.09   -5.91  -10.34   -7.75   -6.2    -5.17\n",
      "  -2.67   -2.0    -1.6    -1.33   -2.22   -1.67   -1.33   -1.11   -1.9    -1.43   -1.14   -0.95   -1.67   -1.25   -1.0    -0.83\n",
      " -35.53  -26.65  -21.32  -17.76  -29.61  -22.21  -17.76  -14.8   -25.38  -19.03  -15.23  -12.69  -22.21  -16.65  -13.32  -11.1\n",
      "  -2.67   -2.0    -1.6    -1.33   -2.22   -1.67   -1.33   -1.11   -1.9    -1.43   -1.14   -0.95   -1.67   -1.25   -1.0    -0.83\n",
      " -28.2   -21.15  -16.92  -14.1   -23.5   -17.63  -14.1   -11.75  -20.14  -15.11  -12.09  -10.07  -17.63  -13.22  -10.58   -8.81"
     ]
    }
   ],
   "source": [
    "println(\"\\rReconstruction of Yrecons=ϕA\\r\")\n",
    "Yrecons=ϕ*A\n",
    "show(stdout,\"text/plain\", round.(Yrecons;digits=2))"
   ]
  },
  {
   "cell_type": "code",
   "execution_count": 10,
   "metadata": {},
   "outputs": [
    {
     "name": "stdout",
     "output_type": "stream",
     "text": [
      "Reduction of Yapprox=ϕ10*A10'≈ Y\n",
      "10×16 Array{Float64,2}:\n",
      " -11.56   -8.67   -6.93   -5.78   -9.63   -7.22   -5.78   -4.81   -8.25   -6.19   -4.95   -4.13   -7.22   -5.42   -4.33   -3.61\n",
      " -28.53  -21.39  -17.12  -14.26  -23.77  -17.83  -14.26  -11.89  -20.38  -15.28  -12.23  -10.19  -17.83  -13.37  -10.7    -8.91\n",
      "  -0.89   -0.67   -0.53   -0.44   -0.74   -0.56   -0.44   -0.37   -0.63   -0.48   -0.38   -0.32   -0.56   -0.42   -0.33   -0.28\n",
      " -31.87  -23.9   -19.12  -15.93  -26.55  -19.92  -15.93  -13.28  -22.76  -17.07  -13.66  -11.38  -19.92  -14.94  -11.95   -9.96\n",
      "   7.11    5.33    4.27    3.56    5.93    4.44    3.56    2.96    5.08    3.81    3.05    2.54    4.44    3.33    2.67    2.22\n",
      " -16.54  -12.4    -9.92   -8.27  -13.78  -10.34   -8.27   -6.89  -11.81   -8.86   -7.09   -5.91  -10.34   -7.75   -6.2    -5.17\n",
      "  -2.67   -2.0    -1.6    -1.33   -2.22   -1.67   -1.33   -1.11   -1.9    -1.43   -1.14   -0.95   -1.67   -1.25   -1.0    -0.83\n",
      " -35.53  -26.65  -21.32  -17.76  -29.61  -22.21  -17.76  -14.8   -25.38  -19.03  -15.23  -12.69  -22.21  -16.65  -13.32  -11.1\n",
      "  -2.67   -2.0    -1.6    -1.33   -2.22   -1.67   -1.33   -1.11   -1.9    -1.43   -1.14   -0.95   -1.67   -1.25   -1.0    -0.83\n",
      " -28.2   -21.15  -16.92  -14.1   -23.5   -17.63  -14.1   -11.75  -20.14  -15.11  -12.09  -10.07  -17.63  -13.22  -10.58   -8.81"
     ]
    }
   ],
   "source": [
    "println(\"\\rReduction of Yapprox=ϕ10*A10'≈ Y\\r\")\n",
    "Yapprox=ϕ[:,10]*A[10,:]'\n",
    "show(stdout,\"text/plain\", round.(Yapprox;digits=2))"
   ]
  },
  {
   "cell_type": "code",
   "execution_count": 11,
   "metadata": {},
   "outputs": [
    {
     "name": "stdout",
     "output_type": "stream",
     "text": [
      "y1=\n",
      "10-element Array{Float64,1}:\n",
      " -11.56\n",
      " -28.53\n",
      "  -0.89\n",
      " -31.87\n",
      "   7.11\n",
      " -16.54\n",
      "  -2.67\n",
      " -35.53\n",
      "  -2.67\n",
      " -28.2"
     ]
    }
   ],
   "source": [
    "y1=ϕ[:,10]*A[10,:][1]\n",
    "println(\"\\ry1=\\r\")\n",
    "show(stdout,\"text/plain\", round.(y1;digits=2))"
   ]
  },
  {
   "cell_type": "code",
   "execution_count": 17,
   "metadata": {},
   "outputs": [
    {
     "name": "stdout",
     "output_type": "stream",
     "text": [
      "y2=\n",
      "10-element Array{Float64,1}:\n",
      "  -8.67\n",
      " -21.39\n",
      "  -0.67\n",
      " -23.9\n",
      "   5.33\n",
      " -12.4\n",
      "  -2.0\n",
      " -26.65\n",
      "  -2.0\n",
      " -21.15"
     ]
    }
   ],
   "source": [
    "y2=ϕ[:,10]*A[10,:][2]\n",
    "println(\"\\ry2=\\r\")\n",
    "show(stdout,\"text/plain\", round.(y1;digits=2))"
   ]
  },
  {
   "cell_type": "code",
   "execution_count": 12,
   "metadata": {},
   "outputs": [
    {
     "name": "stdout",
     "output_type": "stream",
     "text": [
      "SVD decomposition of the snaphot matrix=\n"
     ]
    },
    {
     "data": {
      "text/plain": [
       "SVD{Float64,Float64,Array{Float64,2}}\n",
       "U factor:\n",
       "10×10 Array{Float64,2}:\n",
       "  0.175013   -0.0769962    0.0634878  …  -0.117766    -0.534239    0.179672\n",
       "  0.432037   -0.452066     0.705132      -0.095187     0.051515   -0.0430513\n",
       "  0.0134625   0.127815     0.180737      -0.515135     0.505987   -0.145575\n",
       "  0.482621    0.254724    -0.248985      -0.103211    -0.120392   -0.0891002\n",
       " -0.1077     -0.204958     0.064601      -0.00713723  -0.477135    0.246816\n",
       "  0.250492    0.253263     0.131573   …  -0.262671    -0.254016   -0.151175\n",
       "  0.0403875  -0.125426     0.187767       0.66208      0.243976    0.113673\n",
       "  0.538104   -0.471607    -0.564768       0.0115301    0.198933    0.0388636\n",
       "  0.0403875  -0.00734608   0.0161755      0.29713     -0.215104   -0.881018\n",
       "  0.427138    0.603438     0.167731       0.324404     0.0621886   0.249673\n",
       "singular values:\n",
       "10-element Array{Float64,1}:\n",
       " 156.78079133793835\n",
       "   2.275930897213532e-14\n",
       "   1.878342523872848e-14\n",
       "   9.451247149500198e-15\n",
       "   6.9373281104171084e-15\n",
       "   3.843980290384771e-15\n",
       "   1.833955345607106e-15\n",
       "   1.3695605923475873e-15\n",
       "   8.406726149442221e-16\n",
       "   3.7621473914048633e-16\n",
       "Vt factor:\n",
       "10×16 Array{Float64,2}:\n",
       " -0.421142   -0.315856   -0.252685   -0.210571    …  -0.157928   -0.131607\n",
       " -0.0170492  -0.393404    0.133248    0.116279       -0.196702   -0.189034\n",
       "  0.571127    0.0488077  -0.26695    -0.278264        0.0244038  -0.09026\n",
       "  0.60055    -0.251984   -0.176189    0.0697235      -0.125992    0.0609089\n",
       "  0.205957    0.186621   -0.303743    0.341688        0.0933103  -0.15904\n",
       " -0.170774   -0.200835   -0.506369    0.363516    …  -0.100418    0.0736684\n",
       "  0.197266   -0.354675    0.477049   -0.00694336     -0.177337   -0.028368\n",
       "  0.0997936  -0.428721    0.16235     0.151733       -0.21436     0.0952554\n",
       "  0.0480208   0.296176    0.461612    0.292058        0.148088   -0.0739478\n",
       "  0.112878    0.0843297  -0.0200444  -0.0508292       0.0421648   0.0115195"
      ]
     },
     "execution_count": 12,
     "metadata": {},
     "output_type": "execute_result"
    }
   ],
   "source": [
    "#Calculate the SVD of the snapshot matrix\n",
    "Z=svd(Y)\n",
    "println(\"\\rSVD decomposition of the snaphot matrix=\\r\")\n",
    "Z"
   ]
  },
  {
   "cell_type": "code",
   "execution_count": 13,
   "metadata": {},
   "outputs": [
    {
     "name": "stdout",
     "output_type": "stream",
     "text": [
      "Check the reconstruction of Yrecons=UΣV* \n",
      "Yrecons=\n",
      "10×16 Array{Float64,2}:\n",
      " -11.56   -8.67   -6.93   -5.78   -9.63   -7.22   -5.78   -4.81   -8.25   -6.19   -4.95   -4.13   -7.22   -5.42   -4.33   -3.61\n",
      " -28.53  -21.39  -17.12  -14.26  -23.77  -17.83  -14.26  -11.89  -20.38  -15.28  -12.23  -10.19  -17.83  -13.37  -10.7    -8.91\n",
      "  -0.89   -0.67   -0.53   -0.44   -0.74   -0.56   -0.44   -0.37   -0.63   -0.48   -0.38   -0.32   -0.56   -0.42   -0.33   -0.28\n",
      " -31.87  -23.9   -19.12  -15.93  -26.55  -19.92  -15.93  -13.28  -22.76  -17.07  -13.66  -11.38  -19.92  -14.94  -11.95   -9.96\n",
      "   7.11    5.33    4.27    3.56    5.93    4.44    3.56    2.96    5.08    3.81    3.05    2.54    4.44    3.33    2.67    2.22\n",
      " -16.54  -12.4    -9.92   -8.27  -13.78  -10.34   -8.27   -6.89  -11.81   -8.86   -7.09   -5.91  -10.34   -7.75   -6.2    -5.17\n",
      "  -2.67   -2.0    -1.6    -1.33   -2.22   -1.67   -1.33   -1.11   -1.9    -1.43   -1.14   -0.95   -1.67   -1.25   -1.0    -0.83\n",
      " -35.53  -26.65  -21.32  -17.76  -29.61  -22.21  -17.76  -14.8   -25.38  -19.03  -15.23  -12.69  -22.21  -16.65  -13.32  -11.1\n",
      "  -2.67   -2.0    -1.6    -1.33   -2.22   -1.67   -1.33   -1.11   -1.9    -1.43   -1.14   -0.95   -1.67   -1.25   -1.0    -0.83\n",
      " -28.2   -21.15  -16.92  -14.1   -23.5   -17.63  -14.1   -11.75  -20.14  -15.11  -12.09  -10.07  -17.63  -13.22  -10.58   -8.81"
     ]
    }
   ],
   "source": [
    "println(\"\\rCheck the reconstruction of Yrecons=UΣV* \\nYrecons=\")\n",
    "Yrecons=Z.U*diagm(Z.S)*Z.Vt\n",
    "show(stdout,\"text/plain\", round.(Yrecons;digits=2))"
   ]
  },
  {
   "cell_type": "code",
   "execution_count": 14,
   "metadata": {},
   "outputs": [
    {
     "name": "stdout",
     "output_type": "stream",
     "text": [
      "The approximation Ỹ is based on the first energetic mode\n",
      "Ỹ=\n",
      "10×16 Array{Float64,2}:\n",
      " -11.56   -8.67   -6.93   -5.78   -9.63   -7.22   -5.78   -4.81   -8.25   -6.19   -4.95   -4.13   -7.22   -5.42   -4.33   -3.61\n",
      " -28.53  -21.39  -17.12  -14.26  -23.77  -17.83  -14.26  -11.89  -20.38  -15.28  -12.23  -10.19  -17.83  -13.37  -10.7    -8.91\n",
      "  -0.89   -0.67   -0.53   -0.44   -0.74   -0.56   -0.44   -0.37   -0.63   -0.48   -0.38   -0.32   -0.56   -0.42   -0.33   -0.28\n",
      " -31.87  -23.9   -19.12  -15.93  -26.55  -19.92  -15.93  -13.28  -22.76  -17.07  -13.66  -11.38  -19.92  -14.94  -11.95   -9.96\n",
      "   7.11    5.33    4.27    3.56    5.93    4.44    3.56    2.96    5.08    3.81    3.05    2.54    4.44    3.33    2.67    2.22\n",
      " -16.54  -12.4    -9.92   -8.27  -13.78  -10.34   -8.27   -6.89  -11.81   -8.86   -7.09   -5.91  -10.34   -7.75   -6.2    -5.17\n",
      "  -2.67   -2.0    -1.6    -1.33   -2.22   -1.67   -1.33   -1.11   -1.9    -1.43   -1.14   -0.95   -1.67   -1.25   -1.0    -0.83\n",
      " -35.53  -26.65  -21.32  -17.76  -29.61  -22.21  -17.76  -14.8   -25.38  -19.03  -15.23  -12.69  -22.21  -16.65  -13.32  -11.1\n",
      "  -2.67   -2.0    -1.6    -1.33   -2.22   -1.67   -1.33   -1.11   -1.9    -1.43   -1.14   -0.95   -1.67   -1.25   -1.0    -0.83\n",
      " -28.2   -21.15  -16.92  -14.1   -23.5   -17.63  -14.1   -11.75  -20.14  -15.11  -12.09  -10.07  -17.63  -13.22  -10.58   -8.81"
     ]
    }
   ],
   "source": [
    "println(\"\\rThe approximation Ỹ is based on the first energetic mode\")\n",
    "println(\"\\rỸ=\")\n",
    "Ỹ=Z.U[:,1]*(diagm(Z.S)*Z.Vt)[1,:]'\n",
    "show(stdout,\"text/plain\", round.(Ỹ;digits=2))"
   ]
  },
  {
   "cell_type": "code",
   "execution_count": 15,
   "metadata": {},
   "outputs": [
    {
     "name": "stdout",
     "output_type": "stream",
     "text": [
      "y1=\n",
      "10-element Array{Float64,1}:\n",
      " -11.56\n",
      " -28.53\n",
      "  -0.89\n",
      " -31.87\n",
      "   7.11\n",
      " -16.54\n",
      "  -2.67\n",
      " -35.53\n",
      "  -2.67\n",
      " -28.2"
     ]
    }
   ],
   "source": [
    "y1=Z.U[:,1]*(Z.S[1]*Z.Vt[1,:][1])\n",
    "println(\"\\ry1=\\r\")\n",
    "show(stdout,\"text/plain\", round.(y1;digits=2))"
   ]
  },
  {
   "cell_type": "code",
   "execution_count": 18,
   "metadata": {},
   "outputs": [
    {
     "name": "stdout",
     "output_type": "stream",
     "text": [
      "y2=\n",
      "10-element Array{Float64,1}:\n",
      "  -8.67\n",
      " -21.39\n",
      "  -0.67\n",
      " -23.9\n",
      "   5.33\n",
      " -12.4\n",
      "  -2.0\n",
      " -26.65\n",
      "  -2.0\n",
      " -21.15"
     ]
    }
   ],
   "source": [
    "y2=Z.U[:,1]*(Z.S[1]*Z.Vt[1,:][2])\n",
    "println(\"\\ry2=\\r\")\n",
    "show(stdout,\"text/plain\", round.(y2;digits=2))"
   ]
  },
  {
   "cell_type": "markdown",
   "metadata": {},
   "source": [
    "For arbitray parameters, the combined use of radial basis functions (RBF) is required"
   ]
  }
 ],
 "metadata": {
  "kernelspec": {
   "display_name": "Julia 1.5.0",
   "language": "julia",
   "name": "julia-1.5"
  },
  "language_info": {
   "file_extension": ".jl",
   "mimetype": "application/julia",
   "name": "julia",
   "version": "1.5.0"
  }
 },
 "nbformat": 4,
 "nbformat_minor": 4
}
