{
 "cells": [
  {
   "cell_type": "markdown",
   "metadata": {},
   "source": [
    "# Proper Orthogonal Decomposition (POD) for Structural Mechanics\n",
    "inspired from Buljak, V. (2012). Inverse Analyses with Model Reduction Proper Orthogonal Decomposition in Structural Mechanics. Springer Berlin Heidelberg (Vol. 33). https://doi.org/10.1007/978-3-642-22703-5\n",
    "\n",
    "## Use Case : Frame made up of plane elastic trusses (11 rods et 5 unconstrained nodes with 2 degrees of freedom (10 dof)). The displacement is fixed at node 6 and node 7 fixée. The load is applied on nodes 1&2 with respectivelely a force $F1 = -5000 N$ and a force $F2 = -2000 N$ (see figure below)  "
   ]
  },
  {
   "cell_type": "markdown",
   "metadata": {},
   "source": [
    "## Frame\n",
    "\n",
    "<img src=\"https://raw.githubusercontent.com/amdeld/ROM4SM.jl/master/img/TrussStructure_LBC.png\" alt=\"Drawing\" style=\"width: 800px;\"/>\n"
   ]
  },
  {
   "cell_type": "code",
   "execution_count": 1,
   "metadata": {},
   "outputs": [],
   "source": [
    "using LinearAlgebra, CSV, DataFrames, DelimitedFiles,Plots # needed for the decomposition operations"
   ]
  },
  {
   "cell_type": "markdown",
   "metadata": {},
   "source": [
    "## Definition of the stiffness matrix nunction for a plane elastic truss element "
   ]
  },
  {
   "cell_type": "code",
   "execution_count": 2,
   "metadata": {},
   "outputs": [
    {
     "data": {
      "text/plain": [
       "TrussElementStiffness (generic function with 1 method)"
      ]
     },
     "execution_count": 2,
     "metadata": {},
     "output_type": "execute_result"
    }
   ],
   "source": [
    "function TrussElementStiffness(coo,E,A)\n",
    "# Function that computes stiffness matrix for truss element\n",
    "# (file name trstiff.m)\n",
    "L=sqrt((coo[2,1]-coo[1,1])^2+(coo[2,2]-coo[1,2])^2)\n",
    "C=(coo[2,1]-coo[1,1])/L\n",
    "S=(coo[2,2]-coo[1,2])/L\n",
    "# Stiffness matrix\n",
    "STF=E*A/L*[C^2 S*C -C^2 -S*C;\n",
    "S*C S^2 -S*C -S^2;\n",
    "-C^2 -S*C C^2 S*C;\n",
    "-S*C -S^2 S*C S^2];\n",
    "return(STF)\n",
    "end"
   ]
  },
  {
   "cell_type": "markdown",
   "metadata": {},
   "source": [
    "## Assemble&Solve Function"
   ]
  },
  {
   "cell_type": "code",
   "execution_count": 3,
   "metadata": {},
   "outputs": [
    {
     "data": {
      "text/plain": [
       "TrussAssembleSolve (generic function with 1 method)"
      ]
     },
     "execution_count": 3,
     "metadata": {},
     "output_type": "execute_result"
    }
   ],
   "source": [
    "# Main program for truss structure\n",
    "# Coordinates - units L[mm]\n",
    "function TrussAssembleSolve(E,A)\n",
    "COO=[0 0; 2 0; 4 0 ;1 1; 3 1; -1 1; 5 1]\n",
    "COO=1000*COO\n",
    "DOF=size(COO,1)*2\n",
    "# Elements\n",
    "ELM=[1 2; 2 3; 6 4; 4 5; 5 7; 1 6; 1 4; 2 4; 2 5; 3 5; 3 7]\n",
    "# Properties (units F[N], L[mm])\n",
    "#E=125000\n",
    "#A=6\n",
    "# Assembling of stiffness matrix\n",
    "MSTF=zeros(DOF,DOF)\n",
    "X=zeros(2,2)\n",
    "for i in 1:size(ELM,1)\n",
    "X[1,:]=COO[ELM[i,1],:]\n",
    "X[2,:]=COO[ELM[i,2],:]\n",
    "STF=TrussElementStiffness(X,E,A)\n",
    "MSTF[2*ELM[i,1]-1:2*ELM[i,1],2*ELM[i,1]-\n",
    "1:2*ELM[i,1]]=MSTF[2*ELM[i,1]-1:2*ELM[i,1],2*ELM[i,1]-\n",
    "1:2*ELM[i,1]]+STF[1:2,1:2]\n",
    "MSTF[2*ELM[i,1]-1:2*ELM[i,1],2*ELM[i,2]-\n",
    "1:2*ELM[i,2]]=MSTF[2*ELM[i,1]-1:2*ELM[i,1],2*ELM[i,2]-\n",
    "1:2*ELM[i,2]]+STF[3:4,1:2]\n",
    "MSTF[2*ELM[i,2]-1:2*ELM[i,2],2*ELM[i,1]-\n",
    "1:2*ELM[i,1]]=MSTF[2*ELM[i,2]-1:2*ELM[i,2],2*ELM[i,1]-\n",
    "1:2*ELM[i,1]]+STF[1:2,3:4]\n",
    "MSTF[2*ELM[i,2]-1:2*ELM[i,2],2*ELM[i,2]-\n",
    "1:2*ELM[i,2]]=MSTF[2*ELM[i,2]-1:2*ELM[i,2],2*ELM[i,2]-\n",
    "1:2*ELM[i,2]]+STF[3:4,3:4]\n",
    "end\n",
    "# Constrains\n",
    "con=[12 13 14 15] # constrained DOF\n",
    "CDOF=size(con,2)\n",
    "# Forces\n",
    "dF=zeros(DOF,1)\n",
    "dF[2]=-5000\n",
    "dF[6]=-2000\n",
    "# Reduced stiffness matrix & force vector\n",
    "RSTF=MSTF[1:DOF-CDOF,1:DOF-CDOF]\n",
    "dFR=dF[1:DOF-CDOF]\n",
    "# Solving for displacements\n",
    "d=inv(RSTF)*dFR\n",
    "# End of main program\n",
    "return(d)\n",
    "end"
   ]
  },
  {
   "cell_type": "markdown",
   "metadata": {},
   "source": [
    "## Definition of the design of experiments function (doe)"
   ]
  },
  {
   "cell_type": "code",
   "execution_count": 4,
   "metadata": {},
   "outputs": [
    {
     "data": {
      "text/plain": [
       "doe (generic function with 1 method)"
      ]
     },
     "execution_count": 4,
     "metadata": {},
     "output_type": "execute_result"
    }
   ],
   "source": [
    "function doe()\n",
    "    Y=zeros(10,16)\n",
    "    P=zeros(2,16)\n",
    "    cnt=0\n",
    "    for E in [125000 150000 175000 200000]\n",
    "        for A in [6 8 10 12]\n",
    "            Disp = TrussAssembleSolve(E, A)\n",
    "            #show(Disp)\n",
    "            cnt += 1\n",
    "            Y[:,cnt] = Disp\n",
    "            P[:,cnt] = [E;A]\n",
    "        end\n",
    "    end\n",
    "    #show(U)\n",
    "    return (Y,P)\n",
    "end"
   ]
  },
  {
   "cell_type": "markdown",
   "metadata": {},
   "source": [
    "## Definition of the calculation function for the matrix $B$ of coefficients of interpolation "
   ]
  },
  {
   "cell_type": "code",
   "execution_count": 5,
   "metadata": {},
   "outputs": [
    {
     "data": {
      "text/plain": [
       "BlinMtx (generic function with 1 method)"
      ]
     },
     "execution_count": 5,
     "metadata": {},
     "output_type": "execute_result"
    }
   ],
   "source": [
    "function BlinMtx(A, p)\n",
    "    # Interpolation by the use of RBFs [Linear splines type]\n",
    "    # Normalization of P [0 1]\n",
    "    M = size(p, 1)\n",
    "    N = size(p, 2)\n",
    "    minP = zeros(M)\n",
    "    maxP = zeros(M)\n",
    "    x = zeros(M, N)\n",
    "    G = zeros(N, N)\n",
    "    for j = 1:M\n",
    "        minP[j] = minimum(p[j,:])\n",
    "        maxP[j] = maximum(p[j,:])\n",
    "        for i = 1:N\n",
    "            x[j,i] = (p[j,i] - minP[j]) / (maxP[j] - minP[j])\n",
    "        end\n",
    "    end\n",
    "    for i = 1:N\n",
    "        for j = 1:N\n",
    "            G[i,j] = sum((x[:,i] - x[:,j]).^2).^0.5\n",
    "        end\n",
    "    end\n",
    "    return A * inv(G)\n",
    "end"
   ]
  },
  {
   "cell_type": "markdown",
   "metadata": {},
   "source": [
    "## Definition of the calculation function for the vector $G$ of interpolation functions"
   ]
  },
  {
   "cell_type": "code",
   "execution_count": 6,
   "metadata": {},
   "outputs": [
    {
     "data": {
      "text/plain": [
       "GlinVec (generic function with 1 method)"
      ]
     },
     "execution_count": 6,
     "metadata": {},
     "output_type": "execute_result"
    }
   ],
   "source": [
    "function GlinVec(p, pX)\n",
    "    # Function that constructs G vector as function of given parameters\n",
    "    M=size(p,1)\n",
    "    N = size(p, 2); # The number of generated snapshots\n",
    "    minP = zeros(M)\n",
    "    maxP = zeros(M)\n",
    "    x = zeros(M, N)\n",
    "    G = zeros(N)\n",
    "    # Normalization of p\n",
    "    for j = 1:M\n",
    "        minP[j,1] = minimum(p[j,:])\n",
    "        maxP[j,1] = maximum(p[j,:])\n",
    "        for i = 1:N\n",
    "            x[j,i] = (p[j,i] - minP[j]) / (maxP[j] - minP[j])\n",
    "        end\n",
    "    end\n",
    "    gi(x,y) = (sum((x-y).^2).^0.5)\n",
    "    value = pX\n",
    "    for k = 1:N\n",
    "        G[k] = gi(value,x[:,k])\n",
    "    end\n",
    "    return G\n",
    "end"
   ]
  },
  {
   "cell_type": "markdown",
   "metadata": {},
   "source": [
    "## DOE execution for the snapshot  $Y$ and the parameter $P$ matrices calculation \n",
    "<img src=\"https://raw.githubusercontent.com/amdeld/ROM4SM.jl/master/img/Snapshotmatrix4FEM.png\" alt=\"Drawing\" style=\"width: 700px;\"/>\n",
    "\n",
    "$Y=\\left[\\begin{array}{cccccccccc}\n",
    "| & | & | & | & | & | & | & | & | & |\\\\\n",
    "\\vdots & \\vdots & \\vdots & \\vdots & \\vdots & \\vdots & \\vdots & \\vdots & \\vdots & \\vdots\\\\\n",
    "| & | & | & | & | & | & | & | & | & |\\\\\n",
    "y_{1} & y_{2} & y_{3} & y_{4} & y_{5} & y_{6} & y_{7} & y_{8} & y_{9} & y_{10}\\\\\n",
    "| & | & | & | & | & | & | & | & | & |\\\\\n",
    "\\vdots & \\vdots & \\vdots & \\vdots & \\vdots & \\vdots & \\vdots & \\vdots & \\vdots & \\vdots\\\\\n",
    "| & | & | & | & | & | & | & | & | & |\n",
    "\\end{array}\\right]$\n",
    "\n",
    "Range of Young modulus $E = \\{125000; 150000; 175000; 200000\\} (unit\\ MPa)$\n",
    "Range of cross section $A = \\{6; 8; 10; 12\\} (unit\\ mm)$"
   ]
  },
  {
   "cell_type": "code",
   "execution_count": 7,
   "metadata": {},
   "outputs": [
    {
     "name": "stdout",
     "output_type": "stream",
     "text": [
      "The Data - Snapshot matrix coming out from the DOE Y =\n",
      "10×16 Array{Float64,2}:\n",
      " -11.56   -8.67   -6.93   -5.78   -9.63   -7.22   -5.78   -4.81   -8.25   -6.19   -4.95   -4.13   -7.22   -5.42   -4.33   -3.61\n",
      " -28.53  -21.39  -17.12  -14.26  -23.77  -17.83  -14.26  -11.89  -20.38  -15.28  -12.23  -10.19  -17.83  -13.37  -10.7    -8.91\n",
      "  -0.89   -0.67   -0.53   -0.44   -0.74   -0.56   -0.44   -0.37   -0.63   -0.48   -0.38   -0.32   -0.56   -0.42   -0.33   -0.28\n",
      " -31.87  -23.9   -19.12  -15.93  -26.55  -19.92  -15.93  -13.28  -22.76  -17.07  -13.66  -11.38  -19.92  -14.94  -11.95   -9.96\n",
      "   7.11    5.33    4.27    3.56    5.93    4.44    3.56    2.96    5.08    3.81    3.05    2.54    4.44    3.33    2.67    2.22\n",
      " -16.54  -12.4    -9.92   -8.27  -13.78  -10.34   -8.27   -6.89  -11.81   -8.86   -7.09   -5.91  -10.34   -7.75   -6.2    -5.17\n",
      "  -2.67   -2.0    -1.6    -1.33   -2.22   -1.67   -1.33   -1.11   -1.9    -1.43   -1.14   -0.95   -1.67   -1.25   -1.0    -0.83\n",
      " -35.53  -26.65  -21.32  -17.76  -29.61  -22.21  -17.76  -14.8   -25.38  -19.03  -15.23  -12.69  -22.21  -16.65  -13.32  -11.1\n",
      "  -2.67   -2.0    -1.6    -1.33   -2.22   -1.67   -1.33   -1.11   -1.9    -1.43   -1.14   -0.95   -1.67   -1.25   -1.0    -0.83\n",
      " -28.2   -21.15  -16.92  -14.1   -23.5   -17.63  -14.1   -11.75  -20.14  -15.11  -12.09  -10.07  -17.63  -13.22  -10.58   -8.81\n",
      "\n",
      "The Parameter matrix P coming out from the DOE P =\n",
      "2×16 Array{Float64,2}:\n",
      " 125000.0  125000.0  125000.0  125000.0  150000.0  150000.0  150000.0  150000.0  175000.0  175000.0  175000.0  175000.0  200000.0  200000.0  200000.0  200000.0\n",
      "      6.0       8.0      10.0      12.0       6.0       8.0      10.0      12.0       6.0       8.0      10.0      12.0       6.0       8.0      10.0      12.0"
     ]
    }
   ],
   "source": [
    "# Execute The design of experiments (DOE)\n",
    "Y,P=doe()\n",
    "# Wriing data into csv files\n",
    "CSV.write(\"data/X.csv\",DataFrame(P'))\n",
    "CSV.write(\"data/Y.csv\",DataFrame(Y))\n",
    "println(\"\\rThe Data - Snapshot matrix coming out from the DOE Y =\\r\")\n",
    "show(stdout,\"text/plain\", round.(Y;digits=2))\n",
    "println(\"\\n\\nThe Parameter matrix P coming out from the DOE P =\\r\")\n",
    "show(stdout,\"text/plain\", round.(P;digits=0))\n"
   ]
  },
  {
   "cell_type": "markdown",
   "metadata": {},
   "source": [
    "## Verification of the results for the first column ($E = 125000 MPa$ and $A = 6mm$) with the commercial finite element software MSC.Marc\n",
    "<img src=\"https://raw.githubusercontent.com/amdeld/ROM4SM.jl/master/img/TrussStructure_DisplacementX.png\" alt=\"Drawing\" style=\"width: 800px;\"/>\n",
    "<img src=\"https://raw.githubusercontent.com/amdeld/ROM4SM.jl/master/img/TrussStructure_DisplacementY.png\" alt=\"Drawing\" style=\"width: 800px;\"/>"
   ]
  },
  {
   "cell_type": "markdown",
   "metadata": {},
   "source": [
    "## POD 2 methodes are used here which give the same results (1. eigen decomposition and 2. singular value decompostion) followed by reconstruction and reduction steps"
   ]
  },
  {
   "cell_type": "markdown",
   "metadata": {},
   "source": [
    "1. Eigen decomposition"
   ]
  },
  {
   "cell_type": "code",
   "execution_count": 8,
   "metadata": {},
   "outputs": [
    {
     "name": "stdout",
     "output_type": "stream",
     "text": [
      "EigenValues vector λ =\n"
     ]
    },
    {
     "data": {
      "text/plain": [
       "10-element Array{Float64,1}:\n",
       "    -0.0\n",
       "    -0.0\n",
       "    -0.0\n",
       "    -0.0\n",
       "     0.0\n",
       "     0.0\n",
       "     0.0\n",
       "     0.0\n",
       "     0.0\n",
       " 24580.22"
      ]
     },
     "execution_count": 8,
     "metadata": {},
     "output_type": "execute_result"
    }
   ],
   "source": [
    "F=eigen(Y*Y')\n",
    "println(\"\\rEigenValues vector λ =\\r\")\n",
    "round.(F.values,digits=2)"
   ]
  },
  {
   "cell_type": "code",
   "execution_count": 9,
   "metadata": {},
   "outputs": [
    {
     "name": "stdout",
     "output_type": "stream",
     "text": [
      "EigenVectors matrix ϕ =\n"
     ]
    },
    {
     "data": {
      "text/plain": [
       "10×10 Array{Float64,2}:\n",
       " -0.81   0.45   0.22   0.03   0.06  -0.13   0.17   0.01  -0.08  -0.18\n",
       "  0.33   0.5   -0.3   -0.02  -0.04  -0.5   -0.26   0.04  -0.2   -0.43\n",
       " -0.09  -0.03  -0.02   0.13  -0.99   0.01   0.0    0.01  -0.01  -0.01\n",
       " -0.06  -0.02  -0.24  -0.14  -0.0    0.58  -0.04  -0.55  -0.23  -0.48\n",
       " -0.38  -0.31  -0.63  -0.53  -0.02  -0.2   -0.11   0.14   0.05   0.11\n",
       " -0.02  -0.52   0.31  -0.05   0.0   -0.57   0.16  -0.45  -0.12  -0.25\n",
       " -0.2   -0.22  -0.45   0.82   0.14  -0.07  -0.02  -0.02  -0.02  -0.04\n",
       " -0.02  -0.35   0.17  -0.01   0.03   0.16   0.02   0.69  -0.25  -0.54\n",
       "  0.2    0.11  -0.27  -0.05  -0.02  -0.02   0.93   0.07  -0.02  -0.04\n",
       "  0.0    0.0    0.0    0.0    0.0    0.0    0.0    0.0    0.9   -0.43"
      ]
     },
     "execution_count": 9,
     "metadata": {},
     "output_type": "execute_result"
    }
   ],
   "source": [
    "println(\"\\rEigenVectors matrix ϕ =\\r\")\n",
    "ϕ=F.vectors\n",
    "round.(ϕ;digits=2)"
   ]
  },
  {
   "cell_type": "code",
   "execution_count": 10,
   "metadata": {},
   "outputs": [
    {
     "name": "stdout",
     "output_type": "stream",
     "text": [
      "Amplitude matrix A =\n"
     ]
    },
    {
     "data": {
      "text/plain": [
       "10×16 Array{Float64,2}:\n",
       " -0.0    0.0    0.0   -0.0    0.0   …   0.0    0.0    0.0    0.0    0.0\n",
       "  0.0    0.0   -0.0    0.0    0.0      -0.0    0.0   -0.0    0.0    0.0\n",
       "  0.0   -0.0    0.0    0.0   -0.0       0.0   -0.0   -0.0   -0.0   -0.0\n",
       " -0.0   -0.0   -0.0   -0.0    0.0      -0.0   -0.0   -0.0   -0.0   -0.0\n",
       " -0.0   -0.0    0.0   -0.0   -0.0      -0.0    0.0    0.0   -0.0    0.0\n",
       "  0.0   -0.0    0.0    0.0   -0.0   …   0.0   -0.0    0.0   -0.0   -0.0\n",
       "  0.0    0.0    0.0    0.0    0.0       0.0    0.0    0.0    0.0    0.0\n",
       "  0.0    0.0    0.0    0.0    0.0       0.0    0.0    0.0    0.0    0.0\n",
       "  0.0    0.0    0.0    0.0    0.0       0.0    0.0    0.0    0.0    0.0\n",
       " 66.03  49.52  39.62  33.01  55.02     23.58  41.27  30.95  24.76  20.63"
      ]
     },
     "execution_count": 10,
     "metadata": {},
     "output_type": "execute_result"
    }
   ],
   "source": [
    "println(\"\\rAmplitude matrix A =\\r\")\n",
    "A=F.vectors'*Y\n",
    "round.(A;digits=2)"
   ]
  },
  {
   "cell_type": "code",
   "execution_count": 11,
   "metadata": {},
   "outputs": [
    {
     "name": "stdout",
     "output_type": "stream",
     "text": [
      "Reconstruction of Yrecons = ϕA\n"
     ]
    },
    {
     "data": {
      "text/plain": [
       "10×16 Array{Float64,2}:\n",
       " -11.56   -8.67   -6.93   -5.78   -9.63  …   -7.22   -5.42   -4.33   -3.61\n",
       " -28.53  -21.39  -17.12  -14.26  -23.77     -17.83  -13.37  -10.7    -8.91\n",
       "  -0.89   -0.67   -0.53   -0.44   -0.74      -0.56   -0.42   -0.33   -0.28\n",
       " -31.87  -23.9   -19.12  -15.93  -26.55     -19.92  -14.94  -11.95   -9.96\n",
       "   7.11    5.33    4.27    3.56    5.93       4.44    3.33    2.67    2.22\n",
       " -16.54  -12.4    -9.92   -8.27  -13.78  …  -10.34   -7.75   -6.2    -5.17\n",
       "  -2.67   -2.0    -1.6    -1.33   -2.22      -1.67   -1.25   -1.0    -0.83\n",
       " -35.53  -26.65  -21.32  -17.76  -29.61     -22.21  -16.65  -13.32  -11.1\n",
       "  -2.67   -2.0    -1.6    -1.33   -2.22      -1.67   -1.25   -1.0    -0.83\n",
       " -28.2   -21.15  -16.92  -14.1   -23.5      -17.63  -13.22  -10.58   -8.81"
      ]
     },
     "execution_count": 11,
     "metadata": {},
     "output_type": "execute_result"
    }
   ],
   "source": [
    "println(\"\\rReconstruction of Yrecons = ϕA\\r\")\n",
    "Yrecons=ϕ*A\n",
    "round.(Yrecons;digits=2)"
   ]
  },
  {
   "cell_type": "code",
   "execution_count": 12,
   "metadata": {},
   "outputs": [
    {
     "name": "stdout",
     "output_type": "stream",
     "text": [
      "Reduction of Yapprox = ϕ10*A10'≈ Y\n"
     ]
    },
    {
     "data": {
      "text/plain": [
       "10×16 Array{Float64,2}:\n",
       " -11.56   -8.67   -6.93   -5.78   -9.63  …   -7.22   -5.42   -4.33   -3.61\n",
       " -28.53  -21.39  -17.12  -14.26  -23.77     -17.83  -13.37  -10.7    -8.91\n",
       "  -0.89   -0.67   -0.53   -0.44   -0.74      -0.56   -0.42   -0.33   -0.28\n",
       " -31.87  -23.9   -19.12  -15.93  -26.55     -19.92  -14.94  -11.95   -9.96\n",
       "   7.11    5.33    4.27    3.56    5.93       4.44    3.33    2.67    2.22\n",
       " -16.54  -12.4    -9.92   -8.27  -13.78  …  -10.34   -7.75   -6.2    -5.17\n",
       "  -2.67   -2.0    -1.6    -1.33   -2.22      -1.67   -1.25   -1.0    -0.83\n",
       " -35.53  -26.65  -21.32  -17.76  -29.61     -22.21  -16.65  -13.32  -11.1\n",
       "  -2.67   -2.0    -1.6    -1.33   -2.22      -1.67   -1.25   -1.0    -0.83\n",
       " -28.2   -21.15  -16.92  -14.1   -23.5      -17.63  -13.22  -10.58   -8.81"
      ]
     },
     "execution_count": 12,
     "metadata": {},
     "output_type": "execute_result"
    }
   ],
   "source": [
    "println(\"\\rReduction of Yapprox = ϕ10*A10'≈ Y\\r\")\n",
    "Yapprox=ϕ[:,10]*A[10,:]'\n",
    "round.(Yapprox;digits=2)"
   ]
  },
  {
   "cell_type": "code",
   "execution_count": 13,
   "metadata": {},
   "outputs": [
    {
     "name": "stdout",
     "output_type": "stream",
     "text": [
      "y1 = \n"
     ]
    },
    {
     "data": {
      "text/plain": [
       "10-element Array{Float64,1}:\n",
       " -11.56\n",
       " -28.53\n",
       "  -0.89\n",
       " -31.87\n",
       "   7.11\n",
       " -16.54\n",
       "  -2.67\n",
       " -35.53\n",
       "  -2.67\n",
       " -28.2"
      ]
     },
     "execution_count": 13,
     "metadata": {},
     "output_type": "execute_result"
    }
   ],
   "source": [
    "y1=ϕ[:,10]*A[10,:][1]\n",
    "println(\"\\ry1 = \\r\")\n",
    "round.(y1;digits=2)"
   ]
  },
  {
   "cell_type": "code",
   "execution_count": 14,
   "metadata": {},
   "outputs": [
    {
     "name": "stdout",
     "output_type": "stream",
     "text": [
      "y2 = \n"
     ]
    },
    {
     "data": {
      "text/plain": [
       "10-element Array{Float64,1}:\n",
       "  -8.67\n",
       " -21.39\n",
       "  -0.67\n",
       " -23.9\n",
       "   5.33\n",
       " -12.4\n",
       "  -2.0\n",
       " -26.65\n",
       "  -2.0\n",
       " -21.15"
      ]
     },
     "execution_count": 14,
     "metadata": {},
     "output_type": "execute_result"
    }
   ],
   "source": [
    "y2=ϕ[:,10]*A[10,:][2]\n",
    "println(\"\\ry2 = \\r\")\n",
    "round.(y2;digits=2)"
   ]
  },
  {
   "cell_type": "markdown",
   "metadata": {},
   "source": [
    "2. SVD"
   ]
  },
  {
   "cell_type": "code",
   "execution_count": 15,
   "metadata": {},
   "outputs": [
    {
     "name": "stdout",
     "output_type": "stream",
     "text": [
      "SVD decomposition of the snaphot matrix=\n"
     ]
    },
    {
     "data": {
      "text/plain": [
       "SVD{Float64,Float64,Array{Float64,2}}\n",
       "U factor:\n",
       "10×10 Array{Float64,2}:\n",
       "  0.175013    0.0908838     0.660406   …  -0.484511   -0.216359    0.0322019\n",
       "  0.432037   -0.768103      0.179112       0.0878363   0.091867   -0.0529522\n",
       "  0.0134625  -0.0174021     0.115046       0.536019    0.332963   -0.160737\n",
       "  0.482621    0.482509      0.395497       0.206786    0.169657   -0.221492\n",
       " -0.1077     -0.208478      0.0286675     -0.469527    0.602244   -0.0302001\n",
       "  0.250492    0.028493     -0.140961   …  -0.261284    0.281913    0.179778\n",
       "  0.0403875  -0.256343      0.021577      -0.0240329  -0.591306   -0.179876\n",
       "  0.538104   -0.065883     -0.272334       0.13054    -0.0489795   0.0633951\n",
       "  0.0403875  -0.000510842   0.170825       0.197072   -0.032079    0.922278\n",
       "  0.427138    0.233049     -0.487468      -0.286839   -0.0992865   0.0325882\n",
       "singular values:\n",
       "10-element Array{Float64,1}:\n",
       " 156.78079133793835\n",
       "   2.5477088009806055e-14\n",
       "   1.3824020994007164e-14\n",
       "   9.643292276369032e-15\n",
       "   6.598096259151781e-15\n",
       "   4.106081124278751e-15\n",
       "   2.2804306090188414e-15\n",
       "   1.5239077964497504e-15\n",
       "   1.2123752141300462e-15\n",
       "   7.324580957975528e-17\n",
       "Vt factor:\n",
       "10×16 Array{Float64,2}:\n",
       " -0.421142   -0.315856    -0.252685   -0.210571   …  -0.157928    -0.131607\n",
       "  0.340651   -0.292238     0.490941    0.284964      -0.146119    -0.104795\n",
       "  0.756736    0.00219469  -0.437124   -0.0126073      0.00109735   0.00603239\n",
       " -0.0678267   0.149625     0.060185   -0.137185       0.0748127    0.225823\n",
       " -0.202526    0.400048    -0.424974    0.384184       0.200024    -0.0651159\n",
       " -0.122274   -0.0194158    0.406078    0.0841654  …  -0.00970788   0.0442262\n",
       "  0.187995   -0.244968    -0.119739   -0.300882      -0.122484    -0.00877285\n",
       "  0.156614    0.349482     0.0633101  -0.169213       0.174741    -0.074278\n",
       "  0.0647012   0.478259     0.33017    -0.282783       0.23913     -0.131422\n",
       "  0.0965524   0.145411     0.166035    0.0408304      0.0727053    0.0521011"
      ]
     },
     "execution_count": 15,
     "metadata": {},
     "output_type": "execute_result"
    }
   ],
   "source": [
    "#Calculate the SVD of the snapshot matrix\n",
    "Z=svd(Y)\n",
    "println(\"\\rSVD decomposition of the snaphot matrix=\\r\")\n",
    "Z"
   ]
  },
  {
   "cell_type": "markdown",
   "metadata": {},
   "source": [
    "* Modes"
   ]
  },
  {
   "cell_type": "code",
   "execution_count": 16,
   "metadata": {},
   "outputs": [
    {
     "name": "stdout",
     "output_type": "stream",
     "text": [
      "SVD modes \n"
     ]
    },
    {
     "data": {
      "text/plain": [
       "10×10 Array{Float64,2}:\n",
       "  0.18   0.09   0.66  -0.14   0.04  -0.41   0.23  -0.48  -0.22   0.03\n",
       "  0.43  -0.77   0.18  -0.09   0.09   0.32   0.24   0.09   0.09  -0.05\n",
       "  0.01  -0.02   0.12  -0.48   0.23  -0.51  -0.11   0.54   0.33  -0.16\n",
       "  0.48   0.48   0.4    0.17   0.03   0.39  -0.27   0.21   0.17  -0.22\n",
       " -0.11  -0.21   0.03   0.28   0.3   -0.11  -0.42  -0.47   0.6   -0.03\n",
       "  0.25   0.03  -0.14  -0.49  -0.67   0.03  -0.22  -0.26   0.28   0.18\n",
       "  0.04  -0.26   0.02  -0.12   0.05  -0.04  -0.73  -0.02  -0.59  -0.18\n",
       "  0.54  -0.07  -0.27   0.52  -0.21  -0.54  -0.01   0.13  -0.05   0.06\n",
       "  0.04  -0.0    0.17   0.01   0.19   0.05  -0.19   0.2   -0.03   0.92\n",
       "  0.43   0.23  -0.49  -0.32   0.56   0.06   0.1   -0.29  -0.1    0.03"
      ]
     },
     "execution_count": 16,
     "metadata": {},
     "output_type": "execute_result"
    }
   ],
   "source": [
    "println(\"\\rSVD modes \\r\")\n",
    "round.(Z.U;digits=2)"
   ]
  },
  {
   "cell_type": "markdown",
   "metadata": {},
   "source": [
    "* Mode coefficients"
   ]
  },
  {
   "cell_type": "code",
   "execution_count": 17,
   "metadata": {},
   "outputs": [
    {
     "name": "stdout",
     "output_type": "stream",
     "text": [
      "SVD modes coefficients\n"
     ]
    },
    {
     "data": {
      "text/plain": [
       "10×16 Array{Float64,2}:\n",
       " -66.03  -49.52  -39.62  -33.01  -55.02  …  -41.27  -30.95  -24.76  -20.63\n",
       "   0.0    -0.0     0.0     0.0    -0.0       -0.0     0.0    -0.0    -0.0\n",
       "   0.0     0.0    -0.0    -0.0    -0.0        0.0    -0.0     0.0     0.0\n",
       "  -0.0     0.0     0.0    -0.0    -0.0        0.0     0.0     0.0     0.0\n",
       "  -0.0     0.0    -0.0     0.0    -0.0       -0.0    -0.0     0.0    -0.0\n",
       "  -0.0    -0.0     0.0     0.0     0.0   …    0.0     0.0    -0.0     0.0\n",
       "   0.0    -0.0    -0.0    -0.0     0.0       -0.0     0.0    -0.0    -0.0\n",
       "   0.0     0.0     0.0    -0.0    -0.0       -0.0     0.0     0.0    -0.0\n",
       "   0.0     0.0     0.0    -0.0    -0.0       -0.0    -0.0     0.0    -0.0\n",
       "   0.0     0.0     0.0     0.0    -0.0        0.0    -0.0     0.0     0.0"
      ]
     },
     "execution_count": 17,
     "metadata": {},
     "output_type": "execute_result"
    }
   ],
   "source": [
    "println(\"\\rSVD modes coefficients\\r\")\n",
    "round.(diagm(Z.S)*Z.Vt;digits=2)"
   ]
  },
  {
   "cell_type": "code",
   "execution_count": 18,
   "metadata": {},
   "outputs": [
    {
     "name": "stdout",
     "output_type": "stream",
     "text": [
      "Check the reconstruction of Yrecons = UΣV* = \n"
     ]
    },
    {
     "data": {
      "text/plain": [
       "10×16 Array{Float64,2}:\n",
       " -11.56   -8.67   -6.93   -5.78   -9.63  …   -7.22   -5.42   -4.33   -3.61\n",
       " -28.53  -21.39  -17.12  -14.26  -23.77     -17.83  -13.37  -10.7    -8.91\n",
       "  -0.89   -0.67   -0.53   -0.44   -0.74      -0.56   -0.42   -0.33   -0.28\n",
       " -31.87  -23.9   -19.12  -15.93  -26.55     -19.92  -14.94  -11.95   -9.96\n",
       "   7.11    5.33    4.27    3.56    5.93       4.44    3.33    2.67    2.22\n",
       " -16.54  -12.4    -9.92   -8.27  -13.78  …  -10.34   -7.75   -6.2    -5.17\n",
       "  -2.67   -2.0    -1.6    -1.33   -2.22      -1.67   -1.25   -1.0    -0.83\n",
       " -35.53  -26.65  -21.32  -17.76  -29.61     -22.21  -16.65  -13.32  -11.1\n",
       "  -2.67   -2.0    -1.6    -1.33   -2.22      -1.67   -1.25   -1.0    -0.83\n",
       " -28.2   -21.15  -16.92  -14.1   -23.5      -17.63  -13.22  -10.58   -8.81"
      ]
     },
     "execution_count": 18,
     "metadata": {},
     "output_type": "execute_result"
    }
   ],
   "source": [
    "println(\"\\rCheck the reconstruction of Yrecons = UΣV* = \\r\")\n",
    "Yrecons=Z.U*diagm(Z.S)*Z.Vt\n",
    "round.(Yrecons;digits=2)"
   ]
  },
  {
   "cell_type": "code",
   "execution_count": 19,
   "metadata": {},
   "outputs": [
    {
     "name": "stdout",
     "output_type": "stream",
     "text": [
      "The approximation Ỹ is based on the first most energetic mode\n",
      "Ỹ = \n"
     ]
    },
    {
     "data": {
      "text/plain": [
       "10×16 Array{Float64,2}:\n",
       " -11.56   -8.67   -6.93   -5.78   -9.63  …   -7.22   -5.42   -4.33   -3.61\n",
       " -28.53  -21.39  -17.12  -14.26  -23.77     -17.83  -13.37  -10.7    -8.91\n",
       "  -0.89   -0.67   -0.53   -0.44   -0.74      -0.56   -0.42   -0.33   -0.28\n",
       " -31.87  -23.9   -19.12  -15.93  -26.55     -19.92  -14.94  -11.95   -9.96\n",
       "   7.11    5.33    4.27    3.56    5.93       4.44    3.33    2.67    2.22\n",
       " -16.54  -12.4    -9.92   -8.27  -13.78  …  -10.34   -7.75   -6.2    -5.17\n",
       "  -2.67   -2.0    -1.6    -1.33   -2.22      -1.67   -1.25   -1.0    -0.83\n",
       " -35.53  -26.65  -21.32  -17.76  -29.61     -22.21  -16.65  -13.32  -11.1\n",
       "  -2.67   -2.0    -1.6    -1.33   -2.22      -1.67   -1.25   -1.0    -0.83\n",
       " -28.2   -21.15  -16.92  -14.1   -23.5      -17.63  -13.22  -10.58   -8.81"
      ]
     },
     "execution_count": 19,
     "metadata": {},
     "output_type": "execute_result"
    }
   ],
   "source": [
    "println(\"\\rThe approximation Ỹ is based on the first most energetic mode\")\n",
    "println(\"\\rỸ = \")\n",
    "Ỹ=Z.U[:,1]*(diagm(Z.S)*Z.Vt)[1,:]'\n",
    "round.(Ỹ;digits=2)"
   ]
  },
  {
   "cell_type": "code",
   "execution_count": 20,
   "metadata": {},
   "outputs": [
    {
     "name": "stdout",
     "output_type": "stream",
     "text": [
      " y1 = \n"
     ]
    },
    {
     "data": {
      "text/plain": [
       "10-element Array{Float64,1}:\n",
       " -11.56\n",
       " -28.53\n",
       "  -0.89\n",
       " -31.87\n",
       "   7.11\n",
       " -16.54\n",
       "  -2.67\n",
       " -35.53\n",
       "  -2.67\n",
       " -28.2"
      ]
     },
     "execution_count": 20,
     "metadata": {},
     "output_type": "execute_result"
    }
   ],
   "source": [
    "y1=Z.U[:,1]*(Z.S[1]*Z.Vt[1,:][1])\n",
    "println(\"\\r y1 = \\r\")\n",
    "round.(y1;digits=2)"
   ]
  },
  {
   "cell_type": "code",
   "execution_count": 21,
   "metadata": {},
   "outputs": [
    {
     "name": "stdout",
     "output_type": "stream",
     "text": [
      "y2 = \n"
     ]
    },
    {
     "data": {
      "text/plain": [
       "10-element Array{Float64,1}:\n",
       "  -8.67\n",
       " -21.39\n",
       "  -0.67\n",
       " -23.9\n",
       "   5.33\n",
       " -12.4\n",
       "  -2.0\n",
       " -26.65\n",
       "  -2.0\n",
       " -21.15"
      ]
     },
     "execution_count": 21,
     "metadata": {},
     "output_type": "execute_result"
    }
   ],
   "source": [
    "y2=Z.U[:,1]*(Z.S[1]*Z.Vt[1,:][2])\n",
    "println(\"\\ry2 = \\r\")\n",
    "round.(y2;digits=2)"
   ]
  },
  {
   "cell_type": "markdown",
   "metadata": {},
   "source": [
    "# Interpolation\n",
    "For arbitray parameters, the combined use of radial basis functions (RBF) is required"
   ]
  },
  {
   "cell_type": "markdown",
   "metadata": {},
   "source": [
    "As a reminder\n",
    "* Parameter matrix $P$"
   ]
  },
  {
   "cell_type": "code",
   "execution_count": 22,
   "metadata": {},
   "outputs": [
    {
     "name": "stdout",
     "output_type": "stream",
     "text": [
      "P=\n",
      "2×16 Array{Float64,2}:\n",
      " 125000.0  125000.0  125000.0  125000.0  150000.0  150000.0  150000.0  150000.0  175000.0  175000.0  175000.0  175000.0  200000.0  200000.0  200000.0  200000.0\n",
      "      6.0       8.0      10.0      12.0       6.0       8.0      10.0      12.0       6.0       8.0      10.0      12.0       6.0       8.0      10.0      12.0"
     ]
    }
   ],
   "source": [
    "println(\"\\rP=\\r\")\n",
    "show(stdout,\"text/plain\", round.(P;digits=0))"
   ]
  },
  {
   "cell_type": "markdown",
   "metadata": {},
   "source": [
    "* Amplitude matrix $A$"
   ]
  },
  {
   "cell_type": "code",
   "execution_count": 23,
   "metadata": {},
   "outputs": [
    {
     "name": "stdout",
     "output_type": "stream",
     "text": [
      "A = \n"
     ]
    },
    {
     "data": {
      "text/plain": [
       "10×16 Array{Float64,2}:\n",
       " -0.0    0.0    0.0   -0.0    0.0   …   0.0    0.0    0.0    0.0    0.0\n",
       "  0.0    0.0   -0.0    0.0    0.0      -0.0    0.0   -0.0    0.0    0.0\n",
       "  0.0   -0.0    0.0    0.0   -0.0       0.0   -0.0   -0.0   -0.0   -0.0\n",
       " -0.0   -0.0   -0.0   -0.0    0.0      -0.0   -0.0   -0.0   -0.0   -0.0\n",
       " -0.0   -0.0    0.0   -0.0   -0.0      -0.0    0.0    0.0   -0.0    0.0\n",
       "  0.0   -0.0    0.0    0.0   -0.0   …   0.0   -0.0    0.0   -0.0   -0.0\n",
       "  0.0    0.0    0.0    0.0    0.0       0.0    0.0    0.0    0.0    0.0\n",
       "  0.0    0.0    0.0    0.0    0.0       0.0    0.0    0.0    0.0    0.0\n",
       "  0.0    0.0    0.0    0.0    0.0       0.0    0.0    0.0    0.0    0.0\n",
       " 66.03  49.52  39.62  33.01  55.02     23.58  41.27  30.95  24.76  20.63"
      ]
     },
     "execution_count": 23,
     "metadata": {},
     "output_type": "execute_result"
    }
   ],
   "source": [
    "println(\"\\rA = \\r\")\n",
    "round.(A;digits=2)"
   ]
  },
  {
   "cell_type": "markdown",
   "metadata": {},
   "source": [
    "* POD mode matrix $\\phi$"
   ]
  },
  {
   "cell_type": "code",
   "execution_count": 24,
   "metadata": {},
   "outputs": [
    {
     "name": "stdout",
     "output_type": "stream",
     "text": [
      "ϕ = \n"
     ]
    },
    {
     "data": {
      "text/plain": [
       "10×10 Array{Float64,2}:\n",
       " -0.81   0.45   0.22   0.03   0.06  -0.13   0.17   0.01  -0.08  -0.18\n",
       "  0.33   0.5   -0.3   -0.02  -0.04  -0.5   -0.26   0.04  -0.2   -0.43\n",
       " -0.09  -0.03  -0.02   0.13  -0.99   0.01   0.0    0.01  -0.01  -0.01\n",
       " -0.06  -0.02  -0.24  -0.14  -0.0    0.58  -0.04  -0.55  -0.23  -0.48\n",
       " -0.38  -0.31  -0.63  -0.53  -0.02  -0.2   -0.11   0.14   0.05   0.11\n",
       " -0.02  -0.52   0.31  -0.05   0.0   -0.57   0.16  -0.45  -0.12  -0.25\n",
       " -0.2   -0.22  -0.45   0.82   0.14  -0.07  -0.02  -0.02  -0.02  -0.04\n",
       " -0.02  -0.35   0.17  -0.01   0.03   0.16   0.02   0.69  -0.25  -0.54\n",
       "  0.2    0.11  -0.27  -0.05  -0.02  -0.02   0.93   0.07  -0.02  -0.04\n",
       "  0.0    0.0    0.0    0.0    0.0    0.0    0.0    0.0    0.9   -0.43"
      ]
     },
     "execution_count": 24,
     "metadata": {},
     "output_type": "execute_result"
    }
   ],
   "source": [
    "println(\"\\rϕ = \\r\")\n",
    "round.(ϕ;digits=2)"
   ]
  },
  {
   "cell_type": "markdown",
   "metadata": {},
   "source": [
    "* Interpolation coefficient matrix $B$"
   ]
  },
  {
   "cell_type": "code",
   "execution_count": 25,
   "metadata": {},
   "outputs": [
    {
     "data": {
      "text/plain": [
       "10×16 Array{Float64,2}:\n",
       "   0.0   -0.0   -0.0    0.0   -0.0   …   0.0    0.0   -0.0    0.0   0.0\n",
       "   0.0   -0.0    0.0   -0.0   -0.0       0.0   -0.0    0.0   -0.0  -0.0\n",
       "  -0.0    0.0   -0.0    0.0    0.0      -0.0    0.0   -0.0    0.0   0.0\n",
       "   0.0   -0.0    0.0    0.0   -0.0       0.0   -0.0    0.0   -0.0  -0.0\n",
       "   0.0    0.0   -0.0    0.0    0.0       0.0   -0.0    0.0    0.0  -0.0\n",
       "  -0.0    0.0   -0.0   -0.0    0.0   …  -0.0    0.0   -0.0    0.0   0.0\n",
       "  -0.0    0.0   -0.0    0.0    0.0      -0.0    0.0   -0.0    0.0   0.0\n",
       "   0.0   -0.0    0.0    0.0   -0.0       0.0   -0.0    0.0   -0.0   0.0\n",
       "  -0.0    0.0   -0.0    0.0    0.0      -0.0    0.0   -0.0    0.0   0.0\n",
       " -12.26   6.16   1.64  16.44  -1.43      2.41  11.85   7.41   3.5  19.07"
      ]
     },
     "execution_count": 25,
     "metadata": {},
     "output_type": "execute_result"
    }
   ],
   "source": [
    "B=BlinMtx(A,P)\n",
    "round.(B;digits=2)"
   ]
  },
  {
   "cell_type": "markdown",
   "metadata": {},
   "source": [
    "* Calculation of the nodal displacement vector for the normalized point $Pint$ to be interpolated ($E = 135000 Mpa ; A = 11 mm^{2}$)"
   ]
  },
  {
   "cell_type": "code",
   "execution_count": 26,
   "metadata": {},
   "outputs": [
    {
     "data": {
      "text/plain": [
       "2-element Array{Float64,1}:\n",
       " 0.13\n",
       " 0.83"
      ]
     },
     "execution_count": 26,
     "metadata": {},
     "output_type": "execute_result"
    }
   ],
   "source": [
    "Pint=[(135-125)/(200-125);(11-6)/(12-6)]\n",
    "round.(Pint;digits=2)"
   ]
  },
  {
   "cell_type": "markdown",
   "metadata": {},
   "source": [
    "* Linear spline interpolation functions vector $g$"
   ]
  },
  {
   "cell_type": "code",
   "execution_count": 27,
   "metadata": {},
   "outputs": [
    {
     "data": {
      "text/plain": [
       "16-element Array{Float64,1}:\n",
       " 0.84\n",
       " 0.52\n",
       " 0.21\n",
       " 0.21\n",
       " 0.86\n",
       " 0.54\n",
       " 0.26\n",
       " 0.26\n",
       " 0.99\n",
       " 0.73\n",
       " 0.56\n",
       " 0.56\n",
       " 1.2\n",
       " 1.0\n",
       " 0.88\n",
       " 0.88"
      ]
     },
     "execution_count": 27,
     "metadata": {},
     "output_type": "execute_result"
    }
   ],
   "source": [
    "g=GlinVec(P,Pint)\n",
    "round.(g;digits=2)"
   ]
  },
  {
   "cell_type": "markdown",
   "metadata": {},
   "source": [
    "Results of the interpolated nodal displacement vector"
   ]
  },
  {
   "cell_type": "code",
   "execution_count": 28,
   "metadata": {},
   "outputs": [
    {
     "data": {
      "text/plain": [
       "10-element Array{Float64,1}:\n",
       "  -5.71\n",
       " -14.09\n",
       "  -0.44\n",
       " -15.74\n",
       "   3.51\n",
       "  -8.17\n",
       "  -1.32\n",
       " -17.55\n",
       "  -1.32\n",
       " -13.93"
      ]
     },
     "execution_count": 28,
     "metadata": {},
     "output_type": "execute_result"
    }
   ],
   "source": [
    "ũ=ϕ*B*g\n",
    "round.(ũ;digits=2)"
   ]
  },
  {
   "cell_type": "markdown",
   "metadata": {},
   "source": [
    "to be compared to the result of the full high fidelity fem results"
   ]
  },
  {
   "cell_type": "code",
   "execution_count": 29,
   "metadata": {},
   "outputs": [
    {
     "data": {
      "text/plain": [
       "10-element Array{Float64,1}:\n",
       "  -5.84\n",
       " -14.41\n",
       "  -0.45\n",
       " -16.09\n",
       "   3.59\n",
       "  -8.35\n",
       "  -1.35\n",
       " -17.94\n",
       "  -1.35\n",
       " -14.24"
      ]
     },
     "execution_count": 29,
     "metadata": {},
     "output_type": "execute_result"
    }
   ],
   "source": [
    "ufem=TrussAssembleSolve(135000,11)\n",
    "round.(ufem;digits=2)"
   ]
  },
  {
   "cell_type": "code",
   "execution_count": 30,
   "metadata": {},
   "outputs": [
    {
     "ename": "LoadError",
     "evalue": "UndefVarError: index not defined",
     "output_type": "error",
     "traceback": [
      "UndefVarError: index not defined",
      "",
      "Stacktrace:",
      " [1] top-level scope at In[30]:1",
      " [2] include_string(::Function, ::Module, ::String, ::String) at .\\loading.jl:1091",
      " [3] execute_code(::String, ::String) at D:\\Users\\Administrator\\.julia\\packages\\IJulia\\rWZ9e\\src\\execute_request.jl:27",
      " [4] execute_request(::ZMQ.Socket, ::IJulia.Msg) at D:\\Users\\Administrator\\.julia\\packages\\IJulia\\rWZ9e\\src\\execute_request.jl:86",
      " [5] #invokelatest#1 at .\\essentials.jl:710 [inlined]",
      " [6] invokelatest at .\\essentials.jl:709 [inlined]",
      " [7] eventloop(::ZMQ.Socket) at D:\\Users\\Administrator\\.julia\\packages\\IJulia\\rWZ9e\\src\\eventloop.jl:8",
      " [8] (::IJulia.var\"#15#18\")() at .\\task.jl:356"
     ]
    }
   ],
   "source": [
    "(ũ,index(ũ))"
   ]
  },
  {
   "cell_type": "code",
   "execution_count": 31,
   "metadata": {},
   "outputs": [],
   "source": [
    "writedlm(\"data/uinter.txt\",ũ,',')\n",
    "writedlm(\"data/ufem.txt\",ufem,',')"
   ]
  },
  {
   "cell_type": "code",
   "execution_count": 32,
   "metadata": {},
   "outputs": [
    {
     "data": {
      "image/svg+xml": [
       "<?xml version=\"1.0\" encoding=\"utf-8\"?>\n",
       "<svg xmlns=\"http://www.w3.org/2000/svg\" xmlns:xlink=\"http://www.w3.org/1999/xlink\" width=\"600\" height=\"400\" viewBox=\"0 0 2400 1600\">\n",
       "<defs>\n",
       "  <clipPath id=\"clip8900\">\n",
       "    <rect x=\"0\" y=\"0\" width=\"2400\" height=\"1600\"/>\n",
       "  </clipPath>\n",
       "</defs>\n",
       "<path clip-path=\"url(#clip8900)\" d=\"\n",
       "M0 1600 L2400 1600 L2400 0 L0 0  Z\n",
       "  \" fill=\"#ff8c00\" fill-rule=\"evenodd\" fill-opacity=\"1\"/>\n",
       "<defs>\n",
       "  <clipPath id=\"clip8901\">\n",
       "    <rect x=\"480\" y=\"0\" width=\"1681\" height=\"1600\"/>\n",
       "  </clipPath>\n",
       "</defs>\n",
       "<path clip-path=\"url(#clip8900)\" d=\"\n",
       "M152.848 1486.45 L2352.76 1486.45 L2352.76 47.2441 L152.848 47.2441  Z\n",
       "  \" fill=\"#ff8c00\" fill-rule=\"evenodd\" fill-opacity=\"1\"/>\n",
       "<defs>\n",
       "  <clipPath id=\"clip8902\">\n",
       "    <rect x=\"152\" y=\"47\" width=\"2201\" height=\"1440\"/>\n",
       "  </clipPath>\n",
       "</defs>\n",
       "<polyline clip-path=\"url(#clip8902)\" style=\"stroke:#000000; stroke-width:2; stroke-opacity:0.1; fill:none\" points=\"\n",
       "  397.282,1486.45 397.282,47.2441 \n",
       "  \"/>\n",
       "<polyline clip-path=\"url(#clip8902)\" style=\"stroke:#000000; stroke-width:2; stroke-opacity:0.1; fill:none\" points=\"\n",
       "  886.151,1486.45 886.151,47.2441 \n",
       "  \"/>\n",
       "<polyline clip-path=\"url(#clip8902)\" style=\"stroke:#000000; stroke-width:2; stroke-opacity:0.1; fill:none\" points=\"\n",
       "  1375.02,1486.45 1375.02,47.2441 \n",
       "  \"/>\n",
       "<polyline clip-path=\"url(#clip8902)\" style=\"stroke:#000000; stroke-width:2; stroke-opacity:0.1; fill:none\" points=\"\n",
       "  1863.89,1486.45 1863.89,47.2441 \n",
       "  \"/>\n",
       "<polyline clip-path=\"url(#clip8902)\" style=\"stroke:#000000; stroke-width:2; stroke-opacity:0.1; fill:none\" points=\"\n",
       "  2352.76,1486.45 2352.76,47.2441 \n",
       "  \"/>\n",
       "<polyline clip-path=\"url(#clip8902)\" style=\"stroke:#000000; stroke-width:2; stroke-opacity:0.1; fill:none\" points=\"\n",
       "  152.848,1269.65 2352.76,1269.65 \n",
       "  \"/>\n",
       "<polyline clip-path=\"url(#clip8902)\" style=\"stroke:#000000; stroke-width:2; stroke-opacity:0.1; fill:none\" points=\"\n",
       "  152.848,951.236 2352.76,951.236 \n",
       "  \"/>\n",
       "<polyline clip-path=\"url(#clip8902)\" style=\"stroke:#000000; stroke-width:2; stroke-opacity:0.1; fill:none\" points=\"\n",
       "  152.848,632.82 2352.76,632.82 \n",
       "  \"/>\n",
       "<polyline clip-path=\"url(#clip8902)\" style=\"stroke:#000000; stroke-width:2; stroke-opacity:0.1; fill:none\" points=\"\n",
       "  152.848,314.405 2352.76,314.405 \n",
       "  \"/>\n",
       "<polyline clip-path=\"url(#clip8900)\" style=\"stroke:#000000; stroke-width:4; stroke-opacity:1; fill:none\" points=\"\n",
       "  152.848,1486.45 2352.76,1486.45 \n",
       "  \"/>\n",
       "<polyline clip-path=\"url(#clip8900)\" style=\"stroke:#000000; stroke-width:4; stroke-opacity:1; fill:none\" points=\"\n",
       "  152.848,1486.45 152.848,47.2441 \n",
       "  \"/>\n",
       "<polyline clip-path=\"url(#clip8900)\" style=\"stroke:#000000; stroke-width:4; stroke-opacity:1; fill:none\" points=\"\n",
       "  397.282,1486.45 397.282,1469.18 \n",
       "  \"/>\n",
       "<polyline clip-path=\"url(#clip8900)\" style=\"stroke:#000000; stroke-width:4; stroke-opacity:1; fill:none\" points=\"\n",
       "  886.151,1486.45 886.151,1469.18 \n",
       "  \"/>\n",
       "<polyline clip-path=\"url(#clip8900)\" style=\"stroke:#000000; stroke-width:4; stroke-opacity:1; fill:none\" points=\"\n",
       "  1375.02,1486.45 1375.02,1469.18 \n",
       "  \"/>\n",
       "<polyline clip-path=\"url(#clip8900)\" style=\"stroke:#000000; stroke-width:4; stroke-opacity:1; fill:none\" points=\"\n",
       "  1863.89,1486.45 1863.89,1469.18 \n",
       "  \"/>\n",
       "<polyline clip-path=\"url(#clip8900)\" style=\"stroke:#000000; stroke-width:4; stroke-opacity:1; fill:none\" points=\"\n",
       "  2352.76,1486.45 2352.76,1469.18 \n",
       "  \"/>\n",
       "<polyline clip-path=\"url(#clip8900)\" style=\"stroke:#000000; stroke-width:4; stroke-opacity:1; fill:none\" points=\"\n",
       "  152.848,1269.65 179.247,1269.65 \n",
       "  \"/>\n",
       "<polyline clip-path=\"url(#clip8900)\" style=\"stroke:#000000; stroke-width:4; stroke-opacity:1; fill:none\" points=\"\n",
       "  152.848,951.236 179.247,951.236 \n",
       "  \"/>\n",
       "<polyline clip-path=\"url(#clip8900)\" style=\"stroke:#000000; stroke-width:4; stroke-opacity:1; fill:none\" points=\"\n",
       "  152.848,632.82 179.247,632.82 \n",
       "  \"/>\n",
       "<polyline clip-path=\"url(#clip8900)\" style=\"stroke:#000000; stroke-width:4; stroke-opacity:1; fill:none\" points=\"\n",
       "  152.848,314.405 179.247,314.405 \n",
       "  \"/>\n",
       "<path clip-path=\"url(#clip8900)\" d=\"M 0 0 M391.935 1535.98 L408.255 1535.98 L408.255 1539.92 L386.31 1539.92 L386.31 1535.98 Q388.972 1533.23 393.556 1528.6 Q398.162 1523.95 399.343 1522.61 Q401.588 1520.08 402.468 1518.35 Q403.37 1516.59 403.37 1514.9 Q403.37 1512.14 401.426 1510.41 Q399.505 1508.67 396.403 1508.67 Q394.204 1508.67 391.75 1509.43 Q389.32 1510.2 386.542 1511.75 L386.542 1507.03 Q389.366 1505.89 391.82 1505.31 Q394.273 1504.73 396.31 1504.73 Q401.681 1504.73 404.875 1507.42 Q408.069 1510.11 408.069 1514.6 Q408.069 1516.73 407.259 1518.65 Q406.472 1520.54 404.366 1523.14 Q403.787 1523.81 400.685 1527.03 Q397.583 1530.22 391.935 1535.98 Z\" fill=\"#000000\" fill-rule=\"evenodd\" fill-opacity=\"1\" /><path clip-path=\"url(#clip8900)\" d=\"M 0 0 M889.16 1509.43 L877.355 1527.88 L889.16 1527.88 L889.16 1509.43 M887.933 1505.36 L893.813 1505.36 L893.813 1527.88 L898.743 1527.88 L898.743 1531.77 L893.813 1531.77 L893.813 1539.92 L889.16 1539.92 L889.16 1531.77 L873.558 1531.77 L873.558 1527.26 L887.933 1505.36 Z\" fill=\"#000000\" fill-rule=\"evenodd\" fill-opacity=\"1\" /><path clip-path=\"url(#clip8900)\" d=\"M 0 0 M1375.42 1520.78 Q1372.28 1520.78 1370.42 1522.93 Q1368.6 1525.08 1368.6 1528.83 Q1368.6 1532.56 1370.42 1534.73 Q1372.28 1536.89 1375.42 1536.89 Q1378.57 1536.89 1380.4 1534.73 Q1382.25 1532.56 1382.25 1528.83 Q1382.25 1525.08 1380.4 1522.93 Q1378.57 1520.78 1375.42 1520.78 M1384.71 1506.12 L1384.71 1510.38 Q1382.95 1509.55 1381.14 1509.11 Q1379.36 1508.67 1377.6 1508.67 Q1372.97 1508.67 1370.52 1511.8 Q1368.09 1514.92 1367.74 1521.24 Q1369.1 1519.23 1371.17 1518.16 Q1373.23 1517.07 1375.7 1517.07 Q1380.91 1517.07 1383.92 1520.24 Q1386.95 1523.39 1386.95 1528.83 Q1386.95 1534.16 1383.8 1537.37 Q1380.66 1540.59 1375.42 1540.59 Q1369.43 1540.59 1366.26 1536.01 Q1363.09 1531.4 1363.09 1522.67 Q1363.09 1514.48 1366.98 1509.62 Q1370.86 1504.73 1377.41 1504.73 Q1379.17 1504.73 1380.96 1505.08 Q1382.76 1505.43 1384.71 1506.12 Z\" fill=\"#000000\" fill-rule=\"evenodd\" fill-opacity=\"1\" /><path clip-path=\"url(#clip8900)\" d=\"M 0 0 M1863.89 1523.51 Q1860.55 1523.51 1858.63 1525.29 Q1856.73 1527.07 1856.73 1530.2 Q1856.73 1533.32 1858.63 1535.11 Q1860.55 1536.89 1863.89 1536.89 Q1867.22 1536.89 1869.14 1535.11 Q1871.06 1533.3 1871.06 1530.2 Q1871.06 1527.07 1869.14 1525.29 Q1867.24 1523.51 1863.89 1523.51 M1859.21 1521.52 Q1856.2 1520.78 1854.51 1518.72 Q1852.85 1516.66 1852.85 1513.69 Q1852.85 1509.55 1855.79 1507.14 Q1858.75 1504.73 1863.89 1504.73 Q1869.05 1504.73 1871.99 1507.14 Q1874.93 1509.55 1874.93 1513.69 Q1874.93 1516.66 1873.24 1518.72 Q1871.57 1520.78 1868.59 1521.52 Q1871.97 1522.3 1873.84 1524.6 Q1875.74 1526.89 1875.74 1530.2 Q1875.74 1535.22 1872.66 1537.91 Q1869.61 1540.59 1863.89 1540.59 Q1858.17 1540.59 1855.09 1537.91 Q1852.04 1535.22 1852.04 1530.2 Q1852.04 1526.89 1853.93 1524.6 Q1855.83 1522.3 1859.21 1521.52 M1857.5 1514.13 Q1857.5 1516.82 1859.17 1518.32 Q1860.86 1519.83 1863.89 1519.83 Q1866.9 1519.83 1868.59 1518.32 Q1870.3 1516.82 1870.3 1514.13 Q1870.3 1511.45 1868.59 1509.94 Q1866.9 1508.44 1863.89 1508.44 Q1860.86 1508.44 1859.17 1509.94 Q1857.5 1511.45 1857.5 1514.13 Z\" fill=\"#000000\" fill-rule=\"evenodd\" fill-opacity=\"1\" /><path clip-path=\"url(#clip8900)\" d=\"M 0 0 M2329.63 1535.98 L2337.27 1535.98 L2337.27 1509.62 L2328.96 1511.29 L2328.96 1507.03 L2337.22 1505.36 L2341.9 1505.36 L2341.9 1535.98 L2349.54 1535.98 L2349.54 1539.92 L2329.63 1539.92 L2329.63 1535.98 Z\" fill=\"#000000\" fill-rule=\"evenodd\" fill-opacity=\"1\" /><path clip-path=\"url(#clip8900)\" d=\"M 0 0 M2364.61 1508.44 Q2361 1508.44 2359.17 1512 Q2357.36 1515.55 2357.36 1522.67 Q2357.36 1529.78 2359.17 1533.35 Q2361 1536.89 2364.61 1536.89 Q2368.24 1536.89 2370.05 1533.35 Q2371.88 1529.78 2371.88 1522.67 Q2371.88 1515.55 2370.05 1512 Q2368.24 1508.44 2364.61 1508.44 M2364.61 1504.73 Q2370.42 1504.73 2373.47 1509.34 Q2376.55 1513.92 2376.55 1522.67 Q2376.55 1531.4 2373.47 1536.01 Q2370.42 1540.59 2364.61 1540.59 Q2358.8 1540.59 2355.72 1536.01 Q2352.66 1531.4 2352.66 1522.67 Q2352.66 1513.92 2355.72 1509.34 Q2358.8 1504.73 2364.61 1504.73 Z\" fill=\"#000000\" fill-rule=\"evenodd\" fill-opacity=\"1\" /><path clip-path=\"url(#clip8900)\" d=\"M 0 0 M62.9921 1272.05 L75.4689 1272.05 L75.4689 1275.84 L62.9921 1275.84 L62.9921 1272.05 Z\" fill=\"#000000\" fill-rule=\"evenodd\" fill-opacity=\"1\" /><path clip-path=\"url(#clip8900)\" d=\"M 0 0 M94.7049 1268.3 Q98.0614 1269.01 99.9364 1271.28 Q101.835 1273.55 101.835 1276.89 Q101.835 1282 98.316 1284.8 Q94.7975 1287.6 88.3161 1287.6 Q86.1402 1287.6 83.8253 1287.16 Q81.5337 1286.75 79.08 1285.89 L79.08 1281.38 Q81.0244 1282.51 83.3392 1283.09 Q85.654 1283.67 88.1772 1283.67 Q92.5753 1283.67 94.867 1281.93 Q97.1818 1280.2 97.1818 1276.89 Q97.1818 1273.83 95.029 1272.12 Q92.8994 1270.38 89.0799 1270.38 L85.0522 1270.38 L85.0522 1266.54 L89.2651 1266.54 Q92.7142 1266.54 94.5429 1265.17 Q96.3716 1263.78 96.3716 1261.19 Q96.3716 1258.53 94.4734 1257.12 Q92.5984 1255.68 89.0799 1255.68 Q87.1587 1255.68 84.9596 1256.1 Q82.7605 1256.51 80.1217 1257.39 L80.1217 1253.23 Q82.7837 1252.49 85.0985 1252.12 Q87.4364 1251.75 89.4966 1251.75 Q94.8207 1251.75 97.9225 1254.18 Q101.024 1256.58 101.024 1260.7 Q101.024 1263.58 99.3808 1265.57 Q97.7373 1267.53 94.7049 1268.3 Z\" fill=\"#000000\" fill-rule=\"evenodd\" fill-opacity=\"1\" /><path clip-path=\"url(#clip8900)\" d=\"M 0 0 M116.904 1255.45 Q113.293 1255.45 111.464 1259.01 Q109.659 1262.56 109.659 1269.69 Q109.659 1276.79 111.464 1280.36 Q113.293 1283.9 116.904 1283.9 Q120.538 1283.9 122.344 1280.36 Q124.172 1276.79 124.172 1269.69 Q124.172 1262.56 122.344 1259.01 Q120.538 1255.45 116.904 1255.45 M116.904 1251.75 Q122.714 1251.75 125.77 1256.35 Q128.848 1260.94 128.848 1269.69 Q128.848 1278.41 125.77 1283.02 Q122.714 1287.6 116.904 1287.6 Q111.094 1287.6 108.015 1283.02 Q104.959 1278.41 104.959 1269.69 Q104.959 1260.94 108.015 1256.35 Q111.094 1251.75 116.904 1251.75 Z\" fill=\"#000000\" fill-rule=\"evenodd\" fill-opacity=\"1\" /><path clip-path=\"url(#clip8900)\" d=\"M 0 0 M63.9412 953.632 L76.418 953.632 L76.418 957.428 L63.9412 957.428 L63.9412 953.632 Z\" fill=\"#000000\" fill-rule=\"evenodd\" fill-opacity=\"1\" /><path clip-path=\"url(#clip8900)\" d=\"M 0 0 M85.5152 964.581 L101.835 964.581 L101.835 968.516 L79.8902 968.516 L79.8902 964.581 Q82.5522 961.826 87.1355 957.197 Q91.742 952.544 92.9225 951.201 Q95.1679 948.678 96.0475 946.942 Q96.9503 945.183 96.9503 943.493 Q96.9503 940.738 95.0058 939.002 Q93.0846 937.266 89.9827 937.266 Q87.7837 937.266 85.33 938.03 Q82.8994 938.794 80.1217 940.345 L80.1217 935.623 Q82.9457 934.488 85.3994 933.91 Q87.8531 933.331 89.8901 933.331 Q95.2605 933.331 98.4549 936.016 Q101.649 938.701 101.649 943.192 Q101.649 945.322 100.839 947.243 Q100.052 949.141 97.9456 951.734 Q97.3669 952.405 94.2651 955.622 Q91.1633 958.817 85.5152 964.581 Z\" fill=\"#000000\" fill-rule=\"evenodd\" fill-opacity=\"1\" /><path clip-path=\"url(#clip8900)\" d=\"M 0 0 M116.904 937.035 Q113.293 937.035 111.464 940.599 Q109.659 944.141 109.659 951.271 Q109.659 958.377 111.464 961.942 Q113.293 965.484 116.904 965.484 Q120.538 965.484 122.344 961.942 Q124.172 958.377 124.172 951.271 Q124.172 944.141 122.344 940.599 Q120.538 937.035 116.904 937.035 M116.904 933.331 Q122.714 933.331 125.77 937.937 Q128.848 942.521 128.848 951.271 Q128.848 959.997 125.77 964.604 Q122.714 969.187 116.904 969.187 Q111.094 969.187 108.015 964.604 Q104.959 959.997 104.959 951.271 Q104.959 942.521 108.015 937.937 Q111.094 933.331 116.904 933.331 Z\" fill=\"#000000\" fill-rule=\"evenodd\" fill-opacity=\"1\" /><path clip-path=\"url(#clip8900)\" d=\"M 0 0 M63.5708 635.216 L76.0476 635.216 L76.0476 639.013 L63.5708 639.013 L63.5708 635.216 Z\" fill=\"#000000\" fill-rule=\"evenodd\" fill-opacity=\"1\" /><path clip-path=\"url(#clip8900)\" d=\"M 0 0 M81.9272 646.165 L89.5661 646.165 L89.5661 619.8 L81.2559 621.466 L81.2559 617.207 L89.5198 615.54 L94.1957 615.54 L94.1957 646.165 L101.835 646.165 L101.835 650.1 L81.9272 650.1 L81.9272 646.165 Z\" fill=\"#000000\" fill-rule=\"evenodd\" fill-opacity=\"1\" /><path clip-path=\"url(#clip8900)\" d=\"M 0 0 M116.904 618.619 Q113.293 618.619 111.464 622.184 Q109.659 625.726 109.659 632.855 Q109.659 639.962 111.464 643.526 Q113.293 647.068 116.904 647.068 Q120.538 647.068 122.344 643.526 Q124.172 639.962 124.172 632.855 Q124.172 625.726 122.344 622.184 Q120.538 618.619 116.904 618.619 M116.904 614.915 Q122.714 614.915 125.77 619.522 Q128.848 624.105 128.848 632.855 Q128.848 641.582 125.77 646.188 Q122.714 650.772 116.904 650.772 Q111.094 650.772 108.015 646.188 Q104.959 641.582 104.959 632.855 Q104.959 624.105 108.015 619.522 Q111.094 614.915 116.904 614.915 Z\" fill=\"#000000\" fill-rule=\"evenodd\" fill-opacity=\"1\" /><path clip-path=\"url(#clip8900)\" d=\"M 0 0 M116.904 300.204 Q113.293 300.204 111.464 303.769 Q109.659 307.31 109.659 314.44 Q109.659 321.546 111.464 325.111 Q113.293 328.653 116.904 328.653 Q120.538 328.653 122.344 325.111 Q124.172 321.546 124.172 314.44 Q124.172 307.31 122.344 303.769 Q120.538 300.204 116.904 300.204 M116.904 296.5 Q122.714 296.5 125.77 301.107 Q128.848 305.69 128.848 314.44 Q128.848 323.167 125.77 327.773 Q122.714 332.356 116.904 332.356 Q111.094 332.356 108.015 327.773 Q104.959 323.167 104.959 314.44 Q104.959 305.69 108.015 301.107 Q111.094 296.5 116.904 296.5 Z\" fill=\"#000000\" fill-rule=\"evenodd\" fill-opacity=\"1\" /><polyline clip-path=\"url(#clip8902)\" style=\"stroke:#009af9; stroke-width:4; stroke-opacity:1; fill:none\" points=\"\n",
       "  152.848,682.352 397.282,1222.72 641.717,342.709 886.151,1329.07 1130.58,87.9763 1375.02,841.039 1619.45,399.316 1863.89,1445.72 2108.32,399.316 2352.76,1212.42 \n",
       "  \n",
       "  \"/>\n",
       "<polyline clip-path=\"url(#clip8902)\" style=\"stroke:#e26f46; stroke-width:4; stroke-opacity:1; fill:none\" points=\"\n",
       "  152.848,590.365 397.282,995.642 641.717,335.633 886.151,1075.4 1130.58,144.583 1375.02,709.38 1619.45,378.088 1863.89,1162.89 2108.32,378.088 2352.76,987.916 \n",
       "  \n",
       "  \"/>\n",
       "<polyline clip-path=\"url(#clip8902)\" style=\"stroke:#3da44d; stroke-width:4; stroke-opacity:1; fill:none\" points=\"\n",
       "  152.848,535.173 397.282,859.394 641.717,331.387 886.151,923.203 1130.58,178.548 1375.02,630.385 1619.45,365.352 1863.89,993.191 2108.32,365.352 2352.76,853.214 \n",
       "  \n",
       "  \"/>\n",
       "<polyline clip-path=\"url(#clip8902)\" style=\"stroke:#c271d2; stroke-width:4; stroke-opacity:1; fill:none\" points=\"\n",
       "  152.848,498.378 397.282,768.563 641.717,328.557 886.151,821.736 1130.58,201.191 1375.02,577.722 1619.45,356.86 1863.89,880.06 2108.32,356.86 2352.76,763.412 \n",
       "  \n",
       "  \"/>\n",
       "<polyline clip-path=\"url(#clip8902)\" style=\"stroke:#ac8d18; stroke-width:4; stroke-opacity:1; fill:none\" points=\"\n",
       "  152.848,621.027 397.282,1071.33 641.717,337.991 886.151,1159.96 1130.58,125.714 1375.02,753.266 1619.45,385.164 1863.89,1257.16 2108.32,385.164 2352.76,1062.75 \n",
       "  \n",
       "  \"/>\n",
       "<polyline clip-path=\"url(#clip8902)\" style=\"stroke:#00a9ad; stroke-width:4; stroke-opacity:1; fill:none\" points=\"\n",
       "  152.848,544.372 397.282,882.102 641.717,332.095 886.151,948.569 1130.58,172.887 1375.02,643.551 1619.45,367.474 1863.89,1021.47 2108.32,367.474 2352.76,875.664 \n",
       "  \n",
       "  \"/>\n",
       "<polyline clip-path=\"url(#clip8902)\" style=\"stroke:#ed5d92; stroke-width:4; stroke-opacity:1; fill:none\" points=\"\n",
       "  152.848,498.378 397.282,768.563 641.717,328.557 886.151,821.736 1130.58,201.191 1375.02,577.722 1619.45,356.86 1863.89,880.06 2108.32,356.86 2352.76,763.412 \n",
       "  \n",
       "  \"/>\n",
       "<polyline clip-path=\"url(#clip8902)\" style=\"stroke:#c68125; stroke-width:4; stroke-opacity:1; fill:none\" points=\"\n",
       "  152.848,467.716 397.282,692.87 641.717,326.198 886.151,737.181 1130.58,220.06 1375.02,533.836 1619.45,349.785 1863.89,785.784 2108.32,349.785 2352.76,688.578 \n",
       "  \n",
       "  \"/>\n",
       "<polyline clip-path=\"url(#clip8902)\" style=\"stroke:#00a98d; stroke-width:4; stroke-opacity:1; fill:none\" points=\"\n",
       "  152.848,577.224 397.282,963.202 641.717,334.622 886.151,1039.16 1130.58,152.67 1375.02,690.572 1619.45,375.056 1863.89,1122.48 2108.32,375.056 2352.76,955.844 \n",
       "  \n",
       "  \"/>\n",
       "<polyline clip-path=\"url(#clip8902)\" style=\"stroke:#8e971d; stroke-width:4; stroke-opacity:1; fill:none\" points=\"\n",
       "  152.848,511.519 397.282,801.003 641.717,329.568 886.151,857.974 1130.58,193.104 1375.02,596.53 1619.45,359.893 1863.89,920.464 2108.32,359.893 2352.76,795.484 \n",
       "  \n",
       "  \"/>\n",
       "<polyline clip-path=\"url(#clip8902)\" style=\"stroke:#00a8cb; stroke-width:4; stroke-opacity:1; fill:none\" points=\"\n",
       "  152.848,472.097 397.282,703.683 641.717,326.535 886.151,749.26 1130.58,217.364 1375.02,540.105 1619.45,350.795 1863.89,799.252 2108.32,350.795 2352.76,699.268 \n",
       "  \n",
       "  \"/>\n",
       "<polyline clip-path=\"url(#clip8902)\" style=\"stroke:#9b7fe8; stroke-width:4; stroke-opacity:1; fill:none\" points=\"\n",
       "  152.848,445.815 397.282,638.804 641.717,324.513 886.151,676.784 1130.58,233.538 1375.02,502.489 1619.45,344.73 1863.89,718.445 2108.32,344.73 2352.76,635.124 \n",
       "  \n",
       "  \"/>\n",
       "<polyline clip-path=\"url(#clip8902)\" style=\"stroke:#608cf6; stroke-width:4; stroke-opacity:1; fill:none\" points=\"\n",
       "  152.848,544.372 397.282,882.102 641.717,332.095 886.151,948.569 1130.58,172.887 1375.02,643.551 1619.45,367.474 1863.89,1021.47 2108.32,367.474 2352.76,875.664 \n",
       "  \n",
       "  \"/>\n",
       "<polyline clip-path=\"url(#clip8902)\" style=\"stroke:#f05f73; stroke-width:4; stroke-opacity:1; fill:none\" points=\"\n",
       "  152.848,486.88 397.282,740.178 641.717,327.672 886.151,790.028 1130.58,208.267 1375.02,561.265 1619.45,354.207 1863.89,844.707 2108.32,354.207 2352.76,735.349 \n",
       "  \n",
       "  \"/>\n",
       "<polyline clip-path=\"url(#clip8902)\" style=\"stroke:#dd64b5; stroke-width:4; stroke-opacity:1; fill:none\" points=\"\n",
       "  152.848,452.385 397.282,655.023 641.717,325.019 886.151,694.903 1130.58,229.494 1375.02,511.893 1619.45,346.247 1863.89,738.647 2108.32,346.247 2352.76,651.16 \n",
       "  \n",
       "  \"/>\n",
       "<polyline clip-path=\"url(#clip8902)\" style=\"stroke:#6b9e32; stroke-width:4; stroke-opacity:1; fill:none\" points=\"\n",
       "  152.848,429.388 397.282,598.254 641.717,323.25 886.151,631.487 1130.58,243.646 1375.02,478.978 1619.45,340.94 1863.89,667.94 2108.32,340.94 2352.76,595.035 \n",
       "  \n",
       "  \"/>\n",
       "<polyline clip-path=\"url(#clip8902)\" style=\"stroke:#718c69; stroke-width:4; stroke-opacity:1; fill:none\" points=\"\n",
       "  152.848,496.111 397.282,762.966 641.717,328.382 886.151,815.484 1130.58,202.586 1375.02,574.477 1619.45,356.337 1863.89,873.089 2108.32,356.337 2352.76,757.879 \n",
       "  \n",
       "  \"/>\n",
       "<path clip-path=\"url(#clip8902)\" d=\"M136.848 480.111 L136.848 512.111 L168.848 512.111 L168.848 480.111 L136.848 480.111 Z\" fill=\"#718c69\" fill-rule=\"evenodd\" fill-opacity=\"1\" stroke=\"#000000\" stroke-opacity=\"1\" stroke-width=\"3.2\"/>\n",
       "<path clip-path=\"url(#clip8902)\" d=\"M381.282 746.966 L381.282 778.966 L413.282 778.966 L413.282 746.966 L381.282 746.966 Z\" fill=\"#718c69\" fill-rule=\"evenodd\" fill-opacity=\"1\" stroke=\"#000000\" stroke-opacity=\"1\" stroke-width=\"3.2\"/>\n",
       "<path clip-path=\"url(#clip8902)\" d=\"M625.717 312.382 L625.717 344.382 L657.717 344.382 L657.717 312.382 L625.717 312.382 Z\" fill=\"#718c69\" fill-rule=\"evenodd\" fill-opacity=\"1\" stroke=\"#000000\" stroke-opacity=\"1\" stroke-width=\"3.2\"/>\n",
       "<path clip-path=\"url(#clip8902)\" d=\"M870.151 799.484 L870.151 831.484 L902.151 831.484 L902.151 799.484 L870.151 799.484 Z\" fill=\"#718c69\" fill-rule=\"evenodd\" fill-opacity=\"1\" stroke=\"#000000\" stroke-opacity=\"1\" stroke-width=\"3.2\"/>\n",
       "<path clip-path=\"url(#clip8902)\" d=\"M1114.58 186.586 L1114.58 218.586 L1146.58 218.586 L1146.58 186.586 L1114.58 186.586 Z\" fill=\"#718c69\" fill-rule=\"evenodd\" fill-opacity=\"1\" stroke=\"#000000\" stroke-opacity=\"1\" stroke-width=\"3.2\"/>\n",
       "<path clip-path=\"url(#clip8902)\" d=\"M1359.02 558.477 L1359.02 590.477 L1391.02 590.477 L1391.02 558.477 L1359.02 558.477 Z\" fill=\"#718c69\" fill-rule=\"evenodd\" fill-opacity=\"1\" stroke=\"#000000\" stroke-opacity=\"1\" stroke-width=\"3.2\"/>\n",
       "<path clip-path=\"url(#clip8902)\" d=\"M1603.45 340.337 L1603.45 372.337 L1635.45 372.337 L1635.45 340.337 L1603.45 340.337 Z\" fill=\"#718c69\" fill-rule=\"evenodd\" fill-opacity=\"1\" stroke=\"#000000\" stroke-opacity=\"1\" stroke-width=\"3.2\"/>\n",
       "<path clip-path=\"url(#clip8902)\" d=\"M1847.89 857.089 L1847.89 889.089 L1879.89 889.089 L1879.89 857.089 L1847.89 857.089 Z\" fill=\"#718c69\" fill-rule=\"evenodd\" fill-opacity=\"1\" stroke=\"#000000\" stroke-opacity=\"1\" stroke-width=\"3.2\"/>\n",
       "<path clip-path=\"url(#clip8902)\" d=\"M2092.32 340.337 L2092.32 372.337 L2124.32 372.337 L2124.32 340.337 L2092.32 340.337 Z\" fill=\"#718c69\" fill-rule=\"evenodd\" fill-opacity=\"1\" stroke=\"#000000\" stroke-opacity=\"1\" stroke-width=\"3.2\"/>\n",
       "<path clip-path=\"url(#clip8902)\" d=\"M2336.76 741.879 L2336.76 773.879 L2368.76 773.879 L2368.76 741.879 L2336.76 741.879 Z\" fill=\"#718c69\" fill-rule=\"evenodd\" fill-opacity=\"1\" stroke=\"#000000\" stroke-opacity=\"1\" stroke-width=\"3.2\"/>\n",
       "<circle clip-path=\"url(#clip8902)\" cx=\"152.848\" cy=\"500.237\" r=\"14\" fill=\"#47988b\" fill-rule=\"evenodd\" fill-opacity=\"1\" stroke=\"#000000\" stroke-opacity=\"1\" stroke-width=\"3.2\"/>\n",
       "<circle clip-path=\"url(#clip8902)\" cx=\"397.282\" cy=\"773.15\" r=\"14\" fill=\"#47988b\" fill-rule=\"evenodd\" fill-opacity=\"1\" stroke=\"#000000\" stroke-opacity=\"1\" stroke-width=\"3.2\"/>\n",
       "<circle clip-path=\"url(#clip8902)\" cx=\"641.717\" cy=\"328.7\" r=\"14\" fill=\"#47988b\" fill-rule=\"evenodd\" fill-opacity=\"1\" stroke=\"#000000\" stroke-opacity=\"1\" stroke-width=\"3.2\"/>\n",
       "<circle clip-path=\"url(#clip8902)\" cx=\"886.151\" cy=\"826.861\" r=\"14\" fill=\"#47988b\" fill-rule=\"evenodd\" fill-opacity=\"1\" stroke=\"#000000\" stroke-opacity=\"1\" stroke-width=\"3.2\"/>\n",
       "<circle clip-path=\"url(#clip8902)\" cx=\"1130.58\" cy=\"200.047\" r=\"14\" fill=\"#47988b\" fill-rule=\"evenodd\" fill-opacity=\"1\" stroke=\"#000000\" stroke-opacity=\"1\" stroke-width=\"3.2\"/>\n",
       "<circle clip-path=\"url(#clip8902)\" cx=\"1375.02\" cy=\"580.382\" r=\"14\" fill=\"#47988b\" fill-rule=\"evenodd\" fill-opacity=\"1\" stroke=\"#000000\" stroke-opacity=\"1\" stroke-width=\"3.2\"/>\n",
       "<circle clip-path=\"url(#clip8902)\" cx=\"1619.45\" cy=\"357.289\" r=\"14\" fill=\"#47988b\" fill-rule=\"evenodd\" fill-opacity=\"1\" stroke=\"#000000\" stroke-opacity=\"1\" stroke-width=\"3.2\"/>\n",
       "<circle clip-path=\"url(#clip8902)\" cx=\"1863.89\" cy=\"885.774\" r=\"14\" fill=\"#47988b\" fill-rule=\"evenodd\" fill-opacity=\"1\" stroke=\"#000000\" stroke-opacity=\"1\" stroke-width=\"3.2\"/>\n",
       "<circle clip-path=\"url(#clip8902)\" cx=\"2108.32\" cy=\"357.289\" r=\"14\" fill=\"#47988b\" fill-rule=\"evenodd\" fill-opacity=\"1\" stroke=\"#000000\" stroke-opacity=\"1\" stroke-width=\"3.2\"/>\n",
       "<circle clip-path=\"url(#clip8902)\" cx=\"2352.76\" cy=\"767.948\" r=\"14\" fill=\"#47988b\" fill-rule=\"evenodd\" fill-opacity=\"1\" stroke=\"#000000\" stroke-opacity=\"1\" stroke-width=\"3.2\"/>\n",
       "</svg>\n"
      ]
     },
     "execution_count": 32,
     "metadata": {},
     "output_type": "execute_result"
    }
   ],
   "source": [
    "plot(Y, xlims=(1,10),legend=false)\n",
    "plot!(ũ,shape =:square,xlims=(1,10),legend=false)\n",
    "scatter!(ufem,bg=:darkorange)"
   ]
  }
 ],
 "metadata": {
  "kernelspec": {
   "display_name": "Julia 1.5.0",
   "language": "julia",
   "name": "julia-1.5"
  },
  "language_info": {
   "file_extension": ".jl",
   "mimetype": "application/julia",
   "name": "julia",
   "version": "1.5.0"
  }
 },
 "nbformat": 4,
 "nbformat_minor": 4
}
