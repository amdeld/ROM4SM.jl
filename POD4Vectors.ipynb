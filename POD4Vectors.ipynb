{
 "cells": [
  {
   "cell_type": "markdown",
   "metadata": {},
   "source": [
    "# discrete Proper Orthogonal Decomposition (POD) of a set of vectors \n",
    "Inspired from Buljak, V. (2012). Inverse Analyses with Model Reduction Proper Orthogonal Decomposition in Structural Mechanics. Saudi Med J (Vol. 33). https://doi.org/10.1007/978-3-642-22703-5"
   ]
  },
  {
   "cell_type": "code",
   "execution_count": null,
   "metadata": {},
   "outputs": [],
   "source": []
  },
  {
   "cell_type": "code",
   "execution_count": 5,
   "metadata": {},
   "outputs": [
    {
     "name": "stdout",
     "output_type": "stream",
     "text": [
      "U data matrix=\n"
     ]
    },
    {
     "data": {
      "text/plain": [
       "3×4 Array{Int64,2}:\n",
       " 1  5  3  3\n",
       " 1  4  4  3\n",
       " 1  5  5  4"
      ]
     },
     "execution_count": 5,
     "metadata": {},
     "output_type": "execute_result"
    }
   ],
   "source": [
    "using LinearAlgebra\n",
    "#Consider a set of four three dimensional vectors that are\n",
    "#collected in a matrix (3x4) U=[u1 u2 u3 u4]\n",
    "U=[1 5 3 3;1 4 4 3;1 5 5 4]\n",
    "println(\"\\rU data matrix=\\r\")\n",
    "U"
   ]
  },
  {
   "cell_type": "code",
   "execution_count": 1,
   "metadata": {},
   "outputs": [
    {
     "data": {
      "text/plain": [
       "3×4 Array{Int64,2}:\n",
       " 1  5  3  3\n",
       " 1  4  4  3\n",
       " 1  5  5  4"
      ]
     },
     "metadata": {},
     "output_type": "display_data"
    },
    {
     "name": "stdout",
     "output_type": "stream",
     "text": [
      "\n",
      "U data matrix=\n"
     ]
    },
    {
     "data": {
      "text/plain": [
       "3×3 Array{Int64,2}:\n",
       " 44  42  53\n",
       " 42  42  53\n",
       " 53  53  67"
      ]
     },
     "metadata": {},
     "output_type": "display_data"
    },
    {
     "name": "stdout",
     "output_type": "stream",
     "text": [
      "\n",
      "C covariance matrix (U*U')=\n"
     ]
    },
    {
     "data": {
      "text/plain": [
       "1×3 Adjoint{Float64,Array{Float64,1}}:\n",
       " 0.0452322  1.45933  151.495"
      ]
     },
     "metadata": {},
     "output_type": "display_data"
    },
    {
     "name": "stdout",
     "output_type": "stream",
     "text": [
      "\n",
      "λ eigenvalues=\r"
     ]
    },
    {
     "data": {
      "text/plain": [
       "3×3 Array{Float64,2}:\n",
       "  0.0183021  -0.846242  -0.532484\n",
       " -0.790948    0.313528  -0.525454\n",
       "  0.61161     0.430784  -0.663595"
      ]
     },
     "metadata": {},
     "output_type": "display_data"
    },
    {
     "name": "stdout",
     "output_type": "stream",
     "text": [
      "\n",
      "\n",
      "Φ eigenvectors matrix=\r"
     ]
    },
    {
     "data": {
      "text/plain": [
       "3×4 Array{Float64,2}:\n",
       " -0.161035  -0.0142295  -0.0508336   0.128504\n",
       " -0.101931  -0.82318     0.869304    0.124992\n",
       " -1.72153   -8.08221    -7.01724    -5.8282"
      ]
     },
     "metadata": {},
     "output_type": "display_data"
    },
    {
     "name": "stdout",
     "output_type": "stream",
     "text": [
      "\n",
      "\n",
      "A amplitude matrix=\r"
     ]
    },
    {
     "data": {
      "text/plain": [
       "3×4 Array{Float64,2}:\n",
       " 1.0  5.0  3.0  3.0\n",
       " 1.0  4.0  4.0  3.0\n",
       " 1.0  5.0  5.0  4.0"
      ]
     },
     "metadata": {},
     "output_type": "display_data"
    },
    {
     "data": {
      "text/plain": [
       "3×4 Array{Float64,2}:\n",
       " 0.916689  4.30365  3.73657  3.10342\n",
       " 0.904587  4.24683  3.68724  3.06245\n",
       " 1.1424    5.36332  4.65661  3.86756"
      ]
     },
     "metadata": {},
     "output_type": "display_data"
    },
    {
     "name": "stdout",
     "output_type": "stream",
     "text": [
      "\n",
      "\n",
      "Urec=Φ*A\n",
      "\n",
      "Ũ3=\n"
     ]
    },
    {
     "data": {
      "text/plain": [
       "3×4 Array{Float64,2}:\n",
       " 1.00295   5.00026  3.00093  2.99765\n",
       " 0.872629  3.98875  3.95979  3.10164\n",
       " 1.09849   5.0087   5.03109  3.92141"
      ]
     },
     "metadata": {},
     "output_type": "display_data"
    },
    {
     "name": "stdout",
     "output_type": "stream",
     "text": [
      "\n",
      "Ũ23=\r"
     ]
    },
    {
     "data": {
      "text/plain": [
       "SVD{Float64,Float64,Array{Float64,2}}\n",
       "U factor:\n",
       "3×3 Array{Float64,2}:\n",
       " -0.532484  -0.846242   0.0183021\n",
       " -0.525454   0.313528  -0.790948\n",
       " -0.663595   0.430784   0.61161\n",
       "singular values:\n",
       "3-element Array{Float64,1}:\n",
       " 12.308348383053715\n",
       "  1.2080264474422018\n",
       "  0.21267859238577747\n",
       "Vt factor:\n",
       "3×4 Array{Float64,2}:\n",
       " -0.139867   -0.656645   -0.570121  -0.473516\n",
       " -0.0843778  -0.681426    0.719607   0.103468\n",
       " -0.757177   -0.0669061  -0.239016   0.604216"
      ]
     },
     "metadata": {},
     "output_type": "display_data"
    },
    {
     "name": "stdout",
     "output_type": "stream",
     "text": [
      "\n",
      "\n",
      "SVD decomposition=\r"
     ]
    },
    {
     "data": {
      "text/plain": [
       "3×4 Array{Float64,2}:\n",
       " 0.916689  4.30365  3.73657  3.10342\n",
       " 0.904587  4.24683  3.68724  3.06245\n",
       " 1.1424    5.36332  4.65661  3.86756"
      ]
     },
     "metadata": {},
     "output_type": "display_data"
    },
    {
     "name": "stdout",
     "output_type": "stream",
     "text": [
      "\n",
      "\n",
      "Uapprox based on the first and most energetic mode=\n",
      "\n",
      "Ũ=\n"
     ]
    }
   ],
   "source": [
    "#Calculate The Covariance matrix C (3x3)\n",
    "C=U*U'\n",
    "println(\"\\nC covariance matrix (U*U')=\\r\")\n",
    "display(C)\n",
    "#Calculate the eigenvalues and the eigenvectors\n",
    "#F=eigen(C, sortby=x->abs(x))\n",
    "F=eigen(C)\n",
    "λ=F.values\n",
    "println(\"\\nλ eigenvalues=\\r\")\n",
    "display(λ')\n",
    "Φ=F.vectors\n",
    "println(\"\\nΦ eigenvectors matrix=\\r\")\n",
    "display(Φ)\n",
    "#Calculate the Amplitude matrix A = Φ'*U (3x4)\n",
    "A=Φ'*U\n",
    "println(\"\\nA amplitude matrix=\\r\")\n",
    "display(A)\n",
    "#Check that U=Φ*A\n",
    "Urec=Φ*A\n",
    "println(\"\\nUrec=Φ*A\\r\")\n",
    "display(Urec)\n",
    "#Keep the last direction and Amplitude Ũ=Φ3*A3\n",
    "println(\"\\nŨ3=\\r\")\n",
    "Ũ3=Φ[:,3]*A[3,:]'\n",
    "display(Ũ3)\n",
    "u1=A[3,:][1]*Φ[:,3]\n",
    "u2=A[3,:][2]*Φ[:,3]\n",
    "u3=A[3,:][3]*Φ[:,3]\n",
    "u4=A[3,:][4]*Φ[:,3]\n",
    "#Keep the two last directions and Amplitude Ũ=Φ23*A23\n",
    "println(\"\\nŨ23=\\r\")\n",
    "Ũ23=Φ[:,2:3]*A[2:3,:]\n",
    "display(Ũ23)\n",
    "\n",
    "#Calculte the SVD\n",
    "Z=svd(U)\n",
    "println(\"\\nSVD decomposition=\\r\")\n",
    "display(Z)\n",
    "println(\"\\nUapprox based on the first and most energetic mode=\\r\")\n",
    "Ũ=(Z.U[:,1]*Z.S[1])*Z.Vt[1,:]'\n",
    "println(\"\\nŨ=\\r\")\n",
    "display(Ũ)"
   ]
  },
  {
   "cell_type": "code",
   "execution_count": null,
   "metadata": {},
   "outputs": [],
   "source": []
  }
 ],
 "metadata": {
  "kernelspec": {
   "display_name": "Julia 1.5.0",
   "language": "julia",
   "name": "julia-1.5"
  },
  "language_info": {
   "file_extension": ".jl",
   "mimetype": "application/julia",
   "name": "julia",
   "version": "1.5.0"
  }
 },
 "nbformat": 4,
 "nbformat_minor": 4
}
