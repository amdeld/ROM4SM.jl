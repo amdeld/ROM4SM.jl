{
 "cells": [
  {
   "cell_type": "markdown",
   "metadata": {},
   "source": [
    "# Discrete proper orthogonal decomposition (POD) of a set of vectors \n",
    "Inspired from Buljak, V. (2012). "
   ]
  },
  {
   "cell_type": "markdown",
   "metadata": {},
   "source": [
    "# Correlated and Uncorrelated Vectors and reduction of dimensionality in the correlated data\n",
    "<img src=\"https://raw.githubusercontent.com/amdeld/ROM4SM.jl/master/img/Vectors.png\" alt=\"Drawing\" style=\"width: 500px;\"/>\n"
   ]
  },
  {
   "cell_type": "markdown",
   "metadata": {},
   "source": [
    "# Data matrix (snapshots)\n",
    "$Y=\\left[\\begin{array}{cccc}\n",
    "| & | & | & |\\\\\n",
    "Y_{1} & Y_{2} & Y_{3} & Y_{4}\\\\\n",
    "| & | & | & |\n",
    "\\end{array}\\right]$"
   ]
  },
  {
   "cell_type": "code",
   "execution_count": 1,
   "metadata": {},
   "outputs": [
    {
     "name": "stdout",
     "output_type": "stream",
     "text": [
      "Data matrix Y =\n"
     ]
    },
    {
     "data": {
      "text/plain": [
       "3×4 Matrix{Int64}:\n",
       " 1  5  3  3\n",
       " 1  4  4  3\n",
       " 1  5  5  4"
      ]
     },
     "execution_count": 1,
     "metadata": {},
     "output_type": "execute_result"
    }
   ],
   "source": [
    "#= Consider a set of four 3D dimensional vectors \n",
    "collected in a matrix of dim (3x4) U=[u1 u2 u3 u4] =#\n",
    "using LinearAlgebra\n",
    "Y=[1 5 3 3;1 4 4 3;1 5 5 4]\n",
    "println(\"\\rData matrix Y =\\r\")\n",
    "Y"
   ]
  },
  {
   "cell_type": "markdown",
   "metadata": {},
   "source": [
    "## Galerkin Projection\n",
    "$Y= ΦA$ or $y_{i}=\\sum_{n=1}^{K} a_{ij}.\\phi_j $\n",
    "\n",
    "<img src=\"https://raw.githubusercontent.com/amdeld/ROM4SM.jl/master/img/Projection.png\" alt=\"Drawing\" style=\"width: 500px;\"/>"
   ]
  },
  {
   "cell_type": "markdown",
   "metadata": {},
   "source": [
    "1. Eigen decomposition of the covariance matrix"
   ]
  },
  {
   "cell_type": "code",
   "execution_count": 2,
   "metadata": {},
   "outputs": [
    {
     "name": "stdout",
     "output_type": "stream",
     "text": [
      "Covariance matrix C =\n"
     ]
    },
    {
     "data": {
      "text/plain": [
       "3×3 Matrix{Int64}:\n",
       " 44  42  53\n",
       " 42  42  53\n",
       " 53  53  67"
      ]
     },
     "execution_count": 2,
     "metadata": {},
     "output_type": "execute_result"
    }
   ],
   "source": [
    "# Calculate The Covariance matrix C (Y*Y') (3x3)\n",
    "C=Y*Y'\n",
    "println(\"\\rCovariance matrix C =\\r\")\n",
    "C"
   ]
  },
  {
   "cell_type": "code",
   "execution_count": 3,
   "metadata": {},
   "outputs": [
    {
     "name": "stdout",
     "output_type": "stream",
     "text": [
      "Eigenvalues vector λ =\n"
     ]
    },
    {
     "data": {
      "text/plain": [
       "3-element Vector{Float64}:\n",
       "   0.04523218365917327\n",
       "   1.4593278977198334\n",
       " 151.49543991862072"
      ]
     },
     "execution_count": 3,
     "metadata": {},
     "output_type": "execute_result"
    }
   ],
   "source": [
    "# Calculate the eigenvalues λ =(λ1,λ2,λ3) of C\n",
    "F=eigen(C)\n",
    "λ=F.values\n",
    "println(\"\\rEigenvalues vector λ =\\r\")\n",
    "λ"
   ]
  },
  {
   "cell_type": "code",
   "execution_count": 17,
   "metadata": {},
   "outputs": [
    {
     "name": "stdout",
     "output_type": "stream",
     "text": [
      "Eigenvectors matrix ϕ=\n"
     ]
    },
    {
     "data": {
      "text/plain": [
       "3×3 Matrix{Float64}:\n",
       "  0.0183021  -0.846242  -0.532484\n",
       " -0.790948    0.313528  -0.525454\n",
       "  0.61161     0.430784  -0.663595"
      ]
     },
     "execution_count": 17,
     "metadata": {},
     "output_type": "execute_result"
    }
   ],
   "source": [
    "# Calculate the eigenvectors ϕ=[ϕ1 ϕ2 ϕ3] of C\n",
    "Φ=F.vectors\n",
    "println(\"\\rEigenvectors matrix ϕ=\\r\")\n",
    "Φ"
   ]
  },
  {
   "cell_type": "markdown",
   "metadata": {},
   "source": [
    " The $\\phi$ matrix is unitary ( $\\phi\\phi^{*} = I$ )"
   ]
  },
  {
   "cell_type": "code",
   "execution_count": 18,
   "metadata": {},
   "outputs": [
    {
     "name": "stdout",
     "output_type": "stream",
     "text": [
      "Amplitude matrix A=\n"
     ]
    },
    {
     "data": {
      "text/plain": [
       "3×4 Matrix{Float64}:\n",
       " -0.161035  -0.0142295  -0.0508336   0.128504\n",
       " -0.101931  -0.82318     0.869304    0.124992\n",
       " -1.72153   -8.08221    -7.01724    -5.8282"
      ]
     },
     "execution_count": 18,
     "metadata": {},
     "output_type": "execute_result"
    }
   ],
   "source": [
    "#Calculate the Amplitude matrix A = ϕ'*Y (3x4)\n",
    "A=Φ'*Y\n",
    "println(\"\\rAmplitude matrix A=\\r\")\n",
    "A"
   ]
  },
  {
   "cell_type": "markdown",
   "metadata": {},
   "source": [
    "* Reconstruction without any reduction"
   ]
  },
  {
   "cell_type": "code",
   "execution_count": 22,
   "metadata": {},
   "outputs": [
    {
     "name": "stdout",
     "output_type": "stream",
     "text": [
      "Full Reconstruction  Yrecons = ΦA\n",
      "Y=Φ*A\n"
     ]
    },
    {
     "data": {
      "text/plain": [
       "3×4 Matrix{Float64}:\n",
       " 1.0  5.0  3.0  3.0\n",
       " 1.0  4.0  4.0  3.0\n",
       " 1.0  5.0  5.0  4.0"
      ]
     },
     "execution_count": 22,
     "metadata": {},
     "output_type": "execute_result"
    }
   ],
   "source": [
    "println(\"\\rFull Reconstruction  Yrecons = ΦA\\r\")\n",
    "Y=Φ*A\n",
    "println(\"\\rY=Φ*A\\r\")\n",
    "Y"
   ]
  },
  {
   "cell_type": "markdown",
   "metadata": {},
   "source": [
    "* Reconstruction based on the first most energetic mode reduction"
   ]
  },
  {
   "cell_type": "code",
   "execution_count": 23,
   "metadata": {},
   "outputs": [
    {
     "name": "stdout",
     "output_type": "stream",
     "text": [
      "Ỹ3=\n"
     ]
    },
    {
     "data": {
      "text/plain": [
       "3×4 Matrix{Float64}:\n",
       " 0.916689  4.30365  3.73657  3.10342\n",
       " 0.904587  4.24683  3.68724  3.06245\n",
       " 1.1424    5.36332  4.65661  3.86756"
      ]
     },
     "execution_count": 23,
     "metadata": {},
     "output_type": "execute_result"
    }
   ],
   "source": [
    "#Keep the last direction and amplitude      U ≈ Ỹ3=ϕ3*A3\n",
    "println(\"\\rỸ3=\\r\")\n",
    "Ỹ3=Φ[:,3]*A[3,:]'\n",
    "Ỹ3"
   ]
  },
  {
   "cell_type": "code",
   "execution_count": 8,
   "metadata": {},
   "outputs": [],
   "source": [
    "#= u1=A[3,:][1]*Φ[:,3]\n",
    "u2=A[3,:][2]*Φ[:,3]\n",
    "u3=A[3,:][3]*Φ[:,3]\n",
    "u4=A[3,:][4]*Φ[:,3]\n",
    "show(u1);\n",
    "show(u2);\n",
    "show(u3);\n",
    "show(u4) =#"
   ]
  },
  {
   "cell_type": "markdown",
   "metadata": {},
   "source": [
    "* Reconstruction based on a two most energetic modes reduction"
   ]
  },
  {
   "cell_type": "code",
   "execution_count": 24,
   "metadata": {},
   "outputs": [
    {
     "name": "stdout",
     "output_type": "stream",
     "text": [
      "Ỹ23=\n"
     ]
    },
    {
     "data": {
      "text/plain": [
       "3×4 Matrix{Float64}:\n",
       " 1.00295   5.00026  3.00093  2.99765\n",
       " 0.872629  3.98875  3.95979  3.10164\n",
       " 1.09849   5.0087   5.03109  3.92141"
      ]
     },
     "execution_count": 24,
     "metadata": {},
     "output_type": "execute_result"
    }
   ],
   "source": [
    "#Keep the two last directions and amplitudes Y ≈ Ỹ23=ϕ2:3*A2:3\n",
    "println(\"\\rỸ23=\\r\")\n",
    "Ỹ23=Φ[:,2:3]*A[2:3,:]\n",
    "Ỹ23"
   ]
  },
  {
   "cell_type": "markdown",
   "metadata": {},
   "source": [
    "# 2. Singular Value Decomposition of the snapshot-data matrix"
   ]
  },
  {
   "cell_type": "markdown",
   "metadata": {},
   "source": [
    "* Calculate the SVD of Y"
   ]
  },
  {
   "cell_type": "code",
   "execution_count": 10,
   "metadata": {},
   "outputs": [
    {
     "name": "stdout",
     "output_type": "stream",
     "text": [
      "SVD decomposition =\n"
     ]
    },
    {
     "data": {
      "text/plain": [
       "SVD{Float64, Float64, Matrix{Float64}}\n",
       "U factor:\n",
       "3×3 Matrix{Float64}:\n",
       " -0.532484  -0.846242   0.0183021\n",
       " -0.525454   0.313528  -0.790948\n",
       " -0.663595   0.430784   0.61161\n",
       "singular values:\n",
       "3-element Vector{Float64}:\n",
       " 12.308348383053715\n",
       "  1.2080264474422013\n",
       "  0.21267859238577802\n",
       "Vt factor:\n",
       "3×4 Matrix{Float64}:\n",
       " -0.139867   -0.656645   -0.570121  -0.473516\n",
       " -0.0843778  -0.681426    0.719607   0.103468\n",
       " -0.757177   -0.0669061  -0.239016   0.604216"
      ]
     },
     "execution_count": 10,
     "metadata": {},
     "output_type": "execute_result"
    }
   ],
   "source": [
    "Z=svd(Y)\n",
    "println(\"\\rSVD decomposition =\\r\")\n",
    "Z"
   ]
  },
  {
   "cell_type": "markdown",
   "metadata": {},
   "source": [
    "* Reconstruction without any reduction"
   ]
  },
  {
   "cell_type": "code",
   "execution_count": 11,
   "metadata": {},
   "outputs": [
    {
     "name": "stdout",
     "output_type": "stream",
     "text": [
      "Full Reconstruction  Yrecons = UΣV* \n"
     ]
    },
    {
     "data": {
      "text/plain": [
       "3×4 Matrix{Float64}:\n",
       " 1.0  5.0  3.0  3.0\n",
       " 1.0  4.0  4.0  3.0\n",
       " 1.0  5.0  5.0  4.0"
      ]
     },
     "execution_count": 11,
     "metadata": {},
     "output_type": "execute_result"
    }
   ],
   "source": [
    "println(\"\\rFull Reconstruction  Yrecons = UΣV* \\r\")\n",
    "Yrecons=Z.U*diagm(Z.S)*Z.Vt\n",
    "round.(Yrecons;digits=2)"
   ]
  },
  {
   "cell_type": "markdown",
   "metadata": {},
   "source": [
    "* Reconstruction based on a single most energetic mode reduction"
   ]
  },
  {
   "cell_type": "code",
   "execution_count": 12,
   "metadata": {},
   "outputs": [
    {
     "name": "stdout",
     "output_type": "stream",
     "text": [
      "Ỹ1=\n"
     ]
    },
    {
     "data": {
      "text/plain": [
       "3×4 Matrix{Float64}:\n",
       " 0.916689  4.30365  3.73657  3.10342\n",
       " 0.904587  4.24683  3.68724  3.06245\n",
       " 1.1424    5.36332  4.65661  3.86756"
      ]
     },
     "execution_count": 12,
     "metadata": {},
     "output_type": "execute_result"
    }
   ],
   "source": [
    "Ỹ1=(Z.U[:,1]*Z.S[1])*Z.Vt[1,:]'\n",
    "println(\"\\rỸ1=\\r\")\n",
    "Ỹ1"
   ]
  },
  {
   "cell_type": "markdown",
   "metadata": {},
   "source": [
    "* Reconstruction based on a two most energetic modes reduction"
   ]
  },
  {
   "cell_type": "code",
   "execution_count": 13,
   "metadata": {},
   "outputs": [
    {
     "name": "stdout",
     "output_type": "stream",
     "text": [
      "Ỹ12=\n"
     ]
    },
    {
     "data": {
      "text/plain": [
       "3×4 Matrix{Float64}:\n",
       " 1.00295   5.00026  3.00093  2.99765\n",
       " 0.872629  3.98875  3.95979  3.10164\n",
       " 1.09849   5.0087   5.03109  3.92141"
      ]
     },
     "execution_count": 13,
     "metadata": {},
     "output_type": "execute_result"
    }
   ],
   "source": [
    "Ỹ12=(Z.U[:,1]*Z.S[1])*Z.Vt[1,:]'+(Z.U[:,2]*Z.S[2])*Z.Vt[2,:]'\n",
    "println(\"\\rỸ12=\\r\")\n",
    "Ỹ12"
   ]
  },
  {
   "cell_type": "code",
   "execution_count": 34,
   "metadata": {},
   "outputs": [
    {
     "data": {
      "text/plain": [
       "3×4 Matrix{Float64}:\n",
       " 1.00295   5.00026  3.00093  2.99765\n",
       " 0.872629  3.98875  3.95979  3.10164\n",
       " 1.09849   5.0087   5.03109  3.92141"
      ]
     },
     "execution_count": 34,
     "metadata": {},
     "output_type": "execute_result"
    }
   ],
   "source": [
    "Ytest12=Z.U[:,1:2]*(diagm(Z.S[1:2])*Z.Vt[1:2,:])"
   ]
  },
  {
   "cell_type": "markdown",
   "metadata": {},
   "source": [
    "* Reconstruction based on a three most energetic modes reduction ( which means here = no reduction!;)"
   ]
  },
  {
   "cell_type": "code",
   "execution_count": 14,
   "metadata": {},
   "outputs": [
    {
     "name": "stdout",
     "output_type": "stream",
     "text": [
      "Ỹ123=\n"
     ]
    },
    {
     "data": {
      "text/plain": [
       "3×4 Matrix{Float64}:\n",
       " 1.0  5.0  3.0  3.0\n",
       " 1.0  4.0  4.0  3.0\n",
       " 1.0  5.0  5.0  4.0"
      ]
     },
     "execution_count": 14,
     "metadata": {},
     "output_type": "execute_result"
    }
   ],
   "source": [
    "Ỹ123=(Z.U[:,1]*Z.S[1])*Z.Vt[1,:]'+(Z.U[:,2]*Z.S[2])*Z.Vt[2,:]'+(Z.U[:,3]*Z.S[3])*Z.Vt[3,:]'\n",
    "println(\"\\rỸ123=\\r\")\n",
    "Ỹ123"
   ]
  }
 ],
 "metadata": {
  "kernelspec": {
   "display_name": "Julia 1.6.1",
   "language": "julia",
   "name": "julia-1.6"
  },
  "language_info": {
   "file_extension": ".jl",
   "mimetype": "application/julia",
   "name": "julia",
   "version": "1.6.1"
  }
 },
 "nbformat": 4,
 "nbformat_minor": 4
}
