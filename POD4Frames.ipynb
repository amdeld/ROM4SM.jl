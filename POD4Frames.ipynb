{
 "cells": [
  {
   "cell_type": "markdown",
   "metadata": {},
   "source": [
    "# Proper Orthogonal Decomposition (POD) for Structural Mechanics\n",
    "inspired from Buljak, V. (2012). Inverse Analyses with Model Reduction Proper Orthogonal Decomposition in Structural Mechanics. Springer Berlin Heidelberg (Vol. 33). https://doi.org/10.1007/978-3-642-22703-5\n",
    "\n",
    "## Use Case : Frame made up of plane elastic trusses (11 rods et 5 unconstrained nodes with 2 degrees of freedom (10 dof)). The displacement is fixed at node 6 and node 7 fixée. The load is applied on nodes 1&2 with respectivelely a force $F1 = -5000 N$ and a force $F2 = -2000 N$ (see figure below)  "
   ]
  },
  {
   "cell_type": "markdown",
   "metadata": {},
   "source": [
    "## Frame\n",
    "\n",
    "<img src=\"https://raw.githubusercontent.com/amdeld/ROM4SM.jl/master/img/TrussStructure_LBC.png\" alt=\"Drawing\" style=\"width: 800px;\"/>\n"
   ]
  },
  {
   "cell_type": "code",
   "execution_count": null,
   "metadata": {},
   "outputs": [],
   "source": [
    "using LinearAlgebra, CSV, DataFrames, DelimitedFiles,Plots # needed for the decomposition operations"
   ]
  },
  {
   "cell_type": "markdown",
   "metadata": {},
   "source": [
    "## Definition of the stiffness matrix function for a plane elastic truss element "
   ]
  },
  {
   "cell_type": "code",
   "execution_count": null,
   "metadata": {},
   "outputs": [],
   "source": [
    "function TrussElementStiffness(coo,E,A)\n",
    "# Function that computes stiffness matrix for truss element\n",
    "# (file name trstiff.m)\n",
    "L=sqrt((coo[2,1]-coo[1,1])^2+(coo[2,2]-coo[1,2])^2)\n",
    "C=(coo[2,1]-coo[1,1])/L\n",
    "S=(coo[2,2]-coo[1,2])/L\n",
    "# Stiffness matrix\n",
    "STF=E*A/L*[C^2 S*C -C^2 -S*C;\n",
    "S*C S^2 -S*C -S^2;\n",
    "-C^2 -S*C C^2 S*C;\n",
    "-S*C -S^2 S*C S^2];\n",
    "return(STF)\n",
    "end"
   ]
  },
  {
   "cell_type": "markdown",
   "metadata": {},
   "source": [
    "## Assemble&Solve Function"
   ]
  },
  {
   "cell_type": "code",
   "execution_count": null,
   "metadata": {},
   "outputs": [],
   "source": [
    "# Main program for truss structure\n",
    "# Coordinates - units L[mm]\n",
    "function TrussAssembleSolve(E,A)\n",
    "COO=[0 0; 2 0; 4 0 ;1 1; 3 1; -1 1; 5 1]\n",
    "COO=1000*COO\n",
    "DOF=size(COO,1)*2\n",
    "# Elements\n",
    "ELM=[1 2; 2 3; 6 4; 4 5; 5 7; 1 6; 1 4; 2 4; 2 5; 3 5; 3 7]\n",
    "# Properties (units F[N], L[mm])\n",
    "#E=125000\n",
    "#A=6\n",
    "# Assembling of stiffness matrix\n",
    "MSTF=zeros(DOF,DOF)\n",
    "X=zeros(2,2)\n",
    "for i in 1:size(ELM,1)\n",
    "X[1,:]=COO[ELM[i,1],:]\n",
    "X[2,:]=COO[ELM[i,2],:]\n",
    "STF=TrussElementStiffness(X,E,A)\n",
    "MSTF[2*ELM[i,1]-1:2*ELM[i,1],2*ELM[i,1]-\n",
    "1:2*ELM[i,1]]=MSTF[2*ELM[i,1]-1:2*ELM[i,1],2*ELM[i,1]-\n",
    "1:2*ELM[i,1]]+STF[1:2,1:2]\n",
    "MSTF[2*ELM[i,1]-1:2*ELM[i,1],2*ELM[i,2]-\n",
    "1:2*ELM[i,2]]=MSTF[2*ELM[i,1]-1:2*ELM[i,1],2*ELM[i,2]-\n",
    "1:2*ELM[i,2]]+STF[3:4,1:2]\n",
    "MSTF[2*ELM[i,2]-1:2*ELM[i,2],2*ELM[i,1]-\n",
    "1:2*ELM[i,1]]=MSTF[2*ELM[i,2]-1:2*ELM[i,2],2*ELM[i,1]-\n",
    "1:2*ELM[i,1]]+STF[1:2,3:4]\n",
    "MSTF[2*ELM[i,2]-1:2*ELM[i,2],2*ELM[i,2]-\n",
    "1:2*ELM[i,2]]=MSTF[2*ELM[i,2]-1:2*ELM[i,2],2*ELM[i,2]-\n",
    "1:2*ELM[i,2]]+STF[3:4,3:4]\n",
    "end\n",
    "# Constrains\n",
    "con=[12 13 14 15] # constrained DOF\n",
    "CDOF=size(con,2)\n",
    "# Forces\n",
    "dF=zeros(DOF,1)\n",
    "dF[2]=-5000\n",
    "dF[6]=-2000\n",
    "# Reduced stiffness matrix & force vector\n",
    "RSTF=MSTF[1:DOF-CDOF,1:DOF-CDOF]\n",
    "dFR=dF[1:DOF-CDOF]\n",
    "# Solving for displacements\n",
    "d=inv(RSTF)*dFR\n",
    "# End of main program\n",
    "return(d)\n",
    "end"
   ]
  },
  {
   "cell_type": "markdown",
   "metadata": {},
   "source": [
    "## Definition of the design of experiments function (doe)"
   ]
  },
  {
   "cell_type": "code",
   "execution_count": null,
   "metadata": {},
   "outputs": [],
   "source": [
    "function doe()\n",
    "    Y=zeros(10,16)\n",
    "    P=zeros(2,16)\n",
    "    cnt=0\n",
    "    for E in [125000 150000 175000 200000]\n",
    "        for A in [6 8 10 12]\n",
    "            Disp = TrussAssembleSolve(E, A)\n",
    "            #show(Disp)\n",
    "            cnt += 1\n",
    "            Y[:,cnt] = Disp\n",
    "            P[:,cnt] = [E;A]\n",
    "        end\n",
    "    end\n",
    "    #show(U)\n",
    "    return (Y,P)\n",
    "end"
   ]
  },
  {
   "cell_type": "markdown",
   "metadata": {},
   "source": [
    "## Definition of the calculation function for the matrix $B$ of coefficients of interpolation "
   ]
  },
  {
   "cell_type": "code",
   "execution_count": null,
   "metadata": {},
   "outputs": [],
   "source": [
    "function BlinMtx(A, p)\n",
    "    # Interpolation by the use of RBFs [Linear splines type]\n",
    "    # Normalization of P [0 1]\n",
    "    M = size(p, 1)\n",
    "    N = size(p, 2)\n",
    "    minP = zeros(M)\n",
    "    maxP = zeros(M)\n",
    "    x = zeros(M, N)\n",
    "    G = zeros(N, N)\n",
    "    for j = 1:M\n",
    "        minP[j] = minimum(p[j,:])\n",
    "        maxP[j] = maximum(p[j,:])\n",
    "        for i = 1:N\n",
    "            x[j,i] = (p[j,i] - minP[j]) / (maxP[j] - minP[j])\n",
    "        end\n",
    "    end\n",
    "    for i = 1:N\n",
    "        for j = 1:N\n",
    "            G[i,j] = sum((x[:,i] - x[:,j]).^2).^0.5\n",
    "        end\n",
    "    end\n",
    "    return A * inv(G)\n",
    "end"
   ]
  },
  {
   "cell_type": "markdown",
   "metadata": {},
   "source": [
    "## Definition of the calculation function for the vector $G$ of interpolation functions"
   ]
  },
  {
   "cell_type": "code",
   "execution_count": null,
   "metadata": {},
   "outputs": [],
   "source": [
    "function GlinVec(p, pX)\n",
    "    # Function that constructs G vector as function of given parameters\n",
    "    M=size(p,1)\n",
    "    N = size(p, 2); # The number of generated snapshots\n",
    "    minP = zeros(M)\n",
    "    maxP = zeros(M)\n",
    "    x = zeros(M, N)\n",
    "    G = zeros(N)\n",
    "    # Normalization of p\n",
    "    for j = 1:M\n",
    "        minP[j,1] = minimum(p[j,:])\n",
    "        maxP[j,1] = maximum(p[j,:])\n",
    "        for i = 1:N\n",
    "            x[j,i] = (p[j,i] - minP[j]) / (maxP[j] - minP[j])\n",
    "        end\n",
    "    end\n",
    "    gi(x,y) = (sum((x-y).^2).^0.5)\n",
    "    value = pX\n",
    "    for k = 1:N\n",
    "        G[k] = gi(value,x[:,k])\n",
    "    end\n",
    "    return G\n",
    "end"
   ]
  },
  {
   "cell_type": "markdown",
   "metadata": {},
   "source": [
    "## DOE execution for the snapshot  $Y$ and the parameter $P$ matrices calculation \n",
    "<img src=\"https://raw.githubusercontent.com/amdeld/ROM4SM.jl/master/img/Snapshotmatrix4FEM.png\" alt=\"Drawing\" style=\"width: 700px;\"/>\n",
    "\n",
    "$Y=\\left[\\begin{array}{cccccccccc}\n",
    "| & | & | & | & | & | & | & | & | & |\\\\\n",
    "\\vdots & \\vdots & \\vdots & \\vdots & \\vdots & \\vdots & \\vdots & \\vdots & \\vdots & \\vdots\\\\\n",
    "| & | & | & | & | & | & | & | & | & |\\\\\n",
    "y_{1} & y_{2} & y_{3} & y_{4} & y_{5} & y_{6} & y_{7} & y_{8} & y_{9} & y_{10}\\\\\n",
    "| & | & | & | & | & | & | & | & | & |\\\\\n",
    "\\vdots & \\vdots & \\vdots & \\vdots & \\vdots & \\vdots & \\vdots & \\vdots & \\vdots & \\vdots\\\\\n",
    "| & | & | & | & | & | & | & | & | & |\n",
    "\\end{array}\\right]$\n",
    "\n",
    "Range of Young modulus $E = \\{125000; 150000; 175000; 200000\\} (unit\\ MPa)$\n",
    "Range of cross section $A = \\{6; 8; 10; 12\\} (unit\\ mm)$"
   ]
  },
  {
   "cell_type": "code",
   "execution_count": null,
   "metadata": {},
   "outputs": [],
   "source": [
    "# Execute The design of experiments (DOE)\n",
    "Y,P=doe()\n",
    "# Wriing data into csv files\n",
    "CSV.write(\"data/X.csv\",DataFrame(P'))\n",
    "CSV.write(\"data/Y.csv\",DataFrame(Y))\n",
    "println(\"\\rThe Data - Snapshot matrix coming out from the DOE Y =\\r\")\n",
    "show(stdout,\"text/plain\", round.(Y;digits=2))\n",
    "println(\"\\n\\nThe Parameter matrix P coming out from the DOE P =\\r\")\n",
    "show(stdout,\"text/plain\", round.(P;digits=0))\n"
   ]
  },
  {
   "cell_type": "markdown",
   "metadata": {},
   "source": [
    "## Verification of the results for the first column ($E = 125000 MPa$ and $A = 6mm$) with the commercial finite element software MSC.Marc\n",
    "<img src=\"https://raw.githubusercontent.com/amdeld/ROM4SM.jl/master/img/TrussStructure_DisplacementX.png\" alt=\"Drawing\" style=\"width: 800px;\"/>\n",
    "<img src=\"https://raw.githubusercontent.com/amdeld/ROM4SM.jl/master/img/TrussStructure_DisplacementY.png\" alt=\"Drawing\" style=\"width: 800px;\"/>"
   ]
  },
  {
   "cell_type": "markdown",
   "metadata": {},
   "source": [
    "## POD 2 methodes are used here which give the same results (1. eigen decomposition and 2. singular value decompostion) followed by reconstruction and reduction steps"
   ]
  },
  {
   "cell_type": "markdown",
   "metadata": {},
   "source": [
    "1. Eigen decomposition"
   ]
  },
  {
   "cell_type": "code",
   "execution_count": null,
   "metadata": {},
   "outputs": [],
   "source": [
    "F=eigen(Y*Y')\n",
    "println(\"\\rEigenValues vector λ =\\r\")\n",
    "round.(F.values,digits=2)"
   ]
  },
  {
   "cell_type": "code",
   "execution_count": null,
   "metadata": {},
   "outputs": [],
   "source": [
    "println(\"\\rEigenVectors matrix ϕ =\\r\")\n",
    "ϕ=F.vectors\n",
    "round.(ϕ;digits=2)"
   ]
  },
  {
   "cell_type": "code",
   "execution_count": null,
   "metadata": {},
   "outputs": [],
   "source": [
    "println(\"\\rAmplitude matrix A =\\r\")\n",
    "A=F.vectors'*Y\n",
    "round.(A;digits=2)"
   ]
  },
  {
   "cell_type": "code",
   "execution_count": null,
   "metadata": {},
   "outputs": [],
   "source": [
    "println(\"\\rReconstruction of Yrecons = ϕA\\r\")\n",
    "Yrecons=ϕ*A\n",
    "round.(Yrecons;digits=2)"
   ]
  },
  {
   "cell_type": "code",
   "execution_count": null,
   "metadata": {},
   "outputs": [],
   "source": [
    "println(\"\\rReduction of Yapprox = ϕ10*A10'≈ Y\\r\")\n",
    "Yapprox=ϕ[:,10]*A[10,:]'\n",
    "round.(Yapprox;digits=2)"
   ]
  },
  {
   "cell_type": "code",
   "execution_count": null,
   "metadata": {},
   "outputs": [],
   "source": [
    "y1=ϕ[:,10]*A[10,:][1]\n",
    "println(\"\\ry1 = \\r\")\n",
    "round.(y1;digits=2)"
   ]
  },
  {
   "cell_type": "code",
   "execution_count": null,
   "metadata": {},
   "outputs": [],
   "source": [
    "y2=ϕ[:,10]*A[10,:][2]\n",
    "println(\"\\ry2 = \\r\")\n",
    "round.(y2;digits=2)"
   ]
  },
  {
   "cell_type": "markdown",
   "metadata": {},
   "source": [
    "2. SVD"
   ]
  },
  {
   "cell_type": "code",
   "execution_count": null,
   "metadata": {},
   "outputs": [],
   "source": [
    "#Calculate the SVD of the snapshot matrix\n",
    "Z=svd(Y)\n",
    "println(\"\\rSVD decomposition of the snaphot matrix=\\r\")\n",
    "Z"
   ]
  },
  {
   "cell_type": "markdown",
   "metadata": {},
   "source": [
    "* Modes"
   ]
  },
  {
   "cell_type": "code",
   "execution_count": null,
   "metadata": {},
   "outputs": [],
   "source": [
    "println(\"\\rSVD modes \\r\")\n",
    "round.(Z.U;digits=2)"
   ]
  },
  {
   "cell_type": "markdown",
   "metadata": {},
   "source": [
    "* Mode coefficients"
   ]
  },
  {
   "cell_type": "code",
   "execution_count": null,
   "metadata": {},
   "outputs": [],
   "source": [
    "println(\"\\rSVD modes coefficients\\r\")\n",
    "round.(diagm(Z.S)*Z.Vt;digits=2)"
   ]
  },
  {
   "cell_type": "code",
   "execution_count": null,
   "metadata": {},
   "outputs": [],
   "source": [
    "println(\"\\rReconstruction of Yrecons = UΣV* = \\r\")\n",
    "Yrecons=Z.U*diagm(Z.S)*Z.Vt\n",
    "round.(Yrecons;digits=2)"
   ]
  },
  {
   "cell_type": "code",
   "execution_count": null,
   "metadata": {},
   "outputs": [],
   "source": [
    "println(\"\\rThe approximation Ỹ is based on the first most energetic mode\")\n",
    "println(\"\\rỸ = \")\n",
    "Ỹ=Z.U[:,1]*(diagm(Z.S)*Z.Vt)[1,:]'\n",
    "round.(Ỹ;digits=2)"
   ]
  },
  {
   "cell_type": "code",
   "execution_count": null,
   "metadata": {},
   "outputs": [],
   "source": [
    "y1=Z.U[:,1]*(Z.S[1]*Z.Vt[1,:][1])\n",
    "println(\"\\r y1 = \\r\")\n",
    "round.(y1;digits=2)"
   ]
  },
  {
   "cell_type": "code",
   "execution_count": null,
   "metadata": {},
   "outputs": [],
   "source": [
    "y2=Z.U[:,1]*(Z.S[1]*Z.Vt[1,:][2])\n",
    "println(\"\\ry2 = \\r\")\n",
    "round.(y2;digits=2)"
   ]
  },
  {
   "cell_type": "markdown",
   "metadata": {},
   "source": [
    "# Interpolation\n",
    "For arbitray parameters, the combined use of radial basis functions (RBF) is required"
   ]
  },
  {
   "cell_type": "markdown",
   "metadata": {},
   "source": [
    "As a reminder\n",
    "* Parameter matrix $P$"
   ]
  },
  {
   "cell_type": "code",
   "execution_count": null,
   "metadata": {},
   "outputs": [],
   "source": [
    "println(\"\\rP=\\r\")\n",
    "show(stdout,\"text/plain\", round.(P;digits=0))"
   ]
  },
  {
   "cell_type": "markdown",
   "metadata": {},
   "source": [
    "* Amplitude matrix $A$"
   ]
  },
  {
   "cell_type": "code",
   "execution_count": null,
   "metadata": {},
   "outputs": [],
   "source": [
    "println(\"\\rA = \\r\")\n",
    "round.(A;digits=2)"
   ]
  },
  {
   "cell_type": "markdown",
   "metadata": {},
   "source": [
    "* POD mode matrix $\\phi$"
   ]
  },
  {
   "cell_type": "code",
   "execution_count": null,
   "metadata": {},
   "outputs": [],
   "source": [
    "println(\"\\rϕ = \\r\")\n",
    "round.(ϕ;digits=2)"
   ]
  },
  {
   "cell_type": "markdown",
   "metadata": {},
   "source": [
    "* Interpolation coefficient matrix $B$"
   ]
  },
  {
   "cell_type": "code",
   "execution_count": null,
   "metadata": {},
   "outputs": [],
   "source": [
    "B=BlinMtx(A,P)\n",
    "round.(B;digits=2)"
   ]
  },
  {
   "cell_type": "markdown",
   "metadata": {},
   "source": [
    "* Calculation of the nodal displacement vector for the normalized point $Pint$ to be interpolated ($E = 135000 Mpa ; A = 11 mm^{2}$)"
   ]
  },
  {
   "cell_type": "code",
   "execution_count": null,
   "metadata": {},
   "outputs": [],
   "source": [
    "p=scatter(zeros(1),zeros(1),c=:blue, leg=false,xformatter=x->string(Int(x/1e3)), xlims=(120000,200500),ylims=(5,13),bg=:darkorange);\n",
    "for i in 1:16\n",
    "scatter!([P[:,i][1]],[P[:,i][2]],c=:blue, leg=false);\n",
    "end\n",
    "scatter!([135000.],[11.], shape=:square, title=\"Design of Experiments\", xlabel=\"Young modulus E\",ylabel=\"Cross section A\");\n",
    "savefig(\"img/doe.png\");\n",
    "display(p)"
   ]
  },
  {
   "cell_type": "code",
   "execution_count": null,
   "metadata": {},
   "outputs": [],
   "source": [
    "Pint=[(135-125)/(200-125);(11-6)/(12-6)]\n",
    "round.(Pint;digits=2);"
   ]
  },
  {
   "cell_type": "markdown",
   "metadata": {},
   "source": [
    "* Linear spline interpolation functions vector $g$"
   ]
  },
  {
   "cell_type": "code",
   "execution_count": null,
   "metadata": {},
   "outputs": [],
   "source": [
    "g=GlinVec(P,Pint)\n",
    "round.(g;digits=2)"
   ]
  },
  {
   "cell_type": "markdown",
   "metadata": {},
   "source": [
    "Results of the interpolated nodal displacement vector"
   ]
  },
  {
   "cell_type": "code",
   "execution_count": null,
   "metadata": {},
   "outputs": [],
   "source": [
    "ũ=ϕ*B*g\n",
    "round.(ũ;digits=2)"
   ]
  },
  {
   "cell_type": "markdown",
   "metadata": {},
   "source": [
    "to be compared to the result of the full high fidelity fem results"
   ]
  },
  {
   "cell_type": "code",
   "execution_count": null,
   "metadata": {},
   "outputs": [],
   "source": [
    "ufem=TrussAssembleSolve(135000,11)\n",
    "round.(ufem;digits=2)"
   ]
  },
  {
   "cell_type": "code",
   "execution_count": null,
   "metadata": {},
   "outputs": [],
   "source": [
    "writedlm(\"data/uinter.txt\",ũ,',')\n",
    "writedlm(\"data/ufem.txt\",ufem,',')"
   ]
  },
  {
   "cell_type": "code",
   "execution_count": null,
   "metadata": {},
   "outputs": [],
   "source": [
    "p=plot(Y, xlims=(1,10),legend=false,show=true)\n",
    "p=plot!(ũ,shape =:square,xlims=(1,10),legend=false)\n",
    "scatter!(ufem,bg=:darkorange)\n",
    "display(p)\n",
    "savefig(\"img/interpolation.png\")"
   ]
  },
  {
   "cell_type": "code",
   "execution_count": null,
   "metadata": {},
   "outputs": [],
   "source": []
  }
 ],
 "metadata": {
  "kernelspec": {
   "display_name": "Julia 1.5.2",
   "language": "julia",
   "name": "julia-1.5"
  },
  "language_info": {
   "file_extension": ".jl",
   "mimetype": "application/julia",
   "name": "julia",
   "version": "1.5.2"
  }
 },
 "nbformat": 4,
 "nbformat_minor": 4
}
